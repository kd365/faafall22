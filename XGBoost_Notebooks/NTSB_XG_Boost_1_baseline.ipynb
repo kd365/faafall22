{
 "cells": [
  {
   "cell_type": "markdown",
   "id": "735ae0e4-e2f2-42a5-a57d-d487f01c1d5e",
   "metadata": {},
   "source": [
    "# NTSB Modeling XG BOOST"
   ]
  },
  {
   "cell_type": "markdown",
   "id": "a03973a2-48b9-4aaa-bc5e-83e5579dbfd8",
   "metadata": {},
   "source": [
    "## Notes"
   ]
  },
  {
   "cell_type": "markdown",
   "id": "f2072743-f6ae-4af1-9723-60178cac0f35",
   "metadata": {},
   "source": [
    "1. Unknowns all filled with nan values\n",
    "2. Rebalancing done as random under sampling and over sampling\n",
    "3. 4 categoris (consider 3 categories) (consider SMOTE)"
   ]
  },
  {
   "cell_type": "markdown",
   "id": "dcf5511e-698f-404b-94cb-18c31ab5f83a",
   "metadata": {
    "tags": []
   },
   "source": [
    "## Create data strings"
   ]
  },
  {
   "cell_type": "code",
   "execution_count": 29,
   "id": "18686855-c8ee-40be-bb25-4c59b5134967",
   "metadata": {},
   "outputs": [],
   "source": [
    "import pandas as pd\n",
    "import numpy as np\n",
    "import csv\n",
    "import re\n",
    "from collections import Counter\n",
    "from imblearn.under_sampling import RandomUnderSampler\n",
    "from imblearn.over_sampling import RandomOverSampler\n",
    "from sklearn.ensemble import HistGradientBoostingClassifier\n",
    "from sklearn.ensemble import GradientBoostingClassifier\n",
    "from sklearn.model_selection import train_test_split\n",
    "from sklearn import metrics"
   ]
  },
  {
   "cell_type": "code",
   "execution_count": 30,
   "id": "094ff551-8894-43cc-a0a1-bcae75d37773",
   "metadata": {},
   "outputs": [
    {
     "name": "stderr",
     "output_type": "stream",
     "text": [
      "C:\\Users\\htwal\\AppData\\Local\\Temp\\ipykernel_28088\\421915254.py:1: DtypeWarning: Columns (3,17,18,23,44,45,78,80,81,82,83) have mixed types. Specify dtype option on import or set low_memory=False.\n",
      "  data = pd.read_csv('labeled_clean_ntsb.csv')\n"
     ]
    }
   ],
   "source": [
    "data = pd.read_csv('labeled_clean_ntsb.csv')"
   ]
  },
  {
   "cell_type": "code",
   "execution_count": 31,
   "id": "76b35fd8-add1-425b-b071-6d00d4836190",
   "metadata": {},
   "outputs": [],
   "source": [
    "time1 = pd.read_csv('flight_time_pt.csv')\n",
    "time2 = pd.read_csv('flight_time_pre.csv')"
   ]
  },
  {
   "cell_type": "code",
   "execution_count": 32,
   "id": "e1c7f5b0-a2e1-4617-8739-dd62427c7c1a",
   "metadata": {},
   "outputs": [],
   "source": [
    "time = pd.concat([time1, time2])\n",
    "time = time.drop(['Aircraft_Key', 'crew_no'], axis=1)"
   ]
  },
  {
   "cell_type": "code",
   "execution_count": 33,
   "id": "7758e5c6-ed46-4767-9ec5-15adf829ceb8",
   "metadata": {},
   "outputs": [],
   "source": [
    "time['ev_id'] = time['ev_id'].str.lower()"
   ]
  },
  {
   "cell_type": "code",
   "execution_count": 34,
   "id": "e7fb8d3d-b14b-4c1f-93c6-c5d93001a657",
   "metadata": {
    "tags": []
   },
   "outputs": [],
   "source": [
    "# create a pivot table:\n",
    "time_pt = pd.pivot_table(time, values='flight_hours', index=['ev_id'], columns=['flight_craft'])"
   ]
  },
  {
   "cell_type": "code",
   "execution_count": 35,
   "id": "ff221481-3de6-4b25-a962-199bbd7c9e65",
   "metadata": {},
   "outputs": [
    {
     "data": {
      "text/plain": [
       "(78293, 12)"
      ]
     },
     "execution_count": 35,
     "metadata": {},
     "output_type": "execute_result"
    }
   ],
   "source": [
    "time_pt.shape"
   ]
  },
  {
   "cell_type": "code",
   "execution_count": 36,
   "id": "984ee501-ea8f-4d1c-924a-9d012c0f41b6",
   "metadata": {},
   "outputs": [],
   "source": [
    "data = data.fillna(np.nan)\n",
    "data = data.replace('', np.nan)\n",
    "data = data.replace('nan', np.nan)\n",
    "data = data.replace('unk', np.nan)\n",
    "data = data.replace('unknown', np.nan)"
   ]
  },
  {
   "cell_type": "code",
   "execution_count": 37,
   "id": "c65adb03-6d2b-42c0-8e9b-36c830d5e2e8",
   "metadata": {},
   "outputs": [],
   "source": [
    "# merge with main data set\n",
    "data_set = data.merge(time_pt, left_on='aircraft_ev_id', right_on='ev_id')"
   ]
  },
  {
   "cell_type": "code",
   "execution_count": 38,
   "id": "8b6122c4-7b11-4546-ac54-ab0049068e07",
   "metadata": {},
   "outputs": [],
   "source": [
    "# Create training dataset:\n",
    "cols = ['Unnamed: 0', 'aircraft_ev_id', 'far_part', 'damage', 'phase_flt_spec', 'ntsb_no', \n",
    "        'ev_year', 'ev_type', 'apt_dist', 'apt_dir', 'ev_highest_injury', 'inj_tot_t', 'secondary_eng_mfgr',\n",
    "        'crew_inj_level', 'inj_target', 'damage_target', 'hp_or_lbs', 'carb_fuel_injection', 'wx_src_iic', 'wx_obs_fac_id', 'wx_obs_elev', 'wx_obs_dir', 'wx_obs_dist',\n",
    "        'gust_ind', 'wind_vel_ind', 'crew_category', 'pilot_flying', 'med_certf', 'INC', 'LTA', 'GLDR',\n",
    "        'REL']\n",
    "data_set = data_set.drop(cols, axis=1)"
   ]
  },
  {
   "cell_type": "code",
   "execution_count": 39,
   "id": "ec2756fc-3ff8-4468-9598-3554918e222a",
   "metadata": {},
   "outputs": [],
   "source": [
    "data_set = data_set.applymap(lambda x: re.sub(r'\\bn\\b', 'no', x) if type(x) == str else x)\n",
    "data_set = data_set.applymap(lambda x: re.sub(r'\\by\\b', 'yes', x) if type(x) == str else x)"
   ]
  },
  {
   "cell_type": "code",
   "execution_count": 40,
   "id": "5a10f659-37ff-4f4d-b2e7-f1d4b5937e80",
   "metadata": {},
   "outputs": [],
   "source": [
    "data_set = data_set.applymap(lambda x: x.strip() if type(x) == str else x)"
   ]
  },
  {
   "cell_type": "code",
   "execution_count": 41,
   "id": "4be8e179-c3a0-4a82-9f61-cfb5f9caf48b",
   "metadata": {},
   "outputs": [],
   "source": [
    "data_set[data_set.select_dtypes(['object']).columns] = data_set.select_dtypes(['object']).astype('category')"
   ]
  },
  {
   "cell_type": "code",
   "execution_count": 42,
   "id": "c27f101b-0393-4b23-9061-0ee0ad305518",
   "metadata": {},
   "outputs": [],
   "source": [
    "data_set[data_set.select_dtypes(['category']).columns] = data_set.select_dtypes(['category']).apply(lambda x: x.cat.codes)"
   ]
  },
  {
   "cell_type": "code",
   "execution_count": 43,
   "id": "4fb1782b-4ba9-4d3c-8773-df23c0742159",
   "metadata": {},
   "outputs": [],
   "source": [
    "cat_cols = data_set.select_dtypes(include='category').columns.tolist()"
   ]
  },
  {
   "cell_type": "code",
   "execution_count": 44,
   "id": "b6d663cf-6c0a-453f-a828-fb41198313fc",
   "metadata": {},
   "outputs": [],
   "source": [
    "data_set.to_csv('NTSB_baseline_for_model_unbalanced_xgboost.csv')"
   ]
  },
  {
   "cell_type": "markdown",
   "id": "f429d313-412a-4214-a825-0cf6a1461fe5",
   "metadata": {
    "tags": []
   },
   "source": [
    "### Create a rebalanced dataset"
   ]
  },
  {
   "cell_type": "code",
   "execution_count": 45,
   "id": "3be703a1-e4e1-4418-84b9-bc6866b5cdae",
   "metadata": {},
   "outputs": [],
   "source": [
    "target = data_set['target'].astype(int)"
   ]
  },
  {
   "cell_type": "code",
   "execution_count": 46,
   "id": "92db93ca-8c85-4509-9402-686c84fade04",
   "metadata": {},
   "outputs": [
    {
     "data": {
      "text/plain": [
       "3    33403\n",
       "4    11968\n",
       "2      589\n",
       "1       92\n",
       "Name: target, dtype: int64"
      ]
     },
     "execution_count": 46,
     "metadata": {},
     "output_type": "execute_result"
    }
   ],
   "source": [
    "target.value_counts()"
   ]
  },
  {
   "cell_type": "code",
   "execution_count": 47,
   "id": "027b0202-ce42-4958-8481-1ea666730b26",
   "metadata": {},
   "outputs": [],
   "source": [
    "data_vals = data_set.drop(['target'], axis=1)"
   ]
  },
  {
   "cell_type": "code",
   "execution_count": 48,
   "id": "aed19939-c5e0-4d11-bed9-967366f350e2",
   "metadata": {},
   "outputs": [
    {
     "name": "stdout",
     "output_type": "stream",
     "text": [
      "Resampled dataset shape Counter({3: 11968, 4: 11968, 2: 589, 1: 92})\n",
      "Resampled dataset shape Counter({1: 11968, 2: 11968, 3: 11968, 4: 11968})\n"
     ]
    }
   ],
   "source": [
    "# undersample 3\n",
    "rus = RandomUnderSampler(sampling_strategy={3:11968}, random_state=25)\n",
    "X_res, y_res = rus.fit_resample(data_vals, target)\n",
    "print('Resampled dataset shape %s' % Counter(y_res))\n",
    "\n",
    "# oversample 1, 2\n",
    "ros = RandomOverSampler(random_state=33)\n",
    "X_bal, y_bal = ros.fit_resample(X_res, y_res)\n",
    "print('Resampled dataset shape %s' % Counter(y_bal))"
   ]
  },
  {
   "cell_type": "code",
   "execution_count": 49,
   "id": "cd45bc7c-ae13-4cfa-baca-e580da7c845e",
   "metadata": {},
   "outputs": [
    {
     "name": "stdout",
     "output_type": "stream",
     "text": [
      "47872\n",
      "47872\n"
     ]
    }
   ],
   "source": [
    "print(len(X_bal))\n",
    "print(len(y_bal))"
   ]
  },
  {
   "cell_type": "markdown",
   "id": "59358d6c-206b-4766-8434-892f70c6967c",
   "metadata": {},
   "source": [
    "## Model Setup"
   ]
  },
  {
   "cell_type": "code",
   "execution_count": 50,
   "id": "3451a005-92e4-4d43-87cb-db3d83921017",
   "metadata": {},
   "outputs": [],
   "source": [
    "# train test split\n",
    "X_train, X_test, y_train, y_test = train_test_split(X_bal, y_bal, test_size=0.20, random_state=33)"
   ]
  },
  {
   "cell_type": "code",
   "execution_count": 51,
   "id": "81263368-430c-4af7-90af-8cefec20f74b",
   "metadata": {},
   "outputs": [],
   "source": [
    "xg_boost = HistGradientBoostingClassifier(categorical_features=cat_cols).fit(X_train, y_train)"
   ]
  },
  {
   "cell_type": "code",
   "execution_count": 52,
   "id": "df38f1fe-bc29-4257-86c3-9852ef220e03",
   "metadata": {},
   "outputs": [
    {
     "data": {
      "text/plain": [
       "0.924328276366295"
      ]
     },
     "execution_count": 52,
     "metadata": {},
     "output_type": "execute_result"
    }
   ],
   "source": [
    "xg_boost.score(X_train, y_train)"
   ]
  },
  {
   "cell_type": "code",
   "execution_count": 53,
   "id": "cfe618dc-d761-4b08-b17d-143ab6f56ff5",
   "metadata": {},
   "outputs": [],
   "source": [
    "y_pred = xg_boost.predict(X_test)"
   ]
  },
  {
   "cell_type": "code",
   "execution_count": 54,
   "id": "4f63eb77-c064-4dea-8d9a-efd2c4db46e6",
   "metadata": {},
   "outputs": [],
   "source": [
    "f1 = metrics.f1_score(y_test, y_pred, average='weighted')\n",
    "accuracy = metrics.accuracy_score(y_test, y_pred)\n",
    "precision = metrics.precision_score(y_test, y_pred, average='weighted')\n",
    "recall = metrics.recall_score(y_test, y_pred, average='weighted')"
   ]
  },
  {
   "cell_type": "code",
   "execution_count": 60,
   "id": "8ff511bc-a753-45ff-afaf-c9a6c7562500",
   "metadata": {},
   "outputs": [
    {
     "name": "stdout",
     "output_type": "stream",
     "text": [
      "f1 score: 85.05\n",
      "Accuracy: 85.23\n",
      "Precision: 85.03\n",
      "Recall: 85.23\n"
     ]
    }
   ],
   "source": [
    "print(f'f1 score: {(f1*100).round(2)}')\n",
    "print(f'Accuracy: {(accuracy*100).round(2)}')\n",
    "print(f'Precision: {(precision*100).round(2)}')\n",
    "print(f'Recall: {(recall*100).round(2)}')"
   ]
  },
  {
   "cell_type": "code",
   "execution_count": 56,
   "id": "94cb8e15-7fa8-4cf0-8b84-3125db0e8f79",
   "metadata": {},
   "outputs": [
    {
     "data": {
      "text/plain": [
       "<sklearn.metrics._plot.confusion_matrix.ConfusionMatrixDisplay at 0x23898a2e250>"
      ]
     },
     "execution_count": 56,
     "metadata": {},
     "output_type": "execute_result"
    },
    {
     "data": {
      "image/png": "[encoded data removed]",
      "text/plain": [
       "<Figure size 432x288 with 2 Axes>"
      ]
     },
     "metadata": {
      "needs_background": "light"
     },
     "output_type": "display_data"
    }
   ],
   "source": [
    "cm = metrics.confusion_matrix(y_test, y_pred)\n",
    "metrics.ConfusionMatrixDisplay(cm).plot()\n"
   ]
  },
  {
   "cell_type": "code",
   "execution_count": null,
   "id": "8cc5e610-8e56-42c3-8f16-745915556f2f",
   "metadata": {},
   "outputs": [],
   "source": []
  }
 ],
 "metadata": {
  "kernelspec": {
   "display_name": "Python 3 (ipykernel)",
   "language": "python",
   "name": "python3"
  },
  "language_info": {
   "codemirror_mode": {
    "name": "ipython",
    "version": 3
   },
   "file_extension": ".py",
   "mimetype": "text/x-python",
   "name": "python",
   "nbconvert_exporter": "python",
   "pygments_lexer": "ipython3",
   "version": "3.9.12"
  }
 },
 "nbformat": 4,
 "nbformat_minor": 5
}
