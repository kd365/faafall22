{
  "cells": [
    {
      "cell_type": "markdown",
      "metadata": {
        "id": "view-in-github",
        "colab_type": "text"
      },
      "source": [
        "<a href=\"https://colab.research.google.com/github/kd365/faafall22/blob/hunter_19mar/cleaning.ipynb\" target=\"_parent\"><img src=\"https://colab.research.google.com/assets/colab-badge.svg\" alt=\"Open In Colab\"/></a>"
      ]
    },
    {
      "cell_type": "markdown",
      "source": [
        "# NTSB Cleaning Notebook"
      ],
      "metadata": {
        "id": "uFmGuv_e813K"
      },
      "id": "uFmGuv_e813K"
    },
    {
      "cell_type": "markdown",
      "source": [
        "## Steps:\n",
        "1. Import libraries and raw data\n",
        "2. Initial column drops\n",
        "3. Cleaning steps that wil apply to entire dataframe\n",
        "4. Cleaning each column\n",
        "\n",
        "**Cleaning Plan:**\n",
        "Hunter:\n",
        "- cols 0-22\n",
        "Kathleen:\n",
        "- col 23-45\n",
        "Eric:\n",
        "- col 46-68\n",
        "Chi:\n",
        "- col 69-85\n"
      ],
      "metadata": {
        "id": "t83UG5G79C69"
      },
      "id": "t83UG5G79C69"
    },
    {
      "cell_type": "markdown",
      "source": [
        "### 1. Import libraries"
      ],
      "metadata": {
        "id": "G1TLyT5-8xS3"
      },
      "id": "G1TLyT5-8xS3"
    },
    {
      "cell_type": "code",
      "source": [
        "from google.colab import files\n",
        "import pandas as pd\n",
        "\n",
        "uploaded = files.upload()"
      ],
      "metadata": {
        "id": "w0dmdVmRXvEp",
        "outputId": "76a7c738-f3c0-48a7-ae49-a93e2d417aaa",
        "colab": {
          "base_uri": "https://localhost:8080/",
          "height": 366
        }
      },
      "id": "w0dmdVmRXvEp",
      "execution_count": 5,
      "outputs": [
        {
          "output_type": "display_data",
          "data": {
            "text/plain": [
              "<IPython.core.display.HTML object>"
            ],
            "text/html": [
              "\n",
              "     <input type=\"file\" id=\"files-4895ee26-107a-4ce7-9462-bb0f21cebf7a\" name=\"files[]\" multiple disabled\n",
              "        style=\"border:none\" />\n",
              "     <output id=\"result-4895ee26-107a-4ce7-9462-bb0f21cebf7a\">\n",
              "      Upload widget is only available when the cell has been executed in the\n",
              "      current browser session. Please rerun this cell to enable.\n",
              "      </output>\n",
              "      <script>// Copyright 2017 Google LLC\n",
              "//\n",
              "// Licensed under the Apache License, Version 2.0 (the \"License\");\n",
              "// you may not use this file except in compliance with the License.\n",
              "// You may obtain a copy of the License at\n",
              "//\n",
              "//      http://www.apache.org/licenses/LICENSE-2.0\n",
              "//\n",
              "// Unless required by applicable law or agreed to in writing, software\n",
              "// distributed under the License is distributed on an \"AS IS\" BASIS,\n",
              "// WITHOUT WARRANTIES OR CONDITIONS OF ANY KIND, either express or implied.\n",
              "// See the License for the specific language governing permissions and\n",
              "// limitations under the License.\n",
              "\n",
              "/**\n",
              " * @fileoverview Helpers for google.colab Python module.\n",
              " */\n",
              "(function(scope) {\n",
              "function span(text, styleAttributes = {}) {\n",
              "  const element = document.createElement('span');\n",
              "  element.textContent = text;\n",
              "  for (const key of Object.keys(styleAttributes)) {\n",
              "    element.style[key] = styleAttributes[key];\n",
              "  }\n",
              "  return element;\n",
              "}\n",
              "\n",
              "// Max number of bytes which will be uploaded at a time.\n",
              "const MAX_PAYLOAD_SIZE = 100 * 1024;\n",
              "\n",
              "function _uploadFiles(inputId, outputId) {\n",
              "  const steps = uploadFilesStep(inputId, outputId);\n",
              "  const outputElement = document.getElementById(outputId);\n",
              "  // Cache steps on the outputElement to make it available for the next call\n",
              "  // to uploadFilesContinue from Python.\n",
              "  outputElement.steps = steps;\n",
              "\n",
              "  return _uploadFilesContinue(outputId);\n",
              "}\n",
              "\n",
              "// This is roughly an async generator (not supported in the browser yet),\n",
              "// where there are multiple asynchronous steps and the Python side is going\n",
              "// to poll for completion of each step.\n",
              "// This uses a Promise to block the python side on completion of each step,\n",
              "// then passes the result of the previous step as the input to the next step.\n",
              "function _uploadFilesContinue(outputId) {\n",
              "  const outputElement = document.getElementById(outputId);\n",
              "  const steps = outputElement.steps;\n",
              "\n",
              "  const next = steps.next(outputElement.lastPromiseValue);\n",
              "  return Promise.resolve(next.value.promise).then((value) => {\n",
              "    // Cache the last promise value to make it available to the next\n",
              "    // step of the generator.\n",
              "    outputElement.lastPromiseValue = value;\n",
              "    return next.value.response;\n",
              "  });\n",
              "}\n",
              "\n",
              "/**\n",
              " * Generator function which is called between each async step of the upload\n",
              " * process.\n",
              " * @param {string} inputId Element ID of the input file picker element.\n",
              " * @param {string} outputId Element ID of the output display.\n",
              " * @return {!Iterable<!Object>} Iterable of next steps.\n",
              " */\n",
              "function* uploadFilesStep(inputId, outputId) {\n",
              "  const inputElement = document.getElementById(inputId);\n",
              "  inputElement.disabled = false;\n",
              "\n",
              "  const outputElement = document.getElementById(outputId);\n",
              "  outputElement.innerHTML = '';\n",
              "\n",
              "  const pickedPromise = new Promise((resolve) => {\n",
              "    inputElement.addEventListener('change', (e) => {\n",
              "      resolve(e.target.files);\n",
              "    });\n",
              "  });\n",
              "\n",
              "  const cancel = document.createElement('button');\n",
              "  inputElement.parentElement.appendChild(cancel);\n",
              "  cancel.textContent = 'Cancel upload';\n",
              "  const cancelPromise = new Promise((resolve) => {\n",
              "    cancel.onclick = () => {\n",
              "      resolve(null);\n",
              "    };\n",
              "  });\n",
              "\n",
              "  // Wait for the user to pick the files.\n",
              "  const files = yield {\n",
              "    promise: Promise.race([pickedPromise, cancelPromise]),\n",
              "    response: {\n",
              "      action: 'starting',\n",
              "    }\n",
              "  };\n",
              "\n",
              "  cancel.remove();\n",
              "\n",
              "  // Disable the input element since further picks are not allowed.\n",
              "  inputElement.disabled = true;\n",
              "\n",
              "  if (!files) {\n",
              "    return {\n",
              "      response: {\n",
              "        action: 'complete',\n",
              "      }\n",
              "    };\n",
              "  }\n",
              "\n",
              "  for (const file of files) {\n",
              "    const li = document.createElement('li');\n",
              "    li.append(span(file.name, {fontWeight: 'bold'}));\n",
              "    li.append(span(\n",
              "        `(${file.type || 'n/a'}) - ${file.size} bytes, ` +\n",
              "        `last modified: ${\n",
              "            file.lastModifiedDate ? file.lastModifiedDate.toLocaleDateString() :\n",
              "                                    'n/a'} - `));\n",
              "    const percent = span('0% done');\n",
              "    li.appendChild(percent);\n",
              "\n",
              "    outputElement.appendChild(li);\n",
              "\n",
              "    const fileDataPromise = new Promise((resolve) => {\n",
              "      const reader = new FileReader();\n",
              "      reader.onload = (e) => {\n",
              "        resolve(e.target.result);\n",
              "      };\n",
              "      reader.readAsArrayBuffer(file);\n",
              "    });\n",
              "    // Wait for the data to be ready.\n",
              "    let fileData = yield {\n",
              "      promise: fileDataPromise,\n",
              "      response: {\n",
              "        action: 'continue',\n",
              "      }\n",
              "    };\n",
              "\n",
              "    // Use a chunked sending to avoid message size limits. See b/62115660.\n",
              "    let position = 0;\n",
              "    do {\n",
              "      const length = Math.min(fileData.byteLength - position, MAX_PAYLOAD_SIZE);\n",
              "      const chunk = new Uint8Array(fileData, position, length);\n",
              "      position += length;\n",
              "\n",
              "      const base64 = btoa(String.fromCharCode.apply(null, chunk));\n",
              "      yield {\n",
              "        response: {\n",
              "          action: 'append',\n",
              "          file: file.name,\n",
              "          data: base64,\n",
              "        },\n",
              "      };\n",
              "\n",
              "      let percentDone = fileData.byteLength === 0 ?\n",
              "          100 :\n",
              "          Math.round((position / fileData.byteLength) * 100);\n",
              "      percent.textContent = `${percentDone}% done`;\n",
              "\n",
              "    } while (position < fileData.byteLength);\n",
              "  }\n",
              "\n",
              "  // All done.\n",
              "  yield {\n",
              "    response: {\n",
              "      action: 'complete',\n",
              "    }\n",
              "  };\n",
              "}\n",
              "\n",
              "scope.google = scope.google || {};\n",
              "scope.google.colab = scope.google.colab || {};\n",
              "scope.google.colab._files = {\n",
              "  _uploadFiles,\n",
              "  _uploadFilesContinue,\n",
              "};\n",
              "})(self);\n",
              "</script> "
            ]
          },
          "metadata": {}
        },
        {
          "output_type": "error",
          "ename": "KeyboardInterrupt",
          "evalue": "ignored",
          "traceback": [
            "\u001b[0;31m---------------------------------------------------------------------------\u001b[0m",
            "\u001b[0;31mKeyboardInterrupt\u001b[0m                         Traceback (most recent call last)",
            "\u001b[0;32m<ipython-input-5-7d4afa71e9f6>\u001b[0m in \u001b[0;36m<module>\u001b[0;34m\u001b[0m\n\u001b[1;32m      2\u001b[0m \u001b[0;32mimport\u001b[0m \u001b[0mpandas\u001b[0m \u001b[0;32mas\u001b[0m \u001b[0mpd\u001b[0m\u001b[0;34m\u001b[0m\u001b[0;34m\u001b[0m\u001b[0m\n\u001b[1;32m      3\u001b[0m \u001b[0;34m\u001b[0m\u001b[0m\n\u001b[0;32m----> 4\u001b[0;31m \u001b[0muploaded\u001b[0m \u001b[0;34m=\u001b[0m \u001b[0mfiles\u001b[0m\u001b[0;34m.\u001b[0m\u001b[0mupload\u001b[0m\u001b[0;34m(\u001b[0m\u001b[0;34m)\u001b[0m\u001b[0;34m\u001b[0m\u001b[0;34m\u001b[0m\u001b[0m\n\u001b[0m",
            "\u001b[0;32m/usr/local/lib/python3.9/dist-packages/google/colab/files.py\u001b[0m in \u001b[0;36mupload\u001b[0;34m()\u001b[0m\n\u001b[1;32m     67\u001b[0m   \"\"\"\n\u001b[1;32m     68\u001b[0m \u001b[0;34m\u001b[0m\u001b[0m\n\u001b[0;32m---> 69\u001b[0;31m   \u001b[0muploaded_files\u001b[0m \u001b[0;34m=\u001b[0m \u001b[0m_upload_files\u001b[0m\u001b[0;34m(\u001b[0m\u001b[0mmultiple\u001b[0m\u001b[0;34m=\u001b[0m\u001b[0;32mTrue\u001b[0m\u001b[0;34m)\u001b[0m\u001b[0;34m\u001b[0m\u001b[0;34m\u001b[0m\u001b[0m\n\u001b[0m\u001b[1;32m     70\u001b[0m   \u001b[0;31m# Mapping from original filename to filename as saved locally.\u001b[0m\u001b[0;34m\u001b[0m\u001b[0;34m\u001b[0m\u001b[0m\n\u001b[1;32m     71\u001b[0m   \u001b[0mlocal_filenames\u001b[0m \u001b[0;34m=\u001b[0m \u001b[0mdict\u001b[0m\u001b[0;34m(\u001b[0m\u001b[0;34m)\u001b[0m\u001b[0;34m\u001b[0m\u001b[0;34m\u001b[0m\u001b[0m\n",
            "\u001b[0;32m/usr/local/lib/python3.9/dist-packages/google/colab/files.py\u001b[0m in \u001b[0;36m_upload_files\u001b[0;34m(multiple)\u001b[0m\n\u001b[1;32m    151\u001b[0m \u001b[0;34m\u001b[0m\u001b[0m\n\u001b[1;32m    152\u001b[0m   \u001b[0;31m# First result is always an indication that the file picker has completed.\u001b[0m\u001b[0;34m\u001b[0m\u001b[0;34m\u001b[0m\u001b[0m\n\u001b[0;32m--> 153\u001b[0;31m   result = _output.eval_js(\n\u001b[0m\u001b[1;32m    154\u001b[0m       'google.colab._files._uploadFiles(\"{input_id}\", \"{output_id}\")'.format(\n\u001b[1;32m    155\u001b[0m           \u001b[0minput_id\u001b[0m\u001b[0;34m=\u001b[0m\u001b[0minput_id\u001b[0m\u001b[0;34m,\u001b[0m \u001b[0moutput_id\u001b[0m\u001b[0;34m=\u001b[0m\u001b[0moutput_id\u001b[0m\u001b[0;34m\u001b[0m\u001b[0;34m\u001b[0m\u001b[0m\n",
            "\u001b[0;32m/usr/local/lib/python3.9/dist-packages/google/colab/output/_js.py\u001b[0m in \u001b[0;36meval_js\u001b[0;34m(script, ignore_result, timeout_sec)\u001b[0m\n\u001b[1;32m     38\u001b[0m   \u001b[0;32mif\u001b[0m \u001b[0mignore_result\u001b[0m\u001b[0;34m:\u001b[0m\u001b[0;34m\u001b[0m\u001b[0;34m\u001b[0m\u001b[0m\n\u001b[1;32m     39\u001b[0m     \u001b[0;32mreturn\u001b[0m\u001b[0;34m\u001b[0m\u001b[0;34m\u001b[0m\u001b[0m\n\u001b[0;32m---> 40\u001b[0;31m   \u001b[0;32mreturn\u001b[0m \u001b[0m_message\u001b[0m\u001b[0;34m.\u001b[0m\u001b[0mread_reply_from_input\u001b[0m\u001b[0;34m(\u001b[0m\u001b[0mrequest_id\u001b[0m\u001b[0;34m,\u001b[0m \u001b[0mtimeout_sec\u001b[0m\u001b[0;34m)\u001b[0m\u001b[0;34m\u001b[0m\u001b[0;34m\u001b[0m\u001b[0m\n\u001b[0m\u001b[1;32m     41\u001b[0m \u001b[0;34m\u001b[0m\u001b[0m\n\u001b[1;32m     42\u001b[0m \u001b[0;34m\u001b[0m\u001b[0m\n",
            "\u001b[0;32m/usr/local/lib/python3.9/dist-packages/google/colab/_message.py\u001b[0m in \u001b[0;36mread_reply_from_input\u001b[0;34m(message_id, timeout_sec)\u001b[0m\n\u001b[1;32m     95\u001b[0m     \u001b[0mreply\u001b[0m \u001b[0;34m=\u001b[0m \u001b[0m_read_next_input_message\u001b[0m\u001b[0;34m(\u001b[0m\u001b[0;34m)\u001b[0m\u001b[0;34m\u001b[0m\u001b[0;34m\u001b[0m\u001b[0m\n\u001b[1;32m     96\u001b[0m     \u001b[0;32mif\u001b[0m \u001b[0mreply\u001b[0m \u001b[0;34m==\u001b[0m \u001b[0m_NOT_READY\u001b[0m \u001b[0;32mor\u001b[0m \u001b[0;32mnot\u001b[0m \u001b[0misinstance\u001b[0m\u001b[0;34m(\u001b[0m\u001b[0mreply\u001b[0m\u001b[0;34m,\u001b[0m \u001b[0mdict\u001b[0m\u001b[0;34m)\u001b[0m\u001b[0;34m:\u001b[0m\u001b[0;34m\u001b[0m\u001b[0;34m\u001b[0m\u001b[0m\n\u001b[0;32m---> 97\u001b[0;31m       \u001b[0mtime\u001b[0m\u001b[0;34m.\u001b[0m\u001b[0msleep\u001b[0m\u001b[0;34m(\u001b[0m\u001b[0;36m0.025\u001b[0m\u001b[0;34m)\u001b[0m\u001b[0;34m\u001b[0m\u001b[0;34m\u001b[0m\u001b[0m\n\u001b[0m\u001b[1;32m     98\u001b[0m       \u001b[0;32mcontinue\u001b[0m\u001b[0;34m\u001b[0m\u001b[0;34m\u001b[0m\u001b[0m\n\u001b[1;32m     99\u001b[0m     if (\n",
            "\u001b[0;31mKeyboardInterrupt\u001b[0m: "
          ]
        }
      ]
    },
    {
      "cell_type": "code",
      "source": [
        "import re\n",
        "import numpy as np"
      ],
      "metadata": {
        "id": "hZefpoX7EXSf"
      },
      "id": "hZefpoX7EXSf",
      "execution_count": 158,
      "outputs": []
    },
    {
      "cell_type": "code",
      "execution_count": 108,
      "id": "998f647c",
      "metadata": {
        "id": "998f647c",
        "outputId": "58b894cc-7a01-4ef7-f230-dfe5703cbf50",
        "colab": {
          "base_uri": "https://localhost:8080/"
        }
      },
      "outputs": [
        {
          "output_type": "stream",
          "name": "stdout",
          "text": [
            "<class 'pandas.core.frame.DataFrame'>\n",
            "RangeIndex: 112803 entries, 0 to 112802\n",
            "Data columns (total 86 columns):\n",
            " #   Column                 Non-Null Count   Dtype  \n",
            "---  ------                 --------------   -----  \n",
            " 0   aircraft_ev_id         112803 non-null  object \n",
            " 1   far_part               112080 non-null  object \n",
            " 2   flight_plan_activated  48716 non-null   object \n",
            " 3   damage                 111402 non-null  object \n",
            " 4   acft_make              112785 non-null  object \n",
            " 5   acft_model             112767 non-null  object \n",
            " 6   cert_max_gr_wt         98437 non-null   float64\n",
            " 7   num_eng                110047 non-null  float64\n",
            " 8   type_last_insp         104108 non-null  object \n",
            " 9   date_last_insp         87193 non-null   object \n",
            " 10  afm_hrs_last_insp      61174 non-null   float64\n",
            " 11  afm_hrs                88035 non-null   float64\n",
            " 12  type_fly               108038 non-null  object \n",
            " 13  dprt_apt_id            90502 non-null   object \n",
            " 14  dprt_city              94336 non-null   object \n",
            " 15  dprt_state             94513 non-null   object \n",
            " 16  dprt_time              99943 non-null   float64\n",
            " 17  dest_same_local        38828 non-null   object \n",
            " 18  dest_apt_id            74598 non-null   object \n",
            " 19  dest_city              78311 non-null   object \n",
            " 20  dest_state             78376 non-null   object \n",
            " 21  phase_flt_spec         57089 non-null   float64\n",
            " 22  afm_hrs_since          63593 non-null   object \n",
            " 23  rwy_num                81744 non-null   object \n",
            " 24  rwy_len                65448 non-null   float64\n",
            " 25  rwy_width              64398 non-null   float64\n",
            " 26  ifr_equipped_cert      112803 non-null  bool   \n",
            " 27  eng_no                 110354 non-null  float64\n",
            " 28  eng_type               109715 non-null  object \n",
            " 29  eng_mfgr               108381 non-null  object \n",
            " 30  hp_or_lbs              102779 non-null  object \n",
            " 31  carb_fuel_injection    90014 non-null   object \n",
            " 32  eng_time_total         52342 non-null   float64\n",
            " 33  eng_time_last_insp     52342 non-null   float64\n",
            " 34  ntsb_no                112803 non-null  object \n",
            " 35  ev_type                112803 non-null  object \n",
            " 36  ev_date                112803 non-null  object \n",
            " 37  ev_dow                 112803 non-null  object \n",
            " 38  ev_time                112658 non-null  float64\n",
            " 39  ev_city                112788 non-null  object \n",
            " 40  ev_state               111483 non-null  object \n",
            " 41  ev_year                112803 non-null  int64  \n",
            " 42  ev_month               112803 non-null  int64  \n",
            " 43  latitude               65391 non-null   object \n",
            " 44  longitude              65393 non-null   object \n",
            " 45  apt_name               75302 non-null   object \n",
            " 46  ev_nr_apt_id           72215 non-null   object \n",
            " 47  ev_nr_apt_loc          109485 non-null  object \n",
            " 48  apt_dist               91419 non-null   float64\n",
            " 49  apt_dir                48091 non-null   float64\n",
            " 50  apt_elev               75760 non-null   float64\n",
            " 51  wx_src_iic             109627 non-null  object \n",
            " 52  wx_obs_time            103626 non-null  float64\n",
            " 53  wx_obs_dir             107113 non-null  float64\n",
            " 54  wx_obs_fac_id          85453 non-null   object \n",
            " 55  wx_obs_elev            99284 non-null   float64\n",
            " 56  wx_obs_dist            107580 non-null  float64\n",
            " 57  light_cond             111393 non-null  object \n",
            " 58  sky_cond_nonceil       100695 non-null  object \n",
            " 59  sky_nonceil_ht         103374 non-null  float64\n",
            " 60  sky_ceil_ht            103044 non-null  float64\n",
            " 61  sky_cond_ceil          106185 non-null  object \n",
            " 62  vis_rvr                45280 non-null   float64\n",
            " 63  vis_sm                 109131 non-null  float64\n",
            " 64  wx_temp                106952 non-null  float64\n",
            " 65  wx_dew_pt              97206 non-null   float64\n",
            " 66  wind_dir_deg           109673 non-null  float64\n",
            " 67  wind_dir_ind           110665 non-null  object \n",
            " 68  wind_vel_kts           98476 non-null   float64\n",
            " 69  wind_vel_ind           111628 non-null  object \n",
            " 70  gust_ind               112592 non-null  object \n",
            " 71  gust_kts               102408 non-null  float64\n",
            " 72  altimeter              95906 non-null   float64\n",
            " 73  wx_dens_alt            19394 non-null   float64\n",
            " 74  wx_int_precip          45371 non-null   object \n",
            " 75  ev_highest_injury      112417 non-null  object \n",
            " 76  inj_tot_t              80568 non-null   float64\n",
            " 77  wx_cond_basic          111719 non-null  object \n",
            " 78  Cause_Factor           44007 non-null   object \n",
            " 79  crew_no                51714 non-null   float64\n",
            " 80  crew_category          51251 non-null   object \n",
            " 81  crew_age               49472 non-null   float64\n",
            " 82  crew_sex               37556 non-null   object \n",
            " 83  med_certf              49114 non-null   object \n",
            " 84  pilot_flying           109921 non-null  object \n",
            " 85  crew_inj_level         50436 non-null   object \n",
            "dtypes: bool(1), float64(33), int64(2), object(50)\n",
            "memory usage: 73.3+ MB\n"
          ]
        }
      ],
      "source": [
        "# setting pandas display options\n",
        "pd.set_option('display.max_rows', 150)\n",
        "\n",
        "# reading in NTSB csv file\n",
        "ntsb_raw = pd.read_csv(\"NTSB_for_cleaning.csv\", encoding='latin-1', low_memory=False)\n",
        "ntsb_raw = ntsb_raw.drop(['engines_ev_id', 'events_ev_id', 'Unnamed: 0'], axis=1)\n",
        "# view the dataframe info\n",
        "ntsb_raw.info()"
      ]
    },
    {
      "cell_type": "markdown",
      "source": [
        "### 2. Initial Drop"
      ],
      "metadata": {
        "id": "rTGB5OeKO5H7"
      },
      "id": "rTGB5OeKO5H7"
    },
    {
      "cell_type": "code",
      "source": [
        "# need to delete duplicate records\n",
        "ntsb_raw = ntsb_raw.drop_duplicates(subset='aircraft_ev_id', keep='last')\n",
        "ntsb_raw.shape"
      ],
      "metadata": {
        "id": "K7_euSXJ8h8R",
        "outputId": "e234d547-b99d-4641-9ddf-f321af20a8a2",
        "colab": {
          "base_uri": "https://localhost:8080/"
        }
      },
      "id": "K7_euSXJ8h8R",
      "execution_count": 109,
      "outputs": [
        {
          "output_type": "execute_result",
          "data": {
            "text/plain": [
              "(69635, 86)"
            ]
          },
          "metadata": {},
          "execution_count": 109
        }
      ]
    },
    {
      "cell_type": "code",
      "source": [
        "# drop all records that do not have at least 50 columns worth of data in them\n",
        "ntsb_raw = ntsb_raw.dropna(thresh=60)"
      ],
      "metadata": {
        "id": "nQJJY6lK6hTa"
      },
      "id": "nQJJY6lK6hTa",
      "execution_count": 110,
      "outputs": []
    },
    {
      "cell_type": "code",
      "source": [
        "# drop any columns that have more than 40% null values\n",
        "total_rows = ntsb_raw.shape[0]\n",
        "\n",
        "def drop_cols(df, df_size):\n",
        "    # create a list of columns to drop\n",
        "    drop = []\n",
        "    # iterate over each column\n",
        "    for x in df.columns:\n",
        "        #determine if the ratio of nulls is greater than 30%\n",
        "        ratio = (df[x].isna().sum()) / df_size\n",
        "        if ratio > 0.5:\n",
        "            drop.append(x)\n",
        "    # drop the columns in the drop list\n",
        "    df.drop(labels=drop, axis=1)\n",
        "    print('Cols dropped from df:', drop)\n",
        "    return df\n",
        "\n",
        "ntsb_dropped_cols = drop_cols(ntsb_raw, total_rows)      \n"
      ],
      "metadata": {
        "colab": {
          "base_uri": "https://localhost:8080/"
        },
        "id": "vdxZW7P5_5i6",
        "outputId": "9edde015-7165-4496-f716-56f7056444c9"
      },
      "id": "vdxZW7P5_5i6",
      "execution_count": 111,
      "outputs": [
        {
          "output_type": "stream",
          "name": "stdout",
          "text": [
            "Cols dropped from df: ['flight_plan_activated', 'afm_hrs_since', 'eng_time_total', 'eng_time_last_insp', 'latitude', 'longitude', 'wx_dens_alt', 'Cause_Factor', 'crew_no', 'crew_category', 'crew_age', 'crew_sex', 'med_certf', 'crew_inj_level']\n"
          ]
        }
      ]
    },
    {
      "cell_type": "code",
      "source": [
        "print(ntsb_dropped_cols.shape)"
      ],
      "metadata": {
        "colab": {
          "base_uri": "https://localhost:8080/"
        },
        "id": "n1YllzgSTVIS",
        "outputId": "640c7287-5c2c-428d-a411-8a0b140832c1"
      },
      "id": "n1YllzgSTVIS",
      "execution_count": 112,
      "outputs": [
        {
          "output_type": "stream",
          "name": "stdout",
          "text": [
            "(57686, 86)\n"
          ]
        }
      ]
    },
    {
      "cell_type": "markdown",
      "source": [
        "## 3. Cleaning that applies to entire data set"
      ],
      "metadata": {
        "id": "u2TOQKAg5sI9"
      },
      "id": "u2TOQKAg5sI9"
    },
    {
      "cell_type": "code",
      "source": [
        "# function to initially clean up all strings in df\n",
        "def df_string_transform(df):\n",
        "    ''' \n",
        "    force all text data to lowercase and strip left and right side of strings\n",
        "    in all string columns\n",
        "\n",
        "    args: dataframe\n",
        "\n",
        "    returns: dataframe\n",
        "    '''\n",
        "    df1 = df.applymap(lambda x: x.lower() if type(x) == str else x)\n",
        "    df1 = df1.applymap(lambda x: x.strip() if type(x) == str else x)\n",
        "    return df1"
      ],
      "metadata": {
        "id": "F4-A27i55qay"
      },
      "id": "F4-A27i55qay",
      "execution_count": 113,
      "outputs": []
    },
    {
      "cell_type": "code",
      "source": [
        "# applying the funcrition from above\n",
        "ntsb_1 = df_string_transform(ntsb_dropped_cols)"
      ],
      "metadata": {
        "id": "2o7ipQWb_xaZ"
      },
      "id": "2o7ipQWb_xaZ",
      "execution_count": 114,
      "outputs": []
    },
    {
      "cell_type": "code",
      "source": [
        "print(ntsb_1.shape)"
      ],
      "metadata": {
        "id": "0fotg4op9YoS",
        "outputId": "a4040705-df1f-4d42-81a4-e3e76a82e96f",
        "colab": {
          "base_uri": "https://localhost:8080/"
        }
      },
      "id": "0fotg4op9YoS",
      "execution_count": 115,
      "outputs": [
        {
          "output_type": "stream",
          "name": "stdout",
          "text": [
            "(57686, 86)\n"
          ]
        }
      ]
    },
    {
      "cell_type": "markdown",
      "source": [
        "**NOTE**: for section 3 use the dataframe `ntsb_1` for cleaning"
      ],
      "metadata": {
        "id": "loxHcDDkAGmS"
      },
      "id": "loxHcDDkAGmS"
    },
    {
      "cell_type": "markdown",
      "source": [
        "### 3. Cleaning Each Column"
      ],
      "metadata": {
        "id": "r1Kb9XWSO9YW"
      },
      "id": "r1Kb9XWSO9YW"
    },
    {
      "cell_type": "code",
      "source": [
        "# function to show all the metrics you will want to see for each column\n",
        "def col_metrics(df, col='none'):\n",
        "  print('current df shape:', df.shape)\n",
        "  print('Unique data: ', df[col].unique())\n",
        "  print('Value counts: ', df[col].value_counts())\n",
        "  print('Total nulls: ', df[col].isna().sum())\n",
        "  print('Data type: ', df[col].dtypes)"
      ],
      "metadata": {
        "id": "L5bOiUp6PSBx"
      },
      "id": "L5bOiUp6PSBx",
      "execution_count": 116,
      "outputs": []
    },
    {
      "cell_type": "markdown",
      "source": [
        "### HUNTER'S SECTION"
      ],
      "metadata": {
        "id": "OpIxqub26j2I"
      },
      "id": "OpIxqub26j2I"
    },
    {
      "cell_type": "code",
      "source": [
        "# column 1: far part\n",
        "col_metrics(ntsb_1, col='far_part')      \n",
        "\n",
        "# making a copy of the data set as ntsb_1\n",
        "ntsb_1 = pd.DataFrame.copy(ntsb_1)\n",
        "\n",
        "# remove the K and F from part 091\n",
        "ntsb_1['far_part'] = ntsb_1['far_part'].str.replace('k', '').str.replace('f', '').str.replace('arm', '091')\n",
        "print(ntsb_1['far_part'].unique())"
      ],
      "metadata": {
        "colab": {
          "base_uri": "https://localhost:8080/"
        },
        "id": "37MrEvJ2P688",
        "outputId": "52246223-5aab-4a43-f3df-fe2a55e74a2d"
      },
      "id": "37MrEvJ2P688",
      "execution_count": 117,
      "outputs": [
        {
          "output_type": "stream",
          "name": "stdout",
          "text": [
            "current df shape: (57686, 86)\n",
            "Unique data:  ['135' '091' '137' '103' 'armf' '091f' '091k' '437']\n",
            "Value counts:  091     51939\n",
            "135      2816\n",
            "137      2790\n",
            "103        90\n",
            "091f       30\n",
            "091k       11\n",
            "armf        9\n",
            "437         1\n",
            "Name: far_part, dtype: int64\n",
            "Total nulls:  0\n",
            "Data type:  object\n",
            "['135' '091' '137' '103' '437']\n"
          ]
        }
      ]
    },
    {
      "cell_type": "code",
      "source": [
        "# column 2: 'flight_plan_activated'\n",
        "col_metrics(ntsb_1, 'flight_plan_activated')\n",
        "\n",
        "# dropping this column, too many nulls, and filing a flight plan is superfluous \n",
        "#because you can file in flight or you can use flight following\n",
        "ntsb_1 = ntsb_1.drop(['flight_plan_activated'], axis=1)"
      ],
      "metadata": {
        "colab": {
          "base_uri": "https://localhost:8080/"
        },
        "id": "crGb15IhQMQ1",
        "outputId": "1c00aa72-a659-4b0e-b945-91c2c1f26a99"
      },
      "id": "crGb15IhQMQ1",
      "execution_count": 118,
      "outputs": [
        {
          "output_type": "stream",
          "name": "stdout",
          "text": [
            "current df shape: (57686, 86)\n",
            "Unique data:  [nan 'y' 'n' 'u']\n",
            "Value counts:  n    11604\n",
            "y     3022\n",
            "u      344\n",
            "Name: flight_plan_activated, dtype: int64\n",
            "Total nulls:  42716\n",
            "Data type:  object\n"
          ]
        }
      ]
    },
    {
      "cell_type": "code",
      "source": [
        "# column 3: 'damage'\n",
        "col_metrics(ntsb_1, 'damage')\n",
        "\n",
        "# change the unk to none\n",
        "ntsb_1['damage'] = ntsb_1['damage'].str.replace('unk', 'none')\n",
        "# drop the 491 rows that do not have a damage listing\n",
        "ntsb_1 = ntsb_1.dropna(subset='damage')\n",
        "print('final null count:', ntsb_1['damage'].isna().sum())"
      ],
      "metadata": {
        "colab": {
          "base_uri": "https://localhost:8080/"
        },
        "id": "6T_xO3v1W-aS",
        "outputId": "a5b94b28-b966-4b16-fa94-738f54e4ecf3"
      },
      "id": "6T_xO3v1W-aS",
      "execution_count": 119,
      "outputs": [
        {
          "output_type": "stream",
          "name": "stdout",
          "text": [
            "current df shape: (57686, 85)\n",
            "Unique data:  ['subs' 'dest' 'none' 'minr' 'unk' nan]\n",
            "Value counts:  subs    43662\n",
            "dest    12728\n",
            "minr      913\n",
            "none      277\n",
            "unk         9\n",
            "Name: damage, dtype: int64\n",
            "Total nulls:  97\n",
            "Data type:  object\n",
            "final null count: 0\n"
          ]
        }
      ]
    },
    {
      "cell_type": "code",
      "source": [
        "# column 4: 'acft_make'\n",
        "col_metrics(ntsb_1, 'acft_make')\n",
        "\n",
        "# there are 6 rosw with nulls, will drop those\n",
        "ntsb_1 = ntsb_1.dropna(subset=['acft_make'])\n",
        "print(ntsb_1['acft_make'].isna().sum())"
      ],
      "metadata": {
        "colab": {
          "base_uri": "https://localhost:8080/"
        },
        "id": "AnYv7U0wXZK1",
        "outputId": "f6eea2cb-9ab4-48fc-eeec-674b8b62fea2"
      },
      "id": "AnYv7U0wXZK1",
      "execution_count": 120,
      "outputs": [
        {
          "output_type": "stream",
          "name": "stdout",
          "text": [
            "current df shape: (57589, 85)\n",
            "Unique data:  ['cessna' 'piper' 'beech' ... 'gerald nelson' 'gonzalez manuel a'\n",
            " 'harris-runyan']\n",
            "Value counts:  cessna                      20123\n",
            "piper                       10858\n",
            "beech                        4099\n",
            "bell                         1272\n",
            "mooney                       1046\n",
            "                            ...  \n",
            "gary e. wilson                  1\n",
            "lonnie w. ratliff               1\n",
            "silvaggio                       1\n",
            "s. piccolotto/dave morss        1\n",
            "harris-runyan                   1\n",
            "Name: acft_make, Length: 5333, dtype: int64\n",
            "Total nulls:  8\n",
            "Data type:  object\n",
            "0\n"
          ]
        }
      ]
    },
    {
      "cell_type": "code",
      "source": [
        "#if an aircraft make is not in the top 30, it will be categorized as other. \n",
        "acft_top_20 = ntsb_1['acft_make'].value_counts()[0:30].index.tolist()\n",
        "\n",
        "ntsb_1['acft_make'] = ntsb_1['acft_make'].map(lambda x: 'other_make' if x not in acft_top_20 else x)\n",
        "\n",
        "print(ntsb_1['acft_make'].value_counts())"
      ],
      "metadata": {
        "id": "CB7L4OyH5Toc",
        "outputId": "b07288b2-9941-4fc5-940f-4fe4ad4d2046",
        "colab": {
          "base_uri": "https://localhost:8080/"
        }
      },
      "id": "CB7L4OyH5Toc",
      "execution_count": 121,
      "outputs": [
        {
          "output_type": "stream",
          "name": "stdout",
          "text": [
            "cessna                            20123\n",
            "other_make                        12062\n",
            "piper                             10858\n",
            "beech                              4099\n",
            "bell                               1272\n",
            "mooney                             1046\n",
            "bellanca                            806\n",
            "grumman                             799\n",
            "robinson                            522\n",
            "hughes                              487\n",
            "aeronca                             451\n",
            "schweizer                           429\n",
            "maule                               414\n",
            "champion                            369\n",
            "luscombe                            317\n",
            "stinson                             316\n",
            "air tractor                         312\n",
            "boeing                              304\n",
            "aero commander                      290\n",
            "taylorcraft                         282\n",
            "north american                      276\n",
            "rockwell                            228\n",
            "de havilland                        201\n",
            "enstrom                             198\n",
            "hiller                              193\n",
            "aerospatiale                        183\n",
            "grumman american                    183\n",
            "robinson helicopter                 155\n",
            "air tractor inc                     137\n",
            "ercoupe (eng & research corp.)      135\n",
            "cirrus design corp                  134\n",
            "Name: acft_make, dtype: int64\n"
          ]
        },
        {
          "output_type": "stream",
          "name": "stderr",
          "text": [
            "<ipython-input-121-c6079be1a600>:4: SettingWithCopyWarning: \n",
            "A value is trying to be set on a copy of a slice from a DataFrame.\n",
            "Try using .loc[row_indexer,col_indexer] = value instead\n",
            "\n",
            "See the caveats in the documentation: https://pandas.pydata.org/pandas-docs/stable/user_guide/indexing.html#returning-a-view-versus-a-copy\n",
            "  ntsb_1['acft_make'] = ntsb_1['acft_make'].map(lambda x: 'other_make' if x not in acft_top_20 else x)\n"
          ]
        }
      ]
    },
    {
      "cell_type": "code",
      "source": [
        "# column 5: 'acft_model'\n",
        "col_metrics(ntsb_1, 'acft_model')\n",
        "\n",
        "# drop the 5 rows that have nulls\n",
        "ntsb_1 = ntsb_1.dropna(subset=['acft_model'])"
      ],
      "metadata": {
        "id": "AozNgVfCcgrX",
        "outputId": "ffa983bc-99f7-4dde-ed85-b6958665af2a",
        "colab": {
          "base_uri": "https://localhost:8080/"
        }
      },
      "id": "AozNgVfCcgrX",
      "execution_count": 122,
      "outputs": [
        {
          "output_type": "stream",
          "name": "stdout",
          "text": [
            "current df shape: (57581, 85)\n",
            "Unique data:  ['207' 'pa-22-160' '300' ... 'rv 7' 'f4u 5' 'skybolt 300']\n",
            "Value counts:  152                  1940\n",
            "172                  1045\n",
            "172n                  927\n",
            "pa-28-140             779\n",
            "172m                  646\n",
            "                     ... \n",
            "tu-10                   1\n",
            "as 355 f ecureuil       1\n",
            "be35g                   1\n",
            "twinstar ta-2           1\n",
            "skybolt 300             1\n",
            "Name: acft_model, Length: 7832, dtype: int64\n",
            "Total nulls:  19\n",
            "Data type:  object\n"
          ]
        }
      ]
    },
    {
      "cell_type": "code",
      "source": [
        "# column 5\n",
        "\n",
        "# remove the letters off the cessna model\n",
        "pattern = r'\\d\\d\\d\\w'\n",
        "ntsb_1['acft_model'] = ntsb_1['acft_model'].map(lambda x: re.sub(pattern, lambda match: match.group()[:-1], x))\n",
        "print(ntsb_1['acft_model'].value_counts())\n",
        "\n",
        "#if an aircraft make is not in the top 30, it will be categorized as other. \n",
        "model_top_30 = ntsb_1['acft_model'].value_counts()[0:30].index.tolist()\n",
        "\n",
        "# change the model names to 'other_model' if not in the top 30\n",
        "ntsb_1['acft_model'] = ntsb_1['acft_model'].map(lambda x: 'other_model' if x not in model_top_30 else x)"
      ],
      "metadata": {
        "id": "2mAwljGnBp79",
        "outputId": "c15aa41c-0859-476e-b447-8be5417e612e",
        "colab": {
          "base_uri": "https://localhost:8080/"
        }
      },
      "id": "2mAwljGnBp79",
      "execution_count": 123,
      "outputs": [
        {
          "output_type": "stream",
          "name": "stdout",
          "text": [
            "172                4555\n",
            "150                2509\n",
            "152                1956\n",
            "182                1910\n",
            "pa-28-140           796\n",
            "                   ... \n",
            "b-100                 1\n",
            "panther ii plus       1\n",
            "musting ii            1\n",
            "g-102 astir cs        1\n",
            "skybolt 300           1\n",
            "Name: acft_model, Length: 7235, dtype: int64\n"
          ]
        }
      ]
    },
    {
      "cell_type": "code",
      "source": [
        "# column 6: 'cert_max_gr_wt'\n",
        "col_metrics(ntsb_1, 'cert_max_gr_wt')\n",
        "print(ntsb_1['cert_max_gr_wt'].max(), ntsb_1['cert_max_gr_wt'].min())\n",
        "\n",
        "def weight_bins(df, col):\n",
        "    avg_wt = df[col].mean()    \n",
        "    wt_cat = []\n",
        "    for x in list(df[col]):\n",
        "        if x <= 12500:\n",
        "            x = 'small'\n",
        "            wt_cat.append(x)\n",
        "        elif x > 12500 and x < 41000:\n",
        "            x = 'medium'\n",
        "            wt_cat.append(x)\n",
        "        elif x == 'nan':\n",
        "            if avg_wt <=12500:\n",
        "                x = 'small'\n",
        "                wt_cat.append(x)\n",
        "            elif avg_wt > 12500 and x < 41000:\n",
        "                x = 'medium'\n",
        "                wt_cat.append(x)\n",
        "            else:\n",
        "                x = 'large commuter'\n",
        "                wt_cat.append(x)\n",
        "        else:\n",
        "            x = 'large commuter'\n",
        "            wt_cat.append(x)\n",
        "    df[col] = wt_cat\n",
        "    return df[col]"
      ],
      "metadata": {
        "id": "rnEhue0Ocw0W",
        "outputId": "f05299dc-a6db-4c48-e59a-0ab4edcf33b9",
        "colab": {
          "base_uri": "https://localhost:8080/"
        }
      },
      "id": "rnEhue0Ocw0W",
      "execution_count": 124,
      "outputs": [
        {
          "output_type": "stream",
          "name": "stdout",
          "text": [
            "current df shape: (57562, 85)\n",
            "Unique data:  [ 3800.  1840. 14100. ...  5333.  2497.  2251.]\n",
            "Value counts:  1600.0      2600\n",
            "2300.0      2597\n",
            "1670.0      2224\n",
            "3600.0      1533\n",
            "2150.0      1530\n",
            "            ... \n",
            "1297.0         1\n",
            "22450.0        1\n",
            "3609.0         1\n",
            "358000.0       1\n",
            "2251.0         1\n",
            "Name: cert_max_gr_wt, Length: 2168, dtype: int64\n",
            "Total nulls:  3060\n",
            "Data type:  float64\n",
            "870000.0 -3100.0\n"
          ]
        }
      ]
    },
    {
      "cell_type": "code",
      "source": [
        "# use the bin function to assign categories to weight classes\n",
        "ntsb_1['cert_max_gr_wt'] = weight_bins(ntsb_1, 'cert_max_gr_wt')"
      ],
      "metadata": {
        "id": "TgIjDAO1g4WQ"
      },
      "id": "TgIjDAO1g4WQ",
      "execution_count": 125,
      "outputs": []
    },
    {
      "cell_type": "code",
      "source": [
        "# column 7: 'num_eng'\n",
        "col_metrics(ntsb_1, 'num_eng')\n",
        "\n",
        "# convert the float to int and then impute the nulls with the median\n",
        "ntsb_1['num_eng'] = ntsb_1['num_eng']"
      ],
      "metadata": {
        "id": "DYFgOLsAIupJ",
        "outputId": "e0db6386-4345-460e-8308-0d444ca9f328",
        "colab": {
          "base_uri": "https://localhost:8080/"
        }
      },
      "id": "DYFgOLsAIupJ",
      "execution_count": 126,
      "outputs": [
        {
          "output_type": "stream",
          "name": "stdout",
          "text": [
            "current df shape: (57562, 85)\n",
            "Unique data:  [ 1.  2. nan  3.  4.  0.]\n",
            "Value counts:  1.0    49699\n",
            "2.0     6830\n",
            "0.0      505\n",
            "4.0       47\n",
            "3.0       31\n",
            "Name: num_eng, dtype: int64\n",
            "Total nulls:  450\n",
            "Data type:  float64\n"
          ]
        }
      ]
    },
    {
      "cell_type": "code",
      "source": [
        "# change from float to int8\n",
        "# fill na with 1\n",
        "ntsb_1['num_eng'] = ntsb_1['num_eng'].fillna(1.0).astype('int8')\n"
      ],
      "metadata": {
        "id": "yBJh8lZz0qIE"
      },
      "id": "yBJh8lZz0qIE",
      "execution_count": 127,
      "outputs": []
    },
    {
      "cell_type": "code",
      "source": [
        "# column 8: 'type_last_insp'\n",
        "col_metrics(ntsb_1, 'type_last_insp')"
      ],
      "metadata": {
        "id": "FjJmxYhF2m2P",
        "outputId": "cf680931-45b7-4a6d-a7b2-4dddbd19a489",
        "colab": {
          "base_uri": "https://localhost:8080/"
        }
      },
      "id": "FjJmxYhF2m2P",
      "execution_count": 128,
      "outputs": [
        {
          "output_type": "stream",
          "name": "stdout",
          "text": [
            "current df shape: (57562, 85)\n",
            "Unique data:  ['100h' 'aaip' 'annl' 'unk' 'coaw' 'cond' nan]\n",
            "Value counts:  annl    33108\n",
            "unk      9332\n",
            "100h     9106\n",
            "cond     1716\n",
            "aaip     1614\n",
            "coaw     1478\n",
            "Name: type_last_insp, dtype: int64\n",
            "Total nulls:  1208\n",
            "Data type:  object\n"
          ]
        }
      ]
    },
    {
      "cell_type": "code",
      "source": [
        "# column 9: 'afm_hrs'\n",
        "col_metrics(ntsb_1, 'afm_hrs')"
      ],
      "metadata": {
        "id": "NBzHlrjz3dMn",
        "outputId": "f58e47f8-8a4a-44ad-8019-862f43ab86e1",
        "colab": {
          "base_uri": "https://localhost:8080/"
        }
      },
      "id": "NBzHlrjz3dMn",
      "execution_count": 129,
      "outputs": [
        {
          "output_type": "stream",
          "name": "stdout",
          "text": [
            "current df shape: (57562, 85)\n",
            "Unique data:  [10286.  14424.      nan ...  2341.8    53.2   967.5]\n",
            "Value counts:  1.0        129\n",
            "3000.0     105\n",
            "2500.0      94\n",
            "2000.0      90\n",
            "4000.0      84\n",
            "          ... \n",
            "8725.0       1\n",
            "12005.0      1\n",
            "6072.0       1\n",
            "4976.0       1\n",
            "967.5        1\n",
            "Name: afm_hrs, Length: 13131, dtype: int64\n",
            "Total nulls:  10560\n",
            "Data type:  float64\n"
          ]
        }
      ]
    },
    {
      "cell_type": "code",
      "source": [
        "ntsb_1['afm_hrs'].describe()"
      ],
      "metadata": {
        "id": "ozdPI2_V6ZBe",
        "outputId": "a85c3e5f-3420-479f-8ed2-b3a50ecf6e54",
        "colab": {
          "base_uri": "https://localhost:8080/"
        }
      },
      "id": "ozdPI2_V6ZBe",
      "execution_count": 130,
      "outputs": [
        {
          "output_type": "execute_result",
          "data": {
            "text/plain": [
              "count     47002.000000\n",
              "mean       3639.729272\n",
              "std        4530.201239\n",
              "min           0.000000\n",
              "25%        1284.250000\n",
              "50%        2711.900000\n",
              "75%        4547.000000\n",
              "max      233109.000000\n",
              "Name: afm_hrs, dtype: float64"
            ]
          },
          "metadata": {},
          "execution_count": 130
        }
      ]
    },
    {
      "cell_type": "code",
      "source": [
        "# count how many values are outliers\n",
        "outlier = (1.5*(4752 - 1229)) + 4752\n",
        "outliers = [x for x in ntsb_1['afm_hrs'] if x > outlier]\n",
        "print(len(outliers))"
      ],
      "metadata": {
        "id": "eJiMUhi56vxf",
        "outputId": "c2288db4-171d-44af-eee1-daf4702f6b86",
        "colab": {
          "base_uri": "https://localhost:8080/"
        }
      },
      "id": "eJiMUhi56vxf",
      "execution_count": 131,
      "outputs": [
        {
          "output_type": "stream",
          "name": "stdout",
          "text": [
            "2322\n"
          ]
        }
      ]
    },
    {
      "cell_type": "code",
      "source": [
        "# fill na with median\n",
        "#median = ntsb_1['afm_hrs'].median()\n",
        "#ntsb_1['afm_hrs'] = ntsb_1['afm_hrs'].fillna(median)\n",
        "# drop the outliers\n",
        "ntsb_1 = ntsb_1[ntsb_1['afm_hrs'] < outlier]\n"
      ],
      "metadata": {
        "id": "QBE4pFwo8xNQ"
      },
      "id": "QBE4pFwo8xNQ",
      "execution_count": 132,
      "outputs": []
    },
    {
      "cell_type": "code",
      "source": [
        "ntsb_1['afm_hrs'].plot.hist(bins=10)"
      ],
      "metadata": {
        "id": "Y9rIOYOD6GTv",
        "outputId": "1b407b28-7853-44bb-bd85-0128ec847ae9",
        "colab": {
          "base_uri": "https://localhost:8080/",
          "height": 282
        }
      },
      "id": "Y9rIOYOD6GTv",
      "execution_count": 133,
      "outputs": [
        {
          "output_type": "execute_result",
          "data": {
            "text/plain": [
              "<Axes: ylabel='Frequency'>"
            ]
          },
          "metadata": {},
          "execution_count": 133
        },
        {
          "output_type": "display_data",
          "data": {
            "text/plain": [
              "<Figure size 432x288 with 1 Axes>"
            ],
            "image/png": "[encoded data removed]"
          },
          "metadata": {
            "needs_background": "light"
          }
        }
      ]
    },
    {
      "cell_type": "code",
      "source": [
        "ntsb_1.shape"
      ],
      "metadata": {
        "id": "E7DpHSpH-cfA",
        "outputId": "94f9bf21-751b-445e-af25-9a7fb1f1f31e",
        "colab": {
          "base_uri": "https://localhost:8080/"
        }
      },
      "id": "E7DpHSpH-cfA",
      "execution_count": 134,
      "outputs": [
        {
          "output_type": "execute_result",
          "data": {
            "text/plain": [
              "(44680, 85)"
            ]
          },
          "metadata": {},
          "execution_count": 134
        }
      ]
    },
    {
      "cell_type": "code",
      "source": [
        "# round and change to int32\n",
        "ntsb_1['afm_hrs'] = ntsb_1['afm_hrs'].round().astype('int16')"
      ],
      "metadata": {
        "id": "FsErjoWX5FN6"
      },
      "id": "FsErjoWX5FN6",
      "execution_count": 135,
      "outputs": []
    },
    {
      "cell_type": "code",
      "source": [
        "# column 10: 'type_fly'\n",
        "col_metrics(ntsb_1, 'type_fly')"
      ],
      "metadata": {
        "id": "NaQb3t-YPNZ2",
        "outputId": "44597b41-9cee-4299-d568-b60f19645877",
        "colab": {
          "base_uri": "https://localhost:8080/"
        }
      },
      "id": "NaQb3t-YPNZ2",
      "execution_count": 136,
      "outputs": [
        {
          "output_type": "stream",
          "name": "stdout",
          "text": [
            "current df shape: (44680, 85)\n",
            "Unique data:  ['exec' 'pers' 'bus' 'inst' 'unk' 'pubu' 'posi' 'fery' 'owrk' 'aapl'\n",
            " 'aobv' 'skyd' nan 'flts' 'asho' 'adrp' 'gldt' 'bant' 'publ' 'pubs' 'exld'\n",
            " 'pubf' 'firf']\n",
            "Value counts:  pers    28193\n",
            "inst     6086\n",
            "unk      2551\n",
            "bus      2430\n",
            "aapl     2066\n",
            "posi      788\n",
            "fery      449\n",
            "owrk      434\n",
            "exec      375\n",
            "aobv      308\n",
            "pubu      203\n",
            "flts      201\n",
            "skyd       71\n",
            "asho       69\n",
            "bant       46\n",
            "gldt       19\n",
            "pubs       12\n",
            "publ        7\n",
            "adrp        5\n",
            "exld        5\n",
            "pubf        5\n",
            "firf        1\n",
            "Name: type_fly, dtype: int64\n",
            "Total nulls:  356\n",
            "Data type:  object\n"
          ]
        }
      ]
    },
    {
      "cell_type": "code",
      "source": [
        "# change the null to unknown\n",
        "ntsb_1['type_fly'] = ntsb_1['type_fly'].fillna('unk')"
      ],
      "metadata": {
        "id": "v6LcOos7Yzlo"
      },
      "id": "v6LcOos7Yzlo",
      "execution_count": 137,
      "outputs": []
    },
    {
      "cell_type": "code",
      "source": [
        "# column 11: 'dprt_apt_id'\n",
        "col_metrics(ntsb_1, 'dprt_apt_id')"
      ],
      "metadata": {
        "id": "Y4Pc7TepY-QP",
        "outputId": "5ae09e71-eb9b-4f5e-d249-3841b8f08330",
        "colab": {
          "base_uri": "https://localhost:8080/"
        }
      },
      "id": "Y4Pc7TepY-QP",
      "execution_count": 138,
      "outputs": [
        {
          "output_type": "stream",
          "name": "stdout",
          "text": [
            "current df shape: (44680, 85)\n",
            "Unique data:  ['gmu' 'ox8' nan ... '37f' '62k' '38cl']\n",
            "Value counts:  none    825\n",
            "pvt     253\n",
            "c       168\n",
            "mri     164\n",
            "apa     134\n",
            "       ... \n",
            "ape       1\n",
            "mkcr      1\n",
            "neo8      1\n",
            "0k9       1\n",
            "38cl      1\n",
            "Name: dprt_apt_id, Length: 7702, dtype: int64\n",
            "Total nulls:  9657\n",
            "Data type:  object\n"
          ]
        }
      ]
    },
    {
      "cell_type": "code",
      "source": [
        "# column 12: 'dprt_city'\n",
        "col_metrics(ntsb_1, 'dprt_city')"
      ],
      "metadata": {
        "id": "f6qbeu_AuogH",
        "outputId": "511addd3-cf74-4282-94c0-644ec0be163e",
        "colab": {
          "base_uri": "https://localhost:8080/"
        }
      },
      "id": "f6qbeu_AuogH",
      "execution_count": 139,
      "outputs": [
        {
          "output_type": "stream",
          "name": "stdout",
          "text": [
            "current df shape: (44680, 85)\n",
            "Unique data:  ['greeneville' nan 'detroit city' ... 'kalaeloa' 'ishpeming' 'munday']\n",
            "Value counts:  anchorage          330\n",
            "las vegas          148\n",
            "houston            145\n",
            "columbus           138\n",
            "fairbanks          129\n",
            "                  ... \n",
            "kroto slough         1\n",
            "big lake,ak          1\n",
            "nunavarchak bch      1\n",
            "denali airstrip      1\n",
            "munday               1\n",
            "Name: dprt_city, Length: 6753, dtype: int64\n",
            "Total nulls:  9638\n",
            "Data type:  object\n"
          ]
        }
      ]
    },
    {
      "cell_type": "code",
      "source": [
        "# there are some city names that have commas and states after. remove those with commas\n",
        "ntsb_1['dest_city'] = ntsb_1['dest_city'].str.split(',').str[0]\n"
      ],
      "metadata": {
        "id": "qgthas85vPXI"
      },
      "id": "qgthas85vPXI",
      "execution_count": 140,
      "outputs": []
    },
    {
      "cell_type": "code",
      "source": [
        "# column 13: 'dprt_state'\n",
        "col_metrics(ntsb_1, 'dprt_state')"
      ],
      "metadata": {
        "id": "LPhO-X-Qxil5",
        "outputId": "2f99fc6e-4b60-4bee-dfe4-2bc2e98c0514",
        "colab": {
          "base_uri": "https://localhost:8080/"
        }
      },
      "id": "LPhO-X-Qxil5",
      "execution_count": 141,
      "outputs": [
        {
          "output_type": "stream",
          "name": "stdout",
          "text": [
            "current df shape: (44680, 85)\n",
            "Unique data:  ['sc' nan 'mi' 'mn' 'il' 'ks' 'mo' 'oh' 'ne' 'az' 'nm' 'tx' 'la' 'ok' 'in'\n",
            " 'ca' 'me' 'or' 'ak' 'ga' 'co' 'nh' 'nv' 'fl' 'ma' 'de' 'pa' 'ct' 'ms'\n",
            " 'al' 'nc' 'wy' 'tn' 'nj' 'hi' 'ky' 'vi' 'id' 'wa' 'ut' 'ar' 'va' 'pr'\n",
            " 'ny' 'wv' 'mt' 'nd' 'vt' 'dc' 'ri' 'sd' 'ia' 'cd' 'md' 'wi' 'of' 'ah'\n",
            " 'cn' 'bc' 'gm' 'mp' 'po' 'yt' 'mx' 'un' 'bh' 'ad' 'nb' 'pq' 'cb' 'gu'\n",
            " 'ha' 'io' 'kn' 'ja' 'bi' 'ao' 'dr']\n",
            "Value counts:  ca    3864\n",
            "fl    2569\n",
            "tx    2354\n",
            "ak    1913\n",
            "az    1247\n",
            "co    1141\n",
            "wa    1085\n",
            "ga     974\n",
            "mi     881\n",
            "oh     873\n",
            "ny     871\n",
            "il     870\n",
            "pa     851\n",
            "nc     773\n",
            "mo     708\n",
            "wi     676\n",
            "or     668\n",
            "mn     637\n",
            "va     612\n",
            "in     577\n",
            "id     576\n",
            "nv     562\n",
            "tn     559\n",
            "nj     559\n",
            "ut     557\n",
            "nm     551\n",
            "ar     545\n",
            "al     529\n",
            "ks     517\n",
            "ok     513\n",
            "sc     476\n",
            "la     440\n",
            "mt     408\n",
            "ma     404\n",
            "md     390\n",
            "ia     366\n",
            "ms     349\n",
            "ne     326\n",
            "ky     304\n",
            "wy     299\n",
            "me     258\n",
            "ct     237\n",
            "nd     235\n",
            "sd     220\n",
            "wv     187\n",
            "nh     186\n",
            "hi     174\n",
            "vt     110\n",
            "pr      89\n",
            "ri      66\n",
            "of      56\n",
            "de      52\n",
            "gm      50\n",
            "cd      31\n",
            "dc      31\n",
            "vi      19\n",
            "mx       9\n",
            "po       6\n",
            "bc       4\n",
            "un       4\n",
            "cb       3\n",
            "gu       2\n",
            "ao       2\n",
            "nb       2\n",
            "ja       1\n",
            "kn       1\n",
            "bi       1\n",
            "io       1\n",
            "ha       1\n",
            "bh       1\n",
            "pq       1\n",
            "ad       1\n",
            "yt       1\n",
            "mp       1\n",
            "cn       1\n",
            "ah       1\n",
            "dr       1\n",
            "Name: dprt_state, dtype: int64\n",
            "Total nulls:  9260\n",
            "Data type:  object\n"
          ]
        }
      ]
    },
    {
      "cell_type": "code",
      "source": [
        "# print out all the states that are incorrect\n",
        "state_abbr = [\n",
        "    \"AL\",  # Alabama\n",
        "    \"AK\",  # Alaska\n",
        "    \"AZ\",  # Arizona\n",
        "    \"AR\",  # Arkansas\n",
        "    \"CA\",  # California\n",
        "    \"CO\",  # Colorado\n",
        "    \"CT\",  # Connecticut\n",
        "    \"DE\",  # Delaware\n",
        "    \"FL\",  # Florida\n",
        "    \"GA\",  # Georgia\n",
        "    \"HI\",  # Hawaii\n",
        "    \"ID\",  # Idaho\n",
        "    \"IL\",  # Illinois\n",
        "    \"IN\",  # Indiana\n",
        "    \"IA\",  # Iowa\n",
        "    \"KS\",  # Kansas\n",
        "    \"KY\",  # Kentucky\n",
        "    \"LA\",  # Louisiana\n",
        "    \"ME\",  # Maine\n",
        "    \"MD\",  # Maryland\n",
        "    \"MA\",  # Massachusetts\n",
        "    \"MI\",  # Michigan\n",
        "    \"MN\",  # Minnesota\n",
        "    \"MS\",  # Mississippi\n",
        "    \"MO\",  # Missouri\n",
        "    \"MT\",  # Montana\n",
        "    \"NE\",  # Nebraska\n",
        "    \"NV\",  # Nevada\n",
        "    \"NH\",  # New Hampshire\n",
        "    \"NJ\",  # New Jersey\n",
        "    \"NM\",  # New Mexico\n",
        "    \"NY\",  # New York\n",
        "    \"NC\",  # North Carolina\n",
        "    \"ND\",  # North Dakota\n",
        "    \"OH\",  # Ohio\n",
        "    \"OK\",  # Oklahoma\n",
        "    \"OR\",  # Oregon\n",
        "    \"PA\",  # Pennsylvania\n",
        "    \"RI\",  # Rhode Island\n",
        "    \"SC\",  # South Carolina\n",
        "    \"SD\",  # South Dakota\n",
        "    \"TN\",  # Tennessee\n",
        "    \"TX\",  # Texas\n",
        "    \"UT\",  # Utah\n",
        "    \"VT\",  # Vermont\n",
        "    \"VA\",  # Virginia\n",
        "    \"WA\",  # Washington\n",
        "    \"WV\",  # West Virginia\n",
        "    \"WI\",  # Wisconsin\n",
        "    \"WY\",  # Wyoming\n",
        "    'gu', \n",
        "    'mp', \n",
        "    'pr',\n",
        "    'tt',\n",
        "    'vi'\n",
        "]\n",
        "print(len(state_abbr))\n",
        "state_abbr = list(map(str.lower, state_abbr))"
      ],
      "metadata": {
        "id": "UKuLw8ISzErJ",
        "outputId": "582ab25d-2272-45bd-e2ef-fb3978e92525",
        "colab": {
          "base_uri": "https://localhost:8080/"
        }
      },
      "id": "UKuLw8ISzErJ",
      "execution_count": 142,
      "outputs": [
        {
          "output_type": "stream",
          "name": "stdout",
          "text": [
            "55\n"
          ]
        }
      ]
    },
    {
      "cell_type": "code",
      "source": [
        "# incorrect states\n",
        "wrong_states = set()\n",
        "state_sum = []\n",
        "for x in ntsb_1['dprt_state']:\n",
        "  if (x not in state_abbr) and (x is not np.nan):\n",
        "      wrong_states.add(x)\n",
        "      state_sum.append(x)\n",
        "print(len(state_sum))\n",
        "print(wrong_states)\n",
        "\n",
        "# drop the rows with incorrect state values\n",
        "ntsb_1 = ntsb_1[~ntsb_1['dprt_state'].isin(wrong_states)]"
      ],
      "metadata": {
        "id": "l0-Kaqz5zim1",
        "outputId": "cb8fd6e2-f1c4-4f9a-ca78-32c36f39b246",
        "colab": {
          "base_uri": "https://localhost:8080/"
        }
      },
      "id": "l0-Kaqz5zim1",
      "execution_count": 143,
      "outputs": [
        {
          "output_type": "stream",
          "name": "stdout",
          "text": [
            "210\n",
            "{'of', 'ah', 'yt', 'un', 'cb', 'kn', 'ja', 'dr', 'bc', 'mx', 'io', 'gm', 'nb', 'dc', 'po', 'cd', 'pq', 'bh', 'ao', 'ha', 'bi', 'cn', 'ad'}\n"
          ]
        }
      ]
    },
    {
      "cell_type": "code",
      "source": [
        "ntsb_1.shape"
      ],
      "metadata": {
        "id": "Ouuw2NeN3Z2U",
        "outputId": "87b15aa1-ba0a-4176-ae2c-6c894866d774",
        "colab": {
          "base_uri": "https://localhost:8080/"
        }
      },
      "id": "Ouuw2NeN3Z2U",
      "execution_count": 144,
      "outputs": [
        {
          "output_type": "execute_result",
          "data": {
            "text/plain": [
              "(44470, 85)"
            ]
          },
          "metadata": {},
          "execution_count": 144
        }
      ]
    },
    {
      "cell_type": "code",
      "source": [
        "# column 14: 'dprt_time'\n",
        "col_metrics(ntsb_1, 'dprt_time')"
      ],
      "metadata": {
        "id": "5SwHqpw53fsB",
        "outputId": "30c7e284-2748-43db-e7bb-8be9f83cd2d4",
        "colab": {
          "base_uri": "https://localhost:8080/"
        }
      },
      "id": "5SwHqpw53fsB",
      "execution_count": 145,
      "outputs": [
        {
          "output_type": "stream",
          "name": "stdout",
          "text": [
            "current df shape: (44470, 85)\n",
            "Unique data:  [ 908. 1710. 1200. ...  156.   29.  322.]\n",
            "Value counts:  0.0       3620\n",
            "1400.0     856\n",
            "1500.0     814\n",
            "1600.0     737\n",
            "1700.0     693\n",
            "          ... \n",
            "626.0        1\n",
            "103.0        1\n",
            "195.0        1\n",
            "193.0        1\n",
            "322.0        1\n",
            "Name: dprt_time, Length: 1354, dtype: int64\n",
            "Total nulls:  1514\n",
            "Data type:  float64\n"
          ]
        }
      ]
    },
    {
      "cell_type": "code",
      "source": [
        "# change to string\n",
        "ntsb_1['dprt_time'] = ntsb_1['dprt_time'].astype('str')\n",
        "\n",
        "# remove all .o\n",
        "ntsb_1['dprt_time'] = ntsb_1['dprt_time'].str.rstrip('.0')\n",
        "times = []\n",
        "for x in list(ntsb_1['dprt_time']):\n",
        "    if len(x) == 1:\n",
        "        x = '000' + x\n",
        "        times.append(x)\n",
        "    elif len(x) == 2:\n",
        "        x = '00' + x\n",
        "        times.append(x)\n",
        "    elif len(x) == 3:\n",
        "        x = '0' + x\n",
        "        times.append(x)\n",
        "    else:\n",
        "        times.append(x)\n",
        "ntsb_1['dprt_time'] = times\n",
        "ntsb_1['dprt_time'].unique()\n"
      ],
      "metadata": {
        "id": "MO09N4cm3xyP",
        "outputId": "c8435e34-4ae0-44cc-dd5c-50e3beb76ff2",
        "colab": {
          "base_uri": "https://localhost:8080/"
        }
      },
      "id": "MO09N4cm3xyP",
      "execution_count": 153,
      "outputs": [
        {
          "output_type": "execute_result",
          "data": {
            "text/plain": [
              "array(['0908', '0171', '0012', ..., '0156', '0029', '0322'], dtype=object)"
            ]
          },
          "metadata": {},
          "execution_count": 153
        }
      ]
    },
    {
      "cell_type": "code",
      "source": [
        "import numpy as np\n",
        "# column 14: 'dest_same_local'\n",
        "col_metrics(ntsb_1, 'dest_same_local')\n",
        "\n",
        "# three different versions of yes so standatdizing it\n",
        "ntsb_1['dest_same_local'] = ntsb_1['dest_same_local'].str.replace('same', 'y').str.replace('locl', 'y').str.replace('spec', 'y')\n",
        "\n",
        "def backfill_dprt_apt():\n",
        "    dest = list(ntsb_1['dest_apt_id'])\n",
        "    dept = list(ntsb_1[''])\n",
        "    for x in ntsb_1['dest_apt_id']:\n",
        "        if x == np.nan:\n",
        "            x = "
      ],
      "metadata": {
        "id": "R_jUw5oS-NjI",
        "outputId": "054aeaa9-5d7a-478b-ee64-129872dc7232",
        "colab": {
          "base_uri": "https://localhost:8080/"
        }
      },
      "id": "R_jUw5oS-NjI",
      "execution_count": 157,
      "outputs": [
        {
          "output_type": "stream",
          "name": "stdout",
          "text": [
            "current df shape: (44470, 85)\n",
            "Unique data:  ['same' 'locl' nan 'spec' 'y']\n",
            "Value counts:  locl    13672\n",
            "same     9411\n",
            "spec       18\n",
            "y           1\n",
            "Name: dest_same_local, dtype: int64\n",
            "Total nulls:  21368\n",
            "Data type:  object\n"
          ]
        }
      ]
    },
    {
      "cell_type": "code",
      "source": [
        "# column 15: 'dest_apt_id'\n",
        "col_metrics(ntsb_1, 'dest_apt_id')"
      ],
      "metadata": {
        "id": "FilNLBc0-17N",
        "outputId": "6caa0e23-0532-4db6-c898-eaf18d21bd0e",
        "colab": {
          "base_uri": "https://localhost:8080/"
        }
      },
      "id": "FilNLBc0-17N",
      "execution_count": 155,
      "outputs": [
        {
          "output_type": "stream",
          "name": "stdout",
          "text": [
            "current df shape: (44470, 85)\n",
            "Unique data:  ['3a1' nan 'pln' ... 'vvs' '62k' '38cl']\n",
            "Value counts:  none    537\n",
            "c       206\n",
            "pvt     194\n",
            "apa     102\n",
            "osh      84\n",
            "       ... \n",
            "yyc       1\n",
            "vyn       1\n",
            "0l8       1\n",
            "kso4      1\n",
            "38cl      1\n",
            "Name: dest_apt_id, Length: 6690, dtype: int64\n",
            "Total nulls:  18261\n",
            "Data type:  object\n"
          ]
        }
      ]
    },
    {
      "cell_type": "code",
      "source": [
        "ntsb_1.columns"
      ],
      "metadata": {
        "id": "5f3VNCji2MYO",
        "outputId": "57691426-2dfc-42dd-84b2-7738dc66bd0d",
        "colab": {
          "base_uri": "https://localhost:8080/"
        }
      },
      "id": "5f3VNCji2MYO",
      "execution_count": 147,
      "outputs": [
        {
          "output_type": "execute_result",
          "data": {
            "text/plain": [
              "Index(['aircraft_ev_id', 'far_part', 'damage', 'acft_make', 'acft_model',\n",
              "       'cert_max_gr_wt', 'num_eng', 'type_last_insp', 'date_last_insp',\n",
              "       'afm_hrs_last_insp', 'afm_hrs', 'type_fly', 'dprt_apt_id', 'dprt_city',\n",
              "       'dprt_state', 'dprt_time', 'dest_same_local', 'dest_apt_id',\n",
              "       'dest_city', 'dest_state', 'phase_flt_spec', 'afm_hrs_since', 'rwy_num',\n",
              "       'rwy_len', 'rwy_width', 'ifr_equipped_cert', 'eng_no', 'eng_type',\n",
              "       'eng_mfgr', 'hp_or_lbs', 'carb_fuel_injection', 'eng_time_total',\n",
              "       'eng_time_last_insp', 'ntsb_no', 'ev_type', 'ev_date', 'ev_dow',\n",
              "       'ev_time', 'ev_city', 'ev_state', 'ev_year', 'ev_month', 'latitude',\n",
              "       'longitude', 'apt_name', 'ev_nr_apt_id', 'ev_nr_apt_loc', 'apt_dist',\n",
              "       'apt_dir', 'apt_elev', 'wx_src_iic', 'wx_obs_time', 'wx_obs_dir',\n",
              "       'wx_obs_fac_id', 'wx_obs_elev', 'wx_obs_dist', 'light_cond',\n",
              "       'sky_cond_nonceil', 'sky_nonceil_ht', 'sky_ceil_ht', 'sky_cond_ceil',\n",
              "       'vis_rvr', 'vis_sm', 'wx_temp', 'wx_dew_pt', 'wind_dir_deg',\n",
              "       'wind_dir_ind', 'wind_vel_kts', 'wind_vel_ind', 'gust_ind', 'gust_kts',\n",
              "       'altimeter', 'wx_dens_alt', 'wx_int_precip', 'ev_highest_injury',\n",
              "       'inj_tot_t', 'wx_cond_basic', 'Cause_Factor', 'crew_no',\n",
              "       'crew_category', 'crew_age', 'crew_sex', 'med_certf', 'pilot_flying',\n",
              "       'crew_inj_level'],\n",
              "      dtype='object')"
            ]
          },
          "metadata": {},
          "execution_count": 147
        }
      ]
    },
    {
      "cell_type": "code",
      "source": [],
      "metadata": {
        "id": "04ia-DZE2kue"
      },
      "id": "04ia-DZE2kue",
      "execution_count": 147,
      "outputs": []
    }
  ],
  "metadata": {
    "kernelspec": {
      "display_name": "Python 3 (ipykernel)",
      "language": "python",
      "name": "python3"
    },
    "language_info": {
      "codemirror_mode": {
        "name": "ipython",
        "version": 3
      },
      "file_extension": ".py",
      "mimetype": "text/x-python",
      "name": "python",
      "nbconvert_exporter": "python",
      "pygments_lexer": "ipython3",
      "version": "3.8.8"
    },
    "colab": {
      "provenance": [],
      "include_colab_link": true
    }
  },
  "nbformat": 4,
  "nbformat_minor": 5
}