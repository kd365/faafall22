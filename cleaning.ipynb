{
  "cells": [
    {
      "cell_type": "markdown",
      "metadata": {
        "id": "view-in-github",
        "colab_type": "text"
      },
      "source": [
        "<a href=\"https://colab.research.google.com/github/kd365/faafall22/blob/hunter_19mar/cleaning.ipynb\" target=\"_parent\"><img src=\"https://colab.research.google.com/assets/colab-badge.svg\" alt=\"Open In Colab\"/></a>"
      ]
    },
    {
      "cell_type": "markdown",
      "source": [
        "# NTSB Cleaning Notebook"
      ],
      "metadata": {
        "id": "uFmGuv_e813K"
      },
      "id": "uFmGuv_e813K"
    },
    {
      "cell_type": "markdown",
      "source": [
        "## Steps:\n",
        "1. Import libraries and raw data\n",
        "2. Initial column drops\n",
        "3. Cleaning steps that wil apply to entire dataframe\n",
        "4. Cleaning each column\n",
        "\n",
        "**Cleaning Plan:**\n",
        "Hunter:\n",
        "- cols 0-22\n",
        "Kathleen:\n",
        "- col 23-45\n",
        "Eric:\n",
        "- col 46-68\n",
        "Chi:\n",
        "- col 69-85\n"
      ],
      "metadata": {
        "id": "t83UG5G79C69"
      },
      "id": "t83UG5G79C69"
    },
    {
      "cell_type": "markdown",
      "source": [
        "### 1. Import libraries"
      ],
      "metadata": {
        "id": "G1TLyT5-8xS3"
      },
      "id": "G1TLyT5-8xS3"
    },
    {
      "cell_type": "code",
      "source": [
        "from google.colab import files\n",
        "import pandas as pd\n",
        " \n",
        "uploaded = files.upload()"
      ],
      "metadata": {
        "id": "w0dmdVmRXvEp",
        "outputId": "7a1c3868-ddfd-4179-98b3-fa5907a66c82",
        "colab": {
          "base_uri": "https://localhost:8080/",
          "height": 73
        }
      },
      "id": "w0dmdVmRXvEp",
      "execution_count": null,
      "outputs": [
        {
          "output_type": "display_data",
          "data": {
            "text/plain": [
              "<IPython.core.display.HTML object>"
            ],
            "text/html": [
              "\n",
              "     <input type=\"file\" id=\"files-49c86e72-45a7-4efa-81f6-fce3cb05caac\" name=\"files[]\" multiple disabled\n",
              "        style=\"border:none\" />\n",
              "     <output id=\"result-49c86e72-45a7-4efa-81f6-fce3cb05caac\">\n",
              "      Upload widget is only available when the cell has been executed in the\n",
              "      current browser session. Please rerun this cell to enable.\n",
              "      </output>\n",
              "      <script>// Copyright 2017 Google LLC\n",
              "//\n",
              "// Licensed under the Apache License, Version 2.0 (the \"License\");\n",
              "// you may not use this file except in compliance with the License.\n",
              "// You may obtain a copy of the License at\n",
              "//\n",
              "//      http://www.apache.org/licenses/LICENSE-2.0\n",
              "//\n",
              "// Unless required by applicable law or agreed to in writing, software\n",
              "// distributed under the License is distributed on an \"AS IS\" BASIS,\n",
              "// WITHOUT WARRANTIES OR CONDITIONS OF ANY KIND, either express or implied.\n",
              "// See the License for the specific language governing permissions and\n",
              "// limitations under the License.\n",
              "\n",
              "/**\n",
              " * @fileoverview Helpers for google.colab Python module.\n",
              " */\n",
              "(function(scope) {\n",
              "function span(text, styleAttributes = {}) {\n",
              "  const element = document.createElement('span');\n",
              "  element.textContent = text;\n",
              "  for (const key of Object.keys(styleAttributes)) {\n",
              "    element.style[key] = styleAttributes[key];\n",
              "  }\n",
              "  return element;\n",
              "}\n",
              "\n",
              "// Max number of bytes which will be uploaded at a time.\n",
              "const MAX_PAYLOAD_SIZE = 100 * 1024;\n",
              "\n",
              "function _uploadFiles(inputId, outputId) {\n",
              "  const steps = uploadFilesStep(inputId, outputId);\n",
              "  const outputElement = document.getElementById(outputId);\n",
              "  // Cache steps on the outputElement to make it available for the next call\n",
              "  // to uploadFilesContinue from Python.\n",
              "  outputElement.steps = steps;\n",
              "\n",
              "  return _uploadFilesContinue(outputId);\n",
              "}\n",
              "\n",
              "// This is roughly an async generator (not supported in the browser yet),\n",
              "// where there are multiple asynchronous steps and the Python side is going\n",
              "// to poll for completion of each step.\n",
              "// This uses a Promise to block the python side on completion of each step,\n",
              "// then passes the result of the previous step as the input to the next step.\n",
              "function _uploadFilesContinue(outputId) {\n",
              "  const outputElement = document.getElementById(outputId);\n",
              "  const steps = outputElement.steps;\n",
              "\n",
              "  const next = steps.next(outputElement.lastPromiseValue);\n",
              "  return Promise.resolve(next.value.promise).then((value) => {\n",
              "    // Cache the last promise value to make it available to the next\n",
              "    // step of the generator.\n",
              "    outputElement.lastPromiseValue = value;\n",
              "    return next.value.response;\n",
              "  });\n",
              "}\n",
              "\n",
              "/**\n",
              " * Generator function which is called between each async step of the upload\n",
              " * process.\n",
              " * @param {string} inputId Element ID of the input file picker element.\n",
              " * @param {string} outputId Element ID of the output display.\n",
              " * @return {!Iterable<!Object>} Iterable of next steps.\n",
              " */\n",
              "function* uploadFilesStep(inputId, outputId) {\n",
              "  const inputElement = document.getElementById(inputId);\n",
              "  inputElement.disabled = false;\n",
              "\n",
              "  const outputElement = document.getElementById(outputId);\n",
              "  outputElement.innerHTML = '';\n",
              "\n",
              "  const pickedPromise = new Promise((resolve) => {\n",
              "    inputElement.addEventListener('change', (e) => {\n",
              "      resolve(e.target.files);\n",
              "    });\n",
              "  });\n",
              "\n",
              "  const cancel = document.createElement('button');\n",
              "  inputElement.parentElement.appendChild(cancel);\n",
              "  cancel.textContent = 'Cancel upload';\n",
              "  const cancelPromise = new Promise((resolve) => {\n",
              "    cancel.onclick = () => {\n",
              "      resolve(null);\n",
              "    };\n",
              "  });\n",
              "\n",
              "  // Wait for the user to pick the files.\n",
              "  const files = yield {\n",
              "    promise: Promise.race([pickedPromise, cancelPromise]),\n",
              "    response: {\n",
              "      action: 'starting',\n",
              "    }\n",
              "  };\n",
              "\n",
              "  cancel.remove();\n",
              "\n",
              "  // Disable the input element since further picks are not allowed.\n",
              "  inputElement.disabled = true;\n",
              "\n",
              "  if (!files) {\n",
              "    return {\n",
              "      response: {\n",
              "        action: 'complete',\n",
              "      }\n",
              "    };\n",
              "  }\n",
              "\n",
              "  for (const file of files) {\n",
              "    const li = document.createElement('li');\n",
              "    li.append(span(file.name, {fontWeight: 'bold'}));\n",
              "    li.append(span(\n",
              "        `(${file.type || 'n/a'}) - ${file.size} bytes, ` +\n",
              "        `last modified: ${\n",
              "            file.lastModifiedDate ? file.lastModifiedDate.toLocaleDateString() :\n",
              "                                    'n/a'} - `));\n",
              "    const percent = span('0% done');\n",
              "    li.appendChild(percent);\n",
              "\n",
              "    outputElement.appendChild(li);\n",
              "\n",
              "    const fileDataPromise = new Promise((resolve) => {\n",
              "      const reader = new FileReader();\n",
              "      reader.onload = (e) => {\n",
              "        resolve(e.target.result);\n",
              "      };\n",
              "      reader.readAsArrayBuffer(file);\n",
              "    });\n",
              "    // Wait for the data to be ready.\n",
              "    let fileData = yield {\n",
              "      promise: fileDataPromise,\n",
              "      response: {\n",
              "        action: 'continue',\n",
              "      }\n",
              "    };\n",
              "\n",
              "    // Use a chunked sending to avoid message size limits. See b/62115660.\n",
              "    let position = 0;\n",
              "    do {\n",
              "      const length = Math.min(fileData.byteLength - position, MAX_PAYLOAD_SIZE);\n",
              "      const chunk = new Uint8Array(fileData, position, length);\n",
              "      position += length;\n",
              "\n",
              "      const base64 = btoa(String.fromCharCode.apply(null, chunk));\n",
              "      yield {\n",
              "        response: {\n",
              "          action: 'append',\n",
              "          file: file.name,\n",
              "          data: base64,\n",
              "        },\n",
              "      };\n",
              "\n",
              "      let percentDone = fileData.byteLength === 0 ?\n",
              "          100 :\n",
              "          Math.round((position / fileData.byteLength) * 100);\n",
              "      percent.textContent = `${percentDone}% done`;\n",
              "\n",
              "    } while (position < fileData.byteLength);\n",
              "  }\n",
              "\n",
              "  // All done.\n",
              "  yield {\n",
              "    response: {\n",
              "      action: 'complete',\n",
              "    }\n",
              "  };\n",
              "}\n",
              "\n",
              "scope.google = scope.google || {};\n",
              "scope.google.colab = scope.google.colab || {};\n",
              "scope.google.colab._files = {\n",
              "  _uploadFiles,\n",
              "  _uploadFilesContinue,\n",
              "};\n",
              "})(self);\n",
              "</script> "
            ]
          },
          "metadata": {}
        },
        {
          "output_type": "stream",
          "name": "stdout",
          "text": [
            "Saving NTSB_for_cleaning (1).csv to NTSB_for_cleaning (1).csv\n"
          ]
        }
      ]
    },
    {
      "cell_type": "code",
      "execution_count": null,
      "id": "998f647c",
      "metadata": {
        "id": "998f647c",
        "outputId": "4397659d-c77f-4716-9779-367d0280b8d1",
        "colab": {
          "base_uri": "https://localhost:8080/"
        }
      },
      "outputs": [
        {
          "output_type": "stream",
          "name": "stdout",
          "text": [
            "<class 'pandas.core.frame.DataFrame'>\n",
            "RangeIndex: 104120 entries, 0 to 104119\n",
            "Data columns (total 86 columns):\n",
            " #   Column                 Non-Null Count   Dtype  \n",
            "---  ------                 --------------   -----  \n",
            " 0   aircraft_ev_id         104120 non-null  object \n",
            " 1   far_part               104120 non-null  object \n",
            " 2   flight_plan_activated  45517 non-null   object \n",
            " 3   damage                 103326 non-null  object \n",
            " 4   acft_make              104108 non-null  object \n",
            " 5   acft_model             104096 non-null  object \n",
            " 6   cert_max_gr_wt         93685 non-null   float64\n",
            " 7   num_eng                102746 non-null  float64\n",
            " 8   type_last_insp         99030 non-null   object \n",
            " 9   date_last_insp         83764 non-null   object \n",
            " 10  afm_hrs_last_insp      58888 non-null   float64\n",
            " 11  afm_hrs                84919 non-null   float64\n",
            " 12  type_fly               100532 non-null  object \n",
            " 13  dprt_apt_id            85958 non-null   object \n",
            " 14  dprt_city              88866 non-null   object \n",
            " 15  dprt_state             89162 non-null   object \n",
            " 16  dprt_time              94605 non-null   float64\n",
            " 17  dest_same_local        34112 non-null   object \n",
            " 18  dest_apt_id            71722 non-null   object \n",
            " 19  dest_city              74822 non-null   object \n",
            " 20  dest_state             75078 non-null   object \n",
            " 21  phase_flt_spec         51969 non-null   float64\n",
            " 22  afm_hrs_since          59743 non-null   object \n",
            " 23  rwy_num                77801 non-null   object \n",
            " 24  rwy_len                64245 non-null   float64\n",
            " 25  rwy_width              63263 non-null   float64\n",
            " 26  ifr_equipped_cert      104120 non-null  bool   \n",
            " 27  eng_no                 103670 non-null  float64\n",
            " 28  eng_type               103258 non-null  object \n",
            " 29  eng_mfgr               102470 non-null  object \n",
            " 30  hp_or_lbs              98580 non-null   object \n",
            " 31  carb_fuel_injection    86604 non-null   object \n",
            " 32  eng_time_total         51578 non-null   float64\n",
            " 33  eng_time_last_insp     51578 non-null   float64\n",
            " 34  ntsb_no                104120 non-null  object \n",
            " 35  ev_type                104120 non-null  object \n",
            " 36  ev_date                104120 non-null  object \n",
            " 37  ev_dow                 104120 non-null  object \n",
            " 38  ev_time                104035 non-null  float64\n",
            " 39  ev_city                104114 non-null  object \n",
            " 40  ev_state               103812 non-null  object \n",
            " 41  ev_year                104120 non-null  int64  \n",
            " 42  ev_month               104120 non-null  int64  \n",
            " 43  latitude               60230 non-null   object \n",
            " 44  longitude              60231 non-null   object \n",
            " 45  apt_name               72793 non-null   object \n",
            " 46  ev_nr_apt_id           69801 non-null   object \n",
            " 47  ev_nr_apt_loc          102547 non-null  object \n",
            " 48  apt_dist               87657 non-null   float64\n",
            " 49  apt_dir                46753 non-null   float64\n",
            " 50  apt_elev               74371 non-null   float64\n",
            " 51  wx_src_iic             102501 non-null  object \n",
            " 52  wx_obs_time            98591 non-null   float64\n",
            " 53  wx_obs_dir             101520 non-null  float64\n",
            " 54  wx_obs_fac_id          82383 non-null   object \n",
            " 55  wx_obs_elev            94869 non-null   float64\n",
            " 56  wx_obs_dist            101940 non-null  float64\n",
            " 57  light_cond             103997 non-null  object \n",
            " 58  sky_cond_nonceil       94823 non-null   object \n",
            " 59  sky_nonceil_ht         97868 non-null   float64\n",
            " 60  sky_ceil_ht            97549 non-null   float64\n",
            " 61  sky_cond_ceil          100149 non-null  object \n",
            " 62  vis_rvr                42792 non-null   float64\n",
            " 63  vis_sm                 102787 non-null  float64\n",
            " 64  wx_temp                100236 non-null  float64\n",
            " 65  wx_dew_pt              92593 non-null   float64\n",
            " 66  wind_dir_deg           102898 non-null  float64\n",
            " 67  wind_dir_ind           103617 non-null  object \n",
            " 68  wind_vel_kts           93150 non-null   float64\n",
            " 69  wind_vel_ind           104079 non-null  object \n",
            " 70  gust_ind               104100 non-null  object \n",
            " 71  gust_kts               96906 non-null   float64\n",
            " 72  altimeter              91137 non-null   float64\n",
            " 73  wx_dens_alt            19070 non-null   float64\n",
            " 74  wx_int_precip          42863 non-null   object \n",
            " 75  ev_highest_injury      104033 non-null  object \n",
            " 76  inj_tot_t              76097 non-null   float64\n",
            " 77  wx_cond_basic          104078 non-null  object \n",
            " 78  Cause_Factor           43521 non-null   object \n",
            " 79  crew_no                51448 non-null   float64\n",
            " 80  crew_category          50990 non-null   object \n",
            " 81  crew_age               49235 non-null   float64\n",
            " 82  crew_sex               37326 non-null   object \n",
            " 83  med_certf              48872 non-null   object \n",
            " 84  pilot_flying           103551 non-null  object \n",
            " 85  crew_inj_level         50327 non-null   object \n",
            "dtypes: bool(1), float64(33), int64(2), object(50)\n",
            "memory usage: 67.6+ MB\n"
          ]
        }
      ],
      "source": [
        "# setting pandas display options\n",
        "pd.set_option('display.max_rows', 150)\n",
        "\n",
        "# reading in NTSB csv file\n",
        "ntsb_raw = pd.read_csv(\"NTSB_for_cleaning (1).csv\", encoding='latin-1', low_memory=False)\n",
        "ntsb_raw = ntsb_raw.drop(['engines_ev_id', 'events_ev_id', 'Unnamed: 0'], axis=1)\n",
        "# view the dataframe info\n",
        "ntsb_raw.info()"
      ]
    },
    {
      "cell_type": "markdown",
      "source": [
        "### 2. Initial Drop"
      ],
      "metadata": {
        "id": "rTGB5OeKO5H7"
      },
      "id": "rTGB5OeKO5H7"
    },
    {
      "cell_type": "code",
      "source": [
        "# drop all records that do not have at least 50 columns worth of data in them\n",
        "ntsb_raw = ntsb_raw.dropna(thresh=50)"
      ],
      "metadata": {
        "id": "nQJJY6lK6hTa"
      },
      "id": "nQJJY6lK6hTa",
      "execution_count": null,
      "outputs": []
    },
    {
      "cell_type": "code",
      "execution_count": null,
      "id": "34c133ed",
      "metadata": {
        "id": "34c133ed",
        "outputId": "3f8950c3-f3cf-4ce7-cbb2-9c933317a24c",
        "colab": {
          "base_uri": "https://localhost:8080/",
          "height": 236
        }
      },
      "outputs": [
        {
          "output_type": "execute_result",
          "data": {
            "text/plain": [
              "   aircraft_ev_id far_part flight_plan_activated damage acft_make acft_model  \\\n",
              "0  20001204X00000      135                   NaN   SUBS    Cessna        207   \n",
              "1  20001204X00004      135                   NaN   SUBS    Cessna        207   \n",
              "2  20001204X00005      091                   NaN   SUBS     Piper  PA-22-160   \n",
              "3  20001204X00006      091                   NaN   DEST     Beech        300   \n",
              "4  20001204X00007      091                   NaN   DEST     Piper  PA-28-181   \n",
              "\n",
              "   cert_max_gr_wt  num_eng type_last_insp date_last_insp  ...  inj_tot_t  \\\n",
              "0          3800.0      1.0           100H     12/16/1998  ...        1.0   \n",
              "1          3800.0      1.0           AAIP     12/14/1998  ...        NaN   \n",
              "2          1840.0      1.0           ANNL      3/14/1998  ...        NaN   \n",
              "3         14100.0      2.0           AAIP      1/14/1999  ...        2.0   \n",
              "4          2550.0      1.0            UNK            NaN  ...        1.0   \n",
              "\n",
              "   wx_cond_basic Cause_Factor crew_no crew_category crew_age  crew_sex  \\\n",
              "0            VMC          NaN     NaN           NaN      NaN       NaN   \n",
              "1            VMC          NaN     NaN           NaN      NaN       NaN   \n",
              "2            VMC          NaN     NaN           NaN      NaN       NaN   \n",
              "3            IMC          NaN     NaN           NaN      NaN       NaN   \n",
              "4            VMC          NaN     NaN           NaN      NaN       NaN   \n",
              "\n",
              "  med_certf pilot_flying crew_inj_level  \n",
              "0       NaN        False            NaN  \n",
              "1       NaN        False            NaN  \n",
              "2       NaN        False            NaN  \n",
              "3       NaN        False            NaN  \n",
              "4       NaN        False            NaN  \n",
              "\n",
              "[5 rows x 86 columns]"
            ],
            "text/html": [
              "\n",
              "  <div id=\"df-1acb3742-0331-40ed-9bb6-b4ad1df32832\">\n",
              "    <div class=\"colab-df-container\">\n",
              "      <div>\n",
              "<style scoped>\n",
              "    .dataframe tbody tr th:only-of-type {\n",
              "        vertical-align: middle;\n",
              "    }\n",
              "\n",
              "    .dataframe tbody tr th {\n",
              "        vertical-align: top;\n",
              "    }\n",
              "\n",
              "    .dataframe thead th {\n",
              "        text-align: right;\n",
              "    }\n",
              "</style>\n",
              "<table border=\"1\" class=\"dataframe\">\n",
              "  <thead>\n",
              "    <tr style=\"text-align: right;\">\n",
              "      <th></th>\n",
              "      <th>aircraft_ev_id</th>\n",
              "      <th>far_part</th>\n",
              "      <th>flight_plan_activated</th>\n",
              "      <th>damage</th>\n",
              "      <th>acft_make</th>\n",
              "      <th>acft_model</th>\n",
              "      <th>cert_max_gr_wt</th>\n",
              "      <th>num_eng</th>\n",
              "      <th>type_last_insp</th>\n",
              "      <th>date_last_insp</th>\n",
              "      <th>...</th>\n",
              "      <th>inj_tot_t</th>\n",
              "      <th>wx_cond_basic</th>\n",
              "      <th>Cause_Factor</th>\n",
              "      <th>crew_no</th>\n",
              "      <th>crew_category</th>\n",
              "      <th>crew_age</th>\n",
              "      <th>crew_sex</th>\n",
              "      <th>med_certf</th>\n",
              "      <th>pilot_flying</th>\n",
              "      <th>crew_inj_level</th>\n",
              "    </tr>\n",
              "  </thead>\n",
              "  <tbody>\n",
              "    <tr>\n",
              "      <th>0</th>\n",
              "      <td>20001204X00000</td>\n",
              "      <td>135</td>\n",
              "      <td>NaN</td>\n",
              "      <td>SUBS</td>\n",
              "      <td>Cessna</td>\n",
              "      <td>207</td>\n",
              "      <td>3800.0</td>\n",
              "      <td>1.0</td>\n",
              "      <td>100H</td>\n",
              "      <td>12/16/1998</td>\n",
              "      <td>...</td>\n",
              "      <td>1.0</td>\n",
              "      <td>VMC</td>\n",
              "      <td>NaN</td>\n",
              "      <td>NaN</td>\n",
              "      <td>NaN</td>\n",
              "      <td>NaN</td>\n",
              "      <td>NaN</td>\n",
              "      <td>NaN</td>\n",
              "      <td>False</td>\n",
              "      <td>NaN</td>\n",
              "    </tr>\n",
              "    <tr>\n",
              "      <th>1</th>\n",
              "      <td>20001204X00004</td>\n",
              "      <td>135</td>\n",
              "      <td>NaN</td>\n",
              "      <td>SUBS</td>\n",
              "      <td>Cessna</td>\n",
              "      <td>207</td>\n",
              "      <td>3800.0</td>\n",
              "      <td>1.0</td>\n",
              "      <td>AAIP</td>\n",
              "      <td>12/14/1998</td>\n",
              "      <td>...</td>\n",
              "      <td>NaN</td>\n",
              "      <td>VMC</td>\n",
              "      <td>NaN</td>\n",
              "      <td>NaN</td>\n",
              "      <td>NaN</td>\n",
              "      <td>NaN</td>\n",
              "      <td>NaN</td>\n",
              "      <td>NaN</td>\n",
              "      <td>False</td>\n",
              "      <td>NaN</td>\n",
              "    </tr>\n",
              "    <tr>\n",
              "      <th>2</th>\n",
              "      <td>20001204X00005</td>\n",
              "      <td>091</td>\n",
              "      <td>NaN</td>\n",
              "      <td>SUBS</td>\n",
              "      <td>Piper</td>\n",
              "      <td>PA-22-160</td>\n",
              "      <td>1840.0</td>\n",
              "      <td>1.0</td>\n",
              "      <td>ANNL</td>\n",
              "      <td>3/14/1998</td>\n",
              "      <td>...</td>\n",
              "      <td>NaN</td>\n",
              "      <td>VMC</td>\n",
              "      <td>NaN</td>\n",
              "      <td>NaN</td>\n",
              "      <td>NaN</td>\n",
              "      <td>NaN</td>\n",
              "      <td>NaN</td>\n",
              "      <td>NaN</td>\n",
              "      <td>False</td>\n",
              "      <td>NaN</td>\n",
              "    </tr>\n",
              "    <tr>\n",
              "      <th>3</th>\n",
              "      <td>20001204X00006</td>\n",
              "      <td>091</td>\n",
              "      <td>NaN</td>\n",
              "      <td>DEST</td>\n",
              "      <td>Beech</td>\n",
              "      <td>300</td>\n",
              "      <td>14100.0</td>\n",
              "      <td>2.0</td>\n",
              "      <td>AAIP</td>\n",
              "      <td>1/14/1999</td>\n",
              "      <td>...</td>\n",
              "      <td>2.0</td>\n",
              "      <td>IMC</td>\n",
              "      <td>NaN</td>\n",
              "      <td>NaN</td>\n",
              "      <td>NaN</td>\n",
              "      <td>NaN</td>\n",
              "      <td>NaN</td>\n",
              "      <td>NaN</td>\n",
              "      <td>False</td>\n",
              "      <td>NaN</td>\n",
              "    </tr>\n",
              "    <tr>\n",
              "      <th>4</th>\n",
              "      <td>20001204X00007</td>\n",
              "      <td>091</td>\n",
              "      <td>NaN</td>\n",
              "      <td>DEST</td>\n",
              "      <td>Piper</td>\n",
              "      <td>PA-28-181</td>\n",
              "      <td>2550.0</td>\n",
              "      <td>1.0</td>\n",
              "      <td>UNK</td>\n",
              "      <td>NaN</td>\n",
              "      <td>...</td>\n",
              "      <td>1.0</td>\n",
              "      <td>VMC</td>\n",
              "      <td>NaN</td>\n",
              "      <td>NaN</td>\n",
              "      <td>NaN</td>\n",
              "      <td>NaN</td>\n",
              "      <td>NaN</td>\n",
              "      <td>NaN</td>\n",
              "      <td>False</td>\n",
              "      <td>NaN</td>\n",
              "    </tr>\n",
              "  </tbody>\n",
              "</table>\n",
              "<p>5 rows × 86 columns</p>\n",
              "</div>\n",
              "      <button class=\"colab-df-convert\" onclick=\"convertToInteractive('df-1acb3742-0331-40ed-9bb6-b4ad1df32832')\"\n",
              "              title=\"Convert this dataframe to an interactive table.\"\n",
              "              style=\"display:none;\">\n",
              "        \n",
              "  <svg xmlns=\"http://www.w3.org/2000/svg\" height=\"24px\"viewBox=\"0 0 24 24\"\n",
              "       width=\"24px\">\n",
              "    <path d=\"M0 0h24v24H0V0z\" fill=\"none\"/>\n",
              "    <path d=\"M18.56 5.44l.94 2.06.94-2.06 2.06-.94-2.06-.94-.94-2.06-.94 2.06-2.06.94zm-11 1L8.5 8.5l.94-2.06 2.06-.94-2.06-.94L8.5 2.5l-.94 2.06-2.06.94zm10 10l.94 2.06.94-2.06 2.06-.94-2.06-.94-.94-2.06-.94 2.06-2.06.94z\"/><path d=\"M17.41 7.96l-1.37-1.37c-.4-.4-.92-.59-1.43-.59-.52 0-1.04.2-1.43.59L10.3 9.45l-7.72 7.72c-.78.78-.78 2.05 0 2.83L4 21.41c.39.39.9.59 1.41.59.51 0 1.02-.2 1.41-.59l7.78-7.78 2.81-2.81c.8-.78.8-2.07 0-2.86zM5.41 20L4 18.59l7.72-7.72 1.47 1.35L5.41 20z\"/>\n",
              "  </svg>\n",
              "      </button>\n",
              "      \n",
              "  <style>\n",
              "    .colab-df-container {\n",
              "      display:flex;\n",
              "      flex-wrap:wrap;\n",
              "      gap: 12px;\n",
              "    }\n",
              "\n",
              "    .colab-df-convert {\n",
              "      background-color: #E8F0FE;\n",
              "      border: none;\n",
              "      border-radius: 50%;\n",
              "      cursor: pointer;\n",
              "      display: none;\n",
              "      fill: #1967D2;\n",
              "      height: 32px;\n",
              "      padding: 0 0 0 0;\n",
              "      width: 32px;\n",
              "    }\n",
              "\n",
              "    .colab-df-convert:hover {\n",
              "      background-color: #E2EBFA;\n",
              "      box-shadow: 0px 1px 2px rgba(60, 64, 67, 0.3), 0px 1px 3px 1px rgba(60, 64, 67, 0.15);\n",
              "      fill: #174EA6;\n",
              "    }\n",
              "\n",
              "    [theme=dark] .colab-df-convert {\n",
              "      background-color: #3B4455;\n",
              "      fill: #D2E3FC;\n",
              "    }\n",
              "\n",
              "    [theme=dark] .colab-df-convert:hover {\n",
              "      background-color: #434B5C;\n",
              "      box-shadow: 0px 1px 3px 1px rgba(0, 0, 0, 0.15);\n",
              "      filter: drop-shadow(0px 1px 2px rgba(0, 0, 0, 0.3));\n",
              "      fill: #FFFFFF;\n",
              "    }\n",
              "  </style>\n",
              "\n",
              "      <script>\n",
              "        const buttonEl =\n",
              "          document.querySelector('#df-1acb3742-0331-40ed-9bb6-b4ad1df32832 button.colab-df-convert');\n",
              "        buttonEl.style.display =\n",
              "          google.colab.kernel.accessAllowed ? 'block' : 'none';\n",
              "\n",
              "        async function convertToInteractive(key) {\n",
              "          const element = document.querySelector('#df-1acb3742-0331-40ed-9bb6-b4ad1df32832');\n",
              "          const dataTable =\n",
              "            await google.colab.kernel.invokeFunction('convertToInteractive',\n",
              "                                                     [key], {});\n",
              "          if (!dataTable) return;\n",
              "\n",
              "          const docLinkHtml = 'Like what you see? Visit the ' +\n",
              "            '<a target=\"_blank\" href=https://colab.research.google.com/notebooks/data_table.ipynb>data table notebook</a>'\n",
              "            + ' to learn more about interactive tables.';\n",
              "          element.innerHTML = '';\n",
              "          dataTable['output_type'] = 'display_data';\n",
              "          await google.colab.output.renderOutput(dataTable, element);\n",
              "          const docLink = document.createElement('div');\n",
              "          docLink.innerHTML = docLinkHtml;\n",
              "          element.appendChild(docLink);\n",
              "        }\n",
              "      </script>\n",
              "    </div>\n",
              "  </div>\n",
              "  "
            ]
          },
          "metadata": {},
          "execution_count": 37
        }
      ],
      "source": [
        "# view data\n",
        "ntsb_raw.head()"
      ]
    },
    {
      "cell_type": "code",
      "source": [
        "# drop any columns that have more than 40% null values\n",
        "total_rows = ntsb_raw.shape[0]\n",
        "\n",
        "def drop_cols(df, df_size):\n",
        "    # create a list of columns to drop\n",
        "    drop = []\n",
        "    # iterate over each column\n",
        "    for x in df.columns:\n",
        "        #determine if the ratio of nulls is greater than 30%\n",
        "        ratio = (df[x].isna().sum()) / df_size\n",
        "        if ratio > 0.4:\n",
        "            drop.append(x)\n",
        "    # drop the columns in the drop list\n",
        "    df.drop(labels=drop, axis=1)\n",
        "    print('Cols dropped from df:', drop)\n",
        "    print(df.shape)\n",
        "    return df\n",
        "\n",
        "ntsb_dropped_cols = drop_cols(ntsb_raw, total_rows)      \n"
      ],
      "metadata": {
        "colab": {
          "base_uri": "https://localhost:8080/"
        },
        "id": "vdxZW7P5_5i6",
        "outputId": "36671aac-dc66-46ce-aab3-581bae4fcef0"
      },
      "id": "vdxZW7P5_5i6",
      "execution_count": null,
      "outputs": [
        {
          "output_type": "stream",
          "name": "stdout",
          "text": [
            "Cols dropped from df: ['flight_plan_activated', 'afm_hrs_last_insp', 'dest_same_local', 'phase_flt_spec', 'afm_hrs_since', 'eng_time_total', 'eng_time_last_insp', 'latitude', 'longitude', 'apt_dir', 'vis_rvr', 'wx_dens_alt', 'wx_int_precip', 'Cause_Factor', 'crew_no', 'crew_category', 'crew_age', 'crew_sex', 'med_certf', 'crew_inj_level']\n",
            "(104120, 86)\n"
          ]
        }
      ]
    },
    {
      "cell_type": "code",
      "source": [
        "print(ntsb_dropped_cols.shape)"
      ],
      "metadata": {
        "colab": {
          "base_uri": "https://localhost:8080/"
        },
        "id": "n1YllzgSTVIS",
        "outputId": "870bffbf-3b7e-4b39-bd7e-119a5aa2d18c"
      },
      "id": "n1YllzgSTVIS",
      "execution_count": null,
      "outputs": [
        {
          "output_type": "stream",
          "name": "stdout",
          "text": [
            "(104120, 86)\n"
          ]
        }
      ]
    },
    {
      "cell_type": "markdown",
      "source": [
        "## 3. Cleaning that applies to entire data set"
      ],
      "metadata": {
        "id": "u2TOQKAg5sI9"
      },
      "id": "u2TOQKAg5sI9"
    },
    {
      "cell_type": "code",
      "source": [
        "# function to initially clean up all strings in df\n",
        "def df_string_transform(df):\n",
        "    ''' \n",
        "    force all text data to lowercase and strip left and right side of strings\n",
        "    in all string columns\n",
        "\n",
        "    args: dataframe\n",
        "\n",
        "    returns: dataframe\n",
        "    '''\n",
        "    df1 = df.applymap(lambda x: x.lower() if type(x) == str else x)\n",
        "    df1 = df1.applymap(lambda x: x.strip() if type(x) == str else x)\n",
        "    return df1"
      ],
      "metadata": {
        "id": "F4-A27i55qay"
      },
      "id": "F4-A27i55qay",
      "execution_count": null,
      "outputs": []
    },
    {
      "cell_type": "code",
      "source": [
        "# applying the funcrition from above\n",
        "ntsb_1 = df_string_transform(ntsb_dropped_cols)"
      ],
      "metadata": {
        "id": "2o7ipQWb_xaZ"
      },
      "id": "2o7ipQWb_xaZ",
      "execution_count": null,
      "outputs": []
    },
    {
      "cell_type": "markdown",
      "source": [
        "**NOTE**: for section 3 use the dataframe `ntsb_1` for cleaning"
      ],
      "metadata": {
        "id": "loxHcDDkAGmS"
      },
      "id": "loxHcDDkAGmS"
    },
    {
      "cell_type": "markdown",
      "source": [
        "### 3. Cleaning Each Column"
      ],
      "metadata": {
        "id": "r1Kb9XWSO9YW"
      },
      "id": "r1Kb9XWSO9YW"
    },
    {
      "cell_type": "code",
      "source": [
        "# function to show all the metrics you will want to see for each column\n",
        "def col_metrics(df, col='none'):\n",
        "  print('Unique data: ', df[col].unique())\n",
        "  print('Value counts: ', df[col].value_counts())\n",
        "  print('Total nulls: ', df[col].isna().sum())\n",
        "  print('Data type: ', df[col].dtypes)"
      ],
      "metadata": {
        "id": "L5bOiUp6PSBx"
      },
      "id": "L5bOiUp6PSBx",
      "execution_count": null,
      "outputs": []
    },
    {
      "cell_type": "markdown",
      "source": [
        "### HUNTER'S SECTION"
      ],
      "metadata": {
        "id": "OpIxqub26j2I"
      },
      "id": "OpIxqub26j2I"
    },
    {
      "cell_type": "code",
      "source": [
        "# column 1: far part\n",
        "col_metrics(ntsb_1, col='far_part')      \n",
        "\n",
        "# making a copy of the data set as ntsb_1\n",
        "ntsb_1 = pd.DataFrame.copy(ntsb_1)\n",
        "\n",
        "# remove the K and F from part 091\n",
        "ntsb_1['far_part'] = ntsb_1['far_part'].str.replace('k', '').str.replace('f', '').str.replace('arm', '091')\n",
        "print(ntsb_1['far_part'].unique())"
      ],
      "metadata": {
        "colab": {
          "base_uri": "https://localhost:8080/"
        },
        "id": "37MrEvJ2P688",
        "outputId": "1a87a84d-48c3-4d30-cb42-2f262b1495e3"
      },
      "id": "37MrEvJ2P688",
      "execution_count": null,
      "outputs": [
        {
          "output_type": "stream",
          "name": "stdout",
          "text": [
            "Unique data:  ['135' '091' '137' '103' 'armf' '091f' '091k' '437']\n",
            "Value counts:  091     93244\n",
            "135      5767\n",
            "137      4737\n",
            "103       147\n",
            "091k      123\n",
            "armf       50\n",
            "091f       38\n",
            "437        14\n",
            "Name: far_part, dtype: int64\n",
            "Total nulls:  0\n",
            "Data type:  object\n",
            "['135' '091' '137' '103' '437']\n"
          ]
        }
      ]
    },
    {
      "cell_type": "code",
      "source": [
        "# column 2: 'flight_plan_activated'\n",
        "col_metrics(ntsb_1, 'flight_plan_activated')\n",
        "\n",
        "# dropping this column, too many nulls, and filing a flight plan is superfluous \n",
        "#because you can file in flight or you can use flight following\n",
        "ntsb_1 = ntsb_1.drop(['flight_plan_activated'], axis=1)"
      ],
      "metadata": {
        "colab": {
          "base_uri": "https://localhost:8080/"
        },
        "id": "crGb15IhQMQ1",
        "outputId": "a82fcccb-b617-4f5e-b208-7ffd65500124"
      },
      "id": "crGb15IhQMQ1",
      "execution_count": null,
      "outputs": [
        {
          "output_type": "stream",
          "name": "stdout",
          "text": [
            "Unique data:  [nan 'y' 'n' 'u']\n",
            "Value counts:  n    32367\n",
            "y    11622\n",
            "u     1528\n",
            "Name: flight_plan_activated, dtype: int64\n",
            "Total nulls:  58603\n",
            "Data type:  object\n"
          ]
        }
      ]
    },
    {
      "cell_type": "code",
      "source": [
        "# column 3: 'damage'\n",
        "col_metrics(ntsb_1, 'damage')\n",
        "\n",
        "# change the unk to none\n",
        "ntsb_1['damage'] = ntsb_1['damage'].str.replace('unk', 'none')\n",
        "# drop the 491 rows that do not have a damage listing\n",
        "ntsb_1 = ntsb_1.dropna(subset='damage')\n",
        "print('final null count:', ntsb_1['damage'].isna().sum())"
      ],
      "metadata": {
        "colab": {
          "base_uri": "https://localhost:8080/"
        },
        "id": "6T_xO3v1W-aS",
        "outputId": "20be44fe-1b02-4d26-a448-9ecf4c157d0d"
      },
      "id": "6T_xO3v1W-aS",
      "execution_count": null,
      "outputs": [
        {
          "output_type": "stream",
          "name": "stdout",
          "text": [
            "Unique data:  ['subs' 'dest' 'none' 'minr']\n",
            "Value counts:  subs    80863\n",
            "dest    18947\n",
            "minr     3086\n",
            "none      430\n",
            "Name: damage, dtype: int64\n",
            "Total nulls:  0\n",
            "Data type:  object\n",
            "final null count: 0\n"
          ]
        }
      ]
    },
    {
      "cell_type": "code",
      "source": [
        "# column 4: 'acft_make'\n",
        "col_metrics(ntsb_1, 'acft_make')\n",
        "\n",
        "# there are 6 rosw with nulls, will drop those\n",
        "ntsb_1 = ntsb_1.dropna(subset=['acft_make'])\n",
        "print(ntsb_1['acft_make'].isna().sum())\n",
        "\n",
        "# force all strings to lower to promote uniformity\n",
        "ntsb_1['acft_make'] = ntsb_1['acft_make'].str.lower()\n",
        "print(ntsb_1['acft_make'].unique())"
      ],
      "metadata": {
        "colab": {
          "base_uri": "https://localhost:8080/"
        },
        "id": "AnYv7U0wXZK1",
        "outputId": "4ed32db3-b553-4f3c-fa90-de10464ac6f2"
      },
      "id": "AnYv7U0wXZK1",
      "execution_count": null,
      "outputs": [
        {
          "output_type": "stream",
          "name": "stdout",
          "text": [
            "Unique data:  ['beech' 'aero commander' 'piper' ... 'gonzalez manuel a' 'brandt'\n",
            " 'harris-runyan']\n",
            "Value counts:  cessna            17442\n",
            "piper             10125\n",
            "beech              4798\n",
            "mooney              975\n",
            "bell                756\n",
            "                  ...  \n",
            "arnet pereyra         1\n",
            "empson                1\n",
            "purvis/thorpe         1\n",
            "barackman vans        1\n",
            "teal harry h          1\n",
            "Name: acft_make, Length: 2811, dtype: int64\n",
            "Total nulls:  0\n",
            "0\n",
            "['beech' 'aero commander' 'piper' ... 'gonzalez manuel a' 'brandt'\n",
            " 'harris-runyan']\n"
          ]
        }
      ]
    },
    {
      "cell_type": "code",
      "source": [
        "# column 5: 'acft_model'\n",
        "col_metrics(ntsb_1, 'acft_model')\n",
        "\n",
        "# drop the 5 rows that have nulls\n",
        "ntsb_1 = ntsb_1.dropna(subset=['acft_model'])"
      ],
      "metadata": {
        "id": "AozNgVfCcgrX",
        "outputId": "f901e0ad-eb49-4f15-ef2a-7f7fc9ee09c4",
        "colab": {
          "base_uri": "https://localhost:8080/"
        }
      },
      "id": "AozNgVfCcgrX",
      "execution_count": null,
      "outputs": [
        {
          "output_type": "stream",
          "name": "stdout",
          "text": [
            "Unique data:  ['300' '560A' '95-C55' ... 'RV 7' 'F4U 5' 'Skybolt 300']\n",
            "Value counts:  172                    988\n",
            "152                    927\n",
            "172S                   836\n",
            "172N                   714\n",
            "172M                   704\n",
            "                      ... \n",
            "JODEL F-9                1\n",
            "305 A                    1\n",
            "STOLP STARLET SA500      1\n",
            "VM-1 Esqual              1\n",
            "Searey Amphibian         1\n",
            "Name: acft_model, Length: 4466, dtype: int64\n",
            "Total nulls:  5\n"
          ]
        }
      ]
    },
    {
      "cell_type": "code",
      "source": [
        "# column 6: 'cert_max_gr_wt'\n",
        "col_metrics(ntsb_1, 'cert_max_gr_wt')\n",
        "print(ntsb_1['cert_max_gr_wt'].max(), ntsb_1['cert_max_gr_wt'].min())\n",
        "\n",
        "def weight_bins(df, col):\n",
        "    avg_wt = avg(df[col])\n",
        "    for x in list(df[col]):\n",
        "        if x <= 12500:\n",
        "            x = 'small'\n",
        "        elif x > 12500 and x < 41000:\n",
        "            x = 'medium'\n",
        "        elif x == 'nan':\n",
        "            x = \n",
        "            x = 'large commuter'\n",
        "    return df"
      ],
      "metadata": {
        "id": "rnEhue0Ocw0W",
        "outputId": "3ce8b349-0827-41c4-8041-0d4746e03e7e",
        "colab": {
          "base_uri": "https://localhost:8080/"
        }
      },
      "id": "rnEhue0Ocw0W",
      "execution_count": null,
      "outputs": [
        {
          "output_type": "stream",
          "name": "stdout",
          "text": [
            "Unique data:  [14100.  6000.  5300. ...  1830.  3305.  2251.]\n",
            "Value counts:  2300.0     1910\n",
            "2550.0     1573\n",
            "3600.0     1371\n",
            "1600.0     1364\n",
            "3400.0     1266\n",
            "           ... \n",
            "10294.0       1\n",
            "615.0         1\n",
            "10775.0       1\n",
            "1332.0        1\n",
            "7952.0        1\n",
            "Name: cert_max_gr_wt, Length: 1382, dtype: int64\n",
            "Total nulls:  6805\n",
            "503500.0 0.0\n"
          ]
        }
      ]
    },
    {
      "cell_type": "code",
      "source": [],
      "metadata": {
        "id": "TgIjDAO1g4WQ"
      },
      "id": "TgIjDAO1g4WQ",
      "execution_count": null,
      "outputs": []
    },
    {
      "cell_type": "markdown",
      "source": [
        "## KATHLEEN'S SECITON"
      ],
      "metadata": {
        "id": "Ylh4gVLz6tEj"
      },
      "id": "Ylh4gVLz6tEj"
    },
    {
      "cell_type": "code",
      "source": [
        "ntsb_2 = weight_bins(ntsb_1, 'cert_max_gr_wt')"
      ],
      "metadata": {
        "id": "J4tPa8D0f-vf"
      },
      "id": "J4tPa8D0f-vf",
      "execution_count": null,
      "outputs": []
    },
    {
      "cell_type": "code",
      "source": [
        "ntsb_2['cert_max_gr_wt']"
      ],
      "metadata": {
        "id": "egQyee5RgNOO",
        "outputId": "24f274e1-ce2d-443f-b238-e895f9d41202",
        "colab": {
          "base_uri": "https://localhost:8080/"
        }
      },
      "id": "egQyee5RgNOO",
      "execution_count": null,
      "outputs": [
        {
          "output_type": "execute_result",
          "data": {
            "text/plain": [
              "0        14100.0\n",
              "1         6000.0\n",
              "2         5300.0\n",
              "3         5121.0\n",
              "4         4300.0\n",
              "          ...   \n",
              "58683        NaN\n",
              "58684        NaN\n",
              "58685        NaN\n",
              "58686        NaN\n",
              "58687        NaN\n",
              "Name: cert_max_gr_wt, Length: 58677, dtype: float64"
            ]
          },
          "metadata": {},
          "execution_count": 116
        }
      ]
    },
    {
      "cell_type": "code",
      "source": [
        "ntsb_1.columns"
      ],
      "metadata": {
        "colab": {
          "base_uri": "https://localhost:8080/"
        },
        "id": "h4wOM4VaQSO4",
        "outputId": "f1a2d9f8-70ad-490e-af09-e79a3a0a3f10"
      },
      "id": "h4wOM4VaQSO4",
      "execution_count": null,
      "outputs": [
        {
          "output_type": "execute_result",
          "data": {
            "text/plain": [
              "Index(['aircraft_ev_id', 'far_part', 'flight_plan_activated', 'damage',\n",
              "       'acft_make', 'acft_model', 'cert_max_gr_wt', 'num_eng',\n",
              "       'type_last_insp', 'date_last_insp', 'afm_hrs_last_insp', 'afm_hrs',\n",
              "       'type_fly', 'dprt_apt_id', 'dprt_city', 'dprt_state', 'dprt_time',\n",
              "       'dest_same_local', 'dest_apt_id', 'dest_city', 'dest_state',\n",
              "       'phase_flt_spec', 'afm_hrs_since', 'rwy_num', 'rwy_len', 'rwy_width',\n",
              "       'ifr_equipped_cert', 'eng_no', 'eng_type', 'eng_mfgr', 'hp_or_lbs',\n",
              "       'carb_fuel_injection', 'eng_time_total', 'eng_time_last_insp',\n",
              "       'ntsb_no', 'ev_type', 'ev_date', 'ev_dow', 'ev_time', 'ev_city',\n",
              "       'ev_state', 'ev_year', 'ev_month', 'latitude', 'longitude', 'apt_name',\n",
              "       'ev_nr_apt_id', 'ev_nr_apt_loc', 'apt_dist', 'apt_dir', 'apt_elev',\n",
              "       'wx_src_iic', 'wx_obs_time', 'wx_obs_dir', 'wx_obs_fac_id',\n",
              "       'wx_obs_elev', 'wx_obs_dist', 'light_cond', 'sky_cond_nonceil',\n",
              "       'sky_nonceil_ht', 'sky_ceil_ht', 'sky_cond_ceil', 'vis_rvr', 'vis_sm',\n",
              "       'wx_temp', 'wx_dew_pt', 'wind_dir_deg', 'wind_dir_ind', 'wind_vel_kts',\n",
              "       'wind_vel_ind', 'gust_ind', 'gust_kts', 'altimeter', 'wx_dens_alt',\n",
              "       'wx_int_precip', 'ev_highest_injury', 'inj_tot_t', 'wx_cond_basic',\n",
              "       'Cause_Factor', 'crew_no', 'crew_category', 'crew_age', 'crew_sex',\n",
              "       'med_certf', 'pilot_flying', 'crew_inj_level'],\n",
              "      dtype='object')"
            ]
          },
          "metadata": {},
          "execution_count": 106
        }
      ]
    },
    {
      "cell_type": "code",
      "source": [],
      "metadata": {
        "id": "2QQBG-CNcgGn"
      },
      "id": "2QQBG-CNcgGn",
      "execution_count": null,
      "outputs": []
    },
    {
      "cell_type": "code",
      "source": [
        "ntsb_raw = ntsb_raw.loc[:, ~ntsb_raw.columns.str.contains('^Unnamed')]"
      ],
      "metadata": {
        "id": "yk3SwxVa4wEN"
      },
      "id": "yk3SwxVa4wEN",
      "execution_count": null,
      "outputs": []
    },
    {
      "cell_type": "code",
      "source": [
        "print(ntsb_raw['damage'].unique())"
      ],
      "metadata": {
        "id": "TQmkj6uh5G3F"
      },
      "id": "TQmkj6uh5G3F",
      "execution_count": null,
      "outputs": []
    },
    {
      "cell_type": "code",
      "source": [
        "print(ntsb_raw['type_last_insp'].unique())"
      ],
      "metadata": {
        "id": "9Jr5E289Apz8"
      },
      "id": "9Jr5E289Apz8",
      "execution_count": null,
      "outputs": []
    },
    {
      "cell_type": "code",
      "source": [
        "ntsb_rv1 = ntsb_raw.dropna(axis=1, how='all')\n",
        "#removed one column\n",
        "ntsb_rv1.describe(include='all') "
      ],
      "metadata": {
        "id": "YReUMyqoA8bj"
      },
      "id": "YReUMyqoA8bj",
      "execution_count": null,
      "outputs": []
    },
    {
      "cell_type": "code",
      "source": [
        "ntsb_rv1.info()"
      ],
      "metadata": {
        "id": "LX-uJyLZKmmD"
      },
      "id": "LX-uJyLZKmmD",
      "execution_count": null,
      "outputs": []
    },
    {
      "cell_type": "code",
      "execution_count": null,
      "id": "807a4fff",
      "metadata": {
        "id": "807a4fff"
      },
      "outputs": [],
      "source": [
        "\n",
        "print(ntsb_rv1.dtypes)"
      ]
    },
    {
      "cell_type": "code",
      "source": [],
      "metadata": {
        "id": "V8Si_eH3C_Ec"
      },
      "id": "V8Si_eH3C_Ec",
      "execution_count": null,
      "outputs": []
    },
    {
      "cell_type": "code",
      "execution_count": null,
      "id": "279acfc2",
      "metadata": {
        "id": "279acfc2"
      },
      "outputs": [],
      "source": [
        "ntsb_rv1.head()"
      ]
    },
    {
      "cell_type": "code",
      "execution_count": null,
      "id": "fa8062b1",
      "metadata": {
        "id": "fa8062b1"
      },
      "outputs": [],
      "source": [
        "print(ntsb_rv1[['ev_time']].to_string(index=False)) "
      ]
    },
    {
      "cell_type": "code",
      "source": [
        "ntsb_rv1['ev_time'] = pd.to_numeric(ntsb_rv1['ev_time'])"
      ],
      "metadata": {
        "id": "_DBx9GeZFXzE"
      },
      "id": "_DBx9GeZFXzE",
      "execution_count": null,
      "outputs": []
    },
    {
      "cell_type": "code",
      "source": [
        "import numpy as np\n",
        "ntsb_rv1['ev_time'] = ntsb_rv1['ev_time'].astype(np.int64)"
      ],
      "metadata": {
        "id": "MoLLvQRwHWlQ"
      },
      "id": "MoLLvQRwHWlQ",
      "execution_count": null,
      "outputs": []
    },
    {
      "cell_type": "code",
      "source": [
        "nan_count = ntsb_rv1['ev_time'].isna().sum()\n",
        "print(nan_count)"
      ],
      "metadata": {
        "id": "QXkeVIS6J0la"
      },
      "id": "QXkeVIS6J0la",
      "execution_count": null,
      "outputs": []
    },
    {
      "cell_type": "code",
      "source": [
        "print((ntsb_rv1['ev_time'] == 'NaN').sum())"
      ],
      "metadata": {
        "id": "UrhcSnteO6ei"
      },
      "id": "UrhcSnteO6ei",
      "execution_count": null,
      "outputs": []
    },
    {
      "cell_type": "code",
      "source": [
        "#adding leading zeros for military time format\n",
        "ntsb_rv1['ev_time'] = ntsb_rv1['ev_time'].apply(lambda x: '{0:0>4}'.format(x))\n",
        "print(ntsb_rv1[['ev_time']].to_string(index=False)) \n"
      ],
      "metadata": {
        "id": "O_BAhTeFEkOx"
      },
      "id": "O_BAhTeFEkOx",
      "execution_count": null,
      "outputs": []
    },
    {
      "cell_type": "code",
      "source": [
        "ntsb_rv1['ev_time'] = pd.to_datetime(ntsb_rv1['ev_time'], format = '%H%m')"
      ],
      "metadata": {
        "id": "8J6O-sUkNHaa"
      },
      "id": "8J6O-sUkNHaa",
      "execution_count": null,
      "outputs": []
    },
    {
      "cell_type": "code",
      "execution_count": null,
      "id": "5b157944",
      "metadata": {
        "id": "5b157944"
      },
      "outputs": [],
      "source": [
        "pd.options.mode.chained_assignment = None  # default='warn'"
      ]
    },
    {
      "cell_type": "code",
      "execution_count": null,
      "id": "db2ef208",
      "metadata": {
        "id": "db2ef208"
      },
      "outputs": [],
      "source": [
        "ntsb_rv1['date_last_insp'] =  pd.to_datetime(ntsb_rv1['date_last_insp'], infer_datetime_format=True)\n"
      ]
    },
    {
      "cell_type": "code",
      "execution_count": null,
      "id": "3dada3ea",
      "metadata": {
        "id": "3dada3ea"
      },
      "outputs": [],
      "source": [
        "#ntsb_rv2= ntsb_rv1.drop(['Aircraft_Key'], axis=1)"
      ]
    },
    {
      "cell_type": "code",
      "execution_count": null,
      "id": "f97634f5",
      "metadata": {
        "id": "f97634f5"
      },
      "outputs": [],
      "source": [
        "print(ntsb_rv1.dtypes)"
      ]
    },
    {
      "cell_type": "code",
      "execution_count": null,
      "id": "6a9d8172",
      "metadata": {
        "id": "6a9d8172"
      },
      "outputs": [],
      "source": [
        "ntsb_rv1['wx_obs_time'] =  pd.to_datetime(ntsb_rv1['wx_obs_time'], format = \"%H%M\")"
      ]
    },
    {
      "cell_type": "code",
      "execution_count": null,
      "id": "f1a856eb",
      "metadata": {
        "id": "f1a856eb"
      },
      "outputs": [],
      "source": []
    },
    {
      "cell_type": "code",
      "execution_count": null,
      "id": "ae3c953d",
      "metadata": {
        "id": "ae3c953d"
      },
      "outputs": [],
      "source": []
    },
    {
      "cell_type": "code",
      "execution_count": null,
      "id": "fe2af50d",
      "metadata": {
        "id": "fe2af50d"
      },
      "outputs": [],
      "source": []
    },
    {
      "cell_type": "code",
      "execution_count": null,
      "id": "ab47c40e",
      "metadata": {
        "id": "ab47c40e"
      },
      "outputs": [],
      "source": [
        "#Walkthrough at https://inria.github.io/scikit-learn-mooc/python_scripts/03_categorical_pipeline_column_transformer.html\n",
        "#preprocessing different for categorical vs numerical columns\n",
        "\n",
        "from sklearn.compose import make_column_selector as selector\n",
        "\n",
        "numerical_columns_selector = selector(dtype_exclude=object)\n",
        "categorical_columns_selector = selector(dtype_include=object)\n",
        "\n",
        "numerical_columns = numerical_columns_selector(ntsb_raw)\n",
        "categorical_columns = categorical_columns_selector(ntsb_raw)"
      ]
    },
    {
      "cell_type": "code",
      "execution_count": null,
      "id": "cb39bd90",
      "metadata": {
        "id": "cb39bd90"
      },
      "outputs": [],
      "source": []
    },
    {
      "cell_type": "code",
      "execution_count": null,
      "id": "69760fc9",
      "metadata": {
        "id": "69760fc9"
      },
      "outputs": [],
      "source": []
    },
    {
      "cell_type": "code",
      "source": [],
      "metadata": {
        "id": "QnvnD-iRAgVp"
      },
      "id": "QnvnD-iRAgVp",
      "execution_count": null,
      "outputs": []
    },
    {
      "cell_type": "code",
      "source": [],
      "metadata": {
        "id": "S62dGXUsAgYL"
      },
      "id": "S62dGXUsAgYL",
      "execution_count": null,
      "outputs": []
    },
    {
      "cell_type": "code",
      "source": [],
      "metadata": {
        "id": "iDEgY4vKAgaj"
      },
      "id": "iDEgY4vKAgaj",
      "execution_count": null,
      "outputs": []
    },
    {
      "cell_type": "code",
      "source": [],
      "metadata": {
        "id": "BbkuRm_3Agfe"
      },
      "id": "BbkuRm_3Agfe",
      "execution_count": null,
      "outputs": []
    },
    {
      "cell_type": "code",
      "source": [],
      "metadata": {
        "id": "nCK4up_TAgiV"
      },
      "id": "nCK4up_TAgiV",
      "execution_count": null,
      "outputs": []
    },
    {
      "cell_type": "code",
      "source": [
        "# the columns to be used to create the labels are: inj_tot_t, damage, crew_inj_level, ev_highest_injury, damage"
      ],
      "metadata": {
        "id": "JbzUdN2PAglW"
      },
      "id": "JbzUdN2PAglW",
      "execution_count": null,
      "outputs": []
    },
    {
      "cell_type": "code",
      "source": [],
      "metadata": {
        "id": "HfuBRtZr6wmr"
      },
      "id": "HfuBRtZr6wmr",
      "execution_count": null,
      "outputs": []
    },
    {
      "cell_type": "markdown",
      "source": [
        "## ERICK'S SECITON"
      ],
      "metadata": {
        "id": "VsXYnIBD6w4B"
      },
      "id": "VsXYnIBD6w4B"
    },
    {
      "cell_type": "code",
      "source": [],
      "metadata": {
        "id": "3XcNjYNh6y64"
      },
      "id": "3XcNjYNh6y64",
      "execution_count": null,
      "outputs": []
    },
    {
      "cell_type": "markdown",
      "source": [
        "### CHI'S SECTION"
      ],
      "metadata": {
        "id": "NwqyvMOt60tw"
      },
      "id": "NwqyvMOt60tw"
    },
    {
      "cell_type": "code",
      "source": [],
      "metadata": {
        "id": "d7AmOV_w61xK"
      },
      "id": "d7AmOV_w61xK",
      "execution_count": null,
      "outputs": []
    }
  ],
  "metadata": {
    "kernelspec": {
      "display_name": "Python 3 (ipykernel)",
      "language": "python",
      "name": "python3"
    },
    "language_info": {
      "codemirror_mode": {
        "name": "ipython",
        "version": 3
      },
      "file_extension": ".py",
      "mimetype": "text/x-python",
      "name": "python",
      "nbconvert_exporter": "python",
      "pygments_lexer": "ipython3",
      "version": "3.8.8"
    },
    "colab": {
      "provenance": [],
      "include_colab_link": true
    }
  },
  "nbformat": 4,
  "nbformat_minor": 5
}