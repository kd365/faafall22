{
  "cells": [
    {
      "cell_type": "markdown",
      "metadata": {
        "id": "view-in-github",
        "colab_type": "text"
      },
      "source": [
        "<a href=\"https://colab.research.google.com/github/kd365/faafall22/blob/main/cleaning.ipynb\" target=\"_parent\"><img src=\"https://colab.research.google.com/assets/colab-badge.svg\" alt=\"Open In Colab\"/></a>"
      ]
    },
    {
      "cell_type": "markdown",
      "source": [
        "# NTSB Cleaning Notebook"
      ],
      "metadata": {
        "id": "uFmGuv_e813K"
      },
      "id": "uFmGuv_e813K"
    },
    {
      "cell_type": "markdown",
      "source": [
        "## Steps:\n",
        "1. Import libraries and raw data\n",
        "2. Initial column drops\n",
        "3. Cleaning steps that wil apply to entire dataframe\n",
        "4. Cleaning each column\n",
        "\n",
        "**Cleaning Plan:**\n",
        "Hunter:\n",
        "- cols 0-22\n",
        "Kathleen:\n",
        "- col 23-45\n",
        "Eric:\n",
        "- col 46-68\n",
        "Chi:\n",
        "- col 69-85\n"
      ],
      "metadata": {
        "id": "t83UG5G79C69"
      },
      "id": "t83UG5G79C69"
    },
    {
      "cell_type": "markdown",
      "source": [
        "### 1. Import libraries"
      ],
      "metadata": {
        "id": "G1TLyT5-8xS3"
      },
      "id": "G1TLyT5-8xS3"
    },
    {
      "cell_type": "code",
      "source": [
        "from google.colab import files\n",
        "import pandas as pd\n",
        "\n",
        "uploaded = files.upload()"
      ],
      "metadata": {
        "id": "w0dmdVmRXvEp",
        "outputId": "ba520a40-0d1b-42de-c45b-5e23da439b8a",
        "colab": {
          "base_uri": "https://localhost:8080/",
          "height": 73
        }
      },
      "id": "w0dmdVmRXvEp",
      "execution_count": null,
      "outputs": [
        {
          "output_type": "display_data",
          "data": {
            "text/plain": [
              "<IPython.core.display.HTML object>"
            ],
            "text/html": [
              "\n",
              "     <input type=\"file\" id=\"files-399515ec-1e40-46ae-b6d4-e0af93ebb539\" name=\"files[]\" multiple disabled\n",
              "        style=\"border:none\" />\n",
              "     <output id=\"result-399515ec-1e40-46ae-b6d4-e0af93ebb539\">\n",
              "      Upload widget is only available when the cell has been executed in the\n",
              "      current browser session. Please rerun this cell to enable.\n",
              "      </output>\n",
              "      <script>// Copyright 2017 Google LLC\n",
              "//\n",
              "// Licensed under the Apache License, Version 2.0 (the \"License\");\n",
              "// you may not use this file except in compliance with the License.\n",
              "// You may obtain a copy of the License at\n",
              "//\n",
              "//      http://www.apache.org/licenses/LICENSE-2.0\n",
              "//\n",
              "// Unless required by applicable law or agreed to in writing, software\n",
              "// distributed under the License is distributed on an \"AS IS\" BASIS,\n",
              "// WITHOUT WARRANTIES OR CONDITIONS OF ANY KIND, either express or implied.\n",
              "// See the License for the specific language governing permissions and\n",
              "// limitations under the License.\n",
              "\n",
              "/**\n",
              " * @fileoverview Helpers for google.colab Python module.\n",
              " */\n",
              "(function(scope) {\n",
              "function span(text, styleAttributes = {}) {\n",
              "  const element = document.createElement('span');\n",
              "  element.textContent = text;\n",
              "  for (const key of Object.keys(styleAttributes)) {\n",
              "    element.style[key] = styleAttributes[key];\n",
              "  }\n",
              "  return element;\n",
              "}\n",
              "\n",
              "// Max number of bytes which will be uploaded at a time.\n",
              "const MAX_PAYLOAD_SIZE = 100 * 1024;\n",
              "\n",
              "function _uploadFiles(inputId, outputId) {\n",
              "  const steps = uploadFilesStep(inputId, outputId);\n",
              "  const outputElement = document.getElementById(outputId);\n",
              "  // Cache steps on the outputElement to make it available for the next call\n",
              "  // to uploadFilesContinue from Python.\n",
              "  outputElement.steps = steps;\n",
              "\n",
              "  return _uploadFilesContinue(outputId);\n",
              "}\n",
              "\n",
              "// This is roughly an async generator (not supported in the browser yet),\n",
              "// where there are multiple asynchronous steps and the Python side is going\n",
              "// to poll for completion of each step.\n",
              "// This uses a Promise to block the python side on completion of each step,\n",
              "// then passes the result of the previous step as the input to the next step.\n",
              "function _uploadFilesContinue(outputId) {\n",
              "  const outputElement = document.getElementById(outputId);\n",
              "  const steps = outputElement.steps;\n",
              "\n",
              "  const next = steps.next(outputElement.lastPromiseValue);\n",
              "  return Promise.resolve(next.value.promise).then((value) => {\n",
              "    // Cache the last promise value to make it available to the next\n",
              "    // step of the generator.\n",
              "    outputElement.lastPromiseValue = value;\n",
              "    return next.value.response;\n",
              "  });\n",
              "}\n",
              "\n",
              "/**\n",
              " * Generator function which is called between each async step of the upload\n",
              " * process.\n",
              " * @param {string} inputId Element ID of the input file picker element.\n",
              " * @param {string} outputId Element ID of the output display.\n",
              " * @return {!Iterable<!Object>} Iterable of next steps.\n",
              " */\n",
              "function* uploadFilesStep(inputId, outputId) {\n",
              "  const inputElement = document.getElementById(inputId);\n",
              "  inputElement.disabled = false;\n",
              "\n",
              "  const outputElement = document.getElementById(outputId);\n",
              "  outputElement.innerHTML = '';\n",
              "\n",
              "  const pickedPromise = new Promise((resolve) => {\n",
              "    inputElement.addEventListener('change', (e) => {\n",
              "      resolve(e.target.files);\n",
              "    });\n",
              "  });\n",
              "\n",
              "  const cancel = document.createElement('button');\n",
              "  inputElement.parentElement.appendChild(cancel);\n",
              "  cancel.textContent = 'Cancel upload';\n",
              "  const cancelPromise = new Promise((resolve) => {\n",
              "    cancel.onclick = () => {\n",
              "      resolve(null);\n",
              "    };\n",
              "  });\n",
              "\n",
              "  // Wait for the user to pick the files.\n",
              "  const files = yield {\n",
              "    promise: Promise.race([pickedPromise, cancelPromise]),\n",
              "    response: {\n",
              "      action: 'starting',\n",
              "    }\n",
              "  };\n",
              "\n",
              "  cancel.remove();\n",
              "\n",
              "  // Disable the input element since further picks are not allowed.\n",
              "  inputElement.disabled = true;\n",
              "\n",
              "  if (!files) {\n",
              "    return {\n",
              "      response: {\n",
              "        action: 'complete',\n",
              "      }\n",
              "    };\n",
              "  }\n",
              "\n",
              "  for (const file of files) {\n",
              "    const li = document.createElement('li');\n",
              "    li.append(span(file.name, {fontWeight: 'bold'}));\n",
              "    li.append(span(\n",
              "        `(${file.type || 'n/a'}) - ${file.size} bytes, ` +\n",
              "        `last modified: ${\n",
              "            file.lastModifiedDate ? file.lastModifiedDate.toLocaleDateString() :\n",
              "                                    'n/a'} - `));\n",
              "    const percent = span('0% done');\n",
              "    li.appendChild(percent);\n",
              "\n",
              "    outputElement.appendChild(li);\n",
              "\n",
              "    const fileDataPromise = new Promise((resolve) => {\n",
              "      const reader = new FileReader();\n",
              "      reader.onload = (e) => {\n",
              "        resolve(e.target.result);\n",
              "      };\n",
              "      reader.readAsArrayBuffer(file);\n",
              "    });\n",
              "    // Wait for the data to be ready.\n",
              "    let fileData = yield {\n",
              "      promise: fileDataPromise,\n",
              "      response: {\n",
              "        action: 'continue',\n",
              "      }\n",
              "    };\n",
              "\n",
              "    // Use a chunked sending to avoid message size limits. See b/62115660.\n",
              "    let position = 0;\n",
              "    do {\n",
              "      const length = Math.min(fileData.byteLength - position, MAX_PAYLOAD_SIZE);\n",
              "      const chunk = new Uint8Array(fileData, position, length);\n",
              "      position += length;\n",
              "\n",
              "      const base64 = btoa(String.fromCharCode.apply(null, chunk));\n",
              "      yield {\n",
              "        response: {\n",
              "          action: 'append',\n",
              "          file: file.name,\n",
              "          data: base64,\n",
              "        },\n",
              "      };\n",
              "\n",
              "      let percentDone = fileData.byteLength === 0 ?\n",
              "          100 :\n",
              "          Math.round((position / fileData.byteLength) * 100);\n",
              "      percent.textContent = `${percentDone}% done`;\n",
              "\n",
              "    } while (position < fileData.byteLength);\n",
              "  }\n",
              "\n",
              "  // All done.\n",
              "  yield {\n",
              "    response: {\n",
              "      action: 'complete',\n",
              "    }\n",
              "  };\n",
              "}\n",
              "\n",
              "scope.google = scope.google || {};\n",
              "scope.google.colab = scope.google.colab || {};\n",
              "scope.google.colab._files = {\n",
              "  _uploadFiles,\n",
              "  _uploadFilesContinue,\n",
              "};\n",
              "})(self);\n",
              "</script> "
            ]
          },
          "metadata": {}
        },
        {
          "output_type": "stream",
          "name": "stdout",
          "text": [
            "Saving NTSB_for_cleaning.csv to NTSB_for_cleaning.csv\n"
          ]
        }
      ]
    },
    {
      "cell_type": "code",
      "source": [
        "import re\n",
        "import numpy as np"
      ],
      "metadata": {
        "id": "hZefpoX7EXSf"
      },
      "id": "hZefpoX7EXSf",
      "execution_count": null,
      "outputs": []
    },
    {
      "cell_type": "code",
      "execution_count": null,
      "id": "998f647c",
      "metadata": {
        "id": "998f647c",
        "outputId": "033c5959-717a-40d2-ea52-4d1b692e18ee",
        "colab": {
          "base_uri": "https://localhost:8080/"
        }
      },
      "outputs": [
        {
          "output_type": "stream",
          "name": "stdout",
          "text": [
            "<class 'pandas.core.frame.DataFrame'>\n",
            "RangeIndex: 112803 entries, 0 to 112802\n",
            "Data columns (total 86 columns):\n",
            " #   Column                 Non-Null Count   Dtype  \n",
            "---  ------                 --------------   -----  \n",
            " 0   aircraft_ev_id         112803 non-null  object \n",
            " 1   far_part               112080 non-null  object \n",
            " 2   flight_plan_activated  48716 non-null   object \n",
            " 3   damage                 111402 non-null  object \n",
            " 4   acft_make              112785 non-null  object \n",
            " 5   acft_model             112767 non-null  object \n",
            " 6   cert_max_gr_wt         98437 non-null   float64\n",
            " 7   num_eng                110047 non-null  float64\n",
            " 8   type_last_insp         104108 non-null  object \n",
            " 9   date_last_insp         87193 non-null   object \n",
            " 10  afm_hrs_last_insp      61174 non-null   float64\n",
            " 11  afm_hrs                88035 non-null   float64\n",
            " 12  type_fly               108038 non-null  object \n",
            " 13  dprt_apt_id            90502 non-null   object \n",
            " 14  dprt_city              94336 non-null   object \n",
            " 15  dprt_state             94513 non-null   object \n",
            " 16  dprt_time              99943 non-null   float64\n",
            " 17  dest_same_local        38828 non-null   object \n",
            " 18  dest_apt_id            74598 non-null   object \n",
            " 19  dest_city              78311 non-null   object \n",
            " 20  dest_state             78376 non-null   object \n",
            " 21  phase_flt_spec         57089 non-null   float64\n",
            " 22  afm_hrs_since          63593 non-null   object \n",
            " 23  rwy_num                81744 non-null   object \n",
            " 24  rwy_len                65448 non-null   float64\n",
            " 25  rwy_width              64398 non-null   float64\n",
            " 26  ifr_equipped_cert      112803 non-null  bool   \n",
            " 27  eng_no                 110354 non-null  float64\n",
            " 28  eng_type               109715 non-null  object \n",
            " 29  eng_mfgr               108381 non-null  object \n",
            " 30  hp_or_lbs              102779 non-null  object \n",
            " 31  carb_fuel_injection    90014 non-null   object \n",
            " 32  eng_time_total         52342 non-null   float64\n",
            " 33  eng_time_last_insp     52342 non-null   float64\n",
            " 34  ntsb_no                112803 non-null  object \n",
            " 35  ev_type                112803 non-null  object \n",
            " 36  ev_date                112803 non-null  object \n",
            " 37  ev_dow                 112803 non-null  object \n",
            " 38  ev_time                112658 non-null  float64\n",
            " 39  ev_city                112788 non-null  object \n",
            " 40  ev_state               111483 non-null  object \n",
            " 41  ev_year                112803 non-null  int64  \n",
            " 42  ev_month               112803 non-null  int64  \n",
            " 43  latitude               65391 non-null   object \n",
            " 44  longitude              65393 non-null   object \n",
            " 45  apt_name               75302 non-null   object \n",
            " 46  ev_nr_apt_id           72215 non-null   object \n",
            " 47  ev_nr_apt_loc          109485 non-null  object \n",
            " 48  apt_dist               91419 non-null   float64\n",
            " 49  apt_dir                48091 non-null   float64\n",
            " 50  apt_elev               75760 non-null   float64\n",
            " 51  wx_src_iic             109627 non-null  object \n",
            " 52  wx_obs_time            103626 non-null  float64\n",
            " 53  wx_obs_dir             107113 non-null  float64\n",
            " 54  wx_obs_fac_id          85453 non-null   object \n",
            " 55  wx_obs_elev            99284 non-null   float64\n",
            " 56  wx_obs_dist            107580 non-null  float64\n",
            " 57  light_cond             111393 non-null  object \n",
            " 58  sky_cond_nonceil       100695 non-null  object \n",
            " 59  sky_nonceil_ht         103374 non-null  float64\n",
            " 60  sky_ceil_ht            103044 non-null  float64\n",
            " 61  sky_cond_ceil          106185 non-null  object \n",
            " 62  vis_rvr                45280 non-null   float64\n",
            " 63  vis_sm                 109131 non-null  float64\n",
            " 64  wx_temp                106952 non-null  float64\n",
            " 65  wx_dew_pt              97206 non-null   float64\n",
            " 66  wind_dir_deg           109673 non-null  float64\n",
            " 67  wind_dir_ind           110665 non-null  object \n",
            " 68  wind_vel_kts           98476 non-null   float64\n",
            " 69  wind_vel_ind           111628 non-null  object \n",
            " 70  gust_ind               112592 non-null  object \n",
            " 71  gust_kts               102408 non-null  float64\n",
            " 72  altimeter              95906 non-null   float64\n",
            " 73  wx_dens_alt            19394 non-null   float64\n",
            " 74  wx_int_precip          45371 non-null   object \n",
            " 75  ev_highest_injury      112417 non-null  object \n",
            " 76  inj_tot_t              80568 non-null   float64\n",
            " 77  wx_cond_basic          111719 non-null  object \n",
            " 78  Cause_Factor           44007 non-null   object \n",
            " 79  crew_no                51714 non-null   float64\n",
            " 80  crew_category          51251 non-null   object \n",
            " 81  crew_age               49472 non-null   float64\n",
            " 82  crew_sex               37556 non-null   object \n",
            " 83  med_certf              49114 non-null   object \n",
            " 84  pilot_flying           109921 non-null  object \n",
            " 85  crew_inj_level         50436 non-null   object \n",
            "dtypes: bool(1), float64(33), int64(2), object(50)\n",
            "memory usage: 73.3+ MB\n"
          ]
        }
      ],
      "source": [
        "# setting pandas display options\n",
        "pd.set_option('display.max_rows', 150)\n",
        "\n",
        "# reading in NTSB csv file\n",
        "ntsb_raw = pd.read_csv(\"NTSB_for_cleaning.csv\", encoding='latin-1', low_memory=False)\n",
        "ntsb_raw = ntsb_raw.drop(['engines_ev_id', 'events_ev_id', 'Unnamed: 0'], axis=1)\n",
        "# view the dataframe info\n",
        "ntsb_raw.info()"
      ]
    },
    {
      "cell_type": "markdown",
      "source": [
        "### 2. Initial Drop"
      ],
      "metadata": {
        "id": "rTGB5OeKO5H7"
      },
      "id": "rTGB5OeKO5H7"
    },
    {
      "cell_type": "code",
      "source": [
        "# need to delete duplicate records\n",
        "ntsb_raw = ntsb_raw.drop_duplicates(subset='aircraft_ev_id', keep='last')\n",
        "ntsb_raw.shape"
      ],
      "metadata": {
        "id": "K7_euSXJ8h8R",
        "outputId": "789811fd-d1a1-4aed-c4d9-b238fae951ba",
        "colab": {
          "base_uri": "https://localhost:8080/"
        }
      },
      "id": "K7_euSXJ8h8R",
      "execution_count": null,
      "outputs": [
        {
          "output_type": "execute_result",
          "data": {
            "text/plain": [
              "(69635, 86)"
            ]
          },
          "metadata": {},
          "execution_count": 74
        }
      ]
    },
    {
      "cell_type": "code",
      "source": [
        "# drop all records that do not have at least 50 columns worth of data in them\n",
        "ntsb_raw = ntsb_raw.dropna(thresh=60)"
      ],
      "metadata": {
        "id": "nQJJY6lK6hTa"
      },
      "id": "nQJJY6lK6hTa",
      "execution_count": null,
      "outputs": []
    },
    {
      "cell_type": "code",
      "source": [
        "# drop any columns that have more than 40% null values\n",
        "total_rows = ntsb_raw.shape[0]\n",
        "\n",
        "def drop_cols(df, df_size):\n",
        "    # create a list of columns to drop\n",
        "    drop = []\n",
        "    # iterate over each column\n",
        "    for x in df.columns:\n",
        "        #determine if the ratio of nulls is greater than 30%\n",
        "        ratio = (df[x].isna().sum()) / df_size\n",
        "        if ratio > 0.5:\n",
        "            drop.append(x)\n",
        "    # drop the columns in the drop list\n",
        "    df.drop(labels=drop, axis=1)\n",
        "    print('Cols dropped from df:', drop)\n",
        "    return df\n",
        "\n",
        "ntsb_dropped_cols = drop_cols(ntsb_raw, total_rows)      \n"
      ],
      "metadata": {
        "colab": {
          "base_uri": "https://localhost:8080/"
        },
        "id": "vdxZW7P5_5i6",
        "outputId": "353bbf01-3ad1-4a07-a608-33bc30900500"
      },
      "id": "vdxZW7P5_5i6",
      "execution_count": null,
      "outputs": [
        {
          "output_type": "stream",
          "name": "stdout",
          "text": [
            "Cols dropped from df: ['flight_plan_activated', 'afm_hrs_since', 'eng_time_total', 'eng_time_last_insp', 'latitude', 'longitude', 'wx_dens_alt', 'Cause_Factor', 'crew_no', 'crew_category', 'crew_age', 'crew_sex', 'med_certf', 'crew_inj_level']\n"
          ]
        }
      ]
    },
    {
      "cell_type": "code",
      "source": [
        "print(ntsb_dropped_cols.shape)"
      ],
      "metadata": {
        "colab": {
          "base_uri": "https://localhost:8080/"
        },
        "id": "n1YllzgSTVIS",
        "outputId": "0d373130-7e1e-4096-9f92-39b179488e36"
      },
      "id": "n1YllzgSTVIS",
      "execution_count": null,
      "outputs": [
        {
          "output_type": "stream",
          "name": "stdout",
          "text": [
            "(57686, 86)\n"
          ]
        }
      ]
    },
    {
      "cell_type": "markdown",
      "source": [
        "## 3. Cleaning that applies to entire data set"
      ],
      "metadata": {
        "id": "u2TOQKAg5sI9"
      },
      "id": "u2TOQKAg5sI9"
    },
    {
      "cell_type": "code",
      "source": [
        "# function to initially clean up all strings in df\n",
        "def df_string_transform(df):\n",
        "    ''' \n",
        "    force all text data to lowercase and strip left and right side of strings\n",
        "    in all string columns\n",
        "\n",
        "    args: dataframe\n",
        "\n",
        "    returns: dataframe\n",
        "    '''\n",
        "    df1 = df.applymap(lambda x: x.lower() if type(x) == str else x)\n",
        "    df1 = df1.applymap(lambda x: x.strip() if type(x) == str else x)\n",
        "    return df1"
      ],
      "metadata": {
        "id": "F4-A27i55qay"
      },
      "id": "F4-A27i55qay",
      "execution_count": null,
      "outputs": []
    },
    {
      "cell_type": "code",
      "source": [
        "# applying the funcrition from above\n",
        "ntsb_1 = df_string_transform(ntsb_dropped_cols)"
      ],
      "metadata": {
        "id": "2o7ipQWb_xaZ"
      },
      "id": "2o7ipQWb_xaZ",
      "execution_count": null,
      "outputs": []
    },
    {
      "cell_type": "code",
      "source": [
        "print(ntsb_1.shape)"
      ],
      "metadata": {
        "id": "0fotg4op9YoS",
        "outputId": "016a2e82-c241-406c-967c-60ebfba36ee8",
        "colab": {
          "base_uri": "https://localhost:8080/"
        }
      },
      "id": "0fotg4op9YoS",
      "execution_count": null,
      "outputs": [
        {
          "output_type": "stream",
          "name": "stdout",
          "text": [
            "(57686, 86)\n"
          ]
        }
      ]
    },
    {
      "cell_type": "markdown",
      "source": [
        "**NOTE**: for section 3 use the dataframe `ntsb_1` for cleaning"
      ],
      "metadata": {
        "id": "loxHcDDkAGmS"
      },
      "id": "loxHcDDkAGmS"
    },
    {
      "cell_type": "markdown",
      "source": [
        "### 3. Cleaning Each Column"
      ],
      "metadata": {
        "id": "r1Kb9XWSO9YW"
      },
      "id": "r1Kb9XWSO9YW"
    },
    {
      "cell_type": "code",
      "source": [
        "# function to show all the metrics you will want to see for each column\n",
        "def col_metrics(df, col='none'):\n",
        "  print('current df shape:', df.shape)\n",
        "  print('Unique data: ', df[col].unique())\n",
        "  print('Value counts: ', df[col].value_counts())\n",
        "  print('Total nulls: ', df[col].isna().sum())\n",
        "  print('Data type: ', df[col].dtypes)"
      ],
      "metadata": {
        "id": "L5bOiUp6PSBx"
      },
      "id": "L5bOiUp6PSBx",
      "execution_count": null,
      "outputs": []
    },
    {
      "cell_type": "markdown",
      "source": [
        "### HUNTER'S SECTION"
      ],
      "metadata": {
        "id": "OpIxqub26j2I"
      },
      "id": "OpIxqub26j2I"
    },
    {
      "cell_type": "code",
      "source": [
        "# column 1: far part\n",
        "col_metrics(ntsb_1, col='far_part')      \n",
        "\n",
        "# making a copy of the data set as ntsb_1\n",
        "ntsb_1 = pd.DataFrame.copy(ntsb_1)\n",
        "\n",
        "# remove the K and F from part 091\n",
        "ntsb_1['far_part'] = ntsb_1['far_part'].str.replace('k', '').str.replace('f', '').str.replace('arm', '091')\n",
        "print(ntsb_1['far_part'].unique())"
      ],
      "metadata": {
        "colab": {
          "base_uri": "https://localhost:8080/"
        },
        "id": "37MrEvJ2P688",
        "outputId": "da7adf44-0d4c-466c-cdbb-8b8ab15e721d"
      },
      "id": "37MrEvJ2P688",
      "execution_count": null,
      "outputs": [
        {
          "output_type": "stream",
          "name": "stdout",
          "text": [
            "current df shape: (57686, 86)\n",
            "Unique data:  ['135' '091' '137' '103' 'armf' '091f' '091k' '437']\n",
            "Value counts:  091     51939\n",
            "135      2816\n",
            "137      2790\n",
            "103        90\n",
            "091f       30\n",
            "091k       11\n",
            "armf        9\n",
            "437         1\n",
            "Name: far_part, dtype: int64\n",
            "Total nulls:  0\n",
            "Data type:  object\n",
            "['135' '091' '137' '103' '437']\n"
          ]
        }
      ]
    },
    {
      "cell_type": "code",
      "source": [
        "# column 2: 'flight_plan_activated'\n",
        "col_metrics(ntsb_1, 'flight_plan_activated')\n",
        "\n",
        "# dropping this column, too many nulls, and filing a flight plan is superfluous \n",
        "#because you can file in flight or you can use flight following\n",
        "ntsb_1 = ntsb_1.drop(['flight_plan_activated'], axis=1)"
      ],
      "metadata": {
        "colab": {
          "base_uri": "https://localhost:8080/"
        },
        "id": "crGb15IhQMQ1",
        "outputId": "ac2093de-3aec-4dbe-b32c-7e433c1dd5f5"
      },
      "id": "crGb15IhQMQ1",
      "execution_count": null,
      "outputs": [
        {
          "output_type": "stream",
          "name": "stdout",
          "text": [
            "current df shape: (57686, 86)\n",
            "Unique data:  [nan 'y' 'n' 'u']\n",
            "Value counts:  n    11604\n",
            "y     3022\n",
            "u      344\n",
            "Name: flight_plan_activated, dtype: int64\n",
            "Total nulls:  42716\n",
            "Data type:  object\n"
          ]
        }
      ]
    },
    {
      "cell_type": "code",
      "source": [
        "# column 3: 'damage'\n",
        "col_metrics(ntsb_1, 'damage')\n",
        "\n",
        "# change the unk to none\n",
        "ntsb_1['damage'] = ntsb_1['damage'].str.replace('unk', 'none')\n",
        "# drop the 491 rows that do not have a damage listing\n",
        "ntsb_1 = ntsb_1.dropna(subset='damage')\n",
        "print('final null count:', ntsb_1['damage'].isna().sum())"
      ],
      "metadata": {
        "colab": {
          "base_uri": "https://localhost:8080/"
        },
        "id": "6T_xO3v1W-aS",
        "outputId": "30abcd37-85c8-4c94-d97d-358a07592389"
      },
      "id": "6T_xO3v1W-aS",
      "execution_count": null,
      "outputs": [
        {
          "output_type": "stream",
          "name": "stdout",
          "text": [
            "current df shape: (57686, 85)\n",
            "Unique data:  ['subs' 'dest' 'none' 'minr' 'unk' nan]\n",
            "Value counts:  subs    43662\n",
            "dest    12728\n",
            "minr      913\n",
            "none      277\n",
            "unk         9\n",
            "Name: damage, dtype: int64\n",
            "Total nulls:  97\n",
            "Data type:  object\n",
            "final null count: 0\n"
          ]
        }
      ]
    },
    {
      "cell_type": "code",
      "source": [
        "# column 4: 'acft_make'\n",
        "col_metrics(ntsb_1, 'acft_make')\n",
        "\n",
        "# there are 6 rosw with nulls, will drop those\n",
        "ntsb_1 = ntsb_1.dropna(subset=['acft_make'])\n",
        "print(ntsb_1['acft_make'].isna().sum())"
      ],
      "metadata": {
        "colab": {
          "base_uri": "https://localhost:8080/"
        },
        "id": "AnYv7U0wXZK1",
        "outputId": "805b5064-b2b8-45df-eb21-c488a650109f"
      },
      "id": "AnYv7U0wXZK1",
      "execution_count": null,
      "outputs": [
        {
          "output_type": "stream",
          "name": "stdout",
          "text": [
            "current df shape: (57589, 85)\n",
            "Unique data:  ['cessna' 'piper' 'beech' ... 'gerald nelson' 'gonzalez manuel a'\n",
            " 'harris-runyan']\n",
            "Value counts:  cessna                      20123\n",
            "piper                       10858\n",
            "beech                        4099\n",
            "bell                         1272\n",
            "mooney                       1046\n",
            "                            ...  \n",
            "gary e. wilson                  1\n",
            "lonnie w. ratliff               1\n",
            "silvaggio                       1\n",
            "s. piccolotto/dave morss        1\n",
            "harris-runyan                   1\n",
            "Name: acft_make, Length: 5333, dtype: int64\n",
            "Total nulls:  8\n",
            "Data type:  object\n",
            "0\n"
          ]
        }
      ]
    },
    {
      "cell_type": "code",
      "source": [
        "# column 5: 'acft_model'\n",
        "col_metrics(ntsb_1, 'acft_model')\n",
        "\n",
        "# drop the 5 rows that have nulls\n",
        "ntsb_1 = ntsb_1.dropna(subset=['acft_model'])"
      ],
      "metadata": {
        "id": "AozNgVfCcgrX",
        "outputId": "cf65672d-7585-4e9c-a913-3d1bc5930e29",
        "colab": {
          "base_uri": "https://localhost:8080/"
        }
      },
      "id": "AozNgVfCcgrX",
      "execution_count": null,
      "outputs": [
        {
          "output_type": "stream",
          "name": "stdout",
          "text": [
            "current df shape: (57581, 85)\n",
            "Unique data:  ['207' 'pa-22-160' '300' ... 'rv 7' 'f4u 5' 'skybolt 300']\n",
            "Value counts:  152                  1940\n",
            "172                  1045\n",
            "172n                  927\n",
            "pa-28-140             779\n",
            "172m                  646\n",
            "                     ... \n",
            "tu-10                   1\n",
            "as 355 f ecureuil       1\n",
            "be35g                   1\n",
            "twinstar ta-2           1\n",
            "skybolt 300             1\n",
            "Name: acft_model, Length: 7832, dtype: int64\n",
            "Total nulls:  19\n",
            "Data type:  object\n"
          ]
        }
      ]
    },
    {
      "cell_type": "code",
      "source": [
        "# column 5\n",
        "\n",
        "# remove the letters off the cessna model\n",
        "pattern = r'\\d\\d\\d\\w'\n",
        "ntsb_1['acft_model'] = ntsb_1['acft_model'].map(lambda x: re.sub(pattern, lambda match: match.group()[:-1], x))\n",
        "print(ntsb_1['acft_model'].value_counts())\n",
        "\n",
        "#if an aircraft make is not in the top 30, it will be categorized as other. \n",
        "model_top_30 = ntsb_1['acft_model'].value_counts()[0:30].index.tolist()\n",
        "\n",
        "# change the model names to 'other_model' if not in the top 30\n",
        "ntsb_1['acft_model'] = ntsb_1['acft_model'].map(lambda x: 'other_model' if x not in model_top_30 else x)"
      ],
      "metadata": {
        "id": "2mAwljGnBp79",
        "outputId": "827c752d-f269-4cc3-baa4-b4668ba40b0f",
        "colab": {
          "base_uri": "https://localhost:8080/"
        }
      },
      "id": "2mAwljGnBp79",
      "execution_count": null,
      "outputs": [
        {
          "output_type": "stream",
          "name": "stdout",
          "text": [
            "172                4555\n",
            "150                2509\n",
            "152                1956\n",
            "182                1910\n",
            "pa-28-140           796\n",
            "                   ... \n",
            "b-100                 1\n",
            "panther ii plus       1\n",
            "musting ii            1\n",
            "g-102 astir cs        1\n",
            "skybolt 300           1\n",
            "Name: acft_model, Length: 7235, dtype: int64\n"
          ]
        }
      ]
    },
    {
      "cell_type": "code",
      "source": [
        "# column 6: 'cert_max_gr_wt'\n",
        "col_metrics(ntsb_1, 'cert_max_gr_wt')\n",
        "print(ntsb_1['cert_max_gr_wt'].max(), ntsb_1['cert_max_gr_wt'].min())\n",
        "\n",
        "def weight_bins(df, col):\n",
        "    avg_wt = df[col].mean()    \n",
        "    wt_cat = []\n",
        "    for x in list(df[col]):\n",
        "        if x <= 12500:\n",
        "            x = 'small'\n",
        "            wt_cat.append(x)\n",
        "        elif x > 12500 and x < 41000:\n",
        "            x = 'medium'\n",
        "            wt_cat.append(x)\n",
        "        elif x == 'nan':\n",
        "            if avg_wt <=12500:\n",
        "                x = 'small'\n",
        "                wt_cat.append(x)\n",
        "            elif avg_wt > 12500 and x < 41000:\n",
        "                x = 'medium'\n",
        "                wt_cat.append(x)\n",
        "            else:\n",
        "                x = 'large commuter'\n",
        "                wt_cat.append(x)\n",
        "        else:\n",
        "            x = 'large commuter'\n",
        "            wt_cat.append(x)\n",
        "    df[col] = wt_cat\n",
        "    return df[col]"
      ],
      "metadata": {
        "id": "rnEhue0Ocw0W",
        "outputId": "5bbe95c1-6da5-40c6-c7d9-c11cd2bd02bc",
        "colab": {
          "base_uri": "https://localhost:8080/"
        }
      },
      "id": "rnEhue0Ocw0W",
      "execution_count": null,
      "outputs": [
        {
          "output_type": "stream",
          "name": "stdout",
          "text": [
            "current df shape: (57562, 85)\n",
            "Unique data:  [ 3800.  1840. 14100. ...  5333.  2497.  2251.]\n",
            "Value counts:  1600.0      2600\n",
            "2300.0      2597\n",
            "1670.0      2224\n",
            "3600.0      1533\n",
            "2150.0      1530\n",
            "            ... \n",
            "1297.0         1\n",
            "22450.0        1\n",
            "3609.0         1\n",
            "358000.0       1\n",
            "2251.0         1\n",
            "Name: cert_max_gr_wt, Length: 2168, dtype: int64\n",
            "Total nulls:  3060\n",
            "Data type:  float64\n",
            "870000.0 -3100.0\n"
          ]
        }
      ]
    },
    {
      "cell_type": "code",
      "source": [
        "# use the bin function to assign categories to weight classes\n",
        "ntsb_1['cert_max_gr_wt'] = weight_bins(ntsb_1, 'cert_max_gr_wt')"
      ],
      "metadata": {
        "id": "TgIjDAO1g4WQ"
      },
      "id": "TgIjDAO1g4WQ",
      "execution_count": null,
      "outputs": []
    },
    {
      "cell_type": "code",
      "source": [
        "# column 7: 'num_eng'\n",
        "col_metrics(ntsb_1, 'num_eng')\n",
        "\n",
        "# convert the float to int and then impute the nulls with the median\n",
        "ntsb_1['num_eng'] = ntsb_1['num_eng']"
      ],
      "metadata": {
        "id": "DYFgOLsAIupJ",
        "outputId": "596c04b7-bfc0-4ac1-e263-657e500b15c5",
        "colab": {
          "base_uri": "https://localhost:8080/"
        }
      },
      "id": "DYFgOLsAIupJ",
      "execution_count": null,
      "outputs": [
        {
          "output_type": "stream",
          "name": "stdout",
          "text": [
            "current df shape: (57562, 85)\n",
            "Unique data:  [ 1.  2. nan  3.  4.  0.]\n",
            "Value counts:  1.0    49699\n",
            "2.0     6830\n",
            "0.0      505\n",
            "4.0       47\n",
            "3.0       31\n",
            "Name: num_eng, dtype: int64\n",
            "Total nulls:  450\n",
            "Data type:  float64\n"
          ]
        }
      ]
    },
    {
      "cell_type": "code",
      "source": [
        "# change from float to int8\n",
        "# fill na with 1\n",
        "ntsb_1['num_eng'] = ntsb_1['num_eng'].fillna(1.0).astype('int8')\n"
      ],
      "metadata": {
        "id": "yBJh8lZz0qIE"
      },
      "id": "yBJh8lZz0qIE",
      "execution_count": null,
      "outputs": []
    },
    {
      "cell_type": "code",
      "source": [
        "# column 8: 'type_last_insp'\n",
        "col_metrics(ntsb_1, 'type_last_insp')\n",
        "ntsb_1['type_last_insp'] = ntsb_1['type_last_insp'].fillna('unk')"
      ],
      "metadata": {
        "id": "FjJmxYhF2m2P",
        "outputId": "08495cf7-3482-469a-cb22-29a45555db19",
        "colab": {
          "base_uri": "https://localhost:8080/"
        }
      },
      "id": "FjJmxYhF2m2P",
      "execution_count": null,
      "outputs": [
        {
          "output_type": "stream",
          "name": "stdout",
          "text": [
            "current df shape: (57562, 85)\n",
            "Unique data:  ['100h' 'aaip' 'annl' 'unk' 'coaw' 'cond' nan]\n",
            "Value counts:  annl    33108\n",
            "unk      9332\n",
            "100h     9106\n",
            "cond     1716\n",
            "aaip     1614\n",
            "coaw     1478\n",
            "Name: type_last_insp, dtype: int64\n",
            "Total nulls:  1208\n",
            "Data type:  object\n"
          ]
        }
      ]
    },
    {
      "cell_type": "code",
      "source": [
        "# column 9: 'afm_hrs'\n",
        "col_metrics(ntsb_1, 'afm_hrs')"
      ],
      "metadata": {
        "id": "NBzHlrjz3dMn",
        "outputId": "dca7ec83-c06f-4818-aaa7-f235c4196069",
        "colab": {
          "base_uri": "https://localhost:8080/"
        }
      },
      "id": "NBzHlrjz3dMn",
      "execution_count": null,
      "outputs": [
        {
          "output_type": "stream",
          "name": "stdout",
          "text": [
            "current df shape: (57562, 85)\n",
            "Unique data:  [10286.  14424.      nan ...  2341.8    53.2   967.5]\n",
            "Value counts:  1.0        129\n",
            "3000.0     105\n",
            "2500.0      94\n",
            "2000.0      90\n",
            "4000.0      84\n",
            "          ... \n",
            "8725.0       1\n",
            "12005.0      1\n",
            "6072.0       1\n",
            "4976.0       1\n",
            "967.5        1\n",
            "Name: afm_hrs, Length: 13131, dtype: int64\n",
            "Total nulls:  10560\n",
            "Data type:  float64\n"
          ]
        }
      ]
    },
    {
      "cell_type": "code",
      "source": [
        "ntsb_1['afm_hrs'].describe()"
      ],
      "metadata": {
        "id": "ozdPI2_V6ZBe",
        "outputId": "f57c460b-6ca3-46ab-cf11-0fd61a91df91",
        "colab": {
          "base_uri": "https://localhost:8080/"
        }
      },
      "id": "ozdPI2_V6ZBe",
      "execution_count": null,
      "outputs": [
        {
          "output_type": "execute_result",
          "data": {
            "text/plain": [
              "count     47002.000000\n",
              "mean       3639.729272\n",
              "std        4530.201239\n",
              "min           0.000000\n",
              "25%        1284.250000\n",
              "50%        2711.900000\n",
              "75%        4547.000000\n",
              "max      233109.000000\n",
              "Name: afm_hrs, dtype: float64"
            ]
          },
          "metadata": {},
          "execution_count": 94
        }
      ]
    },
    {
      "cell_type": "code",
      "source": [
        "# count how many values are outliers\n",
        "outlier = (1.5*(4752 - 1229)) + 4752\n",
        "outliers = [x for x in ntsb_1['afm_hrs'] if x > outlier]\n",
        "print(len(outliers))"
      ],
      "metadata": {
        "id": "eJiMUhi56vxf",
        "outputId": "7f0b78fb-2b79-4da3-8f95-989ef3a1af25",
        "colab": {
          "base_uri": "https://localhost:8080/"
        }
      },
      "id": "eJiMUhi56vxf",
      "execution_count": null,
      "outputs": [
        {
          "output_type": "stream",
          "name": "stdout",
          "text": [
            "2322\n"
          ]
        }
      ]
    },
    {
      "cell_type": "code",
      "source": [
        "# fill na with median\n",
        "#median = ntsb_1['afm_hrs'].median()\n",
        "#ntsb_1['afm_hrs'] = ntsb_1['afm_hrs'].fillna(median)\n",
        "# drop the outliers\n",
        "ntsb_1 = ntsb_1[ntsb_1['afm_hrs'] < outlier]\n"
      ],
      "metadata": {
        "id": "QBE4pFwo8xNQ"
      },
      "id": "QBE4pFwo8xNQ",
      "execution_count": null,
      "outputs": []
    },
    {
      "cell_type": "code",
      "source": [
        "ntsb_1['afm_hrs'].plot.hist(bins=10)"
      ],
      "metadata": {
        "id": "Y9rIOYOD6GTv",
        "outputId": "278ecb9e-a981-4ca1-91d8-6b1d3eb31949",
        "colab": {
          "base_uri": "https://localhost:8080/",
          "height": 282
        }
      },
      "id": "Y9rIOYOD6GTv",
      "execution_count": null,
      "outputs": [
        {
          "output_type": "execute_result",
          "data": {
            "text/plain": [
              "<Axes: ylabel='Frequency'>"
            ]
          },
          "metadata": {},
          "execution_count": 97
        },
        {
          "output_type": "display_data",
          "data": {
            "text/plain": [
              "<Figure size 432x288 with 1 Axes>"
            ],
            "image/png": "[encoded data removed]"
          },
          "metadata": {
            "needs_background": "light"
          }
        }
      ]
    },
    {
      "cell_type": "code",
      "source": [
        "ntsb_1.shape"
      ],
      "metadata": {
        "id": "E7DpHSpH-cfA",
        "outputId": "4698ed32-e188-425c-9324-c6a18fe31d52",
        "colab": {
          "base_uri": "https://localhost:8080/"
        }
      },
      "id": "E7DpHSpH-cfA",
      "execution_count": null,
      "outputs": [
        {
          "output_type": "execute_result",
          "data": {
            "text/plain": [
              "(44680, 85)"
            ]
          },
          "metadata": {},
          "execution_count": 98
        }
      ]
    },
    {
      "cell_type": "code",
      "source": [
        "# round and change to int32\n",
        "ntsb_1['afm_hrs'] = ntsb_1['afm_hrs'].round().astype('int16')"
      ],
      "metadata": {
        "id": "FsErjoWX5FN6"
      },
      "id": "FsErjoWX5FN6",
      "execution_count": null,
      "outputs": []
    },
    {
      "cell_type": "code",
      "source": [
        "# column 10: 'type_fly'\n",
        "col_metrics(ntsb_1, 'type_fly')"
      ],
      "metadata": {
        "id": "NaQb3t-YPNZ2",
        "outputId": "27de0e8c-4fbf-44cd-804f-eb0d62a641e2",
        "colab": {
          "base_uri": "https://localhost:8080/"
        }
      },
      "id": "NaQb3t-YPNZ2",
      "execution_count": null,
      "outputs": [
        {
          "output_type": "stream",
          "name": "stdout",
          "text": [
            "current df shape: (44680, 85)\n",
            "Unique data:  ['exec' 'pers' 'bus' 'inst' 'unk' 'pubu' 'posi' 'fery' 'owrk' 'aapl'\n",
            " 'aobv' 'skyd' nan 'flts' 'asho' 'adrp' 'gldt' 'bant' 'publ' 'pubs' 'exld'\n",
            " 'pubf' 'firf']\n",
            "Value counts:  pers    28193\n",
            "inst     6086\n",
            "unk      2551\n",
            "bus      2430\n",
            "aapl     2066\n",
            "posi      788\n",
            "fery      449\n",
            "owrk      434\n",
            "exec      375\n",
            "aobv      308\n",
            "pubu      203\n",
            "flts      201\n",
            "skyd       71\n",
            "asho       69\n",
            "bant       46\n",
            "gldt       19\n",
            "pubs       12\n",
            "publ        7\n",
            "adrp        5\n",
            "exld        5\n",
            "pubf        5\n",
            "firf        1\n",
            "Name: type_fly, dtype: int64\n",
            "Total nulls:  356\n",
            "Data type:  object\n"
          ]
        }
      ]
    },
    {
      "cell_type": "code",
      "source": [
        "# change the null to unknown\n",
        "ntsb_1['type_fly'] = ntsb_1['type_fly'].fillna('unk')"
      ],
      "metadata": {
        "id": "v6LcOos7Yzlo"
      },
      "id": "v6LcOos7Yzlo",
      "execution_count": null,
      "outputs": []
    },
    {
      "cell_type": "code",
      "source": [
        "# column 11: 'dprt_apt_id'\n",
        "col_metrics(ntsb_1, 'dprt_apt_id')\n",
        "\n",
        "# need to drop the 'k' from all 4 letter icao's\n",
        "ntsb_1['dprt_apt_id'] = ntsb_1['dprt_apt_id'].astype('str').apply(lambda x: x[1:] if len(x) == 4 and x[0] == 'k' else x)"
      ],
      "metadata": {
        "id": "Y4Pc7TepY-QP",
        "outputId": "8a049ba9-32e0-46fa-eca4-23e76742f8b1",
        "colab": {
          "base_uri": "https://localhost:8080/"
        }
      },
      "id": "Y4Pc7TepY-QP",
      "execution_count": null,
      "outputs": [
        {
          "output_type": "stream",
          "name": "stdout",
          "text": [
            "current df shape: (44680, 85)\n",
            "Unique data:  ['gmu' 'ox8' nan ... '37f' '62k' '38cl']\n",
            "Value counts:  none    825\n",
            "pvt     253\n",
            "c       168\n",
            "mri     164\n",
            "apa     134\n",
            "       ... \n",
            "ape       1\n",
            "mkcr      1\n",
            "neo8      1\n",
            "0k9       1\n",
            "38cl      1\n",
            "Name: dprt_apt_id, Length: 7702, dtype: int64\n",
            "Total nulls:  9657\n",
            "Data type:  object\n"
          ]
        }
      ]
    },
    {
      "cell_type": "code",
      "source": [
        "# column 12: 'dprt_city'\n",
        "col_metrics(ntsb_1, 'dprt_city')"
      ],
      "metadata": {
        "id": "f6qbeu_AuogH",
        "outputId": "05d622fc-5397-4243-ead6-d4a89ebf955a",
        "colab": {
          "base_uri": "https://localhost:8080/"
        }
      },
      "id": "f6qbeu_AuogH",
      "execution_count": null,
      "outputs": [
        {
          "output_type": "stream",
          "name": "stdout",
          "text": [
            "current df shape: (44680, 85)\n",
            "Unique data:  ['greeneville' nan 'detroit city' ... 'kalaeloa' 'ishpeming' 'munday']\n",
            "Value counts:  anchorage          330\n",
            "las vegas          148\n",
            "houston            145\n",
            "columbus           138\n",
            "fairbanks          129\n",
            "                  ... \n",
            "kroto slough         1\n",
            "big lake,ak          1\n",
            "nunavarchak bch      1\n",
            "denali airstrip      1\n",
            "munday               1\n",
            "Name: dprt_city, Length: 6753, dtype: int64\n",
            "Total nulls:  9638\n",
            "Data type:  object\n"
          ]
        }
      ]
    },
    {
      "cell_type": "code",
      "source": [
        "# there are some city names that have commas and states after. remove those with commas\n",
        "ntsb_1['dprt_city'] = ntsb_1['dprt_city'].str.split(',').str[0]\n"
      ],
      "metadata": {
        "id": "qgthas85vPXI"
      },
      "id": "qgthas85vPXI",
      "execution_count": null,
      "outputs": []
    },
    {
      "cell_type": "code",
      "source": [
        "# column 13: 'dprt_state'\n",
        "col_metrics(ntsb_1, 'dprt_state')"
      ],
      "metadata": {
        "id": "LPhO-X-Qxil5",
        "outputId": "7c8ad723-149f-4838-8028-3fc5b8757d05",
        "colab": {
          "base_uri": "https://localhost:8080/"
        }
      },
      "id": "LPhO-X-Qxil5",
      "execution_count": null,
      "outputs": [
        {
          "output_type": "stream",
          "name": "stdout",
          "text": [
            "current df shape: (44680, 85)\n",
            "Unique data:  ['sc' nan 'mi' 'mn' 'il' 'ks' 'mo' 'oh' 'ne' 'az' 'nm' 'tx' 'la' 'ok' 'in'\n",
            " 'ca' 'me' 'or' 'ak' 'ga' 'co' 'nh' 'nv' 'fl' 'ma' 'de' 'pa' 'ct' 'ms'\n",
            " 'al' 'nc' 'wy' 'tn' 'nj' 'hi' 'ky' 'vi' 'id' 'wa' 'ut' 'ar' 'va' 'pr'\n",
            " 'ny' 'wv' 'mt' 'nd' 'vt' 'dc' 'ri' 'sd' 'ia' 'cd' 'md' 'wi' 'of' 'ah'\n",
            " 'cn' 'bc' 'gm' 'mp' 'po' 'yt' 'mx' 'un' 'bh' 'ad' 'nb' 'pq' 'cb' 'gu'\n",
            " 'ha' 'io' 'kn' 'ja' 'bi' 'ao' 'dr']\n",
            "Value counts:  ca    3864\n",
            "fl    2569\n",
            "tx    2354\n",
            "ak    1913\n",
            "az    1247\n",
            "co    1141\n",
            "wa    1085\n",
            "ga     974\n",
            "mi     881\n",
            "oh     873\n",
            "ny     871\n",
            "il     870\n",
            "pa     851\n",
            "nc     773\n",
            "mo     708\n",
            "wi     676\n",
            "or     668\n",
            "mn     637\n",
            "va     612\n",
            "in     577\n",
            "id     576\n",
            "nv     562\n",
            "tn     559\n",
            "nj     559\n",
            "ut     557\n",
            "nm     551\n",
            "ar     545\n",
            "al     529\n",
            "ks     517\n",
            "ok     513\n",
            "sc     476\n",
            "la     440\n",
            "mt     408\n",
            "ma     404\n",
            "md     390\n",
            "ia     366\n",
            "ms     349\n",
            "ne     326\n",
            "ky     304\n",
            "wy     299\n",
            "me     258\n",
            "ct     237\n",
            "nd     235\n",
            "sd     220\n",
            "wv     187\n",
            "nh     186\n",
            "hi     174\n",
            "vt     110\n",
            "pr      89\n",
            "ri      66\n",
            "of      56\n",
            "de      52\n",
            "gm      50\n",
            "cd      31\n",
            "dc      31\n",
            "vi      19\n",
            "mx       9\n",
            "po       6\n",
            "bc       4\n",
            "un       4\n",
            "cb       3\n",
            "gu       2\n",
            "ao       2\n",
            "nb       2\n",
            "ja       1\n",
            "kn       1\n",
            "bi       1\n",
            "io       1\n",
            "ha       1\n",
            "bh       1\n",
            "pq       1\n",
            "ad       1\n",
            "yt       1\n",
            "mp       1\n",
            "cn       1\n",
            "ah       1\n",
            "dr       1\n",
            "Name: dprt_state, dtype: int64\n",
            "Total nulls:  9260\n",
            "Data type:  object\n"
          ]
        }
      ]
    },
    {
      "cell_type": "code",
      "source": [
        "# print out all the states that are incorrect\n",
        "state_abbr = [\n",
        "    \"AL\",  # Alabama\n",
        "    \"AK\",  # Alaska\n",
        "    \"AZ\",  # Arizona\n",
        "    \"AR\",  # Arkansas\n",
        "    \"CA\",  # California\n",
        "    \"CO\",  # Colorado\n",
        "    \"CT\",  # Connecticut\n",
        "    \"DE\",  # Delaware\n",
        "    \"FL\",  # Florida\n",
        "    \"GA\",  # Georgia\n",
        "    \"HI\",  # Hawaii\n",
        "    \"ID\",  # Idaho\n",
        "    \"IL\",  # Illinois\n",
        "    \"IN\",  # Indiana\n",
        "    \"IA\",  # Iowa\n",
        "    \"KS\",  # Kansas\n",
        "    \"KY\",  # Kentucky\n",
        "    \"LA\",  # Louisiana\n",
        "    \"ME\",  # Maine\n",
        "    \"MD\",  # Maryland\n",
        "    \"MA\",  # Massachusetts\n",
        "    \"MI\",  # Michigan\n",
        "    \"MN\",  # Minnesota\n",
        "    \"MS\",  # Mississippi\n",
        "    \"MO\",  # Missouri\n",
        "    \"MT\",  # Montana\n",
        "    \"NE\",  # Nebraska\n",
        "    \"NV\",  # Nevada\n",
        "    \"NH\",  # New Hampshire\n",
        "    \"NJ\",  # New Jersey\n",
        "    \"NM\",  # New Mexico\n",
        "    \"NY\",  # New York\n",
        "    \"NC\",  # North Carolina\n",
        "    \"ND\",  # North Dakota\n",
        "    \"OH\",  # Ohio\n",
        "    \"OK\",  # Oklahoma\n",
        "    \"OR\",  # Oregon\n",
        "    \"PA\",  # Pennsylvania\n",
        "    \"RI\",  # Rhode Island\n",
        "    \"SC\",  # South Carolina\n",
        "    \"SD\",  # South Dakota\n",
        "    \"TN\",  # Tennessee\n",
        "    \"TX\",  # Texas\n",
        "    \"UT\",  # Utah\n",
        "    \"VT\",  # Vermont\n",
        "    \"VA\",  # Virginia\n",
        "    \"WA\",  # Washington\n",
        "    \"WV\",  # West Virginia\n",
        "    \"WI\",  # Wisconsin\n",
        "    \"WY\",  # Wyoming\n",
        "    'gu', \n",
        "    'mp', \n",
        "    'pr',\n",
        "    'tt',\n",
        "    'vi'\n",
        "]\n",
        "print(len(state_abbr))\n",
        "state_abbr = list(map(str.lower, state_abbr))"
      ],
      "metadata": {
        "id": "UKuLw8ISzErJ",
        "outputId": "bc863741-9c15-42cd-87c0-3010a451b7fd",
        "colab": {
          "base_uri": "https://localhost:8080/"
        }
      },
      "id": "UKuLw8ISzErJ",
      "execution_count": null,
      "outputs": [
        {
          "output_type": "stream",
          "name": "stdout",
          "text": [
            "55\n"
          ]
        }
      ]
    },
    {
      "cell_type": "code",
      "source": [
        "# incorrect states\n",
        "wrong_states = set()\n",
        "state_sum = []\n",
        "for x in ntsb_1['dprt_state']:\n",
        "  if (x not in state_abbr) and (x is not np.nan):\n",
        "      wrong_states.add(x)\n",
        "      state_sum.append(x)\n",
        "print(len(state_sum))\n",
        "print(wrong_states)\n",
        "\n",
        "# drop the rows with incorrect state values\n",
        "ntsb_1 = ntsb_1[~ntsb_1['dprt_state'].isin(wrong_states)]"
      ],
      "metadata": {
        "id": "l0-Kaqz5zim1",
        "outputId": "001fba37-f50b-46ff-d7b4-58d46f7ad7a6",
        "colab": {
          "base_uri": "https://localhost:8080/"
        }
      },
      "id": "l0-Kaqz5zim1",
      "execution_count": null,
      "outputs": [
        {
          "output_type": "stream",
          "name": "stdout",
          "text": [
            "210\n",
            "{'dr', 'ja', 'of', 'dc', 'pq', 'nb', 'cd', 'yt', 'bc', 'bi', 'ad', 'gm', 'cn', 'un', 'bh', 'ah', 'cb', 'ha', 'mx', 'kn', 'ao', 'io', 'po'}\n"
          ]
        }
      ]
    },
    {
      "cell_type": "code",
      "source": [
        "ntsb_1.shape"
      ],
      "metadata": {
        "id": "Ouuw2NeN3Z2U",
        "outputId": "cf6de8be-b348-4a1c-c841-5ce6ae274e5f",
        "colab": {
          "base_uri": "https://localhost:8080/"
        }
      },
      "id": "Ouuw2NeN3Z2U",
      "execution_count": null,
      "outputs": [
        {
          "output_type": "execute_result",
          "data": {
            "text/plain": [
              "(44470, 85)"
            ]
          },
          "metadata": {},
          "execution_count": 108
        }
      ]
    },
    {
      "cell_type": "code",
      "source": [
        "# column 14: 'dprt_time'\n",
        "col_metrics(ntsb_1, 'dprt_time')"
      ],
      "metadata": {
        "id": "5SwHqpw53fsB",
        "outputId": "c49281a7-9db6-41fc-dfc2-357ab922ec17",
        "colab": {
          "base_uri": "https://localhost:8080/"
        }
      },
      "id": "5SwHqpw53fsB",
      "execution_count": null,
      "outputs": [
        {
          "output_type": "stream",
          "name": "stdout",
          "text": [
            "current df shape: (44470, 85)\n",
            "Unique data:  [ 908. 1710. 1200. ...  156.   29.  322.]\n",
            "Value counts:  0.0       3620\n",
            "1400.0     856\n",
            "1500.0     814\n",
            "1600.0     737\n",
            "1700.0     693\n",
            "          ... \n",
            "626.0        1\n",
            "103.0        1\n",
            "195.0        1\n",
            "193.0        1\n",
            "322.0        1\n",
            "Name: dprt_time, Length: 1354, dtype: int64\n",
            "Total nulls:  1514\n",
            "Data type:  float64\n"
          ]
        }
      ]
    },
    {
      "cell_type": "code",
      "source": [
        "# change to string\n",
        "ntsb_1['dprt_time'] = ntsb_1['dprt_time'].astype('str')\n",
        "\n",
        "# remove all .o\n",
        "ntsb_1['dprt_time'] = ntsb_1['dprt_time'].str.rstrip('.0')\n",
        "times = []\n",
        "for x in list(ntsb_1['dprt_time']):\n",
        "    if len(x) == 1:\n",
        "        x = '000' + x\n",
        "        times.append(x)\n",
        "    elif len(x) == 2:\n",
        "        x = '00' + x\n",
        "        times.append(x)\n",
        "    elif len(x) == 3:\n",
        "        x = '0' + x\n",
        "        times.append(x)\n",
        "    else:\n",
        "        times.append(x)\n",
        "ntsb_1['dprt_time'] = times\n",
        "ntsb_1['dprt_time'].unique()\n"
      ],
      "metadata": {
        "id": "MO09N4cm3xyP",
        "outputId": "2d7b1c0e-2bb8-4cad-e77e-a199025c7bd9",
        "colab": {
          "base_uri": "https://localhost:8080/"
        }
      },
      "id": "MO09N4cm3xyP",
      "execution_count": null,
      "outputs": [
        {
          "output_type": "execute_result",
          "data": {
            "text/plain": [
              "array(['0908', '0171', '0012', ..., '0156', '0029', '0322'], dtype=object)"
            ]
          },
          "metadata": {},
          "execution_count": 110
        }
      ]
    },
    {
      "cell_type": "code",
      "source": [
        "import numpy as np\n",
        "# column 15: 'dest_same_local'\n",
        "col_metrics(ntsb_1, 'dest_same_local')\n",
        "\n",
        "# three different versions of yes so standatdizing it\n",
        "ntsb_1['dest_same_local'] = ntsb_1['dest_same_local'].str.replace('same', 'y').str.replace('locl', 'y').str.replace('spec', 'y')\n",
        "\n",
        "ntsb_1.loc[ntsb_1['dest_same_local'] == 'y', 'dest_apt_id'] = ntsb_1['dest_apt_id'].fillna(ntsb_1['dprt_apt_id'])  \n",
        " "
      ],
      "metadata": {
        "id": "R_jUw5oS-NjI",
        "outputId": "fa6946ed-9bee-4f07-bdaa-ae79bc4f386a",
        "colab": {
          "base_uri": "https://localhost:8080/"
        }
      },
      "id": "R_jUw5oS-NjI",
      "execution_count": null,
      "outputs": [
        {
          "output_type": "stream",
          "name": "stdout",
          "text": [
            "current df shape: (44470, 85)\n",
            "Unique data:  ['y' nan]\n",
            "Value counts:  y    23102\n",
            "Name: dest_same_local, dtype: int64\n",
            "Total nulls:  21368\n",
            "Data type:  object\n"
          ]
        }
      ]
    },
    {
      "cell_type": "code",
      "source": [
        "# column 16: 'dest_apt_id'\n",
        "col_metrics(ntsb_1, 'dest_apt_id')\n",
        "\n",
        "# need to drop the 'k' from all 4 letter icao's\n",
        "ntsb_1['dest_apt_id'] = ntsb_1['dest_apt_id'].astype('str').apply(lambda x: x[1:] if len(x) == 4 and x[0] == 'k' else x)\n",
        "ntsb_1.loc[ntsb_1['dest_apt_id'] == 'c', 'dest_apt_id'] = ntsb_1['dest_apt_id'].str.replace('c', 'pvt')"
      ],
      "metadata": {
        "id": "FilNLBc0-17N",
        "outputId": "44dad20a-fb46-4573-f6fe-35a1e8d6842a",
        "colab": {
          "base_uri": "https://localhost:8080/"
        }
      },
      "id": "FilNLBc0-17N",
      "execution_count": null,
      "outputs": [
        {
          "output_type": "stream",
          "name": "stdout",
          "text": [
            "current df shape: (44470, 85)\n",
            "Unique data:  ['3a1' 'ox8' 'nan' ... 'vvs' '62k' '38cl']\n",
            "Value counts:  nan     8644\n",
            "none     860\n",
            "pvt      271\n",
            "c        206\n",
            "mri      165\n",
            "        ... \n",
            "ny43       1\n",
            "hlo        1\n",
            "uo1        1\n",
            "u98        1\n",
            "38cl       1\n",
            "Name: dest_apt_id, Length: 7049, dtype: int64\n",
            "Total nulls:  0\n",
            "Data type:  object\n"
          ]
        }
      ]
    },
    {
      "cell_type": "code",
      "source": [
        "# col 17: 'dest_city'\n",
        "col_metrics(ntsb_1, 'dest_city')\n",
        "\n",
        "# there are some city names that have commas and states after. remove those with commas\n",
        "ntsb_1['dest_city'] = ntsb_1['dest_city'].str.split(',').str[0]"
      ],
      "metadata": {
        "id": "gpkRGgi6MSCL",
        "outputId": "56aadff1-d635-4f5c-b947-ffb440366122",
        "colab": {
          "base_uri": "https://localhost:8080/"
        }
      },
      "id": "gpkRGgi6MSCL",
      "execution_count": null,
      "outputs": [
        {
          "output_type": "stream",
          "name": "stdout",
          "text": [
            "current df shape: (44470, 85)\n",
            "Unique data:  [nan 'oklahoma city' 'mt. vernon' ... 'langley' 'hicks/fort wort'\n",
            " 'detroit/grosse ile']\n",
            "Value counts:  anchorage             187\n",
            "las vegas             119\n",
            "houston               107\n",
            "atlanta                98\n",
            "phoenix                97\n",
            "                     ... \n",
            "elizabeth               1\n",
            "oxbow                   1\n",
            "south charlesto         1\n",
            "corolla                 1\n",
            "detroit/grosse ile      1\n",
            "Name: dest_city, Length: 5772, dtype: int64\n",
            "Total nulls:  18371\n",
            "Data type:  object\n"
          ]
        }
      ]
    },
    {
      "cell_type": "code",
      "source": [
        "# column 18: 'dest_state'\n",
        "col_metrics(ntsb_1, 'dest_state')\n",
        "\n",
        "# incorrect states\n",
        "wrong_states = set()\n",
        "state_sum = []\n",
        "for x in ntsb_1['dest_state']:\n",
        "  if (x not in state_abbr) and (x is not np.nan):\n",
        "      wrong_states.add(x)\n",
        "      state_sum.append(x)\n",
        "print(len(state_sum))\n",
        "print(wrong_states)\n",
        "\n",
        "# drop the rows with incorrect state values\n",
        "ntsb_1 = ntsb_1[~ntsb_1['dest_state'].isin(wrong_states)]"
      ],
      "metadata": {
        "colab": {
          "base_uri": "https://localhost:8080/"
        },
        "id": "uSBAXSK5QEL0",
        "outputId": "b318bbe8-a01d-472a-b4b0-583ef55e4820"
      },
      "id": "uSBAXSK5QEL0",
      "execution_count": null,
      "outputs": [
        {
          "output_type": "stream",
          "name": "stdout",
          "text": [
            "current df shape: (44351, 85)\n",
            "Unique data:  ['al' nan 'ok' 'il' 'ks' 'co' 'ar' 'ne' 'tx' 'ca' 'fl' 'pa' 'mi' 'az' 'nv'\n",
            " 'sc' 'ms' 'ct' 'ak' 'ia' 'ut' 'oh' 'tn' 'nc' 'mn' 'mo' 'nm' 'ga' 'or'\n",
            " 'la' 'nj' 'ky' 'pr' 'wa' 'nh' 'va' 'me' 'ma' 'cg' 'p1' 'id' 'mt' 'in'\n",
            " 'wi' 'md' 'ny' 'wv' 'ck' 'hi' 'wy' '42' 'de' 'nd' 'no' 'ap' 'vt' 'ri'\n",
            " 'bm' 'fm' 'fi' 'bu' 'go' 'vn' 'fd' 'ws' 'sd' 'vi' 'dl' 'gc' '0' 'on' 'a'\n",
            " '2' 'gu' 'it' 'd' '\\x11']\n",
            "Value counts:  ca    2866\n",
            "fl    1918\n",
            "tx    1805\n",
            "ak    1439\n",
            "az     938\n",
            "co     866\n",
            "wa     832\n",
            "ga     727\n",
            "ny     655\n",
            "oh     623\n",
            "nc     620\n",
            "pa     608\n",
            "mi     606\n",
            "il     602\n",
            "or     538\n",
            "mo     522\n",
            "wi     495\n",
            "id     490\n",
            "mn     478\n",
            "tn     457\n",
            "va     450\n",
            "ut     438\n",
            "nv     434\n",
            "in     433\n",
            "nm     420\n",
            "al     413\n",
            "nj     398\n",
            "ok     397\n",
            "ks     377\n",
            "ar     373\n",
            "sc     371\n",
            "mt     334\n",
            "ma     325\n",
            "la     322\n",
            "ia     293\n",
            "md     268\n",
            "ky     239\n",
            "ne     236\n",
            "ms     233\n",
            "wy     228\n",
            "me     201\n",
            "ct     184\n",
            "nd     157\n",
            "sd     155\n",
            "wv     151\n",
            "hi     128\n",
            "nh     125\n",
            "vt      72\n",
            "pr      60\n",
            "ri      58\n",
            "de      38\n",
            "vi      12\n",
            "on       3\n",
            "gu       2\n",
            "no       2\n",
            "a        2\n",
            "gc       1\n",
            "dl       1\n",
            "d        1\n",
            "0        1\n",
            "ws       1\n",
            "it       1\n",
            "2        1\n",
            "p1       1\n",
            "fd       1\n",
            "vn       1\n",
            "go       1\n",
            "bu       1\n",
            "fi       1\n",
            "fm       1\n",
            "bm       1\n",
            "ap       1\n",
            "42       1\n",
            "ck       1\n",
            "cg       1\n",
            "\u0011        1\n",
            "Name: dest_state, dtype: int64\n",
            "Total nulls:  17914\n",
            "Data type:  object\n",
            "27\n",
            "{'it', 'cg', '2', 'ws', 'd', 'go', 'a', 'fm', 'on', 'bm', '0', 'ck', 'p1', 'vn', 'gc', 'no', '\\x11', '42', 'bu', 'fi', 'fd', 'dl', 'ap'}\n"
          ]
        }
      ]
    },
    {
      "cell_type": "code",
      "source": [
        "# col 19: phase_flt_spec\n",
        "col_metrics(ntsb_1, 'phase_flt_spec')"
      ],
      "metadata": {
        "id": "f3L5wSOeQ7d8",
        "outputId": "9d0cbe86-1d3e-4bbf-b8d9-124428ffabb1",
        "colab": {
          "base_uri": "https://localhost:8080/"
        }
      },
      "id": "f3L5wSOeQ7d8",
      "execution_count": null,
      "outputs": [
        {
          "output_type": "stream",
          "name": "stdout",
          "text": [
            "current df shape: (44324, 85)\n",
            "Unique data:  [560. 520. 540. 570. 580. 530. 550. 510. 590. 553. 574. 569. 565. 522.\n",
            " 541. 551. 572. 564. 400. 568. 571.  nan 573. 531. 561. 581. 563. 582.\n",
            " 552. 512. 513. 583. 521. 567. 566. 523. 562. 575. 576. 591. 511. 592.\n",
            " 542. 514.]\n",
            "Value counts:  570.0    13742\n",
            "520.0     4568\n",
            "550.0     3189\n",
            "580.0     2901\n",
            "560.0     2675\n",
            "540.0     2428\n",
            "510.0      854\n",
            "572.0      749\n",
            "574.0      663\n",
            "522.0      617\n",
            "530.0      557\n",
            "571.0      508\n",
            "564.0      212\n",
            "590.0      182\n",
            "565.0      168\n",
            "521.0      160\n",
            "576.0      158\n",
            "553.0      140\n",
            "541.0      120\n",
            "573.0       86\n",
            "523.0       76\n",
            "581.0       65\n",
            "531.0       61\n",
            "513.0       54\n",
            "575.0       49\n",
            "567.0       45\n",
            "561.0       44\n",
            "552.0       42\n",
            "512.0       35\n",
            "563.0       35\n",
            "551.0       33\n",
            "569.0       32\n",
            "583.0       21\n",
            "582.0       20\n",
            "562.0       19\n",
            "591.0       16\n",
            "566.0       14\n",
            "568.0       12\n",
            "592.0       10\n",
            "514.0        4\n",
            "400.0        1\n",
            "511.0        1\n",
            "542.0        1\n",
            "Name: phase_flt_spec, dtype: int64\n",
            "Total nulls:  8957\n",
            "Data type:  float64\n"
          ]
        }
      ]
    },
    {
      "cell_type": "code",
      "source": [
        "# col 20: afm_hrs_since\n",
        "col_metrics(ntsb_1, 'afm_hrs_since')"
      ],
      "metadata": {
        "id": "U93JqZoVSZWC",
        "outputId": "4a360f2c-9eb0-4d5a-d3c7-950527009341",
        "colab": {
          "base_uri": "https://localhost:8080/"
        }
      },
      "id": "U93JqZoVSZWC",
      "execution_count": null,
      "outputs": [
        {
          "output_type": "stream",
          "name": "stdout",
          "text": [
            "current df shape: (44324, 85)\n",
            "Unique data:  [nan 'insp' 'acci' 'n' 'y']\n",
            "Value counts:  n       4538\n",
            "y       4348\n",
            "acci    3934\n",
            "insp    1858\n",
            "Name: afm_hrs_since, dtype: int64\n",
            "Total nulls:  29646\n",
            "Data type:  object\n"
          ]
        }
      ]
    },
    {
      "cell_type": "code",
      "source": [
        "ntsb_1.columns"
      ],
      "metadata": {
        "id": "5f3VNCji2MYO",
        "outputId": "9814bc2f-2204-4f59-e3b6-7789bd44a1f6",
        "colab": {
          "base_uri": "https://localhost:8080/"
        }
      },
      "id": "5f3VNCji2MYO",
      "execution_count": null,
      "outputs": [
        {
          "output_type": "execute_result",
          "data": {
            "text/plain": [
              "Index(['aircraft_ev_id', 'far_part', 'damage', 'acft_make', 'acft_model',\n",
              "       'cert_max_gr_wt', 'num_eng', 'type_last_insp', 'date_last_insp',\n",
              "       'afm_hrs_last_insp', 'afm_hrs', 'type_fly', 'dprt_apt_id', 'dprt_city',\n",
              "       'dprt_state', 'dprt_time', 'dest_same_local', 'dest_apt_id',\n",
              "       'dest_city', 'dest_state', 'phase_flt_spec', 'afm_hrs_since', 'rwy_num',\n",
              "       'rwy_len', 'rwy_width', 'ifr_equipped_cert', 'eng_no', 'eng_type',\n",
              "       'eng_mfgr', 'hp_or_lbs', 'carb_fuel_injection', 'eng_time_total',\n",
              "       'eng_time_last_insp', 'ntsb_no', 'ev_type', 'ev_date', 'ev_dow',\n",
              "       'ev_time', 'ev_city', 'ev_state', 'ev_year', 'ev_month', 'latitude',\n",
              "       'longitude', 'apt_name', 'ev_nr_apt_id', 'ev_nr_apt_loc', 'apt_dist',\n",
              "       'apt_dir', 'apt_elev', 'wx_src_iic', 'wx_obs_time', 'wx_obs_dir',\n",
              "       'wx_obs_fac_id', 'wx_obs_elev', 'wx_obs_dist', 'light_cond',\n",
              "       'sky_cond_nonceil', 'sky_nonceil_ht', 'sky_ceil_ht', 'sky_cond_ceil',\n",
              "       'vis_rvr', 'vis_sm', 'wx_temp', 'wx_dew_pt', 'wind_dir_deg',\n",
              "       'wind_dir_ind', 'wind_vel_kts', 'wind_vel_ind', 'gust_ind', 'gust_kts',\n",
              "       'altimeter', 'wx_dens_alt', 'wx_int_precip', 'ev_highest_injury',\n",
              "       'inj_tot_t', 'wx_cond_basic', 'Cause_Factor', 'crew_no',\n",
              "       'crew_category', 'crew_age', 'crew_sex', 'med_certf', 'pilot_flying',\n",
              "       'crew_inj_level'],\n",
              "      dtype='object')"
            ]
          },
          "metadata": {},
          "execution_count": 113
        }
      ]
    },
    {
      "cell_type": "code",
      "source": [],
      "metadata": {
        "id": "04ia-DZE2kue"
      },
      "id": "04ia-DZE2kue",
      "execution_count": null,
      "outputs": []
    },
    {
      "cell_type": "markdown",
      "source": [
        "## Kathleen Section"
      ],
      "metadata": {
        "id": "wV5gBOAdk_Vc"
      },
      "id": "wV5gBOAdk_Vc"
    },
    {
      "cell_type": "code",
      "source": [
        "ntsb_2 = weight_bins(ntsb_1, 'cert_max_gr_wt')"
      ],
      "metadata": {
        "id": "7jHRY9TGlCA7",
        "outputId": "b1b629a4-6d3d-4af1-86e0-2e5ce8e970a6",
        "colab": {
          "base_uri": "https://localhost:8080/",
          "height": 165
        }
      },
      "id": "7jHRY9TGlCA7",
      "execution_count": null,
      "outputs": [
        {
          "output_type": "error",
          "ename": "NameError",
          "evalue": "ignored",
          "traceback": [
            "\u001b[0;31m---------------------------------------------------------------------------\u001b[0m",
            "\u001b[0;31mNameError\u001b[0m                                 Traceback (most recent call last)",
            "\u001b[0;32m<ipython-input-2-537b0a08ac61>\u001b[0m in \u001b[0;36m<module>\u001b[0;34m\u001b[0m\n\u001b[0;32m----> 1\u001b[0;31m \u001b[0mntsb_2\u001b[0m \u001b[0;34m=\u001b[0m \u001b[0mweight_bins\u001b[0m\u001b[0;34m(\u001b[0m\u001b[0mntsb_1\u001b[0m\u001b[0;34m,\u001b[0m \u001b[0;34m'cert_max_gr_wt'\u001b[0m\u001b[0;34m)\u001b[0m\u001b[0;34m\u001b[0m\u001b[0;34m\u001b[0m\u001b[0m\n\u001b[0m",
            "\u001b[0;31mNameError\u001b[0m: name 'weight_bins' is not defined"
          ]
        }
      ]
    },
    {
      "cell_type": "code",
      "source": [
        "ntsb_2['cert_max_gr_wt']"
      ],
      "metadata": {
        "id": "9_1p5-AglDXB",
        "outputId": "81e72e21-e683-4b97-f622-742e8798ee24",
        "colab": {
          "base_uri": "https://localhost:8080/",
          "height": 165
        }
      },
      "id": "9_1p5-AglDXB",
      "execution_count": null,
      "outputs": [
        {
          "output_type": "error",
          "ename": "NameError",
          "evalue": "ignored",
          "traceback": [
            "\u001b[0;31m---------------------------------------------------------------------------\u001b[0m",
            "\u001b[0;31mNameError\u001b[0m                                 Traceback (most recent call last)",
            "\u001b[0;32m<ipython-input-3-e1ced336222d>\u001b[0m in \u001b[0;36m<module>\u001b[0;34m\u001b[0m\n\u001b[0;32m----> 1\u001b[0;31m \u001b[0mntsb_2\u001b[0m\u001b[0;34m[\u001b[0m\u001b[0;34m'cert_max_gr_wt'\u001b[0m\u001b[0;34m]\u001b[0m\u001b[0;34m\u001b[0m\u001b[0;34m\u001b[0m\u001b[0m\n\u001b[0m",
            "\u001b[0;31mNameError\u001b[0m: name 'ntsb_2' is not defined"
          ]
        }
      ]
    },
    {
      "cell_type": "code",
      "source": [
        "ntsb_1.columns"
      ],
      "metadata": {
        "id": "8kGrhc0GlJDj"
      },
      "id": "8kGrhc0GlJDj",
      "execution_count": null,
      "outputs": []
    },
    {
      "cell_type": "code",
      "source": [
        "#Walkthrough at https://inria.github.io/scikit-learn-mooc/python_scripts/03_categorical_pipeline_column_transformer.html\n",
        "#preprocessing different for categorical vs numerical columns\n",
        "\n",
        "from sklearn.compose import make_column_selector as selector\n",
        "\n",
        "numerical_columns_selector = selector(dtype_exclude=object)\n",
        "categorical_columns_selector = selector(dtype_include=object)\n",
        "\n",
        "numerical_columns = numerical_columns_selector(ntsb_raw)\n",
        "categorical_columns = categorical_columns_selector(ntsb_raw)"
      ],
      "metadata": {
        "id": "nqUMcQ0OlMEX"
      },
      "id": "nqUMcQ0OlMEX",
      "execution_count": null,
      "outputs": []
    },
    {
      "cell_type": "code",
      "source": [
        "#print(df.columns[2])\n",
        "col_list = ntsb_1.columns[23:46]\n",
        "print(col_list)"
      ],
      "metadata": {
        "id": "J7YVS8wilP_q"
      },
      "id": "J7YVS8wilP_q",
      "execution_count": null,
      "outputs": []
    },
    {
      "cell_type": "code",
      "source": [
        "# Listing metrics for all assigned columns \n",
        "\n",
        "for col in col_list:\n",
        "  print(ntsb_1[col].name)\n",
        "  col_metrics(ntsb_1, col) "
      ],
      "metadata": {
        "id": "73ZbouT7lSFJ"
      },
      "id": "73ZbouT7lSFJ",
      "execution_count": null,
      "outputs": []
    },
    {
      "cell_type": "code",
      "source": [
        "# Removing spaces in runway number column. Not sure what else to do with this column, some runways might be more risky for particular airports, so I think this is valuable to keep.\n",
        "ntsb_1['rwy_num'].mask(ntsb_1['rwy_num'] == '0', np.nan, inplace=True)\n",
        "ntsb_1['rwy_num'].mask(ntsb_1['rwy_num'] == '3 r', '3r', inplace=True)\n",
        "ntsb_1['rwy_num'].mask(ntsb_1['rwy_num'] == '10r/', '10r', inplace=True)\n",
        "ntsb_1['rwy_num'].mask(ntsb_1['rwy_num'] == '18r/', '18r', inplace=True)\n",
        "ntsb_1['rwy_num'].mask(ntsb_1['rwy_num'] == '18 /', '18', inplace=True)\n",
        "ntsb_1['rwy_num'].mask(ntsb_1['rwy_num'] == '09c', '9c', inplace=True)\n",
        "ntsb_1['rwy_num'].mask(ntsb_1['rwy_num'] == '02c', '2c', inplace=True)\n",
        "ntsb_1['rwy_num'].mask(ntsb_1['rwy_num'] == '07s', '7s', inplace=True)\n",
        "ntsb_1['rwy_num'].mask(ntsb_1['rwy_num'] == '01l' , '11', inplace=True)\n",
        "ntsb_1['rwy_num'].mask(ntsb_1['rwy_num'] == '050', '50', inplace=True)\n",
        "ntsb_1['rwy_num'].mask(ntsb_1['rwy_num'] == 'unk', np.nan, inplace=True)\n",
        "ntsb_1['rwy_num'].mask(ntsb_1['rwy_num'] == 'none', np.nan, inplace=True)\n",
        "ntsb_1['rwy_num'].mask(ntsb_1['rwy_num'] == '03', '3', inplace=True)\n",
        "ntsb_1['rwy_num'].mask(ntsb_1['rwy_num'] == '07', '7', inplace=True)\n",
        "ntsb_1['rwy_num'].mask(ntsb_1['rwy_num'] == '07l', '71', inplace=True)\n",
        "ntsb_1['rwy_num'].mask(ntsb_1['rwy_num'] == '055', '55', inplace=True)\n",
        "ntsb_1['rwy_num'].mask(ntsb_1['rwy_num'] == '07l', '71', inplace=True)\n",
        "ntsb_1['rwy_num'].mask(ntsb_1['rwy_num'] == '00', np.nan, inplace=True)\n",
        "ntsb_1['rwy_num'].mask(ntsb_1['rwy_num'] == '000', np.nan, inplace=True)\n",
        "ntsb_1['rwy_num'].mask(ntsb_1['rwy_num'] == '08l', '81', inplace=True)\n",
        "ntsb_1['rwy_num'].mask(ntsb_1['rwy_num'] == '060' , '60', inplace=True)\n",
        "ntsb_1['rwy_num'].mask(ntsb_1['rwy_num'] == '035', '35', inplace=True)\n",
        "ntsb_1['rwy_num'].mask(ntsb_1['rwy_num'] == '06r', '6r', inplace=True)\n",
        "ntsb_1['rwy_num'].mask(ntsb_1['rwy_num'] == '07/2', '7', inplace=True)\n",
        "ntsb_1['rwy_num'].mask(ntsb_1['rwy_num'] == '03/2', '3', inplace=True)\n",
        "ntsb_1['rwy_num'].mask(ntsb_1['rwy_num'] == '08/2', '8', inplace=True)\n",
        "ntsb_1['rwy_num'].mask(ntsb_1['rwy_num'] == '03l', '31', inplace=True)\n",
        "ntsb_1['rwy_num'].mask(ntsb_1['rwy_num'] == '02l', '21', inplace=True)\n",
        "ntsb_1['rwy_num'].mask(ntsb_1['rwy_num'] == '05r', '5r', inplace=True)\n",
        "ntsb_1['rwy_num'].mask(ntsb_1['rwy_num'] == '022', '22', inplace=True)\n",
        "ntsb_1['rwy_num'].mask(ntsb_1['rwy_num'] == '07r', '7r', inplace=True)\n",
        "ntsb_1['rwy_num'].mask(ntsb_1['rwy_num'] == '9 r', '9r', inplace=True)\n",
        "ntsb_1['rwy_num'].mask(ntsb_1['rwy_num'] == '05l', '51', inplace=True)\n",
        "ntsb_1['rwy_num'].mask(ntsb_1['rwy_num'] == '02r', '2r', inplace=True)\n",
        "ntsb_1['rwy_num'].mask(ntsb_1['rwy_num'] == '07s', '7s', inplace=True)\n",
        "ntsb_1['rwy_num'].mask(ntsb_1['rwy_num'] == '2/8', '2', inplace=True)\n",
        "ntsb_1['rwy_num'].mask(ntsb_1['rwy_num'] == '09/2', '9', inplace=True)\n",
        "ntsb_1['rwy_num'].mask(ntsb_1['rwy_num'] == '04/2', '4', inplace=True)\n",
        "ntsb_1['rwy_num'].mask(ntsb_1['rwy_num'] == '05/2', '5', inplace=True)\n",
        "ntsb_1['rwy_num'].mask(ntsb_1['rwy_num'] == '12/3', '12', inplace=True)\n",
        "ntsb_1['rwy_num'].mask(ntsb_1['rwy_num'] == '14/3', '14', inplace=True)\n",
        "ntsb_1['rwy_num'].mask(ntsb_1['rwy_num'] == '15/3', '15', inplace=True)\n",
        "ntsb_1['rwy_num'].mask(ntsb_1['rwy_num'] == '10/2', '10', inplace=True)\n",
        "ntsb_1['rwy_num'].mask(ntsb_1['rwy_num'] == '11/2', '11', inplace=True)\n",
        "ntsb_1['rwy_num'].mask(ntsb_1['rwy_num'] == '16/3', '16', inplace=True)\n",
        "ntsb_1['rwy_num'].mask(ntsb_1['rwy_num'] == '18/3', '18', inplace=True)\n",
        "ntsb_1['rwy_num'].mask(ntsb_1['rwy_num'] == '17/3', '17', inplace=True)\n",
        "ntsb_1['rwy_num'].mask(ntsb_1['rwy_num'] == '02/2', '2', inplace=True)\n",
        "ntsb_1['rwy_num'].mask(ntsb_1['rwy_num'] == '5/23', '5', inplace=True)\n",
        "ntsb_1['rwy_num'].mask(ntsb_1['rwy_num'] == '9/27', '9', inplace=True)\n",
        "ntsb_1['rwy_num'].mask(ntsb_1['rwy_num'] == '7/25', '7', inplace=True)\n",
        "ntsb_1['rwy_num'].mask(ntsb_1['rwy_num'] == '1/19', '1', inplace=True)\n",
        "ntsb_1['rwy_num'].mask(ntsb_1['rwy_num'] == 'n', '36', inplace=True)\n",
        "ntsb_1['rwy_num'].mask(ntsb_1['rwy_num'] == 's', '18', inplace=True)\n",
        "ntsb_1['rwy_num'].mask(ntsb_1['rwy_num'] == 'w', '27', inplace=True)\n",
        "ntsb_1['rwy_num'].mask(ntsb_1['rwy_num'] == 'e', '9', inplace=True)\n",
        "ntsb_1['rwy_num'].mask(ntsb_1['rwy_num'] == 'e/w', '27', inplace=True)\n",
        "ntsb_1['rwy_num'].mask(ntsb_1['rwy_num'] == 'n/s', '18', inplace=True)\n",
        "ntsb_1['rwy_num'].mask(ntsb_1['rwy_num'] == 'nw', '315', inplace=True)\n",
        "ntsb_1['rwy_num'].mask(ntsb_1['rwy_num'] == 'emm', np.nan, inplace=True)\n",
        "ntsb_1['rwy_num'].mask(ntsb_1['rwy_num'] == 'afo', np.nan, inplace=True)\n",
        "ntsb_1['rwy_num'].mask(ntsb_1['rwy_num'] == 'gif', np.nan, inplace=True)\n",
        "ntsb_1['rwy_num'].mask(ntsb_1['rwy_num'] == 'pvt', 'private', inplace=True)\n",
        "ntsb_1['rwy_num'].mask(ntsb_1['rwy_num'] == 'se', '135', inplace=True)\n",
        "ntsb_1['rwy_num'].mask(ntsb_1['rwy_num'] == 'vgt', np.nan, inplace=True)\n",
        "ntsb_1['rwy_num'].mask(ntsb_1['rwy_num'] == 'west', '27', inplace=True)\n",
        "ntsb_1['rwy_num'].mask(ntsb_1['rwy_num'] == 'ne', '4.5', inplace=True) #is this right?\n",
        "ntsb_1['rwy_num'].mask(ntsb_1['rwy_num'] == 'vgt', np.nan, inplace=True)\n",
        "ntsb_1['rwy_num'].mask(ntsb_1['rwy_num'] == 'sw', '225', inplace=True)\n",
        "ntsb_1['rwy_num'].mask(ntsb_1['rwy_num'] == 'h2', np.nan, inplace=True)"
      ],
      "metadata": {
        "id": "1k7InBqKlT__"
      },
      "id": "1k7InBqKlT__",
      "execution_count": null,
      "outputs": []
    },
    {
      "cell_type": "code",
      "source": [
        "## update runway numbers\n",
        "ntsb_1['rwy_num'].mask(ntsb_1['rwy_num'] == '', np.nan, inplace=True)\n",
        "ntsb_1['rwy_num'].unique()"
      ],
      "metadata": {
        "id": "s68MJPNaldtP"
      },
      "id": "s68MJPNaldtP",
      "execution_count": null,
      "outputs": []
    },
    {
      "cell_type": "code",
      "source": [
        "col_metrics(ntsb_1, col='rwy_len')"
      ],
      "metadata": {
        "id": "J-hh7IHflfj9"
      },
      "id": "J-hh7IHflfj9",
      "execution_count": null,
      "outputs": []
    },
    {
      "cell_type": "code",
      "source": [
        "ntsb_1['rwy_len'].plot(kind='kde')"
      ],
      "metadata": {
        "id": "xVVPbq8FlhR5"
      },
      "id": "xVVPbq8FlhR5",
      "execution_count": null,
      "outputs": []
    },
    {
      "cell_type": "code",
      "source": [
        "# binning values in 'rwy_len' column, wondering the best way to bin since we have values from 0- 69000, but most are between 0-20000\n",
        "\n",
        "bins = [0, 1000, 2000, 3000, 4000, 5000, 6000, 7000, 8000, 9000, 10000, 11000, 12000, 13000, 14000, 15000, 16000, 17000, 18000, 19000, 20000, 100000]\n",
        "labels =[1,2,3,4,5,6,7,8,9,10,11,12,13,14,15,16,17,18,19,20,21]\n",
        "ntsb_1['rwy_len'] = pd.cut(ntsb_1['rwy_len'], bins,labels=labels)\n",
        "col_metrics(ntsb_1, col='rwy_len')"
      ],
      "metadata": {
        "id": "6f9Mbtm2lmci"
      },
      "id": "6f9Mbtm2lmci",
      "execution_count": null,
      "outputs": []
    },
    {
      "cell_type": "code",
      "source": [
        "col_metrics(ntsb_1, col='rwy_width')"
      ],
      "metadata": {
        "id": "GynK7ENqlsuz"
      },
      "id": "GynK7ENqlsuz",
      "execution_count": null,
      "outputs": []
    },
    {
      "cell_type": "code",
      "source": [
        "ntsb_1['rwy_width'].round(0)"
      ],
      "metadata": {
        "id": "E69I_SCIlv84"
      },
      "id": "E69I_SCIlv84",
      "execution_count": null,
      "outputs": []
    },
    {
      "cell_type": "code",
      "source": [
        "ntsb_1['rwy_width'].max()"
      ],
      "metadata": {
        "id": "bcLnax1rlxmi"
      },
      "id": "bcLnax1rlxmi",
      "execution_count": null,
      "outputs": []
    },
    {
      "cell_type": "code",
      "source": [
        "ntsb_1['rwy_width'].plot(kind='kde')"
      ],
      "metadata": {
        "id": "SeZ1uDGzly0W"
      },
      "id": "SeZ1uDGzly0W",
      "execution_count": null,
      "outputs": []
    },
    {
      "cell_type": "code",
      "source": [
        "# binning values in 'rwy_width' column... same question as above\n",
        "\n",
        "bins2 = [0,10,20,30,40,50,60,70,80,90,100,200,300,400,500,1000,8000]\n",
        "labels2 = [1,2,3,4,5,6,7,8,9,10,11,12,13,14,15,16]\n",
        "\n",
        "#bins2 = [0, 100, 200, 300, 400, 500, 1000, 1500, 2000, 2500, 3000, 3500, 4000, 4500, 5000, 5500, 6000, 6500, 7000, 7500, 8000]\n",
        "#labels2 =[1,2,3,4,5,6,7,8,9,10,11,12,13,14,15,16,17,18,19,20]\n",
        "ntsb_1['rwy_width'] = pd.cut(ntsb_1['rwy_width'], bins2, labels=labels2)\n",
        "col_metrics(ntsb_1, col='rwy_width')"
      ],
      "metadata": {
        "id": "iWxyIABHtF5C"
      },
      "id": "iWxyIABHtF5C",
      "execution_count": null,
      "outputs": []
    },
    {
      "cell_type": "code",
      "source": [
        "col_metrics(ntsb_1, col='eng_type')"
      ],
      "metadata": {
        "id": "H3ZcYr3jtITn"
      },
      "id": "H3ZcYr3jtITn",
      "execution_count": null,
      "outputs": []
    },
    {
      "cell_type": "code",
      "source": [
        "# Changing datatype for eng_type column to category\n",
        "ntsb_1['eng_type'].astype('category')"
      ],
      "metadata": {
        "id": "qoVqL1rotLdd"
      },
      "id": "qoVqL1rotLdd",
      "execution_count": null,
      "outputs": []
    },
    {
      "cell_type": "code",
      "source": [
        "#replacing none and unk values from eng_type with nan\n",
        "ntsb_1['eng_type'].mask(ntsb_1['eng_type'] == 'none', np.nan, inplace=True)\n",
        "ntsb_1['eng_type'].mask(ntsb_1['eng_type'] == 'unk', np.nan, inplace=True)"
      ],
      "metadata": {
        "id": "hhD8aX_BtMme"
      },
      "id": "hhD8aX_BtMme",
      "execution_count": null,
      "outputs": []
    },
    {
      "cell_type": "code",
      "source": [
        "ntsb_1['eng_mfgr'].unique()"
      ],
      "metadata": {
        "id": "ecjM-EkatOX9"
      },
      "id": "ecjM-EkatOX9",
      "execution_count": null,
      "outputs": []
    },
    {
      "cell_type": "code",
      "source": [
        "ntsb_1.drop(columns=['hp_or_lbs', 'ntsb_no'])"
      ],
      "metadata": {
        "id": "yJfZUxKBtQvg"
      },
      "id": "yJfZUxKBtQvg",
      "execution_count": null,
      "outputs": []
    },
    {
      "cell_type": "code",
      "source": [
        "#Cleaning names of engine manufacturers.\n",
        "\n",
        "ntsb_1['eng_mfgr'].mask(ntsb_1['eng_mfgr'] == '1/2 volkswagen', 'volkswagen', inplace=True)\n",
        "ntsb_1['secondary_eng_mfgr'] = np.where(ntsb_1['eng_mfgr'] == 'aero engines (vw)', 'volkswagen', '')\n",
        "ntsb_1['eng_mfgr'].mask(ntsb_1['eng_mfgr'] == '4 burner type engines', '', inplace=True)\n",
        "ntsb_1['eng_mfgr'].mask(ntsb_1['eng_mfgr'] == 'ã\\x80/o', '', inplace=True)\n",
        "ntsb_1['eng_mfgr'].mask(ntsb_1['eng_mfgr'] == 'â\\x82¬', '', inplace=True)\n",
        "ntsb_1['eng_mfgr'].mask(ntsb_1['eng_mfgr'] == 'aero engines (vw)', 'aero engines', inplace=True)\n",
        "ntsb_1['eng_mfgr'].mask(ntsb_1['eng_mfgr'] == 'aero sport', 'aero sport power', inplace=True)\n",
        "ntsb_1['secondary_eng_mfgr'] = np.where(ntsb_1['eng_mfgr'] == 'aero sport power (lycoming)', 'lycoming', '')\n",
        "ntsb_1['eng_mfgr'].mask(ntsb_1['eng_mfgr'] == 'aero sport power (lycoming)', 'aero sport power', inplace=True)\n",
        "ntsb_1['eng_mfgr'].mask(ntsb_1['eng_mfgr'] == 'aero sport power ltd', 'aero sport power', inplace=True)\n",
        "ntsb_1['eng_mfgr'].mask(ntsb_1['eng_mfgr'] == 'aero sport power ltd.', 'aero sport power', inplace=True)\n",
        "ntsb_1['eng_mfgr'].mask(ntsb_1['eng_mfgr'] == 'aero-vee', 'aero vee', inplace=True)\n",
        "ntsb_1['eng_mfgr'].mask(ntsb_1['eng_mfgr'] == 'aeromotors s.a.', 'aero motors', inplace=True)\n",
        "ntsb_1['eng_mfgr'].mask(ntsb_1['eng_mfgr'] == 'aerosport', 'aero sport power', inplace=True)\n",
        "ntsb_1['secondary_eng_mfgr'] = np.where(ntsb_1['eng_mfgr'] == 'aerosport / lycoming', 'lycoming', '')\n",
        "ntsb_1['eng_mfgr'].mask(ntsb_1['eng_mfgr'] == 'aerosport / lycoming', 'aero sport power', inplace=True)\n",
        "ntsb_1['eng_mfgr'].mask(ntsb_1['eng_mfgr'] == 'aerosport power', 'aero sport power', inplace=True)\n",
        "ntsb_1['eng_mfgr'].mask(ntsb_1['eng_mfgr'] == 'aerovee', 'aero vee', inplace=True)\n",
        "ntsb_1['eng_mfgr'].mask(ntsb_1['eng_mfgr'] == 'ai', 'airesearch', inplace=True)\n",
        "ntsb_1['eng_mfgr'].mask(ntsb_1['eng_mfgr'] == 'aireasearch', 'airesearch', inplace=True)\n",
        "ntsb_1['secondary_eng_mfgr'] = np.where(ntsb_1['eng_mfgr'] == 'aireaserch/garrett', 'garrett', '')\n",
        "ntsb_1['eng_mfgr'].mask(ntsb_1['eng_mfgr'] == 'aireaserch/garrett', 'airesearch', inplace=True)\n",
        "ntsb_1['eng_mfgr'].mask(ntsb_1['eng_mfgr'] == 'airresearch', 'airesearch', inplace=True)\n",
        "ntsb_1['secondary_eng_mfgr'] = np.where(ntsb_1['eng_mfgr'] == 'airresearch/honeywell', 'honeywell aerospace', '')\n",
        "ntsb_1['eng_mfgr'].mask(ntsb_1['eng_mfgr'] == 'airresearch/honeywell', 'airesearch', inplace=True)\n",
        "ntsb_1['eng_mfgr'].mask(ntsb_1['eng_mfgr'] == 'allied', 'allied signal', inplace=True)\n",
        "ntsb_1['secondary_eng_mfgr'] = np.where(ntsb_1['eng_mfgr'] == 'allied/honeyw', 'honeywell aerospace', '')\n",
        "ntsb_1['eng_mfgr'].mask(ntsb_1['eng_mfgr'] == 'allied/honeyw', 'allied signal', inplace=True)\n",
        "ntsb_1['eng_mfgr'].mask(ntsb_1['eng_mfgr'] == 'alliedsignal', 'allied signal', inplace=True)\n",
        "ntsb_1['secondary_eng_mfgr'] = np.where(ntsb_1['eng_mfgr'] == 'allison (r/r)', 'rolls-royce', '')\n",
        "ntsb_1['eng_mfgr'].mask(ntsb_1['eng_mfgr'] == 'allison (r/r)', 'allison', inplace=True)\n",
        "ntsb_1['secondary_eng_mfgr'] = np.where(ntsb_1['eng_mfgr'] == 'allison / rolls royce', 'rolls-royce', '')\n",
        "ntsb_1['eng_mfgr'].mask(ntsb_1['eng_mfgr'] == 'allison / rolls royce', 'allison', inplace=True)\n",
        "ntsb_1['eng_mfgr'].mask(ntsb_1['eng_mfgr'] == 'allison 250-c20b', 'allison', inplace=True)\n",
        "ntsb_1['eng_mfgr'].mask(ntsb_1['eng_mfgr'] == 'allison c', 'allison', inplace=True)\n",
        "ntsb_1['eng_mfgr'].mask(ntsb_1['eng_mfgr'] == 'allison engine', 'allison', inplace=True)\n",
        "ntsb_1['secondary_eng_mfgr'] = np.where(ntsb_1['eng_mfgr'] == 'allison rolls royce', 'rolls-royce', '')\n",
        "ntsb_1['eng_mfgr'].mask(ntsb_1['eng_mfgr'] == 'allison rolls royce', 'allison', inplace=True)\n",
        "ntsb_1['secondary_eng_mfgr'] = np.where(ntsb_1['eng_mfgr'] == 'allison/rolls royce', 'rolls-royce', '')\n",
        "ntsb_1['eng_mfgr'].mask(ntsb_1['eng_mfgr'] == 'allison/rolls royce', 'allison', inplace=True)\n",
        "ntsb_1['secondary_eng_mfgr'] = np.where(ntsb_1['eng_mfgr'] == 'allison/rolls-royce', 'rolls-royce', '')\n",
        "ntsb_1['eng_mfgr'].mask(ntsb_1['eng_mfgr'] == 'allison/rolls-royce', 'allison', inplace=True)\n",
        "ntsb_1['secondary_eng_mfgr'] = np.where(ntsb_1['eng_mfgr'] == 'allison/rr', 'rolls-royce', '')\n",
        "ntsb_1['eng_mfgr'].mask(ntsb_1['eng_mfgr'] == 'allison/rr', 'allison', inplace=True)\n",
        "ntsb_1['eng_mfgr'].mask(ntsb_1['eng_mfgr'] == 'alllison', 'allison', inplace=True)\n",
        "ntsb_1['secondary_eng_mfgr'] = np.where(ntsb_1['eng_mfgr'] == 'ama (vw)', 'volkswagen', '')\n",
        "ntsb_1['eng_mfgr'].mask(ntsb_1['eng_mfgr'] == 'ama/expr', 'ama', inplace=True)\n",
        "ntsb_1['secondary_eng_mfgr'] = np.where(ntsb_1['eng_mfgr'] == 'ama/expr lycoming)', 'lycoming', '')\n",
        "ntsb_1['eng_mfgr'].mask(ntsb_1['eng_mfgr'] == 'ama/expr lycoming', 'ama', inplace=True)\n",
        "ntsb_1['eng_mfgr'].mask(ntsb_1['eng_mfgr'] == 'arriel', 'safran helicopter engines', inplace=True)\n",
        "ntsb_1['eng_mfgr'].mask(ntsb_1['eng_mfgr'] == 'ariel', 'safran helicopter engines', inplace=True)\n",
        "ntsb_1['eng_mfgr'].mask(ntsb_1['eng_mfgr'] == 'avco', 'lycoming', inplace=True)\n",
        "ntsb_1['eng_mfgr'].mask(ntsb_1['eng_mfgr'] == 'avco lycoming', 'lycoming', inplace=True)\n",
        "ntsb_1['eng_mfgr'].mask(ntsb_1['eng_mfgr'] == 'barrett precision engines', 'barret precision engines', inplace=True)\n",
        "ntsb_1['eng_mfgr'].mask(ntsb_1['eng_mfgr'] == 'barrett performance engine', 'barret precision engines', inplace=True)\n",
        "ntsb_1['secondary_eng_mfgr'] = np.where(ntsb_1['eng_mfgr'] == 'bmw r-r', 'rolls-royce', '')\n",
        "ntsb_1['eng_mfgr'].mask(ntsb_1['eng_mfgr'] == 'bmw r-r', 'bmw', inplace=True)\n",
        "ntsb_1['secondary_eng_mfgr'] = np.where(ntsb_1['eng_mfgr'] == 'bmw rolls-royce', 'rolls-royce', '')\n",
        "ntsb_1['eng_mfgr'].mask(ntsb_1['eng_mfgr'] == 'bmw rolls-royce', 'bmw', inplace=True)\n",
        "ntsb_1['eng_mfgr'].mask(ntsb_1['eng_mfgr'] == 'bombardier', 'brp-rotax', inplace=True)\n",
        "ntsb_1['eng_mfgr'].mask(ntsb_1['eng_mfgr'] == 'bombardier rotax', 'brp-rotax', inplace=True)\n",
        "ntsb_1['eng_mfgr'].mask(ntsb_1['eng_mfgr'] == 'bombardier rotex', 'brp-rotax', inplace=True)\n",
        "ntsb_1['eng_mfgr'].mask(ntsb_1['eng_mfgr'] == 'bombardier-rotax', 'brp-rotax', inplace=True)\n",
        "ntsb_1['eng_mfgr'].mask(ntsb_1['eng_mfgr'] == 'bombardier', 'brp-rotax', inplace=True)\n",
        "ntsb_1['eng_mfgr'].mask(ntsb_1['eng_mfgr'] == 'bombardier/rotax', 'brp-rotax', inplace=True)\n",
        "ntsb_1['eng_mfgr'].mask(ntsb_1['eng_mfgr'] == 'bristsidviper', 'Armstrong Siddeley', inplace=True)\n",
        "ntsb_1['eng_mfgr'].mask(ntsb_1['eng_mfgr'] == 'brp rotax gmbh7 co. kg', 'brp-rotax', inplace=True)\n",
        "ntsb_1['eng_mfgr'].mask(ntsb_1['eng_mfgr'] == 'cfm', 'cfm international', inplace=True)\n",
        "ntsb_1['eng_mfgr'].mask(ntsb_1['eng_mfgr'] == 'cfm intl', 'cfm international', inplace=True)\n",
        "ntsb_1['eng_mfgr'].mask(ntsb_1['eng_mfgr'] == 'cfm intl.', 'cfm international', inplace=True)\n",
        "ntsb_1['eng_mfgr'].mask(ntsb_1['eng_mfgr'] == 'chapallal', 'elroy air chaparral', inplace=True)\n",
        "ntsb_1['eng_mfgr'].mask(ntsb_1['eng_mfgr'] == 'chevrolet corvair', 'chevrolet', inplace=True)\n",
        "ntsb_1['eng_mfgr'].mask(ntsb_1['eng_mfgr'] == 'chevrolot', 'chevrolet', inplace=True)\n",
        "ntsb_1['eng_mfgr'].mask(ntsb_1['eng_mfgr'] == 'chevy', 'chevrolet', inplace=True)\n",
        "ntsb_1['eng_mfgr'].mask(ntsb_1['eng_mfgr'] == 'chevy geo metro', 'chevrolet', inplace=True)\n",
        "ntsb_1['eng_mfgr'].mask(ntsb_1['eng_mfgr'] == 'club crafters inc.', 'club crafters, inc.', inplace=True)\n",
        "ntsb_1['eng_mfgr'].mask(ntsb_1['eng_mfgr'] == 'compact ra', 'compact radial engines, inc.', inplace=True)\n",
        "ntsb_1['eng_mfgr'].mask(ntsb_1['eng_mfgr'] == 'compact radial engines', 'compact radial engines, inc.', inplace=True)\n",
        "ntsb_1['eng_mfgr'].mask(ntsb_1['eng_mfgr'] == 'compact radial engines inc.', 'compact radial engines, inc.', inplace=True)\n",
        "ntsb_1['eng_mfgr'].mask(ntsb_1['eng_mfgr'] == 'continental motor\\'s inc', 'continental motors, inc.', inplace=True)\n",
        "ntsb_1['eng_mfgr'].mask(ntsb_1['eng_mfgr'] == 'conintental', 'continental motors, inc.', inplace=True)\n",
        "ntsb_1['eng_mfgr'].mask(ntsb_1['eng_mfgr'] == 'conitnental', 'continental motors, inc.', inplace=True)\n",
        "ntsb_1['eng_mfgr'].mask(ntsb_1['eng_mfgr'] == 'cont motor', 'continental motors, inc.', inplace=True)\n",
        "ntsb_1['secondary_eng_mfgr'] = np.where(ntsb_1['eng_mfgr'] == 'cont motor p. ponk', 'p.ponk', '')\n",
        "ntsb_1['eng_mfgr'].mask(ntsb_1['eng_mfgr'] == 'cont motor p. ponk', 'continental motors, inc.', inplace=True)\n",
        "ntsb_1['eng_mfgr'].mask(ntsb_1['eng_mfgr'] == 'cont motor/perf eng', 'continental motors, inc.', inplace=True)\n",
        "ntsb_1['eng_mfgr'].mask(ntsb_1['eng_mfgr'] == 'cont-motor', 'continental motors, inc.', inplace=True)\n",
        "ntsb_1['eng_mfgr'].mask(ntsb_1['eng_mfgr'] == 'cont. motor', 'continental motors, inc.', inplace=True)\n",
        "ntsb_1['eng_mfgr'].mask(ntsb_1['eng_mfgr'] == 'contenental', 'continental motors, inc.', inplace=True)\n",
        "ntsb_1['secondary_eng_mfgr'] = np.where(ntsb_1['eng_mfgr'] == 'contenental teledyne', 'teledyne turbine engines', '')\n",
        "ntsb_1['eng_mfgr'].mask(ntsb_1['eng_mfgr'] == 'contenental teledyne', 'continental motors, inc.', inplace=True)\n",
        "ntsb_1['eng_mfgr'].mask(ntsb_1['eng_mfgr'] == 'contenintal', 'continental motors, inc.', inplace=True)\n",
        "ntsb_1['eng_mfgr'].mask(ntsb_1['eng_mfgr'] == 'contental', 'continental motors, inc.', inplace=True)\n",
        "ntsb_1['eng_mfgr'].mask(ntsb_1['eng_mfgr'] == 'contenental', 'continental motors, inc.', inplace=True)\n",
        "ntsb_1['eng_mfgr'].mask(ntsb_1['eng_mfgr'] == 'contenental', 'continental motors, inc.', inplace=True)\n",
        "ntsb_1['eng_mfgr'].mask(ntsb_1['eng_mfgr'] == 'contenental', 'continental motors, inc.', inplace=True)\n",
        "ntsb_1['eng_mfgr'].mask(ntsb_1['eng_mfgr'] == 'contenental', 'continental motors, inc.', inplace=True)\n",
        "ntsb_1['eng_mfgr'].mask(ntsb_1['eng_mfgr'] == 'contenental', 'continental motors, inc.', inplace=True)\n",
        "ntsb_1['eng_mfgr'].mask(ntsb_1['eng_mfgr'] == 'contenental', 'continental motors, inc.', inplace=True)\n",
        "ntsb_1['eng_mfgr'].mask(ntsb_1['eng_mfgr'] == 'contenental', 'continental motors, inc.', inplace=True)\n",
        "ntsb_1['eng_mfgr'].mask(ntsb_1['eng_mfgr'] == 'contenental', 'continental motors, inc.', inplace=True)\n",
        "ntsb_1['eng_mfgr'].mask(ntsb_1['eng_mfgr'] == 'contenental', 'continental motors, inc.', inplace=True)\n",
        "ntsb_1['eng_mfgr'].mask(ntsb_1['eng_mfgr'] == 'contenental', 'continental motors, inc.', inplace=True)\n",
        "ntsb_1['eng_mfgr'].mask(ntsb_1['eng_mfgr'] == 'contenental', 'continental motors, inc.', inplace=True)\n",
        "ntsb_1['eng_mfgr'].mask(ntsb_1['eng_mfgr'] == 'contenental', 'continental motors, inc.', inplace=True)\n",
        "ntsb_1['eng_mfgr'].mask(ntsb_1['eng_mfgr'] == 'contenental', 'continental motors, inc.', inplace=True)\n",
        "ntsb_1['eng_mfgr'].mask(ntsb_1['eng_mfgr'] == 'contenental', 'continental motors, inc.', inplace=True)\n",
        "ntsb_1['eng_mfgr'].mask(ntsb_1['eng_mfgr'] == 'contenental', 'continental motors, inc.', inplace=True)\n",
        "ntsb_1['eng_mfgr'].mask(ntsb_1['eng_mfgr'] == 'contenental', 'continental motors, inc.', inplace=True)\n",
        "ntsb_1['eng_mfgr'].mask(ntsb_1['eng_mfgr'] == 'contenental', 'continental motors, inc.', inplace=True)\n",
        "ntsb_1['eng_mfgr'].mask(ntsb_1['eng_mfgr'] == 'contenental', 'continental motors, inc.', inplace=True)\n",
        "ntsb_1['eng_mfgr'].mask(ntsb_1['eng_mfgr'] == 'contenental', 'continental motors, inc.', inplace=True)\n",
        "ntsb_1['secondary_eng_mfgr'] = np.where(ntsb_1['eng_mfgr'] == 'continental teledyne motors', 'teledyne turbine engines', '')\n",
        "ntsb_1['eng_mfgr'].mask(ntsb_1['eng_mfgr'] == 'continental teledyne motors', 'continental motors, inc.', inplace=True)\n",
        "ntsb_1['secondary_eng_mfgr'] = np.where(ntsb_1['eng_mfgr'] == 'continental/p. ponk', 'p.ponk', '')\n",
        "ntsb_1['eng_mfgr'].mask(ntsb_1['eng_mfgr'] == 'continental/p. ponk', 'continental motors, inc.', inplace=True)\n",
        "ntsb_1['eng_mfgr'].mask(ntsb_1['eng_mfgr'] == 'continential', 'continental motors, inc.', inplace=True)\n",
        "ntsb_1['eng_mfgr'].mask(ntsb_1['eng_mfgr'] == 'continential motors', 'continental motors, inc.', inplace=True)\n",
        "ntsb_1['eng_mfgr'].mask(ntsb_1['eng_mfgr'] == 'continetal motors', 'continental motors, inc.', inplace=True)\n",
        "ntsb_1['eng_mfgr'].mask(ntsb_1['eng_mfgr'] == 'continetnal', 'continental motors, inc.', inplace=True)\n",
        "ntsb_1['eng_mfgr'].mask(ntsb_1['eng_mfgr'] == 'contintental', 'continental motors, inc.', inplace=True)\n",
        "ntsb_1['eng_mfgr'].mask(ntsb_1['eng_mfgr'] == 'contl', 'continental motors, inc.', inplace=True)\n",
        "ntsb_1['eng_mfgr'].mask(ntsb_1['eng_mfgr'] == 'contnental', 'continental motors, inc.', inplace=True)\n",
        "ntsb_1['eng_mfgr'].mask(ntsb_1['eng_mfgr'] == 'corvair', 'chevrolet', inplace=True)\n",
        "ntsb_1['eng_mfgr'].mask(ntsb_1['eng_mfgr'] == 'covington', 'covington aircraft engines', inplace=True)\n",
        "ntsb_1['eng_mfgr'].mask(ntsb_1['eng_mfgr'] == 'cub crafter', 'club crafters, inc.', inplace=True)\n",
        "ntsb_1['eng_mfgr'].mask(ntsb_1['eng_mfgr'] == 'cub crafters', 'club crafters, inc.', inplace=True)\n",
        "ntsb_1['eng_mfgr'].mask(ntsb_1['eng_mfgr'] == 'cubcrafters', 'club crafters, inc.', inplace=True)\n",
        "ntsb_1['eng_mfgr'].mask(ntsb_1['eng_mfgr'] == 'curtis - wright', 'curtiss-wright', inplace=True)\n",
        "ntsb_1['eng_mfgr'].mask(ntsb_1['eng_mfgr'] == 'curtis wright', 'curtiss-wright', inplace=True)\n",
        "ntsb_1['eng_mfgr'].mask(ntsb_1['eng_mfgr'] == 'curtis-wright', 'curtiss-wright', inplace=True)\n",
        "ntsb_1['eng_mfgr'].mask(ntsb_1['eng_mfgr'] == 'curtiss', 'curtiss-wright', inplace=True)\n",
        "ntsb_1['eng_mfgr'].mask(ntsb_1['eng_mfgr'] == 'curtiss wright', 'curtiss-wright', inplace=True)\n",
        "ntsb_1['eng_mfgr'].mask(ntsb_1['eng_mfgr'] == 'curtiswright', 'curtiss-wright', inplace=True)\n",
        "ntsb_1['eng_mfgr'].mask(ntsb_1['eng_mfgr'] == 'custom', np.nan, inplace=True)\n",
        "ntsb_1['eng_mfgr'].mask(ntsb_1['eng_mfgr'] == 'cuyana', 'cuyuna', inplace=True)\n",
        "ntsb_1['eng_mfgr'].mask(ntsb_1['eng_mfgr'] == 'dehav eng', 'de havilland', inplace=True)\n",
        "ntsb_1['eng_mfgr'].mask(ntsb_1['eng_mfgr'] == 'dehavilland', 'de havilland', inplace=True)\n",
        "ntsb_1['eng_mfgr'].mask(ntsb_1['eng_mfgr'] == 'detr. diesel', 'detroit diesel', inplace=True)\n",
        "ntsb_1['eng_mfgr'].mask(ntsb_1['eng_mfgr'] == 'diamond', 'diamond aircraft', inplace=True)\n",
        "ntsb_1['eng_mfgr'].mask(ntsb_1['eng_mfgr'] == 'diemech', 'diemech turbines', inplace=True)\n",
        "ntsb_1['secondary_eng_mfgr'] = np.where(ntsb_1['eng_mfgr'] == 'diemech (walter)', 'walter aircraft engines', '')\n",
        "ntsb_1['eng_mfgr'].mask(ntsb_1['eng_mfgr'] == 'diemech (walter)', 'diemech turbines', inplace=True)\n",
        "ntsb_1['eng_mfgr'].mask(ntsb_1['eng_mfgr'] == 'diemech turbine', 'diemech turbines', inplace=True)\n",
        "ntsb_1['eng_mfgr'].mask(ntsb_1['eng_mfgr'] == 'diemech turbines inc', 'diemech turbines', inplace=True)\n",
        "ntsb_1['eng_mfgr'].mask(ntsb_1['eng_mfgr'] == 'eci', 'engine components, inc.', inplace=True)\n",
        "ntsb_1['eng_mfgr'].mask(ntsb_1['eng_mfgr'] == 'eci titan', 'engine components, inc.', inplace=True)\n",
        "ntsb_1['eng_mfgr'].mask(ntsb_1['eng_mfgr'] == 'eci/titan', 'engine components, inc.', inplace=True)\n",
        "ntsb_1['eng_mfgr'].mask(ntsb_1['eng_mfgr'] == 'eggenfellner', 'eggenfellner aircraft, inc.', inplace=True)\n",
        "ntsb_1['secondary_eng_mfgr'] = np.where(ntsb_1['eng_mfgr'] == 'eggenfellner subaru', 'subaru', '')\n",
        "ntsb_1['eng_mfgr'].mask(ntsb_1['eng_mfgr'] == 'eggenfellner subaru', 'eggenfellner aircraft, inc.', inplace=True)\n",
        "ntsb_1['eng_mfgr'].mask(ntsb_1['eng_mfgr'] == 'elizalde, s.a.', 'elizalde', inplace=True)\n",
        "ntsb_1['eng_mfgr'].mask(ntsb_1['eng_mfgr'] == 'engine components internationa', 'engine components international', inplace=True)\n",
        "ntsb_1['eng_mfgr'].mask(ntsb_1['eng_mfgr'] == 'engineair', 'engineair power systems', inplace=True)\n",
        "ntsb_1['eng_mfgr'].mask(ntsb_1['eng_mfgr'] == 'exp', 'experimental', inplace=True)\n",
        "ntsb_1['eng_mfgr'].mask(ntsb_1['eng_mfgr'] == 'experimental tcm', 'experimental', inplace=True)\n",
        "ntsb_1['eng_mfgr'].mask(ntsb_1['eng_mfgr'] == 'falconer', 'ryan falconer racing engines', inplace=True)\n",
        "ntsb_1['eng_mfgr'].mask(ntsb_1['eng_mfgr'] == 'falconer eng.', 'ryan falconer racing engines', inplace=True)\n",
        "ntsb_1['eng_mfgr'].mask(ntsb_1['eng_mfgr'] == 'frankin', 'franklin aircraft engines', inplace=True)\n",
        "ntsb_1['eng_mfgr'].mask(ntsb_1['eng_mfgr'] == 'franklin', 'franklin aircraft engines', inplace=True)\n",
        "ntsb_1['eng_mfgr'].mask(ntsb_1['eng_mfgr'] == 'franklyn', 'franklin aircraft engines', inplace=True)\n",
        "ntsb_1['eng_mfgr'].mask(ntsb_1['eng_mfgr'] == 'frnklin', 'franklin aircraft engines', inplace=True)\n",
        "ntsb_1['eng_mfgr'].mask(ntsb_1['eng_mfgr'] == 'g e', 'general electric', inplace=True)\n",
        "ntsb_1['eng_mfgr'].mask(ntsb_1['eng_mfgr'] == 'garett', 'garret', inplace=True)\n",
        "ntsb_1['secondary_eng_mfgr'] = np.where(ntsb_1['eng_mfgr'] == 'garret airesearch', 'airesearch', '')\n",
        "ntsb_1['eng_mfgr'].mask(ntsb_1['eng_mfgr'] == 'garret airesearch', 'garret', inplace=True)\n",
        "ntsb_1['secondary_eng_mfgr'] = np.where(ntsb_1['eng_mfgr'] == 'garret/honeywell', 'honeywell aerospace', '')\n",
        "ntsb_1['eng_mfgr'].mask(ntsb_1['eng_mfgr'] == 'garret/honeywell', 'garret', inplace=True)\n",
        "ntsb_1['eng_mfgr'].mask(ntsb_1['eng_mfgr'] == 'garrett', 'garret', inplace=True)\n",
        "ntsb_1['secondary_eng_mfgr'] = np.where(ntsb_1['eng_mfgr'] == 'garrett airesearch', 'airesearch', '')\n",
        "ntsb_1['eng_mfgr'].mask(ntsb_1['eng_mfgr'] == 'garrett airesearch', 'garret', inplace=True)\n",
        "ntsb_1['secondary_eng_mfgr'] = np.where(ntsb_1['eng_mfgr'] == 'garrett research', 'airesearch', '')\n",
        "ntsb_1['eng_mfgr'].mask(ntsb_1['eng_mfgr'] == 'garrett research', 'garret', inplace=True)\n",
        "ntsb_1['secondary_eng_mfgr'] = np.where(ntsb_1['eng_mfgr'] == 'garrett-airesearch', 'airesearch', '')\n",
        "ntsb_1['eng_mfgr'].mask(ntsb_1['eng_mfgr'] == 'garrett-airesearch', 'garret', inplace=True)\n",
        "ntsb_1['secondary_eng_mfgr'] = np.where(ntsb_1['eng_mfgr'] == 'garrett/airesearch', 'airesearch', '')\n",
        "ntsb_1['eng_mfgr'].mask(ntsb_1['eng_mfgr'] == 'garrett/airesearch', 'garret', inplace=True)\n",
        "ntsb_1['secondary_eng_mfgr'] = np.where(ntsb_1['eng_mfgr'] == 'garrett/honeywell', 'honeywell aerospace', '')\n",
        "ntsb_1['eng_mfgr'].mask(ntsb_1['eng_mfgr'] == 'garrett/honeywell', 'garret', inplace=True)\n",
        "ntsb_1['eng_mfgr'].mask(ntsb_1['eng_mfgr'] == 'ge', 'general electric', inplace=True)\n",
        "ntsb_1['eng_mfgr'].mask(ntsb_1['eng_mfgr'] == 'ge aviation czech', 'general electric', inplace=True)\n",
        "ntsb_1['eng_mfgr'].mask(ntsb_1['eng_mfgr'] == 'gen.electric', 'general electric', inplace=True)\n",
        "ntsb_1['eng_mfgr'].mask(ntsb_1['eng_mfgr'] == 'general elect', 'general electric', inplace=True)\n",
        "ntsb_1['eng_mfgr'].mask(ntsb_1['eng_mfgr'] == 'general electrics', 'general electric', inplace=True)\n",
        "ntsb_1['eng_mfgr'].mask(ntsb_1['eng_mfgr'] == 'geo/metro', 'geo metro', inplace=True)\n",
        "ntsb_1['eng_mfgr'].mask(ntsb_1['eng_mfgr'] == 'gipsy major', 'de havilland', inplace=True)\n",
        "ntsb_1['eng_mfgr'].mask(ntsb_1['eng_mfgr'] == 'gm', 'general motors', inplace=True)\n",
        "ntsb_1['eng_mfgr'].mask(ntsb_1['eng_mfgr'] == 'gm corvair', 'general motors', inplace=True)\n",
        "ntsb_1['eng_mfgr'].mask(ntsb_1['eng_mfgr'] == 'great plains', 'great plains aircraft supply company', inplace=True)\n",
        "ntsb_1['secondary_eng_mfgr'] = np.where(ntsb_1['eng_mfgr'] == 'great plains/volkswagen', 'volkswagen', '')\n",
        "ntsb_1['eng_mfgr'].mask(ntsb_1['eng_mfgr'] == 'great plains/volkswagen', 'great plains aircraft supply company', inplace=True)\n",
        "ntsb_1['eng_mfgr'].mask(ntsb_1['eng_mfgr'] == 'great plans aircraft', 'great plains aircraft supply company', inplace=True)\n",
        "ntsb_1['eng_mfgr'].mask(ntsb_1['eng_mfgr'] == 'greatplains', 'great plains aircraft supply company', inplace=True)\n",
        "ntsb_1['eng_mfgr'].mask(ntsb_1['eng_mfgr'] == 'grob', 'grob aircraft', inplace=True)\n",
        "ntsb_1['eng_mfgr'].mask(ntsb_1['eng_mfgr'] == 'gypsey major', 'de havilland', inplace=True)\n",
        "ntsb_1['eng_mfgr'].mask(ntsb_1['eng_mfgr'] == 'gypsy major', 'de havilland', inplace=True)\n",
        "ntsb_1['eng_mfgr'].mask(ntsb_1['eng_mfgr'] == 'gipsy major', 'de havilland', inplace=True)\n",
        "ntsb_1['eng_mfgr'].mask(ntsb_1['eng_mfgr'] == 'gypsy minor', 'de havilland', inplace=True)\n",
        "ntsb_1['eng_mfgr'].mask(ntsb_1['eng_mfgr'] == 'gypsy moth', 'de havilland', inplace=True)\n",
        "ntsb_1['eng_mfgr'].mask(ntsb_1['eng_mfgr'] == 'hacker a200', 'hacker', inplace=True)\n",
        "ntsb_1['secondary_eng_mfgr'] = np.where(ntsb_1['eng_mfgr'] == 'hapi vw', 'volkswagen', '')\n",
        "ntsb_1['eng_mfgr'].mask(ntsb_1['eng_mfgr'] == 'hapi vw', 'hapi', inplace=True)\n",
        "ntsb_1['eng_mfgr'].mask(ntsb_1['eng_mfgr'] == 'heath avn', 'heath airplane company', inplace=True)\n",
        "ntsb_1['eng_mfgr'].mask(ntsb_1['eng_mfgr'] == 'hirsh', 'hirth engines', inplace=True)\n",
        "ntsb_1['eng_mfgr'].mask(ntsb_1['eng_mfgr'] == 'hirth', 'hirth engines', inplace=True)\n",
        "ntsb_1['eng_mfgr'].mask(ntsb_1['eng_mfgr'] == 'hirthmotoren', 'hirth engines', inplace=True)\n",
        "ntsb_1['eng_mfgr'].mask(ntsb_1['eng_mfgr'] == 'hirtmotoren', 'hirth engines', inplace=True)\n",
        "ntsb_1['eng_mfgr'].mask(ntsb_1['eng_mfgr'] == 'hks', 'hks aviation engines', inplace=True)\n",
        "ntsb_1['eng_mfgr'].mask(ntsb_1['eng_mfgr'] == 'hks aviation', 'hks aviation engines', inplace=True)\n",
        "ntsb_1['eng_mfgr'].mask(ntsb_1['eng_mfgr'] == 'honeywell', 'honeywell aerospace', inplace=True)\n",
        "ntsb_1['secondary_eng_mfgr'] = np.where(ntsb_1['eng_mfgr'] == 'honeywell - garrett', 'garret', '')\n",
        "ntsb_1['eng_mfgr'].mask(ntsb_1['eng_mfgr'] == 'honeywell - garrett', 'honeywell aerospace', inplace=True)\n",
        "ntsb_1['secondary_eng_mfgr'] = np.where(ntsb_1['eng_mfgr'] == 'honeywell / airesearch', 'airesearch', '')\n",
        "ntsb_1['eng_mfgr'].mask(ntsb_1['eng_mfgr'] == 'honeywell / airesearch', 'honeywell aerospace', inplace=True)\n",
        "ntsb_1['secondary_eng_mfgr'] = np.where(ntsb_1['eng_mfgr'] == 'honeywell garrett', 'garret', '')\n",
        "ntsb_1['eng_mfgr'].mask(ntsb_1['eng_mfgr'] == 'honeywell garrett', 'honeywell aerospace', inplace=True)\n",
        "ntsb_1['secondary_eng_mfgr'] = np.where(ntsb_1['eng_mfgr'] == 'honeywell/garrett', 'garret', '')\n",
        "ntsb_1['eng_mfgr'].mask(ntsb_1['eng_mfgr'] == 'honeywell/garrett', 'honeywell aerospace', inplace=True)\n",
        "ntsb_1['secondary_eng_mfgr'] = np.where(ntsb_1['eng_mfgr'] == 'honeywell/lyc', 'lycoming', '')\n",
        "ntsb_1['eng_mfgr'].mask(ntsb_1['eng_mfgr'] == 'honeywell/lyc', 'honeywell aerospace', inplace=True)\n",
        "ntsb_1['eng_mfgr'].mask(ntsb_1['eng_mfgr'] == 'housia', 'housai', inplace=True)\n",
        "ntsb_1['eng_mfgr'].mask(ntsb_1['eng_mfgr'] == 'hummel', 'hummel engines', inplace=True)\n",
        "ntsb_1['eng_mfgr'].mask(ntsb_1['eng_mfgr'] == 'huosai', 'housai', inplace=True)\n",
        "ntsb_1['eng_mfgr'].mask(ntsb_1['eng_mfgr'] == 'inntec', 'innovator technologies', inplace=True)\n",
        "ntsb_1['eng_mfgr'].mask(ntsb_1['eng_mfgr'] == 'int harvester', 'solar aircraft', inplace=True)\n",
        "ntsb_1['eng_mfgr'].mask(ntsb_1['eng_mfgr'] == 'ivchenco', 'ivchenko okb', inplace=True)\n",
        "ntsb_1['eng_mfgr'].mask(ntsb_1['eng_mfgr'] == 'ivchenko', 'ivchenko okb', inplace=True)\n",
        "ntsb_1['eng_mfgr'].mask(ntsb_1['eng_mfgr'] == 'jabaru', 'jabiru aircraft', inplace=True)\n",
        "ntsb_1['eng_mfgr'].mask(ntsb_1['eng_mfgr'] == 'jabiru', 'jabiru aircraft', inplace=True)\n",
        "ntsb_1['eng_mfgr'].mask(ntsb_1['eng_mfgr'] == 'jpx', 'jpx aircraft engines', inplace=True)\n",
        "ntsb_1['eng_mfgr'].mask(ntsb_1['eng_mfgr'] == 'jpx aircraft engines', 'jpx aircraft engines', inplace=True)\n",
        "ntsb_1['eng_mfgr'].mask(ntsb_1['eng_mfgr'] == 'jpx-pul', 'jpx aircraft engines', inplace=True)\n",
        "ntsb_1['eng_mfgr'].mask(ntsb_1['eng_mfgr'] == 'kfm', 'italian american motor engineering', inplace=True)\n",
        "ntsb_1['eng_mfgr'].mask(ntsb_1['eng_mfgr'] == 'kinner', 'kinner airplane & motor corporation', inplace=True)\n",
        "ntsb_1['eng_mfgr'].mask(ntsb_1['eng_mfgr'] == 'kinner co', 'kinner airplane & motor corporation', inplace=True)\n",
        "ntsb_1['eng_mfgr'].mask(ntsb_1['eng_mfgr'] == 'le rhone', 'société des moteurs le rhôn', inplace=True)\n",
        "ntsb_1['eng_mfgr'].mask(ntsb_1['eng_mfgr'] == 'lerhone', 'société des moteurs le rhôn', inplace=True)\n",
        "ntsb_1['eng_mfgr'].mask(ntsb_1['eng_mfgr'] == 'limbach', 'limbach', inplace=True)\n",
        "ntsb_1['eng_mfgr'].mask(ntsb_1['eng_mfgr'] == 'limbeck', 'limbach', inplace=True)\n",
        "ntsb_1['eng_mfgr'].mask(ntsb_1['eng_mfgr'] == 'lom', 'lom praha', inplace=True)\n",
        "ntsb_1['eng_mfgr'].mask(ntsb_1['eng_mfgr'] == 'ly-con', 'lycoming', inplace=True)\n",
        "ntsb_1['eng_mfgr'].mask(ntsb_1['eng_mfgr'] == 'lyc', 'lycoming', inplace=True)\n",
        "ntsb_1['secondary_eng_mfgr'] = np.where(ntsb_1['eng_mfgr'] == 'lyco/wright', 'curtiss-wright', '')\n",
        "ntsb_1['eng_mfgr'].mask(ntsb_1['eng_mfgr'] == 'lyco/wright', 'lycoming', inplace=True)\n",
        "ntsb_1['eng_mfgr'].mask(ntsb_1['eng_mfgr'] == 'lycoiming', 'lycoming', inplace=True)\n",
        "ntsb_1['eng_mfgr'].mask(ntsb_1['eng_mfgr'] == 'lycom', 'lycoming', inplace=True)\n",
        "ntsb_1['eng_mfgr'].mask(ntsb_1['eng_mfgr'] == 'lycomimg', 'lycoming', inplace=True)\n",
        "ntsb_1['eng_mfgr'].mask(ntsb_1['eng_mfgr'] == 'lycomin', 'lycoming', inplace=True)\n",
        "ntsb_1['secondary_eng_mfgr'] = np.where(ntsb_1['eng_mfgr'] == 'lycoming (curtis-wright)', 'curtiss-wright', '')\n",
        "ntsb_1['eng_mfgr'].mask(ntsb_1['eng_mfgr'] == 'lycoming (curtis-wright)', 'lycoming', inplace=True)\n",
        "ntsb_1['eng_mfgr'].mask(ntsb_1['eng_mfgr'] == 'lycoming (modified)', 'lycoming', inplace=True)\n",
        "ntsb_1['eng_mfgr'].mask(ntsb_1['eng_mfgr'] == 'lycoming engines', 'lycoming', inplace=True)\n",
        "ntsb_1['eng_mfgr'].mask(ntsb_1['eng_mfgr'] == 'lycoming o-360-a1a', 'lycoming', inplace=True)\n",
        "ntsb_1['secondary_eng_mfgr'] = np.where(ntsb_1['eng_mfgr'] == 'lycoming-bmw', 'bmw', '')\n",
        "ntsb_1['eng_mfgr'].mask(ntsb_1['eng_mfgr'] == 'lycoming-bmw', 'lycoming', inplace=True)\n",
        "ntsb_1['secondary_eng_mfgr'] = np.where(ntsb_1['eng_mfgr'] == 'lycoming/honeywell', 'honeywell aerospace', '')\n",
        "ntsb_1['eng_mfgr'].mask(ntsb_1['eng_mfgr'] == 'lycoming/honeywell', 'lycoming', inplace=True)\n",
        "ntsb_1['eng_mfgr'].mask(ntsb_1['eng_mfgr'] == 'lycomming', 'lycoming', inplace=True)\n",
        "ntsb_1['eng_mfgr'].mask(ntsb_1['eng_mfgr'] == 'lycomong', 'lycoming', inplace=True)\n",
        "ntsb_1['eng_mfgr'].mask(ntsb_1['eng_mfgr'] == 'lycon', 'lycoming', inplace=True)\n",
        "ntsb_1['eng_mfgr'].mask(ntsb_1['eng_mfgr'] == 'mattittuck', 'teledyne turbine engines', inplace=True)\n",
        "ntsb_1['eng_mfgr'].mask(ntsb_1['eng_mfgr'] == 'mattituck', 'teledyne turbine engines', inplace=True)\n",
        "ntsb_1['secondary_eng_mfgr'] = np.where(ntsb_1['eng_mfgr'] == 'mazda/atkins', 'atkins', '')\n",
        "ntsb_1['eng_mfgr'].mask(ntsb_1['eng_mfgr'] == 'mazda/atkins', 'mazda', inplace=True)\n",
        "ntsb_1['eng_mfgr'].mask(ntsb_1['eng_mfgr'] == 'mcculloch', 'mcculloch aircraft corporation', inplace=True)\n",
        "ntsb_1['eng_mfgr'].mask(ntsb_1['eng_mfgr'] == 'mccullock', 'mcculloch aircraft corporation', inplace=True)\n",
        "ntsb_1['eng_mfgr'].mask(ntsb_1['eng_mfgr'] == 'mccullough', 'mcculloch aircraft corporation', inplace=True)\n",
        "ntsb_1['eng_mfgr'].mask(ntsb_1['eng_mfgr'] == 'mid-west', 'jet midwest, inc.', inplace=True)\n",
        "ntsb_1['eng_mfgr'].mask(ntsb_1['eng_mfgr'] == 'mid-west engines', 'jet midwest, inc.', inplace=True)\n",
        "ntsb_1['eng_mfgr'].mask(ntsb_1['eng_mfgr'] == 'morris motors', 'morris engines limited', inplace=True)\n",
        "ntsb_1['eng_mfgr'].mask(ntsb_1['eng_mfgr'] == 'motori zanzoterra', 'zanzottera technologies', inplace=True)\n",
        "ntsb_1['eng_mfgr'].mask(ntsb_1['eng_mfgr'] == 'mz', 'zanzottera technologies', inplace=True)\n",
        "ntsb_1['eng_mfgr'].mask(ntsb_1['eng_mfgr'] == 'national flight service', 'national flight services, inc.', inplace=True)\n",
        "ntsb_1['eng_mfgr'].mask(ntsb_1['eng_mfgr'] == 'national flight service', 'national flight services, inc.', inplace=True)\n",
        "ntsb_1['eng_mfgr'].mask(ntsb_1['eng_mfgr'] == 'national flight services inc', 'national flight services, inc.', inplace=True)\n",
        "ntsb_1['eng_mfgr'].mask(ntsb_1['eng_mfgr'] == 'none', np.nan, inplace=True)\n",
        "ntsb_1['eng_mfgr'].mask(ntsb_1['eng_mfgr'] == 'northrop corp', 'northrop corporation ', inplace=True)\n",
        "ntsb_1['eng_mfgr'].mask(ntsb_1['eng_mfgr'] == 'nsi', 'nsi propulsion systems, inc.', inplace=True)\n",
        "ntsb_1['eng_mfgr'].mask(ntsb_1['eng_mfgr'] == 'nsi aero', 'nsi propulsion systems, inc.', inplace=True)\n",
        "ntsb_1['eng_mfgr'].mask(ntsb_1['eng_mfgr'] == 'o-360-a4k', 'lycoming', inplace=True)\n",
        "ntsb_1['eng_mfgr'].mask(ntsb_1['eng_mfgr'] == 'o-470l', 'teledyne continental motors', inplace=True)\n",
        "ntsb_1['eng_mfgr'].mask(ntsb_1['eng_mfgr'] == 'p & w', 'pratt & whitney', inplace=True)\n",
        "ntsb_1['eng_mfgr'].mask(ntsb_1['eng_mfgr'] == 'p & w', 'pratt & whitney', inplace=True)\n",
        "ntsb_1['eng_mfgr'].mask(ntsb_1['eng_mfgr'] == 'p & w canada', 'pratt & whitney canada', inplace=True)\n",
        "ntsb_1['eng_mfgr'].mask(ntsb_1['eng_mfgr'] == 'p. ponk', 'p.ponk', inplace=True)\n",
        "ntsb_1['eng_mfgr'].mask(ntsb_1['eng_mfgr'] == 'p/w canada', 'pratt & whitney canada', inplace=True)\n",
        "ntsb_1['eng_mfgr'].mask(ntsb_1['eng_mfgr'] == 'p&w', 'pratt & whitney', inplace=True)\n",
        "ntsb_1['eng_mfgr'].mask(ntsb_1['eng_mfgr'] == 'p&w canada', 'pratt & whitney canada', inplace=True)\n",
        "ntsb_1['eng_mfgr'].mask(ntsb_1['eng_mfgr'] == 'p&wc', 'pratt & whitney canada', inplace=True)\n",
        "ntsb_1['eng_mfgr'].mask(ntsb_1['eng_mfgr'] == 'packard', 'packard motors', inplace=True)\n",
        "ntsb_1['secondary_eng_mfgr'] = np.where(ntsb_1['eng_mfgr'] == 'packard r.r.', 'rolls-royce', '')\n",
        "ntsb_1['eng_mfgr'].mask(ntsb_1['eng_mfgr'] == 'packard r.r.', 'packard motors', inplace=True)\n",
        "ntsb_1['secondary_eng_mfgr'] = np.where(ntsb_1['eng_mfgr'] == 'packard rolls royce', 'rolls-royce', '')\n",
        "ntsb_1['eng_mfgr'].mask(ntsb_1['eng_mfgr'] == 'packard rolls royce', 'packard motors', inplace=True)\n",
        "ntsb_1['eng_mfgr'].mask(ntsb_1['eng_mfgr'] == 'patt &whitney canada', 'pratt & whitney canada', inplace=True)\n",
        "ntsb_1['eng_mfgr'].mask(ntsb_1['eng_mfgr'] == 'pbs', 'pbs aerospace', inplace=True)\n",
        "ntsb_1['eng_mfgr'].mask(ntsb_1['eng_mfgr'] == 'penn yann aero', 'penn yan aero', inplace=True)\n",
        "ntsb_1['eng_mfgr'].mask(ntsb_1['eng_mfgr'] == 'penn-yan', 'penn yan aero', inplace=True)\n",
        "ntsb_1['eng_mfgr'].mask(ntsb_1['eng_mfgr'] == 'pezatel', 'pezetel', inplace=True)\n",
        "ntsb_1['secondary_eng_mfgr'] = np.where(ntsb_1['eng_mfgr'] == 'pkrd-roll', 'rolls-royce', '')\n",
        "ntsb_1['eng_mfgr'].mask(ntsb_1['eng_mfgr'] == 'pkrd-roll', 'packard motors', inplace=True)\n",
        "ntsb_1['secondary_eng_mfgr'] = np.where(ntsb_1['eng_mfgr'] == 'pkrd-roll royce', 'rolls-royce', '')\n",
        "ntsb_1['eng_mfgr'].mask(ntsb_1['eng_mfgr'] == 'pkrd-roll royce', 'pkrd-roll royce', inplace=True)\n",
        "ntsb_1['eng_mfgr'].mask(ntsb_1['eng_mfgr'] == 'polaris', 'walter aircraft engines', inplace=True)\n",
        "ntsb_1['eng_mfgr'].mask(ntsb_1['eng_mfgr'] == 'prat and whitney aircraft', 'pratt & whitney', inplace=True)\n",
        "ntsb_1['eng_mfgr'].mask(ntsb_1['eng_mfgr'] == 'pratt & whitney - canada', 'pratt & whitney canada', inplace=True)\n",
        "ntsb_1['eng_mfgr'].mask(ntsb_1['eng_mfgr'] == 'pratt & whitney aircraft of ca', 'pratt & whitney canada', inplace=True)\n",
        "ntsb_1['eng_mfgr'].mask(ntsb_1['eng_mfgr'] == 'pratt & whitney of canada', 'pratt & whitney canada', inplace=True)\n",
        "ntsb_1['eng_mfgr'].mask(ntsb_1['eng_mfgr'] == 'pratt & whitney-canada', 'pratt & whitney canada', inplace=True)\n",
        "ntsb_1['eng_mfgr'].mask(ntsb_1['eng_mfgr'] == 'prat and whitney aircraft', 'pratt & whitney', inplace=True)\n",
        "ntsb_1['eng_mfgr'].mask(ntsb_1['eng_mfgr'] == 'pratt & witney', 'pratt & whitney', inplace=True)\n",
        "ntsb_1['eng_mfgr'].mask(ntsb_1['eng_mfgr'] == 'pratt &whitney canada', 'pratt & whitney canada', inplace=True)\n",
        "ntsb_1['eng_mfgr'].mask(ntsb_1['eng_mfgr'] == 'pratt and whitnety canada', 'pratt & whitney canada', inplace=True)\n",
        "ntsb_1['eng_mfgr'].mask(ntsb_1['eng_mfgr'] == 'pratt and whitney', 'pratt & whitney', inplace=True)\n",
        "ntsb_1['eng_mfgr'].mask(ntsb_1['eng_mfgr'] == 'pratt and whitney - canada', 'pratt & whitney canada', inplace=True)\n",
        "ntsb_1['eng_mfgr'].mask(ntsb_1['eng_mfgr'] == 'pratt and whitney canada', 'pratt & whitney canada', inplace=True)\n",
        "ntsb_1['eng_mfgr'].mask(ntsb_1['eng_mfgr'] == 'pratt and whitney of canada', 'pratt & whitney canada', inplace=True)\n",
        "ntsb_1['eng_mfgr'].mask(ntsb_1['eng_mfgr'] == 'pratt whitney', 'pratt & whitney', inplace=True)\n",
        "ntsb_1['eng_mfgr'].mask(ntsb_1['eng_mfgr'] == 'pratt whitney canada', 'pratt & whitney canada', inplace=True)\n",
        "ntsb_1['eng_mfgr'].mask(ntsb_1['eng_mfgr'] == 'pratt-whitney', 'pratt & whitney', inplace=True)\n",
        "ntsb_1['eng_mfgr'].mask(ntsb_1['eng_mfgr'] == 'pratt/whitney', 'pratt & whitney', inplace=True)\n",
        "ntsb_1['eng_mfgr'].mask(ntsb_1['eng_mfgr'] == 'pratt& whitney', 'pratt & whitney', inplace=True)\n",
        "ntsb_1['eng_mfgr'].mask(ntsb_1['eng_mfgr'] == 'pratt&whitney', 'pratt & whitney', inplace=True)\n",
        "ntsb_1['eng_mfgr'].mask(ntsb_1['eng_mfgr'] == 'pratt&whitney-canada', 'pratt & whitney canada', inplace=True)\n",
        "ntsb_1['eng_mfgr'].mask(ntsb_1['eng_mfgr'] == 'pw&c', 'pratt & whitney canada', inplace=True)\n",
        "ntsb_1['eng_mfgr'].mask(ntsb_1['eng_mfgr'] == 'pwc', 'pratt & whitney canada', inplace=True)\n",
        "ntsb_1['eng_mfgr'].mask(ntsb_1['eng_mfgr'] == 'pzl mielec', 'pzl', inplace=True)\n",
        "ntsb_1['eng_mfgr'].mask(ntsb_1['eng_mfgr'] == 'pzl wsk', 'pzl', inplace=True)\n",
        "ntsb_1['eng_mfgr'].mask(ntsb_1['eng_mfgr'] == 'pzl-kalisz', 'pzl', inplace=True)\n",
        "ntsb_1['eng_mfgr'].mask(ntsb_1['eng_mfgr'] == 'pzl-okecie', 'pzl', inplace=True)\n",
        "ntsb_1['eng_mfgr'].mask(ntsb_1['eng_mfgr'] == 'pzl-rzeszow', 'pzl', inplace=True)\n",
        "ntsb_1['eng_mfgr'].mask(ntsb_1['eng_mfgr'] == 'pzl-warszana', 'pzl', inplace=True)\n",
        "ntsb_1['eng_mfgr'].mask(ntsb_1['eng_mfgr'] == 'ram', 'ram racing engines, ltd.', inplace=True)\n",
        "ntsb_1['eng_mfgr'].mask(ntsb_1['eng_mfgr'] == 'ram racing engines ltd', 'ram racing engines, ltd.', inplace=True)\n",
        "ntsb_1['eng_mfgr'].mask(ntsb_1['eng_mfgr'] == 'rev.', 'revmaster aviation', inplace=True)\n",
        "ntsb_1['eng_mfgr'].mask(ntsb_1['eng_mfgr'] == 'revmaster', 'revmaster aviation', inplace=True)\n",
        "ntsb_1['secondary_eng_mfgr'] = np.where(ntsb_1['eng_mfgr'] == 'rogers-lycoming', 'lycoming', '')\n",
        "ntsb_1['eng_mfgr'].mask(ntsb_1['eng_mfgr'] == 'rogers-lycoming', 'rogers', inplace=True)\n",
        "ntsb_1['eng_mfgr'].mask(ntsb_1['eng_mfgr'] == 'rolls royce', 'rolls-royce', inplace=True)\n",
        "ntsb_1['secondary_eng_mfgr'] = np.where(ntsb_1['eng_mfgr'] == 'rolls royce (allison)', 'allison', '')\n",
        "ntsb_1['eng_mfgr'].mask(ntsb_1['eng_mfgr'] == 'rolls royce (allison)', 'rolls-royce', inplace=True)\n",
        "ntsb_1['secondary_eng_mfgr'] = np.where(ntsb_1['eng_mfgr'] == 'rolls royce / allison', 'allison', '')\n",
        "ntsb_1['eng_mfgr'].mask(ntsb_1['eng_mfgr'] == 'rolls royce / allison', 'rolls-royce', inplace=True)\n",
        "ntsb_1['secondary_eng_mfgr'] = np.where(ntsb_1['eng_mfgr'] == 'rolls royce allison', 'allison', '')\n",
        "ntsb_1['eng_mfgr'].mask(ntsb_1['eng_mfgr'] == 'rolls royce allison', 'rolls-royce', inplace=True)\n",
        "ntsb_1['secondary_eng_mfgr'] = np.where(ntsb_1['eng_mfgr'] == 'rolls royce-allison', 'allison', '')\n",
        "ntsb_1['eng_mfgr'].mask(ntsb_1['eng_mfgr'] == 'rolls royce-allison', 'rolls-royce', inplace=True)\n",
        "ntsb_1['secondary_eng_mfgr'] = np.where(ntsb_1['eng_mfgr'] == 'rolls royce/ allison', 'allison', '')\n",
        "ntsb_1['eng_mfgr'].mask(ntsb_1['eng_mfgr'] == 'rolls royce/ allison', 'rolls-royce', inplace=True)\n",
        "ntsb_1['secondary_eng_mfgr'] = np.where(ntsb_1['eng_mfgr'] == 'rolls royce/allison', 'allison', '')\n",
        "ntsb_1['eng_mfgr'].mask(ntsb_1['eng_mfgr'] == 'rolls royce/allison', 'rolls-royce', inplace=True)\n",
        "ntsb_1['eng_mfgr'].mask(ntsb_1['eng_mfgr'] == 'rolls-royc', 'rolls-royce', inplace=True)\n",
        "ntsb_1['secondary_eng_mfgr'] = np.where(ntsb_1['eng_mfgr'] == 'rolls-royce allison', 'allison', '')\n",
        "ntsb_1['eng_mfgr'].mask(ntsb_1['eng_mfgr'] == 'rolls-royce allison', 'rolls-royce', inplace=True)\n",
        "ntsb_1['eng_mfgr'].mask(ntsb_1['eng_mfgr'] == 'rolls-royce corporation', 'rolls-royce', inplace=True)\n",
        "ntsb_1['eng_mfgr'].mask(ntsb_1['eng_mfgr'] == 'rolls-royce deutschland', 'rolls-royce', inplace=True)\n",
        "ntsb_1['secondary_eng_mfgr'] = np.where(ntsb_1['eng_mfgr'] == 'rolls-royce turbomeca', 'safran helicopter engines', '')\n",
        "ntsb_1['eng_mfgr'].mask(ntsb_1['eng_mfgr'] == 'rolls-royce turbomeca', 'rolls-royce', inplace=True)\n",
        "ntsb_1['secondary_eng_mfgr'] = np.where(ntsb_1['eng_mfgr'] == 'rolls-royce(allison)', 'allison', '')\n",
        "ntsb_1['eng_mfgr'].mask(ntsb_1['eng_mfgr'] == 'rolls-royce(allison)', 'rolls-royce', inplace=True)\n",
        "ntsb_1['eng_mfgr'].mask(ntsb_1['eng_mfgr'] == 'rotax', 'brp-rotax', inplace=True)\n",
        "ntsb_1['eng_mfgr'].mask(ntsb_1['eng_mfgr'] == 'rotax gmbh', 'brp-rotax', inplace=True)\n",
        "ntsb_1['eng_mfgr'].mask(ntsb_1['eng_mfgr'] == 'rotax gmbh & co.', 'brp-rotax', inplace=True)\n",
        "ntsb_1['eng_mfgr'].mask(ntsb_1['eng_mfgr'] == 'rotec', 'brp-rotax', inplace=True)\n",
        "ntsb_1['eng_mfgr'].mask(ntsb_1['eng_mfgr'] == 'rotex', 'brp-rotax', inplace=True)\n",
        "ntsb_1['eng_mfgr'].mask(ntsb_1['eng_mfgr'] == 'rotortway', 'rotorway international, inc.', inplace=True)\n",
        "ntsb_1['eng_mfgr'].mask(ntsb_1['eng_mfgr'] == 'rotorway', 'rotorway international, inc.', inplace=True)\n",
        "ntsb_1['eng_mfgr'].mask(ntsb_1['eng_mfgr'] == 'rotorway international', 'rotorway international, inc.', inplace=True)\n",
        "ntsb_1['eng_mfgr'].mask(ntsb_1['eng_mfgr'] == 'rw', 'rotorway international, inc.', inplace=True)\n",
        "ntsb_1['eng_mfgr'].mask(ntsb_1['eng_mfgr'] == 'ryan', 'ryan falconer racing engines', inplace=True)\n",
        "ntsb_1['eng_mfgr'].mask(ntsb_1['eng_mfgr'] == 'safran (formerly turbomeca)', 'safran helicopter engines', inplace=True)\n",
        "ntsb_1['eng_mfgr'].mask(ntsb_1['eng_mfgr'] == 'shvetsoc', 'shvetsov', inplace=True)\n",
        "ntsb_1['eng_mfgr'].mask(ntsb_1['eng_mfgr'] == 'solair', 'solair group, llc', inplace=True)\n",
        "ntsb_1['secondary_eng_mfgr'] = np.where(ntsb_1['eng_mfgr'] == 'subaru - stratus built', 'stratus 2000, inc.', '')\n",
        "ntsb_1['eng_mfgr'].mask(ntsb_1['eng_mfgr'] == 'subaru - stratus built', 'subaru', inplace=True)\n",
        "ntsb_1['secondary_eng_mfgr'] = np.where(ntsb_1['eng_mfgr'] == 'subaru/eggenfellner', 'eggenfellner aircraft, llc', '')\n",
        "ntsb_1['eng_mfgr'].mask(ntsb_1['eng_mfgr'] == 'subaru/eggenfellner', 'subaru', inplace=True)\n",
        "ntsb_1['eng_mfgr'].mask(ntsb_1['eng_mfgr'] == 'subuaru', 'subaru', inplace=True)\n",
        "ntsb_1['eng_mfgr'].mask(ntsb_1['eng_mfgr'] == 'suburu', 'subaru', inplace=True)\n",
        "ntsb_1['eng_mfgr'].mask(ntsb_1['eng_mfgr'] == 'superior', 'superior air parts, inc.', inplace=True)\n",
        "ntsb_1['eng_mfgr'].mask(ntsb_1['eng_mfgr'] == 'superior air parts', 'superior air parts, inc.', inplace=True)\n",
        "ntsb_1['eng_mfgr'].mask(ntsb_1['eng_mfgr'] == 'teledine continental motors', 'teledyne turbine engines', inplace=True)\n",
        "ntsb_1['eng_mfgr'].mask(ntsb_1['eng_mfgr'] == 'teledye continental motors', 'teledyne turbine engines', inplace=True)\n",
        "ntsb_1['eng_mfgr'].mask(ntsb_1['eng_mfgr'] == 'teledyn continental', 'teledyne turbine engines', inplace=True)\n",
        "ntsb_1['eng_mfgr'].mask(ntsb_1['eng_mfgr'] == 'teledyn continental motors', 'teledyne turbine engines', inplace=True)\n",
        "ntsb_1['eng_mfgr'].mask(ntsb_1['eng_mfgr'] == 'teledyne', 'teledyne turbine engines', inplace=True)\n",
        "ntsb_1['eng_mfgr'].mask(ntsb_1['eng_mfgr'] == 'teledyne cont', 'teledyne turbine engines', inplace=True)\n",
        "ntsb_1['eng_mfgr'].mask(ntsb_1['eng_mfgr'] == 'teledyne continental', 'teledyne turbine engines', inplace=True)\n",
        "ntsb_1['eng_mfgr'].mask(ntsb_1['eng_mfgr'] == 'teledyne continental mortors', 'teledyne turbine engines', inplace=True)\n",
        "ntsb_1['eng_mfgr'].mask(ntsb_1['eng_mfgr'] == 'teledyne continental motor', 'teledyne turbine engines', inplace=True)\n",
        "ntsb_1['eng_mfgr'].mask(ntsb_1['eng_mfgr'] == 'teledyne continental motors', 'teledyne turbine engines', inplace=True)\n",
        "ntsb_1['eng_mfgr'].mask(ntsb_1['eng_mfgr'] == 'teledyne matituck', 'teledyne turbine engines', inplace=True)\n",
        "ntsb_1['eng_mfgr'].mask(ntsb_1['eng_mfgr'] == 'teledyne mattituck', 'teledyne turbine engines', inplace=True)\n",
        "ntsb_1['eng_mfgr'].mask(ntsb_1['eng_mfgr'] == 'teledyne-continental', 'teledyne turbine engines', inplace=True)\n",
        "ntsb_1['eng_mfgr'].mask(ntsb_1['eng_mfgr'] == 'teledyne-continental motors', 'teledyne turbine engines', inplace=True)\n",
        "ntsb_1['eng_mfgr'].mask(ntsb_1['eng_mfgr'] == 'teledyne/cont', 'teledyne turbine engines', inplace=True)\n",
        "ntsb_1['secondary_eng_mfgr'] = np.where(ntsb_1['eng_mfgr'] == 'textron lyc.', 'lycoming', '')\n",
        "ntsb_1['eng_mfgr'].mask(ntsb_1['eng_mfgr'] == 'textron lyc.', 'textron aviation', inplace=True)\n",
        "ntsb_1['secondary_eng_mfgr'] = np.where(ntsb_1['eng_mfgr'] == 'textron lycoming', 'lycoming', '')\n",
        "ntsb_1['eng_mfgr'].mask(ntsb_1['eng_mfgr'] == 'textron lycoming', 'lycoming', inplace=True)\n",
        "ntsb_1['eng_mfgr'].mask(ntsb_1['eng_mfgr'] == 'titan', 'continental aerospace technologies', inplace=True)\n",
        "ntsb_1['eng_mfgr'].mask(ntsb_1['eng_mfgr'] == 'tmx', 'teledyne turbine engines', inplace=True)\n",
        "ntsb_1['eng_mfgr'].mask(ntsb_1['eng_mfgr'] == 'tomanski', 'tumanski', inplace=True)\n",
        "ntsb_1['eng_mfgr'].mask(ntsb_1['eng_mfgr'] == 'toyota/auto', 'toyota', inplace=True)\n",
        "ntsb_1['eng_mfgr'].mask(ntsb_1['eng_mfgr'] == 'tubomecca', 'safran helicopter engines', inplace=True)\n",
        "ntsb_1['eng_mfgr'].mask(ntsb_1['eng_mfgr'] == 'turbo meca', 'safran helicopter engines', inplace=True)\n",
        "ntsb_1['eng_mfgr'].mask(ntsb_1['eng_mfgr'] == 'tubomecca', 'safran helicopter engines', inplace=True)\n",
        "ntsb_1['eng_mfgr'].mask(ntsb_1['eng_mfgr'] == 'turbomeca', 'safran helicopter engines', inplace=True)\n",
        "ntsb_1['eng_mfgr'].mask(ntsb_1['eng_mfgr'] == 'turbomeca usa', 'safran helicopter engines', inplace=True)\n",
        "ntsb_1['eng_mfgr'].mask(ntsb_1['eng_mfgr'] == 'turbomecca', 'safran helicopter engines', inplace=True)\n",
        "ntsb_1['eng_mfgr'].mask(ntsb_1['eng_mfgr'] == 'two stroke international', '2si', inplace=True)\n",
        "ntsb_1['eng_mfgr'].mask(ntsb_1['eng_mfgr'] == 'tyledyne continental motors', 'teledyne turbine engines', inplace=True)\n",
        "ntsb_1['eng_mfgr'].mask(ntsb_1['eng_mfgr'] == 'u/a of canada', 'u/a canada', inplace=True)\n",
        "ntsb_1['eng_mfgr'].mask(ntsb_1['eng_mfgr'] == 'ul', 'ulpower aero engines', inplace=True)\n",
        "ntsb_1['eng_mfgr'].mask(ntsb_1['eng_mfgr'] == 'ul power', 'ulpower aero engines', inplace=True)\n",
        "ntsb_1['eng_mfgr'].mask(ntsb_1['eng_mfgr'] == 'unk', np.nan, inplace=True)\n",
        "ntsb_1['eng_mfgr'].mask(ntsb_1['eng_mfgr'] == 'unk/nr', np.nan, inplace=True)\n",
        "ntsb_1['eng_mfgr'].mask(ntsb_1['eng_mfgr'] == 'unkn', np.nan, inplace=True)\n",
        "ntsb_1['eng_mfgr'].mask(ntsb_1['eng_mfgr'] == 'unknown', np.nan, inplace=True)\n",
        "ntsb_1['eng_mfgr'].mask(ntsb_1['eng_mfgr'] == 'v.w.', 'volkswagen', inplace=True)\n",
        "ntsb_1['eng_mfgr'].mask(ntsb_1['eng_mfgr'] == 'vedeheyev', 'vedeneyev', inplace=True)\n",
        "ntsb_1['eng_mfgr'].mask(ntsb_1['eng_mfgr'] == 'vedeneev', 'vedeneyev', inplace=True)\n",
        "ntsb_1['eng_mfgr'].mask(ntsb_1['eng_mfgr'] == 'vedenev', 'vedeneyev', inplace=True)\n",
        "ntsb_1['eng_mfgr'].mask(ntsb_1['eng_mfgr'] == 'vedeneyev', 'vedeneyev', inplace=True)\n",
        "ntsb_1['eng_mfgr'].mask(ntsb_1['eng_mfgr'] == 'vedeneyez', 'vedeneyev', inplace=True)\n",
        "ntsb_1['eng_mfgr'].mask(ntsb_1['eng_mfgr'] == 'vedenyev', 'vedeneyev', inplace=True)\n",
        "ntsb_1['eng_mfgr'].mask(ntsb_1['eng_mfgr'] == 'vellie', 'velie', inplace=True)\n",
        "ntsb_1['eng_mfgr'].mask(ntsb_1['eng_mfgr'] == 'vendeneyev', 'vedeneyev', inplace=True)\n",
        "ntsb_1['eng_mfgr'].mask(ntsb_1['eng_mfgr'] == 'vendenyev', 'vedeneyev', inplace=True)\n",
        "ntsb_1['eng_mfgr'].mask(ntsb_1['eng_mfgr'] == 'viking', 'viking aircraft engines', inplace=True)\n",
        "ntsb_1['eng_mfgr'].mask(ntsb_1['eng_mfgr'] == 'viking aircraft engines', 'viking aircraft engines', inplace=True)\n",
        "ntsb_1['secondary_eng_mfgr'] = np.where(ntsb_1['eng_mfgr'] == 'viking conversion of honda', 'honda', '')\n",
        "ntsb_1['eng_mfgr'].mask(ntsb_1['eng_mfgr'] == 'viking conversion of honda', 'viking aircraft engines', inplace=True)\n",
        "ntsb_1['eng_mfgr'].mask(ntsb_1['eng_mfgr'] == 'volkswagan', 'volkswagen', inplace=True)\n",
        "ntsb_1['eng_mfgr'].mask(ntsb_1['eng_mfgr'] == 'volkswagoen', 'volkswagen', inplace=True)\n",
        "ntsb_1['eng_mfgr'].mask(ntsb_1['eng_mfgr'] == 'volkswagon', 'volkswagen', inplace=True)\n",
        "ntsb_1['secondary_eng_mfgr'] = np.where(ntsb_1['eng_mfgr'] == 'volkswagon/great plains', 'great plains aircraft supply company', '')\n",
        "ntsb_1['eng_mfgr'].mask(ntsb_1['eng_mfgr'] == 'volkswagon/great plains', 'volkswagen', inplace=True)\n",
        "ntsb_1['eng_mfgr'].mask(ntsb_1['eng_mfgr'] == 'vw', 'volkswagen', inplace=True)\n",
        "ntsb_1['secondary_eng_mfgr'] = np.where(ntsb_1['eng_mfgr'] == 'vw- hummel', 'hummel', '')\n",
        "ntsb_1['eng_mfgr'].mask(ntsb_1['eng_mfgr'] == 'vw- hummel', 'volkswagen', inplace=True)\n",
        "ntsb_1['eng_mfgr'].mask(ntsb_1['eng_mfgr'] == 'walter', 'walter aircraft engines', inplace=True)\n",
        "ntsb_1['eng_mfgr'].mask(ntsb_1['eng_mfgr'] == 'walter engine incorporated', 'walter aircraft engines', inplace=True)\n",
        "ntsb_1['secondary_eng_mfgr'] = np.where(ntsb_1['eng_mfgr'] == 'walter/ge', 'general electric', '')\n",
        "ntsb_1['eng_mfgr'].mask(ntsb_1['eng_mfgr'] == 'walter/ge', 'walter aircraft engines', inplace=True)\n",
        "ntsb_1['eng_mfgr'].mask(ntsb_1['eng_mfgr'] == 'walther', 'walter aircraft engines', inplace=True)\n",
        "ntsb_1['eng_mfgr'].mask(ntsb_1['eng_mfgr'] == 'warner', 'warner aircraft corporation', inplace=True)\n",
        "ntsb_1['eng_mfgr'].mask(ntsb_1['eng_mfgr'] == 'warner aircraft engines', 'warner aircraft corporation', inplace=True)\n",
        "ntsb_1['eng_mfgr'].mask(ntsb_1['eng_mfgr'] == 'warner super scarab', 'warner aircraft corporation', inplace=True)\n",
        "ntsb_1['secondary_eng_mfgr'] = np.where(ntsb_1['eng_mfgr'] == 'watson \"vw\"', 'volkswagen', '')\n",
        "ntsb_1['eng_mfgr'].mask(ntsb_1['eng_mfgr'] == 'watson \"vw\"', 'watson', inplace=True)\n",
        "ntsb_1['eng_mfgr'].mask(ntsb_1['eng_mfgr'] == 'williams', 'williams international', inplace=True)\n",
        "ntsb_1['eng_mfgr'].mask(ntsb_1['eng_mfgr'] == 'williams', 'williams international company', inplace=True)\n",
        "ntsb_1['eng_mfgr'].mask(ntsb_1['eng_mfgr'] == 'williams', 'williams intl', inplace=True)\n",
        "ntsb_1['eng_mfgr'].mask(ntsb_1['eng_mfgr'] == 'wright', 'curtiss-wright', inplace=True)\n",
        "ntsb_1['eng_mfgr'].mask(ntsb_1['eng_mfgr'] == 'wright cyclone', 'curtiss-wright', inplace=True)\n",
        "ntsb_1['eng_mfgr'].mask(ntsb_1['eng_mfgr'] == 'wsk', 'pzl wsk-kalisz', inplace=True)\n",
        "ntsb_1['eng_mfgr'].mask(ntsb_1['eng_mfgr'] == 'wsk pzl kalis', 'pzl wsk-kalisz', inplace=True)\n",
        "ntsb_1['eng_mfgr'].mask(ntsb_1['eng_mfgr'] == 'wsk pzl kalisz', 'pzl wsk-kalisz', inplace=True)\n",
        "ntsb_1['eng_mfgr'].mask(ntsb_1['eng_mfgr'] == 'wsk-pzl', 'pzl wsk-kalisz', inplace=True)\n",
        "ntsb_1['eng_mfgr'].mask(ntsb_1['eng_mfgr'] == 'wsk-pzl-k', 'pzl wsk-kalisz', inplace=True)\n",
        "ntsb_1['eng_mfgr'].mask(ntsb_1['eng_mfgr'] == 'wynn corvair', 'wynn', inplace=True)\n",
        "ntsb_1['eng_mfgr'].mask(ntsb_1['eng_mfgr'] == 'xtreem 360', 'xtremeair gmbh', inplace=True)\n",
        "ntsb_1['eng_mfgr'].mask(ntsb_1['eng_mfgr'] == 'zanzarterra', 'zanzottera technologies', inplace=True)\n",
        "ntsb_1['eng_mfgr'].mask(ntsb_1['eng_mfgr'] == 'zanzottera', 'zanzottera technologies', inplace=True)\n",
        "ntsb_1['eng_mfgr'].mask(ntsb_1['eng_mfgr'] == 'zeonoa', 'zenoah', inplace=True)"
      ],
      "metadata": {
        "id": "yojwOisGtTOG"
      },
      "id": "yojwOisGtTOG",
      "execution_count": null,
      "outputs": []
    },
    {
      "cell_type": "code",
      "source": [
        "ntsb_1['carb_fuel_injection'].astype('category')"
      ],
      "metadata": {
        "id": "h1u15bWmwHxA"
      },
      "id": "h1u15bWmwHxA",
      "execution_count": null,
      "outputs": []
    },
    {
      "cell_type": "code",
      "source": [
        "ntsb_1['carb_fuel_injection'].astype('category')"
      ],
      "metadata": {
        "id": "W8UyUjGrwKiZ"
      },
      "id": "W8UyUjGrwKiZ",
      "execution_count": null,
      "outputs": []
    },
    {
      "cell_type": "code",
      "source": [
        "ntsb_1['ev_type'].astype('category')"
      ],
      "metadata": {
        "id": "hXehUdujwMus"
      },
      "id": "hXehUdujwMus",
      "execution_count": null,
      "outputs": []
    },
    {
      "cell_type": "code",
      "source": [
        "ntsb_1['ev_city'].astype('string')"
      ],
      "metadata": {
        "id": "u-dYe-7nwO8P"
      },
      "id": "u-dYe-7nwO8P",
      "execution_count": null,
      "outputs": []
    },
    {
      "cell_type": "code",
      "source": [
        "ntsb_1['ev_state'].astype('string')"
      ],
      "metadata": {
        "id": "v2FtB8KdwQxk"
      },
      "id": "v2FtB8KdwQxk",
      "execution_count": null,
      "outputs": []
    },
    {
      "cell_type": "code",
      "source": [
        "ntsb_1['eng_time_total'].unique()"
      ],
      "metadata": {
        "id": "aKLlThxZwSv-"
      },
      "id": "aKLlThxZwSv-",
      "execution_count": null,
      "outputs": []
    },
    {
      "cell_type": "code",
      "source": [
        "ntsb_1['eng_time_total'].unique()\n",
        "ntsb_1['eng_time_total'].max()\n",
        "\n",
        "bins3 = [0,5000,10000,15000,20000,25000,30000,35000,40000,45000,50000]\n",
        "labels3 = [1,2,3,4,5,6,7,8,9,10]\n",
        "\n",
        "ntsb_1['eng_time_total'] = pd.cut(ntsb_1['eng_time_total'], bins3, labels=labels3)\n",
        "col_metrics(ntsb_1, col='eng_time_total')"
      ],
      "metadata": {
        "id": "6u0-cgqUwUlo"
      },
      "id": "6u0-cgqUwUlo",
      "execution_count": null,
      "outputs": []
    },
    {
      "cell_type": "code",
      "source": [
        "ntsb_1['eng_time_last_insp'].round()\n",
        "ntsb_1['eng_time_last_insp'].max()\n",
        "bins4 = [0,1000,2000,3000,4000,5000,6000,7000,8000,9000,10000, 11000, 12000, 13000]\n",
        "labels4 = [1,2,3,4,5,6,7,8,9,10,11,12,13]\n",
        "\n",
        "ntsb_1['eng_time_last_insp'] = pd.cut(ntsb_1['eng_time_last_insp'], bins4, labels=labels4)\n",
        "col_metrics(ntsb_1, col='eng_time_last_insp')"
      ],
      "metadata": {
        "id": "jpQLgwI2wWF_"
      },
      "id": "jpQLgwI2wWF_",
      "execution_count": null,
      "outputs": []
    },
    {
      "cell_type": "code",
      "source": [
        "# Pending Cleaning\n",
        "\n",
        "'eng_no': Remove 448 nulls?\n",
        "'ev_time': format time dtype, take a look at bucketizing by hour\n",
        "'ev_year': Remove? Unless an airport is more risky during different time periods which might be possible\n",
        "'latitude': convert dtype to VARCHAR or DOUBLE. also maybe.... \"You can use clustering algorithm like k-Nearest Neighbor algorithm to group your geo-location data (using a small number of potential clusters) and assign each cluster or a group a unique id. These unique id can then replace your latitude and longitude column.\"\n",
        "'longitude': see lat\n",
        "'apt_name': compare against airport list, consolidate private and private airstrip, and private strip"
      ],
      "metadata": {
        "id": "74bNDWVVwYCc"
      },
      "id": "74bNDWVVwYCc",
      "execution_count": null,
      "outputs": []
    },
    {
      "cell_type": "code",
      "source": [
        "ntsb_1['ev_dow'].astype('category')"
      ],
      "metadata": {
        "id": "GK2py5xuwbPG"
      },
      "id": "GK2py5xuwbPG",
      "execution_count": null,
      "outputs": []
    },
    {
      "cell_type": "code",
      "source": [
        "ntsb_1['ev_month'].astype('category')"
      ],
      "metadata": {
        "id": "0N5V6PHFwcJl"
      },
      "id": "0N5V6PHFwcJl",
      "execution_count": null,
      "outputs": []
    },
    {
      "cell_type": "markdown",
      "source": [
        "### Ericks Section"
      ],
      "metadata": {
        "id": "bJlVyasmkSx7"
      },
      "id": "bJlVyasmkSx7"
    },
    {
      "cell_type": "code",
      "source": [
        "#segment dataframe to 20 rows assigned to Erick\n",
        "erick_cols = ntsb_dropped_cols.iloc[:,46:66]\n",
        "\n",
        "#change column headers from code to english\n",
        "erick_cols.set_axis(['Event Near Airport ID', 'Event near Airport Location', 'Airport Distance', 'Airport Direction', 'Airport Elevation', 'Weather Source iic', 'Weather Observation Time', 'Weather Observation Direction', 'Weather Observation Facility ID', 'Weather Observation Elevation', 'Weather Observation Distance', 'Light Conditions', 'Sky Condtions NonCeiling', 'Sky NonCeiling Height', 'Sky Ceiling Height', 'Sky Condition Ceiling', 'Visual Runway Visual Range', 'Visual Statute Miles', 'Weather Temperature', 'Weather Dew Point' ], axis =1, inplace = True)\n",
        "display(erick_cols)"
      ],
      "metadata": {
        "id": "LCbB18qNkVJA"
      },
      "id": "LCbB18qNkVJA",
      "execution_count": null,
      "outputs": []
    },
    {
      "cell_type": "code",
      "source": [
        "#checking data types in column\n",
        "erick_cols.info()"
      ],
      "metadata": {
        "id": "DQJPwfqFkWgq",
        "outputId": "bfdfe22f-2ced-49af-9055-cff5be6137da",
        "colab": {
          "base_uri": "https://localhost:8080/",
          "height": 183
        }
      },
      "id": "DQJPwfqFkWgq",
      "execution_count": null,
      "outputs": [
        {
          "output_type": "error",
          "ename": "NameError",
          "evalue": "ignored",
          "traceback": [
            "\u001b[0;31m---------------------------------------------------------------------------\u001b[0m",
            "\u001b[0;31mNameError\u001b[0m                                 Traceback (most recent call last)",
            "\u001b[0;32m<ipython-input-1-d1b40dddff54>\u001b[0m in \u001b[0;36m<module>\u001b[0;34m\u001b[0m\n\u001b[1;32m      1\u001b[0m \u001b[0;31m#checking data types in column\u001b[0m\u001b[0;34m\u001b[0m\u001b[0;34m\u001b[0m\u001b[0m\n\u001b[0;32m----> 2\u001b[0;31m \u001b[0merick_cols\u001b[0m\u001b[0;34m.\u001b[0m\u001b[0minfo\u001b[0m\u001b[0;34m(\u001b[0m\u001b[0;34m)\u001b[0m\u001b[0;34m\u001b[0m\u001b[0;34m\u001b[0m\u001b[0m\n\u001b[0m",
            "\u001b[0;31mNameError\u001b[0m: name 'erick_cols' is not defined"
          ]
        }
      ]
    },
    {
      "cell_type": "code",
      "source": [
        "#convert datatype to string for easier data handling\n",
        "erick_cols['Event Near Airport ID'] = erick_cols['Event Near Airport ID'].astype('string')\n",
        "erick_cols['Event near Airport Location'] = erick_cols['Event near Airport Location'].astype('string')\n",
        "erick_cols['Weather Source iic'] = erick_cols['Weather Source iic'].astype('string')\n",
        "erick_cols['Weather Observation Facility ID'] = erick_cols['Weather Observation Facility ID'].astype('string')\n",
        "erick_cols['Light Conditions'] = erick_cols['Light Conditions'].astype('string')\n",
        "erick_cols['Sky Condtions NonCeiling'] = erick_cols['Sky Condtions NonCeiling'].astype('string')\n",
        "erick_cols['Sky Condition Ceiling'] = erick_cols['Sky Condition Ceiling'].astype('string')\n",
        "\n",
        "#convert datatype to numeric for easier data handling\n",
        "erick_cols['Airport Distance'] = erick_cols['Airport Distance'].astype('float')\n",
        "erick_cols['Airport Direction'] = erick_cols['Airport Direction'].astype('float').astype('Int64')\n",
        "\n",
        "erick_cols['Airport Elevation'] = pd.to_numeric(erick_cols['Airport Elevation'])\n",
        "erick_cols['Airport Elevation'] = erick_cols['Airport Elevation'].astype('Int64')\n",
        "\n",
        "erick_cols['Weather Observation Time'] = erick_cols['Weather Observation Time'].astype('Int64')\n",
        "\n",
        "\n",
        "\n",
        "\n",
        "erick_cols['Weather Observation Direction'] = pd.to_numeric(erick_cols['Weather Observation Direction'])\n",
        "erick_cols['Weather Observation Direction'] = erick_cols['Weather Observation Direction'].astype('float').astype('Int64')\n",
        "\n",
        "erick_cols['Weather Observation Elevation'] = pd.to_numeric(erick_cols['Weather Observation Elevation'])\n",
        "erick_cols['Weather Observation Elevation'] = erick_cols['Weather Observation Elevation'].astype('float').astype('Int64')\n",
        "\n",
        "erick_cols['Weather Observation Distance'] = pd.to_numeric(erick_cols['Weather Observation Distance'])\n",
        "erick_cols['Weather Observation Distance'] = erick_cols['Weather Observation Distance'].astype('float')\n",
        "\n",
        "erick_cols['Weather Observation Elevation'] = pd.to_numeric(erick_cols['Weather Observation Elevation'])\n",
        "erick_cols['Weather Observation Elevation'] = erick_cols['Weather Observation Elevation'].astype('float').astype('Int64')\n",
        "\n",
        "erick_cols['Sky NonCeiling Height'] = pd.to_numeric(erick_cols['Sky NonCeiling Height'])\n",
        "erick_cols['Sky NonCeiling Height'] = erick_cols['Sky NonCeiling Height'].astype('float').astype('Int64')\n",
        "\n",
        "erick_cols['Sky Ceiling Height'] = pd.to_numeric(erick_cols['Sky Ceiling Height'])\n",
        "erick_cols['Sky Ceiling Height'] = erick_cols['Sky Ceiling Height'].astype('float').astype('Int64')\n",
        "\n",
        "erick_cols['Visual Runway Visual Range'] = pd.to_numeric(erick_cols['Visual Runway Visual Range'])\n",
        "erick_cols['Visual Runway Visual Range'] = erick_cols['Visual Runway Visual Range'].astype('float').astype('Int64')\n",
        "\n",
        "erick_cols['Visual Statute Miles'] = pd.to_numeric(erick_cols['Visual Statute Miles'])\n",
        "erick_cols['Visual Statute Miles'] = erick_cols['Visual Statute Miles'].astype('float')\n",
        "\n",
        "\n",
        "erick_cols['Weather Temperature'] = pd.to_numeric(erick_cols['Weather Temperature'])\n",
        "erick_cols['Weather Temperature'] = erick_cols['Weather Temperature'].astype('float').astype('Int64')\n",
        "\n",
        "erick_cols['Weather Dew Point'] = pd.to_numeric(erick_cols['Weather Dew Point'])\n",
        "erick_cols['Weather Dew Point'] = erick_cols['Weather Dew Point'].astype('float').astype('Int64')\n",
        "\n",
        "erick_cols.info()"
      ],
      "metadata": {
        "id": "IFD1BGP_kaEt"
      },
      "id": "IFD1BGP_kaEt",
      "execution_count": null,
      "outputs": []
    },
    {
      "cell_type": "code",
      "source": [],
      "metadata": {
        "id": "zzuyCN46kf16"
      },
      "id": "zzuyCN46kf16",
      "execution_count": null,
      "outputs": []
    },
    {
      "cell_type": "markdown",
      "source": [
        "##Chi's Section"
      ],
      "metadata": {
        "id": "H_fxE95BkkCf"
      },
      "id": "H_fxE95BkkCf"
    },
    {
      "cell_type": "code",
      "source": [],
      "metadata": {
        "id": "BueecNeMkmKj"
      },
      "id": "BueecNeMkmKj",
      "execution_count": null,
      "outputs": []
    }
  ],
  "metadata": {
    "kernelspec": {
      "display_name": "Python 3 (ipykernel)",
      "language": "python",
      "name": "python3"
    },
    "language_info": {
      "codemirror_mode": {
        "name": "ipython",
        "version": 3
      },
      "file_extension": ".py",
      "mimetype": "text/x-python",
      "name": "python",
      "nbconvert_exporter": "python",
      "pygments_lexer": "ipython3",
      "version": "3.8.8"
    },
    "colab": {
      "provenance": [],
      "include_colab_link": true
    }
  },
  "nbformat": 4,
  "nbformat_minor": 5
}