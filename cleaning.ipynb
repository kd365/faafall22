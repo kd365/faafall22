{
  "cells": [
    {
      "cell_type": "markdown",
      "metadata": {
        "id": "view-in-github",
        "colab_type": "text"
      },
      "source": [
        "<a href=\"https://colab.research.google.com/github/kd365/faafall22/blob/hill/cleaning.ipynb\" target=\"_parent\"><img src=\"https://colab.research.google.com/assets/colab-badge.svg\" alt=\"Open In Colab\"/></a>"
      ]
    },
    {
      "cell_type": "markdown",
      "source": [
        "# NTSB Cleaning Notebook"
      ],
      "metadata": {
        "id": "uFmGuv_e813K"
      },
      "id": "uFmGuv_e813K"
    },
    {
      "cell_type": "markdown",
      "source": [
        "## Steps:\n",
        "1. Import libraries and raw data\n",
        "2. Initial column drops\n",
        "3. Cleaning steps that wil apply to entire dataframe\n",
        "4. Cleaning each column\n",
        "\n",
        "**Cleaning Plan:**\n",
        "Hunter:\n",
        "- cols 0-22\n",
        "Kathleen:\n",
        "- col 23-45\n",
        "Eric:\n",
        "- col 46-68\n",
        "Chi:\n",
        "- col 69-85\n"
      ],
      "metadata": {
        "id": "t83UG5G79C69"
      },
      "id": "t83UG5G79C69"
    },
    {
      "cell_type": "markdown",
      "source": [
        "### 1. Import libraries"
      ],
      "metadata": {
        "id": "G1TLyT5-8xS3"
      },
      "id": "G1TLyT5-8xS3"
    },
    {
      "cell_type": "code",
      "source": [
        "from google.colab import files\n",
        "import pandas as pd\n",
        "import numpy as np\n",
        "\n",
        "\n",
        "uploaded = files.upload()"
      ],
      "metadata": {
        "id": "w0dmdVmRXvEp",
        "outputId": "69d5be44-6d1d-4730-e0f6-72a88856be00",
        "colab": {
          "base_uri": "https://localhost:8080/",
          "height": 74
        }
      },
      "id": "w0dmdVmRXvEp",
      "execution_count": 8,
      "outputs": [
        {
          "output_type": "display_data",
          "data": {
            "text/plain": [
              "<IPython.core.display.HTML object>"
            ],
            "text/html": [
              "\n",
              "     <input type=\"file\" id=\"files-fe118a13-dc25-4961-ad22-783cefd84837\" name=\"files[]\" multiple disabled\n",
              "        style=\"border:none\" />\n",
              "     <output id=\"result-fe118a13-dc25-4961-ad22-783cefd84837\">\n",
              "      Upload widget is only available when the cell has been executed in the\n",
              "      current browser session. Please rerun this cell to enable.\n",
              "      </output>\n",
              "      <script>// Copyright 2017 Google LLC\n",
              "//\n",
              "// Licensed under the Apache License, Version 2.0 (the \"License\");\n",
              "// you may not use this file except in compliance with the License.\n",
              "// You may obtain a copy of the License at\n",
              "//\n",
              "//      http://www.apache.org/licenses/LICENSE-2.0\n",
              "//\n",
              "// Unless required by applicable law or agreed to in writing, software\n",
              "// distributed under the License is distributed on an \"AS IS\" BASIS,\n",
              "// WITHOUT WARRANTIES OR CONDITIONS OF ANY KIND, either express or implied.\n",
              "// See the License for the specific language governing permissions and\n",
              "// limitations under the License.\n",
              "\n",
              "/**\n",
              " * @fileoverview Helpers for google.colab Python module.\n",
              " */\n",
              "(function(scope) {\n",
              "function span(text, styleAttributes = {}) {\n",
              "  const element = document.createElement('span');\n",
              "  element.textContent = text;\n",
              "  for (const key of Object.keys(styleAttributes)) {\n",
              "    element.style[key] = styleAttributes[key];\n",
              "  }\n",
              "  return element;\n",
              "}\n",
              "\n",
              "// Max number of bytes which will be uploaded at a time.\n",
              "const MAX_PAYLOAD_SIZE = 100 * 1024;\n",
              "\n",
              "function _uploadFiles(inputId, outputId) {\n",
              "  const steps = uploadFilesStep(inputId, outputId);\n",
              "  const outputElement = document.getElementById(outputId);\n",
              "  // Cache steps on the outputElement to make it available for the next call\n",
              "  // to uploadFilesContinue from Python.\n",
              "  outputElement.steps = steps;\n",
              "\n",
              "  return _uploadFilesContinue(outputId);\n",
              "}\n",
              "\n",
              "// This is roughly an async generator (not supported in the browser yet),\n",
              "// where there are multiple asynchronous steps and the Python side is going\n",
              "// to poll for completion of each step.\n",
              "// This uses a Promise to block the python side on completion of each step,\n",
              "// then passes the result of the previous step as the input to the next step.\n",
              "function _uploadFilesContinue(outputId) {\n",
              "  const outputElement = document.getElementById(outputId);\n",
              "  const steps = outputElement.steps;\n",
              "\n",
              "  const next = steps.next(outputElement.lastPromiseValue);\n",
              "  return Promise.resolve(next.value.promise).then((value) => {\n",
              "    // Cache the last promise value to make it available to the next\n",
              "    // step of the generator.\n",
              "    outputElement.lastPromiseValue = value;\n",
              "    return next.value.response;\n",
              "  });\n",
              "}\n",
              "\n",
              "/**\n",
              " * Generator function which is called between each async step of the upload\n",
              " * process.\n",
              " * @param {string} inputId Element ID of the input file picker element.\n",
              " * @param {string} outputId Element ID of the output display.\n",
              " * @return {!Iterable<!Object>} Iterable of next steps.\n",
              " */\n",
              "function* uploadFilesStep(inputId, outputId) {\n",
              "  const inputElement = document.getElementById(inputId);\n",
              "  inputElement.disabled = false;\n",
              "\n",
              "  const outputElement = document.getElementById(outputId);\n",
              "  outputElement.innerHTML = '';\n",
              "\n",
              "  const pickedPromise = new Promise((resolve) => {\n",
              "    inputElement.addEventListener('change', (e) => {\n",
              "      resolve(e.target.files);\n",
              "    });\n",
              "  });\n",
              "\n",
              "  const cancel = document.createElement('button');\n",
              "  inputElement.parentElement.appendChild(cancel);\n",
              "  cancel.textContent = 'Cancel upload';\n",
              "  const cancelPromise = new Promise((resolve) => {\n",
              "    cancel.onclick = () => {\n",
              "      resolve(null);\n",
              "    };\n",
              "  });\n",
              "\n",
              "  // Wait for the user to pick the files.\n",
              "  const files = yield {\n",
              "    promise: Promise.race([pickedPromise, cancelPromise]),\n",
              "    response: {\n",
              "      action: 'starting',\n",
              "    }\n",
              "  };\n",
              "\n",
              "  cancel.remove();\n",
              "\n",
              "  // Disable the input element since further picks are not allowed.\n",
              "  inputElement.disabled = true;\n",
              "\n",
              "  if (!files) {\n",
              "    return {\n",
              "      response: {\n",
              "        action: 'complete',\n",
              "      }\n",
              "    };\n",
              "  }\n",
              "\n",
              "  for (const file of files) {\n",
              "    const li = document.createElement('li');\n",
              "    li.append(span(file.name, {fontWeight: 'bold'}));\n",
              "    li.append(span(\n",
              "        `(${file.type || 'n/a'}) - ${file.size} bytes, ` +\n",
              "        `last modified: ${\n",
              "            file.lastModifiedDate ? file.lastModifiedDate.toLocaleDateString() :\n",
              "                                    'n/a'} - `));\n",
              "    const percent = span('0% done');\n",
              "    li.appendChild(percent);\n",
              "\n",
              "    outputElement.appendChild(li);\n",
              "\n",
              "    const fileDataPromise = new Promise((resolve) => {\n",
              "      const reader = new FileReader();\n",
              "      reader.onload = (e) => {\n",
              "        resolve(e.target.result);\n",
              "      };\n",
              "      reader.readAsArrayBuffer(file);\n",
              "    });\n",
              "    // Wait for the data to be ready.\n",
              "    let fileData = yield {\n",
              "      promise: fileDataPromise,\n",
              "      response: {\n",
              "        action: 'continue',\n",
              "      }\n",
              "    };\n",
              "\n",
              "    // Use a chunked sending to avoid message size limits. See b/62115660.\n",
              "    let position = 0;\n",
              "    do {\n",
              "      const length = Math.min(fileData.byteLength - position, MAX_PAYLOAD_SIZE);\n",
              "      const chunk = new Uint8Array(fileData, position, length);\n",
              "      position += length;\n",
              "\n",
              "      const base64 = btoa(String.fromCharCode.apply(null, chunk));\n",
              "      yield {\n",
              "        response: {\n",
              "          action: 'append',\n",
              "          file: file.name,\n",
              "          data: base64,\n",
              "        },\n",
              "      };\n",
              "\n",
              "      let percentDone = fileData.byteLength === 0 ?\n",
              "          100 :\n",
              "          Math.round((position / fileData.byteLength) * 100);\n",
              "      percent.textContent = `${percentDone}% done`;\n",
              "\n",
              "    } while (position < fileData.byteLength);\n",
              "  }\n",
              "\n",
              "  // All done.\n",
              "  yield {\n",
              "    response: {\n",
              "      action: 'complete',\n",
              "    }\n",
              "  };\n",
              "}\n",
              "\n",
              "scope.google = scope.google || {};\n",
              "scope.google.colab = scope.google.colab || {};\n",
              "scope.google.colab._files = {\n",
              "  _uploadFiles,\n",
              "  _uploadFilesContinue,\n",
              "};\n",
              "})(self);\n",
              "</script> "
            ]
          },
          "metadata": {}
        },
        {
          "output_type": "stream",
          "name": "stdout",
          "text": [
            "Saving NTSB_for_cleaning_total.csv to NTSB_for_cleaning_total.csv\n"
          ]
        }
      ]
    },
    {
      "cell_type": "code",
      "source": [
        "import re"
      ],
      "metadata": {
        "id": "hZefpoX7EXSf"
      },
      "id": "hZefpoX7EXSf",
      "execution_count": 9,
      "outputs": []
    },
    {
      "cell_type": "code",
      "execution_count": 10,
      "id": "998f647c",
      "metadata": {
        "id": "998f647c",
        "outputId": "feaa6219-1af4-4f93-fc4f-390566112f38",
        "colab": {
          "base_uri": "https://localhost:8080/"
        }
      },
      "outputs": [
        {
          "output_type": "stream",
          "name": "stdout",
          "text": [
            "<class 'pandas.core.frame.DataFrame'>\n",
            "RangeIndex: 104120 entries, 0 to 104119\n",
            "Data columns (total 86 columns):\n",
            " #   Column                 Non-Null Count   Dtype  \n",
            "---  ------                 --------------   -----  \n",
            " 0   aircraft_ev_id         104120 non-null  object \n",
            " 1   far_part               104120 non-null  object \n",
            " 2   flight_plan_activated  45517 non-null   object \n",
            " 3   damage                 103326 non-null  object \n",
            " 4   acft_make              104108 non-null  object \n",
            " 5   acft_model             104096 non-null  object \n",
            " 6   cert_max_gr_wt         93685 non-null   float64\n",
            " 7   num_eng                102746 non-null  float64\n",
            " 8   type_last_insp         99030 non-null   object \n",
            " 9   date_last_insp         83764 non-null   object \n",
            " 10  afm_hrs_last_insp      58888 non-null   float64\n",
            " 11  afm_hrs                84919 non-null   float64\n",
            " 12  type_fly               100532 non-null  object \n",
            " 13  dprt_apt_id            85958 non-null   object \n",
            " 14  dprt_city              88866 non-null   object \n",
            " 15  dprt_state             89162 non-null   object \n",
            " 16  dprt_time              94605 non-null   float64\n",
            " 17  dest_same_local        34112 non-null   object \n",
            " 18  dest_apt_id            71722 non-null   object \n",
            " 19  dest_city              74822 non-null   object \n",
            " 20  dest_state             75078 non-null   object \n",
            " 21  phase_flt_spec         51969 non-null   float64\n",
            " 22  afm_hrs_since          59743 non-null   object \n",
            " 23  rwy_num                77801 non-null   object \n",
            " 24  rwy_len                64245 non-null   float64\n",
            " 25  rwy_width              63263 non-null   float64\n",
            " 26  ifr_equipped_cert      104120 non-null  bool   \n",
            " 27  eng_no                 103670 non-null  float64\n",
            " 28  eng_type               103258 non-null  object \n",
            " 29  eng_mfgr               102470 non-null  object \n",
            " 30  hp_or_lbs              98580 non-null   object \n",
            " 31  carb_fuel_injection    86604 non-null   object \n",
            " 32  eng_time_total         51578 non-null   float64\n",
            " 33  eng_time_last_insp     51578 non-null   float64\n",
            " 34  ntsb_no                104120 non-null  object \n",
            " 35  ev_type                104120 non-null  object \n",
            " 36  ev_date                104120 non-null  object \n",
            " 37  ev_dow                 104120 non-null  object \n",
            " 38  ev_time                104035 non-null  float64\n",
            " 39  ev_city                104114 non-null  object \n",
            " 40  ev_state               103812 non-null  object \n",
            " 41  ev_year                104120 non-null  int64  \n",
            " 42  ev_month               104120 non-null  int64  \n",
            " 43  latitude               60230 non-null   object \n",
            " 44  longitude              60231 non-null   object \n",
            " 45  apt_name               72793 non-null   object \n",
            " 46  ev_nr_apt_id           69801 non-null   object \n",
            " 47  ev_nr_apt_loc          102547 non-null  object \n",
            " 48  apt_dist               87657 non-null   float64\n",
            " 49  apt_dir                46753 non-null   float64\n",
            " 50  apt_elev               74371 non-null   float64\n",
            " 51  wx_src_iic             102501 non-null  object \n",
            " 52  wx_obs_time            98591 non-null   float64\n",
            " 53  wx_obs_dir             101520 non-null  float64\n",
            " 54  wx_obs_fac_id          82383 non-null   object \n",
            " 55  wx_obs_elev            94869 non-null   float64\n",
            " 56  wx_obs_dist            101940 non-null  float64\n",
            " 57  light_cond             103997 non-null  object \n",
            " 58  sky_cond_nonceil       94823 non-null   object \n",
            " 59  sky_nonceil_ht         97868 non-null   float64\n",
            " 60  sky_ceil_ht            97549 non-null   float64\n",
            " 61  sky_cond_ceil          100149 non-null  object \n",
            " 62  vis_rvr                42792 non-null   float64\n",
            " 63  vis_sm                 102787 non-null  float64\n",
            " 64  wx_temp                100236 non-null  float64\n",
            " 65  wx_dew_pt              92593 non-null   float64\n",
            " 66  wind_dir_deg           102898 non-null  float64\n",
            " 67  wind_dir_ind           103617 non-null  object \n",
            " 68  wind_vel_kts           93150 non-null   float64\n",
            " 69  wind_vel_ind           104079 non-null  object \n",
            " 70  gust_ind               104100 non-null  object \n",
            " 71  gust_kts               96906 non-null   float64\n",
            " 72  altimeter              91137 non-null   float64\n",
            " 73  wx_dens_alt            19070 non-null   float64\n",
            " 74  wx_int_precip          42863 non-null   object \n",
            " 75  ev_highest_injury      104033 non-null  object \n",
            " 76  inj_tot_t              76097 non-null   float64\n",
            " 77  wx_cond_basic          104078 non-null  object \n",
            " 78  Cause_Factor           43521 non-null   object \n",
            " 79  crew_no                51448 non-null   float64\n",
            " 80  crew_category          50990 non-null   object \n",
            " 81  crew_age               49235 non-null   float64\n",
            " 82  crew_sex               37326 non-null   object \n",
            " 83  med_certf              48872 non-null   object \n",
            " 84  pilot_flying           103551 non-null  object \n",
            " 85  crew_inj_level         50327 non-null   object \n",
            "dtypes: bool(1), float64(33), int64(2), object(50)\n",
            "memory usage: 67.6+ MB\n"
          ]
        }
      ],
      "source": [
        "# setting pandas display options\n",
        "pd.set_option('display.max_rows', 150)\n",
        "\n",
        "# reading in NTSB csv file\n",
        "ntsb_raw = pd.read_csv(\"NTSB_for_cleaning_total.csv\", encoding='latin-1', low_memory=False)\n",
        "ntsb_raw = ntsb_raw.drop(['engines_ev_id', 'events_ev_id', 'Unnamed: 0'], axis=1)\n",
        "# view the dataframe info\n",
        "ntsb_raw.info()"
      ]
    },
    {
      "cell_type": "markdown",
      "source": [
        "### 2. Initial Drop"
      ],
      "metadata": {
        "id": "rTGB5OeKO5H7"
      },
      "id": "rTGB5OeKO5H7"
    },
    {
      "cell_type": "code",
      "source": [
        "# drop all records that do not have at least 50 columns worth of data in them\n",
        "ntsb_raw = ntsb_raw.dropna(thresh=50)"
      ],
      "metadata": {
        "id": "nQJJY6lK6hTa"
      },
      "id": "nQJJY6lK6hTa",
      "execution_count": 11,
      "outputs": []
    },
    {
      "cell_type": "code",
      "execution_count": 7,
      "id": "34c133ed",
      "metadata": {
        "id": "34c133ed",
        "outputId": "54b5ccc8-4c05-4c64-f4bd-c6923be1d0f1",
        "colab": {
          "base_uri": "https://localhost:8080/",
          "height": 300
        }
      },
      "outputs": [
        {
          "output_type": "execute_result",
          "data": {
            "text/plain": [
              "   aircraft_ev_id far_part flight_plan_activated damage acft_make acft_model  \\\n",
              "0  20001204X00000      135                   NaN   SUBS    Cessna        207   \n",
              "1  20001204X00004      135                   NaN   SUBS    Cessna        207   \n",
              "2  20001204X00005      091                   NaN   SUBS     Piper  PA-22-160   \n",
              "3  20001204X00006      091                   NaN   DEST     Beech        300   \n",
              "4  20001204X00007      091                   NaN   DEST     Piper  PA-28-181   \n",
              "\n",
              "   cert_max_gr_wt  num_eng type_last_insp date_last_insp  ...  inj_tot_t  \\\n",
              "0          3800.0      1.0           100H     12/16/1998  ...        1.0   \n",
              "1          3800.0      1.0           AAIP     12/14/1998  ...        NaN   \n",
              "2          1840.0      1.0           ANNL      3/14/1998  ...        NaN   \n",
              "3         14100.0      2.0           AAIP      1/14/1999  ...        2.0   \n",
              "4          2550.0      1.0            UNK            NaN  ...        1.0   \n",
              "\n",
              "   wx_cond_basic Cause_Factor crew_no crew_category crew_age  crew_sex  \\\n",
              "0            VMC          NaN     NaN           NaN      NaN       NaN   \n",
              "1            VMC          NaN     NaN           NaN      NaN       NaN   \n",
              "2            VMC          NaN     NaN           NaN      NaN       NaN   \n",
              "3            IMC          NaN     NaN           NaN      NaN       NaN   \n",
              "4            VMC          NaN     NaN           NaN      NaN       NaN   \n",
              "\n",
              "  med_certf pilot_flying crew_inj_level  \n",
              "0       NaN        False            NaN  \n",
              "1       NaN        False            NaN  \n",
              "2       NaN        False            NaN  \n",
              "3       NaN        False            NaN  \n",
              "4       NaN        False            NaN  \n",
              "\n",
              "[5 rows x 86 columns]"
            ],
            "text/html": [
              "\n",
              "  <div id=\"df-ab1a0cb6-8617-4978-85a8-5e7fbd053ebf\">\n",
              "    <div class=\"colab-df-container\">\n",
              "      <div>\n",
              "<style scoped>\n",
              "    .dataframe tbody tr th:only-of-type {\n",
              "        vertical-align: middle;\n",
              "    }\n",
              "\n",
              "    .dataframe tbody tr th {\n",
              "        vertical-align: top;\n",
              "    }\n",
              "\n",
              "    .dataframe thead th {\n",
              "        text-align: right;\n",
              "    }\n",
              "</style>\n",
              "<table border=\"1\" class=\"dataframe\">\n",
              "  <thead>\n",
              "    <tr style=\"text-align: right;\">\n",
              "      <th></th>\n",
              "      <th>aircraft_ev_id</th>\n",
              "      <th>far_part</th>\n",
              "      <th>flight_plan_activated</th>\n",
              "      <th>damage</th>\n",
              "      <th>acft_make</th>\n",
              "      <th>acft_model</th>\n",
              "      <th>cert_max_gr_wt</th>\n",
              "      <th>num_eng</th>\n",
              "      <th>type_last_insp</th>\n",
              "      <th>date_last_insp</th>\n",
              "      <th>...</th>\n",
              "      <th>inj_tot_t</th>\n",
              "      <th>wx_cond_basic</th>\n",
              "      <th>Cause_Factor</th>\n",
              "      <th>crew_no</th>\n",
              "      <th>crew_category</th>\n",
              "      <th>crew_age</th>\n",
              "      <th>crew_sex</th>\n",
              "      <th>med_certf</th>\n",
              "      <th>pilot_flying</th>\n",
              "      <th>crew_inj_level</th>\n",
              "    </tr>\n",
              "  </thead>\n",
              "  <tbody>\n",
              "    <tr>\n",
              "      <th>0</th>\n",
              "      <td>20001204X00000</td>\n",
              "      <td>135</td>\n",
              "      <td>NaN</td>\n",
              "      <td>SUBS</td>\n",
              "      <td>Cessna</td>\n",
              "      <td>207</td>\n",
              "      <td>3800.0</td>\n",
              "      <td>1.0</td>\n",
              "      <td>100H</td>\n",
              "      <td>12/16/1998</td>\n",
              "      <td>...</td>\n",
              "      <td>1.0</td>\n",
              "      <td>VMC</td>\n",
              "      <td>NaN</td>\n",
              "      <td>NaN</td>\n",
              "      <td>NaN</td>\n",
              "      <td>NaN</td>\n",
              "      <td>NaN</td>\n",
              "      <td>NaN</td>\n",
              "      <td>False</td>\n",
              "      <td>NaN</td>\n",
              "    </tr>\n",
              "    <tr>\n",
              "      <th>1</th>\n",
              "      <td>20001204X00004</td>\n",
              "      <td>135</td>\n",
              "      <td>NaN</td>\n",
              "      <td>SUBS</td>\n",
              "      <td>Cessna</td>\n",
              "      <td>207</td>\n",
              "      <td>3800.0</td>\n",
              "      <td>1.0</td>\n",
              "      <td>AAIP</td>\n",
              "      <td>12/14/1998</td>\n",
              "      <td>...</td>\n",
              "      <td>NaN</td>\n",
              "      <td>VMC</td>\n",
              "      <td>NaN</td>\n",
              "      <td>NaN</td>\n",
              "      <td>NaN</td>\n",
              "      <td>NaN</td>\n",
              "      <td>NaN</td>\n",
              "      <td>NaN</td>\n",
              "      <td>False</td>\n",
              "      <td>NaN</td>\n",
              "    </tr>\n",
              "    <tr>\n",
              "      <th>2</th>\n",
              "      <td>20001204X00005</td>\n",
              "      <td>091</td>\n",
              "      <td>NaN</td>\n",
              "      <td>SUBS</td>\n",
              "      <td>Piper</td>\n",
              "      <td>PA-22-160</td>\n",
              "      <td>1840.0</td>\n",
              "      <td>1.0</td>\n",
              "      <td>ANNL</td>\n",
              "      <td>3/14/1998</td>\n",
              "      <td>...</td>\n",
              "      <td>NaN</td>\n",
              "      <td>VMC</td>\n",
              "      <td>NaN</td>\n",
              "      <td>NaN</td>\n",
              "      <td>NaN</td>\n",
              "      <td>NaN</td>\n",
              "      <td>NaN</td>\n",
              "      <td>NaN</td>\n",
              "      <td>False</td>\n",
              "      <td>NaN</td>\n",
              "    </tr>\n",
              "    <tr>\n",
              "      <th>3</th>\n",
              "      <td>20001204X00006</td>\n",
              "      <td>091</td>\n",
              "      <td>NaN</td>\n",
              "      <td>DEST</td>\n",
              "      <td>Beech</td>\n",
              "      <td>300</td>\n",
              "      <td>14100.0</td>\n",
              "      <td>2.0</td>\n",
              "      <td>AAIP</td>\n",
              "      <td>1/14/1999</td>\n",
              "      <td>...</td>\n",
              "      <td>2.0</td>\n",
              "      <td>IMC</td>\n",
              "      <td>NaN</td>\n",
              "      <td>NaN</td>\n",
              "      <td>NaN</td>\n",
              "      <td>NaN</td>\n",
              "      <td>NaN</td>\n",
              "      <td>NaN</td>\n",
              "      <td>False</td>\n",
              "      <td>NaN</td>\n",
              "    </tr>\n",
              "    <tr>\n",
              "      <th>4</th>\n",
              "      <td>20001204X00007</td>\n",
              "      <td>091</td>\n",
              "      <td>NaN</td>\n",
              "      <td>DEST</td>\n",
              "      <td>Piper</td>\n",
              "      <td>PA-28-181</td>\n",
              "      <td>2550.0</td>\n",
              "      <td>1.0</td>\n",
              "      <td>UNK</td>\n",
              "      <td>NaN</td>\n",
              "      <td>...</td>\n",
              "      <td>1.0</td>\n",
              "      <td>VMC</td>\n",
              "      <td>NaN</td>\n",
              "      <td>NaN</td>\n",
              "      <td>NaN</td>\n",
              "      <td>NaN</td>\n",
              "      <td>NaN</td>\n",
              "      <td>NaN</td>\n",
              "      <td>False</td>\n",
              "      <td>NaN</td>\n",
              "    </tr>\n",
              "  </tbody>\n",
              "</table>\n",
              "<p>5 rows × 86 columns</p>\n",
              "</div>\n",
              "      <button class=\"colab-df-convert\" onclick=\"convertToInteractive('df-ab1a0cb6-8617-4978-85a8-5e7fbd053ebf')\"\n",
              "              title=\"Convert this dataframe to an interactive table.\"\n",
              "              style=\"display:none;\">\n",
              "        \n",
              "  <svg xmlns=\"http://www.w3.org/2000/svg\" height=\"24px\"viewBox=\"0 0 24 24\"\n",
              "       width=\"24px\">\n",
              "    <path d=\"M0 0h24v24H0V0z\" fill=\"none\"/>\n",
              "    <path d=\"M18.56 5.44l.94 2.06.94-2.06 2.06-.94-2.06-.94-.94-2.06-.94 2.06-2.06.94zm-11 1L8.5 8.5l.94-2.06 2.06-.94-2.06-.94L8.5 2.5l-.94 2.06-2.06.94zm10 10l.94 2.06.94-2.06 2.06-.94-2.06-.94-.94-2.06-.94 2.06-2.06.94z\"/><path d=\"M17.41 7.96l-1.37-1.37c-.4-.4-.92-.59-1.43-.59-.52 0-1.04.2-1.43.59L10.3 9.45l-7.72 7.72c-.78.78-.78 2.05 0 2.83L4 21.41c.39.39.9.59 1.41.59.51 0 1.02-.2 1.41-.59l7.78-7.78 2.81-2.81c.8-.78.8-2.07 0-2.86zM5.41 20L4 18.59l7.72-7.72 1.47 1.35L5.41 20z\"/>\n",
              "  </svg>\n",
              "      </button>\n",
              "      \n",
              "  <style>\n",
              "    .colab-df-container {\n",
              "      display:flex;\n",
              "      flex-wrap:wrap;\n",
              "      gap: 12px;\n",
              "    }\n",
              "\n",
              "    .colab-df-convert {\n",
              "      background-color: #E8F0FE;\n",
              "      border: none;\n",
              "      border-radius: 50%;\n",
              "      cursor: pointer;\n",
              "      display: none;\n",
              "      fill: #1967D2;\n",
              "      height: 32px;\n",
              "      padding: 0 0 0 0;\n",
              "      width: 32px;\n",
              "    }\n",
              "\n",
              "    .colab-df-convert:hover {\n",
              "      background-color: #E2EBFA;\n",
              "      box-shadow: 0px 1px 2px rgba(60, 64, 67, 0.3), 0px 1px 3px 1px rgba(60, 64, 67, 0.15);\n",
              "      fill: #174EA6;\n",
              "    }\n",
              "\n",
              "    [theme=dark] .colab-df-convert {\n",
              "      background-color: #3B4455;\n",
              "      fill: #D2E3FC;\n",
              "    }\n",
              "\n",
              "    [theme=dark] .colab-df-convert:hover {\n",
              "      background-color: #434B5C;\n",
              "      box-shadow: 0px 1px 3px 1px rgba(0, 0, 0, 0.15);\n",
              "      filter: drop-shadow(0px 1px 2px rgba(0, 0, 0, 0.3));\n",
              "      fill: #FFFFFF;\n",
              "    }\n",
              "  </style>\n",
              "\n",
              "      <script>\n",
              "        const buttonEl =\n",
              "          document.querySelector('#df-ab1a0cb6-8617-4978-85a8-5e7fbd053ebf button.colab-df-convert');\n",
              "        buttonEl.style.display =\n",
              "          google.colab.kernel.accessAllowed ? 'block' : 'none';\n",
              "\n",
              "        async function convertToInteractive(key) {\n",
              "          const element = document.querySelector('#df-ab1a0cb6-8617-4978-85a8-5e7fbd053ebf');\n",
              "          const dataTable =\n",
              "            await google.colab.kernel.invokeFunction('convertToInteractive',\n",
              "                                                     [key], {});\n",
              "          if (!dataTable) return;\n",
              "\n",
              "          const docLinkHtml = 'Like what you see? Visit the ' +\n",
              "            '<a target=\"_blank\" href=https://colab.research.google.com/notebooks/data_table.ipynb>data table notebook</a>'\n",
              "            + ' to learn more about interactive tables.';\n",
              "          element.innerHTML = '';\n",
              "          dataTable['output_type'] = 'display_data';\n",
              "          await google.colab.output.renderOutput(dataTable, element);\n",
              "          const docLink = document.createElement('div');\n",
              "          docLink.innerHTML = docLinkHtml;\n",
              "          element.appendChild(docLink);\n",
              "        }\n",
              "      </script>\n",
              "    </div>\n",
              "  </div>\n",
              "  "
            ]
          },
          "metadata": {},
          "execution_count": 7
        }
      ],
      "source": [
        "# view data\n",
        "ntsb_raw.head()"
      ]
    },
    {
      "cell_type": "code",
      "source": [
        "# drop any columns that have more than 40% null values\n",
        "total_rows = ntsb_raw.shape[0]\n",
        "\n",
        "def drop_cols(df, df_size):\n",
        "    # create a list of columns to drop\n",
        "    drop = []\n",
        "    # iterate over each column\n",
        "    for x in df.columns:\n",
        "        #determine if the ratio of nulls is greater than 30%\n",
        "        ratio = (df[x].isna().sum()) / df_size\n",
        "        if ratio > 0.5:\n",
        "            drop.append(x)\n",
        "    # drop the columns in the drop list\n",
        "    df.drop(labels=drop, axis=1)\n",
        "    print('Cols dropped from df:', drop)\n",
        "    return df\n",
        "\n",
        "ntsb_dropped_cols = drop_cols(ntsb_raw, total_rows)      \n"
      ],
      "metadata": {
        "colab": {
          "base_uri": "https://localhost:8080/"
        },
        "id": "vdxZW7P5_5i6",
        "outputId": "4c459d76-361b-475c-baad-215b09547712"
      },
      "id": "vdxZW7P5_5i6",
      "execution_count": 12,
      "outputs": [
        {
          "output_type": "stream",
          "name": "stdout",
          "text": [
            "Cols dropped from df: ['flight_plan_activated', 'dest_same_local', 'phase_flt_spec', 'eng_time_total', 'eng_time_last_insp', 'apt_dir', 'vis_rvr', 'wx_dens_alt', 'wx_int_precip', 'Cause_Factor', 'crew_no', 'crew_category', 'crew_age', 'crew_sex', 'med_certf', 'crew_inj_level']\n"
          ]
        }
      ]
    },
    {
      "cell_type": "code",
      "source": [
        "print(ntsb_dropped_cols.shape)"
      ],
      "metadata": {
        "colab": {
          "base_uri": "https://localhost:8080/"
        },
        "id": "n1YllzgSTVIS",
        "outputId": "851768b7-7eda-46ad-f4b1-2c3e9b72f901"
      },
      "id": "n1YllzgSTVIS",
      "execution_count": 40,
      "outputs": [
        {
          "output_type": "stream",
          "name": "stdout",
          "text": [
            "(104120, 86)\n"
          ]
        }
      ]
    },
    {
      "cell_type": "markdown",
      "source": [
        "## 3. Cleaning that applies to entire data set"
      ],
      "metadata": {
        "id": "u2TOQKAg5sI9"
      },
      "id": "u2TOQKAg5sI9"
    },
    {
      "cell_type": "code",
      "source": [
        "# need to delete duplicate records\n",
        "ntsb_dropped_cols = ntsb_dropped_cols.drop_duplicates(subset='aircraft_ev_id')"
      ],
      "metadata": {
        "id": "K7_euSXJ8h8R"
      },
      "id": "K7_euSXJ8h8R",
      "execution_count": 13,
      "outputs": []
    },
    {
      "cell_type": "code",
      "source": [
        "# function to initially clean up all strings in df\n",
        "def df_string_transform(df):\n",
        "    ''' \n",
        "    force all text data to lowercase and strip left and right side of strings\n",
        "    in all string columns\n",
        "\n",
        "    args: dataframe\n",
        "\n",
        "    returns: dataframe\n",
        "    '''\n",
        "    df1 = df.applymap(lambda x: x.lower() if type(x) == str else x)\n",
        "    df1 = df1.applymap(lambda x: x.strip() if type(x) == str else x)\n",
        "    return df1"
      ],
      "metadata": {
        "id": "F4-A27i55qay"
      },
      "id": "F4-A27i55qay",
      "execution_count": 14,
      "outputs": []
    },
    {
      "cell_type": "code",
      "source": [
        "# applying the funcrition from above\n",
        "ntsb_1 = df_string_transform(ntsb_dropped_cols)"
      ],
      "metadata": {
        "id": "2o7ipQWb_xaZ"
      },
      "id": "2o7ipQWb_xaZ",
      "execution_count": 15,
      "outputs": []
    },
    {
      "cell_type": "code",
      "source": [
        "print(ntsb_1.shape)"
      ],
      "metadata": {
        "id": "0fotg4op9YoS",
        "outputId": "80dd22be-8055-485e-a62b-acbae47a7bc3",
        "colab": {
          "base_uri": "https://localhost:8080/"
        }
      },
      "id": "0fotg4op9YoS",
      "execution_count": 44,
      "outputs": [
        {
          "output_type": "stream",
          "name": "stdout",
          "text": [
            "(61705, 86)\n"
          ]
        }
      ]
    },
    {
      "cell_type": "markdown",
      "source": [
        "**NOTE**: for section 3 use the dataframe `ntsb_1` for cleaning"
      ],
      "metadata": {
        "id": "loxHcDDkAGmS"
      },
      "id": "loxHcDDkAGmS"
    },
    {
      "cell_type": "markdown",
      "source": [
        "### 3. Cleaning Each Column"
      ],
      "metadata": {
        "id": "r1Kb9XWSO9YW"
      },
      "id": "r1Kb9XWSO9YW"
    },
    {
      "cell_type": "code",
      "source": [
        "# function to show all the metrics you will want to see for each column\n",
        "def col_metrics(df, col='none'):\n",
        "  print('Unique data: ', df[col].unique())\n",
        "  print('Value counts: ', df[col].value_counts())\n",
        "  print('Total nulls: ', df[col].isna().sum())\n",
        "  print('Data type: ', df[col].dtypes)"
      ],
      "metadata": {
        "id": "L5bOiUp6PSBx"
      },
      "id": "L5bOiUp6PSBx",
      "execution_count": 16,
      "outputs": []
    },
    {
      "cell_type": "markdown",
      "source": [
        "### HUNTER'S SECTION"
      ],
      "metadata": {
        "id": "OpIxqub26j2I"
      },
      "id": "OpIxqub26j2I"
    },
    {
      "cell_type": "code",
      "source": [
        "# column 1: far part\n",
        "col_metrics(ntsb_1, col='far_part')      \n",
        "\n",
        "# making a copy of the data set as ntsb_1\n",
        "ntsb_1 = pd.DataFrame.copy(ntsb_1)\n",
        "\n",
        "# remove the K and F from part 091\n",
        "ntsb_1['far_part'] = ntsb_1['far_part'].str.replace('k', '').str.replace('f', '').str.replace('arm', '091')\n",
        "print(ntsb_1['far_part'].unique())"
      ],
      "metadata": {
        "colab": {
          "base_uri": "https://localhost:8080/"
        },
        "id": "37MrEvJ2P688",
        "outputId": "708e8a48-94c6-456a-81e9-4609df2faf79"
      },
      "id": "37MrEvJ2P688",
      "execution_count": null,
      "outputs": [
        {
          "output_type": "stream",
          "name": "stdout",
          "text": [
            "Unique data:  ['135' '091' '137' '103' 'armf' '091f' '091k' '437']\n",
            "Value counts:  091     55126\n",
            "137      3407\n",
            "135      2988\n",
            "103       130\n",
            "091f       35\n",
            "091k       12\n",
            "armf        6\n",
            "437         1\n",
            "Name: far_part, dtype: int64\n",
            "Total nulls:  0\n",
            "Data type:  object\n",
            "['135' '091' '137' '103' '437']\n"
          ]
        }
      ]
    },
    {
      "cell_type": "code",
      "source": [
        "# column 2: 'flight_plan_activated'\n",
        "col_metrics(ntsb_1, 'flight_plan_activated')\n",
        "\n",
        "# dropping this column, too many nulls, and filing a flight plan is superfluous \n",
        "#because you can file in flight or you can use flight following\n",
        "ntsb_1 = ntsb_1.drop(['flight_plan_activated'], axis=1)"
      ],
      "metadata": {
        "colab": {
          "base_uri": "https://localhost:8080/"
        },
        "id": "crGb15IhQMQ1",
        "outputId": "e1dfe7e3-89f8-4ce1-baf3-db1abeab1700"
      },
      "id": "crGb15IhQMQ1",
      "execution_count": null,
      "outputs": [
        {
          "output_type": "stream",
          "name": "stdout",
          "text": [
            "Unique data:  [nan 'y' 'n' 'u']\n",
            "Value counts:  n    12307\n",
            "y     3188\n",
            "u      354\n",
            "Name: flight_plan_activated, dtype: int64\n",
            "Total nulls:  45856\n",
            "Data type:  object\n"
          ]
        }
      ]
    },
    {
      "cell_type": "code",
      "source": [
        "# column 3: 'damage'\n",
        "col_metrics(ntsb_1, 'damage')\n",
        "\n",
        "# change the unk to none\n",
        "ntsb_1['damage'] = ntsb_1['damage'].str.replace('unk', 'none')\n",
        "# drop the 491 rows that do not have a damage listing\n",
        "ntsb_1 = ntsb_1.dropna(subset='damage')\n",
        "print('final null count:', ntsb_1['damage'].isna().sum())"
      ],
      "metadata": {
        "colab": {
          "base_uri": "https://localhost:8080/"
        },
        "id": "6T_xO3v1W-aS",
        "outputId": "e3e3c266-07a0-4a23-bfff-9d275b1c4dad"
      },
      "id": "6T_xO3v1W-aS",
      "execution_count": null,
      "outputs": [
        {
          "output_type": "stream",
          "name": "stdout",
          "text": [
            "Unique data:  ['subs' 'dest' 'none' 'minr' 'unk' nan]\n",
            "Value counts:  subs    46690\n",
            "dest    13612\n",
            "minr      963\n",
            "none      330\n",
            "unk         9\n",
            "Name: damage, dtype: int64\n",
            "Total nulls:  101\n",
            "Data type:  object\n",
            "final null count: 0\n"
          ]
        }
      ]
    },
    {
      "cell_type": "code",
      "source": [
        "# column 4: 'acft_make'\n",
        "col_metrics(ntsb_1, 'acft_make')\n",
        "\n",
        "# there are 6 rosw with nulls, will drop those\n",
        "ntsb_1 = ntsb_1.dropna(subset=['acft_make'])\n",
        "print(ntsb_1['acft_make'].isna().sum())"
      ],
      "metadata": {
        "colab": {
          "base_uri": "https://localhost:8080/"
        },
        "id": "AnYv7U0wXZK1",
        "outputId": "d8b50344-9b91-480e-cbcb-d9e205c9dc16"
      },
      "id": "AnYv7U0wXZK1",
      "execution_count": null,
      "outputs": [
        {
          "output_type": "stream",
          "name": "stdout",
          "text": [
            "Unique data:  ['cessna' 'piper' 'beech' ... 'gerald nelson' 'gonzalez manuel a'\n",
            " 'harris-runyan']\n",
            "Value counts:  cessna             21141\n",
            "piper              11468\n",
            "beech               4212\n",
            "bell                1513\n",
            "mooney              1073\n",
            "                   ...  \n",
            "quinn aviation         1\n",
            "larry robbins          1\n",
            "polliwagen inc.        1\n",
            "woolsey                1\n",
            "harris-runyan          1\n",
            "Name: acft_make, Length: 5657, dtype: int64\n",
            "Total nulls:  10\n",
            "Data type:  object\n",
            "0\n"
          ]
        }
      ]
    },
    {
      "cell_type": "code",
      "source": [
        "#if an aircraft make is not in the top 30, it will be categorized as other. \n",
        "acft_top_20 = ntsb_1['acft_make'].value_counts()[0:30].index.tolist()\n",
        "\n",
        "ntsb_1['acft_make'] = ntsb_1['acft_make'].map(lambda x: 'other_make' if x not in acft_top_20 else x)\n",
        "\n",
        "print(ntsb_1['acft_make'].value_counts())"
      ],
      "metadata": {
        "id": "CB7L4OyH5Toc",
        "outputId": "1338e7aa-a614-402a-aaab-797843e91df8",
        "colab": {
          "base_uri": "https://localhost:8080/"
        }
      },
      "id": "CB7L4OyH5Toc",
      "execution_count": null,
      "outputs": [
        {
          "output_type": "stream",
          "name": "stdout",
          "text": [
            "cessna            21141\n",
            "other_make        15091\n",
            "piper             11468\n",
            "beech              4212\n",
            "bell               1513\n",
            "mooney             1073\n",
            "grumman             922\n",
            "bellanca            860\n",
            "robinson            602\n",
            "hughes              571\n",
            "schweizer           522\n",
            "aeronca             487\n",
            "maule               442\n",
            "champion            394\n",
            "air tractor         389\n",
            "stinson             336\n",
            "boeing              332\n",
            "luscombe            327\n",
            "aero commander      319\n",
            "taylorcraft         300\n",
            "north american      293\n",
            "Name: acft_make, dtype: int64\n"
          ]
        }
      ]
    },
    {
      "cell_type": "code",
      "source": [
        "# column 5: 'acft_model'\n",
        "col_metrics(ntsb_1, 'acft_model')\n",
        "\n",
        "# drop the 5 rows that have nulls\n",
        "ntsb_1 = ntsb_1.dropna(subset=['acft_model'])"
      ],
      "metadata": {
        "id": "AozNgVfCcgrX",
        "outputId": "c292898b-dd05-42ae-bb1a-4121c57293ee",
        "colab": {
          "base_uri": "https://localhost:8080/"
        }
      },
      "id": "AozNgVfCcgrX",
      "execution_count": null,
      "outputs": [
        {
          "output_type": "stream",
          "name": "stdout",
          "text": [
            "Unique data:  ['207' 'pa-22-160' '300' ... 'rv 7' 'f4u 5' 'skybolt 300']\n",
            "Value counts:  152            2014\n",
            "172            1091\n",
            "172n            967\n",
            "pa-28-140       810\n",
            "172m            672\n",
            "               ... \n",
            "m6235             1\n",
            "j-3br503          1\n",
            "a-98              1\n",
            "vega-1            1\n",
            "skybolt 300       1\n",
            "Name: acft_model, Length: 8264, dtype: int64\n",
            "Total nulls:  21\n",
            "Data type:  object\n"
          ]
        }
      ]
    },
    {
      "cell_type": "code",
      "source": [
        "# column 5\n",
        "\n",
        "# remove the letters off the cessna model\n",
        "pattern = r'\\d\\d\\d\\w'\n",
        "ntsb_1['acft_model'] = ntsb_1['acft_model'].map(lambda x: re.sub(pattern, lambda match: match.group()[:-1], x))\n",
        "print(ntsb_1['acft_model'].value_counts())\n",
        "\n",
        "#if an aircraft make is not in the top 30, it will be categorized as other. \n",
        "model_top_30 = ntsb_1['acft_model'].value_counts()[0:30].index.tolist()\n",
        "\n",
        "# change the model names to 'other_model' if not in the top 30\n",
        "ntsb_1['acft_model'] = ntsb_1['acft_model'].map(lambda x: 'other_model' if x not in model_top_30 else x)"
      ],
      "metadata": {
        "id": "2mAwljGnBp79",
        "outputId": "0b280516-51b9-4aec-b007-3788a2cee946",
        "colab": {
          "base_uri": "https://localhost:8080/"
        }
      },
      "id": "2mAwljGnBp79",
      "execution_count": null,
      "outputs": [
        {
          "output_type": "stream",
          "name": "stdout",
          "text": [
            "172                  4756\n",
            "150                  2658\n",
            "152                  2030\n",
            "182                  1995\n",
            "pa-28-140             830\n",
            "                     ... \n",
            "type 43 series 3f       1\n",
            "7gca                    1\n",
            "22/20                   1\n",
            "a152erobat              1\n",
            "skybolt 300             1\n",
            "Name: acft_model, Length: 7653, dtype: int64\n",
            "other_model    38441\n",
            "172             4756\n",
            "150             2658\n",
            "152             2030\n",
            "182             1995\n",
            "pa-28-140        830\n",
            "180              771\n",
            "g-164            763\n",
            "t210             629\n",
            "210              592\n",
            "206              581\n",
            "170              543\n",
            "pa-28-180        498\n",
            "pa-28-161        486\n",
            "310              462\n",
            "pa-28-181        439\n",
            "pa-18-150        427\n",
            "pa-38-112        426\n",
            "177              406\n",
            "pa-18            397\n",
            "269              393\n",
            "a36              359\n",
            "140              347\n",
            "185              340\n",
            "pa-32-300        314\n",
            "pa-24-250        313\n",
            "pa-28r-200       292\n",
            "a188             282\n",
            "a185             282\n",
            "421              265\n",
            "pa-34-200        256\n",
            "Name: acft_model, dtype: int64\n"
          ]
        }
      ]
    },
    {
      "cell_type": "code",
      "source": [
        "# column 6: 'cert_max_gr_wt'\n",
        "col_metrics(ntsb_1, 'cert_max_gr_wt')\n",
        "print(ntsb_1['cert_max_gr_wt'].max(), ntsb_1['cert_max_gr_wt'].min())\n",
        "\n",
        "def weight_bins(df, col):\n",
        "    avg_wt = sum(list(df[col])) / len(list(df[col]))\n",
        "    wt_cat = []\n",
        "    for x in list(df[col]):\n",
        "        if x <= 12500:\n",
        "            x = 'small'\n",
        "            wt_cat.append(x)\n",
        "        elif x > 12500 and x < 41000:\n",
        "            x = 'medium'\n",
        "            wt_cat.append(x)\n",
        "        elif x == 'nan':\n",
        "            if avg_wt <=12500:\n",
        "                x = 'small'\n",
        "                wt_cat.append(x)\n",
        "            elif avg_wt > 12500 and x < 41000:\n",
        "                x = 'medium'\n",
        "                wt_cat.append(x)\n",
        "            else:\n",
        "                x = 'large commuter'\n",
        "                wt_cat.append(x)\n",
        "        else:\n",
        "            x = 'large commuter'\n",
        "            wt_cat.append(x)\n",
        "    df[col] = wt_cat\n",
        "    return df[col]"
      ],
      "metadata": {
        "id": "rnEhue0Ocw0W",
        "outputId": "d8bd62ea-06a6-43cd-c00b-5d2b7508f8a0",
        "colab": {
          "base_uri": "https://localhost:8080/"
        }
      },
      "id": "rnEhue0Ocw0W",
      "execution_count": null,
      "outputs": [
        {
          "output_type": "stream",
          "name": "stdout",
          "text": [
            "Unique data:  [ 3800.  1840. 14100. ... 21419.  2497.  2251.]\n",
            "Value counts:  1600.0     2757\n",
            "2300.0     2709\n",
            "1670.0     2301\n",
            "3600.0     1605\n",
            "2150.0     1592\n",
            "           ... \n",
            "2256.0        1\n",
            "4808.0        1\n",
            "3470.0        1\n",
            "38500.0       1\n",
            "2251.0        1\n",
            "Name: cert_max_gr_wt, Length: 2245, dtype: int64\n",
            "Total nulls:  3410\n",
            "Data type:  float64\n",
            "882000.0 -3100.0\n"
          ]
        }
      ]
    },
    {
      "cell_type": "code",
      "source": [
        "# use the bin function to assign categories to weight classes\n",
        "ntsb_1['cert_max_gr_wt'] = weight_bins(ntsb_1, 'cert_max_gr_wt')"
      ],
      "metadata": {
        "id": "TgIjDAO1g4WQ"
      },
      "id": "TgIjDAO1g4WQ",
      "execution_count": null,
      "outputs": []
    },
    {
      "cell_type": "code",
      "source": [
        "# column 7: 'num_eng'\n",
        "col_metrics(ntsb_1, 'num_eng')\n",
        "\n",
        "# convert the float to int and then impute the nulls with the median\n",
        "ntsb_1['num_eng'] = ntsb_1['num_eng']."
      ],
      "metadata": {
        "id": "DYFgOLsAIupJ",
        "outputId": "7d394ca2-9e58-4f91-e735-3b24b3088a13",
        "colab": {
          "base_uri": "https://localhost:8080/"
        }
      },
      "id": "DYFgOLsAIupJ",
      "execution_count": null,
      "outputs": [
        {
          "output_type": "stream",
          "name": "stdout",
          "text": [
            "Unique data:  [ 1.  2. nan  3.  4.  0.]\n",
            "Value counts:  1.0    53194\n",
            "2.0     7049\n",
            "0.0      642\n",
            "4.0       58\n",
            "3.0       31\n",
            "Name: num_eng, dtype: int64\n",
            "Total nulls:  599\n",
            "Data type:  float64\n"
          ]
        }
      ]
    },
    {
      "cell_type": "markdown",
      "source": [
        "## KATHLEEN'S SECITON"
      ],
      "metadata": {
        "id": "Ylh4gVLz6tEj"
      },
      "id": "Ylh4gVLz6tEj"
    },
    {
      "cell_type": "code",
      "source": [
        "ntsb_2 = weight_bins(ntsb_1, 'cert_max_gr_wt')"
      ],
      "metadata": {
        "id": "J4tPa8D0f-vf"
      },
      "id": "J4tPa8D0f-vf",
      "execution_count": null,
      "outputs": []
    },
    {
      "cell_type": "code",
      "source": [
        "ntsb_2['cert_max_gr_wt']"
      ],
      "metadata": {
        "id": "egQyee5RgNOO",
        "outputId": "24f274e1-ce2d-443f-b238-e895f9d41202",
        "colab": {
          "base_uri": "https://localhost:8080/"
        }
      },
      "id": "egQyee5RgNOO",
      "execution_count": null,
      "outputs": [
        {
          "output_type": "execute_result",
          "data": {
            "text/plain": [
              "0        14100.0\n",
              "1         6000.0\n",
              "2         5300.0\n",
              "3         5121.0\n",
              "4         4300.0\n",
              "          ...   \n",
              "58683        NaN\n",
              "58684        NaN\n",
              "58685        NaN\n",
              "58686        NaN\n",
              "58687        NaN\n",
              "Name: cert_max_gr_wt, Length: 58677, dtype: float64"
            ]
          },
          "metadata": {},
          "execution_count": 116
        }
      ]
    },
    {
      "cell_type": "code",
      "source": [
        "ntsb_1.columns"
      ],
      "metadata": {
        "colab": {
          "base_uri": "https://localhost:8080/"
        },
        "id": "h4wOM4VaQSO4",
        "outputId": "fad199cc-fd59-4e8e-aa13-a7ed47fa25d4"
      },
      "id": "h4wOM4VaQSO4",
      "execution_count": 18,
      "outputs": [
        {
          "output_type": "execute_result",
          "data": {
            "text/plain": [
              "Index(['aircraft_ev_id', 'far_part', 'flight_plan_activated', 'damage',\n",
              "       'acft_make', 'acft_model', 'cert_max_gr_wt', 'num_eng',\n",
              "       'type_last_insp', 'date_last_insp', 'afm_hrs_last_insp', 'afm_hrs',\n",
              "       'type_fly', 'dprt_apt_id', 'dprt_city', 'dprt_state', 'dprt_time',\n",
              "       'dest_same_local', 'dest_apt_id', 'dest_city', 'dest_state',\n",
              "       'phase_flt_spec', 'afm_hrs_since', 'rwy_num', 'rwy_len', 'rwy_width',\n",
              "       'ifr_equipped_cert', 'eng_no', 'eng_type', 'eng_mfgr', 'hp_or_lbs',\n",
              "       'carb_fuel_injection', 'eng_time_total', 'eng_time_last_insp',\n",
              "       'ntsb_no', 'ev_type', 'ev_date', 'ev_dow', 'ev_time', 'ev_city',\n",
              "       'ev_state', 'ev_year', 'ev_month', 'latitude', 'longitude', 'apt_name',\n",
              "       'ev_nr_apt_id', 'ev_nr_apt_loc', 'apt_dist', 'apt_dir', 'apt_elev',\n",
              "       'wx_src_iic', 'wx_obs_time', 'wx_obs_dir', 'wx_obs_fac_id',\n",
              "       'wx_obs_elev', 'wx_obs_dist', 'light_cond', 'sky_cond_nonceil',\n",
              "       'sky_nonceil_ht', 'sky_ceil_ht', 'sky_cond_ceil', 'vis_rvr', 'vis_sm',\n",
              "       'wx_temp', 'wx_dew_pt', 'wind_dir_deg', 'wind_dir_ind', 'wind_vel_kts',\n",
              "       'wind_vel_ind', 'gust_ind', 'gust_kts', 'altimeter', 'wx_dens_alt',\n",
              "       'wx_int_precip', 'ev_highest_injury', 'inj_tot_t', 'wx_cond_basic',\n",
              "       'Cause_Factor', 'crew_no', 'crew_category', 'crew_age', 'crew_sex',\n",
              "       'med_certf', 'pilot_flying', 'crew_inj_level'],\n",
              "      dtype='object')"
            ]
          },
          "metadata": {},
          "execution_count": 18
        }
      ]
    },
    {
      "cell_type": "code",
      "source": [],
      "metadata": {
        "id": "2QQBG-CNcgGn"
      },
      "id": "2QQBG-CNcgGn",
      "execution_count": null,
      "outputs": []
    },
    {
      "cell_type": "code",
      "source": [
        "#ntsb_raw = ntsb_raw.loc[:, ~ntsb_raw.columns.str.contains('^Unnamed')]"
      ],
      "metadata": {
        "id": "yk3SwxVa4wEN"
      },
      "id": "yk3SwxVa4wEN",
      "execution_count": null,
      "outputs": []
    },
    {
      "cell_type": "code",
      "source": [
        "#print(ntsb_raw['damage'].unique())"
      ],
      "metadata": {
        "id": "TQmkj6uh5G3F"
      },
      "id": "TQmkj6uh5G3F",
      "execution_count": null,
      "outputs": []
    },
    {
      "cell_type": "code",
      "source": [
        "#print(ntsb_raw['type_last_insp'].unique())"
      ],
      "metadata": {
        "id": "9Jr5E289Apz8"
      },
      "id": "9Jr5E289Apz8",
      "execution_count": null,
      "outputs": []
    },
    {
      "cell_type": "code",
      "source": [
        "#ntsb_rv1 = ntsb_raw.dropna(axis=1, how='all')\n",
        "#removed one column\n",
        "#ntsb_rv1.describe(include='all') "
      ],
      "metadata": {
        "id": "YReUMyqoA8bj"
      },
      "id": "YReUMyqoA8bj",
      "execution_count": null,
      "outputs": []
    },
    {
      "cell_type": "code",
      "source": [
        "#ntsb_rv1.info()"
      ],
      "metadata": {
        "id": "LX-uJyLZKmmD"
      },
      "id": "LX-uJyLZKmmD",
      "execution_count": null,
      "outputs": []
    },
    {
      "cell_type": "code",
      "execution_count": null,
      "id": "807a4fff",
      "metadata": {
        "id": "807a4fff"
      },
      "outputs": [],
      "source": [
        "\n",
        "#print(ntsb_rv1.dtypes)"
      ]
    },
    {
      "cell_type": "code",
      "source": [],
      "metadata": {
        "id": "V8Si_eH3C_Ec"
      },
      "id": "V8Si_eH3C_Ec",
      "execution_count": null,
      "outputs": []
    },
    {
      "cell_type": "code",
      "execution_count": null,
      "id": "279acfc2",
      "metadata": {
        "id": "279acfc2"
      },
      "outputs": [],
      "source": [
        "#ntsb_rv1.head()"
      ]
    },
    {
      "cell_type": "code",
      "execution_count": null,
      "id": "fa8062b1",
      "metadata": {
        "id": "fa8062b1"
      },
      "outputs": [],
      "source": [
        "#print(ntsb_rv1[['ev_time']].to_string(index=False)) "
      ]
    },
    {
      "cell_type": "code",
      "source": [
        "#ntsb_rv1['ev_time'] = pd.to_numeric(ntsb_rv1['ev_time'])"
      ],
      "metadata": {
        "id": "_DBx9GeZFXzE"
      },
      "id": "_DBx9GeZFXzE",
      "execution_count": null,
      "outputs": []
    },
    {
      "cell_type": "code",
      "source": [
        "#import numpy as np\n",
        "#ntsb_rv1['ev_time'] = ntsb_rv1['ev_time'].astype(np.int64)"
      ],
      "metadata": {
        "id": "MoLLvQRwHWlQ"
      },
      "id": "MoLLvQRwHWlQ",
      "execution_count": null,
      "outputs": []
    },
    {
      "cell_type": "code",
      "source": [
        "#nan_count = ntsb_rv1['ev_time'].isna().sum()\n",
        "#print(nan_count)"
      ],
      "metadata": {
        "id": "QXkeVIS6J0la"
      },
      "id": "QXkeVIS6J0la",
      "execution_count": null,
      "outputs": []
    },
    {
      "cell_type": "code",
      "source": [
        "#print((ntsb_rv1['ev_time'] == 'NaN').sum())"
      ],
      "metadata": {
        "id": "UrhcSnteO6ei"
      },
      "id": "UrhcSnteO6ei",
      "execution_count": null,
      "outputs": []
    },
    {
      "cell_type": "code",
      "source": [
        "#adding leading zeros for military time format\n",
        "#ntsb_rv1['ev_time'] = ntsb_rv1['ev_time'].apply(lambda x: '{0:0>4}'.format(x))\n",
        "#print(ntsb_rv1[['ev_time']].to_string(index=False)) \n"
      ],
      "metadata": {
        "id": "O_BAhTeFEkOx"
      },
      "id": "O_BAhTeFEkOx",
      "execution_count": null,
      "outputs": []
    },
    {
      "cell_type": "code",
      "source": [
        "#ntsb_rv1['ev_time'] = pd.to_datetime(ntsb_rv1['ev_time'], format = '%H%m')"
      ],
      "metadata": {
        "id": "8J6O-sUkNHaa"
      },
      "id": "8J6O-sUkNHaa",
      "execution_count": null,
      "outputs": []
    },
    {
      "cell_type": "code",
      "execution_count": null,
      "id": "5b157944",
      "metadata": {
        "id": "5b157944"
      },
      "outputs": [],
      "source": [
        "#pd.options.mode.chained_assignment = None  # default='warn'"
      ]
    },
    {
      "cell_type": "code",
      "execution_count": null,
      "id": "db2ef208",
      "metadata": {
        "id": "db2ef208"
      },
      "outputs": [],
      "source": [
        "#ntsb_rv1['date_last_insp'] =  pd.to_datetime(ntsb_rv1['date_last_insp'], infer_datetime_format=True)\n"
      ]
    },
    {
      "cell_type": "code",
      "execution_count": null,
      "id": "3dada3ea",
      "metadata": {
        "id": "3dada3ea"
      },
      "outputs": [],
      "source": [
        "#ntsb_rv2= ntsb_rv1.drop(['Aircraft_Key'], axis=1)"
      ]
    },
    {
      "cell_type": "code",
      "execution_count": null,
      "id": "f97634f5",
      "metadata": {
        "id": "f97634f5"
      },
      "outputs": [],
      "source": [
        "#print(ntsb_rv1.dtypes)"
      ]
    },
    {
      "cell_type": "code",
      "execution_count": null,
      "id": "6a9d8172",
      "metadata": {
        "id": "6a9d8172"
      },
      "outputs": [],
      "source": [
        "#ntsb_rv1['wx_obs_time'] =  pd.to_datetime(ntsb_rv1['wx_obs_time'], format = \"%H%M\")"
      ]
    },
    {
      "cell_type": "code",
      "execution_count": null,
      "id": "f1a856eb",
      "metadata": {
        "id": "f1a856eb"
      },
      "outputs": [],
      "source": []
    },
    {
      "cell_type": "code",
      "execution_count": null,
      "id": "ae3c953d",
      "metadata": {
        "id": "ae3c953d"
      },
      "outputs": [],
      "source": []
    },
    {
      "cell_type": "code",
      "execution_count": null,
      "id": "fe2af50d",
      "metadata": {
        "id": "fe2af50d"
      },
      "outputs": [],
      "source": []
    },
    {
      "cell_type": "code",
      "execution_count": null,
      "id": "ab47c40e",
      "metadata": {
        "id": "ab47c40e"
      },
      "outputs": [],
      "source": [
        "#Walkthrough at https://inria.github.io/scikit-learn-mooc/python_scripts/03_categorical_pipeline_column_transformer.html\n",
        "#preprocessing different for categorical vs numerical columns\n",
        "\n",
        "from sklearn.compose import make_column_selector as selector\n",
        "\n",
        "numerical_columns_selector = selector(dtype_exclude=object)\n",
        "categorical_columns_selector = selector(dtype_include=object)\n",
        "\n",
        "numerical_columns = numerical_columns_selector(ntsb_raw)\n",
        "categorical_columns = categorical_columns_selector(ntsb_raw)"
      ]
    },
    {
      "cell_type": "code",
      "execution_count": null,
      "id": "cb39bd90",
      "metadata": {
        "id": "cb39bd90"
      },
      "outputs": [],
      "source": [
        "## Starting cleaning, columns 23-45\n",
        "\n",
        "\n",
        "# function to show all the metrics you will want to see for each column\n",
        "#def col_metrics(df, col='none'):\n",
        "#  print('Unique data: ', df[col].unique())\n",
        "#  print('Value counts: ', df[col].value_counts())\n",
        "#  print('Total nulls: ', df[col].isna().sum())\n",
        "#  print('Data type: ', df[col].dtypes)\n",
        "\n",
        "#work with df ntsb_1"
      ]
    },
    {
      "cell_type": "code",
      "execution_count": 11,
      "id": "69760fc9",
      "metadata": {
        "id": "69760fc9",
        "colab": {
          "base_uri": "https://localhost:8080/"
        },
        "outputId": "bb4a4e79-5b9a-4922-c6ce-688f19448bbc"
      },
      "outputs": [
        {
          "output_type": "stream",
          "name": "stdout",
          "text": [
            "Index(['rwy_num', 'rwy_len', 'rwy_width', 'ifr_equipped_cert', 'eng_no',\n",
            "       'eng_type', 'eng_mfgr', 'hp_or_lbs', 'carb_fuel_injection',\n",
            "       'eng_time_total', 'eng_time_last_insp', 'ntsb_no', 'ev_type', 'ev_date',\n",
            "       'ev_dow', 'ev_time', 'ev_city', 'ev_state', 'ev_year', 'ev_month',\n",
            "       'latitude', 'longitude', 'apt_name'],\n",
            "      dtype='object')\n"
          ]
        }
      ],
      "source": [
        "#print(df.columns[2])\n",
        "col_list = ntsb_1.columns[23:46]\n",
        "print(col_list)"
      ]
    },
    {
      "cell_type": "code",
      "source": [
        "# Listing metrics for all assigned columns \n",
        "\n",
        "for col in col_list:\n",
        "  print(ntsb_1[col].name)\n",
        "  col_metrics(ntsb_1, col) "
      ],
      "metadata": {
        "id": "QnvnD-iRAgVp",
        "colab": {
          "base_uri": "https://localhost:8080/"
        },
        "outputId": "0add7e1e-b87a-47a0-dae8-fb4483037cf1"
      },
      "id": "QnvnD-iRAgVp",
      "execution_count": 12,
      "outputs": [
        {
          "output_type": "stream",
          "name": "stdout",
          "text": [
            "rwy_num\n",
            "Unique data:  ['0' '14' '31' '20' '36' '18' '32' '27' '35' '16' '26r' '19' '28' '4r'\n",
            " '17' '34' '22' '28l' '15l' '11r' '17l' '13' '24' '10l' '9' '30r' '4' '15'\n",
            " '29' '26' '16r' '21r' '3' '9r' '25' '33' '1' '1r' '5r' '7' '12' '3r' '5'\n",
            " '30' '29r' '11' '21' '8' '10' '23' '19l' '2' '28r' '6' '36r' '26l' '14r'\n",
            " '17r' '19r' '25r' '27r' '35r' '12r' '6l' '8r' '22l' '9l' '2l' '18r' '1l'\n",
            " '32r' '36l' '34r' '29l' '31r' '22g' '27l' '20r' '11l' '8l' '22r' '34l'\n",
            " '6r' '16l' '4l' '23r' '5l' '18l' '20l' '7r' '13l' '13r' '31l' '25l' '24r'\n",
            " '23l' '24l' '35l' '21l' '30l' '12l' '20c' '7l' '33l' '30c' '36c' '32l'\n",
            " '23c' '17c' '3l' nan '3c' '2r' '33r' '15r' '10r' '360' '14l' '31c' '190'\n",
            " '9c' '250' '01' '02' '067' '09' '09r' '05' '2c' '310' '06' '0r' '00'\n",
            " '202' '08' '61' '04' '220' 'nw' '03' '315' '07' 'unk' '090' 'h1' '210'\n",
            " '160' '7u' '040' '080' '27u' '270' '180' '055' '350' '070' '030' '010'\n",
            " '01l' '050' 's' '09l' '5r7' '135' 'afo' 'gif' 'emm' '280' '110' '290'\n",
            " '2/8' '240' '320' '340' '020' '04r' '260' '08r' '34t' '04l' '120' '3 r'\n",
            " 'c' 'n' '40' 'vgt' 'n/s' '130' '08l' '509' '170' '330' '230' '060' '035'\n",
            " '100' '150' 'non' '045' '01r' '200' '80' '07l' '000' 'trm' '06r' 'hka'\n",
            " '022' 'te9' '17w' 'h' '03l' '02l' '05r' '12g' '075' '8g' '09/2' '04/2'\n",
            " '05/2' '12/3' '14/3' '07/2' '03/2' '08/2' '15/3' '10/2' '11/2' '16/3'\n",
            " '18/3' '10r/' '17/3' '18r/' '02/2' '18 /' '5/23' 'e' '09c' '03r' '06l'\n",
            " '07r' '9 r' '27c' '05l' '02r' 'h2' '16c' 'none' '02c' '99' '13w' 'pvt'\n",
            " 'w' '225' '9/27' 'se' '4w' '7/25' 'e/w' '16s' '07s' 'ne' '28c' 'sw'\n",
            " 'west' '1/19' '34s' '22s']\n",
            "Value counts:  0      19899\n",
            "18      1988\n",
            "27      1787\n",
            "36      1703\n",
            "17      1516\n",
            "       ...  \n",
            "100        1\n",
            "035        1\n",
            "330        1\n",
            "170        1\n",
            "22s        1\n",
            "Name: rwy_num, Length: 267, dtype: int64\n",
            "Total nulls:  8611\n",
            "Data type:  object\n",
            "rwy_len\n",
            "Unique data:  [  nan 2610. 2200. ... 8610. 3354. 2141.]\n",
            "Value counts:  0.0       6809\n",
            "5000.0    1360\n",
            "3000.0    1206\n",
            "4000.0    1061\n",
            "2500.0     670\n",
            "          ... \n",
            "5275.0       1\n",
            "3367.0       1\n",
            "6411.0       1\n",
            "3108.0       1\n",
            "2141.0       1\n",
            "Name: rwy_len, Length: 3281, dtype: int64\n",
            "Total nulls:  21364\n",
            "Data type:  float64\n",
            "rwy_width\n",
            "Unique data:  [      nan 4.000e+01 7.000e+01 1.000e+02 3.600e+01 7.500e+01 1.500e+02\n",
            " 1.200e+02 5.000e+01 6.000e+01 3.000e+02 8.000e+01 1.530e+02 7.200e+01\n",
            " 9.000e+01 3.000e+01 4.500e+01 3.500e+01 1.000e+01 2.000e+02 1.590e+02\n",
            " 7.300e+01 1.750e+02 4.400e+01 6.500e+01 2.400e+01 2.500e+01 4.700e+01\n",
            " 4.900e+01 6.600e+01 1.300e+02 4.800e+01 2.600e+01 1.100e+02 5.500e+01\n",
            " 6.800e+01 1.600e+02 3.900e+01 4.200e+01 0.000e+00 4.300e+01 3.200e+01\n",
            " 1.700e+02 2.500e+02 2.200e+01 1.250e+02 5.000e+02 8.500e+01 2.000e+01\n",
            " 5.900e+01 7.700e+01 2.800e+01 1.800e+02 1.500e+01 2.090e+02 7.400e+01\n",
            " 3.800e+01 1.150e+02 3.700e+01 1.400e+02 3.400e+01 1.010e+02 7.800e+01\n",
            " 1.450e+02 6.200e+01 3.100e+01 2.100e+01 1.350e+02 6.100e+01 9.200e+01\n",
            " 5.700e+01 1.800e+01 2.150e+02 7.100e+01 9.500e+01 1.140e+02 2.400e+02\n",
            " 4.600e+01 2.100e+02 4.300e+02 1.130e+02 1.200e+01 3.300e+01 1.580e+02\n",
            " 1.480e+02 2.300e+02 4.000e+02 9.600e+01 2.800e+02 9.800e+01 1.900e+02\n",
            " 2.020e+02 2.700e+02 8.400e+01 2.600e+02 2.700e+01 5.100e+01 1.040e+02\n",
            " 1.050e+02 1.160e+02 9.400e+01 7.600e+01 5.600e+01 2.900e+01 5.800e+01\n",
            " 3.700e+02 1.340e+02 1.650e+02 1.410e+02 9.700e+01 1.600e+01 1.440e+02\n",
            " 5.400e+01 1.300e+01 4.100e+01 1.950e+02 1.100e+01 5.200e+01 1.880e+02\n",
            " 2.750e+02 1.830e+02 3.500e+02 1.460e+02 5.000e+00 1.080e+02 2.550e+02\n",
            " 6.700e+01 2.650e+02 1.470e+02 2.300e+01 2.540e+02 2.260e+02 1.090e+02\n",
            " 2.440e+02 2.200e+02 6.000e+00 1.550e+02 8.000e+00 2.050e+02 2.900e+02\n",
            " 1.900e+01 1.700e+01 2.000e+00 1.020e+02 1.860e+02 8.300e+01 1.920e+02\n",
            " 2.250e+02 1.850e+02 6.400e+01 2.350e+02 3.080e+02 1.330e+02 2.850e+02\n",
            " 1.520e+02 6.606e+03 1.400e+01 1.760e+02 4.100e+03 4.250e+02 1.620e+02\n",
            " 1.000e+03 1.500e+03 4.500e+02 1.120e+02 1.260e+02 1.320e+02 2.370e+02\n",
            " 1.570e+02 3.400e+02 1.585e+03 8.800e+01 7.201e+03 1.524e+03 9.750e+02\n",
            " 2.500e+03 1.367e+03 1.240e+02 2.982e+03 2.660e+03 2.120e+02 7.720e+02\n",
            " 1.960e+02 1.288e+03 1.180e+02 1.583e+03 1.800e+03 8.700e+01 1.612e+03\n",
            " 1.647e+03 3.750e+02 6.000e+02 9.900e+01 2.040e+02 7.850e+02 1.490e+02\n",
            " 6.300e+01 9.140e+02 8.350e+02 7.900e+01 2.940e+02 4.450e+02 1.990e+02\n",
            " 2.100e+03]\n",
            "Value counts:  150.0     7224\n",
            "0.0       7187\n",
            "100.0     6520\n",
            "75.0      6256\n",
            "50.0      3167\n",
            "          ... \n",
            "425.0        1\n",
            "162.0        1\n",
            "112.0        1\n",
            "126.0        1\n",
            "2100.0       1\n",
            "Name: rwy_width, Length: 203, dtype: int64\n",
            "Total nulls:  22300\n",
            "Data type:  float64\n",
            "ifr_equipped_cert\n",
            "Unique data:  [False  True]\n",
            "Value counts:  False    60620\n",
            "True      1085\n",
            "Name: ifr_equipped_cert, dtype: int64\n",
            "Total nulls:  0\n",
            "Data type:  bool\n",
            "eng_no\n",
            "Unique data:  [ 1.  2. nan  3.  4.  5.]\n",
            "Value counts:  1.0    60660\n",
            "2.0      589\n",
            "3.0        6\n",
            "4.0        1\n",
            "5.0        1\n",
            "Name: eng_no, dtype: int64\n",
            "Total nulls:  448\n",
            "Data type:  float64\n",
            "eng_type\n",
            "Unique data:  ['rec' 'tp' 'tj' 'ts' 'unk' 'tf' nan 'none' 'elec' 'hr']\n",
            "Value counts:  rec     55456\n",
            "tp       2133\n",
            "ts       2009\n",
            "unk       763\n",
            "tf        456\n",
            "tj        273\n",
            "none        7\n",
            "elec        4\n",
            "hr          1\n",
            "Name: eng_type, dtype: int64\n",
            "Total nulls:  603\n",
            "Data type:  object\n",
            "eng_mfgr\n",
            "Unique data:  ['continental' 'lycoming' 'p&w' 'garrett' 'jacobs' 'allison' nan 'rotax'\n",
            " 'turbomeca' 'warner' 'rolls-royce' 'walter' 'franklin' 'wright'\n",
            " 'pzl-kalisz' 'hirth' 'volkswagen' 'rotorway' 'subaru' 'pezetel' 'unknown'\n",
            " 'revmaster' 'p&w canada' 'ford' 'bombardier' 'gansheimer' 'ge'\n",
            " 'chevrolet' 'grob' 'china' 'mazda' 'fairchild' 'kinner' 'bmw r-r'\n",
            " 'curtis wright' 'great plains' 'ama' 'hapi' 'cameron' 'onan'\n",
            " 'hirtmotoren' 'milwaukee prt' 'avro' 'allied signal' 'zenoah' 'packard'\n",
            " 'venture' 'jaguar' 'pzl-rzeszow' 'vendeneyev' 'buick' 'h bouley(pma)'\n",
            " 'williams intl' 'int harvester' 'arrow' 'mcculloch' 'cuyuna' 'kfm' 'cfm'\n",
            " 'pzl mielec' 'lambert' 'nsi' 'kawasaki' 'amw' 'voronezh' 'jpx' 'corvair'\n",
            " 'zhuzhou' 'wsk' 'shvetsov' 'honda' 'housia' 'microal' 'monnett' 'limbach'\n",
            " 'mercury' 'spencer' 'klimov' 'konig' 'mosler' 'orenda' 'emsa'\n",
            " 'wsk pzl kalis' 'detr. diesel' 'lom' 'ranger' 'bristol' 'airesearch'\n",
            " 'teledyne cont' 'jabiru' 'yamaha' 'thruct in' 'suzuki' 'falconer eng.'\n",
            " 'solo' 'volvo' 'velie' 'renault' 'gm' 'de havilland' 'garrett-airesearch'\n",
            " 'iame' 'komet' 'menasco' 'merlin' 'pzl wsk' 'euzalde' 'electramotive'\n",
            " 'porsche' 'stark stamo' 'avco lycoming' 'kleinmotoren' 'france' 'greth'\n",
            " 'szekely' 'microturbo' 'kea' 'none' 'polaris' 'norton' 'velocity'\n",
            " 'ama/expr' 'solar' 'pratt & whitney' 'honeywell' 'northrop corp'\n",
            " 'aerotechnik' 'pratt & whitney canada' 'hirsh' 'teledyne continental'\n",
            " 'honeywell/lyc' 'gypsy  major' 'general electric' 'allied/honeyw'\n",
            " 'ivchenko' 'textron lycoming' 'textron lyc.' 'custom' 'pzl-okecie'\n",
            " 'hispano suiza' 'geshwender' 'astazou' 'argus' 'artouste' 'reliant'\n",
            " 'auto aviation' 'ital-american' 'johnson' 'emdair' 'packard r.r.' 'potez'\n",
            " 'weslake' 'enma' 'vellie' 'liberty' 'chotia' 'elizalde,s.a.'\n",
            " 'bristsidviper' 'ivchenco' 'gnome' 'omc' 'avco' 'wedtech' 'u/a canada'\n",
            " 'ravenmaster' 'tgm' 'asz' 'chapallal' 'siemens halsk' 'lyco/wright'\n",
            " 'aeronca' 'kohler' 'meyers' 'dq' 'robin' 'rolls-royce allison' 'â\\x82¬'\n",
            " 'gypsy major' 'pratt-whitney' '2si' 'aero engines' 'casa' 'curtis-wright'\n",
            " 'packard rolls royce' 'gypsy minor' 'garret/honeywell'\n",
            " 'rolls-royce(allison)' 'williams international' 'bmw rolls-royce'\n",
            " 'lycoming (curtis-wright)' 'lycoming/honeywell' 'general motors'\n",
            " 'rolls royce/allison' 'komatsu-zenagh' 'national flight service'\n",
            " 'ã\\x80/o' 'toyota/auto' 'garrett/honeywell' 'quantum' 'p & w'\n",
            " 'continenal' 'a/c of canada' 'rolls royce' 'v.w.' 'volkswagon'\n",
            " 'volkswagan' 'gypsy moth' 'general elect' 'turbomecca' 'pratt&whitney'\n",
            " 'rectimo' 'contiental' 'teledyne/cont' 'vw' 'curtiswright' 'evinrude'\n",
            " 'contnental' 'watson \"vw\"' 'briggs' 'henderson' 'contintental'\n",
            " 'harold guldi' 'outboard' 'gen.electric' 'turbo meca' 'cuyana' 'lycom'\n",
            " 'pratt/whitney' 'u/a of canada' 'pezatel' 'allison c' 'rw' 'o-470l'\n",
            " 'ama (vw)' 'rev.' 'o-360-a4k' 'dehavilland' 'frnklin' 'lycomimg'\n",
            " 'mccullock' 'airresearch' 'mccullough' 'reumaster' 'g e' 'continenatl'\n",
            " 'frankin' 'unk/nr' 'unk' 'p &  w' 'moto guzzi' 'engineair power systems'\n",
            " 'engineair' 'aero-vee' 'arriel' 'pratt and whitney' 'a'\n",
            " 'continental motor' 'compact radial engines' 'suziair' 'lycomming'\n",
            " 'walther' 'le rhone' 'stratus' 'aero engines (vw)' 't.e.c.'\n",
            " 'rolls-royce corporation' 'mz' 'packer engineering' 'avia'\n",
            " 'bombardier/rotax' 'mid-west engines' 'vedeheyev' 'lycon' 'mattituck'\n",
            " 'alliedsignal' 'diemech (walter)' 'pzl-warszana' 'diemech turbines inc'\n",
            " 'eggenfellner' 'pzl' 'gipsy major' 'motori zanzoterra' 'sauer'\n",
            " 'hirthmotoren' 'zanzarterra' 'ai' 'vedeneyez' 'apex' 'verner motor'\n",
            " 'ram racing engines ltd' 'hibbler' 'superior' 'aero motors'\n",
            " 'experimental' 'diamond aircraft' 'eci' 'bradford haines'\n",
            " 'aeromotors s.a.' 'rogers-lycoming' '1/2 volkswagen'\n",
            " 'honeywell - garrett' \"america's aircraft engines\" 'povazske stroguarne'\n",
            " 'aero vee' 'allison/rolls-royce' 'paul lee' 'superflite' 'williams'\n",
            " 'yakovlev' 'jpx-pul' 'rolls royce allison' 'agin'\n",
            " 'teledyne continental motors' 'teledyne' 'vedenyev' 'ultimate engines'\n",
            " 'eci titan' 'honeywell aerospace' 'huosai' 'cont motor' 'limbeck'\n",
            " 'thielert' 'diamond' 'vedeneyev' 'superior air parts'\n",
            " 'teledyne-continental' 'wsk-pzl-k' 'covington' 'wsk pzl kalisz'\n",
            " 'gypsey  major' 'chevrolot' 'pratt and whitney of canada'\n",
            " 'allison engine' 'tcm' 'two stroke international' 'bombardier-rotax'\n",
            " 'aero sport' 'dusenberry, mark' 'contl' 'turbo mecca'\n",
            " 'continental motors' 'pratt & whitney aircraft of ca'\n",
            " 'aero sport power ltd' 'xtreem 360' 'teledyne continental motor'\n",
            " 'experimental tcm' 'vedeneev' 'rolls-royce turbomeca' 'heath avn'\n",
            " 'hapi vw' 'jabaru' 'mistral engines, sa' 'rolls-royc'\n",
            " 'contenental teledyne' 'czech' 'pratt and whitney canada' 'hks aviation'\n",
            " 'swa' 'desert aircraft' 'pratt &whitney' 'pratt and whitney - canada'\n",
            " 'warner super scarab' 'diemech' 'walter engine incorporated' 'suburu'\n",
            " 'bombardier-rotax gmbh' 'lycoming engines' 'rotamex' 'avworks' 'chevy'\n",
            " 'dehav eng' 'rotax gmbh & co.' 'rotex' 'honeywell garrett'\n",
            " 'lange flugzeugbau' 'franklyn' 'bombardier rotex' 'lyc'\n",
            " 'rotorway international' 'aero sport power ltd.' 'garrett airesearch'\n",
            " 'pratt &  whitney' 'teledyne mattituck' 'pratt and whitnety canada'\n",
            " 'ariel' 'hummel' 'geo/metro' 'teledyn continental motors' 'ul power'\n",
            " 'volkswagon/great plains' 'aeroconversions' 'p & w canada' 'aerovee'\n",
            " 'gm corvair' 'bombardier rotax' 'exp' 'aero sport power' 'allison (r/r)'\n",
            " 'mattittuck' 'snecma' 'lycoming (modified)' 'pratt whitney canada'\n",
            " 'motorlet' 'solair' 'aireasearch' 'rotec' 'allied' 'garret' 'hks'\n",
            " 'aerosport power' 'nsi aero' 'volkswagoen' 'teledyne-continental motors'\n",
            " 'teledye continental motors' 'national flight services inc' 'lerhone'\n",
            " 'curtiss wright' 'p. ponk' 'vedenev' 'turbomeca usa' 'subuaru'\n",
            " 'cfm intl.' 'cub crafters' 'jorritsma' 'penn-yan' 'curtiss'\n",
            " 'teledyne continental mortors' 'teledyn continental'\n",
            " 'continental motors inc.' 'rolls royce-allison' 'pratt&whitney-canada'\n",
            " 'globe' 'continential motors' 'lycomin' 'garett' 'pwc' 'zanzottera'\n",
            " 'falconer' 'continental motors, inc.' \"continental motor's inc.\"\n",
            " 'cont. motor' 'tmx' 'chevy geo metro' 'great plains/volkswagen'\n",
            " 'compact ra' 'ken royce' 'penn yan aero' 'p&wc' 'vps' 'cfm intl'\n",
            " 'continental motors, inc' 'rolls-royce deutschland' 'cfm international'\n",
            " 'subaru - stratus built' 'wsk-pzl' 'chevrolet corvair' 'cubcrafters'\n",
            " 'continential' 'continental (exp)' 'aero sport power (lycoming)'\n",
            " 'contenental' 'fairchild ranger' 'cub crafter' 'allison / rolls royce'\n",
            " 'garret airesearch' 'morris motors' 'unkn' 'wright cyclone'\n",
            " 'curtis - wright' 'pratt & whitney of canada' 'pratt &whitney canada'\n",
            " 'ge aviation czech' 'vendenyev' 'continental motors inc'\n",
            " 'superior air parts, inc.' 'superior vantage' 'airresearch/honeywell'\n",
            " 'sma' 'p/w canada' 'diemech turbine' 'shvetsoc' 'continental engines'\n",
            " 'rolls royce/ allison' 'hummel engine' 'penn yann aero' 'ram' 'lom praha'\n",
            " 'technoflug' 'timothy a shorey' 'tomansky' 'viking aircraft engines'\n",
            " 'wankel' 'general electrics' 'mid-west' 'allison/rr'\n",
            " 'rolls royce / allison' 'austro' 'national flight service, inc.'\n",
            " 'viking conversion of honda' 'allison rolls royce' 'club crafters inc.'\n",
            " 'adolphson' 'jpx aircraft engines' 'brn-powertrain' 'viking' 'russia'\n",
            " 'continental teledyne motors' 'mccauley' 'housai' 'rolls royce (allison)'\n",
            " 'patt &whitney canada' 'alllison' 'ama/expr lycoming' 'allison 250-c20b'\n",
            " 'lycoiming' 'pratt& whitney' 'greatplains' 'compact radial engines inc.'\n",
            " 'teledyne matituck' 'pratt & whitney-canada' 'yuneec' 'tomanski'\n",
            " 'lycoming-bmw' 'continetal motors' 'aerosport / lycoming'\n",
            " 'lycoming o-360-a1a' 'continental motors, inc.,' 'curtiss-wright'\n",
            " 'continantal' 'rotax gmbh' 'pw&c' 'engine components internationa'\n",
            " 'tyledyne continental motors' 'contental' 'great plans aircraft'\n",
            " 'kinner co' 'pratt & witney' 'rotortway' 'pratt whitney'\n",
            " 'brp rotax gmbh7 co. kg' 'vittorazi' 'bmw' 'pkrd-roll' 'm&d flugzeugbau'\n",
            " 'cont motor p. ponk' 'cont motor/perf eng' 'garrett/airesearch' 'inntec'\n",
            " 'ul' 'aerosport' 'contienental motors' 'wynn corvair'\n",
            " 'ryan falconer racing engines' 'scaled composites' 'pkrd-roll royce'\n",
            " 'titan' 'eggenfellner subaru' 'prat and whitney aircraft' 'ryan'\n",
            " 'tubomecca' 'gmc' 'pratt & whittney' 'motorstar'\n",
            " 'teledine continental motors' 'ramazani & assoc.'\n",
            " 'continental motorc inc.' 'turbine power technologies' 'aeromaxx'\n",
            " 'allison/rolls royce' 'honeywell / airesearch' 'aireaserch/garrett'\n",
            " 'conitnental' 'honeywell/garrett' 'cont-motor' 'continenetal motors'\n",
            " 'burner balloon works' 'continetnal' 'innovator technologies'\n",
            " 'pratt & whitney - canada' 'vw- hummel' 'ly-con' 'continental  motors'\n",
            " 'barrett precision engines' 'lycomong' 'firewall forward'\n",
            " 'warner aircraft engines' '4 burner type engines' 'garrett research'\n",
            " 'larry woodrow' 'continental/p. ponk' 'arrius' 'eci/titan'\n",
            " 'safran helicopter engines' 'walter/ge' 'continental motor company'\n",
            " 'subaru/eggenfellner' 'mazda/atkins' 'hacker a200'\n",
            " 'safran (formerly turbomeca)' 'pbs' 'contenintal' 'conintental'\n",
            " 'williams international company' 'burkes' 'zeonoa' 'joby motor'\n",
            " 'barrett performance engine']\n",
            "Value counts:  lycoming                      27685\n",
            "continental                   17272\n",
            "p&w                            2585\n",
            "cont motor                     1871\n",
            "rotax                          1749\n",
            "                              ...  \n",
            "motori zanzoterra                 1\n",
            "gipsy major                       1\n",
            "diemech turbines inc              1\n",
            "pzl-warszana                      1\n",
            "barrett performance engine        1\n",
            "Name: eng_mfgr, Length: 606, dtype: int64\n",
            "Total nulls:  1224\n",
            "Data type:  object\n",
            "hp_or_lbs\n",
            "Unique data:  ['hp' 'lbs' nan]\n",
            "Value counts:  hp     57987\n",
            "lbs      785\n",
            "Name: hp_or_lbs, dtype: int64\n",
            "Total nulls:  2933\n",
            "Data type:  object\n",
            "carb_fuel_injection\n",
            "Unique data:  ['finj' 'carb' nan]\n",
            "Value counts:  carb    37228\n",
            "finj    17089\n",
            "Name: carb_fuel_injection, dtype: int64\n",
            "Total nulls:  7388\n",
            "Data type:  object\n",
            "eng_time_total\n",
            "Unique data:  [  nan    0. 2830. ...  179. 3696.   68.]\n",
            "Value counts:  0.0        9063\n",
            "25.0          9\n",
            "50.0          7\n",
            "15.0          6\n",
            "28.0          6\n",
            "           ... \n",
            "5407.0        1\n",
            "9468.0        1\n",
            "6492.0        1\n",
            "10413.0       1\n",
            "68.0          1\n",
            "Name: eng_time_total, Length: 2044, dtype: int64\n",
            "Total nulls:  49999\n",
            "Data type:  float64\n",
            "eng_time_last_insp\n",
            "Unique data:  [      nan 0.000e+00 7.000e+00 3.000e+01 9.600e+01 9.000e+01 4.000e+00\n",
            " 7.500e+01 2.500e+01 1.900e+01 6.000e+00 1.800e+01 8.000e+00 2.400e+01\n",
            " 1.100e+01 3.500e+01 1.790e+02 5.700e+01 4.200e+01 7.100e+01 3.000e+00\n",
            " 9.000e+00 1.000e+01 2.800e+01 1.000e+02 1.004e+03 2.000e+01 2.000e+00\n",
            " 1.400e+01 3.600e+01 5.800e+01 1.200e+01 1.000e+00 3.900e+01 1.360e+02\n",
            " 8.900e+01 3.400e+01 1.500e+01 6.100e+01 1.340e+02 5.400e+01 1.840e+02\n",
            " 2.100e+01 6.815e+03 7.200e+01 2.010e+03 5.300e+01 4.700e+01 7.300e+01\n",
            " 5.950e+02 1.410e+02 4.600e+01 9.700e+01 1.600e+01 4.300e+01 6.800e+01\n",
            " 2.600e+01 1.700e+01 5.600e+01 5.000e+01 6.700e+01 5.000e+00 4.800e+01\n",
            " 1.350e+02 3.300e+01 2.300e+01 6.000e+01 6.600e+01 5.500e+01 9.290e+02\n",
            " 1.300e+01 2.000e+02 3.310e+02 1.880e+02 3.700e+01 3.800e+01 6.300e+01\n",
            " 3.200e+01 3.100e+01 9.400e+01 5.136e+03 3.540e+02 7.800e+01 5.200e+01\n",
            " 1.470e+02 6.200e+01 1.500e+02 7.000e+01 4.900e+01 9.900e+01 8.200e+01\n",
            " 2.900e+01 8.800e+01 5.100e+01 2.790e+02 7.600e+01 1.100e+02 4.100e+01\n",
            " 1.200e+02 5.590e+02 8.300e+01 3.110e+02 2.290e+02 7.400e+01 4.400e+01\n",
            " 4.000e+01 2.500e+02 9.800e+01 4.290e+02 1.060e+02 4.500e+01 7.680e+02\n",
            " 8.100e+01 2.100e+02 1.021e+03 8.600e+01 6.430e+02 2.490e+02 3.180e+02\n",
            " 1.030e+02 2.200e+01 1.920e+02 1.040e+02 8.700e+01 2.700e+01 2.300e+02\n",
            " 1.740e+02 2.320e+02 5.980e+02 8.400e+01 1.580e+02 1.070e+02 3.410e+02\n",
            " 1.120e+02 8.500e+01 7.700e+01 2.480e+02 3.160e+02 6.500e+01 5.820e+02\n",
            " 1.670e+02 1.010e+03 8.000e+01 1.310e+02 6.400e+01 1.140e+02 3.260e+02\n",
            " 1.870e+02 1.280e+02 1.150e+02 9.100e+01 1.820e+02 6.900e+01 1.010e+02\n",
            " 1.690e+02 1.160e+02 2.660e+02 9.300e+01 9.040e+02 1.700e+02 6.750e+02\n",
            " 1.576e+03 1.480e+02 1.540e+02 1.770e+02 1.380e+02 2.640e+02 1.800e+02\n",
            " 8.560e+02 6.110e+02 5.900e+01 1.420e+02 1.512e+03 6.940e+02 2.360e+02\n",
            " 2.950e+02 3.730e+02 1.970e+02 2.240e+02 1.710e+02 8.110e+02 3.910e+02\n",
            " 7.900e+01 2.540e+02 1.180e+02 3.070e+02 2.700e+02 3.480e+02 2.130e+02\n",
            " 1.300e+02 9.200e+01 1.400e+02 5.160e+02 1.103e+03 1.080e+02 1.110e+02\n",
            " 1.251e+03 1.290e+03 2.899e+03 2.590e+02 1.130e+02 9.850e+02 1.260e+03\n",
            " 3.350e+02 2.460e+03 6.930e+03 1.210e+04 5.150e+02 3.950e+02 2.088e+03\n",
            " 1.650e+02 9.330e+02 1.190e+02 9.500e+01 1.320e+02 4.602e+03 1.210e+02\n",
            " 4.500e+02 4.654e+03 2.040e+02 5.610e+02 3.010e+02 2.874e+03 1.220e+02\n",
            " 8.050e+02 8.760e+02 2.120e+02 1.020e+02 1.673e+03 1.815e+03 2.850e+03\n",
            " 1.215e+03 5.140e+02 6.710e+02 3.430e+02 1.680e+02 1.490e+02 1.730e+03\n",
            " 1.050e+02 1.149e+03 1.356e+03 1.615e+03 2.220e+02 6.600e+02 7.960e+02\n",
            " 1.154e+03 6.050e+02 1.060e+03 5.520e+02 3.762e+03 2.840e+02 5.960e+02\n",
            " 2.690e+02 9.180e+02 1.994e+03 1.630e+02 6.410e+02 1.533e+03 3.060e+02\n",
            " 3.250e+02 1.750e+02 4.450e+02 4.810e+03 3.000e+02 7.190e+02 1.640e+02\n",
            " 5.040e+02 2.192e+03 1.320e+03 3.330e+02 1.230e+02 2.650e+02 3.357e+03\n",
            " 3.005e+03 1.170e+02 1.308e+03 2.245e+03 8.280e+02 4.750e+02]\n",
            "Value counts:  0.0      9542\n",
            "10.0       86\n",
            "1.0        70\n",
            "2.0        69\n",
            "5.0        62\n",
            "         ... \n",
            "197.0       1\n",
            "373.0       1\n",
            "295.0       1\n",
            "236.0       1\n",
            "475.0       1\n",
            "Name: eng_time_last_insp, Length: 278, dtype: int64\n",
            "Total nulls:  49999\n",
            "Data type:  float64\n",
            "ntsb_no\n",
            "Unique data:  ['anc99fa021' 'anc99la023' 'anc99la024' ... 'cen16ca277' 'cen16la281'\n",
            " 'wpr16fa148']\n",
            "Value counts:  anc99fa021    1\n",
            "sea82da053    1\n",
            "anc82da047    1\n",
            "anc82da049    1\n",
            "anc82da050    1\n",
            "             ..\n",
            "den89la005    1\n",
            "den89la006    1\n",
            "den89la008    1\n",
            "den89la011    1\n",
            "wpr16fa148    1\n",
            "Name: ntsb_no, Length: 61705, dtype: int64\n",
            "Total nulls:  0\n",
            "Data type:  object\n",
            "ev_type\n",
            "Unique data:  ['acc' 'inc']\n",
            "Value counts:  acc    60734\n",
            "inc      971\n",
            "Name: ev_type, dtype: int64\n",
            "Total nulls:  0\n",
            "Data type:  object\n",
            "ev_date\n",
            "Unique data:  ['1/10/1999' '1/12/1999' '1/13/1999' ... '04-aug-16' '22-jul-16'\n",
            " '23-jul-16']\n",
            "Value counts:  5/16/1982    25\n",
            "6/30/1984    25\n",
            "8/7/1988     23\n",
            "6/5/1983     22\n",
            "8/5/1983     22\n",
            "             ..\n",
            "12/2/2000     1\n",
            "07-dec-09     1\n",
            "2/5/2004      1\n",
            "13-nov-09     1\n",
            "23-jul-16     1\n",
            "Name: ev_date, Length: 12418, dtype: int64\n",
            "Total nulls:  0\n",
            "Data type:  object\n",
            "ev_dow\n",
            "Unique data:  ['su' 'tu' 'we' 'th' 'sa' 'fr' 'mo']\n",
            "Value counts:  sa    11969\n",
            "su    10976\n",
            "fr     8901\n",
            "th     7804\n",
            "we     7609\n",
            "mo     7318\n",
            "tu     7128\n",
            "Name: ev_dow, dtype: int64\n",
            "Total nulls:  0\n",
            "Data type:  object\n",
            "ev_time\n",
            "Unique data:  [1330. 1050. 1435. ...  242.  313.  322.]\n",
            "Value counts:  1500.0    1110\n",
            "1630.0    1035\n",
            "1400.0    1030\n",
            "1530.0    1024\n",
            "1600.0    1022\n",
            "          ... \n",
            "80.0         1\n",
            "549.0        1\n",
            "338.0        1\n",
            "222.0        1\n",
            "322.0        1\n",
            "Name: ev_time, Length: 1409, dtype: int64\n",
            "Total nulls:  31\n",
            "Data type:  float64\n",
            "ev_city\n",
            "Unique data:  ['quinhagak' 'chevak' 'anchorage' ... 'ishpeming' 'westwood' 'zamora']\n",
            "Value counts:  anchorage          380\n",
            "houston            186\n",
            "albuquerque        175\n",
            "fairbanks          159\n",
            "jacksonville       150\n",
            "                  ... \n",
            "chakachamna lk       1\n",
            "becky lake           1\n",
            "amboy                1\n",
            "s. juan batista      1\n",
            "zamora               1\n",
            "Name: ev_city, Length: 11496, dtype: int64\n",
            "Total nulls:  5\n",
            "Data type:  object\n",
            "ev_state\n",
            "Unique data:  ['ak' 'al' 'nc' 'fl' 'tn' 'mi' 'in' 'mo' 'ks' 'il' 'wi' 'ne' 'nm' 'co'\n",
            " 'ok' 'tx' 'ar' 'oh' 'nj' 'ca' 'az' 'ga' 'sc' 'ny' 'ma' 'pa' 'or' 'wa'\n",
            " 'mn' 'wy' 'ut' 'me' 'nv' 'ms' 'ky' 'ct' 'mt' 'ia' 'la' 'hi' 'ao' 'vi'\n",
            " 'va' 'id' 'po' 'pr' 'wv' 'md' 'de' 'vt' 'nd' 'sd' 'gm' 'nh' 'ri' 'cb'\n",
            " 'gu' 'dc' nan 'fn' 'of']\n",
            "Value counts:  ca    6713\n",
            "fl    4363\n",
            "tx    4241\n",
            "ak    3783\n",
            "az    2081\n",
            "co    2067\n",
            "wa    1840\n",
            "mi    1613\n",
            "ga    1546\n",
            "il    1511\n",
            "oh    1453\n",
            "ny    1412\n",
            "pa    1405\n",
            "nc    1305\n",
            "mo    1223\n",
            "wi    1203\n",
            "or    1191\n",
            "ar    1138\n",
            "mn    1131\n",
            "in    1043\n",
            "nm    1013\n",
            "va     976\n",
            "id     966\n",
            "ut     952\n",
            "ok     935\n",
            "al     932\n",
            "nj     879\n",
            "ks     877\n",
            "la     853\n",
            "nv     844\n",
            "tn     836\n",
            "sc     785\n",
            "ma     761\n",
            "mt     740\n",
            "ms     657\n",
            "md     649\n",
            "ia     647\n",
            "wy     572\n",
            "ne     560\n",
            "ky     507\n",
            "nd     436\n",
            "me     405\n",
            "ct     401\n",
            "sd     339\n",
            "wv     330\n",
            "hi     321\n",
            "nh     291\n",
            "pr     195\n",
            "vt     182\n",
            "ri     127\n",
            "gm      91\n",
            "de      85\n",
            "ao      59\n",
            "po      31\n",
            "vi      30\n",
            "dc      15\n",
            "cb       7\n",
            "gu       7\n",
            "of       2\n",
            "fn       1\n",
            "Name: ev_state, dtype: int64\n",
            "Total nulls:  147\n",
            "Data type:  object\n",
            "ev_year\n",
            "Unique data:  [1999 1994 1995 1996 1997 1998 1993 1992 1991 2000 1990 1988 1989 1987\n",
            " 1986 1985 1984 1983 1948 1981 1977 2001 2002 1982 2003 2004 2005 2006\n",
            " 1974 2007 2016 2019 2018 2017 2015 2021 2022 2020 2008 2011 2009 2010\n",
            " 2014 2012 2013]\n",
            "Value counts:  1982    3401\n",
            "1983    3114\n",
            "1984    3112\n",
            "1985    2867\n",
            "1986    2647\n",
            "1987    2563\n",
            "1988    2483\n",
            "1989    2311\n",
            "1990    2265\n",
            "1992    2082\n",
            "1991    2064\n",
            "1993    1911\n",
            "1995    1820\n",
            "1994    1799\n",
            "1997    1692\n",
            "2008    1554\n",
            "2009    1515\n",
            "1996    1510\n",
            "2011    1496\n",
            "2012    1479\n",
            "2010    1434\n",
            "2002    1430\n",
            "2003    1425\n",
            "2001    1363\n",
            "2013    1241\n",
            "2015    1231\n",
            "2014    1218\n",
            "1999    1216\n",
            "2004    1173\n",
            "2000    1152\n",
            "1998    1149\n",
            "2005    1063\n",
            "2007    1047\n",
            "2006     907\n",
            "2016     682\n",
            "2022     144\n",
            "2021      88\n",
            "2020      17\n",
            "2018      14\n",
            "2017      12\n",
            "2019      10\n",
            "1974       1\n",
            "1977       1\n",
            "1981       1\n",
            "1948       1\n",
            "Name: ev_year, dtype: int64\n",
            "Total nulls:  0\n",
            "Data type:  int64\n",
            "ev_month\n",
            "Unique data:  [ 1  2  3  4  5  6  7  8  9 10 11 12]\n",
            "Value counts:  7     7428\n",
            "8     6903\n",
            "6     6757\n",
            "5     6040\n",
            "9     5617\n",
            "4     5221\n",
            "10    4735\n",
            "3     4699\n",
            "11    3735\n",
            "2     3658\n",
            "1     3510\n",
            "12    3402\n",
            "Name: ev_month, dtype: int64\n",
            "Total nulls:  0\n",
            "Data type:  int64\n",
            "latitude\n",
            "Unique data:  [nan '335655n' '415432n' ... '039346n' '395226n' '384810n']\n",
            "Value counts:  332739n    22\n",
            "334118n    18\n",
            "261150n    17\n",
            "335232n    17\n",
            "324934n    16\n",
            "           ..\n",
            "423502n     1\n",
            "264706n     1\n",
            "182613n     1\n",
            "314910n     1\n",
            "384810n     1\n",
            "Name: latitude, Length: 14621, dtype: int64\n",
            "Total nulls:  42098\n",
            "Data type:  object\n",
            "longitude\n",
            "Unique data:  [nan '1182449w' '0704343w' ... '0881227w' '0834114w' '0121463w']\n",
            "Value counts:  1114342w    23\n",
            "1114840w    16\n",
            "1495040w    15\n",
            "0112457w    15\n",
            "0883325w    15\n",
            "            ..\n",
            "1065558w     1\n",
            "0901623w     1\n",
            "1170082w     1\n",
            "1045097w     1\n",
            "0121463w     1\n",
            "Name: longitude, Length: 15416, dtype: int64\n",
            "Total nulls:  42097\n",
            "Data type:  object\n",
            "apt_name\n",
            "Unique data:  ['quinhagak' 'chevak' 'lake hood strip' ... 'joseph a hardy connellsville'\n",
            " 'munday muni' 'riego flight strip airport']\n",
            "Value counts:  private                       358\n",
            "private airstrip              215\n",
            "none                          181\n",
            "private strip                 140\n",
            "merrill field                  85\n",
            "                             ... \n",
            "general lyman field             1\n",
            "talley ranch                    1\n",
            "fall brook comm air park        1\n",
            "hollywood                       1\n",
            "riego flight strip airport      1\n",
            "Name: apt_name, Length: 18021, dtype: int64\n",
            "Total nulls:  21138\n",
            "Data type:  object\n"
          ]
        }
      ]
    },
    {
      "cell_type": "code",
      "source": [
        "# Removing spaces in runway number column. Not sure what else to do with this column, some runways might be more risky for particular airports, so I think this is valuable to keep.\n",
        "ntsb_1['rwy_num'].mask(ntsb_1['rwy_num'] == '0', np.nan, inplace=True)\n",
        "ntsb_1['rwy_num'].mask(ntsb_1['rwy_num'] == '3 r', '3r', inplace=True)\n",
        "ntsb_1['rwy_num'].mask(ntsb_1['rwy_num'] == '10r/', '10r', inplace=True)\n",
        "ntsb_1['rwy_num'].mask(ntsb_1['rwy_num'] == '18r/', '18r', inplace=True)\n",
        "ntsb_1['rwy_num'].mask(ntsb_1['rwy_num'] == '18 /', '18', inplace=True)\n",
        "ntsb_1['rwy_num'].mask(ntsb_1['rwy_num'] == '09c', '9c', inplace=True)\n",
        "ntsb_1['rwy_num'].mask(ntsb_1['rwy_num'] == '02c', '2c', inplace=True)\n",
        "ntsb_1['rwy_num'].mask(ntsb_1['rwy_num'] == '07s', '7s', inplace=True)\n",
        "ntsb_1['rwy_num'].mask(ntsb_1['rwy_num'] == '01l' , '11', inplace=True)\n",
        "ntsb_1['rwy_num'].mask(ntsb_1['rwy_num'] == '050', '50', inplace=True)\n",
        "ntsb_1['rwy_num'].mask(ntsb_1['rwy_num'] == 'unk', np.nan, inplace=True)\n",
        "ntsb_1['rwy_num'].mask(ntsb_1['rwy_num'] == 'none', np.nan, inplace=True)\n",
        "ntsb_1['rwy_num'].mask(ntsb_1['rwy_num'] == '03', '3', inplace=True)\n",
        "ntsb_1['rwy_num'].mask(ntsb_1['rwy_num'] == '07', '7', inplace=True)\n",
        "ntsb_1['rwy_num'].mask(ntsb_1['rwy_num'] == '07l', '71', inplace=True)\n",
        "ntsb_1['rwy_num'].mask(ntsb_1['rwy_num'] == '055', '55', inplace=True)\n",
        "ntsb_1['rwy_num'].mask(ntsb_1['rwy_num'] == '07l', '71', inplace=True)\n",
        "ntsb_1['rwy_num'].mask(ntsb_1['rwy_num'] == '00', np.nan, inplace=True)\n",
        "ntsb_1['rwy_num'].mask(ntsb_1['rwy_num'] == '000', np.nan, inplace=True)\n",
        "ntsb_1['rwy_num'].mask(ntsb_1['rwy_num'] == '08l', '81', inplace=True)\n",
        "ntsb_1['rwy_num'].mask(ntsb_1['rwy_num'] == '060' , '60', inplace=True)\n",
        "ntsb_1['rwy_num'].mask(ntsb_1['rwy_num'] == '035', '35', inplace=True)\n",
        "ntsb_1['rwy_num'].mask(ntsb_1['rwy_num'] == '06r', '6r', inplace=True)\n",
        "ntsb_1['rwy_num'].mask(ntsb_1['rwy_num'] == '07/2', '7', inplace=True)\n",
        "ntsb_1['rwy_num'].mask(ntsb_1['rwy_num'] == '03/2', '3', inplace=True)\n",
        "ntsb_1['rwy_num'].mask(ntsb_1['rwy_num'] == '08/2', '8', inplace=True)\n",
        "ntsb_1['rwy_num'].mask(ntsb_1['rwy_num'] == '03l', '31', inplace=True)\n",
        "ntsb_1['rwy_num'].mask(ntsb_1['rwy_num'] == '02l', '21', inplace=True)\n",
        "ntsb_1['rwy_num'].mask(ntsb_1['rwy_num'] == '05r', '5r', inplace=True)\n",
        "ntsb_1['rwy_num'].mask(ntsb_1['rwy_num'] == '022', '22', inplace=True)\n",
        "ntsb_1['rwy_num'].mask(ntsb_1['rwy_num'] == '07r', '7r', inplace=True)\n",
        "ntsb_1['rwy_num'].mask(ntsb_1['rwy_num'] == '9 r', '9r', inplace=True)\n",
        "ntsb_1['rwy_num'].mask(ntsb_1['rwy_num'] == '05l', '51', inplace=True)\n",
        "ntsb_1['rwy_num'].mask(ntsb_1['rwy_num'] == '02r', '2r', inplace=True)\n",
        "ntsb_1['rwy_num'].mask(ntsb_1['rwy_num'] == '07s', '7s', inplace=True)\n",
        "ntsb_1['rwy_num'].mask(ntsb_1['rwy_num'] == '2/8', '2', inplace=True)\n",
        "ntsb_1['rwy_num'].mask(ntsb_1['rwy_num'] == '09/2', '9', inplace=True)\n",
        "ntsb_1['rwy_num'].mask(ntsb_1['rwy_num'] == '04/2', '4', inplace=True)\n",
        "ntsb_1['rwy_num'].mask(ntsb_1['rwy_num'] == '05/2', '5', inplace=True)\n",
        "ntsb_1['rwy_num'].mask(ntsb_1['rwy_num'] == '12/3', '12', inplace=True)\n",
        "ntsb_1['rwy_num'].mask(ntsb_1['rwy_num'] == '14/3', '14', inplace=True)\n",
        "ntsb_1['rwy_num'].mask(ntsb_1['rwy_num'] == '15/3', '15', inplace=True)\n",
        "ntsb_1['rwy_num'].mask(ntsb_1['rwy_num'] == '10/2', '10', inplace=True)\n",
        "ntsb_1['rwy_num'].mask(ntsb_1['rwy_num'] == '11/2', '11', inplace=True)\n",
        "ntsb_1['rwy_num'].mask(ntsb_1['rwy_num'] == '16/3', '16', inplace=True)\n",
        "ntsb_1['rwy_num'].mask(ntsb_1['rwy_num'] == '18/3', '18', inplace=True)\n",
        "ntsb_1['rwy_num'].mask(ntsb_1['rwy_num'] == '17/3', '17', inplace=True)\n",
        "ntsb_1['rwy_num'].mask(ntsb_1['rwy_num'] == '02/2', '2', inplace=True)\n",
        "ntsb_1['rwy_num'].mask(ntsb_1['rwy_num'] == '5/23', '5', inplace=True)\n",
        "ntsb_1['rwy_num'].mask(ntsb_1['rwy_num'] == '9/27', '9', inplace=True)\n",
        "ntsb_1['rwy_num'].mask(ntsb_1['rwy_num'] == '7/25', '7', inplace=True)\n",
        "ntsb_1['rwy_num'].mask(ntsb_1['rwy_num'] == '1/19', '1', inplace=True)\n",
        "ntsb_1['rwy_num'].mask(ntsb_1['rwy_num'] == 'n', '36', inplace=True)\n",
        "ntsb_1['rwy_num'].mask(ntsb_1['rwy_num'] == 's', '18', inplace=True)\n",
        "ntsb_1['rwy_num'].mask(ntsb_1['rwy_num'] == 'w', '27', inplace=True)\n",
        "ntsb_1['rwy_num'].mask(ntsb_1['rwy_num'] == 'e', '9', inplace=True)\n",
        "ntsb_1['rwy_num'].mask(ntsb_1['rwy_num'] == 'e/w', '27', inplace=True)\n",
        "ntsb_1['rwy_num'].mask(ntsb_1['rwy_num'] == 'n/s', '18', inplace=True)\n",
        "ntsb_1['rwy_num'].mask(ntsb_1['rwy_num'] == 'nw', '315', inplace=True)\n",
        "ntsb_1['rwy_num'].mask(ntsb_1['rwy_num'] == 'emm', np.nan, inplace=True)\n",
        "ntsb_1['rwy_num'].mask(ntsb_1['rwy_num'] == 'afo', np.nan, inplace=True)\n",
        "ntsb_1['rwy_num'].mask(ntsb_1['rwy_num'] == 'gif', np.nan, inplace=True)\n",
        "ntsb_1['rwy_num'].mask(ntsb_1['rwy_num'] == 'pvt', 'private', inplace=True)\n",
        "ntsb_1['rwy_num'].mask(ntsb_1['rwy_num'] == 'se', '135', inplace=True)\n",
        "ntsb_1['rwy_num'].mask(ntsb_1['rwy_num'] == 'vgt', np.nan, inplace=True)\n",
        "ntsb_1['rwy_num'].mask(ntsb_1['rwy_num'] == 'west', '27', inplace=True)\n",
        "ntsb_1['rwy_num'].mask(ntsb_1['rwy_num'] == 'ne', '4.5', inplace=True) #is this right?\n",
        "ntsb_1['rwy_num'].mask(ntsb_1['rwy_num'] == 'vgt', np.nan, inplace=True)\n",
        "ntsb_1['rwy_num'].mask(ntsb_1['rwy_num'] == 'sw', '225', inplace=True)\n",
        "ntsb_1['rwy_num'].mask(ntsb_1['rwy_num'] == 'h2', np.nan, inplace=True)\n",
        "\n"
      ],
      "metadata": {
        "id": "S62dGXUsAgYL"
      },
      "id": "S62dGXUsAgYL",
      "execution_count": 40,
      "outputs": []
    },
    {
      "cell_type": "code",
      "source": [
        "## update runway numbers\n",
        "ntsb_1['rwy_num'].mask(ntsb_1['rwy_num'] == '', np.nan, inplace=True)\n",
        "ntsb_1['rwy_num'].unique()"
      ],
      "metadata": {
        "id": "UqyW8_blR9QC",
        "outputId": "43204b4e-d35b-447e-8545-562105d956f1",
        "colab": {
          "base_uri": "https://localhost:8080/"
        }
      },
      "id": "UqyW8_blR9QC",
      "execution_count": 42,
      "outputs": [
        {
          "output_type": "execute_result",
          "data": {
            "text/plain": [
              "array([nan, '14', '31', '20', '36', '18', '32', '27', '35', '16', '26r',\n",
              "       '19', '28', '4r', '17', '34', '22', '28l', '15l', '11r', '17l',\n",
              "       '13', '24', '10l', '9', '30r', '4', '15', '29', '26', '16r', '21r',\n",
              "       '3', '9r', '25', '33', '1', '1r', '5r', '7', '12', '3r', '5', '30',\n",
              "       '29r', '11', '21', '8', '10', '23', '19l', '2', '28r', '6', '36r',\n",
              "       '26l', '14r', '17r', '19r', '25r', '27r', '35r', '12r', '6l', '8r',\n",
              "       '22l', '9l', '2l', '18r', '1l', '32r', '36l', '34r', '29l', '31r',\n",
              "       '22g', '27l', '20r', '11l', '8l', '22r', '34l', '6r', '16l', '4l',\n",
              "       '23r', '5l', '18l', '20l', '7r', '13l', '13r', '31l', '25l', '24r',\n",
              "       '23l', '24l', '35l', '21l', '30l', '12l', '20c', '7l', '33l',\n",
              "       '30c', '36c', '32l', '23c', '17c', '3l', '3c', '2r', '33r', '15r',\n",
              "       '10r', '360', '14l', '31c', '190', '9c', '250', '01', '02', '067',\n",
              "       '09', '09r', '05', '2c', '310', '06', '0r', '202', '08', '61',\n",
              "       '04', '220', '315', '090', 'h1', '210', '160', '7u', '040', '080',\n",
              "       '27u', '270', '180', '55', '350', '070', '030', '010', '50', '09l',\n",
              "       '5r7', '135', '280', '110', '290', '240', '320', '340', '020',\n",
              "       '04r', '260', '08r', '34t', '04l', '120', 'c', '40', '130', '81',\n",
              "       '509', '170', '330', '230', '60', '100', '150', 'non', '045',\n",
              "       '01r', '200', '80', '71', 'trm', 'hka', 'te9', '17w', 'h', '12g',\n",
              "       '075', '8g', '03r', '06l', '27c', '51', '16c', '99', '13w',\n",
              "       'private', '225', '4w', '16s', '7s', '4.5', '28c', '34s', '22s'],\n",
              "      dtype=object)"
            ]
          },
          "metadata": {},
          "execution_count": 42
        }
      ]
    },
    {
      "cell_type": "code",
      "source": [
        "col_metrics(ntsb_1, col='rwy_len')"
      ],
      "metadata": {
        "id": "BbkuRm_3Agfe",
        "colab": {
          "base_uri": "https://localhost:8080/"
        },
        "outputId": "5b52f707-6821-4127-b79c-70bdbd6746fb"
      },
      "id": "BbkuRm_3Agfe",
      "execution_count": 14,
      "outputs": [
        {
          "output_type": "stream",
          "name": "stdout",
          "text": [
            "Unique data:  [  nan 2610. 2200. ... 8610. 3354. 2141.]\n",
            "Value counts:  0.0       6809\n",
            "5000.0    1360\n",
            "3000.0    1206\n",
            "4000.0    1061\n",
            "2500.0     670\n",
            "          ... \n",
            "5275.0       1\n",
            "3367.0       1\n",
            "6411.0       1\n",
            "3108.0       1\n",
            "2141.0       1\n",
            "Name: rwy_len, Length: 3281, dtype: int64\n",
            "Total nulls:  21364\n",
            "Data type:  float64\n"
          ]
        }
      ]
    },
    {
      "cell_type": "code",
      "source": [
        "ntsb_1['rwy_len'].max()"
      ],
      "metadata": {
        "colab": {
          "base_uri": "https://localhost:8080/"
        },
        "id": "waxxugM45Pmt",
        "outputId": "334796c8-0ec6-4caf-cb97-ee0a4c4e62b8"
      },
      "id": "waxxugM45Pmt",
      "execution_count": 15,
      "outputs": [
        {
          "output_type": "execute_result",
          "data": {
            "text/plain": [
              "69010.0"
            ]
          },
          "metadata": {},
          "execution_count": 15
        }
      ]
    },
    {
      "cell_type": "code",
      "source": [
        "ntsb_1['rwy_len'].plot(kind='kde')"
      ],
      "metadata": {
        "colab": {
          "base_uri": "https://localhost:8080/",
          "height": 283
        },
        "id": "gPNJTltu58lK",
        "outputId": "f249dfb0-e2f0-4cb6-9a6b-9405cda075f2"
      },
      "id": "gPNJTltu58lK",
      "execution_count": 19,
      "outputs": [
        {
          "output_type": "execute_result",
          "data": {
            "text/plain": [
              "<Axes: ylabel='Density'>"
            ]
          },
          "metadata": {},
          "execution_count": 19
        },
        {
          "output_type": "display_data",
          "data": {
            "text/plain": [
              "<Figure size 432x288 with 1 Axes>"
            ],
            "image/png": "[encoded data removed]"
          },
          "metadata": {
            "needs_background": "light"
          }
        }
      ]
    },
    {
      "cell_type": "code",
      "source": [
        "# binning values in 'rwy_len' column, wondering the best way to bin since we have values from 0- 69000, but most are between 0-20000\n",
        "\n",
        "bins = [0, 1000, 2000, 3000, 4000, 5000, 6000, 7000, 8000, 9000, 10000, 11000, 12000, 13000, 14000, 15000, 16000, 17000, 18000, 19000, 20000, 100000]\n",
        "labels =[1,2,3,4,5,6,7,8,9,10,11,12,13,14,15,16,17,18,19,20,21]\n",
        "ntsb_1['rwy_len'] = pd.cut(ntsb_1['rwy_len'], bins,labels=labels)\n",
        "col_metrics(ntsb_1, col='rwy_len')"
      ],
      "metadata": {
        "id": "iDEgY4vKAgaj",
        "colab": {
          "base_uri": "https://localhost:8080/"
        },
        "outputId": "79bb40af-09c4-4a57-8e89-2a4919aeb9e5"
      },
      "id": "iDEgY4vKAgaj",
      "execution_count": 18,
      "outputs": [
        {
          "output_type": "stream",
          "name": "stdout",
          "text": [
            "Unique data:  [NaN, 3, 6, 4, 2, ..., 14, 15, 13, 21, 16]\n",
            "Length: 18\n",
            "Categories (21, int64): [1 < 2 < 3 < 4 ... 18 < 19 < 20 < 21]\n",
            "Value counts:  3     7364\n",
            "4     7106\n",
            "5     5449\n",
            "6     4126\n",
            "2     2636\n",
            "7     2430\n",
            "8     1620\n",
            "9     1125\n",
            "10     596\n",
            "1      412\n",
            "11     364\n",
            "12     183\n",
            "13      55\n",
            "14      54\n",
            "15      10\n",
            "16       1\n",
            "21       1\n",
            "17       0\n",
            "18       0\n",
            "19       0\n",
            "20       0\n",
            "Name: rwy_len, dtype: int64\n",
            "Total nulls:  28173\n",
            "Data type:  category\n"
          ]
        }
      ]
    },
    {
      "cell_type": "code",
      "source": [
        "col_metrics(ntsb_1, col='rwy_width')"
      ],
      "metadata": {
        "id": "nCK4up_TAgiV",
        "colab": {
          "base_uri": "https://localhost:8080/"
        },
        "outputId": "e0ce34bd-7dc3-4029-fda5-8a0cdf79e2ac"
      },
      "id": "nCK4up_TAgiV",
      "execution_count": 17,
      "outputs": [
        {
          "output_type": "stream",
          "name": "stdout",
          "text": [
            "Unique data:  [      nan 4.000e+01 7.000e+01 1.000e+02 3.600e+01 7.500e+01 1.500e+02\n",
            " 1.200e+02 5.000e+01 6.000e+01 3.000e+02 8.000e+01 1.530e+02 7.200e+01\n",
            " 9.000e+01 3.000e+01 4.500e+01 3.500e+01 1.000e+01 2.000e+02 1.590e+02\n",
            " 7.300e+01 1.750e+02 4.400e+01 6.500e+01 2.400e+01 2.500e+01 4.700e+01\n",
            " 4.900e+01 6.600e+01 1.300e+02 4.800e+01 2.600e+01 1.100e+02 5.500e+01\n",
            " 6.800e+01 1.600e+02 3.900e+01 4.200e+01 0.000e+00 4.300e+01 3.200e+01\n",
            " 1.700e+02 2.500e+02 2.200e+01 1.250e+02 5.000e+02 8.500e+01 2.000e+01\n",
            " 5.900e+01 7.700e+01 2.800e+01 1.800e+02 1.500e+01 2.090e+02 7.400e+01\n",
            " 3.800e+01 1.150e+02 3.700e+01 1.400e+02 3.400e+01 1.010e+02 7.800e+01\n",
            " 1.450e+02 6.200e+01 3.100e+01 2.100e+01 1.350e+02 6.100e+01 9.200e+01\n",
            " 5.700e+01 1.800e+01 2.150e+02 7.100e+01 9.500e+01 1.140e+02 2.400e+02\n",
            " 4.600e+01 2.100e+02 4.300e+02 1.130e+02 1.200e+01 3.300e+01 1.580e+02\n",
            " 1.480e+02 2.300e+02 4.000e+02 9.600e+01 2.800e+02 9.800e+01 1.900e+02\n",
            " 2.020e+02 2.700e+02 8.400e+01 2.600e+02 2.700e+01 5.100e+01 1.040e+02\n",
            " 1.050e+02 1.160e+02 9.400e+01 7.600e+01 5.600e+01 2.900e+01 5.800e+01\n",
            " 3.700e+02 1.340e+02 1.650e+02 1.410e+02 9.700e+01 1.600e+01 1.440e+02\n",
            " 5.400e+01 1.300e+01 4.100e+01 1.950e+02 1.100e+01 5.200e+01 1.880e+02\n",
            " 2.750e+02 1.830e+02 3.500e+02 1.460e+02 5.000e+00 1.080e+02 2.550e+02\n",
            " 6.700e+01 2.650e+02 1.470e+02 2.300e+01 2.540e+02 2.260e+02 1.090e+02\n",
            " 2.440e+02 2.200e+02 6.000e+00 1.550e+02 8.000e+00 2.050e+02 2.900e+02\n",
            " 1.900e+01 1.700e+01 2.000e+00 1.020e+02 1.860e+02 8.300e+01 1.920e+02\n",
            " 2.250e+02 1.850e+02 6.400e+01 2.350e+02 3.080e+02 1.330e+02 2.850e+02\n",
            " 1.520e+02 6.606e+03 1.400e+01 1.760e+02 4.100e+03 4.250e+02 1.620e+02\n",
            " 1.000e+03 1.500e+03 4.500e+02 1.120e+02 1.260e+02 1.320e+02 2.370e+02\n",
            " 1.570e+02 3.400e+02 1.585e+03 8.800e+01 7.201e+03 1.524e+03 9.750e+02\n",
            " 2.500e+03 1.367e+03 1.240e+02 2.982e+03 2.660e+03 2.120e+02 7.720e+02\n",
            " 1.960e+02 1.288e+03 1.180e+02 1.583e+03 1.800e+03 8.700e+01 1.612e+03\n",
            " 1.647e+03 3.750e+02 6.000e+02 9.900e+01 2.040e+02 7.850e+02 1.490e+02\n",
            " 6.300e+01 9.140e+02 8.350e+02 7.900e+01 2.940e+02 4.450e+02 1.990e+02\n",
            " 2.100e+03]\n",
            "Value counts:  150.0     7224\n",
            "0.0       7187\n",
            "100.0     6520\n",
            "75.0      6256\n",
            "50.0      3167\n",
            "          ... \n",
            "425.0        1\n",
            "162.0        1\n",
            "112.0        1\n",
            "126.0        1\n",
            "2100.0       1\n",
            "Name: rwy_width, Length: 203, dtype: int64\n",
            "Total nulls:  22300\n",
            "Data type:  float64\n"
          ]
        }
      ]
    },
    {
      "cell_type": "code",
      "source": [
        "ntsb_1['rwy_width'].round(0)"
      ],
      "metadata": {
        "colab": {
          "base_uri": "https://localhost:8080/"
        },
        "id": "HBrIh_Ds_hvY",
        "outputId": "2de04933-e38e-4a8d-d70d-8a7635fd182e"
      },
      "id": "HBrIh_Ds_hvY",
      "execution_count": 19,
      "outputs": [
        {
          "output_type": "execute_result",
          "data": {
            "text/plain": [
              "0           NaN\n",
              "1          40.0\n",
              "2          70.0\n",
              "3         100.0\n",
              "4           NaN\n",
              "          ...  \n",
              "104050     50.0\n",
              "104062      NaN\n",
              "104076      NaN\n",
              "104079      NaN\n",
              "104093      NaN\n",
              "Name: rwy_width, Length: 61705, dtype: float64"
            ]
          },
          "metadata": {},
          "execution_count": 19
        }
      ]
    },
    {
      "cell_type": "code",
      "source": [
        "ntsb_1['rwy_width'].max()"
      ],
      "metadata": {
        "colab": {
          "base_uri": "https://localhost:8080/"
        },
        "id": "SRAqfIIV_hx2",
        "outputId": "c6495200-8fc2-4bcb-ec59-740505633bd6"
      },
      "id": "SRAqfIIV_hx2",
      "execution_count": 23,
      "outputs": [
        {
          "output_type": "execute_result",
          "data": {
            "text/plain": [
              "7201.0"
            ]
          },
          "metadata": {},
          "execution_count": 23
        }
      ]
    },
    {
      "cell_type": "code",
      "source": [
        "ntsb_1['rwy_width'].plot(kind='kde')"
      ],
      "metadata": {
        "colab": {
          "base_uri": "https://localhost:8080/",
          "height": 283
        },
        "id": "jGr1KiWA_h0a",
        "outputId": "befed7a6-2727-4493-e90f-f4b2de1220ab"
      },
      "id": "jGr1KiWA_h0a",
      "execution_count": 24,
      "outputs": [
        {
          "output_type": "execute_result",
          "data": {
            "text/plain": [
              "<Axes: ylabel='Density'>"
            ]
          },
          "metadata": {},
          "execution_count": 24
        },
        {
          "output_type": "display_data",
          "data": {
            "text/plain": [
              "<Figure size 432x288 with 1 Axes>"
            ],
            "image/png": "[encoded data removed]"
          },
          "metadata": {
            "needs_background": "light"
          }
        }
      ]
    },
    {
      "cell_type": "code",
      "source": [
        "# binning values in 'rwy_width' column... same question as above\n",
        "\n",
        "bins2 = [0,10,20,30,40,50,60,70,80,90,100,200,300,400,500,1000,8000]\n",
        "labels2 = [1,2,3,4,5,6,7,8,9,10,11,12,13,14,15,16]\n",
        "\n",
        "#bins2 = [0, 100, 200, 300, 400, 500, 1000, 1500, 2000, 2500, 3000, 3500, 4000, 4500, 5000, 5500, 6000, 6500, 7000, 7500, 8000]\n",
        "#labels2 =[1,2,3,4,5,6,7,8,9,10,11,12,13,14,15,16,17,18,19,20]\n",
        "ntsb_1['rwy_width'] = pd.cut(ntsb_1['rwy_width'], bins2, labels=labels2)\n",
        "col_metrics(ntsb_1, col='rwy_width')"
      ],
      "metadata": {
        "colab": {
          "base_uri": "https://localhost:8080/"
        },
        "id": "7VrAOIkx_h2t",
        "outputId": "ea134f77-9b1f-4df5-a31f-da7efd39aeac"
      },
      "id": "7VrAOIkx_h2t",
      "execution_count": 20,
      "outputs": [
        {
          "output_type": "stream",
          "name": "stdout",
          "text": [
            "Unique data:  [NaN, 4, 7, 10, 8, ..., 14, 2, 13, 16, 15]\n",
            "Length: 17\n",
            "Categories (16, int64): [1 < 2 < 3 < 4 ... 13 < 14 < 15 < 16]\n",
            "Value counts:  11    8731\n",
            "8     6862\n",
            "10    6574\n",
            "5     3598\n",
            "6     2561\n",
            "4     1405\n",
            "3      951\n",
            "7      650\n",
            "2      287\n",
            "12     268\n",
            "9      212\n",
            "14      37\n",
            "13      26\n",
            "1       22\n",
            "16      21\n",
            "15      13\n",
            "Name: rwy_width, dtype: int64\n",
            "Total nulls:  29487\n",
            "Data type:  category\n"
          ]
        }
      ]
    },
    {
      "cell_type": "code",
      "source": [
        "col_metrics(ntsb_1, col='eng_type')"
      ],
      "metadata": {
        "colab": {
          "base_uri": "https://localhost:8080/"
        },
        "id": "EzlLKPzXFSs8",
        "outputId": "a827d45b-970e-477f-f866-698cf4f999b0"
      },
      "id": "EzlLKPzXFSs8",
      "execution_count": 26,
      "outputs": [
        {
          "output_type": "stream",
          "name": "stdout",
          "text": [
            "Unique data:  ['rec' 'tp' 'tj' 'ts' 'unk' 'tf' nan 'none' 'elec' 'hr']\n",
            "Value counts:  rec     55456\n",
            "tp       2133\n",
            "ts       2009\n",
            "unk       763\n",
            "tf        456\n",
            "tj        273\n",
            "none        7\n",
            "elec        4\n",
            "hr          1\n",
            "Name: eng_type, dtype: int64\n",
            "Total nulls:  603\n",
            "Data type:  object\n"
          ]
        }
      ]
    },
    {
      "cell_type": "code",
      "source": [
        "# Changing datatype for eng_type column to category\n",
        "ntsb_1['eng_type'].astype('category')"
      ],
      "metadata": {
        "colab": {
          "base_uri": "https://localhost:8080/"
        },
        "id": "lYGMnKeH_h5C",
        "outputId": "6ec41fe3-eb91-4a71-f6a8-3ea579481401"
      },
      "id": "lYGMnKeH_h5C",
      "execution_count": 60,
      "outputs": [
        {
          "output_type": "execute_result",
          "data": {
            "text/plain": [
              "0         rec\n",
              "1         rec\n",
              "2         rec\n",
              "3          tp\n",
              "4         rec\n",
              "         ... \n",
              "104050    rec\n",
              "104062    rec\n",
              "104076    rec\n",
              "104079    rec\n",
              "104093     tp\n",
              "Name: eng_type, Length: 61705, dtype: category\n",
              "Categories (7, object): ['elec', 'hr', 'rec', 'tf', 'tj', 'tp', 'ts']"
            ]
          },
          "metadata": {},
          "execution_count": 60
        }
      ]
    },
    {
      "cell_type": "code",
      "source": [
        "#replacing none and unk values from eng_type with nan\n",
        "ntsb_1['eng_type'].mask(ntsb_1['eng_type'] == 'none', np.nan, inplace=True)\n",
        "ntsb_1['eng_type'].mask(ntsb_1['eng_type'] == 'unk', np.nan, inplace=True)"
      ],
      "metadata": {
        "id": "Tgj1RIzb_h7X"
      },
      "id": "Tgj1RIzb_h7X",
      "execution_count": 34,
      "outputs": []
    },
    {
      "cell_type": "code",
      "source": [
        "ntsb_1['eng_mfgr'].unique()"
      ],
      "metadata": {
        "colab": {
          "base_uri": "https://localhost:8080/"
        },
        "id": "ETN6jwge_h9-",
        "outputId": "65883439-3cf8-4eb5-f136-4c3bce0cfbda"
      },
      "id": "ETN6jwge_h9-",
      "execution_count": 25,
      "outputs": [
        {
          "output_type": "execute_result",
          "data": {
            "text/plain": [
              "array(['continental', 'lycoming', 'p&w', 'garrett', 'jacobs', 'allison',\n",
              "       nan, 'rotax', 'turbomeca', 'warner', 'rolls-royce', 'walter',\n",
              "       'franklin', 'wright', 'pzl-kalisz', 'hirth', 'volkswagen',\n",
              "       'rotorway', 'subaru', 'pezetel', 'unknown', 'revmaster',\n",
              "       'p&w canada', 'ford', 'bombardier', 'gansheimer', 'ge',\n",
              "       'chevrolet', 'grob', 'china', 'mazda', 'fairchild', 'kinner',\n",
              "       'bmw r-r', 'curtis wright', 'great plains', 'ama', 'hapi',\n",
              "       'cameron', 'onan', 'hirtmotoren', 'milwaukee prt', 'avro',\n",
              "       'allied signal', 'zenoah', 'packard', 'venture', 'jaguar',\n",
              "       'pzl-rzeszow', 'vendeneyev', 'buick', 'h bouley(pma)',\n",
              "       'williams intl', 'int harvester', 'arrow', 'mcculloch', 'cuyuna',\n",
              "       'kfm', 'cfm', 'pzl mielec', 'lambert', 'nsi', 'kawasaki', 'amw',\n",
              "       'voronezh', 'jpx', 'corvair', 'zhuzhou', 'wsk', 'shvetsov',\n",
              "       'honda', 'housia', 'microal', 'monnett', 'limbach', 'mercury',\n",
              "       'spencer', 'klimov', 'konig', 'mosler', 'orenda', 'emsa',\n",
              "       'wsk pzl kalis', 'detr. diesel', 'lom', 'ranger', 'bristol',\n",
              "       'airesearch', 'teledyne cont', 'jabiru', 'yamaha', 'thruct in',\n",
              "       'suzuki', 'falconer eng.', 'solo', 'volvo', 'velie', 'renault',\n",
              "       'gm', 'de havilland', 'garrett-airesearch', 'iame', 'komet',\n",
              "       'menasco', 'merlin', 'pzl wsk', 'euzalde', 'electramotive',\n",
              "       'porsche', 'stark stamo', 'avco lycoming', 'kleinmotoren',\n",
              "       'france', 'greth', 'szekely', 'microturbo', 'kea', 'none',\n",
              "       'polaris', 'norton', 'velocity', 'ama/expr', 'solar',\n",
              "       'pratt & whitney', 'honeywell', 'northrop corp', 'aerotechnik',\n",
              "       'pratt & whitney canada', 'hirsh', 'teledyne continental',\n",
              "       'honeywell/lyc', 'gypsy  major', 'general electric',\n",
              "       'allied/honeyw', 'ivchenko', 'textron lycoming', 'textron lyc.',\n",
              "       'custom', 'pzl-okecie', 'hispano suiza', 'geshwender', 'astazou',\n",
              "       'argus', 'artouste', 'reliant', 'auto aviation', 'ital-american',\n",
              "       'johnson', 'emdair', 'packard r.r.', 'potez', 'weslake', 'enma',\n",
              "       'vellie', 'liberty', 'chotia', 'elizalde,s.a.', 'bristsidviper',\n",
              "       'ivchenco', 'gnome', 'omc', 'avco', 'wedtech', 'u/a canada',\n",
              "       'ravenmaster', 'tgm', 'asz', 'chapallal', 'siemens halsk',\n",
              "       'lyco/wright', 'aeronca', 'kohler', 'meyers', 'dq', 'robin',\n",
              "       'rolls-royce allison', 'â\\x82¬', 'gypsy major', 'pratt-whitney',\n",
              "       '2si', 'aero engines', 'casa', 'curtis-wright',\n",
              "       'packard rolls royce', 'gypsy minor', 'garret/honeywell',\n",
              "       'rolls-royce(allison)', 'williams international',\n",
              "       'bmw rolls-royce', 'lycoming (curtis-wright)',\n",
              "       'lycoming/honeywell', 'general motors', 'rolls royce/allison',\n",
              "       'komatsu-zenagh', 'national flight service', 'ã\\x80/o',\n",
              "       'toyota/auto', 'garrett/honeywell', 'quantum', 'p & w',\n",
              "       'continenal', 'a/c of canada', 'rolls royce', 'v.w.', 'volkswagon',\n",
              "       'volkswagan', 'gypsy moth', 'general elect', 'turbomecca',\n",
              "       'pratt&whitney', 'rectimo', 'contiental', 'teledyne/cont', 'vw',\n",
              "       'curtiswright', 'evinrude', 'contnental', 'watson \"vw\"', 'briggs',\n",
              "       'henderson', 'contintental', 'harold guldi', 'outboard',\n",
              "       'gen.electric', 'turbo meca', 'cuyana', 'lycom', 'pratt/whitney',\n",
              "       'u/a of canada', 'pezatel', 'allison c', 'rw', 'o-470l',\n",
              "       'ama (vw)', 'rev.', 'o-360-a4k', 'dehavilland', 'frnklin',\n",
              "       'lycomimg', 'mccullock', 'airresearch', 'mccullough', 'reumaster',\n",
              "       'g e', 'continenatl', 'frankin', 'unk/nr', 'unk', 'p &  w',\n",
              "       'moto guzzi', 'engineair power systems', 'engineair', 'aero-vee',\n",
              "       'arriel', 'pratt and whitney', 'a', 'continental motor',\n",
              "       'compact radial engines', 'suziair', 'lycomming', 'walther',\n",
              "       'le rhone', 'stratus', 'aero engines (vw)', 't.e.c.',\n",
              "       'rolls-royce corporation', 'mz', 'packer engineering', 'avia',\n",
              "       'bombardier/rotax', 'mid-west engines', 'vedeheyev', 'lycon',\n",
              "       'mattituck', 'alliedsignal', 'diemech (walter)', 'pzl-warszana',\n",
              "       'diemech turbines inc', 'eggenfellner', 'pzl', 'gipsy major',\n",
              "       'motori zanzoterra', 'sauer', 'hirthmotoren', 'zanzarterra', 'ai',\n",
              "       'vedeneyez', 'apex', 'verner motor', 'ram racing engines ltd',\n",
              "       'hibbler', 'superior', 'aero motors', 'experimental',\n",
              "       'diamond aircraft', 'eci', 'bradford haines', 'aeromotors s.a.',\n",
              "       'rogers-lycoming', 'honeywell - garrett',\n",
              "       \"america's aircraft engines\", 'povazske stroguarne', 'aero vee',\n",
              "       'allison/rolls-royce', 'paul lee', 'superflite', 'williams',\n",
              "       'yakovlev', 'jpx-pul', 'rolls royce allison', 'agin',\n",
              "       'teledyne continental motors', 'teledyne', 'vedenyev',\n",
              "       'ultimate engines', 'eci titan', 'honeywell aerospace', 'huosai',\n",
              "       'cont motor', 'limbeck', 'thielert', 'diamond', 'vedeneyev',\n",
              "       'superior air parts', 'teledyne-continental', 'wsk-pzl-k',\n",
              "       'covington', 'wsk pzl kalisz', 'gypsey  major', 'chevrolot',\n",
              "       'pratt and whitney of canada', 'allison engine', 'tcm',\n",
              "       'two stroke international', 'bombardier-rotax', 'aero sport',\n",
              "       'dusenberry, mark', 'contl', 'turbo mecca', 'continental motors',\n",
              "       'pratt & whitney aircraft of ca', 'aero sport power ltd',\n",
              "       'xtreem 360', 'teledyne continental motor', 'experimental tcm',\n",
              "       'vedeneev', 'rolls-royce turbomeca', 'heath avn', 'hapi vw',\n",
              "       'jabaru', 'mistral engines, sa', 'rolls-royc',\n",
              "       'contenental teledyne', 'czech', 'pratt and whitney canada',\n",
              "       'hks aviation', 'swa', 'desert aircraft', 'pratt &whitney',\n",
              "       'pratt and whitney - canada', 'warner super scarab', 'diemech',\n",
              "       'walter engine incorporated', 'suburu', 'bombardier-rotax gmbh',\n",
              "       'lycoming engines', 'rotamex', 'avworks', 'chevy', 'dehav eng',\n",
              "       'rotax gmbh & co.', 'rotex', 'honeywell garrett',\n",
              "       'lange flugzeugbau', 'franklyn', 'bombardier rotex', 'lyc',\n",
              "       'rotorway international', 'aero sport power ltd.',\n",
              "       'garrett airesearch', 'pratt &  whitney', 'teledyne mattituck',\n",
              "       'pratt and whitnety canada', 'ariel', 'hummel', 'geo/metro',\n",
              "       'teledyn continental motors', 'ul power',\n",
              "       'volkswagon/great plains', 'aeroconversions', 'p & w canada',\n",
              "       'aerovee', 'gm corvair', 'bombardier rotax', 'exp',\n",
              "       'aero sport power', 'allison (r/r)', 'mattittuck', 'snecma',\n",
              "       'lycoming (modified)', 'pratt whitney canada', 'motorlet',\n",
              "       'solair', 'aireasearch', 'rotec', 'allied', 'garret', 'hks',\n",
              "       'aerosport power', 'nsi aero', 'volkswagoen',\n",
              "       'teledyne-continental motors', 'teledye continental motors',\n",
              "       'national flight services inc', 'lerhone', 'curtiss wright',\n",
              "       'p. ponk', 'vedenev', 'turbomeca usa', 'subuaru', 'cfm intl.',\n",
              "       'cub crafters', 'jorritsma', 'penn-yan', 'curtiss',\n",
              "       'teledyne continental mortors', 'teledyn continental',\n",
              "       'continental motors inc.', 'rolls royce-allison',\n",
              "       'pratt&whitney-canada', 'globe', 'continential motors', 'lycomin',\n",
              "       'garett', 'pwc', 'zanzottera', 'falconer',\n",
              "       'continental motors, inc.', \"continental motor's inc.\",\n",
              "       'cont. motor', 'tmx', 'chevy geo metro', 'great plains/volkswagen',\n",
              "       'compact ra', 'ken royce', 'penn yan aero', 'p&wc', 'vps',\n",
              "       'cfm intl', 'continental motors, inc', 'rolls-royce deutschland',\n",
              "       'cfm international', 'subaru - stratus built', 'wsk-pzl',\n",
              "       'chevrolet corvair', 'cubcrafters', 'continential',\n",
              "       'continental (exp)', 'aero sport power (lycoming)', 'contenental',\n",
              "       'fairchild ranger', 'cub crafter', 'allison / rolls royce',\n",
              "       'garret airesearch', 'morris motors', 'unkn', 'wright cyclone',\n",
              "       'curtis - wright', 'pratt & whitney of canada',\n",
              "       'pratt &whitney canada', 'ge aviation czech', 'vendenyev',\n",
              "       'continental motors inc', 'superior air parts, inc.',\n",
              "       'superior vantage', 'airresearch/honeywell', 'sma', 'p/w canada',\n",
              "       'diemech turbine', 'shvetsoc', 'continental engines',\n",
              "       'rolls royce/ allison', 'hummel engine', 'penn yann aero', 'ram',\n",
              "       'lom praha', 'technoflug', 'timothy a shorey', 'tomansky',\n",
              "       'viking aircraft engines', 'wankel', 'general electrics',\n",
              "       'mid-west', 'allison/rr', 'rolls royce / allison', 'austro',\n",
              "       'national flight service, inc.', 'viking conversion of honda',\n",
              "       'allison rolls royce', 'club crafters inc.', 'adolphson',\n",
              "       'jpx aircraft engines', 'brn-powertrain', 'viking', 'russia',\n",
              "       'continental teledyne motors', 'mccauley', 'housai',\n",
              "       'rolls royce (allison)', 'patt &whitney canada', 'alllison',\n",
              "       'ama/expr lycoming', 'allison 250-c20b', 'lycoiming',\n",
              "       'pratt& whitney', 'greatplains', 'compact radial engines inc.',\n",
              "       'teledyne matituck', 'pratt & whitney-canada', 'yuneec',\n",
              "       'tomanski', 'lycoming-bmw', 'continetal motors',\n",
              "       'aerosport / lycoming', 'lycoming o-360-a1a',\n",
              "       'continental motors, inc.,', 'curtiss-wright', 'continantal',\n",
              "       'rotax gmbh', 'pw&c', 'engine components internationa',\n",
              "       'tyledyne continental motors', 'contental', 'great plans aircraft',\n",
              "       'kinner co', 'pratt & witney', 'rotortway', 'pratt whitney',\n",
              "       'brp rotax gmbh7 co. kg', 'vittorazi', 'bmw', 'pkrd-roll',\n",
              "       'm&d flugzeugbau', 'cont motor p. ponk', 'cont motor/perf eng',\n",
              "       'garrett/airesearch', 'inntec', 'ul', 'aerosport',\n",
              "       'contienental motors', 'wynn corvair',\n",
              "       'ryan falconer racing engines', 'scaled composites',\n",
              "       'pkrd-roll royce', 'titan', 'eggenfellner subaru',\n",
              "       'prat and whitney aircraft', 'ryan', 'tubomecca', 'gmc',\n",
              "       'pratt & whittney', 'motorstar', 'teledine continental motors',\n",
              "       'ramazani & assoc.', 'continental motorc inc.',\n",
              "       'turbine power technologies', 'aeromaxx', 'allison/rolls royce',\n",
              "       'honeywell / airesearch', 'aireaserch/garrett', 'conitnental',\n",
              "       'honeywell/garrett', 'cont-motor', 'continenetal motors',\n",
              "       'burner balloon works', 'continetnal', 'innovator technologies',\n",
              "       'pratt & whitney - canada', 'vw- hummel', 'ly-con',\n",
              "       'continental  motors', 'barrett precision engines', 'lycomong',\n",
              "       'firewall forward', 'warner aircraft engines',\n",
              "       '4 burner type engines', 'garrett research', 'larry woodrow',\n",
              "       'continental/p. ponk', 'arrius', 'eci/titan',\n",
              "       'safran helicopter engines', 'walter/ge',\n",
              "       'continental motor company', 'subaru/eggenfellner', 'mazda/atkins',\n",
              "       'hacker a200', 'safran (formerly turbomeca)', 'pbs', 'contenintal',\n",
              "       'conintental', 'williams international company', 'burkes',\n",
              "       'zeonoa', 'joby motor', 'barrett performance engine'], dtype=object)"
            ]
          },
          "metadata": {},
          "execution_count": 25
        }
      ]
    },
    {
      "cell_type": "code",
      "source": [
        "ntsb_1.drop(columns=['hp_or_lbs', 'ntsb_no'])"
      ],
      "metadata": {
        "colab": {
          "base_uri": "https://localhost:8080/",
          "height": 574
        },
        "id": "VNzxk-7XW1Kl",
        "outputId": "4c940e6f-5276-49ab-cca3-54cc2f71ce62"
      },
      "id": "VNzxk-7XW1Kl",
      "execution_count": 24,
      "outputs": [
        {
          "output_type": "execute_result",
          "data": {
            "text/plain": [
              "        aircraft_ev_id far_part flight_plan_activated damage  \\\n",
              "0       20001204x00000      135                   NaN   subs   \n",
              "1       20001204x00004      135                   NaN   subs   \n",
              "2       20001204x00005      091                   NaN   subs   \n",
              "3       20001204x00006      091                   NaN   dest   \n",
              "4       20001204x00007      091                   NaN   dest   \n",
              "...                ...      ...                   ...    ...   \n",
              "104050  20160721x55442      091                     n   subs   \n",
              "104062  20160721x74604      091                     n   dest   \n",
              "104076  20160721x90029      137                     n   subs   \n",
              "104079  20160722x63338      091                     y   dest   \n",
              "104093  20160723x20253      137                     y   subs   \n",
              "\n",
              "                             acft_make acft_model  cert_max_gr_wt  num_eng  \\\n",
              "0                               cessna        207          3800.0      1.0   \n",
              "1                               cessna        207          3800.0      1.0   \n",
              "2                                piper  pa-22-160          1840.0      1.0   \n",
              "3                                beech        300         14100.0      2.0   \n",
              "4                                piper  pa-28-181          2550.0      1.0   \n",
              "...                                ...        ...             ...      ...   \n",
              "104050          rockwell international        114          3140.0      1.0   \n",
              "104062                           piper      pa 30          2381.0      2.0   \n",
              "104076  grumman acft eng cor-schweizer     g 164a          2500.0      1.0   \n",
              "104079                            vans        rv9             NaN      1.0   \n",
              "104093                 air tractor inc    at 502b             NaN      NaN   \n",
              "\n",
              "       type_last_insp date_last_insp  ...  inj_tot_t  wx_cond_basic  \\\n",
              "0                100h     12/16/1998  ...        1.0            vmc   \n",
              "1                aaip     12/14/1998  ...        NaN            vmc   \n",
              "2                annl      3/14/1998  ...        NaN            vmc   \n",
              "3                aaip      1/14/1999  ...        2.0            imc   \n",
              "4                 unk            NaN  ...        1.0            vmc   \n",
              "...               ...            ...  ...        ...            ...   \n",
              "104050           annl      25-may-16  ...        3.0            vmc   \n",
              "104062           annl      22-sep-15  ...        1.0            vmc   \n",
              "104076           100h      23-jun-16  ...        1.0            vmc   \n",
              "104079           cond      16-jun-16  ...        2.0            vmc   \n",
              "104093           annl      01-may-16  ...        2.0            vmc   \n",
              "\n",
              "       Cause_Factor crew_no crew_category crew_age  crew_sex med_certf  \\\n",
              "0               NaN     NaN           NaN      NaN       NaN       NaN   \n",
              "1               NaN     NaN           NaN      NaN       NaN       NaN   \n",
              "2               NaN     NaN           NaN      NaN       NaN       NaN   \n",
              "3               NaN     NaN           NaN      NaN       NaN       NaN   \n",
              "4               NaN     NaN           NaN      NaN       NaN       NaN   \n",
              "...             ...     ...           ...      ...       ...       ...   \n",
              "104050          NaN     1.0           plt     52.0         m       cl3   \n",
              "104062            c     1.0           plt     58.0         m       cl3   \n",
              "104076            c     1.0           plt     29.0         m       cl2   \n",
              "104079            c     1.0           plt     80.0         m       cl3   \n",
              "104093            c     1.0           plt     25.0         m       cl2   \n",
              "\n",
              "       pilot_flying crew_inj_level  \n",
              "0             False            NaN  \n",
              "1             False            NaN  \n",
              "2             False            NaN  \n",
              "3             False            NaN  \n",
              "4             False            NaN  \n",
              "...             ...            ...  \n",
              "104050         True           none  \n",
              "104062         True           fatl  \n",
              "104076         True           none  \n",
              "104079         True           fatl  \n",
              "104093         True           fatl  \n",
              "\n",
              "[61705 rows x 84 columns]"
            ],
            "text/html": [
              "\n",
              "  <div id=\"df-255001a4-1619-4cc1-ad4e-4cea1669356c\">\n",
              "    <div class=\"colab-df-container\">\n",
              "      <div>\n",
              "<style scoped>\n",
              "    .dataframe tbody tr th:only-of-type {\n",
              "        vertical-align: middle;\n",
              "    }\n",
              "\n",
              "    .dataframe tbody tr th {\n",
              "        vertical-align: top;\n",
              "    }\n",
              "\n",
              "    .dataframe thead th {\n",
              "        text-align: right;\n",
              "    }\n",
              "</style>\n",
              "<table border=\"1\" class=\"dataframe\">\n",
              "  <thead>\n",
              "    <tr style=\"text-align: right;\">\n",
              "      <th></th>\n",
              "      <th>aircraft_ev_id</th>\n",
              "      <th>far_part</th>\n",
              "      <th>flight_plan_activated</th>\n",
              "      <th>damage</th>\n",
              "      <th>acft_make</th>\n",
              "      <th>acft_model</th>\n",
              "      <th>cert_max_gr_wt</th>\n",
              "      <th>num_eng</th>\n",
              "      <th>type_last_insp</th>\n",
              "      <th>date_last_insp</th>\n",
              "      <th>...</th>\n",
              "      <th>inj_tot_t</th>\n",
              "      <th>wx_cond_basic</th>\n",
              "      <th>Cause_Factor</th>\n",
              "      <th>crew_no</th>\n",
              "      <th>crew_category</th>\n",
              "      <th>crew_age</th>\n",
              "      <th>crew_sex</th>\n",
              "      <th>med_certf</th>\n",
              "      <th>pilot_flying</th>\n",
              "      <th>crew_inj_level</th>\n",
              "    </tr>\n",
              "  </thead>\n",
              "  <tbody>\n",
              "    <tr>\n",
              "      <th>0</th>\n",
              "      <td>20001204x00000</td>\n",
              "      <td>135</td>\n",
              "      <td>NaN</td>\n",
              "      <td>subs</td>\n",
              "      <td>cessna</td>\n",
              "      <td>207</td>\n",
              "      <td>3800.0</td>\n",
              "      <td>1.0</td>\n",
              "      <td>100h</td>\n",
              "      <td>12/16/1998</td>\n",
              "      <td>...</td>\n",
              "      <td>1.0</td>\n",
              "      <td>vmc</td>\n",
              "      <td>NaN</td>\n",
              "      <td>NaN</td>\n",
              "      <td>NaN</td>\n",
              "      <td>NaN</td>\n",
              "      <td>NaN</td>\n",
              "      <td>NaN</td>\n",
              "      <td>False</td>\n",
              "      <td>NaN</td>\n",
              "    </tr>\n",
              "    <tr>\n",
              "      <th>1</th>\n",
              "      <td>20001204x00004</td>\n",
              "      <td>135</td>\n",
              "      <td>NaN</td>\n",
              "      <td>subs</td>\n",
              "      <td>cessna</td>\n",
              "      <td>207</td>\n",
              "      <td>3800.0</td>\n",
              "      <td>1.0</td>\n",
              "      <td>aaip</td>\n",
              "      <td>12/14/1998</td>\n",
              "      <td>...</td>\n",
              "      <td>NaN</td>\n",
              "      <td>vmc</td>\n",
              "      <td>NaN</td>\n",
              "      <td>NaN</td>\n",
              "      <td>NaN</td>\n",
              "      <td>NaN</td>\n",
              "      <td>NaN</td>\n",
              "      <td>NaN</td>\n",
              "      <td>False</td>\n",
              "      <td>NaN</td>\n",
              "    </tr>\n",
              "    <tr>\n",
              "      <th>2</th>\n",
              "      <td>20001204x00005</td>\n",
              "      <td>091</td>\n",
              "      <td>NaN</td>\n",
              "      <td>subs</td>\n",
              "      <td>piper</td>\n",
              "      <td>pa-22-160</td>\n",
              "      <td>1840.0</td>\n",
              "      <td>1.0</td>\n",
              "      <td>annl</td>\n",
              "      <td>3/14/1998</td>\n",
              "      <td>...</td>\n",
              "      <td>NaN</td>\n",
              "      <td>vmc</td>\n",
              "      <td>NaN</td>\n",
              "      <td>NaN</td>\n",
              "      <td>NaN</td>\n",
              "      <td>NaN</td>\n",
              "      <td>NaN</td>\n",
              "      <td>NaN</td>\n",
              "      <td>False</td>\n",
              "      <td>NaN</td>\n",
              "    </tr>\n",
              "    <tr>\n",
              "      <th>3</th>\n",
              "      <td>20001204x00006</td>\n",
              "      <td>091</td>\n",
              "      <td>NaN</td>\n",
              "      <td>dest</td>\n",
              "      <td>beech</td>\n",
              "      <td>300</td>\n",
              "      <td>14100.0</td>\n",
              "      <td>2.0</td>\n",
              "      <td>aaip</td>\n",
              "      <td>1/14/1999</td>\n",
              "      <td>...</td>\n",
              "      <td>2.0</td>\n",
              "      <td>imc</td>\n",
              "      <td>NaN</td>\n",
              "      <td>NaN</td>\n",
              "      <td>NaN</td>\n",
              "      <td>NaN</td>\n",
              "      <td>NaN</td>\n",
              "      <td>NaN</td>\n",
              "      <td>False</td>\n",
              "      <td>NaN</td>\n",
              "    </tr>\n",
              "    <tr>\n",
              "      <th>4</th>\n",
              "      <td>20001204x00007</td>\n",
              "      <td>091</td>\n",
              "      <td>NaN</td>\n",
              "      <td>dest</td>\n",
              "      <td>piper</td>\n",
              "      <td>pa-28-181</td>\n",
              "      <td>2550.0</td>\n",
              "      <td>1.0</td>\n",
              "      <td>unk</td>\n",
              "      <td>NaN</td>\n",
              "      <td>...</td>\n",
              "      <td>1.0</td>\n",
              "      <td>vmc</td>\n",
              "      <td>NaN</td>\n",
              "      <td>NaN</td>\n",
              "      <td>NaN</td>\n",
              "      <td>NaN</td>\n",
              "      <td>NaN</td>\n",
              "      <td>NaN</td>\n",
              "      <td>False</td>\n",
              "      <td>NaN</td>\n",
              "    </tr>\n",
              "    <tr>\n",
              "      <th>...</th>\n",
              "      <td>...</td>\n",
              "      <td>...</td>\n",
              "      <td>...</td>\n",
              "      <td>...</td>\n",
              "      <td>...</td>\n",
              "      <td>...</td>\n",
              "      <td>...</td>\n",
              "      <td>...</td>\n",
              "      <td>...</td>\n",
              "      <td>...</td>\n",
              "      <td>...</td>\n",
              "      <td>...</td>\n",
              "      <td>...</td>\n",
              "      <td>...</td>\n",
              "      <td>...</td>\n",
              "      <td>...</td>\n",
              "      <td>...</td>\n",
              "      <td>...</td>\n",
              "      <td>...</td>\n",
              "      <td>...</td>\n",
              "      <td>...</td>\n",
              "    </tr>\n",
              "    <tr>\n",
              "      <th>104050</th>\n",
              "      <td>20160721x55442</td>\n",
              "      <td>091</td>\n",
              "      <td>n</td>\n",
              "      <td>subs</td>\n",
              "      <td>rockwell international</td>\n",
              "      <td>114</td>\n",
              "      <td>3140.0</td>\n",
              "      <td>1.0</td>\n",
              "      <td>annl</td>\n",
              "      <td>25-may-16</td>\n",
              "      <td>...</td>\n",
              "      <td>3.0</td>\n",
              "      <td>vmc</td>\n",
              "      <td>NaN</td>\n",
              "      <td>1.0</td>\n",
              "      <td>plt</td>\n",
              "      <td>52.0</td>\n",
              "      <td>m</td>\n",
              "      <td>cl3</td>\n",
              "      <td>True</td>\n",
              "      <td>none</td>\n",
              "    </tr>\n",
              "    <tr>\n",
              "      <th>104062</th>\n",
              "      <td>20160721x74604</td>\n",
              "      <td>091</td>\n",
              "      <td>n</td>\n",
              "      <td>dest</td>\n",
              "      <td>piper</td>\n",
              "      <td>pa 30</td>\n",
              "      <td>2381.0</td>\n",
              "      <td>2.0</td>\n",
              "      <td>annl</td>\n",
              "      <td>22-sep-15</td>\n",
              "      <td>...</td>\n",
              "      <td>1.0</td>\n",
              "      <td>vmc</td>\n",
              "      <td>c</td>\n",
              "      <td>1.0</td>\n",
              "      <td>plt</td>\n",
              "      <td>58.0</td>\n",
              "      <td>m</td>\n",
              "      <td>cl3</td>\n",
              "      <td>True</td>\n",
              "      <td>fatl</td>\n",
              "    </tr>\n",
              "    <tr>\n",
              "      <th>104076</th>\n",
              "      <td>20160721x90029</td>\n",
              "      <td>137</td>\n",
              "      <td>n</td>\n",
              "      <td>subs</td>\n",
              "      <td>grumman acft eng cor-schweizer</td>\n",
              "      <td>g 164a</td>\n",
              "      <td>2500.0</td>\n",
              "      <td>1.0</td>\n",
              "      <td>100h</td>\n",
              "      <td>23-jun-16</td>\n",
              "      <td>...</td>\n",
              "      <td>1.0</td>\n",
              "      <td>vmc</td>\n",
              "      <td>c</td>\n",
              "      <td>1.0</td>\n",
              "      <td>plt</td>\n",
              "      <td>29.0</td>\n",
              "      <td>m</td>\n",
              "      <td>cl2</td>\n",
              "      <td>True</td>\n",
              "      <td>none</td>\n",
              "    </tr>\n",
              "    <tr>\n",
              "      <th>104079</th>\n",
              "      <td>20160722x63338</td>\n",
              "      <td>091</td>\n",
              "      <td>y</td>\n",
              "      <td>dest</td>\n",
              "      <td>vans</td>\n",
              "      <td>rv9</td>\n",
              "      <td>NaN</td>\n",
              "      <td>1.0</td>\n",
              "      <td>cond</td>\n",
              "      <td>16-jun-16</td>\n",
              "      <td>...</td>\n",
              "      <td>2.0</td>\n",
              "      <td>vmc</td>\n",
              "      <td>c</td>\n",
              "      <td>1.0</td>\n",
              "      <td>plt</td>\n",
              "      <td>80.0</td>\n",
              "      <td>m</td>\n",
              "      <td>cl3</td>\n",
              "      <td>True</td>\n",
              "      <td>fatl</td>\n",
              "    </tr>\n",
              "    <tr>\n",
              "      <th>104093</th>\n",
              "      <td>20160723x20253</td>\n",
              "      <td>137</td>\n",
              "      <td>y</td>\n",
              "      <td>subs</td>\n",
              "      <td>air tractor inc</td>\n",
              "      <td>at 502b</td>\n",
              "      <td>NaN</td>\n",
              "      <td>NaN</td>\n",
              "      <td>annl</td>\n",
              "      <td>01-may-16</td>\n",
              "      <td>...</td>\n",
              "      <td>2.0</td>\n",
              "      <td>vmc</td>\n",
              "      <td>c</td>\n",
              "      <td>1.0</td>\n",
              "      <td>plt</td>\n",
              "      <td>25.0</td>\n",
              "      <td>m</td>\n",
              "      <td>cl2</td>\n",
              "      <td>True</td>\n",
              "      <td>fatl</td>\n",
              "    </tr>\n",
              "  </tbody>\n",
              "</table>\n",
              "<p>61705 rows × 84 columns</p>\n",
              "</div>\n",
              "      <button class=\"colab-df-convert\" onclick=\"convertToInteractive('df-255001a4-1619-4cc1-ad4e-4cea1669356c')\"\n",
              "              title=\"Convert this dataframe to an interactive table.\"\n",
              "              style=\"display:none;\">\n",
              "        \n",
              "  <svg xmlns=\"http://www.w3.org/2000/svg\" height=\"24px\"viewBox=\"0 0 24 24\"\n",
              "       width=\"24px\">\n",
              "    <path d=\"M0 0h24v24H0V0z\" fill=\"none\"/>\n",
              "    <path d=\"M18.56 5.44l.94 2.06.94-2.06 2.06-.94-2.06-.94-.94-2.06-.94 2.06-2.06.94zm-11 1L8.5 8.5l.94-2.06 2.06-.94-2.06-.94L8.5 2.5l-.94 2.06-2.06.94zm10 10l.94 2.06.94-2.06 2.06-.94-2.06-.94-.94-2.06-.94 2.06-2.06.94z\"/><path d=\"M17.41 7.96l-1.37-1.37c-.4-.4-.92-.59-1.43-.59-.52 0-1.04.2-1.43.59L10.3 9.45l-7.72 7.72c-.78.78-.78 2.05 0 2.83L4 21.41c.39.39.9.59 1.41.59.51 0 1.02-.2 1.41-.59l7.78-7.78 2.81-2.81c.8-.78.8-2.07 0-2.86zM5.41 20L4 18.59l7.72-7.72 1.47 1.35L5.41 20z\"/>\n",
              "  </svg>\n",
              "      </button>\n",
              "      \n",
              "  <style>\n",
              "    .colab-df-container {\n",
              "      display:flex;\n",
              "      flex-wrap:wrap;\n",
              "      gap: 12px;\n",
              "    }\n",
              "\n",
              "    .colab-df-convert {\n",
              "      background-color: #E8F0FE;\n",
              "      border: none;\n",
              "      border-radius: 50%;\n",
              "      cursor: pointer;\n",
              "      display: none;\n",
              "      fill: #1967D2;\n",
              "      height: 32px;\n",
              "      padding: 0 0 0 0;\n",
              "      width: 32px;\n",
              "    }\n",
              "\n",
              "    .colab-df-convert:hover {\n",
              "      background-color: #E2EBFA;\n",
              "      box-shadow: 0px 1px 2px rgba(60, 64, 67, 0.3), 0px 1px 3px 1px rgba(60, 64, 67, 0.15);\n",
              "      fill: #174EA6;\n",
              "    }\n",
              "\n",
              "    [theme=dark] .colab-df-convert {\n",
              "      background-color: #3B4455;\n",
              "      fill: #D2E3FC;\n",
              "    }\n",
              "\n",
              "    [theme=dark] .colab-df-convert:hover {\n",
              "      background-color: #434B5C;\n",
              "      box-shadow: 0px 1px 3px 1px rgba(0, 0, 0, 0.15);\n",
              "      filter: drop-shadow(0px 1px 2px rgba(0, 0, 0, 0.3));\n",
              "      fill: #FFFFFF;\n",
              "    }\n",
              "  </style>\n",
              "\n",
              "      <script>\n",
              "        const buttonEl =\n",
              "          document.querySelector('#df-255001a4-1619-4cc1-ad4e-4cea1669356c button.colab-df-convert');\n",
              "        buttonEl.style.display =\n",
              "          google.colab.kernel.accessAllowed ? 'block' : 'none';\n",
              "\n",
              "        async function convertToInteractive(key) {\n",
              "          const element = document.querySelector('#df-255001a4-1619-4cc1-ad4e-4cea1669356c');\n",
              "          const dataTable =\n",
              "            await google.colab.kernel.invokeFunction('convertToInteractive',\n",
              "                                                     [key], {});\n",
              "          if (!dataTable) return;\n",
              "\n",
              "          const docLinkHtml = 'Like what you see? Visit the ' +\n",
              "            '<a target=\"_blank\" href=https://colab.research.google.com/notebooks/data_table.ipynb>data table notebook</a>'\n",
              "            + ' to learn more about interactive tables.';\n",
              "          element.innerHTML = '';\n",
              "          dataTable['output_type'] = 'display_data';\n",
              "          await google.colab.output.renderOutput(dataTable, element);\n",
              "          const docLink = document.createElement('div');\n",
              "          docLink.innerHTML = docLinkHtml;\n",
              "          element.appendChild(docLink);\n",
              "        }\n",
              "      </script>\n",
              "    </div>\n",
              "  </div>\n",
              "  "
            ]
          },
          "metadata": {},
          "execution_count": 24
        }
      ]
    },
    {
      "cell_type": "code",
      "source": [
        "#Cleaning names of engine manufacturers.\n",
        "\n",
        "ntsb_1['eng_mfgr'].mask(ntsb_1['eng_mfgr'] == '1/2 volkswagen', 'volkswagen', inplace=True)\n",
        "ntsb_1['secondary_eng_mfgr'] = np.where(ntsb_1['eng_mfgr'] == 'aero engines (vw)', 'volkswagen', '')\n",
        "ntsb_1['eng_mfgr'].mask(ntsb_1['eng_mfgr'] == '4 burner type engines', '', inplace=True)\n",
        "ntsb_1['eng_mfgr'].mask(ntsb_1['eng_mfgr'] == 'ã\\x80/o', '', inplace=True)\n",
        "ntsb_1['eng_mfgr'].mask(ntsb_1['eng_mfgr'] == 'â\\x82¬', '', inplace=True)\n",
        "ntsb_1['eng_mfgr'].mask(ntsb_1['eng_mfgr'] == 'aero engines (vw)', 'aero engines', inplace=True)\n",
        "ntsb_1['eng_mfgr'].mask(ntsb_1['eng_mfgr'] == 'aero sport', 'aero sport power', inplace=True)\n",
        "ntsb_1['secondary_eng_mfgr'] = np.where(ntsb_1['eng_mfgr'] == 'aero sport power (lycoming)', 'lycoming', '')\n",
        "ntsb_1['eng_mfgr'].mask(ntsb_1['eng_mfgr'] == 'aero sport power (lycoming)', 'aero sport power', inplace=True)\n",
        "ntsb_1['eng_mfgr'].mask(ntsb_1['eng_mfgr'] == 'aero sport power ltd', 'aero sport power', inplace=True)\n",
        "ntsb_1['eng_mfgr'].mask(ntsb_1['eng_mfgr'] == 'aero sport power ltd.', 'aero sport power', inplace=True)\n",
        "ntsb_1['eng_mfgr'].mask(ntsb_1['eng_mfgr'] == 'aero-vee', 'aero vee', inplace=True)\n",
        "ntsb_1['eng_mfgr'].mask(ntsb_1['eng_mfgr'] == 'aeromotors s.a.', 'aero motors', inplace=True)\n",
        "ntsb_1['eng_mfgr'].mask(ntsb_1['eng_mfgr'] == 'aerosport', 'aero sport power', inplace=True)\n",
        "ntsb_1['secondary_eng_mfgr'] = np.where(ntsb_1['eng_mfgr'] == 'aerosport / lycoming', 'lycoming', '')\n",
        "ntsb_1['eng_mfgr'].mask(ntsb_1['eng_mfgr'] == 'aerosport / lycoming', 'aero sport power', inplace=True)\n",
        "ntsb_1['eng_mfgr'].mask(ntsb_1['eng_mfgr'] == 'aerosport power', 'aero sport power', inplace=True)\n",
        "ntsb_1['eng_mfgr'].mask(ntsb_1['eng_mfgr'] == 'aerovee', 'aero vee', inplace=True)\n",
        "ntsb_1['eng_mfgr'].mask(ntsb_1['eng_mfgr'] == 'ai', 'airesearch', inplace=True)\n",
        "ntsb_1['eng_mfgr'].mask(ntsb_1['eng_mfgr'] == 'aireasearch', 'airesearch', inplace=True)\n",
        "ntsb_1['secondary_eng_mfgr'] = np.where(ntsb_1['eng_mfgr'] == 'aireaserch/garrett', 'garrett', '')\n",
        "ntsb_1['eng_mfgr'].mask(ntsb_1['eng_mfgr'] == 'aireaserch/garrett', 'airesearch', inplace=True)\n",
        "ntsb_1['eng_mfgr'].mask(ntsb_1['eng_mfgr'] == 'airresearch', 'airesearch', inplace=True)\n",
        "ntsb_1['secondary_eng_mfgr'] = np.where(ntsb_1['eng_mfgr'] == 'airresearch/honeywell', 'honeywell aerospace', '')\n",
        "ntsb_1['eng_mfgr'].mask(ntsb_1['eng_mfgr'] == 'airresearch/honeywell', 'airesearch', inplace=True)\n",
        "ntsb_1['eng_mfgr'].mask(ntsb_1['eng_mfgr'] == 'allied', 'allied signal', inplace=True)\n",
        "ntsb_1['secondary_eng_mfgr'] = np.where(ntsb_1['eng_mfgr'] == 'allied/honeyw', 'honeywell aerospace', '')\n",
        "ntsb_1['eng_mfgr'].mask(ntsb_1['eng_mfgr'] == 'allied/honeyw', 'allied signal', inplace=True)\n",
        "ntsb_1['eng_mfgr'].mask(ntsb_1['eng_mfgr'] == 'alliedsignal', 'allied signal', inplace=True)\n",
        "ntsb_1['secondary_eng_mfgr'] = np.where(ntsb_1['eng_mfgr'] == 'allison (r/r)', 'rolls-royce', '')\n",
        "ntsb_1['eng_mfgr'].mask(ntsb_1['eng_mfgr'] == 'allison (r/r)', 'allison', inplace=True)\n",
        "ntsb_1['secondary_eng_mfgr'] = np.where(ntsb_1['eng_mfgr'] == 'allison / rolls royce', 'rolls-royce', '')\n",
        "ntsb_1['eng_mfgr'].mask(ntsb_1['eng_mfgr'] == 'allison / rolls royce', 'allison', inplace=True)\n",
        "ntsb_1['eng_mfgr'].mask(ntsb_1['eng_mfgr'] == 'allison 250-c20b', 'allison', inplace=True)\n",
        "ntsb_1['eng_mfgr'].mask(ntsb_1['eng_mfgr'] == 'allison c', 'allison', inplace=True)\n",
        "ntsb_1['eng_mfgr'].mask(ntsb_1['eng_mfgr'] == 'allison engine', 'allison', inplace=True)\n",
        "ntsb_1['secondary_eng_mfgr'] = np.where(ntsb_1['eng_mfgr'] == 'allison rolls royce', 'rolls-royce', '')\n",
        "ntsb_1['eng_mfgr'].mask(ntsb_1['eng_mfgr'] == 'allison rolls royce', 'allison', inplace=True)\n",
        "ntsb_1['secondary_eng_mfgr'] = np.where(ntsb_1['eng_mfgr'] == 'allison/rolls royce', 'rolls-royce', '')\n",
        "ntsb_1['eng_mfgr'].mask(ntsb_1['eng_mfgr'] == 'allison/rolls royce', 'allison', inplace=True)\n",
        "ntsb_1['secondary_eng_mfgr'] = np.where(ntsb_1['eng_mfgr'] == 'allison/rolls-royce', 'rolls-royce', '')\n",
        "ntsb_1['eng_mfgr'].mask(ntsb_1['eng_mfgr'] == 'allison/rolls-royce', 'allison', inplace=True)\n",
        "ntsb_1['secondary_eng_mfgr'] = np.where(ntsb_1['eng_mfgr'] == 'allison/rr', 'rolls-royce', '')\n",
        "ntsb_1['eng_mfgr'].mask(ntsb_1['eng_mfgr'] == 'allison/rr', 'allison', inplace=True)\n",
        "ntsb_1['eng_mfgr'].mask(ntsb_1['eng_mfgr'] == 'alllison', 'allison', inplace=True)\n",
        "ntsb_1['secondary_eng_mfgr'] = np.where(ntsb_1['eng_mfgr'] == 'ama (vw)', 'volkswagen', '')\n",
        "ntsb_1['eng_mfgr'].mask(ntsb_1['eng_mfgr'] == 'ama/expr', 'ama', inplace=True)\n",
        "ntsb_1['secondary_eng_mfgr'] = np.where(ntsb_1['eng_mfgr'] == 'ama/expr lycoming)', 'lycoming', '')\n",
        "ntsb_1['eng_mfgr'].mask(ntsb_1['eng_mfgr'] == 'ama/expr lycoming', 'ama', inplace=True)\n",
        "ntsb_1['eng_mfgr'].mask(ntsb_1['eng_mfgr'] == 'arriel', 'safran helicopter engines', inplace=True)\n",
        "ntsb_1['eng_mfgr'].mask(ntsb_1['eng_mfgr'] == 'ariel', 'safran helicopter engines', inplace=True)\n",
        "ntsb_1['eng_mfgr'].mask(ntsb_1['eng_mfgr'] == 'avco', 'lycoming', inplace=True)\n",
        "ntsb_1['eng_mfgr'].mask(ntsb_1['eng_mfgr'] == 'avco lycoming', 'lycoming', inplace=True)\n",
        "ntsb_1['eng_mfgr'].mask(ntsb_1['eng_mfgr'] == 'barrett precision engines', 'barret precision engines', inplace=True)\n",
        "ntsb_1['eng_mfgr'].mask(ntsb_1['eng_mfgr'] == 'barrett performance engine', 'barret precision engines', inplace=True)\n",
        "ntsb_1['secondary_eng_mfgr'] = np.where(ntsb_1['eng_mfgr'] == 'bmw r-r', 'rolls-royce', '')\n",
        "ntsb_1['eng_mfgr'].mask(ntsb_1['eng_mfgr'] == 'bmw r-r', 'bmw', inplace=True)\n",
        "ntsb_1['secondary_eng_mfgr'] = np.where(ntsb_1['eng_mfgr'] == 'bmw rolls-royce', 'rolls-royce', '')\n",
        "ntsb_1['eng_mfgr'].mask(ntsb_1['eng_mfgr'] == 'bmw rolls-royce', 'bmw', inplace=True)\n",
        "ntsb_1['eng_mfgr'].mask(ntsb_1['eng_mfgr'] == 'bombardier', 'brp-rotax', inplace=True)\n",
        "ntsb_1['eng_mfgr'].mask(ntsb_1['eng_mfgr'] == 'bombardier rotax', 'brp-rotax', inplace=True)\n",
        "ntsb_1['eng_mfgr'].mask(ntsb_1['eng_mfgr'] == 'bombardier rotex', 'brp-rotax', inplace=True)\n",
        "ntsb_1['eng_mfgr'].mask(ntsb_1['eng_mfgr'] == 'bombardier-rotax', 'brp-rotax', inplace=True)\n",
        "ntsb_1['eng_mfgr'].mask(ntsb_1['eng_mfgr'] == 'bombardier', 'brp-rotax', inplace=True)\n",
        "ntsb_1['eng_mfgr'].mask(ntsb_1['eng_mfgr'] == 'bombardier/rotax', 'brp-rotax', inplace=True)\n",
        "ntsb_1['eng_mfgr'].mask(ntsb_1['eng_mfgr'] == 'bristsidviper', 'Armstrong Siddeley', inplace=True)\n",
        "ntsb_1['eng_mfgr'].mask(ntsb_1['eng_mfgr'] == 'brp rotax gmbh7 co. kg', 'brp-rotax', inplace=True)\n",
        "ntsb_1['eng_mfgr'].mask(ntsb_1['eng_mfgr'] == 'cfm', 'cfm international', inplace=True)\n",
        "ntsb_1['eng_mfgr'].mask(ntsb_1['eng_mfgr'] == 'cfm intl', 'cfm international', inplace=True)\n",
        "ntsb_1['eng_mfgr'].mask(ntsb_1['eng_mfgr'] == 'cfm intl.', 'cfm international', inplace=True)\n",
        "ntsb_1['eng_mfgr'].mask(ntsb_1['eng_mfgr'] == 'chapallal', 'elroy air chaparral', inplace=True)\n",
        "ntsb_1['eng_mfgr'].mask(ntsb_1['eng_mfgr'] == 'chevrolet corvair', 'chevrolet', inplace=True)\n",
        "ntsb_1['eng_mfgr'].mask(ntsb_1['eng_mfgr'] == 'chevrolot', 'chevrolet', inplace=True)\n",
        "ntsb_1['eng_mfgr'].mask(ntsb_1['eng_mfgr'] == 'chevy', 'chevrolet', inplace=True)\n",
        "ntsb_1['eng_mfgr'].mask(ntsb_1['eng_mfgr'] == 'chevy geo metro', 'chevrolet', inplace=True)\n",
        "ntsb_1['eng_mfgr'].mask(ntsb_1['eng_mfgr'] == 'club crafters inc.', 'club crafters, inc.', inplace=True)\n",
        "ntsb_1['eng_mfgr'].mask(ntsb_1['eng_mfgr'] == 'compact ra', 'compact radial engines, inc.', inplace=True)\n",
        "ntsb_1['eng_mfgr'].mask(ntsb_1['eng_mfgr'] == 'compact radial engines', 'compact radial engines, inc.', inplace=True)\n",
        "ntsb_1['eng_mfgr'].mask(ntsb_1['eng_mfgr'] == 'compact radial engines inc.', 'compact radial engines, inc.', inplace=True)\n",
        "ntsb_1['eng_mfgr'].mask(ntsb_1['eng_mfgr'] == 'continental motor\\'s inc', 'continental motors, inc.', inplace=True)\n",
        "ntsb_1['eng_mfgr'].mask(ntsb_1['eng_mfgr'] == 'conintental', 'continental motors, inc.', inplace=True)\n",
        "ntsb_1['eng_mfgr'].mask(ntsb_1['eng_mfgr'] == 'conitnental', 'continental motors, inc.', inplace=True)\n",
        "ntsb_1['eng_mfgr'].mask(ntsb_1['eng_mfgr'] == 'cont motor', 'continental motors, inc.', inplace=True)\n",
        "ntsb_1['secondary_eng_mfgr'] = np.where(ntsb_1['eng_mfgr'] == 'cont motor p. ponk', 'p.ponk', '')\n",
        "ntsb_1['eng_mfgr'].mask(ntsb_1['eng_mfgr'] == 'cont motor p. ponk', 'continental motors, inc.', inplace=True)\n",
        "ntsb_1['eng_mfgr'].mask(ntsb_1['eng_mfgr'] == 'cont motor/perf eng', 'continental motors, inc.', inplace=True)\n",
        "ntsb_1['eng_mfgr'].mask(ntsb_1['eng_mfgr'] == 'cont-motor', 'continental motors, inc.', inplace=True)\n",
        "ntsb_1['eng_mfgr'].mask(ntsb_1['eng_mfgr'] == 'cont. motor', 'continental motors, inc.', inplace=True)\n",
        "ntsb_1['eng_mfgr'].mask(ntsb_1['eng_mfgr'] == 'contenental', 'continental motors, inc.', inplace=True)\n",
        "ntsb_1['secondary_eng_mfgr'] = np.where(ntsb_1['eng_mfgr'] == 'contenental teledyne', 'teledyne turbine engines', '')\n",
        "ntsb_1['eng_mfgr'].mask(ntsb_1['eng_mfgr'] == 'contenental teledyne', 'continental motors, inc.', inplace=True)\n",
        "ntsb_1['eng_mfgr'].mask(ntsb_1['eng_mfgr'] == 'contenintal', 'continental motors, inc.', inplace=True)\n",
        "ntsb_1['eng_mfgr'].mask(ntsb_1['eng_mfgr'] == 'contental', 'continental motors, inc.', inplace=True)\n",
        "ntsb_1['eng_mfgr'].mask(ntsb_1['eng_mfgr'] == 'contenental', 'continental motors, inc.', inplace=True)\n",
        "ntsb_1['eng_mfgr'].mask(ntsb_1['eng_mfgr'] == 'contenental', 'continental motors, inc.', inplace=True)\n",
        "ntsb_1['eng_mfgr'].mask(ntsb_1['eng_mfgr'] == 'contenental', 'continental motors, inc.', inplace=True)\n",
        "ntsb_1['eng_mfgr'].mask(ntsb_1['eng_mfgr'] == 'contenental', 'continental motors, inc.', inplace=True)\n",
        "ntsb_1['eng_mfgr'].mask(ntsb_1['eng_mfgr'] == 'contenental', 'continental motors, inc.', inplace=True)\n",
        "ntsb_1['eng_mfgr'].mask(ntsb_1['eng_mfgr'] == 'contenental', 'continental motors, inc.', inplace=True)\n",
        "ntsb_1['eng_mfgr'].mask(ntsb_1['eng_mfgr'] == 'contenental', 'continental motors, inc.', inplace=True)\n",
        "ntsb_1['eng_mfgr'].mask(ntsb_1['eng_mfgr'] == 'contenental', 'continental motors, inc.', inplace=True)\n",
        "ntsb_1['eng_mfgr'].mask(ntsb_1['eng_mfgr'] == 'contenental', 'continental motors, inc.', inplace=True)\n",
        "ntsb_1['eng_mfgr'].mask(ntsb_1['eng_mfgr'] == 'contenental', 'continental motors, inc.', inplace=True)\n",
        "ntsb_1['eng_mfgr'].mask(ntsb_1['eng_mfgr'] == 'contenental', 'continental motors, inc.', inplace=True)\n",
        "ntsb_1['eng_mfgr'].mask(ntsb_1['eng_mfgr'] == 'contenental', 'continental motors, inc.', inplace=True)\n",
        "ntsb_1['eng_mfgr'].mask(ntsb_1['eng_mfgr'] == 'contenental', 'continental motors, inc.', inplace=True)\n",
        "ntsb_1['eng_mfgr'].mask(ntsb_1['eng_mfgr'] == 'contenental', 'continental motors, inc.', inplace=True)\n",
        "ntsb_1['eng_mfgr'].mask(ntsb_1['eng_mfgr'] == 'contenental', 'continental motors, inc.', inplace=True)\n",
        "ntsb_1['eng_mfgr'].mask(ntsb_1['eng_mfgr'] == 'contenental', 'continental motors, inc.', inplace=True)\n",
        "ntsb_1['eng_mfgr'].mask(ntsb_1['eng_mfgr'] == 'contenental', 'continental motors, inc.', inplace=True)\n",
        "ntsb_1['eng_mfgr'].mask(ntsb_1['eng_mfgr'] == 'contenental', 'continental motors, inc.', inplace=True)\n",
        "ntsb_1['eng_mfgr'].mask(ntsb_1['eng_mfgr'] == 'contenental', 'continental motors, inc.', inplace=True)\n",
        "ntsb_1['secondary_eng_mfgr'] = np.where(ntsb_1['eng_mfgr'] == 'continental teledyne motors', 'teledyne turbine engines', '')\n",
        "ntsb_1['eng_mfgr'].mask(ntsb_1['eng_mfgr'] == 'continental teledyne motors', 'continental motors, inc.', inplace=True)\n",
        "ntsb_1['secondary_eng_mfgr'] = np.where(ntsb_1['eng_mfgr'] == 'continental/p. ponk', 'p.ponk', '')\n",
        "ntsb_1['eng_mfgr'].mask(ntsb_1['eng_mfgr'] == 'continental/p. ponk', 'continental motors, inc.', inplace=True)\n",
        "ntsb_1['eng_mfgr'].mask(ntsb_1['eng_mfgr'] == 'continential', 'continental motors, inc.', inplace=True)\n",
        "ntsb_1['eng_mfgr'].mask(ntsb_1['eng_mfgr'] == 'continential motors', 'continental motors, inc.', inplace=True)\n",
        "ntsb_1['eng_mfgr'].mask(ntsb_1['eng_mfgr'] == 'continetal motors', 'continental motors, inc.', inplace=True)\n",
        "ntsb_1['eng_mfgr'].mask(ntsb_1['eng_mfgr'] == 'continetnal', 'continental motors, inc.', inplace=True)\n",
        "ntsb_1['eng_mfgr'].mask(ntsb_1['eng_mfgr'] == 'contintental', 'continental motors, inc.', inplace=True)\n",
        "ntsb_1['eng_mfgr'].mask(ntsb_1['eng_mfgr'] == 'contl', 'continental motors, inc.', inplace=True)\n",
        "ntsb_1['eng_mfgr'].mask(ntsb_1['eng_mfgr'] == 'contnental', 'continental motors, inc.', inplace=True)\n",
        "ntsb_1['eng_mfgr'].mask(ntsb_1['eng_mfgr'] == 'corvair', 'chevrolet', inplace=True)\n",
        "ntsb_1['eng_mfgr'].mask(ntsb_1['eng_mfgr'] == 'covington', 'covington aircraft engines', inplace=True)\n",
        "ntsb_1['eng_mfgr'].mask(ntsb_1['eng_mfgr'] == 'cub crafter', 'club crafters, inc.', inplace=True)\n",
        "ntsb_1['eng_mfgr'].mask(ntsb_1['eng_mfgr'] == 'cub crafters', 'club crafters, inc.', inplace=True)\n",
        "ntsb_1['eng_mfgr'].mask(ntsb_1['eng_mfgr'] == 'cubcrafters', 'club crafters, inc.', inplace=True)\n",
        "ntsb_1['eng_mfgr'].mask(ntsb_1['eng_mfgr'] == 'curtis - wright', 'curtiss-wright', inplace=True)\n",
        "ntsb_1['eng_mfgr'].mask(ntsb_1['eng_mfgr'] == 'curtis wright', 'curtiss-wright', inplace=True)\n",
        "ntsb_1['eng_mfgr'].mask(ntsb_1['eng_mfgr'] == 'curtis-wright', 'curtiss-wright', inplace=True)\n",
        "ntsb_1['eng_mfgr'].mask(ntsb_1['eng_mfgr'] == 'curtiss', 'curtiss-wright', inplace=True)\n",
        "ntsb_1['eng_mfgr'].mask(ntsb_1['eng_mfgr'] == 'curtiss wright', 'curtiss-wright', inplace=True)\n",
        "ntsb_1['eng_mfgr'].mask(ntsb_1['eng_mfgr'] == 'curtiswright', 'curtiss-wright', inplace=True)\n",
        "ntsb_1['eng_mfgr'].mask(ntsb_1['eng_mfgr'] == 'custom', np.nan, inplace=True)\n",
        "ntsb_1['eng_mfgr'].mask(ntsb_1['eng_mfgr'] == 'cuyana', 'cuyuna', inplace=True)\n",
        "ntsb_1['eng_mfgr'].mask(ntsb_1['eng_mfgr'] == 'dehav eng', 'de havilland', inplace=True)\n",
        "ntsb_1['eng_mfgr'].mask(ntsb_1['eng_mfgr'] == 'dehavilland', 'de havilland', inplace=True)\n",
        "ntsb_1['eng_mfgr'].mask(ntsb_1['eng_mfgr'] == 'detr. diesel', 'detroit diesel', inplace=True)\n",
        "ntsb_1['eng_mfgr'].mask(ntsb_1['eng_mfgr'] == 'diamond', 'diamond aircraft', inplace=True)\n",
        "ntsb_1['eng_mfgr'].mask(ntsb_1['eng_mfgr'] == 'diemech', 'diemech turbines', inplace=True)\n",
        "ntsb_1['secondary_eng_mfgr'] = np.where(ntsb_1['eng_mfgr'] == 'diemech (walter)', 'walter aircraft engines', '')\n",
        "ntsb_1['eng_mfgr'].mask(ntsb_1['eng_mfgr'] == 'diemech (walter)', 'diemech turbines', inplace=True)\n",
        "ntsb_1['eng_mfgr'].mask(ntsb_1['eng_mfgr'] == 'diemech turbine', 'diemech turbines', inplace=True)\n",
        "ntsb_1['eng_mfgr'].mask(ntsb_1['eng_mfgr'] == 'diemech turbines inc', 'diemech turbines', inplace=True)\n",
        "ntsb_1['eng_mfgr'].mask(ntsb_1['eng_mfgr'] == 'eci', 'engine components, inc.', inplace=True)\n",
        "ntsb_1['eng_mfgr'].mask(ntsb_1['eng_mfgr'] == 'eci titan', 'engine components, inc.', inplace=True)\n",
        "ntsb_1['eng_mfgr'].mask(ntsb_1['eng_mfgr'] == 'eci/titan', 'engine components, inc.', inplace=True)\n",
        "ntsb_1['eng_mfgr'].mask(ntsb_1['eng_mfgr'] == 'eggenfellner', 'eggenfellner aircraft, inc.', inplace=True)\n",
        "ntsb_1['secondary_eng_mfgr'] = np.where(ntsb_1['eng_mfgr'] == 'eggenfellner subaru', 'subaru', '')\n",
        "ntsb_1['eng_mfgr'].mask(ntsb_1['eng_mfgr'] == 'eggenfellner subaru', 'eggenfellner aircraft, inc.', inplace=True)\n",
        "ntsb_1['eng_mfgr'].mask(ntsb_1['eng_mfgr'] == 'elizalde, s.a.', 'elizalde', inplace=True)\n",
        "ntsb_1['eng_mfgr'].mask(ntsb_1['eng_mfgr'] == 'engine components internationa', 'engine components international', inplace=True)\n",
        "ntsb_1['eng_mfgr'].mask(ntsb_1['eng_mfgr'] == 'engineair', 'engineair power systems', inplace=True)\n",
        "ntsb_1['eng_mfgr'].mask(ntsb_1['eng_mfgr'] == 'exp', 'experimental', inplace=True)\n",
        "ntsb_1['eng_mfgr'].mask(ntsb_1['eng_mfgr'] == 'experimental tcm', 'experimental', inplace=True)\n",
        "ntsb_1['eng_mfgr'].mask(ntsb_1['eng_mfgr'] == 'falconer', 'ryan falconer racing engines', inplace=True)\n",
        "ntsb_1['eng_mfgr'].mask(ntsb_1['eng_mfgr'] == 'falconer eng.', 'ryan falconer racing engines', inplace=True)\n",
        "ntsb_1['eng_mfgr'].mask(ntsb_1['eng_mfgr'] == 'frankin', 'franklin aircraft engines', inplace=True)\n",
        "ntsb_1['eng_mfgr'].mask(ntsb_1['eng_mfgr'] == 'franklin', 'franklin aircraft engines', inplace=True)\n",
        "ntsb_1['eng_mfgr'].mask(ntsb_1['eng_mfgr'] == 'franklyn', 'franklin aircraft engines', inplace=True)\n",
        "ntsb_1['eng_mfgr'].mask(ntsb_1['eng_mfgr'] == 'frnklin', 'franklin aircraft engines', inplace=True)\n",
        "ntsb_1['eng_mfgr'].mask(ntsb_1['eng_mfgr'] == 'g e', 'general electric', inplace=True)\n",
        "ntsb_1['eng_mfgr'].mask(ntsb_1['eng_mfgr'] == 'garett', 'garret', inplace=True)\n",
        "ntsb_1['secondary_eng_mfgr'] = np.where(ntsb_1['eng_mfgr'] == 'garret airesearch', 'airesearch', '')\n",
        "ntsb_1['eng_mfgr'].mask(ntsb_1['eng_mfgr'] == 'garret airesearch', 'garret', inplace=True)\n",
        "ntsb_1['secondary_eng_mfgr'] = np.where(ntsb_1['eng_mfgr'] == 'garret/honeywell', 'honeywell aerospace', '')\n",
        "ntsb_1['eng_mfgr'].mask(ntsb_1['eng_mfgr'] == 'garret/honeywell', 'garret', inplace=True)\n",
        "ntsb_1['eng_mfgr'].mask(ntsb_1['eng_mfgr'] == 'garrett', 'garret', inplace=True)\n",
        "ntsb_1['secondary_eng_mfgr'] = np.where(ntsb_1['eng_mfgr'] == 'garrett airesearch', 'airesearch', '')\n",
        "ntsb_1['eng_mfgr'].mask(ntsb_1['eng_mfgr'] == 'garrett airesearch', 'garret', inplace=True)\n",
        "ntsb_1['secondary_eng_mfgr'] = np.where(ntsb_1['eng_mfgr'] == 'garrett research', 'airesearch', '')\n",
        "ntsb_1['eng_mfgr'].mask(ntsb_1['eng_mfgr'] == 'garrett research', 'garret', inplace=True)\n",
        "ntsb_1['secondary_eng_mfgr'] = np.where(ntsb_1['eng_mfgr'] == 'garrett-airesearch', 'airesearch', '')\n",
        "ntsb_1['eng_mfgr'].mask(ntsb_1['eng_mfgr'] == 'garrett-airesearch', 'garret', inplace=True)\n",
        "ntsb_1['secondary_eng_mfgr'] = np.where(ntsb_1['eng_mfgr'] == 'garrett/airesearch', 'airesearch', '')\n",
        "ntsb_1['eng_mfgr'].mask(ntsb_1['eng_mfgr'] == 'garrett/airesearch', 'garret', inplace=True)\n",
        "ntsb_1['secondary_eng_mfgr'] = np.where(ntsb_1['eng_mfgr'] == 'garrett/honeywell', 'honeywell aerospace', '')\n",
        "ntsb_1['eng_mfgr'].mask(ntsb_1['eng_mfgr'] == 'garrett/honeywell', 'garret', inplace=True)\n",
        "ntsb_1['eng_mfgr'].mask(ntsb_1['eng_mfgr'] == 'ge', 'general electric', inplace=True)\n",
        "ntsb_1['eng_mfgr'].mask(ntsb_1['eng_mfgr'] == 'ge aviation czech', 'general electric', inplace=True)\n",
        "ntsb_1['eng_mfgr'].mask(ntsb_1['eng_mfgr'] == 'gen.electric', 'general electric', inplace=True)\n",
        "ntsb_1['eng_mfgr'].mask(ntsb_1['eng_mfgr'] == 'general elect', 'general electric', inplace=True)\n",
        "ntsb_1['eng_mfgr'].mask(ntsb_1['eng_mfgr'] == 'general electrics', 'general electric', inplace=True)\n",
        "ntsb_1['eng_mfgr'].mask(ntsb_1['eng_mfgr'] == 'geo/metro', 'geo metro', inplace=True)\n",
        "ntsb_1['eng_mfgr'].mask(ntsb_1['eng_mfgr'] == 'gipsy major', 'de havilland', inplace=True)\n",
        "ntsb_1['eng_mfgr'].mask(ntsb_1['eng_mfgr'] == 'gm', 'general motors', inplace=True)\n",
        "ntsb_1['eng_mfgr'].mask(ntsb_1['eng_mfgr'] == 'gm corvair', 'general motors', inplace=True)\n",
        "ntsb_1['eng_mfgr'].mask(ntsb_1['eng_mfgr'] == 'great plains', 'great plains aircraft supply company', inplace=True)\n",
        "ntsb_1['secondary_eng_mfgr'] = np.where(ntsb_1['eng_mfgr'] == 'great plains/volkswagen', 'volkswagen', '')\n",
        "ntsb_1['eng_mfgr'].mask(ntsb_1['eng_mfgr'] == 'great plains/volkswagen', 'great plains aircraft supply company', inplace=True)\n",
        "ntsb_1['eng_mfgr'].mask(ntsb_1['eng_mfgr'] == 'great plans aircraft', 'great plains aircraft supply company', inplace=True)\n",
        "ntsb_1['eng_mfgr'].mask(ntsb_1['eng_mfgr'] == 'greatplains', 'great plains aircraft supply company', inplace=True)\n",
        "ntsb_1['eng_mfgr'].mask(ntsb_1['eng_mfgr'] == 'grob', 'grob aircraft', inplace=True)\n",
        "ntsb_1['eng_mfgr'].mask(ntsb_1['eng_mfgr'] == 'gypsey major', 'de havilland', inplace=True)\n",
        "ntsb_1['eng_mfgr'].mask(ntsb_1['eng_mfgr'] == 'gypsy major', 'de havilland', inplace=True)\n",
        "ntsb_1['eng_mfgr'].mask(ntsb_1['eng_mfgr'] == 'gipsy major', 'de havilland', inplace=True)\n",
        "ntsb_1['eng_mfgr'].mask(ntsb_1['eng_mfgr'] == 'gypsy minor', 'de havilland', inplace=True)\n",
        "ntsb_1['eng_mfgr'].mask(ntsb_1['eng_mfgr'] == 'gypsy moth', 'de havilland', inplace=True)\n",
        "ntsb_1['eng_mfgr'].mask(ntsb_1['eng_mfgr'] == 'hacker a200', 'hacker', inplace=True)\n",
        "ntsb_1['secondary_eng_mfgr'] = np.where(ntsb_1['eng_mfgr'] == 'hapi vw', 'volkswagen', '')\n",
        "ntsb_1['eng_mfgr'].mask(ntsb_1['eng_mfgr'] == 'hapi vw', 'hapi', inplace=True)\n",
        "ntsb_1['eng_mfgr'].mask(ntsb_1['eng_mfgr'] == 'heath avn', 'heath airplane company', inplace=True)\n",
        "ntsb_1['eng_mfgr'].mask(ntsb_1['eng_mfgr'] == 'hirsh', 'hirth engines', inplace=True)\n",
        "ntsb_1['eng_mfgr'].mask(ntsb_1['eng_mfgr'] == 'hirth', 'hirth engines', inplace=True)\n",
        "ntsb_1['eng_mfgr'].mask(ntsb_1['eng_mfgr'] == 'hirthmotoren', 'hirth engines', inplace=True)\n",
        "ntsb_1['eng_mfgr'].mask(ntsb_1['eng_mfgr'] == 'hirtmotoren', 'hirth engines', inplace=True)\n",
        "ntsb_1['eng_mfgr'].mask(ntsb_1['eng_mfgr'] == 'hks', 'hks aviation engines', inplace=True)\n",
        "ntsb_1['eng_mfgr'].mask(ntsb_1['eng_mfgr'] == 'hks aviation', 'hks aviation engines', inplace=True)\n",
        "ntsb_1['eng_mfgr'].mask(ntsb_1['eng_mfgr'] == 'honeywell', 'honeywell aerospace', inplace=True)\n",
        "ntsb_1['secondary_eng_mfgr'] = np.where(ntsb_1['eng_mfgr'] == 'honeywell - garrett', 'garret', '')\n",
        "ntsb_1['eng_mfgr'].mask(ntsb_1['eng_mfgr'] == 'honeywell - garrett', 'honeywell aerospace', inplace=True)\n",
        "ntsb_1['secondary_eng_mfgr'] = np.where(ntsb_1['eng_mfgr'] == 'honeywell / airesearch', 'airesearch', '')\n",
        "ntsb_1['eng_mfgr'].mask(ntsb_1['eng_mfgr'] == 'honeywell / airesearch', 'honeywell aerospace', inplace=True)\n",
        "ntsb_1['secondary_eng_mfgr'] = np.where(ntsb_1['eng_mfgr'] == 'honeywell garrett', 'garret', '')\n",
        "ntsb_1['eng_mfgr'].mask(ntsb_1['eng_mfgr'] == 'honeywell garrett', 'honeywell aerospace', inplace=True)\n",
        "ntsb_1['secondary_eng_mfgr'] = np.where(ntsb_1['eng_mfgr'] == 'honeywell/garrett', 'garret', '')\n",
        "ntsb_1['eng_mfgr'].mask(ntsb_1['eng_mfgr'] == 'honeywell/garrett', 'honeywell aerospace', inplace=True)\n",
        "ntsb_1['secondary_eng_mfgr'] = np.where(ntsb_1['eng_mfgr'] == 'honeywell/lyc', 'lycoming', '')\n",
        "ntsb_1['eng_mfgr'].mask(ntsb_1['eng_mfgr'] == 'honeywell/lyc', 'honeywell aerospace', inplace=True)\n",
        "ntsb_1['eng_mfgr'].mask(ntsb_1['eng_mfgr'] == 'housia', 'housai', inplace=True)\n",
        "ntsb_1['eng_mfgr'].mask(ntsb_1['eng_mfgr'] == 'hummel', 'hummel engines', inplace=True)\n",
        "ntsb_1['eng_mfgr'].mask(ntsb_1['eng_mfgr'] == 'huosai', 'housai', inplace=True)\n",
        "ntsb_1['eng_mfgr'].mask(ntsb_1['eng_mfgr'] == 'inntec', 'innovator technologies', inplace=True)\n",
        "ntsb_1['eng_mfgr'].mask(ntsb_1['eng_mfgr'] == 'int harvester', 'solar aircraft', inplace=True)\n",
        "ntsb_1['eng_mfgr'].mask(ntsb_1['eng_mfgr'] == 'ivchenco', 'ivchenko okb', inplace=True)\n",
        "ntsb_1['eng_mfgr'].mask(ntsb_1['eng_mfgr'] == 'ivchenko', 'ivchenko okb', inplace=True)\n",
        "ntsb_1['eng_mfgr'].mask(ntsb_1['eng_mfgr'] == 'jabaru', 'jabiru aircraft', inplace=True)\n",
        "ntsb_1['eng_mfgr'].mask(ntsb_1['eng_mfgr'] == 'jabiru', 'jabiru aircraft', inplace=True)\n",
        "ntsb_1['eng_mfgr'].mask(ntsb_1['eng_mfgr'] == 'jpx', 'jpx aircraft engines', inplace=True)\n",
        "ntsb_1['eng_mfgr'].mask(ntsb_1['eng_mfgr'] == 'jpx aircraft engines', 'jpx aircraft engines', inplace=True)\n",
        "ntsb_1['eng_mfgr'].mask(ntsb_1['eng_mfgr'] == 'jpx-pul', 'jpx aircraft engines', inplace=True)\n",
        "ntsb_1['eng_mfgr'].mask(ntsb_1['eng_mfgr'] == 'kfm', 'italian american motor engineering', inplace=True)\n",
        "ntsb_1['eng_mfgr'].mask(ntsb_1['eng_mfgr'] == 'kinner', 'kinner airplane & motor corporation', inplace=True)\n",
        "ntsb_1['eng_mfgr'].mask(ntsb_1['eng_mfgr'] == 'kinner co', 'kinner airplane & motor corporation', inplace=True)\n",
        "ntsb_1['eng_mfgr'].mask(ntsb_1['eng_mfgr'] == 'le rhone', 'société des moteurs le rhôn', inplace=True)\n",
        "ntsb_1['eng_mfgr'].mask(ntsb_1['eng_mfgr'] == 'lerhone', 'société des moteurs le rhôn', inplace=True)\n",
        "ntsb_1['eng_mfgr'].mask(ntsb_1['eng_mfgr'] == 'limbach', 'limbach', inplace=True)\n",
        "ntsb_1['eng_mfgr'].mask(ntsb_1['eng_mfgr'] == 'limbeck', 'limbach', inplace=True)\n",
        "ntsb_1['eng_mfgr'].mask(ntsb_1['eng_mfgr'] == 'lom', 'lom praha', inplace=True)\n",
        "ntsb_1['eng_mfgr'].mask(ntsb_1['eng_mfgr'] == 'ly-con', 'lycoming', inplace=True)\n",
        "ntsb_1['eng_mfgr'].mask(ntsb_1['eng_mfgr'] == 'lyc', 'lycoming', inplace=True)\n",
        "ntsb_1['secondary_eng_mfgr'] = np.where(ntsb_1['eng_mfgr'] == 'lyco/wright', 'curtiss-wright', '')\n",
        "ntsb_1['eng_mfgr'].mask(ntsb_1['eng_mfgr'] == 'lyco/wright', 'lycoming', inplace=True)\n",
        "ntsb_1['eng_mfgr'].mask(ntsb_1['eng_mfgr'] == 'lycoiming', 'lycoming', inplace=True)\n",
        "ntsb_1['eng_mfgr'].mask(ntsb_1['eng_mfgr'] == 'lycom', 'lycoming', inplace=True)\n",
        "ntsb_1['eng_mfgr'].mask(ntsb_1['eng_mfgr'] == 'lycomimg', 'lycoming', inplace=True)\n",
        "ntsb_1['eng_mfgr'].mask(ntsb_1['eng_mfgr'] == 'lycomin', 'lycoming', inplace=True)\n",
        "ntsb_1['secondary_eng_mfgr'] = np.where(ntsb_1['eng_mfgr'] == 'lycoming (curtis-wright)', 'curtiss-wright', '')\n",
        "ntsb_1['eng_mfgr'].mask(ntsb_1['eng_mfgr'] == 'lycoming (curtis-wright)', 'lycoming', inplace=True)\n",
        "ntsb_1['eng_mfgr'].mask(ntsb_1['eng_mfgr'] == 'lycoming (modified)', 'lycoming', inplace=True)\n",
        "ntsb_1['eng_mfgr'].mask(ntsb_1['eng_mfgr'] == 'lycoming engines', 'lycoming', inplace=True)\n",
        "ntsb_1['eng_mfgr'].mask(ntsb_1['eng_mfgr'] == 'lycoming o-360-a1a', 'lycoming', inplace=True)\n",
        "ntsb_1['secondary_eng_mfgr'] = np.where(ntsb_1['eng_mfgr'] == 'lycoming-bmw', 'bmw', '')\n",
        "ntsb_1['eng_mfgr'].mask(ntsb_1['eng_mfgr'] == 'lycoming-bmw', 'lycoming', inplace=True)\n",
        "ntsb_1['secondary_eng_mfgr'] = np.where(ntsb_1['eng_mfgr'] == 'lycoming/honeywell', 'honeywell aerospace', '')\n",
        "ntsb_1['eng_mfgr'].mask(ntsb_1['eng_mfgr'] == 'lycoming/honeywell', 'lycoming', inplace=True)\n",
        "ntsb_1['eng_mfgr'].mask(ntsb_1['eng_mfgr'] == 'lycomming', 'lycoming', inplace=True)\n",
        "ntsb_1['eng_mfgr'].mask(ntsb_1['eng_mfgr'] == 'lycomong', 'lycoming', inplace=True)\n",
        "ntsb_1['eng_mfgr'].mask(ntsb_1['eng_mfgr'] == 'lycon', 'lycoming', inplace=True)\n",
        "ntsb_1['eng_mfgr'].mask(ntsb_1['eng_mfgr'] == 'mattittuck', 'teledyne turbine engines', inplace=True)\n",
        "ntsb_1['eng_mfgr'].mask(ntsb_1['eng_mfgr'] == 'mattituck', 'teledyne turbine engines', inplace=True)\n",
        "ntsb_1['secondary_eng_mfgr'] = np.where(ntsb_1['eng_mfgr'] == 'mazda/atkins', 'atkins', '')\n",
        "ntsb_1['eng_mfgr'].mask(ntsb_1['eng_mfgr'] == 'mazda/atkins', 'mazda', inplace=True)\n",
        "ntsb_1['eng_mfgr'].mask(ntsb_1['eng_mfgr'] == 'mcculloch', 'mcculloch aircraft corporation', inplace=True)\n",
        "ntsb_1['eng_mfgr'].mask(ntsb_1['eng_mfgr'] == 'mccullock', 'mcculloch aircraft corporation', inplace=True)\n",
        "ntsb_1['eng_mfgr'].mask(ntsb_1['eng_mfgr'] == 'mccullough', 'mcculloch aircraft corporation', inplace=True)\n",
        "ntsb_1['eng_mfgr'].mask(ntsb_1['eng_mfgr'] == 'mid-west', 'jet midwest, inc.', inplace=True)\n",
        "ntsb_1['eng_mfgr'].mask(ntsb_1['eng_mfgr'] == 'mid-west engines', 'jet midwest, inc.', inplace=True)\n",
        "ntsb_1['eng_mfgr'].mask(ntsb_1['eng_mfgr'] == 'morris motors', 'morris engines limited', inplace=True)\n",
        "ntsb_1['eng_mfgr'].mask(ntsb_1['eng_mfgr'] == 'motori zanzoterra', 'zanzottera technologies', inplace=True)\n",
        "ntsb_1['eng_mfgr'].mask(ntsb_1['eng_mfgr'] == 'mz', 'zanzottera technologies', inplace=True)\n",
        "ntsb_1['eng_mfgr'].mask(ntsb_1['eng_mfgr'] == 'national flight service', 'national flight services, inc.', inplace=True)\n",
        "ntsb_1['eng_mfgr'].mask(ntsb_1['eng_mfgr'] == 'national flight service', 'national flight services, inc.', inplace=True)\n",
        "ntsb_1['eng_mfgr'].mask(ntsb_1['eng_mfgr'] == 'national flight services inc', 'national flight services, inc.', inplace=True)\n",
        "ntsb_1['eng_mfgr'].mask(ntsb_1['eng_mfgr'] == 'none', np.nan, inplace=True)\n",
        "ntsb_1['eng_mfgr'].mask(ntsb_1['eng_mfgr'] == 'northrop corp', 'northrop corporation ', inplace=True)\n",
        "ntsb_1['eng_mfgr'].mask(ntsb_1['eng_mfgr'] == 'nsi', 'nsi propulsion systems, inc.', inplace=True)\n",
        "ntsb_1['eng_mfgr'].mask(ntsb_1['eng_mfgr'] == 'nsi aero', 'nsi propulsion systems, inc.', inplace=True)\n",
        "ntsb_1['eng_mfgr'].mask(ntsb_1['eng_mfgr'] == 'o-360-a4k', 'lycoming', inplace=True)\n",
        "ntsb_1['eng_mfgr'].mask(ntsb_1['eng_mfgr'] == 'o-470l', 'teledyne continental motors', inplace=True)\n",
        "ntsb_1['eng_mfgr'].mask(ntsb_1['eng_mfgr'] == 'p & w', 'pratt & whitney', inplace=True)\n",
        "ntsb_1['eng_mfgr'].mask(ntsb_1['eng_mfgr'] == 'p & w', 'pratt & whitney', inplace=True)\n",
        "ntsb_1['eng_mfgr'].mask(ntsb_1['eng_mfgr'] == 'p & w canada', 'pratt & whitney canada', inplace=True)\n",
        "ntsb_1['eng_mfgr'].mask(ntsb_1['eng_mfgr'] == 'p. ponk', 'p.ponk', inplace=True)\n",
        "ntsb_1['eng_mfgr'].mask(ntsb_1['eng_mfgr'] == 'p/w canada', 'pratt & whitney canada', inplace=True)\n",
        "ntsb_1['eng_mfgr'].mask(ntsb_1['eng_mfgr'] == 'p&w', 'pratt & whitney', inplace=True)\n",
        "ntsb_1['eng_mfgr'].mask(ntsb_1['eng_mfgr'] == 'p&w canada', 'pratt & whitney canada', inplace=True)\n",
        "ntsb_1['eng_mfgr'].mask(ntsb_1['eng_mfgr'] == 'p&wc', 'pratt & whitney canada', inplace=True)\n",
        "ntsb_1['eng_mfgr'].mask(ntsb_1['eng_mfgr'] == 'packard', 'packard motors', inplace=True)\n",
        "ntsb_1['secondary_eng_mfgr'] = np.where(ntsb_1['eng_mfgr'] == 'packard r.r.', 'rolls-royce', '')\n",
        "ntsb_1['eng_mfgr'].mask(ntsb_1['eng_mfgr'] == 'packard r.r.', 'packard motors', inplace=True)\n",
        "ntsb_1['secondary_eng_mfgr'] = np.where(ntsb_1['eng_mfgr'] == 'packard rolls royce', 'rolls-royce', '')\n",
        "ntsb_1['eng_mfgr'].mask(ntsb_1['eng_mfgr'] == 'packard rolls royce', 'packard motors', inplace=True)\n",
        "ntsb_1['eng_mfgr'].mask(ntsb_1['eng_mfgr'] == 'patt &whitney canada', 'pratt & whitney canada', inplace=True)\n",
        "ntsb_1['eng_mfgr'].mask(ntsb_1['eng_mfgr'] == 'pbs', 'pbs aerospace', inplace=True)\n",
        "ntsb_1['eng_mfgr'].mask(ntsb_1['eng_mfgr'] == 'penn yann aero', 'penn yan aero', inplace=True)\n",
        "ntsb_1['eng_mfgr'].mask(ntsb_1['eng_mfgr'] == 'penn-yan', 'penn yan aero', inplace=True)\n",
        "ntsb_1['eng_mfgr'].mask(ntsb_1['eng_mfgr'] == 'pezatel', 'pezetel', inplace=True)\n",
        "ntsb_1['secondary_eng_mfgr'] = np.where(ntsb_1['eng_mfgr'] == 'pkrd-roll', 'rolls-royce', '')\n",
        "ntsb_1['eng_mfgr'].mask(ntsb_1['eng_mfgr'] == 'pkrd-roll', 'packard motors', inplace=True)\n",
        "ntsb_1['secondary_eng_mfgr'] = np.where(ntsb_1['eng_mfgr'] == 'pkrd-roll royce', 'rolls-royce', '')\n",
        "ntsb_1['eng_mfgr'].mask(ntsb_1['eng_mfgr'] == 'pkrd-roll royce', 'pkrd-roll royce', inplace=True)\n",
        "ntsb_1['eng_mfgr'].mask(ntsb_1['eng_mfgr'] == 'polaris', 'walter aircraft engines', inplace=True)\n",
        "ntsb_1['eng_mfgr'].mask(ntsb_1['eng_mfgr'] == 'prat and whitney aircraft', 'pratt & whitney', inplace=True)\n",
        "ntsb_1['eng_mfgr'].mask(ntsb_1['eng_mfgr'] == 'pratt & whitney - canada', 'pratt & whitney canada', inplace=True)\n",
        "ntsb_1['eng_mfgr'].mask(ntsb_1['eng_mfgr'] == 'pratt & whitney aircraft of ca', 'pratt & whitney canada', inplace=True)\n",
        "ntsb_1['eng_mfgr'].mask(ntsb_1['eng_mfgr'] == 'pratt & whitney of canada', 'pratt & whitney canada', inplace=True)\n",
        "ntsb_1['eng_mfgr'].mask(ntsb_1['eng_mfgr'] == 'pratt & whitney-canada', 'pratt & whitney canada', inplace=True)\n",
        "ntsb_1['eng_mfgr'].mask(ntsb_1['eng_mfgr'] == 'prat and whitney aircraft', 'pratt & whitney', inplace=True)\n",
        "ntsb_1['eng_mfgr'].mask(ntsb_1['eng_mfgr'] == 'pratt & witney', 'pratt & whitney', inplace=True)\n",
        "ntsb_1['eng_mfgr'].mask(ntsb_1['eng_mfgr'] == 'pratt &whitney canada', 'pratt & whitney canada', inplace=True)\n",
        "ntsb_1['eng_mfgr'].mask(ntsb_1['eng_mfgr'] == 'pratt and whitnety canada', 'pratt & whitney canada', inplace=True)\n",
        "ntsb_1['eng_mfgr'].mask(ntsb_1['eng_mfgr'] == 'pratt and whitney', 'pratt & whitney', inplace=True)\n",
        "ntsb_1['eng_mfgr'].mask(ntsb_1['eng_mfgr'] == 'pratt and whitney - canada', 'pratt & whitney canada', inplace=True)\n",
        "ntsb_1['eng_mfgr'].mask(ntsb_1['eng_mfgr'] == 'pratt and whitney canada', 'pratt & whitney canada', inplace=True)\n",
        "ntsb_1['eng_mfgr'].mask(ntsb_1['eng_mfgr'] == 'pratt and whitney of canada', 'pratt & whitney canada', inplace=True)\n",
        "ntsb_1['eng_mfgr'].mask(ntsb_1['eng_mfgr'] == 'pratt whitney', 'pratt & whitney', inplace=True)\n",
        "ntsb_1['eng_mfgr'].mask(ntsb_1['eng_mfgr'] == 'pratt whitney canada', 'pratt & whitney canada', inplace=True)\n",
        "ntsb_1['eng_mfgr'].mask(ntsb_1['eng_mfgr'] == 'pratt-whitney', 'pratt & whitney', inplace=True)\n",
        "ntsb_1['eng_mfgr'].mask(ntsb_1['eng_mfgr'] == 'pratt/whitney', 'pratt & whitney', inplace=True)\n",
        "ntsb_1['eng_mfgr'].mask(ntsb_1['eng_mfgr'] == 'pratt& whitney', 'pratt & whitney', inplace=True)\n",
        "ntsb_1['eng_mfgr'].mask(ntsb_1['eng_mfgr'] == 'pratt&whitney', 'pratt & whitney', inplace=True)\n",
        "ntsb_1['eng_mfgr'].mask(ntsb_1['eng_mfgr'] == 'pratt&whitney-canada', 'pratt & whitney canada', inplace=True)\n",
        "ntsb_1['eng_mfgr'].mask(ntsb_1['eng_mfgr'] == 'pw&c', 'pratt & whitney canada', inplace=True)\n",
        "ntsb_1['eng_mfgr'].mask(ntsb_1['eng_mfgr'] == 'pwc', 'pratt & whitney canada', inplace=True)\n",
        "ntsb_1['eng_mfgr'].mask(ntsb_1['eng_mfgr'] == 'pzl mielec', 'pzl', inplace=True)\n",
        "ntsb_1['eng_mfgr'].mask(ntsb_1['eng_mfgr'] == 'pzl wsk', 'pzl', inplace=True)\n",
        "ntsb_1['eng_mfgr'].mask(ntsb_1['eng_mfgr'] == 'pzl-kalisz', 'pzl', inplace=True)\n",
        "ntsb_1['eng_mfgr'].mask(ntsb_1['eng_mfgr'] == 'pzl-okecie', 'pzl', inplace=True)\n",
        "ntsb_1['eng_mfgr'].mask(ntsb_1['eng_mfgr'] == 'pzl-rzeszow', 'pzl', inplace=True)\n",
        "ntsb_1['eng_mfgr'].mask(ntsb_1['eng_mfgr'] == 'pzl-warszana', 'pzl', inplace=True)\n",
        "ntsb_1['eng_mfgr'].mask(ntsb_1['eng_mfgr'] == 'ram', 'ram racing engines, ltd.', inplace=True)\n",
        "ntsb_1['eng_mfgr'].mask(ntsb_1['eng_mfgr'] == 'ram racing engines ltd', 'ram racing engines, ltd.', inplace=True)\n",
        "ntsb_1['eng_mfgr'].mask(ntsb_1['eng_mfgr'] == 'rev.', 'revmaster aviation', inplace=True)\n",
        "ntsb_1['eng_mfgr'].mask(ntsb_1['eng_mfgr'] == 'revmaster', 'revmaster aviation', inplace=True)\n",
        "ntsb_1['secondary_eng_mfgr'] = np.where(ntsb_1['eng_mfgr'] == 'rogers-lycoming', 'lycoming', '')\n",
        "ntsb_1['eng_mfgr'].mask(ntsb_1['eng_mfgr'] == 'rogers-lycoming', 'rogers', inplace=True)\n",
        "ntsb_1['eng_mfgr'].mask(ntsb_1['eng_mfgr'] == 'rolls royce', 'rolls-royce', inplace=True)\n",
        "ntsb_1['secondary_eng_mfgr'] = np.where(ntsb_1['eng_mfgr'] == 'rolls royce (allison)', 'allison', '')\n",
        "ntsb_1['eng_mfgr'].mask(ntsb_1['eng_mfgr'] == 'rolls royce (allison)', 'rolls-royce', inplace=True)\n",
        "ntsb_1['secondary_eng_mfgr'] = np.where(ntsb_1['eng_mfgr'] == 'rolls royce / allison', 'allison', '')\n",
        "ntsb_1['eng_mfgr'].mask(ntsb_1['eng_mfgr'] == 'rolls royce / allison', 'rolls-royce', inplace=True)\n",
        "ntsb_1['secondary_eng_mfgr'] = np.where(ntsb_1['eng_mfgr'] == 'rolls royce allison', 'allison', '')\n",
        "ntsb_1['eng_mfgr'].mask(ntsb_1['eng_mfgr'] == 'rolls royce allison', 'rolls-royce', inplace=True)\n",
        "ntsb_1['secondary_eng_mfgr'] = np.where(ntsb_1['eng_mfgr'] == 'rolls royce-allison', 'allison', '')\n",
        "ntsb_1['eng_mfgr'].mask(ntsb_1['eng_mfgr'] == 'rolls royce-allison', 'rolls-royce', inplace=True)\n",
        "ntsb_1['secondary_eng_mfgr'] = np.where(ntsb_1['eng_mfgr'] == 'rolls royce/ allison', 'allison', '')\n",
        "ntsb_1['eng_mfgr'].mask(ntsb_1['eng_mfgr'] == 'rolls royce/ allison', 'rolls-royce', inplace=True)\n",
        "ntsb_1['secondary_eng_mfgr'] = np.where(ntsb_1['eng_mfgr'] == 'rolls royce/allison', 'allison', '')\n",
        "ntsb_1['eng_mfgr'].mask(ntsb_1['eng_mfgr'] == 'rolls royce/allison', 'rolls-royce', inplace=True)\n",
        "ntsb_1['eng_mfgr'].mask(ntsb_1['eng_mfgr'] == 'rolls-royc', 'rolls-royce', inplace=True)\n",
        "ntsb_1['secondary_eng_mfgr'] = np.where(ntsb_1['eng_mfgr'] == 'rolls-royce allison', 'allison', '')\n",
        "ntsb_1['eng_mfgr'].mask(ntsb_1['eng_mfgr'] == 'rolls-royce allison', 'rolls-royce', inplace=True)\n",
        "ntsb_1['eng_mfgr'].mask(ntsb_1['eng_mfgr'] == 'rolls-royce corporation', 'rolls-royce', inplace=True)\n",
        "ntsb_1['eng_mfgr'].mask(ntsb_1['eng_mfgr'] == 'rolls-royce deutschland', 'rolls-royce', inplace=True)\n",
        "ntsb_1['secondary_eng_mfgr'] = np.where(ntsb_1['eng_mfgr'] == 'rolls-royce turbomeca', 'safran helicopter engines', '')\n",
        "ntsb_1['eng_mfgr'].mask(ntsb_1['eng_mfgr'] == 'rolls-royce turbomeca', 'rolls-royce', inplace=True)\n",
        "ntsb_1['secondary_eng_mfgr'] = np.where(ntsb_1['eng_mfgr'] == 'rolls-royce(allison)', 'allison', '')\n",
        "ntsb_1['eng_mfgr'].mask(ntsb_1['eng_mfgr'] == 'rolls-royce(allison)', 'rolls-royce', inplace=True)\n",
        "ntsb_1['eng_mfgr'].mask(ntsb_1['eng_mfgr'] == 'rotax', 'brp-rotax', inplace=True)\n",
        "ntsb_1['eng_mfgr'].mask(ntsb_1['eng_mfgr'] == 'rotax gmbh', 'brp-rotax', inplace=True)\n",
        "ntsb_1['eng_mfgr'].mask(ntsb_1['eng_mfgr'] == 'rotax gmbh & co.', 'brp-rotax', inplace=True)\n",
        "ntsb_1['eng_mfgr'].mask(ntsb_1['eng_mfgr'] == 'rotec', 'brp-rotax', inplace=True)\n",
        "ntsb_1['eng_mfgr'].mask(ntsb_1['eng_mfgr'] == 'rotex', 'brp-rotax', inplace=True)\n",
        "ntsb_1['eng_mfgr'].mask(ntsb_1['eng_mfgr'] == 'rotortway', 'rotorway international, inc.', inplace=True)\n",
        "ntsb_1['eng_mfgr'].mask(ntsb_1['eng_mfgr'] == 'rotorway', 'rotorway international, inc.', inplace=True)\n",
        "ntsb_1['eng_mfgr'].mask(ntsb_1['eng_mfgr'] == 'rotorway international', 'rotorway international, inc.', inplace=True)\n",
        "ntsb_1['eng_mfgr'].mask(ntsb_1['eng_mfgr'] == 'rw', 'rotorway international, inc.', inplace=True)\n",
        "ntsb_1['eng_mfgr'].mask(ntsb_1['eng_mfgr'] == 'ryan', 'ryan falconer racing engines', inplace=True)\n",
        "ntsb_1['eng_mfgr'].mask(ntsb_1['eng_mfgr'] == 'safran (formerly turbomeca)', 'safran helicopter engines', inplace=True)\n",
        "ntsb_1['eng_mfgr'].mask(ntsb_1['eng_mfgr'] == 'shvetsoc', 'shvetsov', inplace=True)\n",
        "ntsb_1['eng_mfgr'].mask(ntsb_1['eng_mfgr'] == 'solair', 'solair group, llc', inplace=True)\n",
        "ntsb_1['secondary_eng_mfgr'] = np.where(ntsb_1['eng_mfgr'] == 'subaru - stratus built', 'stratus 2000, inc.', '')\n",
        "ntsb_1['eng_mfgr'].mask(ntsb_1['eng_mfgr'] == 'subaru - stratus built', 'subaru', inplace=True)\n",
        "ntsb_1['secondary_eng_mfgr'] = np.where(ntsb_1['eng_mfgr'] == 'subaru/eggenfellner', 'eggenfellner aircraft, llc', '')\n",
        "ntsb_1['eng_mfgr'].mask(ntsb_1['eng_mfgr'] == 'subaru/eggenfellner', 'subaru', inplace=True)\n",
        "ntsb_1['eng_mfgr'].mask(ntsb_1['eng_mfgr'] == 'subuaru', 'subaru', inplace=True)\n",
        "ntsb_1['eng_mfgr'].mask(ntsb_1['eng_mfgr'] == 'suburu', 'subaru', inplace=True)\n",
        "ntsb_1['eng_mfgr'].mask(ntsb_1['eng_mfgr'] == 'superior', 'superior air parts, inc.', inplace=True)\n",
        "ntsb_1['eng_mfgr'].mask(ntsb_1['eng_mfgr'] == 'superior air parts', 'superior air parts, inc.', inplace=True)\n",
        "ntsb_1['eng_mfgr'].mask(ntsb_1['eng_mfgr'] == 'teledine continental motors', 'teledyne turbine engines', inplace=True)\n",
        "ntsb_1['eng_mfgr'].mask(ntsb_1['eng_mfgr'] == 'teledye continental motors', 'teledyne turbine engines', inplace=True)\n",
        "ntsb_1['eng_mfgr'].mask(ntsb_1['eng_mfgr'] == 'teledyn continental', 'teledyne turbine engines', inplace=True)\n",
        "ntsb_1['eng_mfgr'].mask(ntsb_1['eng_mfgr'] == 'teledyn continental motors', 'teledyne turbine engines', inplace=True)\n",
        "ntsb_1['eng_mfgr'].mask(ntsb_1['eng_mfgr'] == 'teledyne', 'teledyne turbine engines', inplace=True)\n",
        "ntsb_1['eng_mfgr'].mask(ntsb_1['eng_mfgr'] == 'teledyne cont', 'teledyne turbine engines', inplace=True)\n",
        "ntsb_1['eng_mfgr'].mask(ntsb_1['eng_mfgr'] == 'teledyne continental', 'teledyne turbine engines', inplace=True)\n",
        "ntsb_1['eng_mfgr'].mask(ntsb_1['eng_mfgr'] == 'teledyne continental mortors', 'teledyne turbine engines', inplace=True)\n",
        "ntsb_1['eng_mfgr'].mask(ntsb_1['eng_mfgr'] == 'teledyne continental motor', 'teledyne turbine engines', inplace=True)\n",
        "ntsb_1['eng_mfgr'].mask(ntsb_1['eng_mfgr'] == 'teledyne continental motors', 'teledyne turbine engines', inplace=True)\n",
        "ntsb_1['eng_mfgr'].mask(ntsb_1['eng_mfgr'] == 'teledyne matituck', 'teledyne turbine engines', inplace=True)\n",
        "ntsb_1['eng_mfgr'].mask(ntsb_1['eng_mfgr'] == 'teledyne mattituck', 'teledyne turbine engines', inplace=True)\n",
        "ntsb_1['eng_mfgr'].mask(ntsb_1['eng_mfgr'] == 'teledyne-continental', 'teledyne turbine engines', inplace=True)\n",
        "ntsb_1['eng_mfgr'].mask(ntsb_1['eng_mfgr'] == 'teledyne-continental motors', 'teledyne turbine engines', inplace=True)\n",
        "ntsb_1['eng_mfgr'].mask(ntsb_1['eng_mfgr'] == 'teledyne/cont', 'teledyne turbine engines', inplace=True)\n",
        "ntsb_1['secondary_eng_mfgr'] = np.where(ntsb_1['eng_mfgr'] == 'textron lyc.', 'lycoming', '')\n",
        "ntsb_1['eng_mfgr'].mask(ntsb_1['eng_mfgr'] == 'textron lyc.', 'textron aviation', inplace=True)\n",
        "ntsb_1['secondary_eng_mfgr'] = np.where(ntsb_1['eng_mfgr'] == 'textron lycoming', 'lycoming', '')\n",
        "ntsb_1['eng_mfgr'].mask(ntsb_1['eng_mfgr'] == 'textron lycoming', 'lycoming', inplace=True)\n",
        "ntsb_1['eng_mfgr'].mask(ntsb_1['eng_mfgr'] == 'titan', 'continental aerospace technologies', inplace=True)\n",
        "ntsb_1['eng_mfgr'].mask(ntsb_1['eng_mfgr'] == 'tmx', 'teledyne turbine engines', inplace=True)\n",
        "ntsb_1['eng_mfgr'].mask(ntsb_1['eng_mfgr'] == 'tomanski', 'tumanski', inplace=True)\n",
        "ntsb_1['eng_mfgr'].mask(ntsb_1['eng_mfgr'] == 'toyota/auto', 'toyota', inplace=True)\n",
        "ntsb_1['eng_mfgr'].mask(ntsb_1['eng_mfgr'] == 'tubomecca', 'safran helicopter engines', inplace=True)\n",
        "ntsb_1['eng_mfgr'].mask(ntsb_1['eng_mfgr'] == 'turbo meca', 'safran helicopter engines', inplace=True)\n",
        "ntsb_1['eng_mfgr'].mask(ntsb_1['eng_mfgr'] == 'tubomecca', 'safran helicopter engines', inplace=True)\n",
        "ntsb_1['eng_mfgr'].mask(ntsb_1['eng_mfgr'] == 'turbomeca', 'safran helicopter engines', inplace=True)\n",
        "ntsb_1['eng_mfgr'].mask(ntsb_1['eng_mfgr'] == 'turbomeca usa', 'safran helicopter engines', inplace=True)\n",
        "ntsb_1['eng_mfgr'].mask(ntsb_1['eng_mfgr'] == 'turbomecca', 'safran helicopter engines', inplace=True)\n",
        "ntsb_1['eng_mfgr'].mask(ntsb_1['eng_mfgr'] == 'two stroke international', '2si', inplace=True)\n",
        "ntsb_1['eng_mfgr'].mask(ntsb_1['eng_mfgr'] == 'tyledyne continental motors', 'teledyne turbine engines', inplace=True)\n",
        "ntsb_1['eng_mfgr'].mask(ntsb_1['eng_mfgr'] == 'u/a of canada', 'u/a canada', inplace=True)\n",
        "ntsb_1['eng_mfgr'].mask(ntsb_1['eng_mfgr'] == 'ul', 'ulpower aero engines', inplace=True)\n",
        "ntsb_1['eng_mfgr'].mask(ntsb_1['eng_mfgr'] == 'ul power', 'ulpower aero engines', inplace=True)\n",
        "ntsb_1['eng_mfgr'].mask(ntsb_1['eng_mfgr'] == 'unk', np.nan, inplace=True)\n",
        "ntsb_1['eng_mfgr'].mask(ntsb_1['eng_mfgr'] == 'unk/nr', np.nan, inplace=True)\n",
        "ntsb_1['eng_mfgr'].mask(ntsb_1['eng_mfgr'] == 'unkn', np.nan, inplace=True)\n",
        "ntsb_1['eng_mfgr'].mask(ntsb_1['eng_mfgr'] == 'unknown', np.nan, inplace=True)\n",
        "ntsb_1['eng_mfgr'].mask(ntsb_1['eng_mfgr'] == 'v.w.', 'volkswagen', inplace=True)\n",
        "ntsb_1['eng_mfgr'].mask(ntsb_1['eng_mfgr'] == 'vedeheyev', 'vedeneyev', inplace=True)\n",
        "ntsb_1['eng_mfgr'].mask(ntsb_1['eng_mfgr'] == 'vedeneev', 'vedeneyev', inplace=True)\n",
        "ntsb_1['eng_mfgr'].mask(ntsb_1['eng_mfgr'] == 'vedenev', 'vedeneyev', inplace=True)\n",
        "ntsb_1['eng_mfgr'].mask(ntsb_1['eng_mfgr'] == 'vedeneyev', 'vedeneyev', inplace=True)\n",
        "ntsb_1['eng_mfgr'].mask(ntsb_1['eng_mfgr'] == 'vedeneyez', 'vedeneyev', inplace=True)\n",
        "ntsb_1['eng_mfgr'].mask(ntsb_1['eng_mfgr'] == 'vedenyev', 'vedeneyev', inplace=True)\n",
        "ntsb_1['eng_mfgr'].mask(ntsb_1['eng_mfgr'] == 'vellie', 'velie', inplace=True)\n",
        "ntsb_1['eng_mfgr'].mask(ntsb_1['eng_mfgr'] == 'vendeneyev', 'vedeneyev', inplace=True)\n",
        "ntsb_1['eng_mfgr'].mask(ntsb_1['eng_mfgr'] == 'vendenyev', 'vedeneyev', inplace=True)\n",
        "ntsb_1['eng_mfgr'].mask(ntsb_1['eng_mfgr'] == 'viking', 'viking aircraft engines', inplace=True)\n",
        "ntsb_1['eng_mfgr'].mask(ntsb_1['eng_mfgr'] == 'viking aircraft engines', 'viking aircraft engines', inplace=True)\n",
        "ntsb_1['secondary_eng_mfgr'] = np.where(ntsb_1['eng_mfgr'] == 'viking conversion of honda', 'honda', '')\n",
        "ntsb_1['eng_mfgr'].mask(ntsb_1['eng_mfgr'] == 'viking conversion of honda', 'viking aircraft engines', inplace=True)\n",
        "ntsb_1['eng_mfgr'].mask(ntsb_1['eng_mfgr'] == 'volkswagan', 'volkswagen', inplace=True)\n",
        "ntsb_1['eng_mfgr'].mask(ntsb_1['eng_mfgr'] == 'volkswagoen', 'volkswagen', inplace=True)\n",
        "ntsb_1['eng_mfgr'].mask(ntsb_1['eng_mfgr'] == 'volkswagon', 'volkswagen', inplace=True)\n",
        "ntsb_1['secondary_eng_mfgr'] = np.where(ntsb_1['eng_mfgr'] == 'volkswagon/great plains', 'great plains aircraft supply company', '')\n",
        "ntsb_1['eng_mfgr'].mask(ntsb_1['eng_mfgr'] == 'volkswagon/great plains', 'volkswagen', inplace=True)\n",
        "ntsb_1['eng_mfgr'].mask(ntsb_1['eng_mfgr'] == 'vw', 'volkswagen', inplace=True)\n",
        "ntsb_1['secondary_eng_mfgr'] = np.where(ntsb_1['eng_mfgr'] == 'vw- hummel', 'hummel', '')\n",
        "ntsb_1['eng_mfgr'].mask(ntsb_1['eng_mfgr'] == 'vw- hummel', 'volkswagen', inplace=True)\n",
        "ntsb_1['eng_mfgr'].mask(ntsb_1['eng_mfgr'] == 'walter', 'walter aircraft engines', inplace=True)\n",
        "ntsb_1['eng_mfgr'].mask(ntsb_1['eng_mfgr'] == 'walter engine incorporated', 'walter aircraft engines', inplace=True)\n",
        "ntsb_1['secondary_eng_mfgr'] = np.where(ntsb_1['eng_mfgr'] == 'walter/ge', 'general electric', '')\n",
        "ntsb_1['eng_mfgr'].mask(ntsb_1['eng_mfgr'] == 'walter/ge', 'walter aircraft engines', inplace=True)\n",
        "ntsb_1['eng_mfgr'].mask(ntsb_1['eng_mfgr'] == 'walther', 'walter aircraft engines', inplace=True)\n",
        "ntsb_1['eng_mfgr'].mask(ntsb_1['eng_mfgr'] == 'warner', 'warner aircraft corporation', inplace=True)\n",
        "ntsb_1['eng_mfgr'].mask(ntsb_1['eng_mfgr'] == 'warner aircraft engines', 'warner aircraft corporation', inplace=True)\n",
        "ntsb_1['eng_mfgr'].mask(ntsb_1['eng_mfgr'] == 'warner super scarab', 'warner aircraft corporation', inplace=True)\n",
        "ntsb_1['secondary_eng_mfgr'] = np.where(ntsb_1['eng_mfgr'] == 'watson \"vw\"', 'volkswagen', '')\n",
        "ntsb_1['eng_mfgr'].mask(ntsb_1['eng_mfgr'] == 'watson \"vw\"', 'watson', inplace=True)\n",
        "ntsb_1['eng_mfgr'].mask(ntsb_1['eng_mfgr'] == 'williams', 'williams international', inplace=True)\n",
        "ntsb_1['eng_mfgr'].mask(ntsb_1['eng_mfgr'] == 'williams', 'williams international company', inplace=True)\n",
        "ntsb_1['eng_mfgr'].mask(ntsb_1['eng_mfgr'] == 'williams', 'williams intl', inplace=True)\n",
        "ntsb_1['eng_mfgr'].mask(ntsb_1['eng_mfgr'] == 'wright', 'curtiss-wright', inplace=True)\n",
        "ntsb_1['eng_mfgr'].mask(ntsb_1['eng_mfgr'] == 'wright cyclone', 'curtiss-wright', inplace=True)\n",
        "ntsb_1['eng_mfgr'].mask(ntsb_1['eng_mfgr'] == 'wsk', 'pzl wsk-kalisz', inplace=True)\n",
        "ntsb_1['eng_mfgr'].mask(ntsb_1['eng_mfgr'] == 'wsk pzl kalis', 'pzl wsk-kalisz', inplace=True)\n",
        "ntsb_1['eng_mfgr'].mask(ntsb_1['eng_mfgr'] == 'wsk pzl kalisz', 'pzl wsk-kalisz', inplace=True)\n",
        "ntsb_1['eng_mfgr'].mask(ntsb_1['eng_mfgr'] == 'wsk-pzl', 'pzl wsk-kalisz', inplace=True)\n",
        "ntsb_1['eng_mfgr'].mask(ntsb_1['eng_mfgr'] == 'wsk-pzl-k', 'pzl wsk-kalisz', inplace=True)\n",
        "ntsb_1['eng_mfgr'].mask(ntsb_1['eng_mfgr'] == 'wynn corvair', 'wynn', inplace=True)\n",
        "ntsb_1['eng_mfgr'].mask(ntsb_1['eng_mfgr'] == 'xtreem 360', 'xtremeair gmbh', inplace=True)\n",
        "ntsb_1['eng_mfgr'].mask(ntsb_1['eng_mfgr'] == 'zanzarterra', 'zanzottera technologies', inplace=True)\n",
        "ntsb_1['eng_mfgr'].mask(ntsb_1['eng_mfgr'] == 'zanzottera', 'zanzottera technologies', inplace=True)\n",
        "ntsb_1['eng_mfgr'].mask(ntsb_1['eng_mfgr'] == 'zeonoa', 'zenoah', inplace=True)"
      ],
      "metadata": {
        "id": "I0ENd75FW1L9"
      },
      "id": "I0ENd75FW1L9",
      "execution_count": 33,
      "outputs": []
    },
    {
      "cell_type": "markdown",
      "source": [
        "Plans for columns: <br>\n",
        "'rwy_num': Not sure... should we leave this? Or maybe join airport and runway number? <br>\n",
        "'rwy_len': bucketize lengths<br>\n",
        "'rwy_width': format number (currently scientific), then bucketize widths<br>\n",
        "'ifr_equipped_cert': Good as is.<br>\n",
        "'eng_no': Remove 448 nulls?<br>\n",
        "'eng_type': Not sure what this is referring to.. need to spell these out when I figure it out... thinking 'elec' is electric.. <br>\n",
        "'eng_mfgr': Consolidate engine manufacturers (i.e. gm and general motors)<br>\n",
        "'hp_or_lbs': Change dtype from int64 to string, also, is this needed?<br>\n",
        "'carb_fuel_injection': Change dtype from int64 to string <br>\n",
        "'eng_time_total': bucketize hours<br>\n",
        "'eng_time_last_insp': format number (currently scientific), then bucketize<br>\n",
        "'ntsb_no': remove<br>\n",
        "'ev_type': Change dtype from int64 to string <br>\n",
        "'ev_date': convert dtype to datetime (date mm/dd/yyy)<br>\n",
        "'ev_dow': Change dtype from int64 to string, make sure these are ordered categories<br>\n",
        "'ev_time': format time dtype, take a look at bucketizing by hour<br>\n",
        "'ev_city':  Change dtype from int64 to string <br>\n",
        "'ev_state':  Change dtype from int64 to string, ensure all reflect a US state<br>\n",
        "'ev_year': Remove? Unless an airport is more risky during different time periods which might be possible<br>\n",
        "'ev_month': Ensure ordered list reflecting months <br>\n",
        "'latitude': convert dtype to VARCHAR or DOUBLE. also maybe.... \"You can use clustering algorithm like k-Nearest Neighbor algorithm to group your geo-location data (using a small number of potential clusters) and assign each cluster or a group a unique id. These unique id can then replace your latitude and longitude column.\"<br>\n",
        "'longitude': see lat<br>\n",
        "'apt_name': compare against airport list, consolidate private and private airstrip, and private strip\n"
      ],
      "metadata": {
        "id": "CjRQ7D1ORIMy"
      },
      "id": "CjRQ7D1ORIMy"
    },
    {
      "cell_type": "code",
      "source": [
        "ntsb_1['carb_fuel_injection'].astype('category')"
      ],
      "metadata": {
        "colab": {
          "base_uri": "https://localhost:8080/"
        },
        "id": "K03LGzxdW1OZ",
        "outputId": "98154d7e-e90f-44e1-ab77-f87304999b70"
      },
      "id": "K03LGzxdW1OZ",
      "execution_count": 58,
      "outputs": [
        {
          "output_type": "execute_result",
          "data": {
            "text/plain": [
              "0         finj\n",
              "1         finj\n",
              "2         carb\n",
              "3          NaN\n",
              "4         carb\n",
              "          ... \n",
              "104050    finj\n",
              "104062    finj\n",
              "104076    carb\n",
              "104079    finj\n",
              "104093     NaN\n",
              "Name: carb_fuel_injection, Length: 61705, dtype: category\n",
              "Categories (2, object): ['carb', 'finj']"
            ]
          },
          "metadata": {},
          "execution_count": 58
        }
      ]
    },
    {
      "cell_type": "code",
      "source": [
        "ntsb_1['carb_fuel_injection'].astype('category')"
      ],
      "metadata": {
        "id": "yKCf6fCidVJv",
        "outputId": "0b8ad006-4d41-4bcb-ca61-d26192503514",
        "colab": {
          "base_uri": "https://localhost:8080/"
        }
      },
      "id": "yKCf6fCidVJv",
      "execution_count": 57,
      "outputs": [
        {
          "output_type": "execute_result",
          "data": {
            "text/plain": [
              "0         finj\n",
              "1         finj\n",
              "2         carb\n",
              "3          NaN\n",
              "4         carb\n",
              "          ... \n",
              "104050    finj\n",
              "104062    finj\n",
              "104076    carb\n",
              "104079    finj\n",
              "104093     NaN\n",
              "Name: carb_fuel_injection, Length: 61705, dtype: category\n",
              "Categories (2, object): ['carb', 'finj']"
            ]
          },
          "metadata": {},
          "execution_count": 57
        }
      ]
    },
    {
      "cell_type": "code",
      "source": [
        "ntsb_1['ev_type'].astype('category')"
      ],
      "metadata": {
        "id": "lPO7MJRodVMI",
        "outputId": "dc8903f2-c54f-42b3-e609-c3e7a40b7642",
        "colab": {
          "base_uri": "https://localhost:8080/"
        }
      },
      "id": "lPO7MJRodVMI",
      "execution_count": 56,
      "outputs": [
        {
          "output_type": "execute_result",
          "data": {
            "text/plain": [
              "0         acc\n",
              "1         acc\n",
              "2         acc\n",
              "3         acc\n",
              "4         acc\n",
              "         ... \n",
              "104050    acc\n",
              "104062    acc\n",
              "104076    acc\n",
              "104079    acc\n",
              "104093    acc\n",
              "Name: ev_type, Length: 61705, dtype: category\n",
              "Categories (2, object): ['acc', 'inc']"
            ]
          },
          "metadata": {},
          "execution_count": 56
        }
      ]
    },
    {
      "cell_type": "code",
      "source": [
        "ntsb_1['ev_city'].astype('string')"
      ],
      "metadata": {
        "id": "zKH9TujadVOn",
        "outputId": "579d7298-977d-43d3-dd34-095b625bad08",
        "colab": {
          "base_uri": "https://localhost:8080/"
        }
      },
      "id": "zKH9TujadVOn",
      "execution_count": 45,
      "outputs": [
        {
          "output_type": "execute_result",
          "data": {
            "text/plain": [
              "0           quinhagak\n",
              "1              chevak\n",
              "2           anchorage\n",
              "3             cullman\n",
              "4             brevard\n",
              "             ...     \n",
              "104050         munday\n",
              "104062     plainfield\n",
              "104076         topeka\n",
              "104079    springfield\n",
              "104093         zamora\n",
              "Name: ev_city, Length: 61705, dtype: string"
            ]
          },
          "metadata": {},
          "execution_count": 45
        }
      ]
    },
    {
      "cell_type": "code",
      "source": [
        "ntsb_1['ev_state'].astype('string')"
      ],
      "metadata": {
        "colab": {
          "base_uri": "https://localhost:8080/"
        },
        "id": "bSrPoanmW1Qz",
        "outputId": "6f1f55d3-c056-4050-94c3-8163aa20e987"
      },
      "id": "bSrPoanmW1Qz",
      "execution_count": 46,
      "outputs": [
        {
          "output_type": "execute_result",
          "data": {
            "text/plain": [
              "0         ak\n",
              "1         ak\n",
              "2         ak\n",
              "3         al\n",
              "4         nc\n",
              "          ..\n",
              "104050    tx\n",
              "104062    il\n",
              "104076    ks\n",
              "104079    oh\n",
              "104093    ca\n",
              "Name: ev_state, Length: 61705, dtype: string"
            ]
          },
          "metadata": {},
          "execution_count": 46
        }
      ]
    },
    {
      "cell_type": "code",
      "source": [
        "ntsb_1['eng_time_total'].unique()\n",
        "\n"
      ],
      "metadata": {
        "colab": {
          "base_uri": "https://localhost:8080/"
        },
        "id": "nGjIh695W1U9",
        "outputId": "4e5aa237-3b44-4cb7-e237-f1bf717d1c65"
      },
      "id": "nGjIh695W1U9",
      "execution_count": 49,
      "outputs": [
        {
          "output_type": "execute_result",
          "data": {
            "text/plain": [
              "array([  nan,    0., 2830., ...,  179., 3696.,   68.])"
            ]
          },
          "metadata": {},
          "execution_count": 49
        }
      ]
    },
    {
      "cell_type": "code",
      "source": [
        "\n",
        "ntsb_1['eng_time_total'].unique()\n",
        "ntsb_1['eng_time_total'].max()\n",
        "\n",
        "bins3 = [0,5000,10000,15000,20000,25000,30000,35000,40000,45000,50000]\n",
        "labels3 = [1,2,3,4,5,6,7,8,9,10]\n",
        "\n",
        "ntsb_1['eng_time_total'] = pd.cut(ntsb_1['eng_time_total'], bins3, labels=labels3)\n",
        "col_metrics(ntsb_1, col='eng_time_total')"
      ],
      "metadata": {
        "id": "VaO5VLSJfiAA",
        "outputId": "ebe45895-b5a5-4a05-c539-255a4651f9e7",
        "colab": {
          "base_uri": "https://localhost:8080/"
        }
      },
      "id": "VaO5VLSJfiAA",
      "execution_count": 52,
      "outputs": [
        {
          "output_type": "stream",
          "name": "stdout",
          "text": [
            "Unique data:  [NaN, 1, 2, 3, 9, 10, 4, 6, 7, 5]\n",
            "Categories (10, int64): [1 < 2 < 3 < 4 ... 7 < 8 < 9 < 10]\n",
            "Value counts:  1     2180\n",
            "2      340\n",
            "3       91\n",
            "4       18\n",
            "6        6\n",
            "5        4\n",
            "10       2\n",
            "7        1\n",
            "9        1\n",
            "8        0\n",
            "Name: eng_time_total, dtype: int64\n",
            "Total nulls:  59062\n",
            "Data type:  category\n"
          ]
        }
      ]
    },
    {
      "cell_type": "code",
      "source": [
        "ntsb_1['eng_time_last_insp'].round()\n",
        "ntsb_1['eng_time_last_insp'].max()\n",
        "bins4 = [0,1000,2000,3000,4000,5000,6000,7000,8000,9000,10000, 11000, 12000, 13000]\n",
        "labels4 = [1,2,3,4,5,6,7,8,9,10,11,12,13]\n",
        "\n",
        "ntsb_1['eng_time_last_insp'] = pd.cut(ntsb_1['eng_time_last_insp'], bins4, labels=labels4)\n",
        "col_metrics(ntsb_1, col='eng_time_last_insp')"
      ],
      "metadata": {
        "id": "Q9ftnpaUfiCg",
        "outputId": "e7f9d7f4-01c8-42df-96a3-417091bba54c",
        "colab": {
          "base_uri": "https://localhost:8080/"
        }
      },
      "id": "Q9ftnpaUfiCg",
      "execution_count": 54,
      "outputs": [
        {
          "output_type": "stream",
          "name": "stdout",
          "text": [
            "Unique data:  [NaN, 1, 2, 7, 3, 6, 13, 5, 4]\n",
            "Categories (13, int64): [1 < 2 < 3 < 4 ... 10 < 11 < 12 < 13]\n",
            "Value counts:  1     2123\n",
            "2       23\n",
            "3        8\n",
            "4        3\n",
            "5        3\n",
            "7        2\n",
            "6        1\n",
            "13       1\n",
            "8        0\n",
            "9        0\n",
            "10       0\n",
            "11       0\n",
            "12       0\n",
            "Name: eng_time_last_insp, dtype: int64\n",
            "Total nulls:  59541\n",
            "Data type:  category\n"
          ]
        }
      ]
    },
    {
      "cell_type": "code",
      "source": [
        "# Pending Cleaning\n",
        "\n",
        "'eng_no': Remove 448 nulls?\n",
        "'ev_time': format time dtype, take a look at bucketizing by hour\n",
        "'ev_year': Remove? Unless an airport is more risky during different time periods which might be possible\n",
        "'latitude': convert dtype to VARCHAR or DOUBLE. also maybe.... \"You can use clustering algorithm like k-Nearest Neighbor algorithm to group your geo-location data (using a small number of potential clusters) and assign each cluster or a group a unique id. These unique id can then replace your latitude and longitude column.\"\n",
        "'longitude': see lat\n",
        "'apt_name': compare against airport list, consolidate private and private airstrip, and private strip\n"
      ],
      "metadata": {
        "id": "7qNogI3NfiFJ"
      },
      "id": "7qNogI3NfiFJ",
      "execution_count": null,
      "outputs": []
    },
    {
      "cell_type": "code",
      "source": [
        "ntsb_1['ev_dow'].astype('category')"
      ],
      "metadata": {
        "id": "395LAKZ-hcNP",
        "outputId": "4c5b23e1-2e49-401b-8447-f7003a6520ae",
        "colab": {
          "base_uri": "https://localhost:8080/"
        }
      },
      "id": "395LAKZ-hcNP",
      "execution_count": 55,
      "outputs": [
        {
          "output_type": "execute_result",
          "data": {
            "text/plain": [
              "0         su\n",
              "1         tu\n",
              "2         we\n",
              "3         th\n",
              "4         we\n",
              "          ..\n",
              "104050    mo\n",
              "104062    th\n",
              "104076    th\n",
              "104079    fr\n",
              "104093    sa\n",
              "Name: ev_dow, Length: 61705, dtype: category\n",
              "Categories (7, object): ['fr', 'mo', 'sa', 'su', 'th', 'tu', 'we']"
            ]
          },
          "metadata": {},
          "execution_count": 55
        }
      ]
    },
    {
      "cell_type": "code",
      "source": [
        "ntsb_1['ev_month'].astype('category')"
      ],
      "metadata": {
        "id": "IfRSqjWYiG8o",
        "outputId": "061b1c8e-39f4-4cb7-f6f4-5ab497b7670b",
        "colab": {
          "base_uri": "https://localhost:8080/"
        }
      },
      "id": "IfRSqjWYiG8o",
      "execution_count": 59,
      "outputs": [
        {
          "output_type": "execute_result",
          "data": {
            "text/plain": [
              "0         1\n",
              "1         1\n",
              "2         1\n",
              "3         1\n",
              "4         1\n",
              "         ..\n",
              "104050    6\n",
              "104062    7\n",
              "104076    7\n",
              "104079    7\n",
              "104093    7\n",
              "Name: ev_month, Length: 61705, dtype: category\n",
              "Categories (12, int64): [1, 2, 3, 4, ..., 9, 10, 11, 12]"
            ]
          },
          "metadata": {},
          "execution_count": 59
        }
      ]
    },
    {
      "cell_type": "code",
      "source": [
        "# the columns to be used to create the labels are: inj_tot_t, damage, crew_inj_level, ev_highest_injury, damage"
      ],
      "metadata": {
        "id": "JbzUdN2PAglW"
      },
      "id": "JbzUdN2PAglW",
      "execution_count": null,
      "outputs": []
    },
    {
      "cell_type": "code",
      "source": [],
      "metadata": {
        "id": "HfuBRtZr6wmr"
      },
      "id": "HfuBRtZr6wmr",
      "execution_count": null,
      "outputs": []
    },
    {
      "cell_type": "markdown",
      "source": [
        "## ERICK'S SECITON"
      ],
      "metadata": {
        "id": "VsXYnIBD6w4B"
      },
      "id": "VsXYnIBD6w4B"
    },
    {
      "cell_type": "code",
      "source": [],
      "metadata": {
        "id": "3XcNjYNh6y64"
      },
      "id": "3XcNjYNh6y64",
      "execution_count": null,
      "outputs": []
    },
    {
      "cell_type": "markdown",
      "source": [
        "### CHI'S SECTION"
      ],
      "metadata": {
        "id": "NwqyvMOt60tw"
      },
      "id": "NwqyvMOt60tw"
    },
    {
      "cell_type": "code",
      "source": [],
      "metadata": {
        "id": "d7AmOV_w61xK"
      },
      "id": "d7AmOV_w61xK",
      "execution_count": null,
      "outputs": []
    }
  ],
  "metadata": {
    "kernelspec": {
      "display_name": "Python 3 (ipykernel)",
      "language": "python",
      "name": "python3"
    },
    "language_info": {
      "codemirror_mode": {
        "name": "ipython",
        "version": 3
      },
      "file_extension": ".py",
      "mimetype": "text/x-python",
      "name": "python",
      "nbconvert_exporter": "python",
      "pygments_lexer": "ipython3",
      "version": "3.8.8"
    },
    "colab": {
      "provenance": [],
      "include_colab_link": true
    }
  },
  "nbformat": 4,
  "nbformat_minor": 5
}