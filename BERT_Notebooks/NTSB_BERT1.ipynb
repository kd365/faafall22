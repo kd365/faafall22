{
 "cells": [
  {
   "cell_type": "markdown",
   "id": "735ae0e4-e2f2-42a5-a57d-d487f01c1d5e",
   "metadata": {},
   "source": [
    "# NTSB Modeling 1 - Text Embeddings"
   ]
  },
  {
   "cell_type": "markdown",
   "id": "d04a3ffe-c630-4f5c-acde-6f01dc9b0812",
   "metadata": {},
   "source": [
    "## Notes:\n",
    "### Variables in the test\n",
    "- This test uses data strings with contextual information\n",
    "- all nan values are filled with the string 'unknown'\n",
    "- rebalancing is done through random duplication rather than SMOTE\n",
    "- \n",
    "\n",
    "## Constants:\n",
    "- training labels remain the same through each test\n",
    "- all features are concatenated into one string\n",
    "- labels are one hot encoded in float form\n",
    "- method of rebalancing to reduce majority, and increase minority\n",
    "- training parameters : batch size, training rate, epochs \n",
    "- "
   ]
  },
  {
   "cell_type": "markdown",
   "id": "dcf5511e-698f-404b-94cb-18c31ab5f83a",
   "metadata": {
    "tags": []
   },
   "source": [
    "## Create data strings"
   ]
  },
  {
   "cell_type": "code",
   "execution_count": 1,
   "id": "3d9cacd9-858b-4855-b5b6-6ca2f014ac32",
   "metadata": {},
   "outputs": [],
   "source": [
    "#!pip3 install torch torchvision torchaudio --index-url https://download.pytorch.org/whl/cu117"
   ]
  },
  {
   "cell_type": "code",
   "execution_count": 2,
   "id": "b9ef3e2f-0b78-4e34-a5da-df360d86fa16",
   "metadata": {},
   "outputs": [],
   "source": [
    "#!pip install transformers"
   ]
  },
  {
   "cell_type": "code",
   "execution_count": 52,
   "id": "18686855-c8ee-40be-bb25-4c59b5134967",
   "metadata": {},
   "outputs": [],
   "source": [
    "import pandas as pd\n",
    "import numpy as np\n",
    "import csv\n",
    "import re\n",
    "import torch\n",
    "import random\n",
    "import time\n",
    "import datetime\n",
    "from transformers import BertTokenizer\n",
    "from transformers import BertForSequenceClassification\n",
    "from transformers import AutoModelForSequenceClassification\n",
    "import seaborn as sns\n",
    "from imblearn.under_sampling import RandomUnderSampler\n",
    "from imblearn.over_sampling import RandomOverSampler\n",
    "from imblearn.over_sampling import SMOTE\n",
    "from collections import Counter\n",
    "from torch.utils.data import DataLoader, RandomSampler, SequentialSampler\n",
    "from torch.utils.data import TensorDataset\n",
    "from sklearn.model_selection import train_test_split\n",
    "from transformers import AdamW\n",
    "from transformers import get_linear_schedule_with_warmup"
   ]
  },
  {
   "cell_type": "code",
   "execution_count": 4,
   "id": "094ff551-8894-43cc-a0a1-bcae75d37773",
   "metadata": {},
   "outputs": [
    {
     "name": "stderr",
     "output_type": "stream",
     "text": [
      "C:\\Users\\htwal\\AppData\\Local\\Temp\\ipykernel_23016\\421915254.py:1: DtypeWarning: Columns (3,17,18,23,44,45,78,80,81,82,83) have mixed types. Specify dtype option on import or set low_memory=False.\n",
      "  data = pd.read_csv('labeled_clean_ntsb.csv')\n"
     ]
    }
   ],
   "source": [
    "data = pd.read_csv('labeled_clean_ntsb.csv')"
   ]
  },
  {
   "cell_type": "code",
   "execution_count": 5,
   "id": "254f8001-a817-40eb-8a13-3f9ac0cc2e21",
   "metadata": {},
   "outputs": [],
   "source": [
    "def make_strings(month, time, state, airport, conditions, alt, wx, light, makemodel, num, plan, airspace, hrs):\n",
    "    return f'Flight scheduled in the month of {month} at time {time} in state {state} from {airport} airport the flight conditions were {conditions} the flight altitude was {alt}\\\n",
    "    the weather and visibility was {wx} lighting conditions were {light} the flight was conducted in a {makemodel} with a crew of {num} the flight plan filed was {plan}\\\n",
    "    and the flight planned to fly in {airspace} airspace flight crew recent hours were {hrs}' "
   ]
  },
  {
   "cell_type": "code",
   "execution_count": 6,
   "id": "76b35fd8-add1-425b-b071-6d00d4836190",
   "metadata": {},
   "outputs": [],
   "source": [
    "time1 = pd.read_csv('flight_time_pt.csv')\n",
    "time2 = pd.read_csv('flight_time_pre.csv')"
   ]
  },
  {
   "cell_type": "code",
   "execution_count": 7,
   "id": "e1c7f5b0-a2e1-4617-8739-dd62427c7c1a",
   "metadata": {},
   "outputs": [],
   "source": [
    "time = pd.concat([time1, time2])\n",
    "time = time.drop(['Aircraft_Key', 'crew_no'], axis=1)"
   ]
  },
  {
   "cell_type": "code",
   "execution_count": 8,
   "id": "e167ec9b-3e44-4fff-ad92-a9624abb7fe4",
   "metadata": {},
   "outputs": [
    {
     "data": {
      "text/plain": [
       "Index(['ev_id', 'flight_type', 'flight_craft', 'flight_hours', 'lchg_date',\n",
       "       'lchg_userid'],\n",
       "      dtype='object')"
      ]
     },
     "execution_count": 8,
     "metadata": {},
     "output_type": "execute_result"
    }
   ],
   "source": [
    "time.columns"
   ]
  },
  {
   "cell_type": "code",
   "execution_count": 9,
   "id": "7758e5c6-ed46-4767-9ec5-15adf829ceb8",
   "metadata": {},
   "outputs": [],
   "source": [
    "time['ev_id'] = time['ev_id'].str.lower()"
   ]
  },
  {
   "cell_type": "code",
   "execution_count": 10,
   "id": "e7fb8d3d-b14b-4c1f-93c6-c5d93001a657",
   "metadata": {
    "tags": []
   },
   "outputs": [],
   "source": [
    "# create a pivot table:\n",
    "time_pt = pd.pivot_table(time, values='flight_hours', index=['ev_id'],\n",
    "                       columns=['flight_craft'])"
   ]
  },
  {
   "cell_type": "code",
   "execution_count": 11,
   "id": "ff221481-3de6-4b25-a962-199bbd7c9e65",
   "metadata": {},
   "outputs": [
    {
     "data": {
      "text/plain": [
       "(78293, 12)"
      ]
     },
     "execution_count": 11,
     "metadata": {},
     "output_type": "execute_result"
    }
   ],
   "source": [
    "time_pt.shape"
   ]
  },
  {
   "cell_type": "code",
   "execution_count": 12,
   "id": "984ee501-ea8f-4d1c-924a-9d012c0f41b6",
   "metadata": {},
   "outputs": [],
   "source": [
    "data = data.fillna('unknown')"
   ]
  },
  {
   "cell_type": "code",
   "execution_count": 13,
   "id": "c65adb03-6d2b-42c0-8e9b-36c830d5e2e8",
   "metadata": {},
   "outputs": [],
   "source": [
    "# merge with main data set\n",
    "data_set = data.merge(time_pt, left_on='aircraft_ev_id', right_on='ev_id')"
   ]
  },
  {
   "cell_type": "code",
   "execution_count": 14,
   "id": "8b6122c4-7b11-4546-ac54-ab0049068e07",
   "metadata": {},
   "outputs": [],
   "source": [
    "# Create training dataset:\n",
    "cols = ['Unnamed: 0', 'aircraft_ev_id', 'far_part', 'damage', 'phase_flt_spec', 'ntsb_no', \n",
    "        'ev_year', 'ev_type', 'apt_dist', 'apt_dir', 'ev_highest_injury', 'inj_tot_t', 'secondary_eng_mfgr',\n",
    "        'crew_inj_level', 'inj_target', 'damage_target', 'hp_or_lbs', 'carb_fuel_injection', 'wx_src_iic', 'wx_obs_fac_id', 'wx_obs_elev', 'wx_obs_dir', 'wx_obs_dist',\n",
    "       'gust_ind', 'wind_vel_ind', 'crew_category', 'pilot_flying', 'med_certf', 'INC', 'LTA', 'GLDR',\n",
    "       'REL']\n",
    "data_set = data_set.drop(cols, axis=1)"
   ]
  },
  {
   "cell_type": "code",
   "execution_count": 15,
   "id": "95dbfb0a-b1e3-45c5-a3df-fada6c1e68b0",
   "metadata": {},
   "outputs": [],
   "source": [
    "filler = {'flight_plan_activated': 'flight plan activated', 'acft_make': 'aircraft make', 'acft_model': 'aircraft model', 'cert_max_gr_wt': 'certified max gross weight',\n",
    "       'num_eng': 'number of engines', 'type_last_insp': 'type of last inspection', 'date_last_insp': 'date of the last insection', 'afm_hrs_last_insp': 'airframe hours since last inspection',\n",
    "       'afm_hrs': 'total airframe hours', 'type_fly': 'type of flight', 'dprt_apt_id': 'departure airport', 'dprt_city': 'departure city', 'dprt_state': 'departure state',\n",
    "       'dprt_time': 'departure time', 'dest_same_local': 'destination same as local', 'dest_apt_id': 'destination airport id', 'dest_city': 'destination city',\n",
    "       'dest_state': 'destination state', 'afm_hrs_since':'airframe hours since last inspection', 'rwy_num': 'runway number', 'rwy_len': 'runway length', 'rwy_width': 'runway width',\n",
    "       'ifr_equipped_cert': 'ifr equipment certified', 'eng_no': 'number of engines', 'eng_type': 'engine type', 'eng_mfgr': 'engine manufacturer',\n",
    "       'eng_time_total': 'total engine time', 'eng_time_last_insp': 'engine time since last inspection',\n",
    "       'ev_date': 'event date', 'ev_dow': 'day of the week', 'ev_time': 'event time', 'ev_city': 'event city', 'ev_state': 'event state', 'ev_month': 'event month',\n",
    "       'latitude': 'latitude', 'longitude': 'longitude', 'apt_name': 'airport name', 'apt_elev': 'airport elevation', \n",
    "       'wx_obs_time': 'weather observation time', \n",
    "       'light_cond': 'lighting condition', 'sky_cond_nonceil': 'sky condition', 'sky_nonceil_ht': 'clouds at',\n",
    "       'sky_ceil_ht': 'ceiling at', 'sky_cond_ceil': 'sky condition', 'vis_rvr': 'runway visibility range', 'vis_sm': 'visibility in statute miles', 'wx_temp': 'temperature',\n",
    "       'wx_dew_pt': 'dew point', 'wind_dir_deg': 'winds', 'wind_dir_ind': 'wind direction', 'wind_vel_kts': 'wind speed',\n",
    "       'gust_kts': 'gust speed', 'altimeter': 'loacl altimeter', 'wx_dens_alt': 'density altitude',\n",
    "       'wx_int_precip': 'precipitation', 'wx_cond_basic': 'weather conditions', 'crew_no': 'number of aircrew',\n",
    "       'crew_age': 'pilot age', 'crew_sex': 'pilot gender', 'target': 'target', 'ACTU': 'pilot actual instrument time', \n",
    "       'ALL': 'pilot total flight time',\n",
    "       'MAKE': 'pilot flight time in make', 'MENG': 'pilot multiengine flight time', 'NGHT': 'pilot night flight time',\n",
    "       'ROTO': 'pilot rotary flight time', 'SENG': 'pilot single engine flight time', 'SIMU': 'pilot simulated instrument time'}\n"
   ]
  },
  {
   "cell_type": "code",
   "execution_count": 16,
   "id": "32521869-56fd-463d-95ed-6fbf1fa3b600",
   "metadata": {},
   "outputs": [],
   "source": [
    "# force all to str\n",
    "data_set = data_set.applymap(str)"
   ]
  },
  {
   "cell_type": "code",
   "execution_count": 17,
   "id": "ec2756fc-3ff8-4468-9598-3554918e222a",
   "metadata": {},
   "outputs": [],
   "source": [
    "data_set = data_set.applymap(lambda x: x.replace('nan', 'unknown'))\n",
    "data_set = data_set.applymap(lambda x: re.sub(r'\\bn\\b', 'no', x))\n",
    "data_set = data_set.applymap(lambda x: re.sub(r'\\by\\b', 'yes', x))"
   ]
  },
  {
   "cell_type": "code",
   "execution_count": 18,
   "id": "5a10f659-37ff-4f4d-b2e7-f1d4b5937e80",
   "metadata": {},
   "outputs": [],
   "source": [
    "data_set = data_set.applymap(lambda x: x.strip())"
   ]
  },
  {
   "cell_type": "code",
   "execution_count": 19,
   "id": "b44a48b1-37f9-492d-a51f-d22f08ee5c3e",
   "metadata": {},
   "outputs": [],
   "source": [
    "# add the strings to each column using a loop\n",
    "for col, string in filler.items():\n",
    "    data_set[col] = string + ' ' + data_set[col]\n",
    "    "
   ]
  },
  {
   "cell_type": "code",
   "execution_count": 20,
   "id": "0dad3235-dac1-41e5-9e92-e00774daaaaf",
   "metadata": {},
   "outputs": [],
   "source": [
    "data_set['concat'] = data_set.apply(lambda x: ' '.join(map(str, x)), axis=1)"
   ]
  },
  {
   "cell_type": "code",
   "execution_count": 21,
   "id": "76ac46bb-84bd-4e9f-9562-8b87bb3e6e49",
   "metadata": {},
   "outputs": [
    {
     "name": "stderr",
     "output_type": "stream",
     "text": [
      "C:\\Users\\htwal\\AppData\\Local\\Temp\\ipykernel_23016\\3979246843.py:2: SettingWithCopyWarning: \n",
      "A value is trying to be set on a copy of a slice from a DataFrame.\n",
      "Try using .loc[row_indexer,col_indexer] = value instead\n",
      "\n",
      "See the caveats in the documentation: https://pandas.pydata.org/pandas-docs/stable/user_guide/indexing.html#returning-a-view-versus-a-copy\n",
      "  training['target'] = training['target'].str.replace(r'target ', '').astype(int).apply(lambda x: x-1.0)\n"
     ]
    }
   ],
   "source": [
    "training = data_set[['concat', 'target']]\n",
    "training['target'] = training['target'].str.replace(r'target ', '').astype(int).apply(lambda x: x-1.0)"
   ]
  },
  {
   "cell_type": "code",
   "execution_count": 22,
   "id": "6f5c0815-aa78-473b-958b-72c741f20fb5",
   "metadata": {},
   "outputs": [
    {
     "name": "stdout",
     "output_type": "stream",
     "text": [
      "46052\n"
     ]
    }
   ],
   "source": [
    "print(len(training['concat']))"
   ]
  },
  {
   "cell_type": "code",
   "execution_count": 23,
   "id": "52e292bb-d6f5-48db-a562-a89f70f5078f",
   "metadata": {},
   "outputs": [
    {
     "name": "stdout",
     "output_type": "stream",
     "text": [
      "<class 'pandas.core.frame.DataFrame'>\n",
      "Int64Index: 46052 entries, 0 to 46051\n",
      "Data columns (total 2 columns):\n",
      " #   Column  Non-Null Count  Dtype  \n",
      "---  ------  --------------  -----  \n",
      " 0   concat  46052 non-null  object \n",
      " 1   target  46052 non-null  float64\n",
      "dtypes: float64(1), object(1)\n",
      "memory usage: 1.1+ MB\n"
     ]
    }
   ],
   "source": [
    "training.info()"
   ]
  },
  {
   "cell_type": "markdown",
   "id": "f429d313-412a-4214-a825-0cf6a1461fe5",
   "metadata": {
    "tags": []
   },
   "source": [
    "### Create a rebalanced dataset"
   ]
  },
  {
   "cell_type": "code",
   "execution_count": 24,
   "id": "363d14c1-1fbb-4e2e-ae49-b063981adef5",
   "metadata": {},
   "outputs": [],
   "source": [
    "data_strings = [[x] for x in list(training['concat'])]\n",
    "data_target = list(training['target'])"
   ]
  },
  {
   "cell_type": "code",
   "execution_count": 25,
   "id": "aed19939-c5e0-4d11-bed9-967366f350e2",
   "metadata": {},
   "outputs": [
    {
     "name": "stdout",
     "output_type": "stream",
     "text": [
      "Resampled dataset shape Counter({2.0: 11968, 3.0: 11968, 1.0: 589, 0.0: 92})\n",
      "Resampled dataset shape Counter({0.0: 11968, 1.0: 11968, 2.0: 11968, 3.0: 11968})\n"
     ]
    }
   ],
   "source": [
    "# undersample 3\n",
    "rus = RandomUnderSampler(sampling_strategy={2:11968}, random_state=25)\n",
    "X_res, y_res = rus.fit_resample(data_strings, data_target)\n",
    "print('Resampled dataset shape %s' % Counter(y_res))\n",
    "\n",
    "# oversample 1, 2\n",
    "ros = RandomOverSampler(random_state=33)\n",
    "X_bal, y_bal = ros.fit_resample(X_res, y_res)\n",
    "print('Resampled dataset shape %s' % Counter(y_bal))"
   ]
  },
  {
   "cell_type": "code",
   "execution_count": 26,
   "id": "d83e9907-7c66-499e-ac86-61d35b821b19",
   "metadata": {},
   "outputs": [],
   "source": [
    "X_bal = [x[0] for x in X_bal]"
   ]
  },
  {
   "cell_type": "code",
   "execution_count": 27,
   "id": "180177b9-dc4e-408c-8f76-79ad1b26e3d7",
   "metadata": {},
   "outputs": [],
   "source": [
    "label_df = pd.DataFrame(y_bal)\n"
   ]
  },
  {
   "cell_type": "code",
   "execution_count": 28,
   "id": "c3373241-ac36-4ba0-8efd-edc4db2dd4f3",
   "metadata": {},
   "outputs": [],
   "source": [
    "label_enc = pd.get_dummies(label_df, columns=[0])"
   ]
  },
  {
   "cell_type": "code",
   "execution_count": 29,
   "id": "cd45bc7c-ae13-4cfa-baca-e580da7c845e",
   "metadata": {},
   "outputs": [
    {
     "name": "stdout",
     "output_type": "stream",
     "text": [
      "47872\n",
      "47872\n"
     ]
    }
   ],
   "source": [
    "print(len(X_bal))\n",
    "print(len(y_bal))"
   ]
  },
  {
   "cell_type": "markdown",
   "id": "59358d6c-206b-4766-8434-892f70c6967c",
   "metadata": {},
   "source": [
    "## GPT & Transformer Setup"
   ]
  },
  {
   "cell_type": "code",
   "execution_count": 30,
   "id": "007b8c2b-899a-4e65-b02e-82c9b60abf89",
   "metadata": {},
   "outputs": [
    {
     "name": "stdout",
     "output_type": "stream",
     "text": [
      "There are 1 GPU(s) available.\n",
      "We will use the GPU: NVIDIA GeForce RTX 3070 Laptop GPU\n"
     ]
    }
   ],
   "source": [
    "# If there's a GPU available...\n",
    "if torch.cuda.is_available():    \n",
    "\n",
    "    # Tell PyTorch to use the GPU.    \n",
    "    device = torch.device(\"cuda\")\n",
    "\n",
    "    print('There are %d GPU(s) available.' % torch.cuda.device_count())\n",
    "\n",
    "    print('We will use the GPU:', torch.cuda.get_device_name(0))\n",
    "\n",
    "# If not...\n",
    "else:\n",
    "    print('No GPU available, using the CPU instead.')\n",
    "    device = torch.device(\"cpu\")"
   ]
  },
  {
   "cell_type": "code",
   "execution_count": 31,
   "id": "c9ad0238-0453-45c3-93a7-3716a31306d7",
   "metadata": {},
   "outputs": [
    {
     "name": "stdout",
     "output_type": "stream",
     "text": [
      "Loading BERT tokenizer...\n"
     ]
    }
   ],
   "source": [
    "# Load the BERT tokenizer.\n",
    "print('Loading BERT tokenizer...')\n",
    "tokenizer = BertTokenizer.from_pretrained('bert-base-uncased', do_lower_case=True)"
   ]
  },
  {
   "cell_type": "code",
   "execution_count": 32,
   "id": "1ee5a02c-b680-4812-9941-075e6937930f",
   "metadata": {},
   "outputs": [
    {
     "name": "stderr",
     "output_type": "stream",
     "text": [
      "Some weights of the model checkpoint at bert-base-uncased were not used when initializing BertForSequenceClassification: ['cls.predictions.transform.LayerNorm.bias', 'cls.predictions.transform.LayerNorm.weight', 'cls.seq_relationship.weight', 'cls.predictions.bias', 'cls.predictions.transform.dense.bias', 'cls.seq_relationship.bias', 'cls.predictions.decoder.weight', 'cls.predictions.transform.dense.weight']\n",
      "- This IS expected if you are initializing BertForSequenceClassification from the checkpoint of a model trained on another task or with another architecture (e.g. initializing a BertForSequenceClassification model from a BertForPreTraining model).\n",
      "- This IS NOT expected if you are initializing BertForSequenceClassification from the checkpoint of a model that you expect to be exactly identical (initializing a BertForSequenceClassification model from a BertForSequenceClassification model).\n",
      "Some weights of BertForSequenceClassification were not initialized from the model checkpoint at bert-base-uncased and are newly initialized: ['classifier.bias', 'classifier.weight']\n",
      "You should probably TRAIN this model on a down-stream task to be able to use it for predictions and inference.\n"
     ]
    }
   ],
   "source": [
    "# Load BertForSequenceClassification, the pretrained BERT model with a single \n",
    "# linear classification layer on top. \n",
    "model = AutoModelForSequenceClassification.from_pretrained(\n",
    "    \"bert-base-uncased\", # Use the 12-layer BERT model, with an uncased vocab.\n",
    "    problem_type=\"multi_label_classification\",\n",
    "    num_labels = 4,\n",
    "    ignore_mismatched_sizes=True\n",
    ")\n",
    "\n",
    "# Tell pytorch to run this model on the GPU.\n",
    "desc = model.cuda()"
   ]
  },
  {
   "cell_type": "markdown",
   "id": "a652b1d6-7e00-4d30-9750-6918d7a8693e",
   "metadata": {},
   "source": [
    "### Training Parameters"
   ]
  },
  {
   "cell_type": "code",
   "execution_count": 33,
   "id": "ae090097-29e0-4a56-80a5-3fb3230536bc",
   "metadata": {},
   "outputs": [],
   "source": [
    "# Larger batch sizes tend to be better, and we can fit this in memory.\n",
    "batch_size = 8\n",
    "\n",
    "# I used a smaller learning rate to combat over-fitting that I was seeing in the\n",
    "# validation loss. I could probably try even smaller.\n",
    "learning_rate = 1e-5\n",
    "\n",
    "# Number of training epochs. \n",
    "epochs = 4"
   ]
  },
  {
   "cell_type": "code",
   "execution_count": 34,
   "id": "c8a2bdfc-fb50-4cbc-9b15-534af7111739",
   "metadata": {},
   "outputs": [
    {
     "name": "stdout",
     "output_type": "stream",
     "text": [
      "Max sentence length:  414\n"
     ]
    }
   ],
   "source": [
    "max_len = 0\n",
    "\n",
    "# For every sentence...\n",
    "for x in X_bal:\n",
    "    # Tokenize the text and add `[CLS]` and `[SEP]` tokens.\n",
    "    input_ids = tokenizer.encode(x, add_special_tokens=True)\n",
    "    # Update the maximum sentence length.\n",
    "    max_len = max(max_len, len(input_ids))\n",
    "\n",
    "print('Max sentence length: ', max_len)"
   ]
  },
  {
   "cell_type": "markdown",
   "id": "4d4d608d-b544-43d8-8009-ee11f209e8d8",
   "metadata": {
    "tags": []
   },
   "source": [
    "### Tokenize and Encode"
   ]
  },
  {
   "cell_type": "code",
   "execution_count": 35,
   "id": "24f95165-52a4-4500-8d4c-699d4ea802b8",
   "metadata": {},
   "outputs": [
    {
     "name": "stdout",
     "output_type": "stream",
     "text": [
      "Encoding all records in the dataset...\n",
      "DONE.\n"
     ]
    }
   ],
   "source": [
    "# Tokenize all of the sentences and map the tokens to thier word IDs.\n",
    "input_ids = []\n",
    "attention_masks = []\n",
    "\n",
    "print('Encoding all records in the dataset...')\n",
    "\n",
    "# For every sentence...\n",
    "for x in X_bal:\n",
    "    # `encode_plus` will:\n",
    "    #   (1) Tokenize the sentence.\n",
    "    #   (2) Prepend the `[CLS]` token to the start.\n",
    "    #   (3) Append the `[SEP]` token to the end.\n",
    "    #   (4) Map tokens to their IDs.\n",
    "    #   (5) Pad or truncate the sentence to `max_length`\n",
    "    #   (6) Create attention masks for [PAD] tokens.\n",
    "    encoded_dict = tokenizer.encode_plus(\n",
    "                        x,                      # Sentence to encode.\n",
    "                        add_special_tokens = True, # Add '[CLS]' and '[SEP]'\n",
    "                        max_length = max_len,           # Pad & truncate all sentences.\n",
    "                        truncation = True,\n",
    "                        padding = 'max_length',\n",
    "                        return_attention_mask = True,   # Construct attn. masks.\n",
    "                        return_tensors = 'pt',     # Return pytorch tensors.\n",
    "                )\n",
    "    # Add the encoded sentence to the list.    \n",
    "    input_ids.append(encoded_dict['input_ids'])\n",
    "    # And its attention mask (simply differentiates padding from non-padding).\n",
    "    attention_masks.append(encoded_dict['attention_mask'])\n",
    "\n",
    "# Convert the lists into tensors.\n",
    "input_ids_2 = torch.cat(input_ids, dim=0)\n",
    "attention_masks_2 = torch.cat(attention_masks, dim=0)\n",
    "\n",
    "\n",
    "print('DONE.')"
   ]
  },
  {
   "cell_type": "code",
   "execution_count": 36,
   "id": "130dd41d-f513-4729-8dac-9328b84bd117",
   "metadata": {},
   "outputs": [],
   "source": [
    "# create a tensor for the labels\n",
    "label = label_enc.values.tolist()\n",
    "label = [list(map(float, sublist)) for sublist in label]\n",
    "labels = torch.tensor(label)"
   ]
  },
  {
   "cell_type": "code",
   "execution_count": 38,
   "id": "42b55e58-8520-4c63-8bc6-b8c9e40368f5",
   "metadata": {},
   "outputs": [
    {
     "name": "stdout",
     "output_type": "stream",
     "text": [
      "47872\n",
      "47872\n",
      "47872\n"
     ]
    }
   ],
   "source": [
    "print(len(input_ids_2))\n",
    "print(len(attention_masks_2))\n",
    "print(len(labels))"
   ]
  },
  {
   "cell_type": "code",
   "execution_count": 39,
   "id": "401dace0-9259-4a79-98b1-aa5226d367a8",
   "metadata": {},
   "outputs": [
    {
     "name": "stdout",
     "output_type": "stream",
     "text": [
      "torch.Size([47872, 4])\n",
      "torch.Size([47872, 414])\n"
     ]
    }
   ],
   "source": [
    "print(labels.shape)\n",
    "print(input_ids_2.shape)"
   ]
  },
  {
   "cell_type": "code",
   "execution_count": 40,
   "id": "d4854062-1ba3-4162-830f-3a7ee8246642",
   "metadata": {},
   "outputs": [
    {
     "data": {
      "text/plain": [
       "tensor([[1., 0., 0., 0.],\n",
       "        [1., 0., 0., 0.],\n",
       "        [1., 0., 0., 0.],\n",
       "        ...,\n",
       "        [0., 1., 0., 0.],\n",
       "        [0., 1., 0., 0.],\n",
       "        [0., 1., 0., 0.]])"
      ]
     },
     "execution_count": 40,
     "metadata": {},
     "output_type": "execute_result"
    }
   ],
   "source": [
    "labels"
   ]
  },
  {
   "cell_type": "markdown",
   "id": "1a8ecd6c-2d78-46b4-86a5-77f4b2214d46",
   "metadata": {},
   "source": [
    "### Training"
   ]
  },
  {
   "cell_type": "code",
   "execution_count": 41,
   "id": "706a6c13-b25a-4495-b5e5-a8795d30b1dd",
   "metadata": {},
   "outputs": [
    {
     "name": "stdout",
     "output_type": "stream",
     "text": [
      "  Training size: 38,297\n",
      "Validation size: 4,787\n",
      "      Test size: 4,788\n"
     ]
    }
   ],
   "source": [
    "# train / test splits\n",
    "# First, calculate the split sizes. 80% training, 10% validation, 10% test.\n",
    "train_size = int(0.8 * len(X_bal))\n",
    "val_size = int(0.1 * len(X_bal))\n",
    "test_size = len(X_bal) - (train_size + val_size)\n",
    "\n",
    "# Sanity check the sizes.\n",
    "assert((train_size + val_size + test_size) == len(X_bal))\n",
    "\n",
    "# Create a list of indeces for all of the samples in the dataset.\n",
    "indeces = np.arange(0, len(X_bal))\n",
    "\n",
    "# Shuffle the indeces randomly.\n",
    "random.shuffle(indeces)\n",
    "\n",
    "# Get a list of indeces for each of the splits.\n",
    "train_idx = indeces[0:train_size]\n",
    "val_idx = indeces[train_size:(train_size + val_size)]\n",
    "test_idx = indeces[(train_size + val_size):]\n",
    "\n",
    "# Sanity check\n",
    "assert(len(train_idx) == train_size)\n",
    "assert(len(test_idx) == test_size)\n",
    "\n",
    "# With these lists, we can now select the corresponding dataframe rows using, \n",
    "# e.g., train_df = data_df.iloc[train_idx] \n",
    "\n",
    "print('  Training size: {:,}'.format(train_size))\n",
    "print('Validation size: {:,}'.format(val_size))\n",
    "print('      Test size: {:,}'.format(test_size))"
   ]
  },
  {
   "cell_type": "code",
   "execution_count": 42,
   "id": "43a581cf-dd40-4b87-92c6-848a63ac24aa",
   "metadata": {},
   "outputs": [
    {
     "name": "stdout",
     "output_type": "stream",
     "text": [
      "torch.Size([38297, 4])\n"
     ]
    }
   ],
   "source": [
    "test = labels[train_idx]\n",
    "print(test.shape)"
   ]
  },
  {
   "cell_type": "code",
   "execution_count": 43,
   "id": "b8b6e350-f01f-44a4-9aeb-e7db2462f064",
   "metadata": {},
   "outputs": [],
   "source": [
    "# Split the samples, and create TensorDatasets for each split. \n",
    "train_dataset = TensorDataset(input_ids_2[train_idx], attention_masks_2[train_idx], labels[train_idx])\n",
    "val_dataset = TensorDataset(input_ids_2[val_idx], attention_masks_2[val_idx], labels[val_idx])\n",
    "test_dataset = TensorDataset(input_ids_2[test_idx], attention_masks_2[test_idx], labels[test_idx])"
   ]
  },
  {
   "cell_type": "code",
   "execution_count": 44,
   "id": "9532722a-1abe-4ffa-91dc-bbf3e42e37e7",
   "metadata": {},
   "outputs": [],
   "source": [
    "# Create the DataLoaders for our training and validation sets.\n",
    "# We'll take training samples in random order. \n",
    "train_dataloader = DataLoader(\n",
    "            train_dataset,  # The training samples.\n",
    "            sampler = RandomSampler(train_dataset), # Select batches randomly\n",
    "            batch_size = batch_size # Trains with this batch size.\n",
    "        )\n",
    "\n",
    "# For validation the order doesn't matter, so we'll just read them sequentially.\n",
    "validation_dataloader = DataLoader(\n",
    "            val_dataset, # The validation samples.\n",
    "            sampler = SequentialSampler(val_dataset), # Pull out batches sequentially.\n",
    "            batch_size = batch_size # Evaluate with this batch size.\n",
    "        )"
   ]
  },
  {
   "cell_type": "code",
   "execution_count": 45,
   "id": "80d04c50-e945-4a5d-a6ed-c984618ddd1f",
   "metadata": {},
   "outputs": [
    {
     "name": "stderr",
     "output_type": "stream",
     "text": [
      "C:\\Users\\htwal\\anaconda3\\lib\\site-packages\\transformers\\optimization.py:391: FutureWarning: This implementation of AdamW is deprecated and will be removed in a future version. Use the PyTorch implementation torch.optim.AdamW instead, or set `no_deprecation_warning=True` to disable this warning\n",
      "  warnings.warn(\n"
     ]
    }
   ],
   "source": [
    "# Note: AdamW is a class from the huggingface library (as opposed to pytorch) \n",
    "# I believe the 'W' stands for 'Weight Decay fix\"\n",
    "optimizer = AdamW(model.parameters(),\n",
    "                  lr = learning_rate, \n",
    "                  eps = 1e-8 \n",
    "                )"
   ]
  },
  {
   "cell_type": "code",
   "execution_count": 46,
   "id": "e7a08076-f53f-4075-9d1a-28cd2b52b37f",
   "metadata": {},
   "outputs": [],
   "source": [
    "# Total number of training steps is [number of batches] x [number of epochs]. \n",
    "# (Note that this is not the same as the number of training samples!)\n",
    "total_steps = len(train_dataloader) * epochs\n",
    "\n",
    "# Create the learning rate scheduler.\n",
    "scheduler = get_linear_schedule_with_warmup(optimizer, \n",
    "                                            num_warmup_steps = 0, # Default value in run_glue.py\n",
    "                                            num_training_steps = total_steps)"
   ]
  },
  {
   "cell_type": "code",
   "execution_count": 47,
   "id": "c2b24764-b6e8-427b-b990-6b5fdd719a07",
   "metadata": {},
   "outputs": [],
   "source": [
    "# Function to calculate the accuracy of our predictions vs labels\n",
    "def flat_accuracy(preds, labels):\n",
    "    pred_flat = np.argmax(preds, axis=1).flatten()\n",
    "    labels_flat = labels.flatten()\n",
    "    return np.sum(pred_flat == labels_flat) / len(labels_flat)"
   ]
  },
  {
   "cell_type": "code",
   "execution_count": 48,
   "id": "ab9e5e86-2209-49db-9423-e1fe0f843438",
   "metadata": {
    "collapsed": true,
    "jupyter": {
     "outputs_hidden": true
    },
    "tags": []
   },
   "outputs": [
    {
     "name": "stdout",
     "output_type": "stream",
     "text": [
      "\n",
      "======== Epoch 1 / 4 ========\n",
      "Training...\n",
      "\n",
      "Running Validation...\n"
     ]
    },
    {
     "name": "stderr",
     "output_type": "stream",
     "text": [
      "C:\\Users\\htwal\\AppData\\Local\\Temp\\ipykernel_23016\\3398895505.py:5: DeprecationWarning: elementwise comparison failed; this will raise an error in the future.\n",
      "  return np.sum(pred_flat == labels_flat) / len(labels_flat)\n"
     ]
    },
    {
     "name": "stdout",
     "output_type": "stream",
     "text": [
      "  Accuracy: 0.00\n",
      "\n",
      "======== Epoch 2 / 4 ========\n",
      "Training...\n",
      "\n",
      "Running Validation...\n",
      "  Accuracy: 0.00\n",
      "\n",
      "======== Epoch 3 / 4 ========\n",
      "Training...\n",
      "\n",
      "Running Validation...\n",
      "  Accuracy: 0.00\n",
      "\n",
      "======== Epoch 4 / 4 ========\n",
      "Training...\n",
      "\n",
      "Running Validation...\n",
      "  Accuracy: 0.00\n",
      "\n",
      "Training complete!\n"
     ]
    }
   ],
   "source": [
    "# This training code is based on the `run_glue.py` script here:\n",
    "# https://github.com/huggingface/transformers/blob/5bfcd0485ece086ebcbed2d008813037968a9e58/examples/run_glue.py#L128\n",
    "torch.cuda.empty_cache()\n",
    "# Set the seed value all over the place to make this reproducible.\n",
    "seed_val = 33\n",
    "\n",
    "random.seed(seed_val)\n",
    "np.random.seed(seed_val)\n",
    "torch.manual_seed(seed_val)\n",
    "torch.cuda.manual_seed_all(seed_val)\n",
    "\n",
    "# We'll store a number of quantities such as training and validation loss, \n",
    "# validation accuracy, and timings.\n",
    "training_stats = []\n",
    "\n",
    "# For each epoch...\n",
    "for epoch_i in range(0, epochs):\n",
    "    \n",
    "    # ========================================\n",
    "    #               Training\n",
    "    # ========================================\n",
    "    \n",
    "    # Perform one full pass over the training set.\n",
    "\n",
    "    print(\"\")\n",
    "    print(f'======== Epoch {epoch_i + 1} / {epochs} ========')\n",
    "    print('Training...')\n",
    "\n",
    "    # Reset the total loss for this epoch.\n",
    "    total_train_loss = 0\n",
    "\n",
    "    # Put the model into training mode. Don't be mislead--the call to \n",
    "    # `train` just changes the *mode*, it doesn't *perform* the training.\n",
    "    # `dropout` and `batchnorm` layers behave differently during training\n",
    "    # vs. test (source: https://stackoverflow.com/questions/51433378/what-does-model-train-do-in-pytorch)\n",
    "    model.train()\n",
    "\n",
    "    # For each batch of training data...\n",
    "    for step, batch in enumerate(train_dataloader):\n",
    "\n",
    "        # Unpack this training batch from our dataloader. \n",
    "        #\n",
    "        # As we unpack the batch, we'll also copy each tensor to the GPU using the \n",
    "        # `to` method.\n",
    "        #\n",
    "        # `batch` contains three pytorch tensors:\n",
    "        #   [0]: input ids \n",
    "        #   [1]: attention masks\n",
    "        #   [2]: labels \n",
    "        b_input_ids = batch[0].to(device)\n",
    "        b_input_mask = batch[1].to(device)\n",
    "        b_labels = batch[2].to(device)\n",
    "        # Always clear any previously calculated gradients before performing a\n",
    "        # backward pass. PyTorch doesn't do this automatically because \n",
    "        # accumulating the gradients is \"convenient while training RNNs\". \n",
    "        # (source: https://stackoverflow.com/questions/48001598/why-do-we-need-to-call-zero-grad-in-pytorch)\n",
    "        model.zero_grad()        \n",
    "\n",
    "        # Perform a forward pass (evaluate the model on this training batch).\n",
    "        # In PyTorch, calling `model` will in turn call the model's `forward` \n",
    "        # function and pass down the arguments. The `forward` function is \n",
    "        # documented here: \n",
    "        # https://huggingface.co/transformers/model_doc/bert.html#bertforsequenceclassification\n",
    "        # The results are returned in a results object, documented here:\n",
    "        # https://huggingface.co/transformers/main_classes/output.html#transformers.modeling_outputs.SequenceClassifierOutput\n",
    "        # Specifically, we'll get the loss (because we provided labels) and the\n",
    "        # \"logits\"--the model outputs prior to activation.\n",
    "        result = model(b_input_ids, \n",
    "                       token_type_ids=None, \n",
    "                       attention_mask=b_input_mask, \n",
    "                       labels=b_labels)\n",
    "\n",
    "        loss = result.loss\n",
    "        logits = result.logits\n",
    "\n",
    "        # Accumulate the training loss over all of the batches so that we can\n",
    "        # calculate the average loss at the end. `loss` is a Tensor containing a\n",
    "        # single value; the `.item()` function just returns the Python value \n",
    "        # from the tensor.\n",
    "        total_train_loss += loss.item()\n",
    "\n",
    "        # Perform a backward pass to calculate the gradients.\n",
    "        loss.backward()\n",
    "\n",
    "        # Clip the norm of the gradients to 1.0.\n",
    "        # This is to help prevent the \"exploding gradients\" problem.\n",
    "        torch.nn.utils.clip_grad_norm_(model.parameters(), 1.0)\n",
    "\n",
    "        # Update parameters and take a step using the computed gradient.\n",
    "        # The optimizer dictates the \"update rule\"--how the parameters are\n",
    "        # modified based on their gradients, the learning rate, etc.\n",
    "        optimizer.step()\n",
    "\n",
    "        # Update the learning rate.\n",
    "        scheduler.step()\n",
    "\n",
    "    # Calculate the average loss over all of the batches.\n",
    "    avg_train_loss = total_train_loss / len(train_dataloader)            \n",
    "         \n",
    "    # ========================================\n",
    "    #               Validation\n",
    "    # ========================================\n",
    "    # After the completion of each training epoch, measure our performance on\n",
    "    # our validation set.\n",
    "\n",
    "    print(\"\")\n",
    "    print(\"Running Validation...\")\n",
    "\n",
    "    # Put the model in evaluation mode--the dropout layers behave differently\n",
    "    # during evaluation.\n",
    "    model.eval()\n",
    "\n",
    "    # Tracking variables \n",
    "    total_eval_accuracy = 0\n",
    "    total_eval_loss = 0\n",
    "    nb_eval_steps = 0\n",
    "\n",
    "    # Evaluate data for one epoch\n",
    "    for batch in validation_dataloader:\n",
    "        \n",
    "        # Unpack this training batch from our dataloader. \n",
    "        #\n",
    "        # As we unpack the batch, we'll also copy each tensor to the GPU using \n",
    "        # the `to` method.\n",
    "        #\n",
    "        # `batch` contains three pytorch tensors:\n",
    "        #   [0]: input ids \n",
    "        #   [1]: attention masks\n",
    "        #   [2]: labels \n",
    "        b_input_ids = batch[0].to(device)\n",
    "        b_input_mask = batch[1].to(device)\n",
    "        b_labels = batch[2].to(device)\n",
    "        \n",
    "        # Tell pytorch not to bother with constructing the compute graph during\n",
    "        # the forward pass, since this is only needed for backprop (training).\n",
    "        with torch.no_grad():        \n",
    "\n",
    "            # Forward pass, calculate logit predictions.\n",
    "            # token_type_ids is the same as the \"segment ids\", which \n",
    "            # differentiates sentence 1 and 2 in 2-sentence tasks.\n",
    "            result = model(b_input_ids, \n",
    "                           token_type_ids=None, \n",
    "                           attention_mask=b_input_mask,\n",
    "                           labels=b_labels,\n",
    "                           return_dict=True)\n",
    "\n",
    "        # Get the loss and \"logits\" output by the model. The \"logits\" are the \n",
    "        # output values prior to applying an activation function like the \n",
    "        # softmax.\n",
    "        loss = result.loss\n",
    "        logits = result.logits\n",
    "            \n",
    "        # Accumulate the validation loss.\n",
    "        total_eval_loss += loss.item()\n",
    "\n",
    "        # Move logits and labels to CPU\n",
    "        logits = logits.detach().cpu().numpy()\n",
    "        label_ids = b_labels.to('cpu').numpy()\n",
    "\n",
    "        # Calculate the accuracy for this batch of test sentences, and\n",
    "        # accumulate it over all batches.\n",
    "        total_eval_accuracy += flat_accuracy(logits, label_ids)\n",
    "        \n",
    "\n",
    "    # Report the final accuracy for this validation run.\n",
    "    avg_val_accuracy = total_eval_accuracy / len(validation_dataloader)\n",
    "    print(\"  Accuracy: {0:.2f}\".format(avg_val_accuracy))\n",
    "\n",
    "    # Calculate the average loss over all of the batches.\n",
    "    avg_val_loss = total_eval_loss / len(validation_dataloader)\n",
    "\n",
    "    # Record all statistics from this epoch.\n",
    "    training_stats.append(\n",
    "        {\n",
    "            'epoch': epoch_i + 1,\n",
    "            'Training Loss': avg_train_loss,\n",
    "            'Valid. Loss': avg_val_loss,\n",
    "        }\n",
    "    )\n",
    "\n",
    "print(\"\")\n",
    "print(\"Training complete!\")"
   ]
  },
  {
   "cell_type": "code",
   "execution_count": 50,
   "id": "73c035af-2b9e-4b58-a49c-129dccfc26b8",
   "metadata": {},
   "outputs": [
    {
     "data": {
      "text/html": [
       "<div>\n",
       "<style scoped>\n",
       "    .dataframe tbody tr th:only-of-type {\n",
       "        vertical-align: middle;\n",
       "    }\n",
       "\n",
       "    .dataframe tbody tr th {\n",
       "        vertical-align: top;\n",
       "    }\n",
       "\n",
       "    .dataframe thead th {\n",
       "        text-align: right;\n",
       "    }\n",
       "</style>\n",
       "<table border=\"1\" class=\"dataframe\">\n",
       "  <thead>\n",
       "    <tr style=\"text-align: right;\">\n",
       "      <th></th>\n",
       "      <th>Training Loss</th>\n",
       "      <th>Valid. Loss</th>\n",
       "    </tr>\n",
       "    <tr>\n",
       "      <th>epoch</th>\n",
       "      <th></th>\n",
       "      <th></th>\n",
       "    </tr>\n",
       "  </thead>\n",
       "  <tbody>\n",
       "    <tr>\n",
       "      <th>1</th>\n",
       "      <td>0.037179</td>\n",
       "      <td>0.000936</td>\n",
       "    </tr>\n",
       "    <tr>\n",
       "      <th>2</th>\n",
       "      <td>0.000640</td>\n",
       "      <td>0.000132</td>\n",
       "    </tr>\n",
       "    <tr>\n",
       "      <th>3</th>\n",
       "      <td>0.000069</td>\n",
       "      <td>0.000025</td>\n",
       "    </tr>\n",
       "    <tr>\n",
       "      <th>4</th>\n",
       "      <td>0.000017</td>\n",
       "      <td>0.000011</td>\n",
       "    </tr>\n",
       "  </tbody>\n",
       "</table>\n",
       "</div>"
      ],
      "text/plain": [
       "       Training Loss  Valid. Loss\n",
       "epoch                            \n",
       "1           0.037179     0.000936\n",
       "2           0.000640     0.000132\n",
       "3           0.000069     0.000025\n",
       "4           0.000017     0.000011"
      ]
     },
     "execution_count": 50,
     "metadata": {},
     "output_type": "execute_result"
    }
   ],
   "source": [
    "# Display floats with two decimal places.\n",
    "#pd.set_option('precision', 2)\n",
    "\n",
    "# Create a DataFrame from our training statistics.\n",
    "df_stats = pd.DataFrame(data=training_stats)\n",
    "\n",
    "# Use the 'epoch' as the row index.\n",
    "df_stats = df_stats.set_index('epoch')\n",
    "\n",
    "# Display the table.\n",
    "df_stats"
   ]
  },
  {
   "cell_type": "code",
   "execution_count": 53,
   "id": "54b8b63b-0178-4c99-8333-1c6e24ed0788",
   "metadata": {},
   "outputs": [
    {
     "data": {
      "image/png": "[encoded data removed]",
      "text/plain": [
       "<Figure size 864x432 with 1 Axes>"
      ]
     },
     "metadata": {},
     "output_type": "display_data"
    }
   ],
   "source": [
    "# Use plot styling from seaborn.\n",
    "sns.set(style='darkgrid')\n",
    "\n",
    "# Increase the plot size and font size.\n",
    "sns.set(font_scale=1.5)\n",
    "plt.rcParams[\"figure.figsize\"] = (12,6)\n",
    "\n",
    "# Plot the learning curve.\n",
    "plt.plot(df_stats['Training Loss'], 'b-o', label=\"Training\")\n",
    "plt.plot(df_stats['Valid. Loss'], 'g-o', label=\"Validation\")\n",
    "\n",
    "# Label the plot.\n",
    "plt.title(\"Training & Validation Loss\")\n",
    "plt.xlabel(\"Epoch\")\n",
    "plt.ylabel(\"Loss\")\n",
    "plt.legend()\n",
    "plt.xticks([1, 2, 3, 4])\n",
    "\n",
    "plt.show()"
   ]
  },
  {
   "cell_type": "code",
   "execution_count": 56,
   "id": "b6958d28-3fec-4efc-8af4-45e57cfcbfd2",
   "metadata": {},
   "outputs": [
    {
     "data": {
      "text/plain": [
       "<Figure size 864x432 with 0 Axes>"
      ]
     },
     "metadata": {},
     "output_type": "display_data"
    }
   ],
   "source": [
    "plt.savefig('BERT1.jpg')"
   ]
  },
  {
   "cell_type": "code",
   "execution_count": null,
   "id": "b39bfa54-1752-4d16-9625-a96f3ff4516c",
   "metadata": {},
   "outputs": [],
   "source": []
  }
 ],
 "metadata": {
  "kernelspec": {
   "display_name": "Python 3 (ipykernel)",
   "language": "python",
   "name": "python3"
  },
  "language_info": {
   "codemirror_mode": {
    "name": "ipython",
    "version": 3
   },
   "file_extension": ".py",
   "mimetype": "text/x-python",
   "name": "python",
   "nbconvert_exporter": "python",
   "pygments_lexer": "ipython3",
   "version": "3.9.12"
  }
 },
 "nbformat": 4,
 "nbformat_minor": 5
}
