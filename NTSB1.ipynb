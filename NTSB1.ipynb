{
 "cells": [
  {
   "cell_type": "markdown",
   "id": "ecc544e1-f88c-46c0-8ae2-083279be7a89",
   "metadata": {},
   "source": [
    "# NTSB Notebook #1: data joining and initial cleaning"
   ]
  },
  {
   "cell_type": "markdown",
   "id": "1bb9f8b3-0d55-4aa2-aad7-f82de956409e",
   "metadata": {},
   "source": [
    "### Import pandas, data and config"
   ]
  },
  {
   "cell_type": "code",
   "execution_count": 1,
   "id": "8b469f90-100d-4673-bbbc-8e869754f4af",
   "metadata": {},
   "outputs": [],
   "source": [
    "import pandas as pd"
   ]
  },
  {
   "cell_type": "code",
   "execution_count": 2,
   "id": "38baef5f-0904-4813-91d7-1749436849f1",
   "metadata": {},
   "outputs": [],
   "source": [
    "# configure pandas settings\n",
    "pd.options.display.max_info_columns = 120"
   ]
  },
  {
   "cell_type": "code",
   "execution_count": 3,
   "id": "f669afb6-1223-4480-824e-bad1dcd86ced",
   "metadata": {},
   "outputs": [
    {
     "name": "stderr",
     "output_type": "stream",
     "text": [
      "C:\\Users\\htwal\\AppData\\Local\\Temp\\ipykernel_13336\\1361939574.py:2: DtypeWarning: Columns (84) have mixed types. Specify dtype option on import or set low_memory=False.\n",
      "  df_new = pd.read_csv('ntsb_post_2008.csv')\n"
     ]
    }
   ],
   "source": [
    "# read in post 2008 data\n",
    "df_new = pd.read_csv('ntsb_post_2008.csv')"
   ]
  },
  {
   "cell_type": "code",
   "execution_count": 4,
   "id": "a1a884a9-035c-4f90-9ac2-7fb226562355",
   "metadata": {},
   "outputs": [
    {
     "data": {
      "text/plain": [
       "(65534, 109)"
      ]
     },
     "execution_count": 4,
     "metadata": {},
     "output_type": "execute_result"
    }
   ],
   "source": [
    "df_new.shape"
   ]
  },
  {
   "cell_type": "code",
   "execution_count": 5,
   "id": "2a8c4c7c-d352-430a-b7df-22941aecc7ef",
   "metadata": {},
   "outputs": [
    {
     "name": "stderr",
     "output_type": "stream",
     "text": [
      "C:\\Users\\htwal\\AppData\\Local\\Temp\\ipykernel_13336\\595044911.py:2: DtypeWarning: Columns (2,16,23,25,49,50,83,84,95,97,98,101,103,104,105,106,108) have mixed types. Specify dtype option on import or set low_memory=False.\n",
      "  df_old = pd.read_csv('NTSB_pre_2008.csv')\n"
     ]
    }
   ],
   "source": [
    "# read in pre-2008 data\n",
    "df_old = pd.read_csv('NTSB_pre_2008.csv')"
   ]
  },
  {
   "cell_type": "code",
   "execution_count": 6,
   "id": "2aaae791-6731-4e69-a8ec-7552da14fd4d",
   "metadata": {},
   "outputs": [
    {
     "data": {
      "text/plain": [
       "(66857, 109)"
      ]
     },
     "execution_count": 6,
     "metadata": {},
     "output_type": "execute_result"
    }
   ],
   "source": [
    "df_old.shape"
   ]
  },
  {
   "cell_type": "markdown",
   "id": "6106a11d-25fb-407f-a5f1-ba055d2b96bd",
   "metadata": {},
   "source": [
    "### Join both dataframes"
   ]
  },
  {
   "cell_type": "code",
   "execution_count": 7,
   "id": "0d8d6726-bd3d-43a5-9030-9fb37a869e7e",
   "metadata": {},
   "outputs": [
    {
     "name": "stdout",
     "output_type": "stream",
     "text": [
      "('aircraft_ev_id', 'aircraft.ev_id')\n",
      "('engines_ev_id', 'engines.ev_id')\n",
      "('events_ev_id', 'events.ev_id')\n",
      "('Findings_ev_id', 'Findings.ev_id')\n",
      "('Flight_Crew_ev_id', 'Flight_Crew.ev_id')\n"
     ]
    }
   ],
   "source": [
    "# check to see if the columns from both dataframes are identical\n",
    "col_compare = list(zip(df_old.columns, df_new.columns))\n",
    "\n",
    "for x in col_compare:\n",
    "    if x[0] != x[1]:\n",
    "        print(x)\n"
   ]
  },
  {
   "cell_type": "code",
   "execution_count": 8,
   "id": "f2e92a13-9475-42f2-a23b-66577cb6bb71",
   "metadata": {},
   "outputs": [],
   "source": [
    "# fix the column labels\n",
    "new_labels = [x.replace('.', '_') for x in list(df_new.columns)]\n",
    "\n",
    "# create mapper:\n",
    "label_map = dict(zip(df_new.columns, new_labels))"
   ]
  },
  {
   "cell_type": "code",
   "execution_count": 9,
   "id": "17dbbca7-0033-4bf3-9dff-02e34039ada2",
   "metadata": {},
   "outputs": [],
   "source": [
    "df_new = df_new.rename(columns=label_map)"
   ]
  },
  {
   "cell_type": "code",
   "execution_count": 10,
   "id": "f3a758f5-5bc8-4533-907b-269a95818a9c",
   "metadata": {},
   "outputs": [],
   "source": [
    "# validate column rename worked\n",
    "col_compare = list(zip(df_old.columns, df_new.columns))\n",
    "\n",
    "for x in col_compare:\n",
    "    if x[0] != x[1]:\n",
    "        print(x)"
   ]
  },
  {
   "cell_type": "code",
   "execution_count": 11,
   "id": "fa9a519d-316b-4cd0-b22e-1e92396ae86f",
   "metadata": {},
   "outputs": [],
   "source": [
    "# concatenate both data sets\n",
    "df = pd.concat([df_old, df_new])"
   ]
  },
  {
   "cell_type": "code",
   "execution_count": 12,
   "id": "1fc32ff2-ecf0-4593-8792-8504011227cd",
   "metadata": {},
   "outputs": [
    {
     "data": {
      "text/plain": [
       "(132391, 109)"
      ]
     },
     "execution_count": 12,
     "metadata": {},
     "output_type": "execute_result"
    }
   ],
   "source": [
    "# concatenated df shape\n",
    "df.shape"
   ]
  },
  {
   "cell_type": "markdown",
   "id": "fb84be10-083e-4492-a020-62d2d4645484",
   "metadata": {},
   "source": [
    "### Filter by far_part"
   ]
  },
  {
   "cell_type": "code",
   "execution_count": 13,
   "id": "addd91ef-d5ff-4ccd-b83c-8111c85f6052",
   "metadata": {},
   "outputs": [
    {
     "data": {
      "text/plain": [
       "091     103229\n",
       "121       7654\n",
       "135       6551\n",
       "137       5800\n",
       "NUSN      2230\n",
       "PUBU      1615\n",
       "NUSC      1553\n",
       "129       1399\n",
       "133        583\n",
       "UNK        514\n",
       "103        207\n",
       "091K       124\n",
       "125         77\n",
       "ARMF        73\n",
       "091F        40\n",
       "437         14\n",
       "107          5\n",
       "Name: far_part, dtype: int64"
      ]
     },
     "execution_count": 13,
     "metadata": {},
     "output_type": "execute_result"
    }
   ],
   "source": [
    "# view all part data in df\n",
    "df['far_part'].value_counts()"
   ]
  },
  {
   "cell_type": "code",
   "execution_count": 14,
   "id": "af4d94e5-e8b5-4cea-b9fa-3849e55c373b",
   "metadata": {},
   "outputs": [],
   "source": [
    "# filter out part 121, 125, 129, UNK, 133, , NUSN, PUBU, NUSC, 107\n",
    "mask = ['121', '125', '129', 'UNK', '133', 'NUSN', 'PUBU', 'NUSC', '107']\n",
    "df = df[~df['far_part'].isin(mask)]"
   ]
  },
  {
   "cell_type": "code",
   "execution_count": 15,
   "id": "4e03cd71-ff28-42b6-aad1-28d054ffaa3e",
   "metadata": {},
   "outputs": [],
   "source": [
    "# drop irrelevant columns or very high null counts\n",
    "df = df.drop(['metar', 'fuel_on_board', 'dest_country', 'dprt_country', 'crew_res_state', 'crew_city', 'Findings_ev_id',\n",
    "              'Flight_Crew_ev_id', 'Flight_Crew_Aircraft_Key', 'Findings_Aircraft_Key', 'vis_rvv', 'wx_obs_tmzn', \n",
    "              'inj_f_grnd', 'inj_m_grnd', 'inj_s_grnd', 'inj_tot_f', 'inj_tot_m', 'inj_tot_n','inj_tot_s', 'dprt_timezn',\n",
    "              'wx_brief_comp'], axis=1)"
   ]
  },
  {
   "cell_type": "code",
   "execution_count": 16,
   "id": "ddf6cbec-8beb-4119-b6ea-6ad4e62b9c2a",
   "metadata": {},
   "outputs": [],
   "source": [
    "#filter out records where the phase was not taxt or inflight\n",
    "phase_mask = [0.0, 610.0, 600.0, 500.0, 501.0, 502.0, 503.0, 504.0, 505.0] \n",
    "df = df[~df['phase_flt_spec'].isin(phase_mask)]"
   ]
  },
  {
   "cell_type": "code",
   "execution_count": 22,
   "id": "19e27252-6c78-4859-ae5c-c868d94ed9a8",
   "metadata": {},
   "outputs": [],
   "source": [
    "# drop all records that do not have at least 60 columns worth of data in them\n",
    "df1 = df.dropna(thresh=60)"
   ]
  },
  {
   "cell_type": "code",
   "execution_count": 23,
   "id": "1abb7823-f456-4a65-b736-47250cbc81d4",
   "metadata": {},
   "outputs": [
    {
     "data": {
      "text/plain": [
       "(104120, 88)"
      ]
     },
     "execution_count": 23,
     "metadata": {},
     "output_type": "execute_result"
    }
   ],
   "source": [
    "df1.shape"
   ]
  },
  {
   "cell_type": "code",
   "execution_count": 28,
   "id": "72d0b993-1384-4b1a-8db1-679abefb42cc",
   "metadata": {},
   "outputs": [
    {
     "data": {
      "text/plain": [
       "NONE    54732\n",
       "FATL    23655\n",
       "MINR    14807\n",
       "SERS    10839\n",
       "Name: ev_highest_injury, dtype: int64"
      ]
     },
     "execution_count": 28,
     "metadata": {},
     "output_type": "execute_result"
    }
   ],
   "source": [
    "df1['ev_highest_injury'].value_counts()"
   ]
  },
  {
   "cell_type": "code",
   "execution_count": 25,
   "id": "c4cdda3d-db52-47f3-88ed-6ef1c6319597",
   "metadata": {},
   "outputs": [
    {
     "name": "stdout",
     "output_type": "stream",
     "text": [
      "<class 'pandas.core.frame.DataFrame'>\n",
      "Int64Index: 104120 entries, 0 to 65533\n",
      "Data columns (total 88 columns):\n",
      " #   Column                 Non-Null Count   Dtype  \n",
      "---  ------                 --------------   -----  \n",
      " 0   aircraft_ev_id         104120 non-null  object \n",
      " 1   far_part               104120 non-null  object \n",
      " 2   flight_plan_activated  45517 non-null   object \n",
      " 3   damage                 103326 non-null  object \n",
      " 4   acft_make              104108 non-null  object \n",
      " 5   acft_model             104096 non-null  object \n",
      " 6   cert_max_gr_wt         93685 non-null   float64\n",
      " 7   num_eng                102746 non-null  float64\n",
      " 8   type_last_insp         99030 non-null   object \n",
      " 9   date_last_insp         83764 non-null   object \n",
      " 10  afm_hrs_last_insp      58888 non-null   float64\n",
      " 11  afm_hrs                84919 non-null   float64\n",
      " 12  type_fly               100532 non-null  object \n",
      " 13  dprt_apt_id            85958 non-null   object \n",
      " 14  dprt_city              88866 non-null   object \n",
      " 15  dprt_state             89162 non-null   object \n",
      " 16  dprt_time              94605 non-null   float64\n",
      " 17  dest_same_local        34112 non-null   object \n",
      " 18  dest_apt_id            71722 non-null   object \n",
      " 19  dest_city              74822 non-null   object \n",
      " 20  dest_state             75078 non-null   object \n",
      " 21  phase_flt_spec         51969 non-null   float64\n",
      " 22  afm_hrs_since          59743 non-null   object \n",
      " 23  rwy_num                77801 non-null   object \n",
      " 24  rwy_len                64245 non-null   float64\n",
      " 25  rwy_width              63263 non-null   float64\n",
      " 26  ifr_equipped_cert      104120 non-null  bool   \n",
      " 27  engines_ev_id          103670 non-null  object \n",
      " 28  eng_no                 103670 non-null  float64\n",
      " 29  eng_type               103258 non-null  object \n",
      " 30  eng_mfgr               102470 non-null  object \n",
      " 31  hp_or_lbs              98580 non-null   object \n",
      " 32  carb_fuel_injection    86604 non-null   object \n",
      " 33  eng_time_total         51578 non-null   float64\n",
      " 34  eng_time_last_insp     51578 non-null   float64\n",
      " 35  events_ev_id           104120 non-null  object \n",
      " 36  ntsb_no                104120 non-null  object \n",
      " 37  ev_type                104120 non-null  object \n",
      " 38  ev_date                104120 non-null  object \n",
      " 39  ev_dow                 104120 non-null  object \n",
      " 40  ev_time                104035 non-null  float64\n",
      " 41  ev_city                104114 non-null  object \n",
      " 42  ev_state               103812 non-null  object \n",
      " 43  ev_year                104120 non-null  int64  \n",
      " 44  ev_month               104120 non-null  int64  \n",
      " 45  latitude               60230 non-null   object \n",
      " 46  longitude              60231 non-null   object \n",
      " 47  apt_name               72793 non-null   object \n",
      " 48  ev_nr_apt_id           69801 non-null   object \n",
      " 49  ev_nr_apt_loc          102547 non-null  object \n",
      " 50  apt_dist               87657 non-null   float64\n",
      " 51  apt_dir                46753 non-null   float64\n",
      " 52  apt_elev               74371 non-null   float64\n",
      " 53  wx_src_iic             102501 non-null  object \n",
      " 54  wx_obs_time            98591 non-null   float64\n",
      " 55  wx_obs_dir             101520 non-null  float64\n",
      " 56  wx_obs_fac_id          82383 non-null   object \n",
      " 57  wx_obs_elev            94869 non-null   float64\n",
      " 58  wx_obs_dist            101940 non-null  float64\n",
      " 59  light_cond             103997 non-null  object \n",
      " 60  sky_cond_nonceil       94823 non-null   object \n",
      " 61  sky_nonceil_ht         97868 non-null   float64\n",
      " 62  sky_ceil_ht            97549 non-null   float64\n",
      " 63  sky_cond_ceil          100149 non-null  object \n",
      " 64  vis_rvr                42792 non-null   float64\n",
      " 65  vis_sm                 102787 non-null  float64\n",
      " 66  wx_temp                100236 non-null  float64\n",
      " 67  wx_dew_pt              92593 non-null   float64\n",
      " 68  wind_dir_deg           102898 non-null  float64\n",
      " 69  wind_dir_ind           103617 non-null  object \n",
      " 70  wind_vel_kts           93150 non-null   float64\n",
      " 71  wind_vel_ind           104079 non-null  object \n",
      " 72  gust_ind               104100 non-null  object \n",
      " 73  gust_kts               96906 non-null   float64\n",
      " 74  altimeter              91137 non-null   float64\n",
      " 75  wx_dens_alt            19070 non-null   float64\n",
      " 76  wx_int_precip          42863 non-null   object \n",
      " 77  ev_highest_injury      104033 non-null  object \n",
      " 78  inj_tot_t              76097 non-null   float64\n",
      " 79  wx_cond_basic          104078 non-null  object \n",
      " 80  Cause_Factor           43521 non-null   object \n",
      " 81  crew_no                51448 non-null   float64\n",
      " 82  crew_category          50990 non-null   object \n",
      " 83  crew_age               49235 non-null   float64\n",
      " 84  crew_sex               37326 non-null   object \n",
      " 85  med_certf              48872 non-null   object \n",
      " 86  pilot_flying           103551 non-null  object \n",
      " 87  crew_inj_level         50327 non-null   object \n",
      "dtypes: bool(1), float64(33), int64(2), object(52)\n",
      "memory usage: 70.0+ MB\n"
     ]
    }
   ],
   "source": [
    "df1.info()"
   ]
  },
  {
   "cell_type": "code",
   "execution_count": 18,
   "id": "b92550d7-ec46-4c3b-9699-c8f73afa9aa5",
   "metadata": {},
   "outputs": [],
   "source": [
    "# save this version of the data\n",
    "df1.to_csv('NTSB_for_cleaning.csv')"
   ]
  },
  {
   "cell_type": "markdown",
   "id": "c85863ec-087d-4eeb-a45d-dc9886fb345c",
   "metadata": {},
   "source": [
    "### Outcome columns for labeling purposes"
   ]
  },
  {
   "cell_type": "code",
   "execution_count": 27,
   "id": "afee98b7-d15e-4966-87dc-2ff0642b1b3f",
   "metadata": {},
   "outputs": [],
   "source": [
    "# the columns to be used to create the labels are: inj_tot_t, damage, crew_inj_level, ev_highest_injury"
   ]
  }
 ],
 "metadata": {
  "kernelspec": {
   "display_name": "Python 3 (ipykernel)",
   "language": "python",
   "name": "python3"
  },
  "language_info": {
   "codemirror_mode": {
    "name": "ipython",
    "version": 3
   },
   "file_extension": ".py",
   "mimetype": "text/x-python",
   "name": "python",
   "nbconvert_exporter": "python",
   "pygments_lexer": "ipython3",
   "version": "3.9.12"
  }
 },
 "nbformat": 4,
 "nbformat_minor": 5
}
