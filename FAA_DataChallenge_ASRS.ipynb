{
 "cells": [
  {
   "cell_type": "code",
   "execution_count": null,
   "id": "0f9805a4",
   "metadata": {},
   "outputs": [],
   "source": [
    "import pandas as pd\n",
    "\n",
    "#read data in from file without headers using \\t as seperator\n",
    "df = pd.read_csv('C:/Users/erick/OneDrive/Desktop/ASRS_2020_2022.txt', sep = '\\t', header = None)"
   ]
  },
  {
   "cell_type": "code",
   "execution_count": null,
   "id": "2e4c405f",
   "metadata": {},
   "outputs": [],
   "source": [
    "#check the file was read in correctly\n",
    "df.head()"
   ]
  },
  {
   "cell_type": "code",
   "execution_count": null,
   "id": "c761082f",
   "metadata": {},
   "outputs": [],
   "source": [
    "#remove row 0 of file due to redundant explination of headers\n",
    "df = df.iloc[1:]"
   ]
  },
  {
   "cell_type": "code",
   "execution_count": null,
   "id": "56f2a0e2",
   "metadata": {},
   "outputs": [],
   "source": [
    "#Assign row 1 as headers of the df\n",
    "df.columns = df.iloc[0].values"
   ]
  },
  {
   "cell_type": "code",
   "execution_count": null,
   "id": "92c70f79",
   "metadata": {},
   "outputs": [],
   "source": [
    "#remove row 1 and row 2. Row 1 data was made into header and Row 2 is blank.\n",
    "df.drop(index=[1,2], inplace = True)"
   ]
  },
  {
   "cell_type": "code",
   "execution_count": null,
   "id": "b527d4c4",
   "metadata": {},
   "outputs": [],
   "source": [
    "#reset index count in df\n",
    "df.reset_index(drop = True, inplace = True)"
   ]
  },
  {
   "cell_type": "code",
   "execution_count": null,
   "id": "023d8c4c",
   "metadata": {},
   "outputs": [],
   "source": [
    "#remove columns that are made up of NaN data from df\n",
    "df = df.dropna(axis='columns', how ='all')"
   ]
  },
  {
   "cell_type": "code",
   "execution_count": null,
   "id": "040aeae9",
   "metadata": {},
   "outputs": [],
   "source": [
    "#learning about data in df\n",
    "df.info()"
   ]
  },
  {
   "cell_type": "code",
   "execution_count": null,
   "id": "9b591df8",
   "metadata": {},
   "outputs": [],
   "source": [
    "#remove columns named nan\n",
    "df.drop(df.columns[[18,27,28,29,30,31,32,33,34,35,36,37,38,39,40,42,52,85,87,88,89]], axis=1, inplace=True)"
   ]
  },
  {
   "cell_type": "code",
   "execution_count": null,
   "id": "62468d55",
   "metadata": {},
   "outputs": [],
   "source": [
    "#checking data in df again\n",
    "df.info()"
   ]
  },
  {
   "cell_type": "code",
   "execution_count": null,
   "id": "e8628d61",
   "metadata": {},
   "outputs": [],
   "source": []
  }
 ],
 "metadata": {
  "kernelspec": {
   "display_name": "Python 3 (ipykernel)",
   "language": "python",
   "name": "python3"
  },
  "language_info": {
   "codemirror_mode": {
    "name": "ipython",
    "version": 3
   },
   "file_extension": ".py",
   "mimetype": "text/x-python",
   "name": "python",
   "nbconvert_exporter": "python",
   "pygments_lexer": "ipython3",
   "version": "3.9.12"
  }
 },
 "nbformat": 4,
 "nbformat_minor": 5
}
