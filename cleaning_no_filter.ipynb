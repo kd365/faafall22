{
  "cells": [
    {
      "cell_type": "markdown",
      "metadata": {
        "id": "view-in-github",
        "colab_type": "text"
      },
      "source": [
        "<a href=\"https://colab.research.google.com/github/kd365/faafall22/blob/main/cleaning_no_filter.ipynb\" target=\"_parent\"><img src=\"https://colab.research.google.com/assets/colab-badge.svg\" alt=\"Open In Colab\"/></a>"
      ]
    },
    {
      "cell_type": "markdown",
      "source": [
        "# NTSB Cleaning Notebook"
      ],
      "metadata": {
        "id": "uFmGuv_e813K"
      },
      "id": "uFmGuv_e813K"
    },
    {
      "cell_type": "markdown",
      "source": [
        "## Steps:\n",
        "1. Import libraries and raw data\n",
        "2. Initial column drops\n",
        "3. Cleaning steps that wil apply to entire dataframe\n",
        "4. Cleaning each column\n",
        "\n",
        "**Cleaning Plan:**\n",
        "\n",
        "Hunter:\n",
        "- cols 0-22\n",
        "Kathleen:\n",
        "- col 23-45\n",
        "Eric:\n",
        "- col 46-68\n",
        "Chi:\n",
        "- col 69-85\n"
      ],
      "metadata": {
        "id": "t83UG5G79C69"
      },
      "id": "t83UG5G79C69"
    },
    {
      "cell_type": "markdown",
      "source": [
        "### 1. Import libraries"
      ],
      "metadata": {
        "id": "G1TLyT5-8xS3"
      },
      "id": "G1TLyT5-8xS3"
    },
    {
      "cell_type": "code",
      "source": [
        "from google.colab import files\n",
        "import pandas as pd\n",
        "\n",
        "uploaded = files.upload()"
      ],
      "metadata": {
        "id": "w0dmdVmRXvEp",
        "outputId": "e4c0ba78-a005-4f3f-806e-3dd84dd033f2",
        "colab": {
          "base_uri": "https://localhost:8080/",
          "height": 73
        }
      },
      "id": "w0dmdVmRXvEp",
      "execution_count": 1,
      "outputs": [
        {
          "output_type": "display_data",
          "data": {
            "text/plain": [
              "<IPython.core.display.HTML object>"
            ],
            "text/html": [
              "\n",
              "     <input type=\"file\" id=\"files-84c3a240-3ee5-40e0-80c7-7449d51520e8\" name=\"files[]\" multiple disabled\n",
              "        style=\"border:none\" />\n",
              "     <output id=\"result-84c3a240-3ee5-40e0-80c7-7449d51520e8\">\n",
              "      Upload widget is only available when the cell has been executed in the\n",
              "      current browser session. Please rerun this cell to enable.\n",
              "      </output>\n",
              "      <script>// Copyright 2017 Google LLC\n",
              "//\n",
              "// Licensed under the Apache License, Version 2.0 (the \"License\");\n",
              "// you may not use this file except in compliance with the License.\n",
              "// You may obtain a copy of the License at\n",
              "//\n",
              "//      http://www.apache.org/licenses/LICENSE-2.0\n",
              "//\n",
              "// Unless required by applicable law or agreed to in writing, software\n",
              "// distributed under the License is distributed on an \"AS IS\" BASIS,\n",
              "// WITHOUT WARRANTIES OR CONDITIONS OF ANY KIND, either express or implied.\n",
              "// See the License for the specific language governing permissions and\n",
              "// limitations under the License.\n",
              "\n",
              "/**\n",
              " * @fileoverview Helpers for google.colab Python module.\n",
              " */\n",
              "(function(scope) {\n",
              "function span(text, styleAttributes = {}) {\n",
              "  const element = document.createElement('span');\n",
              "  element.textContent = text;\n",
              "  for (const key of Object.keys(styleAttributes)) {\n",
              "    element.style[key] = styleAttributes[key];\n",
              "  }\n",
              "  return element;\n",
              "}\n",
              "\n",
              "// Max number of bytes which will be uploaded at a time.\n",
              "const MAX_PAYLOAD_SIZE = 100 * 1024;\n",
              "\n",
              "function _uploadFiles(inputId, outputId) {\n",
              "  const steps = uploadFilesStep(inputId, outputId);\n",
              "  const outputElement = document.getElementById(outputId);\n",
              "  // Cache steps on the outputElement to make it available for the next call\n",
              "  // to uploadFilesContinue from Python.\n",
              "  outputElement.steps = steps;\n",
              "\n",
              "  return _uploadFilesContinue(outputId);\n",
              "}\n",
              "\n",
              "// This is roughly an async generator (not supported in the browser yet),\n",
              "// where there are multiple asynchronous steps and the Python side is going\n",
              "// to poll for completion of each step.\n",
              "// This uses a Promise to block the python side on completion of each step,\n",
              "// then passes the result of the previous step as the input to the next step.\n",
              "function _uploadFilesContinue(outputId) {\n",
              "  const outputElement = document.getElementById(outputId);\n",
              "  const steps = outputElement.steps;\n",
              "\n",
              "  const next = steps.next(outputElement.lastPromiseValue);\n",
              "  return Promise.resolve(next.value.promise).then((value) => {\n",
              "    // Cache the last promise value to make it available to the next\n",
              "    // step of the generator.\n",
              "    outputElement.lastPromiseValue = value;\n",
              "    return next.value.response;\n",
              "  });\n",
              "}\n",
              "\n",
              "/**\n",
              " * Generator function which is called between each async step of the upload\n",
              " * process.\n",
              " * @param {string} inputId Element ID of the input file picker element.\n",
              " * @param {string} outputId Element ID of the output display.\n",
              " * @return {!Iterable<!Object>} Iterable of next steps.\n",
              " */\n",
              "function* uploadFilesStep(inputId, outputId) {\n",
              "  const inputElement = document.getElementById(inputId);\n",
              "  inputElement.disabled = false;\n",
              "\n",
              "  const outputElement = document.getElementById(outputId);\n",
              "  outputElement.innerHTML = '';\n",
              "\n",
              "  const pickedPromise = new Promise((resolve) => {\n",
              "    inputElement.addEventListener('change', (e) => {\n",
              "      resolve(e.target.files);\n",
              "    });\n",
              "  });\n",
              "\n",
              "  const cancel = document.createElement('button');\n",
              "  inputElement.parentElement.appendChild(cancel);\n",
              "  cancel.textContent = 'Cancel upload';\n",
              "  const cancelPromise = new Promise((resolve) => {\n",
              "    cancel.onclick = () => {\n",
              "      resolve(null);\n",
              "    };\n",
              "  });\n",
              "\n",
              "  // Wait for the user to pick the files.\n",
              "  const files = yield {\n",
              "    promise: Promise.race([pickedPromise, cancelPromise]),\n",
              "    response: {\n",
              "      action: 'starting',\n",
              "    }\n",
              "  };\n",
              "\n",
              "  cancel.remove();\n",
              "\n",
              "  // Disable the input element since further picks are not allowed.\n",
              "  inputElement.disabled = true;\n",
              "\n",
              "  if (!files) {\n",
              "    return {\n",
              "      response: {\n",
              "        action: 'complete',\n",
              "      }\n",
              "    };\n",
              "  }\n",
              "\n",
              "  for (const file of files) {\n",
              "    const li = document.createElement('li');\n",
              "    li.append(span(file.name, {fontWeight: 'bold'}));\n",
              "    li.append(span(\n",
              "        `(${file.type || 'n/a'}) - ${file.size} bytes, ` +\n",
              "        `last modified: ${\n",
              "            file.lastModifiedDate ? file.lastModifiedDate.toLocaleDateString() :\n",
              "                                    'n/a'} - `));\n",
              "    const percent = span('0% done');\n",
              "    li.appendChild(percent);\n",
              "\n",
              "    outputElement.appendChild(li);\n",
              "\n",
              "    const fileDataPromise = new Promise((resolve) => {\n",
              "      const reader = new FileReader();\n",
              "      reader.onload = (e) => {\n",
              "        resolve(e.target.result);\n",
              "      };\n",
              "      reader.readAsArrayBuffer(file);\n",
              "    });\n",
              "    // Wait for the data to be ready.\n",
              "    let fileData = yield {\n",
              "      promise: fileDataPromise,\n",
              "      response: {\n",
              "        action: 'continue',\n",
              "      }\n",
              "    };\n",
              "\n",
              "    // Use a chunked sending to avoid message size limits. See b/62115660.\n",
              "    let position = 0;\n",
              "    do {\n",
              "      const length = Math.min(fileData.byteLength - position, MAX_PAYLOAD_SIZE);\n",
              "      const chunk = new Uint8Array(fileData, position, length);\n",
              "      position += length;\n",
              "\n",
              "      const base64 = btoa(String.fromCharCode.apply(null, chunk));\n",
              "      yield {\n",
              "        response: {\n",
              "          action: 'append',\n",
              "          file: file.name,\n",
              "          data: base64,\n",
              "        },\n",
              "      };\n",
              "\n",
              "      let percentDone = fileData.byteLength === 0 ?\n",
              "          100 :\n",
              "          Math.round((position / fileData.byteLength) * 100);\n",
              "      percent.textContent = `${percentDone}% done`;\n",
              "\n",
              "    } while (position < fileData.byteLength);\n",
              "  }\n",
              "\n",
              "  // All done.\n",
              "  yield {\n",
              "    response: {\n",
              "      action: 'complete',\n",
              "    }\n",
              "  };\n",
              "}\n",
              "\n",
              "scope.google = scope.google || {};\n",
              "scope.google.colab = scope.google.colab || {};\n",
              "scope.google.colab._files = {\n",
              "  _uploadFiles,\n",
              "  _uploadFilesContinue,\n",
              "};\n",
              "})(self);\n",
              "</script> "
            ]
          },
          "metadata": {}
        },
        {
          "output_type": "stream",
          "name": "stdout",
          "text": [
            "Saving NTSB_for_cleaning.csv to NTSB_for_cleaning.csv\n"
          ]
        }
      ]
    },
    {
      "cell_type": "code",
      "source": [
        "import re\n",
        "import numpy as np"
      ],
      "metadata": {
        "id": "hZefpoX7EXSf"
      },
      "id": "hZefpoX7EXSf",
      "execution_count": 2,
      "outputs": []
    },
    {
      "cell_type": "code",
      "execution_count": null,
      "id": "998f647c",
      "metadata": {
        "id": "998f647c",
        "outputId": "29848123-98b0-40c7-eb62-ea18b4ac2947",
        "colab": {
          "base_uri": "https://localhost:8080/"
        }
      },
      "outputs": [
        {
          "output_type": "stream",
          "name": "stdout",
          "text": [
            "<class 'pandas.core.frame.DataFrame'>\n",
            "RangeIndex: 112803 entries, 0 to 112802\n",
            "Data columns (total 86 columns):\n",
            " #   Column                 Non-Null Count   Dtype  \n",
            "---  ------                 --------------   -----  \n",
            " 0   aircraft_ev_id         112803 non-null  object \n",
            " 1   far_part               112080 non-null  object \n",
            " 2   flight_plan_activated  48716 non-null   object \n",
            " 3   damage                 111402 non-null  object \n",
            " 4   acft_make              112785 non-null  object \n",
            " 5   acft_model             112767 non-null  object \n",
            " 6   cert_max_gr_wt         98437 non-null   float64\n",
            " 7   num_eng                110047 non-null  float64\n",
            " 8   type_last_insp         104108 non-null  object \n",
            " 9   date_last_insp         87193 non-null   object \n",
            " 10  afm_hrs_last_insp      61174 non-null   float64\n",
            " 11  afm_hrs                88035 non-null   float64\n",
            " 12  type_fly               108038 non-null  object \n",
            " 13  dprt_apt_id            90502 non-null   object \n",
            " 14  dprt_city              94336 non-null   object \n",
            " 15  dprt_state             94513 non-null   object \n",
            " 16  dprt_time              99943 non-null   float64\n",
            " 17  dest_same_local        38828 non-null   object \n",
            " 18  dest_apt_id            74598 non-null   object \n",
            " 19  dest_city              78311 non-null   object \n",
            " 20  dest_state             78376 non-null   object \n",
            " 21  phase_flt_spec         57089 non-null   float64\n",
            " 22  afm_hrs_since          63593 non-null   object \n",
            " 23  rwy_num                81744 non-null   object \n",
            " 24  rwy_len                65448 non-null   float64\n",
            " 25  rwy_width              64398 non-null   float64\n",
            " 26  ifr_equipped_cert      112803 non-null  bool   \n",
            " 27  eng_no                 110354 non-null  float64\n",
            " 28  eng_type               109715 non-null  object \n",
            " 29  eng_mfgr               108381 non-null  object \n",
            " 30  hp_or_lbs              102779 non-null  object \n",
            " 31  carb_fuel_injection    90014 non-null   object \n",
            " 32  eng_time_total         52342 non-null   float64\n",
            " 33  eng_time_last_insp     52342 non-null   float64\n",
            " 34  ntsb_no                112803 non-null  object \n",
            " 35  ev_type                112803 non-null  object \n",
            " 36  ev_date                112803 non-null  object \n",
            " 37  ev_dow                 112803 non-null  object \n",
            " 38  ev_time                112658 non-null  float64\n",
            " 39  ev_city                112788 non-null  object \n",
            " 40  ev_state               111483 non-null  object \n",
            " 41  ev_year                112803 non-null  int64  \n",
            " 42  ev_month               112803 non-null  int64  \n",
            " 43  latitude               65391 non-null   object \n",
            " 44  longitude              65393 non-null   object \n",
            " 45  apt_name               75302 non-null   object \n",
            " 46  ev_nr_apt_id           72215 non-null   object \n",
            " 47  ev_nr_apt_loc          109485 non-null  object \n",
            " 48  apt_dist               91419 non-null   float64\n",
            " 49  apt_dir                48091 non-null   float64\n",
            " 50  apt_elev               75760 non-null   float64\n",
            " 51  wx_src_iic             109627 non-null  object \n",
            " 52  wx_obs_time            103626 non-null  float64\n",
            " 53  wx_obs_dir             107113 non-null  float64\n",
            " 54  wx_obs_fac_id          85453 non-null   object \n",
            " 55  wx_obs_elev            99284 non-null   float64\n",
            " 56  wx_obs_dist            107580 non-null  float64\n",
            " 57  light_cond             111393 non-null  object \n",
            " 58  sky_cond_nonceil       100695 non-null  object \n",
            " 59  sky_nonceil_ht         103374 non-null  float64\n",
            " 60  sky_ceil_ht            103044 non-null  float64\n",
            " 61  sky_cond_ceil          106185 non-null  object \n",
            " 62  vis_rvr                45280 non-null   float64\n",
            " 63  vis_sm                 109131 non-null  float64\n",
            " 64  wx_temp                106952 non-null  float64\n",
            " 65  wx_dew_pt              97206 non-null   float64\n",
            " 66  wind_dir_deg           109673 non-null  float64\n",
            " 67  wind_dir_ind           110665 non-null  object \n",
            " 68  wind_vel_kts           98476 non-null   float64\n",
            " 69  wind_vel_ind           111628 non-null  object \n",
            " 70  gust_ind               112592 non-null  object \n",
            " 71  gust_kts               102408 non-null  float64\n",
            " 72  altimeter              95906 non-null   float64\n",
            " 73  wx_dens_alt            19394 non-null   float64\n",
            " 74  wx_int_precip          45371 non-null   object \n",
            " 75  ev_highest_injury      112417 non-null  object \n",
            " 76  inj_tot_t              80568 non-null   float64\n",
            " 77  wx_cond_basic          111719 non-null  object \n",
            " 78  Cause_Factor           44007 non-null   object \n",
            " 79  crew_no                51714 non-null   float64\n",
            " 80  crew_category          51251 non-null   object \n",
            " 81  crew_age               49472 non-null   float64\n",
            " 82  crew_sex               37556 non-null   object \n",
            " 83  med_certf              49114 non-null   object \n",
            " 84  pilot_flying           109921 non-null  object \n",
            " 85  crew_inj_level         50436 non-null   object \n",
            "dtypes: bool(1), float64(33), int64(2), object(50)\n",
            "memory usage: 73.3+ MB\n"
          ]
        }
      ],
      "source": [
        "# setting pandas display options\n",
        "pd.set_option('display.max_rows', 150)\n",
        "\n",
        "# reading in NTSB csv file\n",
        "ntsb_raw = pd.read_csv(\"NTSB_for_cleaning.csv\", encoding='latin-1', low_memory=False)\n",
        "ntsb_raw = ntsb_raw.drop(['engines_ev_id', 'events_ev_id', 'Unnamed: 0'], axis=1)\n",
        "# view the dataframe info\n",
        "ntsb_raw.info()"
      ]
    },
    {
      "cell_type": "markdown",
      "source": [
        "### 2. Initial Drop"
      ],
      "metadata": {
        "id": "rTGB5OeKO5H7"
      },
      "id": "rTGB5OeKO5H7"
    },
    {
      "cell_type": "code",
      "source": [
        "# need to delete duplicate records\n",
        "ntsb_raw = ntsb_raw.drop_duplicates(subset='aircraft_ev_id', keep='last')\n",
        "ntsb_raw.shape"
      ],
      "metadata": {
        "id": "K7_euSXJ8h8R",
        "outputId": "30391179-3803-4e7b-acae-b1ecb02968ba",
        "colab": {
          "base_uri": "https://localhost:8080/"
        }
      },
      "id": "K7_euSXJ8h8R",
      "execution_count": null,
      "outputs": [
        {
          "output_type": "execute_result",
          "data": {
            "text/plain": [
              "(69635, 86)"
            ]
          },
          "metadata": {},
          "execution_count": 90
        }
      ]
    },
    {
      "cell_type": "code",
      "source": [
        "# drop all records that do not have at least 70 columns worth of data in them\n",
        "ntsb_raw = ntsb_raw.dropna(thresh=50)"
      ],
      "metadata": {
        "id": "nQJJY6lK6hTa"
      },
      "id": "nQJJY6lK6hTa",
      "execution_count": null,
      "outputs": []
    },
    {
      "cell_type": "code",
      "source": [
        "# drop any columns that have more than 40% null values\n",
        "total_rows = ntsb_raw.shape[0]\n",
        "\n",
        "def drop_cols(df, df_size):\n",
        "    # create a list of columns to drop\n",
        "    drop = []\n",
        "    # iterate over each column\n",
        "    for x in df.columns:\n",
        "        #determine if the ratio of nulls is greater than 30%\n",
        "        ratio = (df[x].isna().sum()) / df_size\n",
        "        if ratio > 0.5:\n",
        "            drop.append(x)\n",
        "    # drop the columns in the drop list\n",
        "    df.drop(labels=drop, axis=1)\n",
        "    print('Cols dropped from df:', drop)\n",
        "    return df\n",
        "\n",
        "ntsb_dropped_cols = drop_cols(ntsb_raw, total_rows)      \n"
      ],
      "metadata": {
        "colab": {
          "base_uri": "https://localhost:8080/"
        },
        "id": "vdxZW7P5_5i6",
        "outputId": "c686a692-2e87-4cd6-9061-62aa5f26758c"
      },
      "id": "vdxZW7P5_5i6",
      "execution_count": null,
      "outputs": [
        {
          "output_type": "stream",
          "name": "stdout",
          "text": [
            "Cols dropped from df: ['flight_plan_activated', 'afm_hrs_since', 'eng_time_total', 'eng_time_last_insp', 'latitude', 'longitude', 'wx_dens_alt', 'Cause_Factor', 'crew_no', 'crew_category', 'crew_age', 'crew_sex', 'med_certf', 'crew_inj_level']\n"
          ]
        }
      ]
    },
    {
      "cell_type": "code",
      "source": [
        "print(ntsb_dropped_cols.shape)"
      ],
      "metadata": {
        "colab": {
          "base_uri": "https://localhost:8080/"
        },
        "id": "n1YllzgSTVIS",
        "outputId": "550c3f52-5ccf-47fa-dc0d-51f6ceb03077"
      },
      "id": "n1YllzgSTVIS",
      "execution_count": null,
      "outputs": [
        {
          "output_type": "stream",
          "name": "stdout",
          "text": [
            "(67041, 86)\n"
          ]
        }
      ]
    },
    {
      "cell_type": "markdown",
      "source": [
        "## 3. Cleaning that applies to entire data set"
      ],
      "metadata": {
        "id": "u2TOQKAg5sI9"
      },
      "id": "u2TOQKAg5sI9"
    },
    {
      "cell_type": "code",
      "source": [
        "# function to initially clean up all strings in df\n",
        "def df_string_transform(df):\n",
        "    ''' \n",
        "    force all text data to lowercase and strip left and right side of strings\n",
        "    in all string columns\n",
        "\n",
        "    args: dataframe\n",
        "\n",
        "    returns: dataframe\n",
        "    '''\n",
        "    df1 = df.applymap(lambda x: x.lower() if type(x) == str else x)\n",
        "    df1 = df1.applymap(lambda x: x.strip() if type(x) == str else x)\n",
        "    return df1"
      ],
      "metadata": {
        "id": "F4-A27i55qay"
      },
      "id": "F4-A27i55qay",
      "execution_count": null,
      "outputs": []
    },
    {
      "cell_type": "code",
      "source": [
        "# applying the funcrition from above\n",
        "ntsb_1 = df_string_transform(ntsb_dropped_cols)"
      ],
      "metadata": {
        "id": "2o7ipQWb_xaZ"
      },
      "id": "2o7ipQWb_xaZ",
      "execution_count": null,
      "outputs": []
    },
    {
      "cell_type": "code",
      "source": [
        "print(ntsb_1.shape)"
      ],
      "metadata": {
        "id": "0fotg4op9YoS",
        "outputId": "d0c306d6-21dd-4fd2-94ef-3493a7994d54",
        "colab": {
          "base_uri": "https://localhost:8080/"
        }
      },
      "id": "0fotg4op9YoS",
      "execution_count": null,
      "outputs": [
        {
          "output_type": "stream",
          "name": "stdout",
          "text": [
            "(67041, 86)\n"
          ]
        }
      ]
    },
    {
      "cell_type": "markdown",
      "source": [
        "**NOTE**: for section 3 use the dataframe `ntsb_1` for cleaning"
      ],
      "metadata": {
        "id": "loxHcDDkAGmS"
      },
      "id": "loxHcDDkAGmS"
    },
    {
      "cell_type": "markdown",
      "source": [
        "### 3. Cleaning Each Column"
      ],
      "metadata": {
        "id": "r1Kb9XWSO9YW"
      },
      "id": "r1Kb9XWSO9YW"
    },
    {
      "cell_type": "code",
      "source": [
        "# function to show all the metrics you will want to see for each column\n",
        "def col_metrics(df, col='none'):\n",
        "  print('current df shape:', df.shape)\n",
        "  print('Unique data: ', df[col].unique())\n",
        "  print('Value counts: ', df[col].value_counts())\n",
        "  print('Total nulls: ', df[col].isna().sum())\n",
        "  print('Data type: ', df[col].dtypes)\n",
        "  try: \n",
        "      ntsb_1[col].plot.hist()\n",
        "  except:\n",
        "      pass"
      ],
      "metadata": {
        "id": "L5bOiUp6PSBx"
      },
      "id": "L5bOiUp6PSBx",
      "execution_count": null,
      "outputs": []
    },
    {
      "cell_type": "markdown",
      "source": [
        "### HUNTER'S SECTION"
      ],
      "metadata": {
        "id": "OpIxqub26j2I"
      },
      "id": "OpIxqub26j2I"
    },
    {
      "cell_type": "code",
      "source": [
        "# column 1: far part\n",
        "col_metrics(ntsb_1, col='far_part')      \n",
        "\n",
        "# making a copy of the data set as ntsb_1\n",
        "ntsb_1 = pd.DataFrame.copy(ntsb_1)\n",
        "\n",
        "# remove the K and F from part 091\n",
        "ntsb_1['far_part'] = ntsb_1['far_part'].str.replace('k', '').str.replace('f', '').str.replace('arm', '091')\n",
        "print(ntsb_1['far_part'].unique())"
      ],
      "metadata": {
        "colab": {
          "base_uri": "https://localhost:8080/"
        },
        "id": "37MrEvJ2P688",
        "outputId": "bf290e3e-7ffa-4f78-af04-cb999a52ce44"
      },
      "id": "37MrEvJ2P688",
      "execution_count": null,
      "outputs": [
        {
          "output_type": "stream",
          "name": "stdout",
          "text": [
            "current df shape: (67041, 86)\n",
            "Unique data:  ['135' '091' '137' '103' 'armf' '091f' nan '091k' '437']\n",
            "Value counts:  091     59460\n",
            "137      4101\n",
            "135      3229\n",
            "103       186\n",
            "091f       35\n",
            "armf       12\n",
            "091k       11\n",
            "437         1\n",
            "Name: far_part, dtype: int64\n",
            "Total nulls:  6\n",
            "Data type:  object\n",
            "['135' '091' '137' '103' nan '437']\n"
          ]
        }
      ]
    },
    {
      "cell_type": "code",
      "source": [
        "# column 3: 'damage'\n",
        "col_metrics(ntsb_1, 'damage')\n",
        "\n",
        "# change the unk to none\n",
        "ntsb_1['damage'] = ntsb_1['damage'].str.replace('unk', 'none')\n",
        "# drop the 491 rows that do not have a damage listing\n",
        "ntsb_1 = ntsb_1.dropna(subset='damage')\n",
        "print('final null count:', ntsb_1['damage'].isna().sum())"
      ],
      "metadata": {
        "colab": {
          "base_uri": "https://localhost:8080/"
        },
        "id": "6T_xO3v1W-aS",
        "outputId": "d792bb52-c5e6-4152-9134-f31b3b378922"
      },
      "id": "6T_xO3v1W-aS",
      "execution_count": null,
      "outputs": [
        {
          "output_type": "stream",
          "name": "stdout",
          "text": [
            "current df shape: (67041, 86)\n",
            "Unique data:  ['subs' 'dest' 'none' 'minr' 'unk' nan]\n",
            "Value counts:  subs    50785\n",
            "dest    14499\n",
            "minr     1094\n",
            "none      477\n",
            "unk        23\n",
            "Name: damage, dtype: int64\n",
            "Total nulls:  163\n",
            "Data type:  object\n",
            "final null count: 0\n"
          ]
        }
      ]
    },
    {
      "cell_type": "code",
      "source": [
        "# column 4: 'acft_make'\n",
        "col_metrics(ntsb_1, 'acft_make')\n",
        "\n",
        "# there are 6 rosw with nulls, will drop those\n",
        "ntsb_1 = ntsb_1.dropna(subset=['acft_make'])\n",
        "print(ntsb_1['acft_make'].isna().sum())"
      ],
      "metadata": {
        "colab": {
          "base_uri": "https://localhost:8080/"
        },
        "id": "AnYv7U0wXZK1",
        "outputId": "1c68551c-5576-4770-fcbf-98a6f4cab333"
      },
      "id": "AnYv7U0wXZK1",
      "execution_count": null,
      "outputs": [
        {
          "output_type": "stream",
          "name": "stdout",
          "text": [
            "current df shape: (66878, 86)\n",
            "Unique data:  ['cessna' 'piper' 'beech' ... 'gerald nelson' 'gonzalez manuel a'\n",
            " 'harris-runyan']\n",
            "Value counts:  cessna                  22203\n",
            "piper                   12164\n",
            "beech                    4393\n",
            "bell                     1792\n",
            "mooney                   1116\n",
            "                        ...  \n",
            "griffin, thomas             1\n",
            "gensen                      1\n",
            "dorfman,william a.          1\n",
            "john patrick coleman        1\n",
            "harris-runyan               1\n",
            "Name: acft_make, Length: 6187, dtype: int64\n",
            "Total nulls:  13\n",
            "Data type:  object\n",
            "0\n"
          ]
        }
      ]
    },
    {
      "cell_type": "code",
      "source": [
        "# column 5: 'acft_model'\n",
        "col_metrics(ntsb_1, 'acft_model')\n",
        "\n",
        "# drop the 5 rows that have nulls\n",
        "ntsb_1 = ntsb_1.dropna(subset=['acft_model'])"
      ],
      "metadata": {
        "id": "AozNgVfCcgrX",
        "outputId": "3c48fe55-9a88-4d35-b5d4-5f0d95e7ac4e",
        "colab": {
          "base_uri": "https://localhost:8080/"
        }
      },
      "id": "AozNgVfCcgrX",
      "execution_count": null,
      "outputs": [
        {
          "output_type": "stream",
          "name": "stdout",
          "text": [
            "current df shape: (66865, 86)\n",
            "Unique data:  ['207' 'pa-22-160' '300' ... 'rv 7' 'f4u 5' 'skybolt 300']\n",
            "Value counts:  152                  2091\n",
            "172                  1146\n",
            "172n                 1008\n",
            "pa-28-140             844\n",
            "172m                  704\n",
            "                     ... \n",
            "baby ace cm-1           1\n",
            "2b                      1\n",
            "cl-600 challenger       1\n",
            "d-4 fascination         1\n",
            "skybolt 300             1\n",
            "Name: acft_model, Length: 8910, dtype: int64\n",
            "Total nulls:  26\n",
            "Data type:  object\n"
          ]
        }
      ]
    },
    {
      "cell_type": "code",
      "source": [
        "# column 5\n",
        "\n",
        "# remove the letters off the cessna model\n",
        "pattern = r'\\d\\d\\d\\w'\n",
        "ntsb_1['acft_model'] = ntsb_1['acft_model'].map(lambda x: re.sub(pattern, lambda match: match.group()[:-1], x))\n",
        "print(ntsb_1['acft_model'].value_counts())\n",
        "\n",
        "#if an aircraft make is not in the top 30, it will be categorized as other. \n",
        "model_top_30 = ntsb_1['acft_model'].value_counts()[0:30].index.tolist()\n",
        "\n",
        "# change the model names to 'other_model' if not in the top 30\n",
        "ntsb_1['acft_model'] = ntsb_1['acft_model'].map(lambda x: 'other_model' if x not in model_top_30 else x)"
      ],
      "metadata": {
        "id": "2mAwljGnBp79",
        "outputId": "8e9bd124-c7a0-474b-9e47-0a96257cd5a5",
        "colab": {
          "base_uri": "https://localhost:8080/"
        }
      },
      "id": "2mAwljGnBp79",
      "execution_count": null,
      "outputs": [
        {
          "output_type": "stream",
          "name": "stdout",
          "text": [
            "172            4967\n",
            "150            2764\n",
            "152            2108\n",
            "182            2085\n",
            "g-164           939\n",
            "               ... \n",
            "be-99c            1\n",
            "pa-28b-140        1\n",
            "sa226t            1\n",
            "be-f90            1\n",
            "skybolt 300       1\n",
            "Name: acft_model, Length: 8275, dtype: int64\n"
          ]
        }
      ]
    },
    {
      "cell_type": "code",
      "source": [
        "# column 6: 'cert_max_gr_wt'\n",
        "col_metrics(ntsb_1, 'cert_max_gr_wt')\n",
        "print(ntsb_1['cert_max_gr_wt'].max(), ntsb_1['cert_max_gr_wt'].min())\n",
        "\n",
        "def weight_bins(df, col):\n",
        "    avg_wt = df[col].mean()    \n",
        "    wt_cat = []\n",
        "    for x in list(df[col]):\n",
        "        if x <= 12500:\n",
        "            x = 'small'\n",
        "            wt_cat.append(x)\n",
        "        elif x > 12500 and x < 41000:\n",
        "            x = 'medium'\n",
        "            wt_cat.append(x)\n",
        "        elif x == 'nan':\n",
        "            if avg_wt <=12500:\n",
        "                x = 'small'\n",
        "                wt_cat.append(x)\n",
        "            elif avg_wt > 12500 and x < 41000:\n",
        "                x = 'medium'\n",
        "                wt_cat.append(x)\n",
        "            else:\n",
        "                x = 'large commuter'\n",
        "                wt_cat.append(x)\n",
        "        else:\n",
        "            x = 'large commuter'\n",
        "            wt_cat.append(x)\n",
        "    df[col] = wt_cat\n",
        "    return df[col]"
      ],
      "metadata": {
        "id": "rnEhue0Ocw0W",
        "outputId": "00877076-2dc5-459d-e174-eed8af3054d2",
        "colab": {
          "base_uri": "https://localhost:8080/",
          "height": 744
        }
      },
      "id": "rnEhue0Ocw0W",
      "execution_count": null,
      "outputs": [
        {
          "output_type": "stream",
          "name": "stdout",
          "text": [
            "current df shape: (66839, 86)\n",
            "Unique data:  [ 3800.  1840. 14100. ... 21419.  2497.  2251.]\n",
            "Value counts:  1600.0      2877\n",
            "2300.0      2799\n",
            "1670.0      2383\n",
            "3600.0      1682\n",
            "2150.0      1657\n",
            "            ... \n",
            "111917.0       1\n",
            "1339.0         1\n",
            "1740.0         1\n",
            "1332.0         1\n",
            "2251.0         1\n",
            "Name: cert_max_gr_wt, Length: 2345, dtype: int64\n",
            "Total nulls:  4749\n",
            "Data type:  float64\n",
            "882000.0 -3100.0\n"
          ]
        },
        {
          "output_type": "display_data",
          "data": {
            "text/plain": [
              "<Figure size 640x480 with 1 Axes>"
            ],
            "image/png": "[encoded data removed]"
          },
          "metadata": {}
        }
      ]
    },
    {
      "cell_type": "code",
      "source": [
        "# use the bin function to assign categories to weight classes\n",
        "ntsb_1['cert_max_gr_wt'] = weight_bins(ntsb_1, 'cert_max_gr_wt')"
      ],
      "metadata": {
        "id": "TgIjDAO1g4WQ"
      },
      "id": "TgIjDAO1g4WQ",
      "execution_count": null,
      "outputs": []
    },
    {
      "cell_type": "code",
      "source": [
        "# column 7: 'num_eng'\n",
        "col_metrics(ntsb_1, 'num_eng')\n",
        "\n",
        "# convert the float to int and then impute the nulls with the median\n",
        "ntsb_1['num_eng'] = ntsb_1['num_eng']"
      ],
      "metadata": {
        "id": "DYFgOLsAIupJ",
        "outputId": "4af1b8e1-60a7-42b9-ad1e-fde70d1462fb",
        "colab": {
          "base_uri": "https://localhost:8080/",
          "height": 619
        }
      },
      "id": "DYFgOLsAIupJ",
      "execution_count": null,
      "outputs": [
        {
          "output_type": "stream",
          "name": "stdout",
          "text": [
            "current df shape: (66839, 86)\n",
            "Unique data:  [ 1.  2. nan  3.  4.  0.]\n",
            "Value counts:  1.0    57350\n",
            "2.0     7316\n",
            "0.0      962\n",
            "4.0       63\n",
            "3.0       35\n",
            "Name: num_eng, dtype: int64\n",
            "Total nulls:  1113\n",
            "Data type:  float64\n"
          ]
        },
        {
          "output_type": "display_data",
          "data": {
            "text/plain": [
              "<Figure size 640x480 with 1 Axes>"
            ],
            "image/png": "[encoded data removed]"
          },
          "metadata": {}
        }
      ]
    },
    {
      "cell_type": "code",
      "source": [
        "# change from float to int8\n",
        "# fill na with 1\n",
        "ntsb_1['num_eng'] = ntsb_1['num_eng'].fillna(1.0).astype('int8')\n"
      ],
      "metadata": {
        "id": "yBJh8lZz0qIE"
      },
      "id": "yBJh8lZz0qIE",
      "execution_count": null,
      "outputs": []
    },
    {
      "cell_type": "code",
      "source": [
        "# column 8: 'type_last_insp'\n",
        "col_metrics(ntsb_1, 'type_last_insp')\n",
        "ntsb_1['type_last_insp'] = ntsb_1['type_last_insp'].fillna('unk')"
      ],
      "metadata": {
        "id": "FjJmxYhF2m2P",
        "outputId": "6cee0a9f-709d-410a-bf2c-54446ca0032e",
        "colab": {
          "base_uri": "https://localhost:8080/"
        }
      },
      "id": "FjJmxYhF2m2P",
      "execution_count": null,
      "outputs": [
        {
          "output_type": "stream",
          "name": "stdout",
          "text": [
            "current df shape: (66839, 86)\n",
            "Unique data:  ['100h' 'aaip' 'annl' 'unk' 'coaw' 'cond' nan]\n",
            "Value counts:  annl    37642\n",
            "unk     11158\n",
            "100h    10334\n",
            "cond     1928\n",
            "aaip     1827\n",
            "coaw     1665\n",
            "Name: type_last_insp, dtype: int64\n",
            "Total nulls:  2285\n",
            "Data type:  object\n"
          ]
        }
      ]
    },
    {
      "cell_type": "code",
      "source": [
        "# column 9: 'afm_hrs'\n",
        "col_metrics(ntsb_1, 'afm_hrs')"
      ],
      "metadata": {
        "id": "NBzHlrjz3dMn",
        "outputId": "8de0af2e-f27b-4179-9ee2-1f0aa8aed345",
        "colab": {
          "base_uri": "https://localhost:8080/",
          "height": 725
        }
      },
      "id": "NBzHlrjz3dMn",
      "execution_count": null,
      "outputs": [
        {
          "output_type": "stream",
          "name": "stdout",
          "text": [
            "current df shape: (66839, 86)\n",
            "Unique data:  [10286.  14424.      nan ...  2341.8    53.2   967.5]\n",
            "Value counts:  1.0        143\n",
            "3000.0     120\n",
            "2500.0     108\n",
            "2000.0     104\n",
            "4000.0      95\n",
            "          ... \n",
            "9951.0       1\n",
            "12810.0      1\n",
            "9304.0       1\n",
            "11110.0      1\n",
            "967.5        1\n",
            "Name: afm_hrs, Length: 14097, dtype: int64\n",
            "Total nulls:  14564\n",
            "Data type:  float64\n"
          ]
        },
        {
          "output_type": "display_data",
          "data": {
            "text/plain": [
              "<Figure size 640x480 with 1 Axes>"
            ],
            "image/png": "[encoded data removed]"
          },
          "metadata": {}
        }
      ]
    },
    {
      "cell_type": "code",
      "source": [
        "ntsb_1['afm_hrs'].describe()"
      ],
      "metadata": {
        "id": "ozdPI2_V6ZBe",
        "outputId": "525a2325-0aed-42f2-f774-f614b3823f01",
        "colab": {
          "base_uri": "https://localhost:8080/"
        }
      },
      "id": "ozdPI2_V6ZBe",
      "execution_count": null,
      "outputs": [
        {
          "output_type": "execute_result",
          "data": {
            "text/plain": [
              "count     52275.000000\n",
              "mean       3659.618832\n",
              "std        4737.689269\n",
              "min           0.000000\n",
              "25%        1246.000000\n",
              "50%        2711.000000\n",
              "75%        4598.055000\n",
              "max      283334.000000\n",
              "Name: afm_hrs, dtype: float64"
            ]
          },
          "metadata": {},
          "execution_count": 109
        }
      ]
    },
    {
      "cell_type": "code",
      "source": [
        "# count how many values are outliers\n",
        "outlier = (1.5*(4752 - 1229)) + 4752\n",
        "outliers = [x for x in ntsb_1['afm_hrs'] if x > outlier]\n",
        "print(len(outliers))"
      ],
      "metadata": {
        "id": "eJiMUhi56vxf",
        "outputId": "a2b12b34-c359-4f65-d151-11fe59a34462",
        "colab": {
          "base_uri": "https://localhost:8080/"
        }
      },
      "id": "eJiMUhi56vxf",
      "execution_count": null,
      "outputs": [
        {
          "output_type": "stream",
          "name": "stdout",
          "text": [
            "2657\n"
          ]
        }
      ]
    },
    {
      "cell_type": "code",
      "source": [
        "# fill na with median\n",
        "#median = ntsb_1['afm_hrs'].median()\n",
        "#ntsb_1['afm_hrs'] = ntsb_1['afm_hrs'].fillna(median)\n",
        "# drop the outliers\n",
        "ntsb_1 = ntsb_1[ntsb_1['afm_hrs'] < outlier]\n"
      ],
      "metadata": {
        "id": "QBE4pFwo8xNQ"
      },
      "id": "QBE4pFwo8xNQ",
      "execution_count": null,
      "outputs": []
    },
    {
      "cell_type": "code",
      "source": [
        "ntsb_1['afm_hrs'].plot.hist(bins=10)"
      ],
      "metadata": {
        "id": "Y9rIOYOD6GTv",
        "outputId": "d61731b9-6bf8-439e-c14e-6bbfd54780fc",
        "colab": {
          "base_uri": "https://localhost:8080/",
          "height": 448
        }
      },
      "id": "Y9rIOYOD6GTv",
      "execution_count": null,
      "outputs": [
        {
          "output_type": "execute_result",
          "data": {
            "text/plain": [
              "<Axes: ylabel='Frequency'>"
            ]
          },
          "metadata": {},
          "execution_count": 112
        },
        {
          "output_type": "display_data",
          "data": {
            "text/plain": [
              "<Figure size 640x480 with 1 Axes>"
            ],
            "image/png": "[encoded data removed]"
          },
          "metadata": {}
        }
      ]
    },
    {
      "cell_type": "code",
      "source": [
        "ntsb_1.shape"
      ],
      "metadata": {
        "id": "E7DpHSpH-cfA",
        "outputId": "81ad83ce-a885-4253-eb79-446990940063",
        "colab": {
          "base_uri": "https://localhost:8080/"
        }
      },
      "id": "E7DpHSpH-cfA",
      "execution_count": null,
      "outputs": [
        {
          "output_type": "execute_result",
          "data": {
            "text/plain": [
              "(49618, 86)"
            ]
          },
          "metadata": {},
          "execution_count": 113
        }
      ]
    },
    {
      "cell_type": "code",
      "source": [
        "# round and change to int32\n",
        "ntsb_1['afm_hrs'] = ntsb_1['afm_hrs'].round().astype('int16')"
      ],
      "metadata": {
        "id": "FsErjoWX5FN6"
      },
      "id": "FsErjoWX5FN6",
      "execution_count": null,
      "outputs": []
    },
    {
      "cell_type": "code",
      "source": [
        "# column 10: 'type_fly'\n",
        "col_metrics(ntsb_1, 'type_fly')"
      ],
      "metadata": {
        "id": "NaQb3t-YPNZ2",
        "outputId": "ef4fd584-0c08-4c1a-9f69-84d3a16857b6",
        "colab": {
          "base_uri": "https://localhost:8080/"
        }
      },
      "id": "NaQb3t-YPNZ2",
      "execution_count": null,
      "outputs": [
        {
          "output_type": "stream",
          "name": "stdout",
          "text": [
            "current df shape: (49618, 86)\n",
            "Unique data:  ['exec' 'pers' 'bus' 'inst' 'unk' 'pubu' 'aobv' 'posi' 'fery' 'owrk'\n",
            " 'aapl' nan 'skyd' 'flts' 'asho' 'adrp' 'publ' 'gldt' 'bant' 'pubf' 'pubs'\n",
            " 'exld' 'firf']\n",
            "Value counts:  pers    30793\n",
            "inst     6521\n",
            "unk      2857\n",
            "aapl     2857\n",
            "bus      2634\n",
            "posi      914\n",
            "owrk      579\n",
            "fery      474\n",
            "aobv      394\n",
            "exec      390\n",
            "pubu      249\n",
            "flts      224\n",
            "asho       87\n",
            "skyd       79\n",
            "bant       48\n",
            "gldt       22\n",
            "pubs       12\n",
            "publ        9\n",
            "pubf        9\n",
            "adrp        5\n",
            "exld        5\n",
            "firf        1\n",
            "Name: type_fly, dtype: int64\n",
            "Total nulls:  455\n",
            "Data type:  object\n"
          ]
        }
      ]
    },
    {
      "cell_type": "code",
      "source": [
        "# change the null to unknown\n",
        "ntsb_1['type_fly'] = ntsb_1['type_fly'].fillna('unk')"
      ],
      "metadata": {
        "id": "v6LcOos7Yzlo"
      },
      "id": "v6LcOos7Yzlo",
      "execution_count": null,
      "outputs": []
    },
    {
      "cell_type": "code",
      "source": [
        "# column 11: 'dprt_apt_id'\n",
        "col_metrics(ntsb_1, 'dprt_apt_id')\n",
        "\n",
        "# need to drop the 'k' from all 4 letter icao's\n",
        "ntsb_1['dprt_apt_id'] = ntsb_1['dprt_apt_id'].astype('str').apply(lambda x: x[1:] if len(x) == 4 and x[0] == 'k' else x)"
      ],
      "metadata": {
        "id": "Y4Pc7TepY-QP",
        "outputId": "8b6d2729-6aed-4b8f-f7b8-d40b85a8a7ec",
        "colab": {
          "base_uri": "https://localhost:8080/"
        }
      },
      "id": "Y4Pc7TepY-QP",
      "execution_count": null,
      "outputs": [
        {
          "output_type": "stream",
          "name": "stdout",
          "text": [
            "current df shape: (49618, 86)\n",
            "Unique data:  ['gmu' 'ox8' nan ... 'skg' '62k' '38cl']\n",
            "Value counts:  none    1059\n",
            "pvt      285\n",
            "mri      180\n",
            "c        168\n",
            "apa      136\n",
            "        ... \n",
            "frn        1\n",
            "120        1\n",
            "mn84       1\n",
            "317        1\n",
            "38cl       1\n",
            "Name: dprt_apt_id, Length: 7971, dtype: int64\n",
            "Total nulls:  12101\n",
            "Data type:  object\n"
          ]
        }
      ]
    },
    {
      "cell_type": "code",
      "source": [
        "# column 12: 'dprt_city'\n",
        "col_metrics(ntsb_1, 'dprt_city')"
      ],
      "metadata": {
        "id": "f6qbeu_AuogH",
        "outputId": "47a3a2dc-76cf-432f-f791-6b36ea984e28",
        "colab": {
          "base_uri": "https://localhost:8080/"
        }
      },
      "id": "f6qbeu_AuogH",
      "execution_count": null,
      "outputs": [
        {
          "output_type": "stream",
          "name": "stdout",
          "text": [
            "current df shape: (49618, 86)\n",
            "Unique data:  ['greeneville' nan 'detroit city' ... 'new philadelphia' 'kalaeloa'\n",
            " 'ishpeming']\n",
            "Value counts:  anchorage      387\n",
            "houston        157\n",
            "las vegas      153\n",
            "albuquerque    150\n",
            "fairbanks      147\n",
            "              ... \n",
            "nimrod           1\n",
            "mears            1\n",
            "mcnabe           1\n",
            "mahnomen         1\n",
            "ishpeming        1\n",
            "Name: dprt_city, Length: 7227, dtype: int64\n",
            "Total nulls:  11865\n",
            "Data type:  object\n"
          ]
        }
      ]
    },
    {
      "cell_type": "code",
      "source": [
        "# there are some city names that have commas and states after. remove those with commas\n",
        "ntsb_1['dprt_city'] = ntsb_1['dprt_city'].str.split(',').str[0]\n"
      ],
      "metadata": {
        "id": "qgthas85vPXI"
      },
      "id": "qgthas85vPXI",
      "execution_count": null,
      "outputs": []
    },
    {
      "cell_type": "code",
      "source": [
        "# column 13: 'dprt_state'\n",
        "col_metrics(ntsb_1, 'dprt_state')"
      ],
      "metadata": {
        "id": "LPhO-X-Qxil5",
        "outputId": "52b14bbc-0d4f-4f5c-9ea4-1998254fa422",
        "colab": {
          "base_uri": "https://localhost:8080/"
        }
      },
      "id": "LPhO-X-Qxil5",
      "execution_count": null,
      "outputs": [
        {
          "output_type": "stream",
          "name": "stdout",
          "text": [
            "current df shape: (49618, 86)\n",
            "Unique data:  ['sc' nan 'mi' 'mn' 'il' 'ks' 'mo' 'oh' 'ne' 'az' 'nm' 'tx' 'la' 'ok' 'in'\n",
            " 'ca' 'me' 'or' 'id' 'ak' 'ga' 'co' 'nh' 'nv' 'fl' 'ma' 'de' 'pa' 'ct'\n",
            " 'ms' 'al' 'nc' 'wy' 'tn' 'nj' 'hi' 'ky' 'vi' 'wa' 'ut' 'ar' 'va' 'pr'\n",
            " 'ny' 'wv' 'mt' 'sd' 'nd' 'po' 'vt' 'dc' 'ri' 'ia' 'cd' 'md' 'wi' 'of'\n",
            " 'gm' 'ah' 'cn' 'bc' 'mp' 'yt' 'mx' 'un' 'bh' 'ad' 'nb' 'pq' 'cb' 'gu'\n",
            " 'ha' 'io' 'kn' 'ja' 'bi' 'ao' 'dr' 'a']\n",
            "Value counts:  ca    4121\n",
            "fl    2699\n",
            "tx    2601\n",
            "ak    2387\n",
            "az    1365\n",
            "co    1217\n",
            "wa    1201\n",
            "ga    1023\n",
            "mi     929\n",
            "ny     917\n",
            "il     914\n",
            "oh     906\n",
            "pa     897\n",
            "nc     809\n",
            "or     750\n",
            "mo     741\n",
            "wi     709\n",
            "mn     692\n",
            "id     656\n",
            "va     640\n",
            "nm     627\n",
            "ar     619\n",
            "ut     606\n",
            "in     605\n",
            "nv     600\n",
            "tn     598\n",
            "nj     593\n",
            "al     562\n",
            "ks     552\n",
            "ok     550\n",
            "la     510\n",
            "sc     497\n",
            "mt     447\n",
            "ma     424\n",
            "md     403\n",
            "ia     390\n",
            "ms     373\n",
            "ne     345\n",
            "ky     321\n",
            "wy     317\n",
            "me     271\n",
            "nd     258\n",
            "ct     244\n",
            "sd     236\n",
            "hi     199\n",
            "nh     197\n",
            "wv     188\n",
            "vt     121\n",
            "pr      95\n",
            "gm      73\n",
            "ri      68\n",
            "of      58\n",
            "de      55\n",
            "cd      33\n",
            "dc      31\n",
            "vi      20\n",
            "mx      10\n",
            "po       8\n",
            "bc       4\n",
            "un       4\n",
            "cb       3\n",
            "nb       2\n",
            "gu       2\n",
            "mp       2\n",
            "ao       2\n",
            "io       1\n",
            "ja       1\n",
            "kn       1\n",
            "dr       1\n",
            "bi       1\n",
            "ad       1\n",
            "ha       1\n",
            "pq       1\n",
            "bh       1\n",
            "yt       1\n",
            "cn       1\n",
            "ah       1\n",
            "a        1\n",
            "Name: dprt_state, dtype: int64\n",
            "Total nulls:  11308\n",
            "Data type:  object\n"
          ]
        }
      ]
    },
    {
      "cell_type": "code",
      "source": [
        "# print out all the states that are incorrect\n",
        "state_abbr = [\n",
        "    \"AL\",  # Alabama\n",
        "    \"AK\",  # Alaska\n",
        "    \"AZ\",  # Arizona\n",
        "    \"AR\",  # Arkansas\n",
        "    \"CA\",  # California\n",
        "    \"CO\",  # Colorado\n",
        "    \"CT\",  # Connecticut\n",
        "    \"DE\",  # Delaware\n",
        "    \"FL\",  # Florida\n",
        "    \"GA\",  # Georgia\n",
        "    \"HI\",  # Hawaii\n",
        "    \"ID\",  # Idaho\n",
        "    \"IL\",  # Illinois\n",
        "    \"IN\",  # Indiana\n",
        "    \"IA\",  # Iowa\n",
        "    \"KS\",  # Kansas\n",
        "    \"KY\",  # Kentucky\n",
        "    \"LA\",  # Louisiana\n",
        "    \"ME\",  # Maine\n",
        "    \"MD\",  # Maryland\n",
        "    \"MA\",  # Massachusetts\n",
        "    \"MI\",  # Michigan\n",
        "    \"MN\",  # Minnesota\n",
        "    \"MS\",  # Mississippi\n",
        "    \"MO\",  # Missouri\n",
        "    \"MT\",  # Montana\n",
        "    \"NE\",  # Nebraska\n",
        "    \"NV\",  # Nevada\n",
        "    \"NH\",  # New Hampshire\n",
        "    \"NJ\",  # New Jersey\n",
        "    \"NM\",  # New Mexico\n",
        "    \"NY\",  # New York\n",
        "    \"NC\",  # North Carolina\n",
        "    \"ND\",  # North Dakota\n",
        "    \"OH\",  # Ohio\n",
        "    \"OK\",  # Oklahoma\n",
        "    \"OR\",  # Oregon\n",
        "    \"PA\",  # Pennsylvania\n",
        "    \"RI\",  # Rhode Island\n",
        "    \"SC\",  # South Carolina\n",
        "    \"SD\",  # South Dakota\n",
        "    \"TN\",  # Tennessee\n",
        "    \"TX\",  # Texas\n",
        "    \"UT\",  # Utah\n",
        "    \"VT\",  # Vermont\n",
        "    \"VA\",  # Virginia\n",
        "    \"WA\",  # Washington\n",
        "    \"WV\",  # West Virginia\n",
        "    \"WI\",  # Wisconsin\n",
        "    \"WY\",  # Wyoming\n",
        "    'gu', \n",
        "    'mp', \n",
        "    'pr',\n",
        "    'tt',\n",
        "    'vi'\n",
        "]\n",
        "print(len(state_abbr))\n",
        "state_abbr = list(map(str.lower, state_abbr))"
      ],
      "metadata": {
        "id": "UKuLw8ISzErJ",
        "outputId": "9fa8c676-6e0f-46ec-efbe-3a1f74a07650",
        "colab": {
          "base_uri": "https://localhost:8080/"
        }
      },
      "id": "UKuLw8ISzErJ",
      "execution_count": null,
      "outputs": [
        {
          "output_type": "stream",
          "name": "stdout",
          "text": [
            "55\n"
          ]
        }
      ]
    },
    {
      "cell_type": "code",
      "source": [
        "# incorrect states\n",
        "wrong_states = set()\n",
        "state_sum = []\n",
        "for x in ntsb_1['dprt_state']:\n",
        "  if (x not in state_abbr) and (x is not np.nan):\n",
        "      wrong_states.add(x)\n",
        "      state_sum.append(x)\n",
        "print(len(state_sum))\n",
        "print(wrong_states)\n",
        "\n",
        "# drop the rows with incorrect state values\n",
        "ntsb_1 = ntsb_1[~ntsb_1['dprt_state'].isin(wrong_states)]"
      ],
      "metadata": {
        "id": "l0-Kaqz5zim1",
        "outputId": "9c66ef54-6cc0-474e-c2a5-22ee80f1cdd9",
        "colab": {
          "base_uri": "https://localhost:8080/"
        }
      },
      "id": "l0-Kaqz5zim1",
      "execution_count": null,
      "outputs": [
        {
          "output_type": "stream",
          "name": "stdout",
          "text": [
            "241\n",
            "{'io', 'cn', 'of', 'yt', 'ja', 'a', 'pq', 'nb', 'cd', 'po', 'dr', 'ad', 'bh', 'kn', 'mx', 'dc', 'ah', 'bi', 'ha', 'ao', 'bc', 'gm', 'un', 'cb'}\n"
          ]
        }
      ]
    },
    {
      "cell_type": "code",
      "source": [
        "ntsb_1.shape"
      ],
      "metadata": {
        "id": "Ouuw2NeN3Z2U",
        "outputId": "8312a514-a299-4158-98b3-fbb2302a3c5c",
        "colab": {
          "base_uri": "https://localhost:8080/"
        }
      },
      "id": "Ouuw2NeN3Z2U",
      "execution_count": null,
      "outputs": [
        {
          "output_type": "execute_result",
          "data": {
            "text/plain": [
              "(49377, 86)"
            ]
          },
          "metadata": {},
          "execution_count": 123
        }
      ]
    },
    {
      "cell_type": "code",
      "source": [
        "# column 14: 'dprt_time'\n",
        "col_metrics(ntsb_1, 'dprt_time')"
      ],
      "metadata": {
        "id": "5SwHqpw53fsB",
        "outputId": "5bd0aad8-00a8-40bd-8b15-e421ac92669a",
        "colab": {
          "base_uri": "https://localhost:8080/",
          "height": 725
        }
      },
      "id": "5SwHqpw53fsB",
      "execution_count": null,
      "outputs": [
        {
          "output_type": "stream",
          "name": "stdout",
          "text": [
            "current df shape: (49377, 86)\n",
            "Unique data:  [ 908. 1710. 1200. ... 2138.  156.  322.]\n",
            "Value counts:  0.0       4147\n",
            "1400.0     964\n",
            "1500.0     899\n",
            "1600.0     813\n",
            "1300.0     801\n",
            "          ... \n",
            "1760.0       1\n",
            "2080.0       1\n",
            "332.0        1\n",
            "103.0        1\n",
            "322.0        1\n",
            "Name: dprt_time, Length: 1361, dtype: int64\n",
            "Total nulls:  1923\n",
            "Data type:  float64\n"
          ]
        },
        {
          "output_type": "display_data",
          "data": {
            "text/plain": [
              "<Figure size 640x480 with 1 Axes>"
            ],
            "image/png": "[encoded data removed]"
          },
          "metadata": {}
        }
      ]
    },
    {
      "cell_type": "code",
      "source": [
        "# change to string\n",
        "ntsb_1['dprt_time'] = ntsb_1['dprt_time'].astype('str')\n",
        "\n",
        "# remove all .o\n",
        "ntsb_1['dprt_time'] = ntsb_1['dprt_time'].str.rstrip('.0')\n",
        "times = []\n",
        "for x in list(ntsb_1['dprt_time']):\n",
        "    if len(x) == 1:\n",
        "        x = '000' + x\n",
        "        times.append(x)\n",
        "    elif len(x) == 2:\n",
        "        x = '00' + x\n",
        "        times.append(x)\n",
        "    elif len(x) == 3:\n",
        "        x = '0' + x\n",
        "        times.append(x)\n",
        "    else:\n",
        "        times.append(x)\n",
        "ntsb_1['dprt_time'] = times\n",
        "ntsb_1['dprt_time'].unique()\n"
      ],
      "metadata": {
        "id": "MO09N4cm3xyP",
        "outputId": "d15bd580-96fd-4fe0-e6a0-9f3af6b0d245",
        "colab": {
          "base_uri": "https://localhost:8080/"
        }
      },
      "id": "MO09N4cm3xyP",
      "execution_count": null,
      "outputs": [
        {
          "output_type": "execute_result",
          "data": {
            "text/plain": [
              "array(['0908', '0171', '0012', ..., '2138', '0156', '0322'], dtype=object)"
            ]
          },
          "metadata": {},
          "execution_count": 125
        }
      ]
    },
    {
      "cell_type": "code",
      "source": [
        "import numpy as np\n",
        "# column 15: 'dest_same_local'\n",
        "col_metrics(ntsb_1, 'dest_same_local')\n",
        "\n",
        "# three different versions of yes so standatdizing it\n",
        "ntsb_1['dest_same_local'] = ntsb_1['dest_same_local'].str.replace('same', 'y').str.replace('locl', 'y').str.replace('spec', 'y')\n",
        "\n",
        "ntsb_1.loc[ntsb_1['dest_same_local'] == 'y', 'dest_apt_id'] = ntsb_1['dest_apt_id'].fillna(ntsb_1['dprt_apt_id'])  \n",
        " "
      ],
      "metadata": {
        "id": "R_jUw5oS-NjI",
        "outputId": "ce30ff6e-f402-4b58-83b5-11c26f185813",
        "colab": {
          "base_uri": "https://localhost:8080/"
        }
      },
      "id": "R_jUw5oS-NjI",
      "execution_count": null,
      "outputs": [
        {
          "output_type": "stream",
          "name": "stdout",
          "text": [
            "current df shape: (49377, 86)\n",
            "Unique data:  ['same' 'locl' nan 'spec' 'y']\n",
            "Value counts:  locl    16663\n",
            "same    10059\n",
            "spec       19\n",
            "y           1\n",
            "Name: dest_same_local, dtype: int64\n",
            "Total nulls:  22635\n",
            "Data type:  object\n"
          ]
        }
      ]
    },
    {
      "cell_type": "code",
      "source": [
        "# column 16: 'dest_apt_id'\n",
        "col_metrics(ntsb_1, 'dest_apt_id')\n",
        "\n",
        "# need to drop the 'k' from all 4 letter icao's\n",
        "ntsb_1['dest_apt_id'] = ntsb_1['dest_apt_id'].astype('str').apply(lambda x: x[1:] if len(x) == 4 and x[0] == 'k' else x)\n",
        "ntsb_1.loc[ntsb_1['dest_apt_id'] == 'c', 'dest_apt_id'] = ntsb_1['dest_apt_id'].str.replace('c', 'pvt')"
      ],
      "metadata": {
        "id": "FilNLBc0-17N",
        "outputId": "c90d0fd7-a615-4edf-f34f-eebb8719b147",
        "colab": {
          "base_uri": "https://localhost:8080/"
        }
      },
      "id": "FilNLBc0-17N",
      "execution_count": null,
      "outputs": [
        {
          "output_type": "stream",
          "name": "stdout",
          "text": [
            "current df shape: (49377, 86)\n",
            "Unique data:  ['3a1' 'ox8' 'nan' ... 'vvs' '62k' '38cl']\n",
            "Value counts:  nan     7591\n",
            "none    1087\n",
            "pvt      301\n",
            "c        206\n",
            "mri      189\n",
            "        ... \n",
            "x17        1\n",
            "6m2        1\n",
            "5s7        1\n",
            "9ps2       1\n",
            "38cl       1\n",
            "Name: dest_apt_id, Length: 7989, dtype: int64\n",
            "Total nulls:  3392\n",
            "Data type:  object\n"
          ]
        }
      ]
    },
    {
      "cell_type": "code",
      "source": [
        "# col 17: 'dest_city'\n",
        "col_metrics(ntsb_1, 'dest_city')\n",
        "\n",
        "# there are some city names that have commas and states after. remove those with commas\n",
        "ntsb_1['dest_city'] = ntsb_1['dest_city'].str.split(',').str[0]"
      ],
      "metadata": {
        "id": "gpkRGgi6MSCL",
        "outputId": "f6f10f18-5ffd-4f86-d6a3-2cc8f387f83c",
        "colab": {
          "base_uri": "https://localhost:8080/"
        }
      },
      "id": "gpkRGgi6MSCL",
      "execution_count": null,
      "outputs": [
        {
          "output_type": "stream",
          "name": "stdout",
          "text": [
            "current df shape: (49377, 86)\n",
            "Unique data:  [nan 'oklahoma city' 'mt. vernon' ... 'langley' 'hicks/fort wort'\n",
            " 'detroit/grosse ile']\n",
            "Value counts:  anchorage             219\n",
            "las vegas             124\n",
            "houston               112\n",
            "albuquerque           109\n",
            "fairbanks             108\n",
            "                     ... \n",
            "platform 86c            1\n",
            "country squire          1\n",
            "wilton                  1\n",
            "st clair spring         1\n",
            "detroit/grosse ile      1\n",
            "Name: dest_city, Length: 6061, dtype: int64\n",
            "Total nulls:  21854\n",
            "Data type:  object\n"
          ]
        }
      ]
    },
    {
      "cell_type": "code",
      "source": [
        "# column 18: 'dest_state'\n",
        "col_metrics(ntsb_1, 'dest_state')\n",
        "\n",
        "# incorrect states\n",
        "wrong_states = set()\n",
        "state_sum = []\n",
        "for x in ntsb_1['dest_state']:\n",
        "  if (x not in state_abbr) and (x is not np.nan):\n",
        "      wrong_states.add(x)\n",
        "      state_sum.append(x)\n",
        "print(len(state_sum))\n",
        "print(wrong_states)\n",
        "\n",
        "# drop the rows with incorrect state values\n",
        "ntsb_1 = ntsb_1[~ntsb_1['dest_state'].isin(wrong_states)]"
      ],
      "metadata": {
        "colab": {
          "base_uri": "https://localhost:8080/"
        },
        "id": "uSBAXSK5QEL0",
        "outputId": "06dd96e9-6dd0-4fbb-d126-9c051b3a0e33"
      },
      "id": "uSBAXSK5QEL0",
      "execution_count": null,
      "outputs": [
        {
          "output_type": "stream",
          "name": "stdout",
          "text": [
            "current df shape: (49377, 86)\n",
            "Unique data:  ['al' nan 'ok' 'il' 'ks' 'co' 'ar' 'ne' 'tx' 'ca' 'fl' 'pa' 'sc' 'mi' 'az'\n",
            " 'nv' 'ms' 'ct' 'ak' 'ia' 'ut' 'oh' 'tn' 'nc' 'mn' 'mo' 'nm' 'ga' 'or'\n",
            " 'of' 'la' 'nj' 'ky' 'pr' 'wa' 'wy' 'nh' 'va' 'me' 'ma' 'ny' 'cg' 'p1'\n",
            " 'id' 'mt' 'in' 'wi' 'md' 'wv' 'ck' 'hi' 'gm' '42' 'vt' 'de' 'nd' 'no'\n",
            " 'ap' 'cd' 'mx' 'ri' 'bc' 'po' 'bm' 'dc' 'fm' 'fi' 'bu' 'go' 'vn' 'fd'\n",
            " 'cn' 'ws' 'sd' 'vi' 'nb' 'un' 'dl' 'gc' '0' 'on' 'a' 'cb' '2' 'gu' 'ã¿ã¿'\n",
            " 'it' 'd' '\\x11' 'ao']\n",
            "Value counts:  ca      2973\n",
            "fl      1987\n",
            "tx      1929\n",
            "ak      1788\n",
            "az       995\n",
            "co       897\n",
            "wa       880\n",
            "ga       754\n",
            "ny       674\n",
            "nc       645\n",
            "oh       638\n",
            "pa       632\n",
            "mi       630\n",
            "il       619\n",
            "or       581\n",
            "mo       538\n",
            "id       538\n",
            "wi       514\n",
            "mn       496\n",
            "tn       471\n",
            "ut       465\n",
            "va       462\n",
            "nv       457\n",
            "nm       454\n",
            "in       446\n",
            "al       429\n",
            "ok       424\n",
            "nj       412\n",
            "ar       401\n",
            "ks       391\n",
            "sc       386\n",
            "mt       352\n",
            "la       346\n",
            "ma       331\n",
            "ia       302\n",
            "md       272\n",
            "ky       246\n",
            "ne       243\n",
            "ms       242\n",
            "wy       236\n",
            "me       208\n",
            "ct       187\n",
            "nd       163\n",
            "sd       161\n",
            "wv       154\n",
            "hi       137\n",
            "nh       130\n",
            "vt        78\n",
            "pr        62\n",
            "ri        60\n",
            "of        40\n",
            "de        39\n",
            "gm        27\n",
            "cd        17\n",
            "dc        15\n",
            "mx        15\n",
            "vi        12\n",
            "un         3\n",
            "on         3\n",
            "no         2\n",
            "cn         2\n",
            "a          2\n",
            "cb         2\n",
            "gu         2\n",
            "2          1\n",
            "nb         1\n",
            "ã¿ã¿       1\n",
            "0          1\n",
            "gc         1\n",
            "dl         1\n",
            "it         1\n",
            "d          1\n",
            "\u0011          1\n",
            "42         1\n",
            "ws         1\n",
            "cg         1\n",
            "fd         1\n",
            "vn         1\n",
            "go         1\n",
            "bu         1\n",
            "fi         1\n",
            "fm         1\n",
            "bm         1\n",
            "po         1\n",
            "bc         1\n",
            "p1         1\n",
            "ck         1\n",
            "ap         1\n",
            "ao         1\n",
            "Name: dest_state, dtype: int64\n",
            "Total nulls:  21355\n",
            "Data type:  object\n",
            "153\n",
            "{'cn', 'cg', 'no', 'of', 'a', 'bm', 'fm', 'nb', 'cd', 'bu', '2', 'ck', 'ap', 'fi', 'po', 'cb', 'mx', 'fd', 'p1', 'dl', 'it', 'dc', 'go', 'ã¿ã¿', 'd', '0', 'ao', 'bc', 'gm', 'un', '\\x11', 'gc', 'on', '42', 'ws', 'vn'}\n"
          ]
        }
      ]
    },
    {
      "cell_type": "code",
      "source": [
        "# col 19: phase_flt_spec\n",
        "col_metrics(ntsb_1, 'phase_flt_spec')"
      ],
      "metadata": {
        "id": "f3L5wSOeQ7d8",
        "outputId": "08826126-8c2b-4881-97b2-c59b50c8aa4a",
        "colab": {
          "base_uri": "https://localhost:8080/",
          "height": 1000
        }
      },
      "id": "f3L5wSOeQ7d8",
      "execution_count": null,
      "outputs": [
        {
          "output_type": "stream",
          "name": "stdout",
          "text": [
            "current df shape: (49224, 86)\n",
            "Unique data:  [560. 520. 540. 570. 580. 530. 550. 510. 590. 553. 574. 569. 565. 522.\n",
            " 541. 551. 572. 564. 400. 568. 571.  nan 573. 531. 561. 581. 563. 582.\n",
            " 552. 512. 513. 583. 521. 567. 566. 576. 523. 562. 575. 591. 511. 592.\n",
            " 542. 514.]\n",
            "Value counts:  570.0    14770\n",
            "520.0     5135\n",
            "580.0     3677\n",
            "550.0     3398\n",
            "540.0     2905\n",
            "560.0     2842\n",
            "510.0      955\n",
            "572.0      897\n",
            "574.0      815\n",
            "522.0      723\n",
            "530.0      641\n",
            "571.0      612\n",
            "590.0      243\n",
            "564.0      239\n",
            "576.0      220\n",
            "521.0      209\n",
            "565.0      183\n",
            "541.0      175\n",
            "553.0      164\n",
            "581.0      159\n",
            "573.0      104\n",
            "523.0       90\n",
            "531.0       76\n",
            "513.0       66\n",
            "575.0       63\n",
            "552.0       54\n",
            "561.0       54\n",
            "512.0       47\n",
            "567.0       45\n",
            "551.0       43\n",
            "563.0       41\n",
            "569.0       33\n",
            "582.0       29\n",
            "591.0       29\n",
            "583.0       25\n",
            "562.0       19\n",
            "592.0       15\n",
            "566.0       14\n",
            "568.0       12\n",
            "514.0        5\n",
            "511.0        1\n",
            "400.0        1\n",
            "542.0        1\n",
            "Name: phase_flt_spec, dtype: int64\n",
            "Total nulls:  9395\n",
            "Data type:  float64\n"
          ]
        },
        {
          "output_type": "display_data",
          "data": {
            "text/plain": [
              "<Figure size 640x480 with 1 Axes>"
            ],
            "image/png": "[encoded data removed]"
          },
          "metadata": {}
        }
      ]
    },
    {
      "cell_type": "code",
      "source": [
        "# col 20: afm_hrs_since\n",
        "col_metrics(ntsb_1, 'afm_hrs_since')"
      ],
      "metadata": {
        "id": "U93JqZoVSZWC",
        "outputId": "4f0aa3e3-aef4-426e-9b82-5ffc23d8b71c",
        "colab": {
          "base_uri": "https://localhost:8080/"
        }
      },
      "id": "U93JqZoVSZWC",
      "execution_count": null,
      "outputs": [
        {
          "output_type": "stream",
          "name": "stdout",
          "text": [
            "current df shape: (49224, 86)\n",
            "Unique data:  [nan 'insp' 'acci' 'n' 'y']\n",
            "Value counts:  acci    4919\n",
            "n       4764\n",
            "y       4518\n",
            "insp    2347\n",
            "Name: afm_hrs_since, dtype: int64\n",
            "Total nulls:  32676\n",
            "Data type:  object\n"
          ]
        }
      ]
    },
    {
      "cell_type": "code",
      "source": [
        "ntsb_1.columns"
      ],
      "metadata": {
        "id": "5f3VNCji2MYO",
        "outputId": "82a9a936-9ca0-4951-9662-1a30c18d393d",
        "colab": {
          "base_uri": "https://localhost:8080/"
        }
      },
      "id": "5f3VNCji2MYO",
      "execution_count": null,
      "outputs": [
        {
          "output_type": "execute_result",
          "data": {
            "text/plain": [
              "Index(['aircraft_ev_id', 'far_part', 'flight_plan_activated', 'damage',\n",
              "       'acft_make', 'acft_model', 'cert_max_gr_wt', 'num_eng',\n",
              "       'type_last_insp', 'date_last_insp', 'afm_hrs_last_insp', 'afm_hrs',\n",
              "       'type_fly', 'dprt_apt_id', 'dprt_city', 'dprt_state', 'dprt_time',\n",
              "       'dest_same_local', 'dest_apt_id', 'dest_city', 'dest_state',\n",
              "       'phase_flt_spec', 'afm_hrs_since', 'rwy_num', 'rwy_len', 'rwy_width',\n",
              "       'ifr_equipped_cert', 'eng_no', 'eng_type', 'eng_mfgr', 'hp_or_lbs',\n",
              "       'carb_fuel_injection', 'eng_time_total', 'eng_time_last_insp',\n",
              "       'ntsb_no', 'ev_type', 'ev_date', 'ev_dow', 'ev_time', 'ev_city',\n",
              "       'ev_state', 'ev_year', 'ev_month', 'latitude', 'longitude', 'apt_name',\n",
              "       'ev_nr_apt_id', 'ev_nr_apt_loc', 'apt_dist', 'apt_dir', 'apt_elev',\n",
              "       'wx_src_iic', 'wx_obs_time', 'wx_obs_dir', 'wx_obs_fac_id',\n",
              "       'wx_obs_elev', 'wx_obs_dist', 'light_cond', 'sky_cond_nonceil',\n",
              "       'sky_nonceil_ht', 'sky_ceil_ht', 'sky_cond_ceil', 'vis_rvr', 'vis_sm',\n",
              "       'wx_temp', 'wx_dew_pt', 'wind_dir_deg', 'wind_dir_ind', 'wind_vel_kts',\n",
              "       'wind_vel_ind', 'gust_ind', 'gust_kts', 'altimeter', 'wx_dens_alt',\n",
              "       'wx_int_precip', 'ev_highest_injury', 'inj_tot_t', 'wx_cond_basic',\n",
              "       'Cause_Factor', 'crew_no', 'crew_category', 'crew_age', 'crew_sex',\n",
              "       'med_certf', 'pilot_flying', 'crew_inj_level'],\n",
              "      dtype='object')"
            ]
          },
          "metadata": {},
          "execution_count": 132
        }
      ]
    },
    {
      "cell_type": "code",
      "source": [
        "ntsb_2 = ntsb_1"
      ],
      "metadata": {
        "id": "04ia-DZE2kue"
      },
      "id": "04ia-DZE2kue",
      "execution_count": null,
      "outputs": []
    },
    {
      "cell_type": "markdown",
      "source": [
        "## Kathleen Section"
      ],
      "metadata": {
        "id": "wV5gBOAdk_Vc"
      },
      "id": "wV5gBOAdk_Vc"
    },
    {
      "cell_type": "code",
      "source": [
        "ntsb_2.columns"
      ],
      "metadata": {
        "id": "8kGrhc0GlJDj",
        "outputId": "b1860730-0a3c-4ef4-e26d-88bbb068efdc",
        "colab": {
          "base_uri": "https://localhost:8080/"
        }
      },
      "id": "8kGrhc0GlJDj",
      "execution_count": null,
      "outputs": [
        {
          "output_type": "execute_result",
          "data": {
            "text/plain": [
              "Index(['aircraft_ev_id', 'far_part', 'flight_plan_activated', 'damage',\n",
              "       'acft_make', 'acft_model', 'cert_max_gr_wt', 'num_eng',\n",
              "       'type_last_insp', 'date_last_insp', 'afm_hrs_last_insp', 'afm_hrs',\n",
              "       'type_fly', 'dprt_apt_id', 'dprt_city', 'dprt_state', 'dprt_time',\n",
              "       'dest_same_local', 'dest_apt_id', 'dest_city', 'dest_state',\n",
              "       'phase_flt_spec', 'afm_hrs_since', 'rwy_num', 'rwy_len', 'rwy_width',\n",
              "       'ifr_equipped_cert', 'eng_no', 'eng_type', 'eng_mfgr', 'hp_or_lbs',\n",
              "       'carb_fuel_injection', 'eng_time_total', 'eng_time_last_insp',\n",
              "       'ntsb_no', 'ev_type', 'ev_date', 'ev_dow', 'ev_time', 'ev_city',\n",
              "       'ev_state', 'ev_year', 'ev_month', 'latitude', 'longitude', 'apt_name',\n",
              "       'ev_nr_apt_id', 'ev_nr_apt_loc', 'apt_dist', 'apt_dir', 'apt_elev',\n",
              "       'wx_src_iic', 'wx_obs_time', 'wx_obs_dir', 'wx_obs_fac_id',\n",
              "       'wx_obs_elev', 'wx_obs_dist', 'light_cond', 'sky_cond_nonceil',\n",
              "       'sky_nonceil_ht', 'sky_ceil_ht', 'sky_cond_ceil', 'vis_rvr', 'vis_sm',\n",
              "       'wx_temp', 'wx_dew_pt', 'wind_dir_deg', 'wind_dir_ind', 'wind_vel_kts',\n",
              "       'wind_vel_ind', 'gust_ind', 'gust_kts', 'altimeter', 'wx_dens_alt',\n",
              "       'wx_int_precip', 'ev_highest_injury', 'inj_tot_t', 'wx_cond_basic',\n",
              "       'Cause_Factor', 'crew_no', 'crew_category', 'crew_age', 'crew_sex',\n",
              "       'med_certf', 'pilot_flying', 'crew_inj_level'],\n",
              "      dtype='object')"
            ]
          },
          "metadata": {},
          "execution_count": 134
        }
      ]
    },
    {
      "cell_type": "code",
      "source": [
        "#Walkthrough at https://inria.github.io/scikit-learn-mooc/python_scripts/03_categorical_pipeline_column_transformer.html\n",
        "#preprocessing different for categorical vs numerical columns\n",
        "\n",
        "from sklearn.compose import make_column_selector as selector\n",
        "\n",
        "numerical_columns_selector = selector(dtype_exclude=object)\n",
        "categorical_columns_selector = selector(dtype_include=object)\n",
        "\n",
        "numerical_columns = numerical_columns_selector(ntsb_raw)\n",
        "categorical_columns = categorical_columns_selector(ntsb_raw)"
      ],
      "metadata": {
        "id": "nqUMcQ0OlMEX"
      },
      "id": "nqUMcQ0OlMEX",
      "execution_count": null,
      "outputs": []
    },
    {
      "cell_type": "code",
      "source": [
        "#print(df.columns[2])\n",
        "col_list = ntsb_2.columns[23:46]\n",
        "print(col_list)"
      ],
      "metadata": {
        "id": "J7YVS8wilP_q",
        "outputId": "9fd7de5f-0dba-4cb1-920b-f56f71f9ed12",
        "colab": {
          "base_uri": "https://localhost:8080/"
        }
      },
      "id": "J7YVS8wilP_q",
      "execution_count": null,
      "outputs": [
        {
          "output_type": "stream",
          "name": "stdout",
          "text": [
            "Index(['rwy_num', 'rwy_len', 'rwy_width', 'ifr_equipped_cert', 'eng_no',\n",
            "       'eng_type', 'eng_mfgr', 'hp_or_lbs', 'carb_fuel_injection',\n",
            "       'eng_time_total', 'eng_time_last_insp', 'ntsb_no', 'ev_type', 'ev_date',\n",
            "       'ev_dow', 'ev_time', 'ev_city', 'ev_state', 'ev_year', 'ev_month',\n",
            "       'latitude', 'longitude', 'apt_name'],\n",
            "      dtype='object')\n"
          ]
        }
      ]
    },
    {
      "cell_type": "code",
      "source": [
        "# Listing metrics for all assigned columns \n",
        "\n",
        "for col in col_list:\n",
        "  print(ntsb_2[col].name)\n",
        "  col_metrics(ntsb_2, col) "
      ],
      "metadata": {
        "id": "73ZbouT7lSFJ",
        "outputId": "d475a044-7e35-4080-ac00-da4e7d845a16",
        "colab": {
          "base_uri": "https://localhost:8080/",
          "height": 1000
        }
      },
      "id": "73ZbouT7lSFJ",
      "execution_count": null,
      "outputs": [
        {
          "output_type": "stream",
          "name": "stdout",
          "text": [
            "rwy_num\n",
            "current df shape: (49224, 86)\n",
            "Unique data:  ['20' '36' '18' '32' '27' '0' '35' '16' '26r' '28' '4r' '17' '34' '14'\n",
            " '22' '28l' '15l' '11r' '17l' '13' '24' '10l' '9' '30r' '15' '26' '21r'\n",
            " '3' '9r' '25' '1r' '5r' '7' '4' '12' '3r' '31' '5' '29' '29r' '19' '21'\n",
            " '8' '10' '23' '19l' '33' '30' '2' '28r' '1' '6' '26l' '14r' '17r' '19r'\n",
            " '25r' '11' '35r' '12r' '6l' '2l' '18r' '32r' '36l' '27r' '8r' '34r' '29l'\n",
            " '22l' '31r' '22g' '20r' '27l' '11l' '8l' '22r' '34l' '1l' '16l' '16r'\n",
            " '9l' '23r' '5l' '18l' '20l' '7r' '13l' '13r' '25l' '23l' '24l' '35l'\n",
            " '21l' '24r' '30l' '31l' '12l' '20c' '7l' '33l' '30c' '36c' '32l' '23c'\n",
            " '17c' '36r' '3l' nan '3c' '2r' '33r' '15r' '4l' '10r' '360' '14l' '190'\n",
            " '250' '01' '02' '067' '06' '09' '05' '2c' '6r' '0r' '00' '202' '61' '04'\n",
            " 'nw' '03' '315' '07' '08' 'unk' '090' 'h1' '210' '160' '7u' '080' '27u'\n",
            " '180' '09r' 'e' '040' '055' '350' '070' '030' '010' '01l' '050' '270' 's'\n",
            " '09l' '5r7' '135' '9c' 'afo' 'gif' 'emm' '280' '110' '290' '240' '320'\n",
            " '020' '04r' '260' '310' '04l' '120' '3 r' 'c' 'n' '40' 'vgt' 'n/s' '220'\n",
            " '130' '08l' '330' '230' '060' '035' '100' '150' 'non' '045' '01r' '80'\n",
            " '07l' '000' 'trm' '06r' '022' 'pvt' 'te9' '17w' 'h' '03l' '02l' '05r'\n",
            " '017' '12g' '075' '8g' '09/2' 'e/w' '04/2' '05/2' '12/3' '14/3' '15/3'\n",
            " '11/2' '18/3' '08/2' '17r/' '18r/' '10/2' '03/2' '02/2' '09l/' '07/2'\n",
            " '18 /' '17/3' '36w' '16/3' '08r' '09c' '03r' '07r' '27c' '05l' '02r' 'h2'\n",
            " '06l' 'none' '02c' '99' '13w' 'w' '225' '9/27' 'se' '4w' '5/23' '16s'\n",
            " 'ne' '28c' 'sw' 'west' '1/19' '34s']\n",
            "Value counts:  0      15808\n",
            "18      1553\n",
            "27      1402\n",
            "36      1326\n",
            "17      1182\n",
            "       ...  \n",
            "130        1\n",
            "n/s        1\n",
            "vgt        1\n",
            "c          1\n",
            "34s        1\n",
            "Name: rwy_num, Length: 257, dtype: int64\n",
            "Total nulls:  7616\n",
            "Data type:  object\n",
            "rwy_len\n",
            "current df shape: (49224, 86)\n",
            "Unique data:  [5500. 3800. 1900. ... 3354. 2141. 4651.]\n",
            "Value counts:  0.0        5033\n",
            "5000.0     1088\n",
            "3000.0      972\n",
            "4000.0      828\n",
            "2500.0      533\n",
            "           ... \n",
            "3906.0        1\n",
            "12819.0       1\n",
            "2094.0        1\n",
            "2991.0        1\n",
            "4651.0        1\n",
            "Name: rwy_len, Length: 2990, dtype: int64\n",
            "Total nulls:  18084\n",
            "Data type:  float64\n",
            "rwy_width\n",
            "current df shape: (49224, 86)\n",
            "Unique data:  [1.000e+02 3.600e+01 7.500e+01 1.500e+02 1.200e+02       nan 5.000e+01\n",
            " 6.000e+01 3.000e+02 8.000e+01 4.000e+01 1.530e+02 7.200e+01 9.000e+01\n",
            " 3.000e+01 4.500e+01 3.500e+01 1.590e+02 7.000e+01 7.300e+01 4.400e+01\n",
            " 6.500e+01 4.700e+01 6.600e+01 2.000e+02 1.300e+02 2.500e+01 4.800e+01\n",
            " 2.600e+01 5.500e+01 6.800e+01 1.600e+02 3.900e+01 4.300e+01 3.200e+01\n",
            " 2.400e+01 1.700e+02 2.500e+02 2.200e+01 4.200e+01 1.250e+02 5.000e+02\n",
            " 1.500e+01 2.000e+01 5.900e+01 7.700e+01 2.800e+01 1.800e+02 2.090e+02\n",
            " 7.400e+01 3.800e+01 2.900e+02 1.150e+02 8.500e+01 3.700e+01 1.400e+02\n",
            " 1.100e+02 0.000e+00 1.900e+02 1.750e+02 3.400e+01 1.010e+02 7.800e+01\n",
            " 6.200e+01 3.100e+01 1.350e+02 6.100e+01 4.900e+01 1.880e+02 1.800e+01\n",
            " 1.000e+01 2.150e+02 1.450e+02 9.500e+01 1.140e+02 2.400e+02 4.600e+01\n",
            " 1.130e+02 1.200e+01 3.300e+01 1.480e+02 2.300e+02 4.000e+02 9.600e+01\n",
            " 2.800e+02 2.020e+02 8.400e+01 2.600e+02 2.700e+01 1.040e+02 1.050e+02\n",
            " 1.160e+02 9.400e+01 5.600e+01 2.900e+01 5.800e+01 3.700e+02 1.340e+02\n",
            " 1.650e+02 1.410e+02 1.580e+02 9.800e+01 4.100e+01 1.950e+02 1.100e+01\n",
            " 5.200e+01 2.750e+02 3.500e+02 7.600e+01 5.000e+00 1.080e+02 2.550e+02\n",
            " 6.700e+01 2.650e+02 1.470e+02 2.260e+02 1.090e+02 2.440e+02 9.700e+01\n",
            " 2.200e+02 8.300e+01 6.000e+00 1.460e+02 8.000e+00 1.900e+01 2.000e+00\n",
            " 1.020e+02 5.400e+01 1.860e+02 1.920e+02 2.250e+02 1.850e+02 6.400e+01\n",
            " 2.350e+02 1.330e+02 1.520e+02 6.606e+03 1.400e+01 1.760e+02 4.100e+03\n",
            " 4.250e+02 1.620e+02 5.700e+01 1.500e+03 9.000e+00 4.500e+02 1.120e+02\n",
            " 1.260e+02 1.550e+02 1.320e+02 2.370e+02 1.570e+02 3.400e+02 1.585e+03\n",
            " 8.800e+01 7.201e+03 1.000e+03 1.524e+03 2.300e+01 9.750e+02 2.500e+03\n",
            " 1.367e+03 2.012e+03 1.240e+02 2.982e+03 2.660e+03 2.120e+02 7.720e+02\n",
            " 1.600e+01 1.960e+02 1.288e+03 1.180e+02 1.440e+02 2.100e+02 1.583e+03\n",
            " 7.100e+01 1.800e+03 8.700e+01 1.612e+03 1.647e+03 3.750e+02 6.000e+02\n",
            " 9.900e+01 2.040e+02 7.850e+02 1.490e+02 6.300e+01 9.140e+02 8.350e+02\n",
            " 7.900e+01 2.100e+01 2.940e+02 4.450e+02 1.990e+02 2.100e+03]\n",
            "Value counts:  150.0     5462\n",
            "0.0       5365\n",
            "100.0     5119\n",
            "75.0      4855\n",
            "50.0      2510\n",
            "          ... \n",
            "7201.0       1\n",
            "141.0        1\n",
            "1524.0       1\n",
            "975.0        1\n",
            "2100.0       1\n",
            "Name: rwy_width, Length: 194, dtype: int64\n",
            "Total nulls:  18841\n",
            "Data type:  float64\n",
            "ifr_equipped_cert\n",
            "current df shape: (49224, 86)\n",
            "Unique data:  [False  True]\n",
            "Value counts:  False    48309\n",
            "True       915\n",
            "Name: ifr_equipped_cert, dtype: int64\n",
            "Total nulls:  0\n",
            "Data type:  bool\n",
            "eng_no\n",
            "current df shape: (49224, 86)\n",
            "Unique data:  [ 1.  2. nan  3.  4.]\n",
            "Value counts:  1.0    47789\n",
            "2.0      715\n",
            "3.0        4\n",
            "4.0        2\n",
            "Name: eng_no, dtype: int64\n",
            "Total nulls:  714\n",
            "Data type:  float64\n",
            "eng_type\n",
            "current df shape: (49224, 86)\n",
            "Unique data:  ['tp' 'rec' 'tj' 'ts' 'unk' 'tf' nan 'elec' 'none' 'hr']\n",
            "Value counts:  rec     43832\n",
            "ts       1678\n",
            "tp       1489\n",
            "unk       836\n",
            "tf        306\n",
            "tj        181\n",
            "none        5\n",
            "elec        3\n",
            "hr          1\n",
            "Name: eng_type, dtype: int64\n",
            "Total nulls:  893\n",
            "Data type:  object\n",
            "eng_mfgr\n",
            "current df shape: (49224, 86)\n",
            "Unique data:  ['p&w' 'lycoming' 'continental' 'garrett' 'jacobs' 'allison' 'rotax' nan\n",
            " 'turbomeca' 'walter' 'franklin' 'rolls-royce' 'pzl-kalisz' 'hirth'\n",
            " 'volkswagen' 'rotorway' 'subaru' 'unknown' 'revmaster' 'p&w canada'\n",
            " 'bombardier' 'gansheimer' 'ge' 'wright' 'grob' 'china' 'mazda'\n",
            " 'fairchild' 'allied signal' 'kinner' 'curtis wright' 'great plains'\n",
            " 'hapi' 'cameron' 'pezetel' 'onan' 'hirtmotoren' 'milwaukee prt' 'zenoah'\n",
            " 'mosler' 'jaguar' 'packard' 'vendeneyev' 'chevrolet' 'kawasaki'\n",
            " 'mcculloch' 'cuyuna' 'kfm' 'pzl mielec' 'warner' 'lambert' 'nsi' 'amw'\n",
            " 'voronezh' 'ford' 'jpx' 'bmw r-r' 'wsk' 'shvetsov' 'honda' 'housia'\n",
            " 'microal' 'limbach' 'wsk pzl kalis' 'williams intl' 'bellanca' 'spencer'\n",
            " 'klimov' 'konig' 'orenda' 'emsa' 'detr. diesel' 'lom' 'bristol'\n",
            " 'airesearch' 'teledyne cont' 'jabiru' 'yamaha' 'thruct in' 'suzuki'\n",
            " 'falconer eng.' 'solo' 'volvo' 'quantum' 'velie' 'renault' 'gm' 'ranger'\n",
            " 'de havilland' 'iame' 'komet' 'monnett' 'menasco' 'pzl wsk' 'euzalde'\n",
            " 'electramotive' 'porsche' 'stark stamo' 'avco lycoming' 'france' 'greth'\n",
            " 'arrow' 'microturbo' 'polaris' 'velocity' 'ama/expr' 'solar'\n",
            " 'allison/rolls' 'honeywell' 'northrop corp' 'aerotechnik'\n",
            " 'pratt & whitney canada' 'teledyne continental' 'honeywell/lyc'\n",
            " 'allied/honeyw' 'ivchenko' 'pratt & whitney' 'textron lyc.'\n",
            " 'textron lycoming' 'general electric' 'none' 'buick' 'custom'\n",
            " 'pzl-okecie' 'astazou' 'argus' 'artouste' 'reliant' 'auto aviation'\n",
            " 'ital-american' 'johnson' 'packard r.r.' 'potez' 'weslake' 'enma'\n",
            " 'liberty' 'elizalde,s.a.' 'bristsidviper' 'ivchenco' 'gnome' 'omc' 'avco'\n",
            " 'ravenmaster' 'tgm' 'asz' 'chapallal' 'chotia' 'dawn star'\n",
            " 'siemens halsk' 'lyco/wright' 'aeronca' 'robin' 'arriel'\n",
            " 'rolls-royce allison' 'zanzottera' 'western skyways' 'pratt-whitney'\n",
            " 'aero engines' 'gypsy minor' 'garret/honeywell' 'rolls-royce(allison)'\n",
            " 'williams international' 'bmw rolls-royce' 'lycoming (curtis-wright)'\n",
            " 'rolls royce/allison' 'garrett-airesearch' 'komatsu-zenagh'\n",
            " 'general motors' 'national flight service' 'ã\\x80/o' 'p & w' 'continenal'\n",
            " 'rolls royce' 'v.w.' 'volkswagon' 'volkswagan' 'gypsy moth' 'turbomecca'\n",
            " 'rectimo' 'contiental' 'teledyne/cont' 'evinrude' 'pratt&whitney'\n",
            " 'contnental' 'briggs' 'vw' 'henderson' 'contintental' 'harold guldi'\n",
            " 'outboard' 'gen.electric' 'turbo meca' 'lycom' 'pratt/whitney' 'pezatel'\n",
            " 'allison c' 'rw' 'o-470l' 'ama (vw)' 'rev.' 'o-360-a4k' 'dehavilland'\n",
            " 'frnklin' 'lycomimg' 'mccullock' 'mccullough' 'reumaster' 'merlin'\n",
            " 'continenatl' 'frankin' 'unk/nr' 'p &  w' 'moto guzzi'\n",
            " 'engineair power systems' 'aero-vee' 'honeywell (garrett)' 'a'\n",
            " 'continental motor' 'compact radial engines' 'suziair' 'lycomming'\n",
            " 'walther' 'international harvester' 'le rhone' 'stratus'\n",
            " 'aero engines (vw)' 't.e.c.' 'rolls-royce corporation' 'bombardier/rotax'\n",
            " 'mid-west engines' 'canadian air motive (honda)' 'vedeheyev' 'lycon'\n",
            " 'alliedsignal' 'diemech (walter)' 'pzl-warszana' 'diemech turbines inc'\n",
            " 'eggenfellner' 'pzl' 'gipsy major' 'motori zanzoterra' 'sauer' 'ai'\n",
            " 'vedeneyez' 'apex' 'verner motor' 'ram racing engines ltd' 'hibbler'\n",
            " 'superior' 'aero motors' 'experimental' 'diamond aircraft' 'eci'\n",
            " 'aeromotors s.a.' '1/2 volkswagen' 'honeywell - garrett'\n",
            " \"america's aircraft engines\" 'povazske stroguarne' 'aero vee'\n",
            " 'allison/rolls-royce' 'paul lee' 'cfe company' 'pratt and whitney'\n",
            " 'superflite' 'yakovlev' 'jpx-pul' 'rolls royce allison' 'agin'\n",
            " 'teledyne continental motors' 'teledyne' 'vedenyev' 'ultimate engines'\n",
            " 'eci titan' 'honeywell aerospace' 'huosai' 'rolls-royce turbomeca'\n",
            " 'cont motor' 'limbeck' 'thielert' 'mattituck' 'diamond'\n",
            " 'superior air parts' 'teledyne-continental' 'wsk-pzl-k' 'wsk pzl kalisz'\n",
            " 'gypsey  major' 'chevrolot' 'continental motors'\n",
            " 'pratt and whitney of canada' 'allison engine' 'tcm' 'formhals'\n",
            " 'bombardier-rotax' 'aero sport' 'dusenberry, mark' 'contl' 'turbo mecca'\n",
            " 'pratt & whitney aircraft of ca' 'williams' 'aero sport power ltd'\n",
            " 'xtreem 360' 'teledyne continental motor' 'experimental tcm' 'heath avn'\n",
            " 'hapi vw' 'mistral engines, sa' 'rolls-royc' 'contenental teledyne' 'swa'\n",
            " 'desert aircraft' 'pratt and whitney - canada' 'warner super scarab'\n",
            " 'diemech' 'walter engine incorporated' 'suburu' 'bombardier-rotax gmbh'\n",
            " 'lycoming engines' 'corvair' 'rotamex' 'avworks'\n",
            " 'pratt and whitney canada' 'chevy' 'dehav eng' 'vedeneyev'\n",
            " 'rotax gmbh & co.' 'honeywell garrett' 'rotex' 'hirthmotoren'\n",
            " 'lange flugzeugbau' 'franklyn' 'bombardier rotex'\n",
            " 'rotorway international' 'aero sport power ltd.' 'garrett airesearch'\n",
            " 'teledyne mattituck' 'hummel' 'geo/metro' 'teledyn continental motors'\n",
            " 'ul power' 'volkswagon/great plains' 'p & w canada' 'aerovee'\n",
            " 'bombardier rotax' 'exp' 'aero sport power' 'allison (r/r)' 'mattittuck'\n",
            " 'lycoming (modified)' 'pratt whitney canada' 'solair' 'aireasearch'\n",
            " 'rotec' 'allied' 'garret' 'nsi aero' 'volkswagoen' 'hks'\n",
            " 'teledyne-continental motors' 'teledye continental motors'\n",
            " 'aerosport power' 'national flight services inc' 'lerhone'\n",
            " 'curtiss wright' 'p. ponk' 'vedenev' 'u/a canada' 'turbomeca usa'\n",
            " 'cub crafters' 'jorritsma' 'penn-yan' 'midwest engines' 'curtiss'\n",
            " 'teledyne continental mortors' 'teledyn continental'\n",
            " 'continental motors inc.' 'rolls royce-allison' 'pratt&whitney-canada'\n",
            " 'globe' 'continential motors' 'garett' 'pwc' 'falconer'\n",
            " 'continental motors, inc.' \"continental motor's inc.\" 'cont. motor' 'tmx'\n",
            " 'great plains/volkswagen' 'compact ra' 'penn yan aero' 'vps'\n",
            " 'rolls-royce deutschland' 'p&wc' 'subaru - stratus built'\n",
            " 'chevrolet corvair' 'cubcrafters' 'continental (exp)'\n",
            " 'aero sport power (lycoming)' 'contenental' 'jabaru' 'fairchild ranger'\n",
            " 'cub crafter' 'allison / rolls royce' 'garret airesearch' 'morris motors'\n",
            " 'curtis - wright' 'pratt & whitney of canada' 'pratt &whitney canada'\n",
            " 'ge aviation czech' 'vendenyev' 'continental motors inc'\n",
            " 'superior vantage' 'garrett (honeywell)' 'sma' 'diemech turbine'\n",
            " 'shvetsoc' 'continental engines' 'hummel engine' 'penn yann aero' 'ram'\n",
            " 'lom praha' 'technoflug' 'timothy a shorey' 'wankel'\n",
            " 'rolls royce / allison' 'continental motors, inc' 'austro' 'motorlet'\n",
            " 'viking conversion of honda' 'club crafters inc.' 'adolphson'\n",
            " 'brn-powertrain' 'viking' 'russia' 'continental teledyne motors' 'cmi'\n",
            " 'housai' 'rolls royce (allison)' 'patt &whitney canada'\n",
            " 'ama/expr lycoming' 'allison 250-c20b' 'pratt& whitney'\n",
            " 'lycoming/honeywell' 'greatplains' 'compact radial engines inc.'\n",
            " 'teledyne matituck' 'yuneec' 'tomanski' 'lycoming-bmw'\n",
            " 'aerosport / lycoming' 'lycoming o-360-a1a' 'continental motors, inc.,'\n",
            " 'curtiss-wright' 'continantal' 'rotax gmbh' 'pw&c'\n",
            " 'engine components internationa' 'tyledyne continental motors'\n",
            " 'contental' 'great plans aircraft' 'kinner co' 'rotortway'\n",
            " 'pratt whitney' 'brp rotax gmbh7 co. kg' 'pkrd-roll' 'm&d flugzeugbau'\n",
            " 'cont motor p. ponk' 'cont motor/perf eng' 'inntec' 'contienental motors'\n",
            " 'wynn corvair' 'ryan falconer racing engines' 'scaled composites'\n",
            " 'pkrd-roll royce' 'titan' 'prat and whitney aircraft' 'ryan' 'tubomecca'\n",
            " 'gmc' 'motorstar' 'teledine continental motors' 'ramazani & assoc.'\n",
            " 'continental motorc inc.' 'turbine power technologies' 'aeromaxx'\n",
            " 'allison/rolls royce' 'aireaserch/garrett' 'pratt & whittney'\n",
            " 'conitnental' 'honeywell/garrett' 'cont-motor' 'continenetal motors'\n",
            " 'burner balloon works' 'continetnal' 'innovator technologies'\n",
            " 'pratt & whitney - canada' 'vw- hummel' 'continential' 'ly-con'\n",
            " 'continental  motors' 'barrett precision engines' 'lycomong'\n",
            " 'firewall forward' 'warner aircraft engines' 'larry woodrow' 'arrius'\n",
            " 'eci/titan' 'aerosport' 'safran helicopter engines' 'walter/ge'\n",
            " 'continental motor company' 'subaru/eggenfellner' 'mazda/atkins'\n",
            " 'dle 170' 'pbs' 'contenintal' 'conintental'\n",
            " 'williams internatinal company' 'burkes' 'joby motor'\n",
            " 'barrett performance engine']\n",
            "Value counts:  lycoming                      22102\n",
            "continental                   13618\n",
            "p&w                            1854\n",
            "cont motor                     1460\n",
            "rotax                          1340\n",
            "                              ...  \n",
            "ram racing engines ltd            1\n",
            "verner motor                      1\n",
            "apex                              1\n",
            "vedeneyez                         1\n",
            "barrett performance engine        1\n",
            "Name: eng_mfgr, Length: 519, dtype: int64\n",
            "Total nulls:  1585\n",
            "Data type:  object\n",
            "hp_or_lbs\n",
            "current df shape: (49224, 86)\n",
            "Unique data:  ['hp' 'lbs' nan]\n",
            "Value counts:  hp     45948\n",
            "lbs      563\n",
            "Name: hp_or_lbs, dtype: int64\n",
            "Total nulls:  2713\n",
            "Data type:  object\n",
            "carb_fuel_injection\n",
            "current df shape: (49224, 86)\n",
            "Unique data:  [nan 'carb' 'finj']\n",
            "Value counts:  carb    29366\n",
            "finj    13854\n",
            "Name: carb_fuel_injection, dtype: int64\n",
            "Total nulls:  6004\n",
            "Data type:  object\n",
            "eng_time_total\n",
            "current df shape: (49224, 86)\n",
            "Unique data:  [  nan    0. 2830. ...  179.   68.  968.]\n",
            "Value counts:  0.0       6344\n",
            "25.0         9\n",
            "50.0         8\n",
            "10.0         6\n",
            "62.0         5\n",
            "          ... \n",
            "1674.0       1\n",
            "618.0        1\n",
            "2647.0       1\n",
            "111.0        1\n",
            "968.0        1\n",
            "Name: eng_time_total, Length: 1762, dtype: int64\n",
            "Total nulls:  40613\n",
            "Data type:  float64\n",
            "eng_time_last_insp\n",
            "current df shape: (49224, 86)\n",
            "Unique data:  [      nan 0.000e+00 7.000e+00 3.000e+01 9.000e+01 4.000e+00 1.000e+00\n",
            " 6.000e+00 1.800e+01 8.000e+00 2.400e+01 1.100e+01 3.500e+01 1.790e+02\n",
            " 5.700e+01 4.200e+01 3.000e+00 9.000e+00 2.800e+01 8.400e+01 1.004e+03\n",
            " 7.500e+01 2.000e+01 2.000e+00 3.600e+01 5.800e+01 1.200e+01 7.100e+01\n",
            " 3.900e+01 1.360e+02 8.900e+01 3.400e+01 1.500e+01 6.100e+01 1.340e+02\n",
            " 1.000e+01 5.400e+01 1.840e+02 2.100e+01 6.815e+03 7.200e+01 2.010e+03\n",
            " 4.700e+01 7.300e+01 5.950e+02 1.410e+02 4.600e+01 9.700e+01 2.500e+01\n",
            " 1.600e+01 4.300e+01 6.800e+01 2.600e+01 5.600e+01 9.400e+01 5.000e+01\n",
            " 6.700e+01 5.000e+00 4.800e+01 1.700e+01 1.350e+02 3.300e+01 6.000e+01\n",
            " 6.600e+01 5.500e+01 1.400e+01 1.300e+01 2.000e+02 3.560e+02 1.000e+02\n",
            " 3.700e+01 3.800e+01 2.300e+01 6.300e+01 3.200e+01 3.100e+01 5.136e+03\n",
            " 3.540e+02 5.200e+01 6.200e+01 1.500e+02 4.900e+01 9.900e+01 8.200e+01\n",
            " 2.900e+01 8.800e+01 5.100e+01 2.790e+02 1.100e+02 4.100e+01 1.200e+02\n",
            " 5.590e+02 8.300e+01 2.290e+02 7.400e+01 4.400e+01 4.000e+01 2.500e+02\n",
            " 9.800e+01 4.290e+02 7.600e+01 1.060e+02 4.500e+01 7.680e+02 8.100e+01\n",
            " 9.600e+01 7.000e+01 2.100e+02 1.021e+03 8.600e+01 6.430e+02 2.490e+02\n",
            " 1.900e+01 3.180e+02 1.030e+02 8.500e+01 2.200e+01 1.920e+02 1.040e+02\n",
            " 2.700e+01 2.320e+02 1.580e+02 1.070e+02 3.410e+02 7.700e+01 3.160e+02\n",
            " 6.500e+01 2.610e+02 1.010e+03 8.000e+01 1.310e+02 6.400e+01 8.700e+01\n",
            " 1.140e+02 3.260e+02 1.870e+02 1.280e+02 1.150e+02 5.300e+01 9.100e+01\n",
            " 1.820e+02 6.900e+01 1.690e+02 1.160e+02 2.660e+02 9.300e+01 9.040e+02\n",
            " 6.750e+02 1.576e+03 1.480e+02 1.540e+02 1.770e+02 1.380e+02 2.640e+02\n",
            " 1.800e+02 8.560e+02 6.110e+02 5.900e+01 1.420e+02 1.512e+03 6.940e+02\n",
            " 2.360e+02 2.950e+02 3.730e+02 2.300e+02 2.240e+02 1.710e+02 8.110e+02\n",
            " 7.800e+01 3.910e+02 2.540e+02 1.180e+02 3.070e+02 2.700e+02 2.130e+02\n",
            " 1.300e+02 9.200e+01 2.190e+02 1.103e+03 1.080e+02 1.110e+02 1.251e+03\n",
            " 1.290e+03 2.899e+03 1.544e+03 1.130e+02 3.350e+02 2.460e+03 6.930e+03\n",
            " 5.150e+02 3.950e+02 1.120e+02 9.330e+02 1.190e+02 9.500e+01 1.320e+02\n",
            " 4.602e+03 4.500e+02 2.040e+02 5.610e+02 3.010e+02 2.874e+03 1.220e+02\n",
            " 8.050e+02 8.760e+02 2.120e+02 1.673e+03 2.850e+03 5.140e+02 3.310e+02\n",
            " 1.670e+02 3.430e+02 1.680e+02 1.490e+02 1.730e+03 1.050e+02 1.149e+03\n",
            " 1.356e+03 1.615e+03 1.210e+02 6.600e+02 7.960e+02 6.050e+02 5.520e+02\n",
            " 3.762e+03 2.840e+02 5.960e+02 9.180e+02 1.994e+03 1.630e+02 6.410e+02\n",
            " 3.060e+02 2.480e+02 1.750e+02 4.450e+02 4.810e+03 1.010e+02 7.190e+02\n",
            " 5.980e+02 2.590e+02 1.640e+02 5.040e+02 7.900e+01 2.192e+03 1.320e+03\n",
            " 3.330e+02 1.230e+02 2.650e+02 3.357e+03 1.170e+02 2.245e+03 8.280e+02\n",
            " 4.750e+02]\n",
            "Value counts:  0.0      6760\n",
            "10.0       74\n",
            "2.0        64\n",
            "1.0        62\n",
            "5.0        54\n",
            "         ... \n",
            "138.0       1\n",
            "177.0       1\n",
            "154.0       1\n",
            "148.0       1\n",
            "475.0       1\n",
            "Name: eng_time_last_insp, Length: 252, dtype: int64\n",
            "Total nulls:  40613\n",
            "Data type:  float64\n"
          ]
        },
        {
          "output_type": "stream",
          "name": "stderr",
          "text": [
            "<__array_function__ internals>:180: RuntimeWarning: Converting input from bool to <class 'numpy.uint8'> for compatibility.\n"
          ]
        },
        {
          "output_type": "stream",
          "name": "stdout",
          "text": [
            "ntsb_no\n",
            "current df shape: (49224, 86)\n",
            "Unique data:  ['atl99fa044' 'atl99fa046' 'atl99la137' ... 'cen16ca277' 'cen16la281'\n",
            " 'wpr16fa148']\n",
            "Value counts:  atl99fa044    1\n",
            "den82da083    1\n",
            "ftw82da189    1\n",
            "ftw82da190    1\n",
            "ftw82da191    1\n",
            "             ..\n",
            "ftw89dqg04    1\n",
            "ftw89drd06    1\n",
            "ftw89drd07    1\n",
            "ftw89drd08    1\n",
            "wpr16fa148    1\n",
            "Name: ntsb_no, Length: 49224, dtype: int64\n",
            "Total nulls:  0\n",
            "Data type:  object\n",
            "ev_type\n",
            "current df shape: (49224, 86)\n",
            "Unique data:  ['acc' 'inc']\n",
            "Value counts:  acc    48592\n",
            "inc      632\n",
            "Name: ev_type, dtype: int64\n",
            "Total nulls:  0\n",
            "Data type:  object\n",
            "ev_date\n",
            "current df shape: (49224, 86)\n",
            "Unique data:  ['1/14/1999' '1/30/1999' '1/21/1999' ... '04-aug-16' '22-jul-16'\n",
            " '23-jul-16']\n",
            "Value counts:  5/16/1982     24\n",
            "6/5/1983      22\n",
            "10/3/1982     20\n",
            "7/28/1983     20\n",
            "6/19/1982     20\n",
            "              ..\n",
            "3/11/1986      1\n",
            "2/5/1986       1\n",
            "2/6/1986       1\n",
            "12/28/1987     1\n",
            "23-jul-16      1\n",
            "Name: ev_date, Length: 12153, dtype: int64\n",
            "Total nulls:  0\n",
            "Data type:  object\n",
            "ev_dow\n",
            "current df shape: (49224, 86)\n",
            "Unique data:  ['th' 'sa' 'fr' 'su' 'tu' 'we' 'mo']\n",
            "Value counts:  sa    9662\n",
            "su    8839\n",
            "fr    7033\n",
            "th    6150\n",
            "we    5996\n",
            "mo    5884\n",
            "tu    5660\n",
            "Name: ev_dow, dtype: int64\n",
            "Total nulls:  0\n",
            "Data type:  object\n",
            "ev_time\n",
            "current df shape: (49224, 86)\n",
            "Unique data:  [ 918. 1740. 1200. ...  242.  358.  322.]\n",
            "Value counts:  1500.0    886\n",
            "1400.0    882\n",
            "1600.0    851\n",
            "1430.0    848\n",
            "1630.0    841\n",
            "         ... \n",
            "163.0       1\n",
            "860.0       1\n",
            "527.0       1\n",
            "453.0       1\n",
            "322.0       1\n",
            "Name: ev_time, Length: 1381, dtype: int64\n",
            "Total nulls:  18\n",
            "Data type:  float64\n",
            "ev_city\n",
            "current df shape: (49224, 86)\n",
            "Unique data:  ['cullman' 'belleview' 'pleasant view' ... 'ishpeming' 'westwood' 'zamora']\n",
            "Value counts:  anchorage          303\n",
            "albuquerque        167\n",
            "houston            148\n",
            "fairbanks          142\n",
            "jacksonville       123\n",
            "                  ... \n",
            "burrville            1\n",
            "n. andover           1\n",
            "mclean               1\n",
            "martha vineyard      1\n",
            "zamora               1\n",
            "Name: ev_city, Length: 10302, dtype: int64\n",
            "Total nulls:  2\n",
            "Data type:  object\n",
            "ev_state\n",
            "current df shape: (49224, 86)\n",
            "Unique data:  ['al' 'fl' 'tn' 'mi' 'in' 'mo' 'ks' 'il' 'wi' 'ne' 'nm' 'co' 'ok' 'tx'\n",
            " 'ar' 'oh' 'nj' 'ca' 'az' 'ga' 'ny' 'pa' 'or' 'wa' 'id' 'ak' 'sc' 'sd'\n",
            " 'mn' 'ut' 'me' 'nv' 'nc' 'ms' 'ma' 'ky' 'ct' 'mt' 'ia' 'la' 'hi' 'vi'\n",
            " 'va' 'po' 'pr' 'wv' 'md' 'de' 'vt' 'nd' 'gm' 'wy' 'nh' 'ri' nan 'gu' 'dc'\n",
            " 'ao' 'cb']\n",
            "Value counts:  ca    5231\n",
            "fl    3475\n",
            "tx    3303\n",
            "ak    3125\n",
            "co    1702\n",
            "az    1650\n",
            "wa    1441\n",
            "ga    1306\n",
            "mi    1236\n",
            "il    1209\n",
            "oh    1165\n",
            "pa    1143\n",
            "ny    1140\n",
            "nc    1069\n",
            "mo     988\n",
            "wi     951\n",
            "or     944\n",
            "ar     928\n",
            "mn     883\n",
            "nm     847\n",
            "in     836\n",
            "id     792\n",
            "al     786\n",
            "va     785\n",
            "ut     754\n",
            "ok     733\n",
            "ks     713\n",
            "nj     694\n",
            "tn     685\n",
            "la     678\n",
            "nv     672\n",
            "sc     657\n",
            "ma     598\n",
            "mt     597\n",
            "ms     549\n",
            "ia     531\n",
            "md     507\n",
            "wy     453\n",
            "ne     447\n",
            "ky     424\n",
            "nd     366\n",
            "me     329\n",
            "ct     311\n",
            "sd     270\n",
            "wv     267\n",
            "nh     255\n",
            "hi     240\n",
            "vt     150\n",
            "pr     122\n",
            "ri      91\n",
            "de      68\n",
            "gm      29\n",
            "po      22\n",
            "vi      18\n",
            "ao      15\n",
            "dc       6\n",
            "gu       3\n",
            "cb       1\n",
            "Name: ev_state, dtype: int64\n",
            "Total nulls:  34\n",
            "Data type:  object\n",
            "ev_year\n",
            "current df shape: (49224, 86)\n",
            "Unique data:  [1999 1994 1995 1996 1997 1998 1993 1992 1991 2000 1990 1988 1989 1987\n",
            " 1986 1985 1984 1983 1948 2001 2002 1982 2003 2004 2005 2006 1974 2007\n",
            " 2016 2018 2019 2017 2015 2021 2022 2020 2008 2011 2009 2010 2014 2012\n",
            " 2013]\n",
            "Value counts:  1982    2997\n",
            "1983    2784\n",
            "1984    2490\n",
            "1985    2278\n",
            "1986    2176\n",
            "1987    2104\n",
            "1988    1971\n",
            "1993    1586\n",
            "1992    1585\n",
            "1995    1527\n",
            "1994    1506\n",
            "1989    1488\n",
            "1997    1405\n",
            "2001    1330\n",
            "2002    1319\n",
            "1996    1294\n",
            "2003    1260\n",
            "2009    1135\n",
            "2012    1134\n",
            "2011    1117\n",
            "2010    1064\n",
            "2004    1055\n",
            "1999    1054\n",
            "1990    1038\n",
            "2008    1037\n",
            "2007    1013\n",
            "2005     990\n",
            "1998     989\n",
            "2015     958\n",
            "2000     926\n",
            "2013     925\n",
            "2014     909\n",
            "1991     905\n",
            "2006     870\n",
            "2016     529\n",
            "2022     246\n",
            "2021     163\n",
            "2018      20\n",
            "2020      18\n",
            "2019      16\n",
            "2017      11\n",
            "1974       1\n",
            "1948       1\n",
            "Name: ev_year, dtype: int64\n",
            "Total nulls:  0\n",
            "Data type:  int64\n",
            "ev_month\n",
            "current df shape: (49224, 86)\n",
            "Unique data:  [ 1  2  3  4  5  6  7  8  9 10 11 12]\n",
            "Value counts:  7     5957\n",
            "8     5556\n",
            "6     5417\n",
            "5     4825\n",
            "9     4532\n",
            "4     4202\n",
            "10    3794\n",
            "3     3702\n",
            "2     2924\n",
            "11    2922\n",
            "1     2714\n",
            "12    2679\n",
            "Name: ev_month, dtype: int64\n",
            "Total nulls:  0\n",
            "Data type:  int64\n",
            "latitude\n",
            "current df shape: (49224, 86)\n",
            "Unique data:  [nan '385854n' '341740n' ... '033286n' '039346n' '395226n']\n",
            "Value counts:  334118n    15\n",
            "332739n    13\n",
            "335232n    13\n",
            "611249n    13\n",
            "405651n    12\n",
            "           ..\n",
            "330921n     1\n",
            "274820n     1\n",
            "453304n     1\n",
            "382103n     1\n",
            "395226n     1\n",
            "Name: latitude, Length: 12564, dtype: int64\n",
            "Total nulls:  33098\n",
            "Data type:  object\n",
            "longitude\n",
            "current df shape: (49224, 86)\n",
            "Unique data:  [nan '1194022w' '1192008w' ... '0095354w' '0834114w' '0121463w']\n",
            "Value counts:  1114342w    15\n",
            "1114840w    14\n",
            "1495040w    12\n",
            "1120457w    12\n",
            "0741852w    12\n",
            "            ..\n",
            "0932539w     1\n",
            "0933719w     1\n",
            "0945001w     1\n",
            "0823615w     1\n",
            "0121463w     1\n",
            "Name: longitude, Length: 13164, dtype: int64\n",
            "Total nulls:  33096\n",
            "Data type:  object\n",
            "apt_name\n",
            "current df shape: (49224, 86)\n",
            "Unique data:  ['folsom' 'jordan airport' 'blue bird field' ...\n",
            " 'joseph a hardy connellsville' 'munday muni' 'riego flight strip airport']\n",
            "Value counts:  private                       270\n",
            "private airstrip              163\n",
            "none                          142\n",
            "private strip                 113\n",
            "merrill field                  67\n",
            "                             ... \n",
            "gansner field quincy            1\n",
            "high island 571 platform        1\n",
            "barton municipal                1\n",
            "pine lakes                      1\n",
            "riego flight strip airport      1\n",
            "Name: apt_name, Length: 15255, dtype: int64\n",
            "Total nulls:  17860\n",
            "Data type:  object\n"
          ]
        },
        {
          "output_type": "display_data",
          "data": {
            "text/plain": [
              "<Figure size 640x480 with 1 Axes>"
            ],
            "image/png": "[encoded data removed]"
          },
          "metadata": {}
        }
      ]
    },
    {
      "cell_type": "code",
      "source": [
        "# Removing spaces in runway number column. Not sure what else to do with this column, some runways might be more risky for particular airports, so I think this is valuable to keep.\n",
        "ntsb_2['rwy_num'].mask(ntsb_2['rwy_num'] == '0', '36', inplace=True)\n",
        "ntsb_2['rwy_num'].mask(ntsb_2['rwy_num'] == '3 r', '3r', inplace=True)\n",
        "ntsb_2['rwy_num'].mask(ntsb_2['rwy_num'] == '10r/', '10r', inplace=True)\n",
        "ntsb_2['rwy_num'].mask(ntsb_2['rwy_num'] == '18r/', '18r', inplace=True)\n",
        "ntsb_2['rwy_num'].mask(ntsb_2['rwy_num'] == '18 /', '18', inplace=True)\n",
        "ntsb_2['rwy_num'].mask(ntsb_2['rwy_num'] == 'unk', np.nan, inplace=True)\n",
        "ntsb_2['rwy_num'].mask(ntsb_2['rwy_num'] == 'none', np.nan, inplace=True)\n",
        "ntsb_2['rwy_num'].mask(ntsb_2['rwy_num'] == '055', '55', inplace=True)\n",
        "ntsb_2['rwy_num'].mask(ntsb_2['rwy_num'] == '000', '36', inplace=True)\n",
        "ntsb_2['rwy_num'].mask(ntsb_2['rwy_num'] == '060' , '60', inplace=True)\n",
        "ntsb_2['rwy_num'].mask(ntsb_2['rwy_num'] == '035', '35', inplace=True)\n",
        "ntsb_2['rwy_num'].mask(ntsb_2['rwy_num'] == '07/2', '07', inplace=True)\n",
        "ntsb_2['rwy_num'].mask(ntsb_2['rwy_num'] == '03/2', '03', inplace=True)\n",
        "ntsb_2['rwy_num'].mask(ntsb_2['rwy_num'] == '08/2', '08', inplace=True)\n",
        "ntsb_2['rwy_num'].mask(ntsb_2['rwy_num'] == '022', '22', inplace=True)\n",
        "ntsb_2['rwy_num'].mask(ntsb_2['rwy_num'] == '9 r', '09r', inplace=True)\n",
        "ntsb_2['rwy_num'].mask(ntsb_2['rwy_num'] == '2/8', '02', inplace=True)\n",
        "ntsb_2['rwy_num'].mask(ntsb_2['rwy_num'] == '09/2', '09', inplace=True)\n",
        "ntsb_2['rwy_num'].mask(ntsb_2['rwy_num'] == '04/2', '04', inplace=True)\n",
        "ntsb_2['rwy_num'].mask(ntsb_2['rwy_num'] == '05/2', '05', inplace=True)\n",
        "ntsb_2['rwy_num'].mask(ntsb_2['rwy_num'] == '12/3', '12', inplace=True)\n",
        "ntsb_2['rwy_num'].mask(ntsb_2['rwy_num'] == '14/3', '14', inplace=True)\n",
        "ntsb_2['rwy_num'].mask(ntsb_2['rwy_num'] == '15/3', '15', inplace=True)\n",
        "ntsb_2['rwy_num'].mask(ntsb_2['rwy_num'] == '10/2', '10', inplace=True)\n",
        "ntsb_2['rwy_num'].mask(ntsb_2['rwy_num'] == '11/2', '11', inplace=True)\n",
        "ntsb_2['rwy_num'].mask(ntsb_2['rwy_num'] == '16/3', '16', inplace=True)\n",
        "ntsb_2['rwy_num'].mask(ntsb_2['rwy_num'] == '18/3', '18', inplace=True)\n",
        "ntsb_2['rwy_num'].mask(ntsb_2['rwy_num'] == '17/3', '17', inplace=True)\n",
        "ntsb_2['rwy_num'].mask(ntsb_2['rwy_num'] == '02/2', '02', inplace=True)\n",
        "ntsb_2['rwy_num'].mask(ntsb_2['rwy_num'] == '5/23', '05', inplace=True)\n",
        "ntsb_2['rwy_num'].mask(ntsb_2['rwy_num'] == '9/27', '09', inplace=True)\n",
        "ntsb_2['rwy_num'].mask(ntsb_2['rwy_num'] == '7/25', '07', inplace=True)\n",
        "ntsb_2['rwy_num'].mask(ntsb_2['rwy_num'] == '1/19', '01', inplace=True)\n",
        "ntsb_2['rwy_num'].mask(ntsb_2['rwy_num'] == 'n', '36', inplace=True)\n",
        "ntsb_2['rwy_num'].mask(ntsb_2['rwy_num'] == 's', '18', inplace=True)\n",
        "ntsb_2['rwy_num'].mask(ntsb_2['rwy_num'] == 'w', '27', inplace=True)\n",
        "ntsb_2['rwy_num'].mask(ntsb_2['rwy_num'] == 'e', '09', inplace=True)\n",
        "ntsb_2['rwy_num'].mask(ntsb_2['rwy_num'] == 'e/w', '27', inplace=True)\n",
        "ntsb_2['rwy_num'].mask(ntsb_2['rwy_num'] == 'n/s', '18', inplace=True)\n",
        "ntsb_2['rwy_num'].mask(ntsb_2['rwy_num'] == 'nw', '31', inplace=True)\n",
        "ntsb_2['rwy_num'].mask(ntsb_2['rwy_num'] == 'emm', np.nan, inplace=True)\n",
        "ntsb_2['rwy_num'].mask(ntsb_2['rwy_num'] == 'afo', np.nan, inplace=True)\n",
        "ntsb_2['rwy_num'].mask(ntsb_2['rwy_num'] == 'gif', np.nan, inplace=True)\n",
        "ntsb_2['rwy_num'].mask(ntsb_2['rwy_num'] == 'pvt', 'private', inplace=True)\n",
        "ntsb_2['rwy_num'].mask(ntsb_2['rwy_num'] == 'se', '13', inplace=True)\n",
        "ntsb_2['rwy_num'].mask(ntsb_2['rwy_num'] == 'vgt', np.nan, inplace=True)\n",
        "ntsb_2['rwy_num'].mask(ntsb_2['rwy_num'] == 'west', '27', inplace=True)\n",
        "ntsb_2['rwy_num'].mask(ntsb_2['rwy_num'] == 'ne', '04', inplace=True) \n",
        "ntsb_2['rwy_num'].mask(ntsb_2['rwy_num'] == 'vgt', np.nan, inplace=True)\n",
        "ntsb_2['rwy_num'].mask(ntsb_2['rwy_num'] == 'sw', '24', inplace=True)\n",
        "ntsb_2['rwy_num'].mask(ntsb_2['rwy_num'] == 'h2', np.nan, inplace=True)"
      ],
      "metadata": {
        "id": "1k7InBqKlT__"
      },
      "id": "1k7InBqKlT__",
      "execution_count": null,
      "outputs": []
    },
    {
      "cell_type": "code",
      "source": [
        "## update runway numbers\n",
        "ntsb_2['rwy_num'].mask(ntsb_2['rwy_num'] == '', np.nan, inplace=True)\n",
        "ntsb_2['rwy_num'].unique()"
      ],
      "metadata": {
        "id": "s68MJPNaldtP",
        "outputId": "2f755f80-9a73-4f27-f078-ee6a757debad",
        "colab": {
          "base_uri": "https://localhost:8080/"
        }
      },
      "id": "s68MJPNaldtP",
      "execution_count": null,
      "outputs": [
        {
          "output_type": "execute_result",
          "data": {
            "text/plain": [
              "array(['20', '36', '18', '32', '27', '35', '16', '26r', '28', '4r', '17',\n",
              "       '34', '14', '22', '28l', '15l', '11r', '17l', '13', '24', '10l',\n",
              "       '9', '30r', '15', '26', '21r', '3', '9r', '25', '1r', '5r', '7',\n",
              "       '4', '12', '3r', '31', '5', '29', '29r', '19', '21', '8', '10',\n",
              "       '23', '19l', '33', '30', '2', '28r', '1', '6', '26l', '14r', '17r',\n",
              "       '19r', '25r', '11', '35r', '12r', '6l', '2l', '18r', '32r', '36l',\n",
              "       '27r', '8r', '34r', '29l', '22l', '31r', '22g', '20r', '27l',\n",
              "       '11l', '8l', '22r', '34l', '1l', '16l', '16r', '9l', '23r', '5l',\n",
              "       '18l', '20l', '7r', '13l', '13r', '25l', '23l', '24l', '35l',\n",
              "       '21l', '24r', '30l', '31l', '12l', '20c', '7l', '33l', '30c',\n",
              "       '36c', '32l', '23c', '17c', '36r', '3l', nan, '3c', '2r', '33r',\n",
              "       '15r', '4l', '10r', '360', '14l', '190', '250', '01', '02', '067',\n",
              "       '06', '09', '05', '2c', '6r', '0r', '00', '202', '61', '04', '03',\n",
              "       '315', '07', '08', '090', 'h1', '210', '160', '7u', '080', '27u',\n",
              "       '180', '09r', '040', '55', '350', '070', '030', '010', '01l',\n",
              "       '050', '270', '09l', '5r7', '135', '9c', '280', '110', '290',\n",
              "       '240', '320', '020', '04r', '260', '310', '04l', '120', 'c', '40',\n",
              "       '220', '130', '08l', '330', '230', '60', '100', '150', 'non',\n",
              "       '045', '01r', '80', '07l', 'trm', '06r', 'private', 'te9', '17w',\n",
              "       'h', '03l', '02l', '05r', '017', '12g', '075', '8g', '17r/',\n",
              "       '09l/', '36w', '08r', '09c', '03r', '07r', '27c', '05l', '02r',\n",
              "       '06l', '02c', '99', '13w', '225', '4w', '16s', '28c', '34s'],\n",
              "      dtype=object)"
            ]
          },
          "metadata": {},
          "execution_count": 139
        }
      ]
    },
    {
      "cell_type": "code",
      "source": [
        "col_metrics(ntsb_2, col='rwy_len')"
      ],
      "metadata": {
        "id": "J-hh7IHflfj9",
        "outputId": "a070cb60-3c52-4711-ccf2-56ef17579a15",
        "colab": {
          "base_uri": "https://localhost:8080/",
          "height": 725
        }
      },
      "id": "J-hh7IHflfj9",
      "execution_count": null,
      "outputs": [
        {
          "output_type": "stream",
          "name": "stdout",
          "text": [
            "current df shape: (49224, 86)\n",
            "Unique data:  [5500. 3800. 1900. ... 3354. 2141. 4651.]\n",
            "Value counts:  0.0        5033\n",
            "5000.0     1088\n",
            "3000.0      972\n",
            "4000.0      828\n",
            "2500.0      533\n",
            "           ... \n",
            "3906.0        1\n",
            "12819.0       1\n",
            "2094.0        1\n",
            "2991.0        1\n",
            "4651.0        1\n",
            "Name: rwy_len, Length: 2990, dtype: int64\n",
            "Total nulls:  18084\n",
            "Data type:  float64\n"
          ]
        },
        {
          "output_type": "display_data",
          "data": {
            "text/plain": [
              "<Figure size 640x480 with 1 Axes>"
            ],
            "image/png": "[encoded data removed]"
          },
          "metadata": {}
        }
      ]
    },
    {
      "cell_type": "code",
      "source": [
        "ntsb_2['rwy_len'].plot(kind='kde')"
      ],
      "metadata": {
        "id": "xVVPbq8FlhR5",
        "outputId": "50508ee2-448b-47f3-f5ed-00291cb0a259",
        "colab": {
          "base_uri": "https://localhost:8080/",
          "height": 448
        }
      },
      "id": "xVVPbq8FlhR5",
      "execution_count": null,
      "outputs": [
        {
          "output_type": "execute_result",
          "data": {
            "text/plain": [
              "<Axes: ylabel='Density'>"
            ]
          },
          "metadata": {},
          "execution_count": 141
        },
        {
          "output_type": "display_data",
          "data": {
            "text/plain": [
              "<Figure size 640x480 with 1 Axes>"
            ],
            "image/png": "[encoded data removed]"
          },
          "metadata": {}
        }
      ]
    },
    {
      "cell_type": "code",
      "source": [
        "# binning values in 'rwy_len' column\n",
        "\n",
        "bins = [0, 1000, 2000, 3000, 4000, 5000, 6000, 7000, 8000, 9000, 10000, 11000, 12000]\n",
        "labels =[1,2,3,4,5,6,7,8,9,10,11,12]\n",
        "ntsb_2['rwy_len'] = pd.cut(ntsb_2['rwy_len'], bins,labels=labels)\n",
        "col_metrics(ntsb_2, col='rwy_len')"
      ],
      "metadata": {
        "id": "6f9Mbtm2lmci",
        "outputId": "04e58504-17aa-4e93-b4cc-69e6b70f49e8",
        "colab": {
          "base_uri": "https://localhost:8080/"
        }
      },
      "id": "6f9Mbtm2lmci",
      "execution_count": null,
      "outputs": [
        {
          "output_type": "stream",
          "name": "stdout",
          "text": [
            "current df shape: (49224, 86)\n",
            "Unique data:  [6, 4, 2, 7, NaN, ..., 9, 8, 11, 12, 1]\n",
            "Length: 13\n",
            "Categories (12, int64): [1 < 2 < 3 < 4 ... 9 < 10 < 11 < 12]\n",
            "Value counts:  3     5843\n",
            "4     5565\n",
            "5     4270\n",
            "6     3187\n",
            "2     2077\n",
            "7     1851\n",
            "8     1236\n",
            "9      839\n",
            "10     443\n",
            "1      331\n",
            "11     257\n",
            "12     122\n",
            "Name: rwy_len, dtype: int64\n",
            "Total nulls:  23203\n",
            "Data type:  category\n"
          ]
        }
      ]
    },
    {
      "cell_type": "code",
      "source": [
        "# count how many values are outliers\n",
        "outlier = (1.5*(4752 - 1229)) + 4752\n",
        "outliers = [x for x in ntsb_2['afm_hrs'] if x > outlier]\n",
        "print(len(outliers))"
      ],
      "metadata": {
        "id": "fTBMIL8FX5eI",
        "outputId": "657434c2-ba58-4c98-b143-561c83d02277",
        "colab": {
          "base_uri": "https://localhost:8080/"
        }
      },
      "id": "fTBMIL8FX5eI",
      "execution_count": null,
      "outputs": [
        {
          "output_type": "stream",
          "name": "stdout",
          "text": [
            "0\n"
          ]
        }
      ]
    },
    {
      "cell_type": "code",
      "source": [
        "col_metrics(ntsb_2, col='rwy_width')"
      ],
      "metadata": {
        "id": "GynK7ENqlsuz",
        "outputId": "ede63ed1-98c1-415b-e903-444d55810366",
        "colab": {
          "base_uri": "https://localhost:8080/",
          "height": 1000
        }
      },
      "id": "GynK7ENqlsuz",
      "execution_count": null,
      "outputs": [
        {
          "output_type": "stream",
          "name": "stdout",
          "text": [
            "current df shape: (49224, 86)\n",
            "Unique data:  [1.000e+02 3.600e+01 7.500e+01 1.500e+02 1.200e+02       nan 5.000e+01\n",
            " 6.000e+01 3.000e+02 8.000e+01 4.000e+01 1.530e+02 7.200e+01 9.000e+01\n",
            " 3.000e+01 4.500e+01 3.500e+01 1.590e+02 7.000e+01 7.300e+01 4.400e+01\n",
            " 6.500e+01 4.700e+01 6.600e+01 2.000e+02 1.300e+02 2.500e+01 4.800e+01\n",
            " 2.600e+01 5.500e+01 6.800e+01 1.600e+02 3.900e+01 4.300e+01 3.200e+01\n",
            " 2.400e+01 1.700e+02 2.500e+02 2.200e+01 4.200e+01 1.250e+02 5.000e+02\n",
            " 1.500e+01 2.000e+01 5.900e+01 7.700e+01 2.800e+01 1.800e+02 2.090e+02\n",
            " 7.400e+01 3.800e+01 2.900e+02 1.150e+02 8.500e+01 3.700e+01 1.400e+02\n",
            " 1.100e+02 0.000e+00 1.900e+02 1.750e+02 3.400e+01 1.010e+02 7.800e+01\n",
            " 6.200e+01 3.100e+01 1.350e+02 6.100e+01 4.900e+01 1.880e+02 1.800e+01\n",
            " 1.000e+01 2.150e+02 1.450e+02 9.500e+01 1.140e+02 2.400e+02 4.600e+01\n",
            " 1.130e+02 1.200e+01 3.300e+01 1.480e+02 2.300e+02 4.000e+02 9.600e+01\n",
            " 2.800e+02 2.020e+02 8.400e+01 2.600e+02 2.700e+01 1.040e+02 1.050e+02\n",
            " 1.160e+02 9.400e+01 5.600e+01 2.900e+01 5.800e+01 3.700e+02 1.340e+02\n",
            " 1.650e+02 1.410e+02 1.580e+02 9.800e+01 4.100e+01 1.950e+02 1.100e+01\n",
            " 5.200e+01 2.750e+02 3.500e+02 7.600e+01 5.000e+00 1.080e+02 2.550e+02\n",
            " 6.700e+01 2.650e+02 1.470e+02 2.260e+02 1.090e+02 2.440e+02 9.700e+01\n",
            " 2.200e+02 8.300e+01 6.000e+00 1.460e+02 8.000e+00 1.900e+01 2.000e+00\n",
            " 1.020e+02 5.400e+01 1.860e+02 1.920e+02 2.250e+02 1.850e+02 6.400e+01\n",
            " 2.350e+02 1.330e+02 1.520e+02 6.606e+03 1.400e+01 1.760e+02 4.100e+03\n",
            " 4.250e+02 1.620e+02 5.700e+01 1.500e+03 9.000e+00 4.500e+02 1.120e+02\n",
            " 1.260e+02 1.550e+02 1.320e+02 2.370e+02 1.570e+02 3.400e+02 1.585e+03\n",
            " 8.800e+01 7.201e+03 1.000e+03 1.524e+03 2.300e+01 9.750e+02 2.500e+03\n",
            " 1.367e+03 2.012e+03 1.240e+02 2.982e+03 2.660e+03 2.120e+02 7.720e+02\n",
            " 1.600e+01 1.960e+02 1.288e+03 1.180e+02 1.440e+02 2.100e+02 1.583e+03\n",
            " 7.100e+01 1.800e+03 8.700e+01 1.612e+03 1.647e+03 3.750e+02 6.000e+02\n",
            " 9.900e+01 2.040e+02 7.850e+02 1.490e+02 6.300e+01 9.140e+02 8.350e+02\n",
            " 7.900e+01 2.100e+01 2.940e+02 4.450e+02 1.990e+02 2.100e+03]\n",
            "Value counts:  150.0     5462\n",
            "0.0       5365\n",
            "100.0     5119\n",
            "75.0      4855\n",
            "50.0      2510\n",
            "          ... \n",
            "7201.0       1\n",
            "141.0        1\n",
            "1524.0       1\n",
            "975.0        1\n",
            "2100.0       1\n",
            "Name: rwy_width, Length: 194, dtype: int64\n",
            "Total nulls:  18841\n",
            "Data type:  float64\n"
          ]
        },
        {
          "output_type": "display_data",
          "data": {
            "text/plain": [
              "<Figure size 640x480 with 1 Axes>"
            ],
            "image/png": "[encoded data removed]"
          },
          "metadata": {}
        }
      ]
    },
    {
      "cell_type": "code",
      "source": [
        "ntsb_2['rwy_width'].round(0)"
      ],
      "metadata": {
        "id": "E69I_SCIlv84",
        "outputId": "a072ced4-1001-4311-ead3-c7bc3f2f4991",
        "colab": {
          "base_uri": "https://localhost:8080/"
        }
      },
      "id": "E69I_SCIlv84",
      "execution_count": null,
      "outputs": [
        {
          "output_type": "execute_result",
          "data": {
            "text/plain": [
              "3         100.0\n",
              "5          36.0\n",
              "6          75.0\n",
              "7         150.0\n",
              "8         120.0\n",
              "          ...  \n",
              "112732      NaN\n",
              "112744     50.0\n",
              "112761      NaN\n",
              "112775      NaN\n",
              "112802      NaN\n",
              "Name: rwy_width, Length: 49224, dtype: float64"
            ]
          },
          "metadata": {},
          "execution_count": 145
        }
      ]
    },
    {
      "cell_type": "code",
      "source": [
        "ntsb_2['rwy_width'].max()"
      ],
      "metadata": {
        "id": "bcLnax1rlxmi",
        "outputId": "4671f3a0-1f02-4233-e4f4-221b84e7013a",
        "colab": {
          "base_uri": "https://localhost:8080/"
        }
      },
      "id": "bcLnax1rlxmi",
      "execution_count": null,
      "outputs": [
        {
          "output_type": "execute_result",
          "data": {
            "text/plain": [
              "7201.0"
            ]
          },
          "metadata": {},
          "execution_count": 146
        }
      ]
    },
    {
      "cell_type": "code",
      "source": [
        "ntsb_2['rwy_width'].plot(kind='kde')"
      ],
      "metadata": {
        "id": "SeZ1uDGzly0W",
        "outputId": "f9e0c9d5-544b-4434-fdac-e09e1f346536",
        "colab": {
          "base_uri": "https://localhost:8080/",
          "height": 448
        }
      },
      "id": "SeZ1uDGzly0W",
      "execution_count": null,
      "outputs": [
        {
          "output_type": "execute_result",
          "data": {
            "text/plain": [
              "<Axes: ylabel='Density'>"
            ]
          },
          "metadata": {},
          "execution_count": 147
        },
        {
          "output_type": "display_data",
          "data": {
            "text/plain": [
              "<Figure size 640x480 with 1 Axes>"
            ],
            "image/png": "[encoded data removed]"
          },
          "metadata": {}
        }
      ]
    },
    {
      "cell_type": "code",
      "source": [
        "# binning values in 'rwy_width' column... same question as above\n",
        "\n",
        "bins2 = [0,10,20,30,40,50,60,70,80,90,100,200]\n",
        "labels2 = [1,2,3,4,5,6,7,8,9,10,11,]\n",
        "\n",
        "#bins2 = [0, 100, 200, 300, 400, 500, 1000, 1500, 2000, 2500, 3000, 3500, 4000, 4500, 5000, 5500, 6000, 6500, 7000, 7500, 8000]\n",
        "#labels2 =[1,2,3,4,5,6,7,8,9,10,11,12,13,14,15,16,17,18,19,20]\n",
        "ntsb_2['rwy_width'] = pd.cut(ntsb_2['rwy_width'], bins2, labels=labels2)\n",
        "col_metrics(ntsb_2, col='rwy_width')"
      ],
      "metadata": {
        "id": "iWxyIABHtF5C",
        "outputId": "69281c64-a77e-4348-b385-fb2103f9e5b1",
        "colab": {
          "base_uri": "https://localhost:8080/"
        }
      },
      "id": "iWxyIABHtF5C",
      "execution_count": null,
      "outputs": [
        {
          "output_type": "stream",
          "name": "stdout",
          "text": [
            "current df shape: (49224, 86)\n",
            "Unique data:  [10, 4, 8, 11, NaN, ..., 9, 3, 7, 2, 1]\n",
            "Length: 12\n",
            "Categories (11, int64): [1 < 2 < 3 < 4 ... 8 < 9 < 10 < 11]\n",
            "Value counts:  11    6618\n",
            "8     5356\n",
            "10    5158\n",
            "5     2869\n",
            "6     2000\n",
            "4     1063\n",
            "3      737\n",
            "7      514\n",
            "2      227\n",
            "9      153\n",
            "1       19\n",
            "Name: rwy_width, dtype: int64\n",
            "Total nulls:  24510\n",
            "Data type:  category\n"
          ]
        }
      ]
    },
    {
      "cell_type": "code",
      "source": [
        "col_metrics(ntsb_2, col='eng_type')"
      ],
      "metadata": {
        "id": "H3ZcYr3jtITn",
        "outputId": "e1e20a8e-d3bc-47e8-9524-7c5e08c12302",
        "colab": {
          "base_uri": "https://localhost:8080/"
        }
      },
      "id": "H3ZcYr3jtITn",
      "execution_count": null,
      "outputs": [
        {
          "output_type": "stream",
          "name": "stdout",
          "text": [
            "current df shape: (49224, 86)\n",
            "Unique data:  ['tp' 'rec' 'tj' 'ts' 'unk' 'tf' nan 'elec' 'none' 'hr']\n",
            "Value counts:  rec     43832\n",
            "ts       1678\n",
            "tp       1489\n",
            "unk       836\n",
            "tf        306\n",
            "tj        181\n",
            "none        5\n",
            "elec        3\n",
            "hr          1\n",
            "Name: eng_type, dtype: int64\n",
            "Total nulls:  893\n",
            "Data type:  object\n"
          ]
        }
      ]
    },
    {
      "cell_type": "code",
      "source": [
        "# Changing datatype for eng_type column to category\n",
        "ntsb_2['eng_type'].astype('category')"
      ],
      "metadata": {
        "id": "qoVqL1rotLdd",
        "outputId": "b7d283c7-2d52-40b5-fae5-1e46e0df1f76",
        "colab": {
          "base_uri": "https://localhost:8080/"
        }
      },
      "id": "qoVqL1rotLdd",
      "execution_count": null,
      "outputs": [
        {
          "output_type": "execute_result",
          "data": {
            "text/plain": [
              "3          tp\n",
              "5         rec\n",
              "6         rec\n",
              "7         rec\n",
              "8         rec\n",
              "         ... \n",
              "112732    rec\n",
              "112744    rec\n",
              "112761    rec\n",
              "112775    rec\n",
              "112802     tp\n",
              "Name: eng_type, Length: 49224, dtype: category\n",
              "Categories (9, object): ['elec', 'hr', 'none', 'rec', ..., 'tj', 'tp', 'ts', 'unk']"
            ]
          },
          "metadata": {},
          "execution_count": 150
        }
      ]
    },
    {
      "cell_type": "code",
      "source": [
        "#replacing none and unk values from eng_type with nan\n",
        "ntsb_2['eng_type'].mask(ntsb_2['eng_type'] == 'none', np.nan, inplace=True)\n",
        "ntsb_2['eng_type'].mask(ntsb_2['eng_type'] == 'unk', np.nan, inplace=True)"
      ],
      "metadata": {
        "id": "hhD8aX_BtMme"
      },
      "id": "hhD8aX_BtMme",
      "execution_count": null,
      "outputs": []
    },
    {
      "cell_type": "code",
      "source": [
        "ntsb_2['eng_mfgr'].unique()"
      ],
      "metadata": {
        "id": "ecjM-EkatOX9",
        "outputId": "2b70c8de-14f2-4cb0-9abe-e519064f81ff",
        "colab": {
          "base_uri": "https://localhost:8080/"
        }
      },
      "id": "ecjM-EkatOX9",
      "execution_count": null,
      "outputs": [
        {
          "output_type": "execute_result",
          "data": {
            "text/plain": [
              "array(['p&w', 'lycoming', 'continental', 'garrett', 'jacobs', 'allison',\n",
              "       'rotax', nan, 'turbomeca', 'walter', 'franklin', 'rolls-royce',\n",
              "       'pzl-kalisz', 'hirth', 'volkswagen', 'rotorway', 'subaru',\n",
              "       'unknown', 'revmaster', 'p&w canada', 'bombardier', 'gansheimer',\n",
              "       'ge', 'wright', 'grob', 'china', 'mazda', 'fairchild',\n",
              "       'allied signal', 'kinner', 'curtis wright', 'great plains', 'hapi',\n",
              "       'cameron', 'pezetel', 'onan', 'hirtmotoren', 'milwaukee prt',\n",
              "       'zenoah', 'mosler', 'jaguar', 'packard', 'vendeneyev', 'chevrolet',\n",
              "       'kawasaki', 'mcculloch', 'cuyuna', 'kfm', 'pzl mielec', 'warner',\n",
              "       'lambert', 'nsi', 'amw', 'voronezh', 'ford', 'jpx', 'bmw r-r',\n",
              "       'wsk', 'shvetsov', 'honda', 'housia', 'microal', 'limbach',\n",
              "       'wsk pzl kalis', 'williams intl', 'bellanca', 'spencer', 'klimov',\n",
              "       'konig', 'orenda', 'emsa', 'detr. diesel', 'lom', 'bristol',\n",
              "       'airesearch', 'teledyne cont', 'jabiru', 'yamaha', 'thruct in',\n",
              "       'suzuki', 'falconer eng.', 'solo', 'volvo', 'quantum', 'velie',\n",
              "       'renault', 'gm', 'ranger', 'de havilland', 'iame', 'komet',\n",
              "       'monnett', 'menasco', 'pzl wsk', 'euzalde', 'electramotive',\n",
              "       'porsche', 'stark stamo', 'avco lycoming', 'france', 'greth',\n",
              "       'arrow', 'microturbo', 'polaris', 'velocity', 'ama/expr', 'solar',\n",
              "       'allison/rolls', 'honeywell', 'northrop corp', 'aerotechnik',\n",
              "       'pratt & whitney canada', 'teledyne continental', 'honeywell/lyc',\n",
              "       'allied/honeyw', 'ivchenko', 'pratt & whitney', 'textron lyc.',\n",
              "       'textron lycoming', 'general electric', 'none', 'buick', 'custom',\n",
              "       'pzl-okecie', 'astazou', 'argus', 'artouste', 'reliant',\n",
              "       'auto aviation', 'ital-american', 'johnson', 'packard r.r.',\n",
              "       'potez', 'weslake', 'enma', 'liberty', 'elizalde,s.a.',\n",
              "       'bristsidviper', 'ivchenco', 'gnome', 'omc', 'avco', 'ravenmaster',\n",
              "       'tgm', 'asz', 'chapallal', 'chotia', 'dawn star', 'siemens halsk',\n",
              "       'lyco/wright', 'aeronca', 'robin', 'arriel', 'rolls-royce allison',\n",
              "       'zanzottera', 'western skyways', 'pratt-whitney', 'aero engines',\n",
              "       'gypsy minor', 'garret/honeywell', 'rolls-royce(allison)',\n",
              "       'williams international', 'bmw rolls-royce',\n",
              "       'lycoming (curtis-wright)', 'rolls royce/allison',\n",
              "       'garrett-airesearch', 'komatsu-zenagh', 'general motors',\n",
              "       'national flight service', 'ã\\x80/o', 'p & w', 'continenal',\n",
              "       'rolls royce', 'v.w.', 'volkswagon', 'volkswagan', 'gypsy moth',\n",
              "       'turbomecca', 'rectimo', 'contiental', 'teledyne/cont', 'evinrude',\n",
              "       'pratt&whitney', 'contnental', 'briggs', 'vw', 'henderson',\n",
              "       'contintental', 'harold guldi', 'outboard', 'gen.electric',\n",
              "       'turbo meca', 'lycom', 'pratt/whitney', 'pezatel', 'allison c',\n",
              "       'rw', 'o-470l', 'ama (vw)', 'rev.', 'o-360-a4k', 'dehavilland',\n",
              "       'frnklin', 'lycomimg', 'mccullock', 'mccullough', 'reumaster',\n",
              "       'merlin', 'continenatl', 'frankin', 'unk/nr', 'p &  w',\n",
              "       'moto guzzi', 'engineair power systems', 'aero-vee',\n",
              "       'honeywell (garrett)', 'a', 'continental motor',\n",
              "       'compact radial engines', 'suziair', 'lycomming', 'walther',\n",
              "       'international harvester', 'le rhone', 'stratus',\n",
              "       'aero engines (vw)', 't.e.c.', 'rolls-royce corporation',\n",
              "       'bombardier/rotax', 'mid-west engines',\n",
              "       'canadian air motive (honda)', 'vedeheyev', 'lycon',\n",
              "       'alliedsignal', 'diemech (walter)', 'pzl-warszana',\n",
              "       'diemech turbines inc', 'eggenfellner', 'pzl', 'gipsy major',\n",
              "       'motori zanzoterra', 'sauer', 'ai', 'vedeneyez', 'apex',\n",
              "       'verner motor', 'ram racing engines ltd', 'hibbler', 'superior',\n",
              "       'aero motors', 'experimental', 'diamond aircraft', 'eci',\n",
              "       'aeromotors s.a.', '1/2 volkswagen', 'honeywell - garrett',\n",
              "       \"america's aircraft engines\", 'povazske stroguarne', 'aero vee',\n",
              "       'allison/rolls-royce', 'paul lee', 'cfe company',\n",
              "       'pratt and whitney', 'superflite', 'yakovlev', 'jpx-pul',\n",
              "       'rolls royce allison', 'agin', 'teledyne continental motors',\n",
              "       'teledyne', 'vedenyev', 'ultimate engines', 'eci titan',\n",
              "       'honeywell aerospace', 'huosai', 'rolls-royce turbomeca',\n",
              "       'cont motor', 'limbeck', 'thielert', 'mattituck', 'diamond',\n",
              "       'superior air parts', 'teledyne-continental', 'wsk-pzl-k',\n",
              "       'wsk pzl kalisz', 'gypsey  major', 'chevrolot',\n",
              "       'continental motors', 'pratt and whitney of canada',\n",
              "       'allison engine', 'tcm', 'formhals', 'bombardier-rotax',\n",
              "       'aero sport', 'dusenberry, mark', 'contl', 'turbo mecca',\n",
              "       'pratt & whitney aircraft of ca', 'williams',\n",
              "       'aero sport power ltd', 'xtreem 360', 'teledyne continental motor',\n",
              "       'experimental tcm', 'heath avn', 'hapi vw', 'mistral engines, sa',\n",
              "       'rolls-royc', 'contenental teledyne', 'swa', 'desert aircraft',\n",
              "       'pratt and whitney - canada', 'warner super scarab', 'diemech',\n",
              "       'walter engine incorporated', 'suburu', 'bombardier-rotax gmbh',\n",
              "       'lycoming engines', 'corvair', 'rotamex', 'avworks',\n",
              "       'pratt and whitney canada', 'chevy', 'dehav eng', 'vedeneyev',\n",
              "       'rotax gmbh & co.', 'honeywell garrett', 'rotex', 'hirthmotoren',\n",
              "       'lange flugzeugbau', 'franklyn', 'bombardier rotex',\n",
              "       'rotorway international', 'aero sport power ltd.',\n",
              "       'garrett airesearch', 'teledyne mattituck', 'hummel', 'geo/metro',\n",
              "       'teledyn continental motors', 'ul power',\n",
              "       'volkswagon/great plains', 'p & w canada', 'aerovee',\n",
              "       'bombardier rotax', 'exp', 'aero sport power', 'allison (r/r)',\n",
              "       'mattittuck', 'lycoming (modified)', 'pratt whitney canada',\n",
              "       'solair', 'aireasearch', 'rotec', 'allied', 'garret', 'nsi aero',\n",
              "       'volkswagoen', 'hks', 'teledyne-continental motors',\n",
              "       'teledye continental motors', 'aerosport power',\n",
              "       'national flight services inc', 'lerhone', 'curtiss wright',\n",
              "       'p. ponk', 'vedenev', 'u/a canada', 'turbomeca usa',\n",
              "       'cub crafters', 'jorritsma', 'penn-yan', 'midwest engines',\n",
              "       'curtiss', 'teledyne continental mortors', 'teledyn continental',\n",
              "       'continental motors inc.', 'rolls royce-allison',\n",
              "       'pratt&whitney-canada', 'globe', 'continential motors', 'garett',\n",
              "       'pwc', 'falconer', 'continental motors, inc.',\n",
              "       \"continental motor's inc.\", 'cont. motor', 'tmx',\n",
              "       'great plains/volkswagen', 'compact ra', 'penn yan aero', 'vps',\n",
              "       'rolls-royce deutschland', 'p&wc', 'subaru - stratus built',\n",
              "       'chevrolet corvair', 'cubcrafters', 'continental (exp)',\n",
              "       'aero sport power (lycoming)', 'contenental', 'jabaru',\n",
              "       'fairchild ranger', 'cub crafter', 'allison / rolls royce',\n",
              "       'garret airesearch', 'morris motors', 'curtis - wright',\n",
              "       'pratt & whitney of canada', 'pratt &whitney canada',\n",
              "       'ge aviation czech', 'vendenyev', 'continental motors inc',\n",
              "       'superior vantage', 'garrett (honeywell)', 'sma',\n",
              "       'diemech turbine', 'shvetsoc', 'continental engines',\n",
              "       'hummel engine', 'penn yann aero', 'ram', 'lom praha',\n",
              "       'technoflug', 'timothy a shorey', 'wankel',\n",
              "       'rolls royce / allison', 'continental motors, inc', 'austro',\n",
              "       'motorlet', 'viking conversion of honda', 'club crafters inc.',\n",
              "       'adolphson', 'brn-powertrain', 'viking', 'russia',\n",
              "       'continental teledyne motors', 'cmi', 'housai',\n",
              "       'rolls royce (allison)', 'patt &whitney canada',\n",
              "       'ama/expr lycoming', 'allison 250-c20b', 'pratt& whitney',\n",
              "       'lycoming/honeywell', 'greatplains', 'compact radial engines inc.',\n",
              "       'teledyne matituck', 'yuneec', 'tomanski', 'lycoming-bmw',\n",
              "       'aerosport / lycoming', 'lycoming o-360-a1a',\n",
              "       'continental motors, inc.,', 'curtiss-wright', 'continantal',\n",
              "       'rotax gmbh', 'pw&c', 'engine components internationa',\n",
              "       'tyledyne continental motors', 'contental', 'great plans aircraft',\n",
              "       'kinner co', 'rotortway', 'pratt whitney',\n",
              "       'brp rotax gmbh7 co. kg', 'pkrd-roll', 'm&d flugzeugbau',\n",
              "       'cont motor p. ponk', 'cont motor/perf eng', 'inntec',\n",
              "       'contienental motors', 'wynn corvair',\n",
              "       'ryan falconer racing engines', 'scaled composites',\n",
              "       'pkrd-roll royce', 'titan', 'prat and whitney aircraft', 'ryan',\n",
              "       'tubomecca', 'gmc', 'motorstar', 'teledine continental motors',\n",
              "       'ramazani & assoc.', 'continental motorc inc.',\n",
              "       'turbine power technologies', 'aeromaxx', 'allison/rolls royce',\n",
              "       'aireaserch/garrett', 'pratt & whittney', 'conitnental',\n",
              "       'honeywell/garrett', 'cont-motor', 'continenetal motors',\n",
              "       'burner balloon works', 'continetnal', 'innovator technologies',\n",
              "       'pratt & whitney - canada', 'vw- hummel', 'continential', 'ly-con',\n",
              "       'continental  motors', 'barrett precision engines', 'lycomong',\n",
              "       'firewall forward', 'warner aircraft engines', 'larry woodrow',\n",
              "       'arrius', 'eci/titan', 'aerosport', 'safran helicopter engines',\n",
              "       'walter/ge', 'continental motor company', 'subaru/eggenfellner',\n",
              "       'mazda/atkins', 'dle 170', 'pbs', 'contenintal', 'conintental',\n",
              "       'williams internatinal company', 'burkes', 'joby motor',\n",
              "       'barrett performance engine'], dtype=object)"
            ]
          },
          "metadata": {},
          "execution_count": 152
        }
      ]
    },
    {
      "cell_type": "code",
      "source": [
        "ntsb_2.drop(columns=['hp_or_lbs', 'ntsb_no'])"
      ],
      "metadata": {
        "id": "yJfZUxKBtQvg",
        "outputId": "4ddfcbe6-c600-40fa-faca-ef43b8f6cca9",
        "colab": {
          "base_uri": "https://localhost:8080/",
          "height": 609
        }
      },
      "id": "yJfZUxKBtQvg",
      "execution_count": null,
      "outputs": [
        {
          "output_type": "execute_result",
          "data": {
            "text/plain": [
              "        aircraft_ev_id far_part flight_plan_activated damage  \\\n",
              "3       20001204x00006      091                   NaN   dest   \n",
              "5       20001204x00008      091                   NaN   dest   \n",
              "6       20001204x00015      091                   NaN   subs   \n",
              "7       20001204x00016      091                   NaN   dest   \n",
              "8       20001204x00017      091                   NaN   dest   \n",
              "...                ...      ...                   ...    ...   \n",
              "112732  20160721x52728      091                     n   subs   \n",
              "112744  20160721x55442      091                     n   subs   \n",
              "112761  20160721x90029      137                     n   subs   \n",
              "112775  20160722x63338      091                     y   dest   \n",
              "112802  20160723x20253      137                     y   subs   \n",
              "\n",
              "                             acft_make   acft_model  cert_max_gr_wt  num_eng  \\\n",
              "3                                beech  other_model          medium        2   \n",
              "5                       aero commander  other_model           small        2   \n",
              "6                     gettis h. hudson  other_model           small        1   \n",
              "7                                beech  other_model           small        2   \n",
              "8                                beech  other_model           small        2   \n",
              "...                                ...          ...             ...      ...   \n",
              "112732                          boeing  other_model           small        1   \n",
              "112744          rockwell international  other_model           small        1   \n",
              "112761  grumman acft eng cor-schweizer  other_model           small        1   \n",
              "112775                            vans  other_model  large commuter        1   \n",
              "112802                 air tractor inc  other_model  large commuter        1   \n",
              "\n",
              "       type_last_insp date_last_insp  ...  inj_tot_t  wx_cond_basic  \\\n",
              "3                aaip      1/14/1999  ...        2.0            imc   \n",
              "5                annl      10/1/1998  ...        4.0            vmc   \n",
              "6                annl       8/1/1998  ...        NaN            vmc   \n",
              "7                annl      6/22/1998  ...        3.0            imc   \n",
              "8                annl      11/4/1998  ...        3.0            imc   \n",
              "...               ...            ...  ...        ...            ...   \n",
              "112732           annl      10-dec-15  ...        2.0            vmc   \n",
              "112744           annl      25-may-16  ...        3.0            vmc   \n",
              "112761           100h      23-jun-16  ...        1.0            vmc   \n",
              "112775           cond      16-jun-16  ...        2.0            vmc   \n",
              "112802           annl      01-may-16  ...        2.0            vmc   \n",
              "\n",
              "       Cause_Factor crew_no crew_category crew_age crew_sex med_certf  \\\n",
              "3               NaN     NaN           NaN      NaN      NaN       NaN   \n",
              "5               NaN     NaN           NaN      NaN      NaN       NaN   \n",
              "6               NaN     NaN           NaN      NaN      NaN       NaN   \n",
              "7               NaN     NaN           NaN      NaN      NaN       NaN   \n",
              "8               NaN     NaN           NaN      NaN      NaN       NaN   \n",
              "...             ...     ...           ...      ...      ...       ...   \n",
              "112732          NaN     2.0          pass      NaN        f       NaN   \n",
              "112744            c     3.0          pass      NaN        m       NaN   \n",
              "112761            c     1.0           plt     29.0        m       cl2   \n",
              "112775            c     2.0          pass     84.0        f       NaN   \n",
              "112802            c     1.0           plt     25.0        m       cl2   \n",
              "\n",
              "       pilot_flying crew_inj_level  \n",
              "3             False            NaN  \n",
              "5             False            NaN  \n",
              "6             False            NaN  \n",
              "7             False            NaN  \n",
              "8             False            NaN  \n",
              "...             ...            ...  \n",
              "112732         True           minr  \n",
              "112744         True           none  \n",
              "112761         True           none  \n",
              "112775         True           fatl  \n",
              "112802         True           fatl  \n",
              "\n",
              "[49224 rows x 84 columns]"
            ],
            "text/html": [
              "\n",
              "  <div id=\"df-d325a523-0ef3-4078-a60c-bcf7a3942724\">\n",
              "    <div class=\"colab-df-container\">\n",
              "      <div>\n",
              "<style scoped>\n",
              "    .dataframe tbody tr th:only-of-type {\n",
              "        vertical-align: middle;\n",
              "    }\n",
              "\n",
              "    .dataframe tbody tr th {\n",
              "        vertical-align: top;\n",
              "    }\n",
              "\n",
              "    .dataframe thead th {\n",
              "        text-align: right;\n",
              "    }\n",
              "</style>\n",
              "<table border=\"1\" class=\"dataframe\">\n",
              "  <thead>\n",
              "    <tr style=\"text-align: right;\">\n",
              "      <th></th>\n",
              "      <th>aircraft_ev_id</th>\n",
              "      <th>far_part</th>\n",
              "      <th>flight_plan_activated</th>\n",
              "      <th>damage</th>\n",
              "      <th>acft_make</th>\n",
              "      <th>acft_model</th>\n",
              "      <th>cert_max_gr_wt</th>\n",
              "      <th>num_eng</th>\n",
              "      <th>type_last_insp</th>\n",
              "      <th>date_last_insp</th>\n",
              "      <th>...</th>\n",
              "      <th>inj_tot_t</th>\n",
              "      <th>wx_cond_basic</th>\n",
              "      <th>Cause_Factor</th>\n",
              "      <th>crew_no</th>\n",
              "      <th>crew_category</th>\n",
              "      <th>crew_age</th>\n",
              "      <th>crew_sex</th>\n",
              "      <th>med_certf</th>\n",
              "      <th>pilot_flying</th>\n",
              "      <th>crew_inj_level</th>\n",
              "    </tr>\n",
              "  </thead>\n",
              "  <tbody>\n",
              "    <tr>\n",
              "      <th>3</th>\n",
              "      <td>20001204x00006</td>\n",
              "      <td>091</td>\n",
              "      <td>NaN</td>\n",
              "      <td>dest</td>\n",
              "      <td>beech</td>\n",
              "      <td>other_model</td>\n",
              "      <td>medium</td>\n",
              "      <td>2</td>\n",
              "      <td>aaip</td>\n",
              "      <td>1/14/1999</td>\n",
              "      <td>...</td>\n",
              "      <td>2.0</td>\n",
              "      <td>imc</td>\n",
              "      <td>NaN</td>\n",
              "      <td>NaN</td>\n",
              "      <td>NaN</td>\n",
              "      <td>NaN</td>\n",
              "      <td>NaN</td>\n",
              "      <td>NaN</td>\n",
              "      <td>False</td>\n",
              "      <td>NaN</td>\n",
              "    </tr>\n",
              "    <tr>\n",
              "      <th>5</th>\n",
              "      <td>20001204x00008</td>\n",
              "      <td>091</td>\n",
              "      <td>NaN</td>\n",
              "      <td>dest</td>\n",
              "      <td>aero commander</td>\n",
              "      <td>other_model</td>\n",
              "      <td>small</td>\n",
              "      <td>2</td>\n",
              "      <td>annl</td>\n",
              "      <td>10/1/1998</td>\n",
              "      <td>...</td>\n",
              "      <td>4.0</td>\n",
              "      <td>vmc</td>\n",
              "      <td>NaN</td>\n",
              "      <td>NaN</td>\n",
              "      <td>NaN</td>\n",
              "      <td>NaN</td>\n",
              "      <td>NaN</td>\n",
              "      <td>NaN</td>\n",
              "      <td>False</td>\n",
              "      <td>NaN</td>\n",
              "    </tr>\n",
              "    <tr>\n",
              "      <th>6</th>\n",
              "      <td>20001204x00015</td>\n",
              "      <td>091</td>\n",
              "      <td>NaN</td>\n",
              "      <td>subs</td>\n",
              "      <td>gettis h. hudson</td>\n",
              "      <td>other_model</td>\n",
              "      <td>small</td>\n",
              "      <td>1</td>\n",
              "      <td>annl</td>\n",
              "      <td>8/1/1998</td>\n",
              "      <td>...</td>\n",
              "      <td>NaN</td>\n",
              "      <td>vmc</td>\n",
              "      <td>NaN</td>\n",
              "      <td>NaN</td>\n",
              "      <td>NaN</td>\n",
              "      <td>NaN</td>\n",
              "      <td>NaN</td>\n",
              "      <td>NaN</td>\n",
              "      <td>False</td>\n",
              "      <td>NaN</td>\n",
              "    </tr>\n",
              "    <tr>\n",
              "      <th>7</th>\n",
              "      <td>20001204x00016</td>\n",
              "      <td>091</td>\n",
              "      <td>NaN</td>\n",
              "      <td>dest</td>\n",
              "      <td>beech</td>\n",
              "      <td>other_model</td>\n",
              "      <td>small</td>\n",
              "      <td>2</td>\n",
              "      <td>annl</td>\n",
              "      <td>6/22/1998</td>\n",
              "      <td>...</td>\n",
              "      <td>3.0</td>\n",
              "      <td>imc</td>\n",
              "      <td>NaN</td>\n",
              "      <td>NaN</td>\n",
              "      <td>NaN</td>\n",
              "      <td>NaN</td>\n",
              "      <td>NaN</td>\n",
              "      <td>NaN</td>\n",
              "      <td>False</td>\n",
              "      <td>NaN</td>\n",
              "    </tr>\n",
              "    <tr>\n",
              "      <th>8</th>\n",
              "      <td>20001204x00017</td>\n",
              "      <td>091</td>\n",
              "      <td>NaN</td>\n",
              "      <td>dest</td>\n",
              "      <td>beech</td>\n",
              "      <td>other_model</td>\n",
              "      <td>small</td>\n",
              "      <td>2</td>\n",
              "      <td>annl</td>\n",
              "      <td>11/4/1998</td>\n",
              "      <td>...</td>\n",
              "      <td>3.0</td>\n",
              "      <td>imc</td>\n",
              "      <td>NaN</td>\n",
              "      <td>NaN</td>\n",
              "      <td>NaN</td>\n",
              "      <td>NaN</td>\n",
              "      <td>NaN</td>\n",
              "      <td>NaN</td>\n",
              "      <td>False</td>\n",
              "      <td>NaN</td>\n",
              "    </tr>\n",
              "    <tr>\n",
              "      <th>...</th>\n",
              "      <td>...</td>\n",
              "      <td>...</td>\n",
              "      <td>...</td>\n",
              "      <td>...</td>\n",
              "      <td>...</td>\n",
              "      <td>...</td>\n",
              "      <td>...</td>\n",
              "      <td>...</td>\n",
              "      <td>...</td>\n",
              "      <td>...</td>\n",
              "      <td>...</td>\n",
              "      <td>...</td>\n",
              "      <td>...</td>\n",
              "      <td>...</td>\n",
              "      <td>...</td>\n",
              "      <td>...</td>\n",
              "      <td>...</td>\n",
              "      <td>...</td>\n",
              "      <td>...</td>\n",
              "      <td>...</td>\n",
              "      <td>...</td>\n",
              "    </tr>\n",
              "    <tr>\n",
              "      <th>112732</th>\n",
              "      <td>20160721x52728</td>\n",
              "      <td>091</td>\n",
              "      <td>n</td>\n",
              "      <td>subs</td>\n",
              "      <td>boeing</td>\n",
              "      <td>other_model</td>\n",
              "      <td>small</td>\n",
              "      <td>1</td>\n",
              "      <td>annl</td>\n",
              "      <td>10-dec-15</td>\n",
              "      <td>...</td>\n",
              "      <td>2.0</td>\n",
              "      <td>vmc</td>\n",
              "      <td>NaN</td>\n",
              "      <td>2.0</td>\n",
              "      <td>pass</td>\n",
              "      <td>NaN</td>\n",
              "      <td>f</td>\n",
              "      <td>NaN</td>\n",
              "      <td>True</td>\n",
              "      <td>minr</td>\n",
              "    </tr>\n",
              "    <tr>\n",
              "      <th>112744</th>\n",
              "      <td>20160721x55442</td>\n",
              "      <td>091</td>\n",
              "      <td>n</td>\n",
              "      <td>subs</td>\n",
              "      <td>rockwell international</td>\n",
              "      <td>other_model</td>\n",
              "      <td>small</td>\n",
              "      <td>1</td>\n",
              "      <td>annl</td>\n",
              "      <td>25-may-16</td>\n",
              "      <td>...</td>\n",
              "      <td>3.0</td>\n",
              "      <td>vmc</td>\n",
              "      <td>c</td>\n",
              "      <td>3.0</td>\n",
              "      <td>pass</td>\n",
              "      <td>NaN</td>\n",
              "      <td>m</td>\n",
              "      <td>NaN</td>\n",
              "      <td>True</td>\n",
              "      <td>none</td>\n",
              "    </tr>\n",
              "    <tr>\n",
              "      <th>112761</th>\n",
              "      <td>20160721x90029</td>\n",
              "      <td>137</td>\n",
              "      <td>n</td>\n",
              "      <td>subs</td>\n",
              "      <td>grumman acft eng cor-schweizer</td>\n",
              "      <td>other_model</td>\n",
              "      <td>small</td>\n",
              "      <td>1</td>\n",
              "      <td>100h</td>\n",
              "      <td>23-jun-16</td>\n",
              "      <td>...</td>\n",
              "      <td>1.0</td>\n",
              "      <td>vmc</td>\n",
              "      <td>c</td>\n",
              "      <td>1.0</td>\n",
              "      <td>plt</td>\n",
              "      <td>29.0</td>\n",
              "      <td>m</td>\n",
              "      <td>cl2</td>\n",
              "      <td>True</td>\n",
              "      <td>none</td>\n",
              "    </tr>\n",
              "    <tr>\n",
              "      <th>112775</th>\n",
              "      <td>20160722x63338</td>\n",
              "      <td>091</td>\n",
              "      <td>y</td>\n",
              "      <td>dest</td>\n",
              "      <td>vans</td>\n",
              "      <td>other_model</td>\n",
              "      <td>large commuter</td>\n",
              "      <td>1</td>\n",
              "      <td>cond</td>\n",
              "      <td>16-jun-16</td>\n",
              "      <td>...</td>\n",
              "      <td>2.0</td>\n",
              "      <td>vmc</td>\n",
              "      <td>c</td>\n",
              "      <td>2.0</td>\n",
              "      <td>pass</td>\n",
              "      <td>84.0</td>\n",
              "      <td>f</td>\n",
              "      <td>NaN</td>\n",
              "      <td>True</td>\n",
              "      <td>fatl</td>\n",
              "    </tr>\n",
              "    <tr>\n",
              "      <th>112802</th>\n",
              "      <td>20160723x20253</td>\n",
              "      <td>137</td>\n",
              "      <td>y</td>\n",
              "      <td>subs</td>\n",
              "      <td>air tractor inc</td>\n",
              "      <td>other_model</td>\n",
              "      <td>large commuter</td>\n",
              "      <td>1</td>\n",
              "      <td>annl</td>\n",
              "      <td>01-may-16</td>\n",
              "      <td>...</td>\n",
              "      <td>2.0</td>\n",
              "      <td>vmc</td>\n",
              "      <td>c</td>\n",
              "      <td>1.0</td>\n",
              "      <td>plt</td>\n",
              "      <td>25.0</td>\n",
              "      <td>m</td>\n",
              "      <td>cl2</td>\n",
              "      <td>True</td>\n",
              "      <td>fatl</td>\n",
              "    </tr>\n",
              "  </tbody>\n",
              "</table>\n",
              "<p>49224 rows × 84 columns</p>\n",
              "</div>\n",
              "      <button class=\"colab-df-convert\" onclick=\"convertToInteractive('df-d325a523-0ef3-4078-a60c-bcf7a3942724')\"\n",
              "              title=\"Convert this dataframe to an interactive table.\"\n",
              "              style=\"display:none;\">\n",
              "        \n",
              "  <svg xmlns=\"http://www.w3.org/2000/svg\" height=\"24px\"viewBox=\"0 0 24 24\"\n",
              "       width=\"24px\">\n",
              "    <path d=\"M0 0h24v24H0V0z\" fill=\"none\"/>\n",
              "    <path d=\"M18.56 5.44l.94 2.06.94-2.06 2.06-.94-2.06-.94-.94-2.06-.94 2.06-2.06.94zm-11 1L8.5 8.5l.94-2.06 2.06-.94-2.06-.94L8.5 2.5l-.94 2.06-2.06.94zm10 10l.94 2.06.94-2.06 2.06-.94-2.06-.94-.94-2.06-.94 2.06-2.06.94z\"/><path d=\"M17.41 7.96l-1.37-1.37c-.4-.4-.92-.59-1.43-.59-.52 0-1.04.2-1.43.59L10.3 9.45l-7.72 7.72c-.78.78-.78 2.05 0 2.83L4 21.41c.39.39.9.59 1.41.59.51 0 1.02-.2 1.41-.59l7.78-7.78 2.81-2.81c.8-.78.8-2.07 0-2.86zM5.41 20L4 18.59l7.72-7.72 1.47 1.35L5.41 20z\"/>\n",
              "  </svg>\n",
              "      </button>\n",
              "      \n",
              "  <style>\n",
              "    .colab-df-container {\n",
              "      display:flex;\n",
              "      flex-wrap:wrap;\n",
              "      gap: 12px;\n",
              "    }\n",
              "\n",
              "    .colab-df-convert {\n",
              "      background-color: #E8F0FE;\n",
              "      border: none;\n",
              "      border-radius: 50%;\n",
              "      cursor: pointer;\n",
              "      display: none;\n",
              "      fill: #1967D2;\n",
              "      height: 32px;\n",
              "      padding: 0 0 0 0;\n",
              "      width: 32px;\n",
              "    }\n",
              "\n",
              "    .colab-df-convert:hover {\n",
              "      background-color: #E2EBFA;\n",
              "      box-shadow: 0px 1px 2px rgba(60, 64, 67, 0.3), 0px 1px 3px 1px rgba(60, 64, 67, 0.15);\n",
              "      fill: #174EA6;\n",
              "    }\n",
              "\n",
              "    [theme=dark] .colab-df-convert {\n",
              "      background-color: #3B4455;\n",
              "      fill: #D2E3FC;\n",
              "    }\n",
              "\n",
              "    [theme=dark] .colab-df-convert:hover {\n",
              "      background-color: #434B5C;\n",
              "      box-shadow: 0px 1px 3px 1px rgba(0, 0, 0, 0.15);\n",
              "      filter: drop-shadow(0px 1px 2px rgba(0, 0, 0, 0.3));\n",
              "      fill: #FFFFFF;\n",
              "    }\n",
              "  </style>\n",
              "\n",
              "      <script>\n",
              "        const buttonEl =\n",
              "          document.querySelector('#df-d325a523-0ef3-4078-a60c-bcf7a3942724 button.colab-df-convert');\n",
              "        buttonEl.style.display =\n",
              "          google.colab.kernel.accessAllowed ? 'block' : 'none';\n",
              "\n",
              "        async function convertToInteractive(key) {\n",
              "          const element = document.querySelector('#df-d325a523-0ef3-4078-a60c-bcf7a3942724');\n",
              "          const dataTable =\n",
              "            await google.colab.kernel.invokeFunction('convertToInteractive',\n",
              "                                                     [key], {});\n",
              "          if (!dataTable) return;\n",
              "\n",
              "          const docLinkHtml = 'Like what you see? Visit the ' +\n",
              "            '<a target=\"_blank\" href=https://colab.research.google.com/notebooks/data_table.ipynb>data table notebook</a>'\n",
              "            + ' to learn more about interactive tables.';\n",
              "          element.innerHTML = '';\n",
              "          dataTable['output_type'] = 'display_data';\n",
              "          await google.colab.output.renderOutput(dataTable, element);\n",
              "          const docLink = document.createElement('div');\n",
              "          docLink.innerHTML = docLinkHtml;\n",
              "          element.appendChild(docLink);\n",
              "        }\n",
              "      </script>\n",
              "    </div>\n",
              "  </div>\n",
              "  "
            ]
          },
          "metadata": {},
          "execution_count": 153
        }
      ]
    },
    {
      "cell_type": "code",
      "source": [
        "#Cleaning names of engine manufacturers.\n",
        "\n",
        "ntsb_2['eng_mfgr'].mask(ntsb_2['eng_mfgr'] == '1/2 volkswagen', 'volkswagen', inplace=True)\n",
        "ntsb_2['secondary_eng_mfgr'] = np.where(ntsb_2['eng_mfgr'] == 'aero engines (vw)', 'volkswagen', '')\n",
        "ntsb_2['eng_mfgr'].mask(ntsb_2['eng_mfgr'] == '4 burner type engines', '', inplace=True)\n",
        "ntsb_2['eng_mfgr'].mask(ntsb_2['eng_mfgr'] == 'ã\\x80/o', '', inplace=True)\n",
        "ntsb_2['eng_mfgr'].mask(ntsb_2['eng_mfgr'] == 'â\\x82¬', '', inplace=True)\n",
        "ntsb_2['eng_mfgr'].mask(ntsb_2['eng_mfgr'] == 'aero engines (vw)', 'aero engines', inplace=True)\n",
        "ntsb_2['eng_mfgr'].mask(ntsb_2['eng_mfgr'] == 'aero sport', 'aero sport power', inplace=True)\n",
        "ntsb_2['secondary_eng_mfgr'] = np.where(ntsb_2['eng_mfgr'] == 'aero sport power (lycoming)', 'lycoming', '')\n",
        "ntsb_2['eng_mfgr'].mask(ntsb_2['eng_mfgr'] == 'aero sport power (lycoming)', 'aero sport power', inplace=True)\n",
        "ntsb_2['eng_mfgr'].mask(ntsb_2['eng_mfgr'] == 'aero sport power ltd', 'aero sport power', inplace=True)\n",
        "ntsb_2['eng_mfgr'].mask(ntsb_2['eng_mfgr'] == 'aero sport power ltd.', 'aero sport power', inplace=True)\n",
        "ntsb_2['eng_mfgr'].mask(ntsb_2['eng_mfgr'] == 'aero-vee', 'aero vee', inplace=True)\n",
        "ntsb_2['eng_mfgr'].mask(ntsb_2['eng_mfgr'] == 'aeromotors s.a.', 'aero motors', inplace=True)\n",
        "ntsb_2['eng_mfgr'].mask(ntsb_2['eng_mfgr'] == 'aerosport', 'aero sport power', inplace=True)\n",
        "ntsb_2['secondary_eng_mfgr'] = np.where(ntsb_2['eng_mfgr'] == 'aerosport / lycoming', 'lycoming', '')\n",
        "ntsb_2['eng_mfgr'].mask(ntsb_2['eng_mfgr'] == 'aerosport / lycoming', 'aero sport power', inplace=True)\n",
        "ntsb_2['eng_mfgr'].mask(ntsb_2['eng_mfgr'] == 'aerosport power', 'aero sport power', inplace=True)\n",
        "ntsb_2['eng_mfgr'].mask(ntsb_2['eng_mfgr'] == 'aerovee', 'aero vee', inplace=True)\n",
        "ntsb_2['eng_mfgr'].mask(ntsb_2['eng_mfgr'] == 'ai', 'airesearch', inplace=True)\n",
        "ntsb_2['eng_mfgr'].mask(ntsb_2['eng_mfgr'] == 'aireasearch', 'airesearch', inplace=True)\n",
        "ntsb_2['secondary_eng_mfgr'] = np.where(ntsb_2['eng_mfgr'] == 'aireaserch/garrett', 'garrett', '')\n",
        "ntsb_2['eng_mfgr'].mask(ntsb_2['eng_mfgr'] == 'aireaserch/garrett', 'airesearch', inplace=True)\n",
        "ntsb_2['eng_mfgr'].mask(ntsb_2['eng_mfgr'] == 'airresearch', 'airesearch', inplace=True)\n",
        "ntsb_2['secondary_eng_mfgr'] = np.where(ntsb_2['eng_mfgr'] == 'airresearch/honeywell', 'honeywell aerospace', '')\n",
        "ntsb_2['eng_mfgr'].mask(ntsb_2['eng_mfgr'] == 'airresearch/honeywell', 'airesearch', inplace=True)\n",
        "ntsb_2['eng_mfgr'].mask(ntsb_2['eng_mfgr'] == 'allied', 'allied signal', inplace=True)\n",
        "ntsb_2['secondary_eng_mfgr'] = np.where(ntsb_2['eng_mfgr'] == 'allied/honeyw', 'honeywell aerospace', '')\n",
        "ntsb_2['eng_mfgr'].mask(ntsb_2['eng_mfgr'] == 'allied/honeyw', 'allied signal', inplace=True)\n",
        "ntsb_2['eng_mfgr'].mask(ntsb_2['eng_mfgr'] == 'alliedsignal', 'allied signal', inplace=True)\n",
        "ntsb_2['secondary_eng_mfgr'] = np.where(ntsb_2['eng_mfgr'] == 'allison (r/r)', 'rolls-royce', '')\n",
        "ntsb_2['eng_mfgr'].mask(ntsb_2['eng_mfgr'] == 'allison (r/r)', 'allison', inplace=True)\n",
        "ntsb_2['secondary_eng_mfgr'] = np.where(ntsb_2['eng_mfgr'] == 'allison / rolls royce', 'rolls-royce', '')\n",
        "ntsb_2['eng_mfgr'].mask(ntsb_2['eng_mfgr'] == 'allison / rolls royce', 'allison', inplace=True)\n",
        "ntsb_2['eng_mfgr'].mask(ntsb_2['eng_mfgr'] == 'allison 250-c20b', 'allison', inplace=True)\n",
        "ntsb_2['eng_mfgr'].mask(ntsb_2['eng_mfgr'] == 'allison c', 'allison', inplace=True)\n",
        "ntsb_2['eng_mfgr'].mask(ntsb_2['eng_mfgr'] == 'allison engine', 'allison', inplace=True)\n",
        "ntsb_2['secondary_eng_mfgr'] = np.where(ntsb_2['eng_mfgr'] == 'allison rolls royce', 'rolls-royce', '')\n",
        "ntsb_2['eng_mfgr'].mask(ntsb_2['eng_mfgr'] == 'allison rolls royce', 'allison', inplace=True)\n",
        "ntsb_2['secondary_eng_mfgr'] = np.where(ntsb_2['eng_mfgr'] == 'allison/rolls royce', 'rolls-royce', '')\n",
        "ntsb_2['eng_mfgr'].mask(ntsb_2['eng_mfgr'] == 'allison/rolls royce', 'allison', inplace=True)\n",
        "ntsb_2['secondary_eng_mfgr'] = np.where(ntsb_2['eng_mfgr'] == 'allison/rolls-royce', 'rolls-royce', '')\n",
        "ntsb_2['eng_mfgr'].mask(ntsb_2['eng_mfgr'] == 'allison/rolls-royce', 'allison', inplace=True)\n",
        "ntsb_2['secondary_eng_mfgr'] = np.where(ntsb_2['eng_mfgr'] == 'allison/rr', 'rolls-royce', '')\n",
        "ntsb_2['eng_mfgr'].mask(ntsb_2['eng_mfgr'] == 'allison/rr', 'allison', inplace=True)\n",
        "ntsb_2['eng_mfgr'].mask(ntsb_2['eng_mfgr'] == 'alllison', 'allison', inplace=True)\n",
        "ntsb_2['secondary_eng_mfgr'] = np.where(ntsb_2['eng_mfgr'] == 'ama (vw)', 'volkswagen', '')\n",
        "ntsb_2['eng_mfgr'].mask(ntsb_2['eng_mfgr'] == 'ama/expr', 'ama', inplace=True)\n",
        "ntsb_2['secondary_eng_mfgr'] = np.where(ntsb_2['eng_mfgr'] == 'ama/expr lycoming)', 'lycoming', '')\n",
        "ntsb_2['eng_mfgr'].mask(ntsb_2['eng_mfgr'] == 'ama/expr lycoming', 'ama', inplace=True)\n",
        "ntsb_2['eng_mfgr'].mask(ntsb_2['eng_mfgr'] == 'arriel', 'safran helicopter engines', inplace=True)\n",
        "ntsb_2['eng_mfgr'].mask(ntsb_2['eng_mfgr'] == 'ariel', 'safran helicopter engines', inplace=True)\n",
        "ntsb_2['eng_mfgr'].mask(ntsb_2['eng_mfgr'] == 'avco', 'lycoming', inplace=True)\n",
        "ntsb_2['eng_mfgr'].mask(ntsb_2['eng_mfgr'] == 'avco lycoming', 'lycoming', inplace=True)\n",
        "ntsb_2['eng_mfgr'].mask(ntsb_2['eng_mfgr'] == 'barrett precision engines', 'barret precision engines', inplace=True)\n",
        "ntsb_2['eng_mfgr'].mask(ntsb_2['eng_mfgr'] == 'barrett performance engine', 'barret precision engines', inplace=True)\n",
        "ntsb_2['secondary_eng_mfgr'] = np.where(ntsb_2['eng_mfgr'] == 'bmw r-r', 'rolls-royce', '')\n",
        "ntsb_2['eng_mfgr'].mask(ntsb_2['eng_mfgr'] == 'bmw r-r', 'bmw', inplace=True)\n",
        "ntsb_2['secondary_eng_mfgr'] = np.where(ntsb_2['eng_mfgr'] == 'bmw rolls-royce', 'rolls-royce', '')\n",
        "ntsb_2['eng_mfgr'].mask(ntsb_2['eng_mfgr'] == 'bmw rolls-royce', 'bmw', inplace=True)\n",
        "ntsb_2['eng_mfgr'].mask(ntsb_2['eng_mfgr'] == 'bombardier', 'brp-rotax', inplace=True)\n",
        "ntsb_2['eng_mfgr'].mask(ntsb_2['eng_mfgr'] == 'bombardier rotax', 'brp-rotax', inplace=True)\n",
        "ntsb_2['eng_mfgr'].mask(ntsb_2['eng_mfgr'] == 'bombardier rotex', 'brp-rotax', inplace=True)\n",
        "ntsb_2['eng_mfgr'].mask(ntsb_2['eng_mfgr'] == 'bombardier-rotax', 'brp-rotax', inplace=True)\n",
        "ntsb_2['eng_mfgr'].mask(ntsb_2['eng_mfgr'] == 'bombardier', 'brp-rotax', inplace=True)\n",
        "ntsb_2['eng_mfgr'].mask(ntsb_2['eng_mfgr'] == 'bombardier/rotax', 'brp-rotax', inplace=True)\n",
        "ntsb_2['eng_mfgr'].mask(ntsb_2['eng_mfgr'] == 'bristsidviper', 'Armstrong Siddeley', inplace=True)\n",
        "ntsb_2['eng_mfgr'].mask(ntsb_2['eng_mfgr'] == 'brp rotax gmbh7 co. kg', 'brp-rotax', inplace=True)\n",
        "ntsb_2['eng_mfgr'].mask(ntsb_2['eng_mfgr'] == 'cfm', 'cfm international', inplace=True)\n",
        "ntsb_2['eng_mfgr'].mask(ntsb_2['eng_mfgr'] == 'cfm intl', 'cfm international', inplace=True)\n",
        "ntsb_2['eng_mfgr'].mask(ntsb_2['eng_mfgr'] == 'cfm intl.', 'cfm international', inplace=True)\n",
        "ntsb_2['eng_mfgr'].mask(ntsb_2['eng_mfgr'] == 'chapallal', 'elroy air chaparral', inplace=True)\n",
        "ntsb_2['eng_mfgr'].mask(ntsb_2['eng_mfgr'] == 'chevrolet corvair', 'chevrolet', inplace=True)\n",
        "ntsb_2['eng_mfgr'].mask(ntsb_2['eng_mfgr'] == 'chevrolot', 'chevrolet', inplace=True)\n",
        "ntsb_2['eng_mfgr'].mask(ntsb_2['eng_mfgr'] == 'chevy', 'chevrolet', inplace=True)\n",
        "ntsb_2['eng_mfgr'].mask(ntsb_2['eng_mfgr'] == 'chevy geo metro', 'chevrolet', inplace=True)\n",
        "ntsb_2['eng_mfgr'].mask(ntsb_2['eng_mfgr'] == 'club crafters inc.', 'club crafters, inc.', inplace=True)\n",
        "ntsb_2['eng_mfgr'].mask(ntsb_2['eng_mfgr'] == 'compact ra', 'compact radial engines, inc.', inplace=True)\n",
        "ntsb_2['eng_mfgr'].mask(ntsb_2['eng_mfgr'] == 'compact radial engines', 'compact radial engines, inc.', inplace=True)\n",
        "ntsb_2['eng_mfgr'].mask(ntsb_2['eng_mfgr'] == 'compact radial engines inc.', 'compact radial engines, inc.', inplace=True)\n",
        "ntsb_2['eng_mfgr'].mask(ntsb_2['eng_mfgr'] == 'continental motor\\'s inc', 'continental motors, inc.', inplace=True)\n",
        "ntsb_2['eng_mfgr'].mask(ntsb_2['eng_mfgr'] == 'conintental', 'continental motors, inc.', inplace=True)\n",
        "ntsb_2['eng_mfgr'].mask(ntsb_2['eng_mfgr'] == 'conitnental', 'continental motors, inc.', inplace=True)\n",
        "ntsb_2['eng_mfgr'].mask(ntsb_2['eng_mfgr'] == 'cont motor', 'continental motors, inc.', inplace=True)\n",
        "ntsb_2['secondary_eng_mfgr'] = np.where(ntsb_2['eng_mfgr'] == 'cont motor p. ponk', 'p.ponk', '')\n",
        "ntsb_2['eng_mfgr'].mask(ntsb_2['eng_mfgr'] == 'cont motor p. ponk', 'continental motors, inc.', inplace=True)\n",
        "ntsb_2['eng_mfgr'].mask(ntsb_2['eng_mfgr'] == 'cont motor/perf eng', 'continental motors, inc.', inplace=True)\n",
        "ntsb_2['eng_mfgr'].mask(ntsb_2['eng_mfgr'] == 'cont-motor', 'continental motors, inc.', inplace=True)\n",
        "ntsb_2['eng_mfgr'].mask(ntsb_2['eng_mfgr'] == 'cont. motor', 'continental motors, inc.', inplace=True)\n",
        "ntsb_2['eng_mfgr'].mask(ntsb_2['eng_mfgr'] == 'contenental', 'continental motors, inc.', inplace=True)\n",
        "ntsb_2['secondary_eng_mfgr'] = np.where(ntsb_2['eng_mfgr'] == 'contenental teledyne', 'teledyne turbine engines', '')\n",
        "ntsb_2['eng_mfgr'].mask(ntsb_2['eng_mfgr'] == 'contenental teledyne', 'continental motors, inc.', inplace=True)\n",
        "ntsb_2['eng_mfgr'].mask(ntsb_2['eng_mfgr'] == 'contenintal', 'continental motors, inc.', inplace=True)\n",
        "ntsb_2['eng_mfgr'].mask(ntsb_2['eng_mfgr'] == 'contental', 'continental motors, inc.', inplace=True)\n",
        "ntsb_2['eng_mfgr'].mask(ntsb_2['eng_mfgr'] == 'contenental', 'continental motors, inc.', inplace=True)\n",
        "ntsb_2['eng_mfgr'].mask(ntsb_2['eng_mfgr'] == 'contenental', 'continental motors, inc.', inplace=True)\n",
        "ntsb_2['eng_mfgr'].mask(ntsb_2['eng_mfgr'] == 'contenental', 'continental motors, inc.', inplace=True)\n",
        "ntsb_2['eng_mfgr'].mask(ntsb_2['eng_mfgr'] == 'contenental', 'continental motors, inc.', inplace=True)\n",
        "ntsb_2['eng_mfgr'].mask(ntsb_2['eng_mfgr'] == 'contenental', 'continental motors, inc.', inplace=True)\n",
        "ntsb_2['eng_mfgr'].mask(ntsb_2['eng_mfgr'] == 'contenental', 'continental motors, inc.', inplace=True)\n",
        "ntsb_2['eng_mfgr'].mask(ntsb_2['eng_mfgr'] == 'contenental', 'continental motors, inc.', inplace=True)\n",
        "ntsb_2['eng_mfgr'].mask(ntsb_2['eng_mfgr'] == 'contenental', 'continental motors, inc.', inplace=True)\n",
        "ntsb_2['eng_mfgr'].mask(ntsb_2['eng_mfgr'] == 'contenental', 'continental motors, inc.', inplace=True)\n",
        "ntsb_2['eng_mfgr'].mask(ntsb_2['eng_mfgr'] == 'contenental', 'continental motors, inc.', inplace=True)\n",
        "ntsb_2['eng_mfgr'].mask(ntsb_2['eng_mfgr'] == 'contenental', 'continental motors, inc.', inplace=True)\n",
        "ntsb_2['eng_mfgr'].mask(ntsb_2['eng_mfgr'] == 'contenental', 'continental motors, inc.', inplace=True)\n",
        "ntsb_2['eng_mfgr'].mask(ntsb_2['eng_mfgr'] == 'contenental', 'continental motors, inc.', inplace=True)\n",
        "ntsb_2['eng_mfgr'].mask(ntsb_2['eng_mfgr'] == 'contenental', 'continental motors, inc.', inplace=True)\n",
        "ntsb_2['eng_mfgr'].mask(ntsb_2['eng_mfgr'] == 'contenental', 'continental motors, inc.', inplace=True)\n",
        "ntsb_2['eng_mfgr'].mask(ntsb_2['eng_mfgr'] == 'contenental', 'continental motors, inc.', inplace=True)\n",
        "ntsb_2['eng_mfgr'].mask(ntsb_2['eng_mfgr'] == 'contenental', 'continental motors, inc.', inplace=True)\n",
        "ntsb_2['eng_mfgr'].mask(ntsb_2['eng_mfgr'] == 'contenental', 'continental motors, inc.', inplace=True)\n",
        "ntsb_2['eng_mfgr'].mask(ntsb_2['eng_mfgr'] == 'contenental', 'continental motors, inc.', inplace=True)\n",
        "ntsb_2['secondary_eng_mfgr'] = np.where(ntsb_2['eng_mfgr'] == 'continental teledyne motors', 'teledyne turbine engines', '')\n",
        "ntsb_2['eng_mfgr'].mask(ntsb_2['eng_mfgr'] == 'continental teledyne motors', 'continental motors, inc.', inplace=True)\n",
        "ntsb_2['secondary_eng_mfgr'] = np.where(ntsb_2['eng_mfgr'] == 'continental/p. ponk', 'p.ponk', '')\n",
        "ntsb_2['eng_mfgr'].mask(ntsb_2['eng_mfgr'] == 'continental/p. ponk', 'continental motors, inc.', inplace=True)\n",
        "ntsb_2['eng_mfgr'].mask(ntsb_2['eng_mfgr'] == 'continential', 'continental motors, inc.', inplace=True)\n",
        "ntsb_2['eng_mfgr'].mask(ntsb_2['eng_mfgr'] == 'continential motors', 'continental motors, inc.', inplace=True)\n",
        "ntsb_2['eng_mfgr'].mask(ntsb_2['eng_mfgr'] == 'continetal motors', 'continental motors, inc.', inplace=True)\n",
        "ntsb_2['eng_mfgr'].mask(ntsb_2['eng_mfgr'] == 'continetnal', 'continental motors, inc.', inplace=True)\n",
        "ntsb_2['eng_mfgr'].mask(ntsb_2['eng_mfgr'] == 'contintental', 'continental motors, inc.', inplace=True)\n",
        "ntsb_2['eng_mfgr'].mask(ntsb_2['eng_mfgr'] == 'contl', 'continental motors, inc.', inplace=True)\n",
        "ntsb_2['eng_mfgr'].mask(ntsb_2['eng_mfgr'] == 'contnental', 'continental motors, inc.', inplace=True)\n",
        "ntsb_2['eng_mfgr'].mask(ntsb_2['eng_mfgr'] == 'corvair', 'chevrolet', inplace=True)\n",
        "ntsb_2['eng_mfgr'].mask(ntsb_2['eng_mfgr'] == 'covington', 'covington aircraft engines', inplace=True)\n",
        "ntsb_2['eng_mfgr'].mask(ntsb_2['eng_mfgr'] == 'cub crafter', 'club crafters, inc.', inplace=True)\n",
        "ntsb_2['eng_mfgr'].mask(ntsb_2['eng_mfgr'] == 'cub crafters', 'club crafters, inc.', inplace=True)\n",
        "ntsb_2['eng_mfgr'].mask(ntsb_2['eng_mfgr'] == 'cubcrafters', 'club crafters, inc.', inplace=True)\n",
        "ntsb_2['eng_mfgr'].mask(ntsb_2['eng_mfgr'] == 'curtis - wright', 'curtiss-wright', inplace=True)\n",
        "ntsb_2['eng_mfgr'].mask(ntsb_2['eng_mfgr'] == 'curtis wright', 'curtiss-wright', inplace=True)\n",
        "ntsb_2['eng_mfgr'].mask(ntsb_2['eng_mfgr'] == 'curtis-wright', 'curtiss-wright', inplace=True)\n",
        "ntsb_2['eng_mfgr'].mask(ntsb_2['eng_mfgr'] == 'curtiss', 'curtiss-wright', inplace=True)\n",
        "ntsb_2['eng_mfgr'].mask(ntsb_2['eng_mfgr'] == 'curtiss wright', 'curtiss-wright', inplace=True)\n",
        "ntsb_2['eng_mfgr'].mask(ntsb_2['eng_mfgr'] == 'curtiswright', 'curtiss-wright', inplace=True)\n",
        "ntsb_2['eng_mfgr'].mask(ntsb_2['eng_mfgr'] == 'custom', np.nan, inplace=True)\n",
        "ntsb_2['eng_mfgr'].mask(ntsb_2['eng_mfgr'] == 'cuyana', 'cuyuna', inplace=True)\n",
        "ntsb_2['eng_mfgr'].mask(ntsb_2['eng_mfgr'] == 'dehav eng', 'de havilland', inplace=True)\n",
        "ntsb_2['eng_mfgr'].mask(ntsb_2['eng_mfgr'] == 'dehavilland', 'de havilland', inplace=True)\n",
        "ntsb_2['eng_mfgr'].mask(ntsb_2['eng_mfgr'] == 'detr. diesel', 'detroit diesel', inplace=True)\n",
        "ntsb_2['eng_mfgr'].mask(ntsb_2['eng_mfgr'] == 'diamond', 'diamond aircraft', inplace=True)\n",
        "ntsb_2['eng_mfgr'].mask(ntsb_2['eng_mfgr'] == 'diemech', 'diemech turbines', inplace=True)\n",
        "ntsb_2['secondary_eng_mfgr'] = np.where(ntsb_2['eng_mfgr'] == 'diemech (walter)', 'walter aircraft engines', '')\n",
        "ntsb_2['eng_mfgr'].mask(ntsb_2['eng_mfgr'] == 'diemech (walter)', 'diemech turbines', inplace=True)\n",
        "ntsb_2['eng_mfgr'].mask(ntsb_2['eng_mfgr'] == 'diemech turbine', 'diemech turbines', inplace=True)\n",
        "ntsb_2['eng_mfgr'].mask(ntsb_2['eng_mfgr'] == 'diemech turbines inc', 'diemech turbines', inplace=True)\n",
        "ntsb_2['eng_mfgr'].mask(ntsb_2['eng_mfgr'] == 'eci', 'engine components, inc.', inplace=True)\n",
        "ntsb_2['eng_mfgr'].mask(ntsb_2['eng_mfgr'] == 'eci titan', 'engine components, inc.', inplace=True)\n",
        "ntsb_2['eng_mfgr'].mask(ntsb_2['eng_mfgr'] == 'eci/titan', 'engine components, inc.', inplace=True)\n",
        "ntsb_2['eng_mfgr'].mask(ntsb_2['eng_mfgr'] == 'eggenfellner', 'eggenfellner aircraft, inc.', inplace=True)\n",
        "ntsb_2['secondary_eng_mfgr'] = np.where(ntsb_2['eng_mfgr'] == 'eggenfellner subaru', 'subaru', '')\n",
        "ntsb_2['eng_mfgr'].mask(ntsb_2['eng_mfgr'] == 'eggenfellner subaru', 'eggenfellner aircraft, inc.', inplace=True)\n",
        "ntsb_2['eng_mfgr'].mask(ntsb_2['eng_mfgr'] == 'elizalde, s.a.', 'elizalde', inplace=True)\n",
        "ntsb_2['eng_mfgr'].mask(ntsb_2['eng_mfgr'] == 'engine components internationa', 'engine components international', inplace=True)\n",
        "ntsb_2['eng_mfgr'].mask(ntsb_2['eng_mfgr'] == 'engineair', 'engineair power systems', inplace=True)\n",
        "ntsb_2['eng_mfgr'].mask(ntsb_2['eng_mfgr'] == 'exp', 'experimental', inplace=True)\n",
        "ntsb_2['eng_mfgr'].mask(ntsb_2['eng_mfgr'] == 'experimental tcm', 'experimental', inplace=True)\n",
        "ntsb_2['eng_mfgr'].mask(ntsb_2['eng_mfgr'] == 'falconer', 'ryan falconer racing engines', inplace=True)\n",
        "ntsb_2['eng_mfgr'].mask(ntsb_2['eng_mfgr'] == 'falconer eng.', 'ryan falconer racing engines', inplace=True)\n",
        "ntsb_2['eng_mfgr'].mask(ntsb_2['eng_mfgr'] == 'frankin', 'franklin aircraft engines', inplace=True)\n",
        "ntsb_2['eng_mfgr'].mask(ntsb_2['eng_mfgr'] == 'franklin', 'franklin aircraft engines', inplace=True)\n",
        "ntsb_2['eng_mfgr'].mask(ntsb_2['eng_mfgr'] == 'franklyn', 'franklin aircraft engines', inplace=True)\n",
        "ntsb_2['eng_mfgr'].mask(ntsb_2['eng_mfgr'] == 'frnklin', 'franklin aircraft engines', inplace=True)\n",
        "ntsb_2['eng_mfgr'].mask(ntsb_2['eng_mfgr'] == 'g e', 'general electric', inplace=True)\n",
        "ntsb_2['eng_mfgr'].mask(ntsb_2['eng_mfgr'] == 'garett', 'garret', inplace=True)\n",
        "ntsb_2['secondary_eng_mfgr'] = np.where(ntsb_2['eng_mfgr'] == 'garret airesearch', 'airesearch', '')\n",
        "ntsb_2['eng_mfgr'].mask(ntsb_2['eng_mfgr'] == 'garret airesearch', 'garret', inplace=True)\n",
        "ntsb_2['secondary_eng_mfgr'] = np.where(ntsb_2['eng_mfgr'] == 'garret/honeywell', 'honeywell aerospace', '')\n",
        "ntsb_2['eng_mfgr'].mask(ntsb_2['eng_mfgr'] == 'garret/honeywell', 'garret', inplace=True)\n",
        "ntsb_2['eng_mfgr'].mask(ntsb_2['eng_mfgr'] == 'garrett', 'garret', inplace=True)\n",
        "ntsb_2['secondary_eng_mfgr'] = np.where(ntsb_2['eng_mfgr'] == 'garrett airesearch', 'airesearch', '')\n",
        "ntsb_2['eng_mfgr'].mask(ntsb_2['eng_mfgr'] == 'garrett airesearch', 'garret', inplace=True)\n",
        "ntsb_2['secondary_eng_mfgr'] = np.where(ntsb_2['eng_mfgr'] == 'garrett research', 'airesearch', '')\n",
        "ntsb_2['eng_mfgr'].mask(ntsb_2['eng_mfgr'] == 'garrett research', 'garret', inplace=True)\n",
        "ntsb_2['secondary_eng_mfgr'] = np.where(ntsb_2['eng_mfgr'] == 'garrett-airesearch', 'airesearch', '')\n",
        "ntsb_2['eng_mfgr'].mask(ntsb_2['eng_mfgr'] == 'garrett-airesearch', 'garret', inplace=True)\n",
        "ntsb_2['secondary_eng_mfgr'] = np.where(ntsb_2['eng_mfgr'] == 'garrett/airesearch', 'airesearch', '')\n",
        "ntsb_2['eng_mfgr'].mask(ntsb_2['eng_mfgr'] == 'garrett/airesearch', 'garret', inplace=True)\n",
        "ntsb_2['secondary_eng_mfgr'] = np.where(ntsb_2['eng_mfgr'] == 'garrett/honeywell', 'honeywell aerospace', '')\n",
        "ntsb_2['eng_mfgr'].mask(ntsb_2['eng_mfgr'] == 'garrett/honeywell', 'garret', inplace=True)\n",
        "ntsb_2['eng_mfgr'].mask(ntsb_2['eng_mfgr'] == 'ge', 'general electric', inplace=True)\n",
        "ntsb_2['eng_mfgr'].mask(ntsb_2['eng_mfgr'] == 'ge aviation czech', 'general electric', inplace=True)\n",
        "ntsb_2['eng_mfgr'].mask(ntsb_2['eng_mfgr'] == 'gen.electric', 'general electric', inplace=True)\n",
        "ntsb_2['eng_mfgr'].mask(ntsb_2['eng_mfgr'] == 'general elect', 'general electric', inplace=True)\n",
        "ntsb_2['eng_mfgr'].mask(ntsb_2['eng_mfgr'] == 'general electrics', 'general electric', inplace=True)\n",
        "ntsb_2['eng_mfgr'].mask(ntsb_2['eng_mfgr'] == 'geo/metro', 'geo metro', inplace=True)\n",
        "ntsb_2['eng_mfgr'].mask(ntsb_2['eng_mfgr'] == 'gipsy major', 'de havilland', inplace=True)\n",
        "ntsb_2['eng_mfgr'].mask(ntsb_2['eng_mfgr'] == 'gm', 'general motors', inplace=True)\n",
        "ntsb_2['eng_mfgr'].mask(ntsb_2['eng_mfgr'] == 'gm corvair', 'general motors', inplace=True)\n",
        "ntsb_2['eng_mfgr'].mask(ntsb_2['eng_mfgr'] == 'great plains', 'great plains aircraft supply company', inplace=True)\n",
        "ntsb_2['secondary_eng_mfgr'] = np.where(ntsb_2['eng_mfgr'] == 'great plains/volkswagen', 'volkswagen', '')\n",
        "ntsb_2['eng_mfgr'].mask(ntsb_2['eng_mfgr'] == 'great plains/volkswagen', 'great plains aircraft supply company', inplace=True)\n",
        "ntsb_2['eng_mfgr'].mask(ntsb_2['eng_mfgr'] == 'great plans aircraft', 'great plains aircraft supply company', inplace=True)\n",
        "ntsb_2['eng_mfgr'].mask(ntsb_2['eng_mfgr'] == 'greatplains', 'great plains aircraft supply company', inplace=True)\n",
        "ntsb_2['eng_mfgr'].mask(ntsb_2['eng_mfgr'] == 'grob', 'grob aircraft', inplace=True)\n",
        "ntsb_2['eng_mfgr'].mask(ntsb_2['eng_mfgr'] == 'gypsey major', 'de havilland', inplace=True)\n",
        "ntsb_2['eng_mfgr'].mask(ntsb_2['eng_mfgr'] == 'gypsy major', 'de havilland', inplace=True)\n",
        "ntsb_2['eng_mfgr'].mask(ntsb_2['eng_mfgr'] == 'gipsy major', 'de havilland', inplace=True)\n",
        "ntsb_2['eng_mfgr'].mask(ntsb_2['eng_mfgr'] == 'gypsy minor', 'de havilland', inplace=True)\n",
        "ntsb_2['eng_mfgr'].mask(ntsb_2['eng_mfgr'] == 'gypsy moth', 'de havilland', inplace=True)\n",
        "ntsb_2['eng_mfgr'].mask(ntsb_2['eng_mfgr'] == 'hacker a200', 'hacker', inplace=True)\n",
        "ntsb_2['secondary_eng_mfgr'] = np.where(ntsb_2['eng_mfgr'] == 'hapi vw', 'volkswagen', '')\n",
        "ntsb_2['eng_mfgr'].mask(ntsb_2['eng_mfgr'] == 'hapi vw', 'hapi', inplace=True)\n",
        "ntsb_2['eng_mfgr'].mask(ntsb_2['eng_mfgr'] == 'heath avn', 'heath airplane company', inplace=True)\n",
        "ntsb_2['eng_mfgr'].mask(ntsb_2['eng_mfgr'] == 'hirsh', 'hirth engines', inplace=True)\n",
        "ntsb_2['eng_mfgr'].mask(ntsb_2['eng_mfgr'] == 'hirth', 'hirth engines', inplace=True)\n",
        "ntsb_2['eng_mfgr'].mask(ntsb_2['eng_mfgr'] == 'hirthmotoren', 'hirth engines', inplace=True)\n",
        "ntsb_2['eng_mfgr'].mask(ntsb_2['eng_mfgr'] == 'hirtmotoren', 'hirth engines', inplace=True)\n",
        "ntsb_2['eng_mfgr'].mask(ntsb_2['eng_mfgr'] == 'hks', 'hks aviation engines', inplace=True)\n",
        "ntsb_2['eng_mfgr'].mask(ntsb_2['eng_mfgr'] == 'hks aviation', 'hks aviation engines', inplace=True)\n",
        "ntsb_2['eng_mfgr'].mask(ntsb_2['eng_mfgr'] == 'honeywell', 'honeywell aerospace', inplace=True)\n",
        "ntsb_2['secondary_eng_mfgr'] = np.where(ntsb_2['eng_mfgr'] == 'honeywell - garrett', 'garret', '')\n",
        "ntsb_2['eng_mfgr'].mask(ntsb_2['eng_mfgr'] == 'honeywell - garrett', 'honeywell aerospace', inplace=True)\n",
        "ntsb_2['secondary_eng_mfgr'] = np.where(ntsb_2['eng_mfgr'] == 'honeywell / airesearch', 'airesearch', '')\n",
        "ntsb_2['eng_mfgr'].mask(ntsb_2['eng_mfgr'] == 'honeywell / airesearch', 'honeywell aerospace', inplace=True)\n",
        "ntsb_2['secondary_eng_mfgr'] = np.where(ntsb_2['eng_mfgr'] == 'honeywell garrett', 'garret', '')\n",
        "ntsb_2['eng_mfgr'].mask(ntsb_2['eng_mfgr'] == 'honeywell garrett', 'honeywell aerospace', inplace=True)\n",
        "ntsb_2['secondary_eng_mfgr'] = np.where(ntsb_2['eng_mfgr'] == 'honeywell/garrett', 'garret', '')\n",
        "ntsb_2['eng_mfgr'].mask(ntsb_2['eng_mfgr'] == 'honeywell/garrett', 'honeywell aerospace', inplace=True)\n",
        "ntsb_2['secondary_eng_mfgr'] = np.where(ntsb_2['eng_mfgr'] == 'honeywell/lyc', 'lycoming', '')\n",
        "ntsb_2['eng_mfgr'].mask(ntsb_2['eng_mfgr'] == 'honeywell/lyc', 'honeywell aerospace', inplace=True)\n",
        "ntsb_2['eng_mfgr'].mask(ntsb_2['eng_mfgr'] == 'housia', 'housai', inplace=True)\n",
        "ntsb_2['eng_mfgr'].mask(ntsb_2['eng_mfgr'] == 'hummel', 'hummel engines', inplace=True)\n",
        "ntsb_2['eng_mfgr'].mask(ntsb_2['eng_mfgr'] == 'huosai', 'housai', inplace=True)\n",
        "ntsb_2['eng_mfgr'].mask(ntsb_2['eng_mfgr'] == 'inntec', 'innovator technologies', inplace=True)\n",
        "ntsb_2['eng_mfgr'].mask(ntsb_2['eng_mfgr'] == 'int harvester', 'solar aircraft', inplace=True)\n",
        "ntsb_2['eng_mfgr'].mask(ntsb_2['eng_mfgr'] == 'ivchenco', 'ivchenko okb', inplace=True)\n",
        "ntsb_2['eng_mfgr'].mask(ntsb_2['eng_mfgr'] == 'ivchenko', 'ivchenko okb', inplace=True)\n",
        "ntsb_2['eng_mfgr'].mask(ntsb_2['eng_mfgr'] == 'jabaru', 'jabiru aircraft', inplace=True)\n",
        "ntsb_2['eng_mfgr'].mask(ntsb_2['eng_mfgr'] == 'jabiru', 'jabiru aircraft', inplace=True)\n",
        "ntsb_2['eng_mfgr'].mask(ntsb_2['eng_mfgr'] == 'jpx', 'jpx aircraft engines', inplace=True)\n",
        "ntsb_2['eng_mfgr'].mask(ntsb_2['eng_mfgr'] == 'jpx aircraft engines', 'jpx aircraft engines', inplace=True)\n",
        "ntsb_2['eng_mfgr'].mask(ntsb_2['eng_mfgr'] == 'jpx-pul', 'jpx aircraft engines', inplace=True)\n",
        "ntsb_2['eng_mfgr'].mask(ntsb_2['eng_mfgr'] == 'kfm', 'italian american motor engineering', inplace=True)\n",
        "ntsb_2['eng_mfgr'].mask(ntsb_2['eng_mfgr'] == 'kinner', 'kinner airplane & motor corporation', inplace=True)\n",
        "ntsb_2['eng_mfgr'].mask(ntsb_2['eng_mfgr'] == 'kinner co', 'kinner airplane & motor corporation', inplace=True)\n",
        "ntsb_2['eng_mfgr'].mask(ntsb_2['eng_mfgr'] == 'le rhone', 'société des moteurs le rhôn', inplace=True)\n",
        "ntsb_2['eng_mfgr'].mask(ntsb_2['eng_mfgr'] == 'lerhone', 'société des moteurs le rhôn', inplace=True)\n",
        "ntsb_2['eng_mfgr'].mask(ntsb_2['eng_mfgr'] == 'limbach', 'limbach', inplace=True)\n",
        "ntsb_2['eng_mfgr'].mask(ntsb_2['eng_mfgr'] == 'limbeck', 'limbach', inplace=True)\n",
        "ntsb_2['eng_mfgr'].mask(ntsb_2['eng_mfgr'] == 'lom', 'lom praha', inplace=True)\n",
        "ntsb_2['eng_mfgr'].mask(ntsb_2['eng_mfgr'] == 'ly-con', 'lycoming', inplace=True)\n",
        "ntsb_2['eng_mfgr'].mask(ntsb_2['eng_mfgr'] == 'lyc', 'lycoming', inplace=True)\n",
        "ntsb_2['secondary_eng_mfgr'] = np.where(ntsb_2['eng_mfgr'] == 'lyco/wright', 'curtiss-wright', '')\n",
        "ntsb_2['eng_mfgr'].mask(ntsb_2['eng_mfgr'] == 'lyco/wright', 'lycoming', inplace=True)\n",
        "ntsb_2['eng_mfgr'].mask(ntsb_2['eng_mfgr'] == 'lycoiming', 'lycoming', inplace=True)\n",
        "ntsb_2['eng_mfgr'].mask(ntsb_2['eng_mfgr'] == 'lycom', 'lycoming', inplace=True)\n",
        "ntsb_2['eng_mfgr'].mask(ntsb_2['eng_mfgr'] == 'lycomimg', 'lycoming', inplace=True)\n",
        "ntsb_2['eng_mfgr'].mask(ntsb_2['eng_mfgr'] == 'lycomin', 'lycoming', inplace=True)\n",
        "ntsb_2['secondary_eng_mfgr'] = np.where(ntsb_2['eng_mfgr'] == 'lycoming (curtis-wright)', 'curtiss-wright', '')\n",
        "ntsb_2['eng_mfgr'].mask(ntsb_2['eng_mfgr'] == 'lycoming (curtis-wright)', 'lycoming', inplace=True)\n",
        "ntsb_2['eng_mfgr'].mask(ntsb_2['eng_mfgr'] == 'lycoming (modified)', 'lycoming', inplace=True)\n",
        "ntsb_2['eng_mfgr'].mask(ntsb_2['eng_mfgr'] == 'lycoming engines', 'lycoming', inplace=True)\n",
        "ntsb_2['eng_mfgr'].mask(ntsb_2['eng_mfgr'] == 'lycoming o-360-a1a', 'lycoming', inplace=True)\n",
        "ntsb_2['secondary_eng_mfgr'] = np.where(ntsb_2['eng_mfgr'] == 'lycoming-bmw', 'bmw', '')\n",
        "ntsb_2['eng_mfgr'].mask(ntsb_2['eng_mfgr'] == 'lycoming-bmw', 'lycoming', inplace=True)\n",
        "ntsb_2['secondary_eng_mfgr'] = np.where(ntsb_2['eng_mfgr'] == 'lycoming/honeywell', 'honeywell aerospace', '')\n",
        "ntsb_2['eng_mfgr'].mask(ntsb_2['eng_mfgr'] == 'lycoming/honeywell', 'lycoming', inplace=True)\n",
        "ntsb_2['eng_mfgr'].mask(ntsb_2['eng_mfgr'] == 'lycomming', 'lycoming', inplace=True)\n",
        "ntsb_2['eng_mfgr'].mask(ntsb_2['eng_mfgr'] == 'lycomong', 'lycoming', inplace=True)\n",
        "ntsb_2['eng_mfgr'].mask(ntsb_2['eng_mfgr'] == 'lycon', 'lycoming', inplace=True)\n",
        "ntsb_2['eng_mfgr'].mask(ntsb_2['eng_mfgr'] == 'mattittuck', 'teledyne turbine engines', inplace=True)\n",
        "ntsb_2['eng_mfgr'].mask(ntsb_2['eng_mfgr'] == 'mattituck', 'teledyne turbine engines', inplace=True)\n",
        "ntsb_2['secondary_eng_mfgr'] = np.where(ntsb_2['eng_mfgr'] == 'mazda/atkins', 'atkins', '')\n",
        "ntsb_2['eng_mfgr'].mask(ntsb_2['eng_mfgr'] == 'mazda/atkins', 'mazda', inplace=True)\n",
        "ntsb_2['eng_mfgr'].mask(ntsb_2['eng_mfgr'] == 'mcculloch', 'mcculloch aircraft corporation', inplace=True)\n",
        "ntsb_2['eng_mfgr'].mask(ntsb_2['eng_mfgr'] == 'mccullock', 'mcculloch aircraft corporation', inplace=True)\n",
        "ntsb_2['eng_mfgr'].mask(ntsb_2['eng_mfgr'] == 'mccullough', 'mcculloch aircraft corporation', inplace=True)\n",
        "ntsb_2['eng_mfgr'].mask(ntsb_2['eng_mfgr'] == 'mid-west', 'jet midwest, inc.', inplace=True)\n",
        "ntsb_2['eng_mfgr'].mask(ntsb_2['eng_mfgr'] == 'mid-west engines', 'jet midwest, inc.', inplace=True)\n",
        "ntsb_2['eng_mfgr'].mask(ntsb_2['eng_mfgr'] == 'morris motors', 'morris engines limited', inplace=True)\n",
        "ntsb_2['eng_mfgr'].mask(ntsb_2['eng_mfgr'] == 'motori zanzoterra', 'zanzottera technologies', inplace=True)\n",
        "ntsb_2['eng_mfgr'].mask(ntsb_2['eng_mfgr'] == 'mz', 'zanzottera technologies', inplace=True)\n",
        "ntsb_2['eng_mfgr'].mask(ntsb_2['eng_mfgr'] == 'national flight service', 'national flight services, inc.', inplace=True)\n",
        "ntsb_2['eng_mfgr'].mask(ntsb_2['eng_mfgr'] == 'national flight service', 'national flight services, inc.', inplace=True)\n",
        "ntsb_2['eng_mfgr'].mask(ntsb_2['eng_mfgr'] == 'national flight services inc', 'national flight services, inc.', inplace=True)\n",
        "ntsb_2['eng_mfgr'].mask(ntsb_2['eng_mfgr'] == 'none', np.nan, inplace=True)\n",
        "ntsb_2['eng_mfgr'].mask(ntsb_2['eng_mfgr'] == 'northrop corp', 'northrop corporation ', inplace=True)\n",
        "ntsb_2['eng_mfgr'].mask(ntsb_2['eng_mfgr'] == 'nsi', 'nsi propulsion systems, inc.', inplace=True)\n",
        "ntsb_2['eng_mfgr'].mask(ntsb_2['eng_mfgr'] == 'nsi aero', 'nsi propulsion systems, inc.', inplace=True)\n",
        "ntsb_2['eng_mfgr'].mask(ntsb_2['eng_mfgr'] == 'o-360-a4k', 'lycoming', inplace=True)\n",
        "ntsb_2['eng_mfgr'].mask(ntsb_2['eng_mfgr'] == 'o-470l', 'teledyne continental motors', inplace=True)\n",
        "ntsb_2['eng_mfgr'].mask(ntsb_2['eng_mfgr'] == 'p & w', 'pratt & whitney', inplace=True)\n",
        "ntsb_2['eng_mfgr'].mask(ntsb_2['eng_mfgr'] == 'p & w', 'pratt & whitney', inplace=True)\n",
        "ntsb_2['eng_mfgr'].mask(ntsb_2['eng_mfgr'] == 'p & w canada', 'pratt & whitney canada', inplace=True)\n",
        "ntsb_2['eng_mfgr'].mask(ntsb_2['eng_mfgr'] == 'p. ponk', 'p.ponk', inplace=True)\n",
        "ntsb_2['eng_mfgr'].mask(ntsb_2['eng_mfgr'] == 'p/w canada', 'pratt & whitney canada', inplace=True)\n",
        "ntsb_2['eng_mfgr'].mask(ntsb_2['eng_mfgr'] == 'p&w', 'pratt & whitney', inplace=True)\n",
        "ntsb_2['eng_mfgr'].mask(ntsb_2['eng_mfgr'] == 'p&w canada', 'pratt & whitney canada', inplace=True)\n",
        "ntsb_2['eng_mfgr'].mask(ntsb_2['eng_mfgr'] == 'p&wc', 'pratt & whitney canada', inplace=True)\n",
        "ntsb_2['eng_mfgr'].mask(ntsb_2['eng_mfgr'] == 'packard', 'packard motors', inplace=True)\n",
        "ntsb_2['secondary_eng_mfgr'] = np.where(ntsb_2['eng_mfgr'] == 'packard r.r.', 'rolls-royce', '')\n",
        "ntsb_2['eng_mfgr'].mask(ntsb_2['eng_mfgr'] == 'packard r.r.', 'packard motors', inplace=True)\n",
        "ntsb_2['secondary_eng_mfgr'] = np.where(ntsb_2['eng_mfgr'] == 'packard rolls royce', 'rolls-royce', '')\n",
        "ntsb_2['eng_mfgr'].mask(ntsb_2['eng_mfgr'] == 'packard rolls royce', 'packard motors', inplace=True)\n",
        "ntsb_2['eng_mfgr'].mask(ntsb_2['eng_mfgr'] == 'patt &whitney canada', 'pratt & whitney canada', inplace=True)\n",
        "ntsb_2['eng_mfgr'].mask(ntsb_2['eng_mfgr'] == 'pbs', 'pbs aerospace', inplace=True)\n",
        "ntsb_2['eng_mfgr'].mask(ntsb_2['eng_mfgr'] == 'penn yann aero', 'penn yan aero', inplace=True)\n",
        "ntsb_2['eng_mfgr'].mask(ntsb_2['eng_mfgr'] == 'penn-yan', 'penn yan aero', inplace=True)\n",
        "ntsb_2['eng_mfgr'].mask(ntsb_2['eng_mfgr'] == 'pezatel', 'pezetel', inplace=True)\n",
        "ntsb_2['secondary_eng_mfgr'] = np.where(ntsb_2['eng_mfgr'] == 'pkrd-roll', 'rolls-royce', '')\n",
        "ntsb_2['eng_mfgr'].mask(ntsb_2['eng_mfgr'] == 'pkrd-roll', 'packard motors', inplace=True)\n",
        "ntsb_2['secondary_eng_mfgr'] = np.where(ntsb_2['eng_mfgr'] == 'pkrd-roll royce', 'rolls-royce', '')\n",
        "ntsb_2['eng_mfgr'].mask(ntsb_2['eng_mfgr'] == 'pkrd-roll royce', 'pkrd-roll royce', inplace=True)\n",
        "ntsb_2['eng_mfgr'].mask(ntsb_2['eng_mfgr'] == 'polaris', 'walter aircraft engines', inplace=True)\n",
        "ntsb_2['eng_mfgr'].mask(ntsb_2['eng_mfgr'] == 'prat and whitney aircraft', 'pratt & whitney', inplace=True)\n",
        "ntsb_2['eng_mfgr'].mask(ntsb_2['eng_mfgr'] == 'pratt & whitney - canada', 'pratt & whitney canada', inplace=True)\n",
        "ntsb_2['eng_mfgr'].mask(ntsb_2['eng_mfgr'] == 'pratt & whitney aircraft of ca', 'pratt & whitney canada', inplace=True)\n",
        "ntsb_2['eng_mfgr'].mask(ntsb_2['eng_mfgr'] == 'pratt & whitney of canada', 'pratt & whitney canada', inplace=True)\n",
        "ntsb_2['eng_mfgr'].mask(ntsb_2['eng_mfgr'] == 'pratt & whitney-canada', 'pratt & whitney canada', inplace=True)\n",
        "ntsb_2['eng_mfgr'].mask(ntsb_2['eng_mfgr'] == 'prat and whitney aircraft', 'pratt & whitney', inplace=True)\n",
        "ntsb_2['eng_mfgr'].mask(ntsb_2['eng_mfgr'] == 'pratt & witney', 'pratt & whitney', inplace=True)\n",
        "ntsb_2['eng_mfgr'].mask(ntsb_2['eng_mfgr'] == 'pratt &whitney canada', 'pratt & whitney canada', inplace=True)\n",
        "ntsb_2['eng_mfgr'].mask(ntsb_2['eng_mfgr'] == 'pratt and whitnety canada', 'pratt & whitney canada', inplace=True)\n",
        "ntsb_2['eng_mfgr'].mask(ntsb_2['eng_mfgr'] == 'pratt and whitney', 'pratt & whitney', inplace=True)\n",
        "ntsb_2['eng_mfgr'].mask(ntsb_2['eng_mfgr'] == 'pratt and whitney - canada', 'pratt & whitney canada', inplace=True)\n",
        "ntsb_2['eng_mfgr'].mask(ntsb_2['eng_mfgr'] == 'pratt and whitney canada', 'pratt & whitney canada', inplace=True)\n",
        "ntsb_2['eng_mfgr'].mask(ntsb_2['eng_mfgr'] == 'pratt and whitney of canada', 'pratt & whitney canada', inplace=True)\n",
        "ntsb_2['eng_mfgr'].mask(ntsb_2['eng_mfgr'] == 'pratt whitney', 'pratt & whitney', inplace=True)\n",
        "ntsb_2['eng_mfgr'].mask(ntsb_2['eng_mfgr'] == 'pratt whitney canada', 'pratt & whitney canada', inplace=True)\n",
        "ntsb_2['eng_mfgr'].mask(ntsb_2['eng_mfgr'] == 'pratt-whitney', 'pratt & whitney', inplace=True)\n",
        "ntsb_2['eng_mfgr'].mask(ntsb_2['eng_mfgr'] == 'pratt/whitney', 'pratt & whitney', inplace=True)\n",
        "ntsb_2['eng_mfgr'].mask(ntsb_2['eng_mfgr'] == 'pratt& whitney', 'pratt & whitney', inplace=True)\n",
        "ntsb_2['eng_mfgr'].mask(ntsb_2['eng_mfgr'] == 'pratt&whitney', 'pratt & whitney', inplace=True)\n",
        "ntsb_2['eng_mfgr'].mask(ntsb_2['eng_mfgr'] == 'pratt&whitney-canada', 'pratt & whitney canada', inplace=True)\n",
        "ntsb_2['eng_mfgr'].mask(ntsb_2['eng_mfgr'] == 'pw&c', 'pratt & whitney canada', inplace=True)\n",
        "ntsb_2['eng_mfgr'].mask(ntsb_2['eng_mfgr'] == 'pwc', 'pratt & whitney canada', inplace=True)\n",
        "ntsb_2['eng_mfgr'].mask(ntsb_2['eng_mfgr'] == 'pzl mielec', 'pzl', inplace=True)\n",
        "ntsb_2['eng_mfgr'].mask(ntsb_2['eng_mfgr'] == 'pzl wsk', 'pzl', inplace=True)\n",
        "ntsb_2['eng_mfgr'].mask(ntsb_2['eng_mfgr'] == 'pzl-kalisz', 'pzl', inplace=True)\n",
        "ntsb_2['eng_mfgr'].mask(ntsb_2['eng_mfgr'] == 'pzl-okecie', 'pzl', inplace=True)\n",
        "ntsb_2['eng_mfgr'].mask(ntsb_2['eng_mfgr'] == 'pzl-rzeszow', 'pzl', inplace=True)\n",
        "ntsb_2['eng_mfgr'].mask(ntsb_2['eng_mfgr'] == 'pzl-warszana', 'pzl', inplace=True)\n",
        "ntsb_2['eng_mfgr'].mask(ntsb_2['eng_mfgr'] == 'ram', 'ram racing engines, ltd.', inplace=True)\n",
        "ntsb_2['eng_mfgr'].mask(ntsb_2['eng_mfgr'] == 'ram racing engines ltd', 'ram racing engines, ltd.', inplace=True)\n",
        "ntsb_2['eng_mfgr'].mask(ntsb_2['eng_mfgr'] == 'rev.', 'revmaster aviation', inplace=True)\n",
        "ntsb_2['eng_mfgr'].mask(ntsb_2['eng_mfgr'] == 'revmaster', 'revmaster aviation', inplace=True)\n",
        "ntsb_2['secondary_eng_mfgr'] = np.where(ntsb_2['eng_mfgr'] == 'rogers-lycoming', 'lycoming', '')\n",
        "ntsb_2['eng_mfgr'].mask(ntsb_2['eng_mfgr'] == 'rogers-lycoming', 'rogers', inplace=True)\n",
        "ntsb_2['eng_mfgr'].mask(ntsb_2['eng_mfgr'] == 'rolls royce', 'rolls-royce', inplace=True)\n",
        "ntsb_2['secondary_eng_mfgr'] = np.where(ntsb_2['eng_mfgr'] == 'rolls royce (allison)', 'allison', '')\n",
        "ntsb_2['eng_mfgr'].mask(ntsb_2['eng_mfgr'] == 'rolls royce (allison)', 'rolls-royce', inplace=True)\n",
        "ntsb_2['secondary_eng_mfgr'] = np.where(ntsb_2['eng_mfgr'] == 'rolls royce / allison', 'allison', '')\n",
        "ntsb_2['eng_mfgr'].mask(ntsb_2['eng_mfgr'] == 'rolls royce / allison', 'rolls-royce', inplace=True)\n",
        "ntsb_2['secondary_eng_mfgr'] = np.where(ntsb_2['eng_mfgr'] == 'rolls royce allison', 'allison', '')\n",
        "ntsb_2['eng_mfgr'].mask(ntsb_2['eng_mfgr'] == 'rolls royce allison', 'rolls-royce', inplace=True)\n",
        "ntsb_2['secondary_eng_mfgr'] = np.where(ntsb_2['eng_mfgr'] == 'rolls royce-allison', 'allison', '')\n",
        "ntsb_2['eng_mfgr'].mask(ntsb_2['eng_mfgr'] == 'rolls royce-allison', 'rolls-royce', inplace=True)\n",
        "ntsb_2['secondary_eng_mfgr'] = np.where(ntsb_2['eng_mfgr'] == 'rolls royce/ allison', 'allison', '')\n",
        "ntsb_2['eng_mfgr'].mask(ntsb_2['eng_mfgr'] == 'rolls royce/ allison', 'rolls-royce', inplace=True)\n",
        "ntsb_2['secondary_eng_mfgr'] = np.where(ntsb_2['eng_mfgr'] == 'rolls royce/allison', 'allison', '')\n",
        "ntsb_2['eng_mfgr'].mask(ntsb_2['eng_mfgr'] == 'rolls royce/allison', 'rolls-royce', inplace=True)\n",
        "ntsb_2['eng_mfgr'].mask(ntsb_2['eng_mfgr'] == 'rolls-royc', 'rolls-royce', inplace=True)\n",
        "ntsb_2['secondary_eng_mfgr'] = np.where(ntsb_2['eng_mfgr'] == 'rolls-royce allison', 'allison', '')\n",
        "ntsb_2['eng_mfgr'].mask(ntsb_2['eng_mfgr'] == 'rolls-royce allison', 'rolls-royce', inplace=True)\n",
        "ntsb_2['eng_mfgr'].mask(ntsb_2['eng_mfgr'] == 'rolls-royce corporation', 'rolls-royce', inplace=True)\n",
        "ntsb_2['eng_mfgr'].mask(ntsb_2['eng_mfgr'] == 'rolls-royce deutschland', 'rolls-royce', inplace=True)\n",
        "ntsb_2['secondary_eng_mfgr'] = np.where(ntsb_2['eng_mfgr'] == 'rolls-royce turbomeca', 'safran helicopter engines', '')\n",
        "ntsb_2['eng_mfgr'].mask(ntsb_2['eng_mfgr'] == 'rolls-royce turbomeca', 'rolls-royce', inplace=True)\n",
        "ntsb_2['secondary_eng_mfgr'] = np.where(ntsb_2['eng_mfgr'] == 'rolls-royce(allison)', 'allison', '')\n",
        "ntsb_2['eng_mfgr'].mask(ntsb_2['eng_mfgr'] == 'rolls-royce(allison)', 'rolls-royce', inplace=True)\n",
        "ntsb_2['eng_mfgr'].mask(ntsb_2['eng_mfgr'] == 'rotax', 'brp-rotax', inplace=True)\n",
        "ntsb_2['eng_mfgr'].mask(ntsb_2['eng_mfgr'] == 'rotax gmbh', 'brp-rotax', inplace=True)\n",
        "ntsb_2['eng_mfgr'].mask(ntsb_2['eng_mfgr'] == 'rotax gmbh & co.', 'brp-rotax', inplace=True)\n",
        "ntsb_2['eng_mfgr'].mask(ntsb_2['eng_mfgr'] == 'rotec', 'brp-rotax', inplace=True)\n",
        "ntsb_2['eng_mfgr'].mask(ntsb_2['eng_mfgr'] == 'rotex', 'brp-rotax', inplace=True)\n",
        "ntsb_2['eng_mfgr'].mask(ntsb_2['eng_mfgr'] == 'rotortway', 'rotorway international, inc.', inplace=True)\n",
        "ntsb_2['eng_mfgr'].mask(ntsb_2['eng_mfgr'] == 'rotorway', 'rotorway international, inc.', inplace=True)\n",
        "ntsb_2['eng_mfgr'].mask(ntsb_2['eng_mfgr'] == 'rotorway international', 'rotorway international, inc.', inplace=True)\n",
        "ntsb_2['eng_mfgr'].mask(ntsb_2['eng_mfgr'] == 'rw', 'rotorway international, inc.', inplace=True)\n",
        "ntsb_2['eng_mfgr'].mask(ntsb_2['eng_mfgr'] == 'ryan', 'ryan falconer racing engines', inplace=True)\n",
        "ntsb_2['eng_mfgr'].mask(ntsb_2['eng_mfgr'] == 'safran (formerly turbomeca)', 'safran helicopter engines', inplace=True)\n",
        "ntsb_2['eng_mfgr'].mask(ntsb_2['eng_mfgr'] == 'shvetsoc', 'shvetsov', inplace=True)\n",
        "ntsb_2['eng_mfgr'].mask(ntsb_2['eng_mfgr'] == 'solair', 'solair group, llc', inplace=True)\n",
        "ntsb_2['secondary_eng_mfgr'] = np.where(ntsb_2['eng_mfgr'] == 'subaru - stratus built', 'stratus 2000, inc.', '')\n",
        "ntsb_2['eng_mfgr'].mask(ntsb_2['eng_mfgr'] == 'subaru - stratus built', 'subaru', inplace=True)\n",
        "ntsb_2['secondary_eng_mfgr'] = np.where(ntsb_2['eng_mfgr'] == 'subaru/eggenfellner', 'eggenfellner aircraft, llc', '')\n",
        "ntsb_2['eng_mfgr'].mask(ntsb_2['eng_mfgr'] == 'subaru/eggenfellner', 'subaru', inplace=True)\n",
        "ntsb_2['eng_mfgr'].mask(ntsb_2['eng_mfgr'] == 'subuaru', 'subaru', inplace=True)\n",
        "ntsb_2['eng_mfgr'].mask(ntsb_2['eng_mfgr'] == 'suburu', 'subaru', inplace=True)\n",
        "ntsb_2['eng_mfgr'].mask(ntsb_2['eng_mfgr'] == 'superior', 'superior air parts, inc.', inplace=True)\n",
        "ntsb_2['eng_mfgr'].mask(ntsb_2['eng_mfgr'] == 'superior air parts', 'superior air parts, inc.', inplace=True)\n",
        "ntsb_2['eng_mfgr'].mask(ntsb_2['eng_mfgr'] == 'teledine continental motors', 'teledyne turbine engines', inplace=True)\n",
        "ntsb_2['eng_mfgr'].mask(ntsb_2['eng_mfgr'] == 'teledye continental motors', 'teledyne turbine engines', inplace=True)\n",
        "ntsb_2['eng_mfgr'].mask(ntsb_2['eng_mfgr'] == 'teledyn continental', 'teledyne turbine engines', inplace=True)\n",
        "ntsb_2['eng_mfgr'].mask(ntsb_2['eng_mfgr'] == 'teledyn continental motors', 'teledyne turbine engines', inplace=True)\n",
        "ntsb_2['eng_mfgr'].mask(ntsb_2['eng_mfgr'] == 'teledyne', 'teledyne turbine engines', inplace=True)\n",
        "ntsb_2['eng_mfgr'].mask(ntsb_2['eng_mfgr'] == 'teledyne cont', 'teledyne turbine engines', inplace=True)\n",
        "ntsb_2['eng_mfgr'].mask(ntsb_2['eng_mfgr'] == 'teledyne continental', 'teledyne turbine engines', inplace=True)\n",
        "ntsb_2['eng_mfgr'].mask(ntsb_2['eng_mfgr'] == 'teledyne continental mortors', 'teledyne turbine engines', inplace=True)\n",
        "ntsb_2['eng_mfgr'].mask(ntsb_2['eng_mfgr'] == 'teledyne continental motor', 'teledyne turbine engines', inplace=True)\n",
        "ntsb_2['eng_mfgr'].mask(ntsb_2['eng_mfgr'] == 'teledyne continental motors', 'teledyne turbine engines', inplace=True)\n",
        "ntsb_2['eng_mfgr'].mask(ntsb_2['eng_mfgr'] == 'teledyne matituck', 'teledyne turbine engines', inplace=True)\n",
        "ntsb_2['eng_mfgr'].mask(ntsb_2['eng_mfgr'] == 'teledyne mattituck', 'teledyne turbine engines', inplace=True)\n",
        "ntsb_2['eng_mfgr'].mask(ntsb_2['eng_mfgr'] == 'teledyne-continental', 'teledyne turbine engines', inplace=True)\n",
        "ntsb_2['eng_mfgr'].mask(ntsb_2['eng_mfgr'] == 'teledyne-continental motors', 'teledyne turbine engines', inplace=True)\n",
        "ntsb_2['eng_mfgr'].mask(ntsb_2['eng_mfgr'] == 'teledyne/cont', 'teledyne turbine engines', inplace=True)\n",
        "ntsb_2['secondary_eng_mfgr'] = np.where(ntsb_2['eng_mfgr'] == 'textron lyc.', 'lycoming', '')\n",
        "ntsb_2['eng_mfgr'].mask(ntsb_2['eng_mfgr'] == 'textron lyc.', 'textron aviation', inplace=True)\n",
        "ntsb_2['secondary_eng_mfgr'] = np.where(ntsb_2['eng_mfgr'] == 'textron lycoming', 'lycoming', '')\n",
        "ntsb_2['eng_mfgr'].mask(ntsb_2['eng_mfgr'] == 'textron lycoming', 'lycoming', inplace=True)\n",
        "ntsb_2['eng_mfgr'].mask(ntsb_2['eng_mfgr'] == 'titan', 'continental aerospace technologies', inplace=True)\n",
        "ntsb_2['eng_mfgr'].mask(ntsb_2['eng_mfgr'] == 'tmx', 'teledyne turbine engines', inplace=True)\n",
        "ntsb_2['eng_mfgr'].mask(ntsb_2['eng_mfgr'] == 'tomanski', 'tumanski', inplace=True)\n",
        "ntsb_2['eng_mfgr'].mask(ntsb_2['eng_mfgr'] == 'toyota/auto', 'toyota', inplace=True)\n",
        "ntsb_2['eng_mfgr'].mask(ntsb_2['eng_mfgr'] == 'tubomecca', 'safran helicopter engines', inplace=True)\n",
        "ntsb_2['eng_mfgr'].mask(ntsb_2['eng_mfgr'] == 'turbo meca', 'safran helicopter engines', inplace=True)\n",
        "ntsb_2['eng_mfgr'].mask(ntsb_2['eng_mfgr'] == 'tubomecca', 'safran helicopter engines', inplace=True)\n",
        "ntsb_2['eng_mfgr'].mask(ntsb_2['eng_mfgr'] == 'turbomeca', 'safran helicopter engines', inplace=True)\n",
        "ntsb_2['eng_mfgr'].mask(ntsb_2['eng_mfgr'] == 'turbomeca usa', 'safran helicopter engines', inplace=True)\n",
        "ntsb_2['eng_mfgr'].mask(ntsb_2['eng_mfgr'] == 'turbomecca', 'safran helicopter engines', inplace=True)\n",
        "ntsb_2['eng_mfgr'].mask(ntsb_2['eng_mfgr'] == 'two stroke international', '2si', inplace=True)\n",
        "ntsb_2['eng_mfgr'].mask(ntsb_2['eng_mfgr'] == 'tyledyne continental motors', 'teledyne turbine engines', inplace=True)\n",
        "ntsb_2['eng_mfgr'].mask(ntsb_2['eng_mfgr'] == 'u/a of canada', 'u/a canada', inplace=True)\n",
        "ntsb_2['eng_mfgr'].mask(ntsb_2['eng_mfgr'] == 'ul', 'ulpower aero engines', inplace=True)\n",
        "ntsb_2['eng_mfgr'].mask(ntsb_2['eng_mfgr'] == 'ul power', 'ulpower aero engines', inplace=True)\n",
        "ntsb_2['eng_mfgr'].mask(ntsb_2['eng_mfgr'] == 'unk', np.nan, inplace=True)\n",
        "ntsb_2['eng_mfgr'].mask(ntsb_2['eng_mfgr'] == 'unk/nr', np.nan, inplace=True)\n",
        "ntsb_2['eng_mfgr'].mask(ntsb_2['eng_mfgr'] == 'unkn', np.nan, inplace=True)\n",
        "ntsb_2['eng_mfgr'].mask(ntsb_2['eng_mfgr'] == 'unknown', np.nan, inplace=True)\n",
        "ntsb_2['eng_mfgr'].mask(ntsb_2['eng_mfgr'] == 'v.w.', 'volkswagen', inplace=True)\n",
        "ntsb_2['eng_mfgr'].mask(ntsb_2['eng_mfgr'] == 'vedeheyev', 'vedeneyev', inplace=True)\n",
        "ntsb_2['eng_mfgr'].mask(ntsb_2['eng_mfgr'] == 'vedeneev', 'vedeneyev', inplace=True)\n",
        "ntsb_2['eng_mfgr'].mask(ntsb_2['eng_mfgr'] == 'vedenev', 'vedeneyev', inplace=True)\n",
        "ntsb_2['eng_mfgr'].mask(ntsb_2['eng_mfgr'] == 'vedeneyev', 'vedeneyev', inplace=True)\n",
        "ntsb_2['eng_mfgr'].mask(ntsb_2['eng_mfgr'] == 'vedeneyez', 'vedeneyev', inplace=True)\n",
        "ntsb_2['eng_mfgr'].mask(ntsb_2['eng_mfgr'] == 'vedenyev', 'vedeneyev', inplace=True)\n",
        "ntsb_2['eng_mfgr'].mask(ntsb_2['eng_mfgr'] == 'vellie', 'velie', inplace=True)\n",
        "ntsb_2['eng_mfgr'].mask(ntsb_2['eng_mfgr'] == 'vendeneyev', 'vedeneyev', inplace=True)\n",
        "ntsb_2['eng_mfgr'].mask(ntsb_2['eng_mfgr'] == 'vendenyev', 'vedeneyev', inplace=True)\n",
        "ntsb_2['eng_mfgr'].mask(ntsb_2['eng_mfgr'] == 'viking', 'viking aircraft engines', inplace=True)\n",
        "ntsb_2['eng_mfgr'].mask(ntsb_2['eng_mfgr'] == 'viking aircraft engines', 'viking aircraft engines', inplace=True)\n",
        "ntsb_2['secondary_eng_mfgr'] = np.where(ntsb_2['eng_mfgr'] == 'viking conversion of honda', 'honda', '')\n",
        "ntsb_2['eng_mfgr'].mask(ntsb_2['eng_mfgr'] == 'viking conversion of honda', 'viking aircraft engines', inplace=True)\n",
        "ntsb_2['eng_mfgr'].mask(ntsb_2['eng_mfgr'] == 'volkswagan', 'volkswagen', inplace=True)\n",
        "ntsb_2['eng_mfgr'].mask(ntsb_2['eng_mfgr'] == 'volkswagoen', 'volkswagen', inplace=True)\n",
        "ntsb_2['eng_mfgr'].mask(ntsb_2['eng_mfgr'] == 'volkswagon', 'volkswagen', inplace=True)\n",
        "ntsb_2['secondary_eng_mfgr'] = np.where(ntsb_2['eng_mfgr'] == 'volkswagon/great plains', 'great plains aircraft supply company', '')\n",
        "ntsb_2['eng_mfgr'].mask(ntsb_2['eng_mfgr'] == 'volkswagon/great plains', 'volkswagen', inplace=True)\n",
        "ntsb_2['eng_mfgr'].mask(ntsb_2['eng_mfgr'] == 'vw', 'volkswagen', inplace=True)\n",
        "ntsb_2['secondary_eng_mfgr'] = np.where(ntsb_2['eng_mfgr'] == 'vw- hummel', 'hummel', '')\n",
        "ntsb_2['eng_mfgr'].mask(ntsb_2['eng_mfgr'] == 'vw- hummel', 'volkswagen', inplace=True)\n",
        "ntsb_2['eng_mfgr'].mask(ntsb_2['eng_mfgr'] == 'walter', 'walter aircraft engines', inplace=True)\n",
        "ntsb_2['eng_mfgr'].mask(ntsb_2['eng_mfgr'] == 'walter engine incorporated', 'walter aircraft engines', inplace=True)\n",
        "ntsb_2['secondary_eng_mfgr'] = np.where(ntsb_2['eng_mfgr'] == 'walter/ge', 'general electric', '')\n",
        "ntsb_2['eng_mfgr'].mask(ntsb_2['eng_mfgr'] == 'walter/ge', 'walter aircraft engines', inplace=True)\n",
        "ntsb_2['eng_mfgr'].mask(ntsb_2['eng_mfgr'] == 'walther', 'walter aircraft engines', inplace=True)\n",
        "ntsb_2['eng_mfgr'].mask(ntsb_2['eng_mfgr'] == 'warner', 'warner aircraft corporation', inplace=True)\n",
        "ntsb_2['eng_mfgr'].mask(ntsb_2['eng_mfgr'] == 'warner aircraft engines', 'warner aircraft corporation', inplace=True)\n",
        "ntsb_2['eng_mfgr'].mask(ntsb_2['eng_mfgr'] == 'warner super scarab', 'warner aircraft corporation', inplace=True)\n",
        "ntsb_2['secondary_eng_mfgr'] = np.where(ntsb_2['eng_mfgr'] == 'watson \"vw\"', 'volkswagen', '')\n",
        "ntsb_2['eng_mfgr'].mask(ntsb_2['eng_mfgr'] == 'watson \"vw\"', 'watson', inplace=True)\n",
        "ntsb_2['eng_mfgr'].mask(ntsb_2['eng_mfgr'] == 'williams', 'williams international', inplace=True)\n",
        "ntsb_2['eng_mfgr'].mask(ntsb_2['eng_mfgr'] == 'williams', 'williams international company', inplace=True)\n",
        "ntsb_2['eng_mfgr'].mask(ntsb_2['eng_mfgr'] == 'williams', 'williams intl', inplace=True)\n",
        "ntsb_2['eng_mfgr'].mask(ntsb_2['eng_mfgr'] == 'wright', 'curtiss-wright', inplace=True)\n",
        "ntsb_2['eng_mfgr'].mask(ntsb_2['eng_mfgr'] == 'wright cyclone', 'curtiss-wright', inplace=True)\n",
        "ntsb_2['eng_mfgr'].mask(ntsb_2['eng_mfgr'] == 'wsk', 'pzl wsk-kalisz', inplace=True)\n",
        "ntsb_2['eng_mfgr'].mask(ntsb_2['eng_mfgr'] == 'wsk pzl kalis', 'pzl wsk-kalisz', inplace=True)\n",
        "ntsb_2['eng_mfgr'].mask(ntsb_2['eng_mfgr'] == 'wsk pzl kalisz', 'pzl wsk-kalisz', inplace=True)\n",
        "ntsb_2['eng_mfgr'].mask(ntsb_2['eng_mfgr'] == 'wsk-pzl', 'pzl wsk-kalisz', inplace=True)\n",
        "ntsb_2['eng_mfgr'].mask(ntsb_2['eng_mfgr'] == 'wsk-pzl-k', 'pzl wsk-kalisz', inplace=True)\n",
        "ntsb_2['eng_mfgr'].mask(ntsb_2['eng_mfgr'] == 'wynn corvair', 'wynn', inplace=True)\n",
        "ntsb_2['eng_mfgr'].mask(ntsb_2['eng_mfgr'] == 'xtreem 360', 'xtremeair gmbh', inplace=True)\n",
        "ntsb_2['eng_mfgr'].mask(ntsb_2['eng_mfgr'] == 'zanzarterra', 'zanzottera technologies', inplace=True)\n",
        "ntsb_2['eng_mfgr'].mask(ntsb_2['eng_mfgr'] == 'zanzottera', 'zanzottera technologies', inplace=True)\n",
        "ntsb_2['eng_mfgr'].mask(ntsb_2['eng_mfgr'] == 'zeonoa', 'zenoah', inplace=True)"
      ],
      "metadata": {
        "id": "yojwOisGtTOG"
      },
      "id": "yojwOisGtTOG",
      "execution_count": null,
      "outputs": []
    },
    {
      "cell_type": "code",
      "source": [
        "ntsb_2['carb_fuel_injection'].astype('category')"
      ],
      "metadata": {
        "id": "h1u15bWmwHxA",
        "outputId": "09f09574-00af-4824-8f95-fdba7dfdc42e",
        "colab": {
          "base_uri": "https://localhost:8080/"
        }
      },
      "id": "h1u15bWmwHxA",
      "execution_count": null,
      "outputs": [
        {
          "output_type": "execute_result",
          "data": {
            "text/plain": [
              "3          NaN\n",
              "5         carb\n",
              "6         carb\n",
              "7         finj\n",
              "8         finj\n",
              "          ... \n",
              "112732    carb\n",
              "112744    finj\n",
              "112761    carb\n",
              "112775    finj\n",
              "112802     NaN\n",
              "Name: carb_fuel_injection, Length: 49224, dtype: category\n",
              "Categories (2, object): ['carb', 'finj']"
            ]
          },
          "metadata": {},
          "execution_count": 155
        }
      ]
    },
    {
      "cell_type": "code",
      "source": [
        "ntsb_2['carb_fuel_injection'].astype('category')"
      ],
      "metadata": {
        "id": "W8UyUjGrwKiZ",
        "outputId": "29296a30-4677-4a7f-9da5-1be74adeb340",
        "colab": {
          "base_uri": "https://localhost:8080/"
        }
      },
      "id": "W8UyUjGrwKiZ",
      "execution_count": null,
      "outputs": [
        {
          "output_type": "execute_result",
          "data": {
            "text/plain": [
              "3          NaN\n",
              "5         carb\n",
              "6         carb\n",
              "7         finj\n",
              "8         finj\n",
              "          ... \n",
              "112732    carb\n",
              "112744    finj\n",
              "112761    carb\n",
              "112775    finj\n",
              "112802     NaN\n",
              "Name: carb_fuel_injection, Length: 49224, dtype: category\n",
              "Categories (2, object): ['carb', 'finj']"
            ]
          },
          "metadata": {},
          "execution_count": 156
        }
      ]
    },
    {
      "cell_type": "code",
      "source": [
        "ntsb_2['ev_type'].astype('category')"
      ],
      "metadata": {
        "id": "hXehUdujwMus",
        "outputId": "537c5a2b-30df-4786-8d35-0201cd5e32c3",
        "colab": {
          "base_uri": "https://localhost:8080/"
        }
      },
      "id": "hXehUdujwMus",
      "execution_count": null,
      "outputs": [
        {
          "output_type": "execute_result",
          "data": {
            "text/plain": [
              "3         acc\n",
              "5         acc\n",
              "6         acc\n",
              "7         acc\n",
              "8         acc\n",
              "         ... \n",
              "112732    acc\n",
              "112744    acc\n",
              "112761    acc\n",
              "112775    acc\n",
              "112802    acc\n",
              "Name: ev_type, Length: 49224, dtype: category\n",
              "Categories (2, object): ['acc', 'inc']"
            ]
          },
          "metadata": {},
          "execution_count": 157
        }
      ]
    },
    {
      "cell_type": "code",
      "source": [
        "ntsb_2['ev_city'].astype('string')"
      ],
      "metadata": {
        "id": "u-dYe-7nwO8P",
        "outputId": "0a229dc9-1a88-468e-de9a-be4d30c3cc13",
        "colab": {
          "base_uri": "https://localhost:8080/"
        }
      },
      "id": "u-dYe-7nwO8P",
      "execution_count": null,
      "outputs": [
        {
          "output_type": "execute_result",
          "data": {
            "text/plain": [
              "3               cullman\n",
              "5             belleview\n",
              "6         pleasant view\n",
              "7              pellston\n",
              "8               elkhart\n",
              "              ...      \n",
              "112732        st. james\n",
              "112744           munday\n",
              "112761           topeka\n",
              "112775      springfield\n",
              "112802           zamora\n",
              "Name: ev_city, Length: 49224, dtype: string"
            ]
          },
          "metadata": {},
          "execution_count": 158
        }
      ]
    },
    {
      "cell_type": "code",
      "source": [
        "ntsb_2['ev_state'].astype('string')"
      ],
      "metadata": {
        "id": "v2FtB8KdwQxk",
        "outputId": "991ab6c3-0c57-4ce0-8993-6a4765cff782",
        "colab": {
          "base_uri": "https://localhost:8080/"
        }
      },
      "id": "v2FtB8KdwQxk",
      "execution_count": null,
      "outputs": [
        {
          "output_type": "execute_result",
          "data": {
            "text/plain": [
              "3         al\n",
              "5         fl\n",
              "6         tn\n",
              "7         mi\n",
              "8         in\n",
              "          ..\n",
              "112732    mo\n",
              "112744    tx\n",
              "112761    ks\n",
              "112775    oh\n",
              "112802    ca\n",
              "Name: ev_state, Length: 49224, dtype: string"
            ]
          },
          "metadata": {},
          "execution_count": 159
        }
      ]
    },
    {
      "cell_type": "code",
      "source": [
        "ntsb_2['eng_time_total'].unique()"
      ],
      "metadata": {
        "id": "aKLlThxZwSv-",
        "outputId": "c756d3df-788a-4bb0-aab0-70353fc1ee57",
        "colab": {
          "base_uri": "https://localhost:8080/"
        }
      },
      "id": "aKLlThxZwSv-",
      "execution_count": null,
      "outputs": [
        {
          "output_type": "execute_result",
          "data": {
            "text/plain": [
              "array([  nan,    0., 2830., ...,  179.,   68.,  968.])"
            ]
          },
          "metadata": {},
          "execution_count": 160
        }
      ]
    },
    {
      "cell_type": "code",
      "source": [
        "ntsb_2['eng_time_total'].unique()\n",
        "ntsb_2['eng_time_total'].max()\n",
        "\n",
        "bins3 = [0,5000,10000,15000,20000,25000,30000,35000,40000,45000,50000]\n",
        "labels3 = [1,2,3,4,5,6,7,8,9,10]\n",
        "\n",
        "ntsb_2['eng_time_total'] = pd.cut(ntsb_2['eng_time_total'], bins3, labels=labels3)\n",
        "col_metrics(ntsb_2, col='eng_time_total')"
      ],
      "metadata": {
        "id": "6u0-cgqUwUlo",
        "outputId": "b25dbf56-eb47-489a-b340-1a613dd62f2b",
        "colab": {
          "base_uri": "https://localhost:8080/"
        }
      },
      "id": "6u0-cgqUwUlo",
      "execution_count": null,
      "outputs": [
        {
          "output_type": "stream",
          "name": "stdout",
          "text": [
            "current df shape: (49224, 87)\n",
            "Unique data:  [NaN, 1, 2, 3, 4]\n",
            "Categories (10, int64): [1 < 2 < 3 < 4 ... 7 < 8 < 9 < 10]\n",
            "Value counts:  1     1991\n",
            "2      242\n",
            "3       31\n",
            "4        3\n",
            "5        0\n",
            "6        0\n",
            "7        0\n",
            "8        0\n",
            "9        0\n",
            "10       0\n",
            "Name: eng_time_total, dtype: int64\n",
            "Total nulls:  46957\n",
            "Data type:  category\n"
          ]
        }
      ]
    },
    {
      "cell_type": "code",
      "source": [
        "ntsb_2['eng_time_last_insp'].round()\n",
        "ntsb_2['eng_time_last_insp'].max()\n",
        "bins4 = [0,1000,2000,3000,4000,5000,6000,7000,8000,9000,10000, 11000, 12000, 13000]\n",
        "labels4 = [1,2,3,4,5,6,7,8,9,10,11,12,13]\n",
        "\n",
        "ntsb_2['eng_time_last_insp'] = pd.cut(ntsb_2['eng_time_last_insp'], bins4, labels=labels4)\n",
        "col_metrics(ntsb_2, col='eng_time_last_insp')"
      ],
      "metadata": {
        "id": "jpQLgwI2wWF_",
        "outputId": "b71d40df-ab84-4352-cd66-e58ec580b5cd",
        "colab": {
          "base_uri": "https://localhost:8080/"
        }
      },
      "id": "jpQLgwI2wWF_",
      "execution_count": null,
      "outputs": [
        {
          "output_type": "stream",
          "name": "stdout",
          "text": [
            "current df shape: (49224, 87)\n",
            "Unique data:  [NaN, 1, 2, 7, 3, 6, 5, 4]\n",
            "Categories (13, int64): [1 < 2 < 3 < 4 ... 10 < 11 < 12 < 13]\n",
            "Value counts:  1     1820\n",
            "2       17\n",
            "3        7\n",
            "4        2\n",
            "5        2\n",
            "7        2\n",
            "6        1\n",
            "8        0\n",
            "9        0\n",
            "10       0\n",
            "11       0\n",
            "12       0\n",
            "13       0\n",
            "Name: eng_time_last_insp, dtype: int64\n",
            "Total nulls:  47373\n",
            "Data type:  category\n"
          ]
        }
      ]
    },
    {
      "cell_type": "code",
      "source": [
        "# Pending Cleaning\n",
        "\n",
        "# 'eng_no': Remove 448 nulls?\n",
        "# 'ev_time': format time dtype, take a look at bucketizing by hour\n",
        "# 'ev_year': Remove? Unless an airport is more risky during different time periods which might be possible\n",
        "# 'latitude': convert dtype to VARCHAR or DOUBLE. also maybe.... \"You can use clustering algorithm like k-Nearest Neighbor algorithm to group your geo-location data (using a small number of potential clusters) and assign each cluster or a group a unique id. These unique id can then replace your latitude and longitude column.\"\n",
        "# 'longitude': see lat\n",
        "# 'apt_name': compare against airport list, consolidate private and private airstrip, and private strip"
      ],
      "metadata": {
        "id": "74bNDWVVwYCc"
      },
      "id": "74bNDWVVwYCc",
      "execution_count": null,
      "outputs": []
    },
    {
      "cell_type": "code",
      "source": [
        "ntsb_2['ev_dow'].astype('category')"
      ],
      "metadata": {
        "id": "GK2py5xuwbPG",
        "outputId": "e49e61ee-a883-4939-b329-65f8ddb87573",
        "colab": {
          "base_uri": "https://localhost:8080/"
        }
      },
      "id": "GK2py5xuwbPG",
      "execution_count": null,
      "outputs": [
        {
          "output_type": "execute_result",
          "data": {
            "text/plain": [
              "3         th\n",
              "5         sa\n",
              "6         sa\n",
              "7         th\n",
              "8         fr\n",
              "          ..\n",
              "112732    su\n",
              "112744    mo\n",
              "112761    th\n",
              "112775    fr\n",
              "112802    sa\n",
              "Name: ev_dow, Length: 49224, dtype: category\n",
              "Categories (7, object): ['fr', 'mo', 'sa', 'su', 'th', 'tu', 'we']"
            ]
          },
          "metadata": {},
          "execution_count": 166
        }
      ]
    },
    {
      "cell_type": "code",
      "source": [
        "ntsb_2['ev_month'].astype('category')"
      ],
      "metadata": {
        "id": "0N5V6PHFwcJl",
        "outputId": "8d0377d4-999d-483e-a5a1-5608219d800b",
        "colab": {
          "base_uri": "https://localhost:8080/"
        }
      },
      "id": "0N5V6PHFwcJl",
      "execution_count": null,
      "outputs": [
        {
          "output_type": "execute_result",
          "data": {
            "text/plain": [
              "3         1\n",
              "5         1\n",
              "6         1\n",
              "7         1\n",
              "8         1\n",
              "         ..\n",
              "112732    7\n",
              "112744    6\n",
              "112761    7\n",
              "112775    7\n",
              "112802    7\n",
              "Name: ev_month, Length: 49224, dtype: category\n",
              "Categories (12, int64): [1, 2, 3, 4, ..., 9, 10, 11, 12]"
            ]
          },
          "metadata": {},
          "execution_count": 167
        }
      ]
    },
    {
      "cell_type": "code",
      "source": [
        "ntsb_3 = ntsb_2.copy()"
      ],
      "metadata": {
        "id": "d4TvNftRZuAY"
      },
      "id": "d4TvNftRZuAY",
      "execution_count": null,
      "outputs": []
    },
    {
      "cell_type": "markdown",
      "source": [
        "### Ericks Section"
      ],
      "metadata": {
        "id": "bJlVyasmkSx7"
      },
      "id": "bJlVyasmkSx7"
    },
    {
      "cell_type": "code",
      "source": [
        "#checking data types in column\n",
        "ntsb_3.info()"
      ],
      "metadata": {
        "id": "DQJPwfqFkWgq",
        "outputId": "d0ad1a46-92b6-4700-beb9-c94ae257b104",
        "colab": {
          "base_uri": "https://localhost:8080/"
        }
      },
      "id": "DQJPwfqFkWgq",
      "execution_count": null,
      "outputs": [
        {
          "output_type": "stream",
          "name": "stdout",
          "text": [
            "<class 'pandas.core.frame.DataFrame'>\n",
            "Int64Index: 49224 entries, 3 to 112802\n",
            "Data columns (total 87 columns):\n",
            " #   Column                 Non-Null Count  Dtype   \n",
            "---  ------                 --------------  -----   \n",
            " 0   aircraft_ev_id         49224 non-null  object  \n",
            " 1   far_part               49224 non-null  object  \n",
            " 2   flight_plan_activated  13416 non-null  object  \n",
            " 3   damage                 49224 non-null  object  \n",
            " 4   acft_make              49224 non-null  object  \n",
            " 5   acft_model             49224 non-null  object  \n",
            " 6   cert_max_gr_wt         49224 non-null  object  \n",
            " 7   num_eng                49224 non-null  int8    \n",
            " 8   type_last_insp         49224 non-null  object  \n",
            " 9   date_last_insp         43417 non-null  object  \n",
            " 10  afm_hrs_last_insp      37606 non-null  float64 \n",
            " 11  afm_hrs                49224 non-null  int16   \n",
            " 12  type_fly               49224 non-null  object  \n",
            " 13  dprt_apt_id            49224 non-null  object  \n",
            " 14  dprt_city              37412 non-null  object  \n",
            " 15  dprt_state             37962 non-null  object  \n",
            " 16  dprt_time              49224 non-null  object  \n",
            " 17  dest_same_local        26714 non-null  object  \n",
            " 18  dest_apt_id            49224 non-null  object  \n",
            " 19  dest_city              27387 non-null  object  \n",
            " 20  dest_state             27869 non-null  object  \n",
            " 21  phase_flt_spec         39829 non-null  float64 \n",
            " 22  afm_hrs_since          16548 non-null  object  \n",
            " 23  rwy_num                41590 non-null  object  \n",
            " 24  rwy_len                26021 non-null  category\n",
            " 25  rwy_width              24714 non-null  category\n",
            " 26  ifr_equipped_cert      49224 non-null  bool    \n",
            " 27  eng_no                 48510 non-null  float64 \n",
            " 28  eng_type               47490 non-null  object  \n",
            " 29  eng_mfgr               47470 non-null  object  \n",
            " 30  hp_or_lbs              46511 non-null  object  \n",
            " 31  carb_fuel_injection    43220 non-null  object  \n",
            " 32  eng_time_total         2267 non-null   category\n",
            " 33  eng_time_last_insp     1851 non-null   category\n",
            " 34  ntsb_no                49224 non-null  object  \n",
            " 35  ev_type                49224 non-null  object  \n",
            " 36  ev_date                49224 non-null  object  \n",
            " 37  ev_dow                 49224 non-null  object  \n",
            " 38  ev_time                49206 non-null  float64 \n",
            " 39  ev_city                49222 non-null  object  \n",
            " 40  ev_state               49190 non-null  object  \n",
            " 41  ev_year                49224 non-null  int64   \n",
            " 42  ev_month               49224 non-null  int64   \n",
            " 43  latitude               16126 non-null  object  \n",
            " 44  longitude              16128 non-null  object  \n",
            " 45  apt_name               31364 non-null  object  \n",
            " 46  ev_nr_apt_id           29370 non-null  object  \n",
            " 47  ev_nr_apt_loc          48834 non-null  object  \n",
            " 48  apt_dist               35198 non-null  float64 \n",
            " 49  apt_dir                26493 non-null  float64 \n",
            " 50  apt_elev               34283 non-null  float64 \n",
            " 51  wx_src_iic             48992 non-null  object  \n",
            " 52  wx_obs_time            47438 non-null  float64 \n",
            " 53  wx_obs_dir             46561 non-null  float64 \n",
            " 54  wx_obs_fac_id          34314 non-null  object  \n",
            " 55  wx_obs_elev            46374 non-null  float64 \n",
            " 56  wx_obs_dist            46873 non-null  float64 \n",
            " 57  light_cond             49139 non-null  object  \n",
            " 58  sky_cond_nonceil       47011 non-null  object  \n",
            " 59  sky_nonceil_ht         43789 non-null  float64 \n",
            " 60  sky_ceil_ht            43500 non-null  float64 \n",
            " 61  sky_cond_ceil          48396 non-null  object  \n",
            " 62  vis_rvr                32044 non-null  float64 \n",
            " 63  vis_sm                 48959 non-null  float64 \n",
            " 64  wx_temp                46105 non-null  float64 \n",
            " 65  wx_dew_pt              39051 non-null  float64 \n",
            " 66  wind_dir_deg           47898 non-null  float64 \n",
            " 67  wind_dir_ind           48563 non-null  object  \n",
            " 68  wind_vel_kts           46416 non-null  float64 \n",
            " 69  wind_vel_ind           49132 non-null  object  \n",
            " 70  gust_ind               49205 non-null  object  \n",
            " 71  gust_kts               43131 non-null  float64 \n",
            " 72  altimeter              39211 non-null  float64 \n",
            " 73  wx_dens_alt            13473 non-null  float64 \n",
            " 74  wx_int_precip          32182 non-null  object  \n",
            " 75  ev_highest_injury      49221 non-null  object  \n",
            " 76  inj_tot_t              27220 non-null  float64 \n",
            " 77  wx_cond_basic          49200 non-null  object  \n",
            " 78  Cause_Factor           6997 non-null   object  \n",
            " 79  crew_no                8606 non-null   float64 \n",
            " 80  crew_category          8543 non-null   object  \n",
            " 81  crew_age               8301 non-null   float64 \n",
            " 82  crew_sex               6416 non-null   object  \n",
            " 83  med_certf              8256 non-null   object  \n",
            " 84  pilot_flying           48547 non-null  object  \n",
            " 85  crew_inj_level         8509 non-null   object  \n",
            " 86  secondary_eng_mfgr     49224 non-null  object  \n",
            "dtypes: bool(1), category(4), float64(25), int16(1), int64(2), int8(1), object(53)\n",
            "memory usage: 30.8+ MB\n"
          ]
        }
      ]
    },
    {
      "cell_type": "code",
      "source": [
        "#convert datatype to string for easier data handling\n",
        "ntsb_3['ev_nr_apt_id'] = ntsb_3['ev_nr_apt_id'].astype('string')\n",
        "ntsb_3['ev_nr_apt_loc'] = ntsb_3['ev_nr_apt_loc'].astype('string')\n",
        "ntsb_3['wx_src_iic'] = ntsb_3['wx_src_iic'].astype('string')\n",
        "ntsb_3['wx_obs_fac_id'] = ntsb_3['wx_obs_fac_id'].astype('string')\n",
        "ntsb_3['light_cond'] = ntsb_3['light_cond'].astype('string')\n",
        "ntsb_3['sky_cond_nonceil'] = ntsb_3['sky_cond_nonceil'].astype('string')\n",
        "ntsb_3['sky_cond_ceil'] = ntsb_3['sky_cond_ceil'].astype('string')\n",
        "\n",
        "#convert datatype to numeric for easier data handling\n",
        "ntsb_3['apt_dist'] = ntsb_3['apt_dist'].astype('float')\n",
        "ntsb_3['apt_dir'] = ntsb_3['apt_dir'].astype('float').astype('Int64')\n",
        "\n",
        "ntsb_3['apt_elev'] = pd.to_numeric(ntsb_3['apt_elev'])\n",
        "ntsb_3['apt_elev'] = ntsb_3['apt_elev'].astype('Int64')\n",
        "\n",
        "ntsb_3['wx_obs_time'] = ntsb_3['wx_obs_time'].astype('Int64')\n",
        "\n",
        "\n",
        "ntsb_3['wx_obs_dir'] = pd.to_numeric(ntsb_3['wx_obs_dir'])\n",
        "ntsb_3['wx_obs_dir'] = ntsb_3['wx_obs_dir'].astype('float').astype('Int64')\n",
        "\n",
        "ntsb_3['wx_obs_elev'] = pd.to_numeric(ntsb_3['wx_obs_elev'])\n",
        "ntsb_3['wx_obs_elev'] = ntsb_3['wx_obs_elev'].astype('float').astype('Int64')\n",
        "\n",
        "ntsb_3['wx_obs_dir'] = pd.to_numeric(ntsb_3['wx_obs_dir'])\n",
        "ntsb_3['wx_obs_dir'] = ntsb_3['wx_obs_dir'].astype('float')\n",
        "\n",
        "ntsb_3['sky_nonceil_ht'] = pd.to_numeric(ntsb_3['sky_nonceil_ht'])\n",
        "ntsb_3['sky_nonceil_ht'] = ntsb_3['sky_nonceil_ht'].astype('float').astype('Int64')\n",
        "\n",
        "ntsb_3['sky_ceil_ht'] = pd.to_numeric(ntsb_3['sky_ceil_ht'])\n",
        "ntsb_3['sky_ceil_ht'] = ntsb_3['sky_ceil_ht'].astype('float').astype('Int64')\n",
        "\n",
        "ntsb_3['vis_rvr'] = pd.to_numeric(ntsb_3['vis_rvr'])\n",
        "ntsb_3['vis_rvr'] = ntsb_3['vis_rvr'].astype('float').astype('Int64')\n",
        "\n",
        "ntsb_3['vis_sm'] = pd.to_numeric(ntsb_3['vis_sm'])\n",
        "ntsb_3['vis_sm'] = ntsb_3['vis_sm'].astype('float')\n",
        "\n",
        "\n",
        "ntsb_3['wx_temp'] = pd.to_numeric(ntsb_3['wx_temp'])\n",
        "ntsb_3['wx_temp'] = ntsb_3['wx_temp'].astype('float').astype('Int64')\n",
        "\n",
        "ntsb_3['wx_dew_pt'] = pd.to_numeric(ntsb_3['wx_dew_pt'])\n",
        "ntsb_3['wx_dew_pt'] = ntsb_3['wx_dew_pt'].astype('float').astype('Int64')\n",
        "\n",
        "ntsb_3.info()"
      ],
      "metadata": {
        "id": "IFD1BGP_kaEt",
        "outputId": "bd87917b-027e-4200-84cc-666d610e0655",
        "colab": {
          "base_uri": "https://localhost:8080/"
        }
      },
      "id": "IFD1BGP_kaEt",
      "execution_count": null,
      "outputs": [
        {
          "output_type": "stream",
          "name": "stdout",
          "text": [
            "<class 'pandas.core.frame.DataFrame'>\n",
            "Int64Index: 49224 entries, 3 to 112802\n",
            "Data columns (total 87 columns):\n",
            " #   Column                 Non-Null Count  Dtype   \n",
            "---  ------                 --------------  -----   \n",
            " 0   aircraft_ev_id         49224 non-null  object  \n",
            " 1   far_part               49224 non-null  object  \n",
            " 2   flight_plan_activated  13416 non-null  object  \n",
            " 3   damage                 49224 non-null  object  \n",
            " 4   acft_make              49224 non-null  object  \n",
            " 5   acft_model             49224 non-null  object  \n",
            " 6   cert_max_gr_wt         49224 non-null  object  \n",
            " 7   num_eng                49224 non-null  int8    \n",
            " 8   type_last_insp         49224 non-null  object  \n",
            " 9   date_last_insp         43417 non-null  object  \n",
            " 10  afm_hrs_last_insp      37606 non-null  float64 \n",
            " 11  afm_hrs                49224 non-null  int16   \n",
            " 12  type_fly               49224 non-null  object  \n",
            " 13  dprt_apt_id            49224 non-null  object  \n",
            " 14  dprt_city              37412 non-null  object  \n",
            " 15  dprt_state             37962 non-null  object  \n",
            " 16  dprt_time              49224 non-null  object  \n",
            " 17  dest_same_local        26714 non-null  object  \n",
            " 18  dest_apt_id            49224 non-null  object  \n",
            " 19  dest_city              27387 non-null  object  \n",
            " 20  dest_state             27869 non-null  object  \n",
            " 21  phase_flt_spec         39829 non-null  float64 \n",
            " 22  afm_hrs_since          16548 non-null  object  \n",
            " 23  rwy_num                41590 non-null  object  \n",
            " 24  rwy_len                26021 non-null  category\n",
            " 25  rwy_width              24714 non-null  category\n",
            " 26  ifr_equipped_cert      49224 non-null  bool    \n",
            " 27  eng_no                 48510 non-null  float64 \n",
            " 28  eng_type               47490 non-null  object  \n",
            " 29  eng_mfgr               47470 non-null  object  \n",
            " 30  hp_or_lbs              46511 non-null  object  \n",
            " 31  carb_fuel_injection    43220 non-null  object  \n",
            " 32  eng_time_total         2267 non-null   category\n",
            " 33  eng_time_last_insp     1851 non-null   category\n",
            " 34  ntsb_no                49224 non-null  object  \n",
            " 35  ev_type                49224 non-null  object  \n",
            " 36  ev_date                49224 non-null  object  \n",
            " 37  ev_dow                 49224 non-null  object  \n",
            " 38  ev_time                49206 non-null  float64 \n",
            " 39  ev_city                49222 non-null  object  \n",
            " 40  ev_state               49190 non-null  object  \n",
            " 41  ev_year                49224 non-null  int64   \n",
            " 42  ev_month               49224 non-null  int64   \n",
            " 43  latitude               16126 non-null  object  \n",
            " 44  longitude              16128 non-null  object  \n",
            " 45  apt_name               31364 non-null  object  \n",
            " 46  ev_nr_apt_id           29370 non-null  string  \n",
            " 47  ev_nr_apt_loc          48834 non-null  string  \n",
            " 48  apt_dist               35198 non-null  float64 \n",
            " 49  apt_dir                26493 non-null  Int64   \n",
            " 50  apt_elev               34283 non-null  Int64   \n",
            " 51  wx_src_iic             48992 non-null  string  \n",
            " 52  wx_obs_time            47438 non-null  Int64   \n",
            " 53  wx_obs_dir             46561 non-null  float64 \n",
            " 54  wx_obs_fac_id          34314 non-null  string  \n",
            " 55  wx_obs_elev            46374 non-null  Int64   \n",
            " 56  wx_obs_dist            46873 non-null  float64 \n",
            " 57  light_cond             49139 non-null  string  \n",
            " 58  sky_cond_nonceil       47011 non-null  string  \n",
            " 59  sky_nonceil_ht         43789 non-null  Int64   \n",
            " 60  sky_ceil_ht            43500 non-null  Int64   \n",
            " 61  sky_cond_ceil          48396 non-null  string  \n",
            " 62  vis_rvr                32044 non-null  Int64   \n",
            " 63  vis_sm                 48959 non-null  float64 \n",
            " 64  wx_temp                46105 non-null  Int64   \n",
            " 65  wx_dew_pt              39051 non-null  Int64   \n",
            " 66  wind_dir_deg           47898 non-null  float64 \n",
            " 67  wind_dir_ind           48563 non-null  object  \n",
            " 68  wind_vel_kts           46416 non-null  float64 \n",
            " 69  wind_vel_ind           49132 non-null  object  \n",
            " 70  gust_ind               49205 non-null  object  \n",
            " 71  gust_kts               43131 non-null  float64 \n",
            " 72  altimeter              39211 non-null  float64 \n",
            " 73  wx_dens_alt            13473 non-null  float64 \n",
            " 74  wx_int_precip          32182 non-null  object  \n",
            " 75  ev_highest_injury      49221 non-null  object  \n",
            " 76  inj_tot_t              27220 non-null  float64 \n",
            " 77  wx_cond_basic          49200 non-null  object  \n",
            " 78  Cause_Factor           6997 non-null   object  \n",
            " 79  crew_no                8606 non-null   float64 \n",
            " 80  crew_category          8543 non-null   object  \n",
            " 81  crew_age               8301 non-null   float64 \n",
            " 82  crew_sex               6416 non-null   object  \n",
            " 83  med_certf              8256 non-null   object  \n",
            " 84  pilot_flying           48547 non-null  object  \n",
            " 85  crew_inj_level         8509 non-null   object  \n",
            " 86  secondary_eng_mfgr     49224 non-null  object  \n",
            "dtypes: Int64(9), bool(1), category(4), float64(16), int16(1), int64(2), int8(1), object(46), string(7)\n",
            "memory usage: 31.2+ MB\n"
          ]
        }
      ]
    },
    {
      "cell_type": "code",
      "source": [
        "#remove unneccesary columns\n",
        "ntsb_3.drop('ev_nr_apt_loc', axis = 1, inplace = True)\n",
        "ntsb_3.drop('ev_nr_apt_id', axis = 1, inplace = True)\n",
        "#check for succesfull removal of columns\n",
        "ntsb_3.info()"
      ],
      "metadata": {
        "id": "zzuyCN46kf16",
        "outputId": "2254db76-2468-4d0a-b9c8-474b8bc75d6b",
        "colab": {
          "base_uri": "https://localhost:8080/",
          "height": 399
        }
      },
      "id": "zzuyCN46kf16",
      "execution_count": null,
      "outputs": [
        {
          "output_type": "error",
          "ename": "KeyError",
          "evalue": "ignored",
          "traceback": [
            "\u001b[0;31m---------------------------------------------------------------------------\u001b[0m",
            "\u001b[0;31mKeyError\u001b[0m                                  Traceback (most recent call last)",
            "\u001b[0;32m<ipython-input-181-b885e14322d4>\u001b[0m in \u001b[0;36m<cell line: 2>\u001b[0;34m()\u001b[0m\n\u001b[1;32m      1\u001b[0m \u001b[0;31m#remove unneccesary columns\u001b[0m\u001b[0;34m\u001b[0m\u001b[0;34m\u001b[0m\u001b[0m\n\u001b[0;32m----> 2\u001b[0;31m \u001b[0mntsb_3\u001b[0m\u001b[0;34m.\u001b[0m\u001b[0mdrop\u001b[0m\u001b[0;34m(\u001b[0m\u001b[0;34m'ev_nr_apt_loc'\u001b[0m\u001b[0;34m,\u001b[0m \u001b[0maxis\u001b[0m \u001b[0;34m=\u001b[0m \u001b[0;36m1\u001b[0m\u001b[0;34m,\u001b[0m \u001b[0minplace\u001b[0m \u001b[0;34m=\u001b[0m \u001b[0;32mTrue\u001b[0m\u001b[0;34m)\u001b[0m\u001b[0;34m\u001b[0m\u001b[0;34m\u001b[0m\u001b[0m\n\u001b[0m\u001b[1;32m      3\u001b[0m \u001b[0mntsb_3\u001b[0m\u001b[0;34m.\u001b[0m\u001b[0mdrop\u001b[0m\u001b[0;34m(\u001b[0m\u001b[0;34m'ev_nr_apt_id'\u001b[0m\u001b[0;34m,\u001b[0m \u001b[0maxis\u001b[0m \u001b[0;34m=\u001b[0m \u001b[0;36m1\u001b[0m\u001b[0;34m,\u001b[0m \u001b[0minplace\u001b[0m \u001b[0;34m=\u001b[0m \u001b[0;32mTrue\u001b[0m\u001b[0;34m)\u001b[0m\u001b[0;34m\u001b[0m\u001b[0;34m\u001b[0m\u001b[0m\n\u001b[1;32m      4\u001b[0m \u001b[0;31m#check for succesfull removal of columns\u001b[0m\u001b[0;34m\u001b[0m\u001b[0;34m\u001b[0m\u001b[0m\n\u001b[1;32m      5\u001b[0m \u001b[0mntsb_3\u001b[0m\u001b[0;34m.\u001b[0m\u001b[0minfo\u001b[0m\u001b[0;34m(\u001b[0m\u001b[0;34m)\u001b[0m\u001b[0;34m\u001b[0m\u001b[0;34m\u001b[0m\u001b[0m\n",
            "\u001b[0;32m/usr/local/lib/python3.9/dist-packages/pandas/util/_decorators.py\u001b[0m in \u001b[0;36mwrapper\u001b[0;34m(*args, **kwargs)\u001b[0m\n\u001b[1;32m    309\u001b[0m                     \u001b[0mstacklevel\u001b[0m\u001b[0;34m=\u001b[0m\u001b[0mstacklevel\u001b[0m\u001b[0;34m,\u001b[0m\u001b[0;34m\u001b[0m\u001b[0;34m\u001b[0m\u001b[0m\n\u001b[1;32m    310\u001b[0m                 )\n\u001b[0;32m--> 311\u001b[0;31m             \u001b[0;32mreturn\u001b[0m \u001b[0mfunc\u001b[0m\u001b[0;34m(\u001b[0m\u001b[0;34m*\u001b[0m\u001b[0margs\u001b[0m\u001b[0;34m,\u001b[0m \u001b[0;34m**\u001b[0m\u001b[0mkwargs\u001b[0m\u001b[0;34m)\u001b[0m\u001b[0;34m\u001b[0m\u001b[0;34m\u001b[0m\u001b[0m\n\u001b[0m\u001b[1;32m    312\u001b[0m \u001b[0;34m\u001b[0m\u001b[0m\n\u001b[1;32m    313\u001b[0m         \u001b[0;32mreturn\u001b[0m \u001b[0mwrapper\u001b[0m\u001b[0;34m\u001b[0m\u001b[0;34m\u001b[0m\u001b[0m\n",
            "\u001b[0;32m/usr/local/lib/python3.9/dist-packages/pandas/core/frame.py\u001b[0m in \u001b[0;36mdrop\u001b[0;34m(self, labels, axis, index, columns, level, inplace, errors)\u001b[0m\n\u001b[1;32m   4955\u001b[0m                 \u001b[0mweight\u001b[0m  \u001b[0;36m1.0\u001b[0m     \u001b[0;36m0.8\u001b[0m\u001b[0;34m\u001b[0m\u001b[0;34m\u001b[0m\u001b[0m\n\u001b[1;32m   4956\u001b[0m         \"\"\"\n\u001b[0;32m-> 4957\u001b[0;31m         return super().drop(\n\u001b[0m\u001b[1;32m   4958\u001b[0m             \u001b[0mlabels\u001b[0m\u001b[0;34m=\u001b[0m\u001b[0mlabels\u001b[0m\u001b[0;34m,\u001b[0m\u001b[0;34m\u001b[0m\u001b[0;34m\u001b[0m\u001b[0m\n\u001b[1;32m   4959\u001b[0m             \u001b[0maxis\u001b[0m\u001b[0;34m=\u001b[0m\u001b[0maxis\u001b[0m\u001b[0;34m,\u001b[0m\u001b[0;34m\u001b[0m\u001b[0;34m\u001b[0m\u001b[0m\n",
            "\u001b[0;32m/usr/local/lib/python3.9/dist-packages/pandas/core/generic.py\u001b[0m in \u001b[0;36mdrop\u001b[0;34m(self, labels, axis, index, columns, level, inplace, errors)\u001b[0m\n\u001b[1;32m   4265\u001b[0m         \u001b[0;32mfor\u001b[0m \u001b[0maxis\u001b[0m\u001b[0;34m,\u001b[0m \u001b[0mlabels\u001b[0m \u001b[0;32min\u001b[0m \u001b[0maxes\u001b[0m\u001b[0;34m.\u001b[0m\u001b[0mitems\u001b[0m\u001b[0;34m(\u001b[0m\u001b[0;34m)\u001b[0m\u001b[0;34m:\u001b[0m\u001b[0;34m\u001b[0m\u001b[0;34m\u001b[0m\u001b[0m\n\u001b[1;32m   4266\u001b[0m             \u001b[0;32mif\u001b[0m \u001b[0mlabels\u001b[0m \u001b[0;32mis\u001b[0m \u001b[0;32mnot\u001b[0m \u001b[0;32mNone\u001b[0m\u001b[0;34m:\u001b[0m\u001b[0;34m\u001b[0m\u001b[0;34m\u001b[0m\u001b[0m\n\u001b[0;32m-> 4267\u001b[0;31m                 \u001b[0mobj\u001b[0m \u001b[0;34m=\u001b[0m \u001b[0mobj\u001b[0m\u001b[0;34m.\u001b[0m\u001b[0m_drop_axis\u001b[0m\u001b[0;34m(\u001b[0m\u001b[0mlabels\u001b[0m\u001b[0;34m,\u001b[0m \u001b[0maxis\u001b[0m\u001b[0;34m,\u001b[0m \u001b[0mlevel\u001b[0m\u001b[0;34m=\u001b[0m\u001b[0mlevel\u001b[0m\u001b[0;34m,\u001b[0m \u001b[0merrors\u001b[0m\u001b[0;34m=\u001b[0m\u001b[0merrors\u001b[0m\u001b[0;34m)\u001b[0m\u001b[0;34m\u001b[0m\u001b[0;34m\u001b[0m\u001b[0m\n\u001b[0m\u001b[1;32m   4268\u001b[0m \u001b[0;34m\u001b[0m\u001b[0m\n\u001b[1;32m   4269\u001b[0m         \u001b[0;32mif\u001b[0m \u001b[0minplace\u001b[0m\u001b[0;34m:\u001b[0m\u001b[0;34m\u001b[0m\u001b[0;34m\u001b[0m\u001b[0m\n",
            "\u001b[0;32m/usr/local/lib/python3.9/dist-packages/pandas/core/generic.py\u001b[0m in \u001b[0;36m_drop_axis\u001b[0;34m(self, labels, axis, level, errors, consolidate, only_slice)\u001b[0m\n\u001b[1;32m   4309\u001b[0m                 \u001b[0mnew_axis\u001b[0m \u001b[0;34m=\u001b[0m \u001b[0maxis\u001b[0m\u001b[0;34m.\u001b[0m\u001b[0mdrop\u001b[0m\u001b[0;34m(\u001b[0m\u001b[0mlabels\u001b[0m\u001b[0;34m,\u001b[0m \u001b[0mlevel\u001b[0m\u001b[0;34m=\u001b[0m\u001b[0mlevel\u001b[0m\u001b[0;34m,\u001b[0m \u001b[0merrors\u001b[0m\u001b[0;34m=\u001b[0m\u001b[0merrors\u001b[0m\u001b[0;34m)\u001b[0m\u001b[0;34m\u001b[0m\u001b[0;34m\u001b[0m\u001b[0m\n\u001b[1;32m   4310\u001b[0m             \u001b[0;32melse\u001b[0m\u001b[0;34m:\u001b[0m\u001b[0;34m\u001b[0m\u001b[0;34m\u001b[0m\u001b[0m\n\u001b[0;32m-> 4311\u001b[0;31m                 \u001b[0mnew_axis\u001b[0m \u001b[0;34m=\u001b[0m \u001b[0maxis\u001b[0m\u001b[0;34m.\u001b[0m\u001b[0mdrop\u001b[0m\u001b[0;34m(\u001b[0m\u001b[0mlabels\u001b[0m\u001b[0;34m,\u001b[0m \u001b[0merrors\u001b[0m\u001b[0;34m=\u001b[0m\u001b[0merrors\u001b[0m\u001b[0;34m)\u001b[0m\u001b[0;34m\u001b[0m\u001b[0;34m\u001b[0m\u001b[0m\n\u001b[0m\u001b[1;32m   4312\u001b[0m             \u001b[0mindexer\u001b[0m \u001b[0;34m=\u001b[0m \u001b[0maxis\u001b[0m\u001b[0;34m.\u001b[0m\u001b[0mget_indexer\u001b[0m\u001b[0;34m(\u001b[0m\u001b[0mnew_axis\u001b[0m\u001b[0;34m)\u001b[0m\u001b[0;34m\u001b[0m\u001b[0;34m\u001b[0m\u001b[0m\n\u001b[1;32m   4313\u001b[0m \u001b[0;34m\u001b[0m\u001b[0m\n",
            "\u001b[0;32m/usr/local/lib/python3.9/dist-packages/pandas/core/indexes/base.py\u001b[0m in \u001b[0;36mdrop\u001b[0;34m(self, labels, errors)\u001b[0m\n\u001b[1;32m   6659\u001b[0m         \u001b[0;32mif\u001b[0m \u001b[0mmask\u001b[0m\u001b[0;34m.\u001b[0m\u001b[0many\u001b[0m\u001b[0;34m(\u001b[0m\u001b[0;34m)\u001b[0m\u001b[0;34m:\u001b[0m\u001b[0;34m\u001b[0m\u001b[0;34m\u001b[0m\u001b[0m\n\u001b[1;32m   6660\u001b[0m             \u001b[0;32mif\u001b[0m \u001b[0merrors\u001b[0m \u001b[0;34m!=\u001b[0m \u001b[0;34m\"ignore\"\u001b[0m\u001b[0;34m:\u001b[0m\u001b[0;34m\u001b[0m\u001b[0;34m\u001b[0m\u001b[0m\n\u001b[0;32m-> 6661\u001b[0;31m                 \u001b[0;32mraise\u001b[0m \u001b[0mKeyError\u001b[0m\u001b[0;34m(\u001b[0m\u001b[0;34mf\"{list(labels[mask])} not found in axis\"\u001b[0m\u001b[0;34m)\u001b[0m\u001b[0;34m\u001b[0m\u001b[0;34m\u001b[0m\u001b[0m\n\u001b[0m\u001b[1;32m   6662\u001b[0m             \u001b[0mindexer\u001b[0m \u001b[0;34m=\u001b[0m \u001b[0mindexer\u001b[0m\u001b[0;34m[\u001b[0m\u001b[0;34m~\u001b[0m\u001b[0mmask\u001b[0m\u001b[0;34m]\u001b[0m\u001b[0;34m\u001b[0m\u001b[0;34m\u001b[0m\u001b[0m\n\u001b[1;32m   6663\u001b[0m         \u001b[0;32mreturn\u001b[0m \u001b[0mself\u001b[0m\u001b[0;34m.\u001b[0m\u001b[0mdelete\u001b[0m\u001b[0;34m(\u001b[0m\u001b[0mindexer\u001b[0m\u001b[0;34m)\u001b[0m\u001b[0;34m\u001b[0m\u001b[0;34m\u001b[0m\u001b[0m\n",
            "\u001b[0;31mKeyError\u001b[0m: \"['ev_nr_apt_loc'] not found in axis\""
          ]
        }
      ]
    },
    {
      "cell_type": "code",
      "source": [
        "ntsb_4 = ntsb_3.copy()"
      ],
      "metadata": {
        "id": "gBkg0weEaZV4"
      },
      "id": "gBkg0weEaZV4",
      "execution_count": null,
      "outputs": []
    },
    {
      "cell_type": "markdown",
      "source": [
        "##Chi's Section"
      ],
      "metadata": {
        "id": "H_fxE95BkkCf"
      },
      "id": "H_fxE95BkkCf"
    },
    {
      "cell_type": "code",
      "source": [
        "# cleaning columns 69 - 85\n",
        "ntsb_4 = ntsb_dropped_cols.iloc[:,69:]"
      ],
      "metadata": {
        "id": "BueecNeMkmKj"
      },
      "id": "BueecNeMkmKj",
      "execution_count": null,
      "outputs": []
    },
    {
      "cell_type": "code",
      "source": [
        "# check unique values for column\n",
        "\n",
        "ntsb_4['Cause_Factor'].unique()"
      ],
      "metadata": {
        "id": "DBdZEhIXYOxL",
        "outputId": "b73f0588-6e6a-4536-b4ee-5448df6064da",
        "colab": {
          "base_uri": "https://localhost:8080/"
        }
      },
      "id": "DBdZEhIXYOxL",
      "execution_count": null,
      "outputs": [
        {
          "output_type": "execute_result",
          "data": {
            "text/plain": [
              "array([nan, 'C', 'F'], dtype=object)"
            ]
          },
          "metadata": {},
          "execution_count": 184
        }
      ]
    },
    {
      "cell_type": "code",
      "source": [
        "col_metrics(ntsb_4, 'inj_tot_t') "
      ],
      "metadata": {
        "id": "6fMM5IToYRdf",
        "outputId": "ea2a4169-5604-40a7-c5a9-35f09fc10078",
        "colab": {
          "base_uri": "https://localhost:8080/",
          "height": 1000
        }
      },
      "id": "6fMM5IToYRdf",
      "execution_count": null,
      "outputs": [
        {
          "output_type": "stream",
          "name": "stdout",
          "text": [
            "current df shape: (67041, 17)\n",
            "Unique data:  [  1.  nan   2.   4.   3.   7.   5.   6.   8.  10.   9.  11.  20.  29.\n",
            "  12.  14.  13.  18.  22.  16.  23.  15.  21.  25.  90.  17.  86.  19.\n",
            " 130.   0.  50.  63. 163. 124. 140. 133. 190. 145.  55.  77.  85. 270.\n",
            " 179.]\n",
            "Value counts:  1.0      19015\n",
            "2.0      12281\n",
            "3.0       3043\n",
            "4.0       2042\n",
            "5.0        559\n",
            "6.0        303\n",
            "7.0        142\n",
            "8.0         79\n",
            "9.0         55\n",
            "10.0        40\n",
            "11.0        20\n",
            "12.0        15\n",
            "13.0        14\n",
            "15.0         9\n",
            "14.0         9\n",
            "18.0         8\n",
            "0.0          7\n",
            "16.0         7\n",
            "20.0         6\n",
            "17.0         3\n",
            "21.0         3\n",
            "22.0         2\n",
            "19.0         2\n",
            "29.0         2\n",
            "23.0         1\n",
            "140.0        1\n",
            "270.0        1\n",
            "85.0         1\n",
            "77.0         1\n",
            "55.0         1\n",
            "145.0        1\n",
            "190.0        1\n",
            "133.0        1\n",
            "163.0        1\n",
            "124.0        1\n",
            "25.0         1\n",
            "63.0         1\n",
            "50.0         1\n",
            "130.0        1\n",
            "86.0         1\n",
            "90.0         1\n",
            "179.0        1\n",
            "Name: inj_tot_t, dtype: int64\n",
            "Total nulls:  29357\n",
            "Data type:  float64\n"
          ]
        },
        {
          "output_type": "display_data",
          "data": {
            "text/plain": [
              "<Figure size 640x480 with 1 Axes>"
            ],
            "image/png": "[encoded data removed]"
          },
          "metadata": {}
        }
      ]
    },
    {
      "cell_type": "code",
      "source": [
        "# Column 69: Wind_vel_ind\n",
        "\n",
        "# Drop the two rows that have nulls for column 69 - wind_vel_ind\n",
        "ntsb_4 = ntsb_4.dropna(subset=['wind_vel_ind'])\n",
        "\n",
        "#Change data type to string\n",
        "ntsb_4['wind_vel_ind'] = ntsb_4['wind_vel_ind'].astype('string')"
      ],
      "metadata": {
        "id": "kjSPkDLqYWzG",
        "outputId": "e24afcee-bed7-4387-9bc3-731873c5f968",
        "colab": {
          "base_uri": "https://localhost:8080/"
        }
      },
      "id": "kjSPkDLqYWzG",
      "execution_count": null,
      "outputs": [
        {
          "output_type": "stream",
          "name": "stderr",
          "text": [
            "<ipython-input-186-ed95feb0f7e9>:7: SettingWithCopyWarning: \n",
            "A value is trying to be set on a copy of a slice from a DataFrame.\n",
            "Try using .loc[row_indexer,col_indexer] = value instead\n",
            "\n",
            "See the caveats in the documentation: https://pandas.pydata.org/pandas-docs/stable/user_guide/indexing.html#returning-a-view-versus-a-copy\n",
            "  ntsb_4['wind_vel_ind'] = ntsb_4['wind_vel_ind'].astype('string')\n"
          ]
        }
      ]
    },
    {
      "cell_type": "code",
      "source": [
        "# column 71: gust_kts   \n",
        "\n",
        "print(ntsb_4.sort_values('gust_kts'))"
      ],
      "metadata": {
        "id": "Di_1masSYXmb",
        "outputId": "c3f7700c-37af-4df7-c89c-b5539bb84452",
        "colab": {
          "base_uri": "https://localhost:8080/"
        }
      },
      "id": "Di_1masSYXmb",
      "execution_count": null,
      "outputs": [
        {
          "output_type": "stream",
          "name": "stdout",
          "text": [
            "      wind_vel_ind gust_ind  gust_kts  altimeter  wx_dens_alt wx_int_precip  \\\n",
            "0              UNK        U       0.0        NaN          NaN           UNK   \n",
            "38811         CALM        N       0.0        NaN          NaN           UNK   \n",
            "38812          UNK        N       0.0  29.000000          NaN           UNK   \n",
            "38813          UNK        U       0.0  30.000000       7300.0           UNK   \n",
            "38814         CALM        N       0.0        NaN          NaN           UNK   \n",
            "...            ...      ...       ...        ...          ...           ...   \n",
            "58194         SPEC        N       NaN  30.200001          NaN           NaN   \n",
            "58196         SPEC        N       NaN  30.290001          NaN           NaN   \n",
            "58197         SPEC        N       NaN  30.219999          NaN           NaN   \n",
            "58204         SPEC        N       NaN  30.290001          NaN           NaN   \n",
            "58214         SPEC        N       NaN  29.870001          NaN           NaN   \n",
            "\n",
            "      ev_highest_injury  inj_tot_t wx_cond_basic Cause_Factor  crew_no  \\\n",
            "0                  MINR        1.0           VMC          NaN      NaN   \n",
            "38811              FATL        1.0           VMC          NaN      NaN   \n",
            "38812              SERS        1.0           VMC          NaN      NaN   \n",
            "38813              SERS        2.0           VMC          NaN      NaN   \n",
            "38814              MINR        1.0           VMC          NaN      NaN   \n",
            "...                 ...        ...           ...          ...      ...   \n",
            "58194              NONE        NaN           VMC          NaN      NaN   \n",
            "58196              NONE        NaN           VMC          NaN      NaN   \n",
            "58197              NONE        NaN           VMC          NaN      NaN   \n",
            "58204              NONE        NaN           VMC          NaN      NaN   \n",
            "58214              FATL        2.0           VMC            C      2.0   \n",
            "\n",
            "      crew_category  crew_age crew_sex med_certf pilot_flying crew_inj_level  \n",
            "0               NaN       NaN      NaN       NaN        False            NaN  \n",
            "38811           NaN       NaN      NaN       NaN        False            NaN  \n",
            "38812           NaN       NaN      NaN       NaN        False            NaN  \n",
            "38813           NaN       NaN      NaN       NaN        False            NaN  \n",
            "38814           NaN       NaN      NaN       NaN        False            NaN  \n",
            "...             ...       ...      ...       ...          ...            ...  \n",
            "58194           NaN       NaN      NaN       NaN        False            NaN  \n",
            "58196           NaN       NaN      NaN       NaN        False            NaN  \n",
            "58197           NaN       NaN      NaN       NaN        False            NaN  \n",
            "58204           NaN       NaN      NaN       NaN        False            NaN  \n",
            "58214          PRPS      27.0        M       NaN        False           FATL  \n",
            "\n",
            "[66908 rows x 17 columns]\n"
          ]
        }
      ]
    },
    {
      "cell_type": "code",
      "source": [
        "# column 74: wx_int_precip     \n",
        "\n",
        "# May have to drop this column since only about 18% of values or 101004 out of 104... are not null or unknown\n",
        "ntsb_4['wx_int_precip'] = ntsb_4['wx_int_precip'].fillna(\"UNK\")\n",
        "print(ntsb_4['wx_int_precip'].isna().sum())\n",
        "\n",
        "print('updated null count:', ntsb_4['wx_int_precip'].isna().sum())"
      ],
      "metadata": {
        "id": "UQzbEj2gYZd8",
        "outputId": "0a19a49d-fd17-4641-9de2-f4c2ced5ddf2",
        "colab": {
          "base_uri": "https://localhost:8080/"
        }
      },
      "id": "UQzbEj2gYZd8",
      "execution_count": null,
      "outputs": [
        {
          "output_type": "stream",
          "name": "stdout",
          "text": [
            "0\n",
            "updated null count: 0\n"
          ]
        }
      ]
    },
    {
      "cell_type": "code",
      "source": [
        "# column 77: wx_cond_basic\n",
        "\n",
        "# Replace 'Unk' with 'UNK' to match the values in wx_cond_basic columns   \n",
        "ntsb_4['wx_cond_basic'] = ntsb_4['wx_cond_basic'].str.replace('Unk', 'UNK')\n",
        "# Drop the remaining nulls\n",
        "ntsb_4 = ntsb_4.dropna(subset=['wx_cond_basic'])"
      ],
      "metadata": {
        "id": "bxnLnLfTYb55"
      },
      "id": "bxnLnLfTYb55",
      "execution_count": null,
      "outputs": []
    },
    {
      "cell_type": "code",
      "source": [
        "# convert data types to string\n",
        "ntsb_4['gust_ind'] = ntsb_4['gust_ind'].astype('string')\n",
        "ntsb_4['wx_int_precip'] = ntsb_4['wx_int_precip'].astype('string')\n",
        "ntsb_4['ev_highest_injury'] = ntsb_4['ev_highest_injury'].astype('string')\n",
        "ntsb_4['wx_cond_basic'] = ntsb_4['wx_cond_basic'].astype('string')\n",
        "ntsb_4['Cause_Factor'] = ntsb_4['Cause_Factor'].astype('string')\n",
        "ntsb_4['crew_category'] = ntsb_4['crew_category'].astype('string')\n",
        "ntsb_4['crew_sex'] = ntsb_4['crew_sex'].astype('string')\n",
        "ntsb_4['med_certf'] = ntsb_4['med_certf'].astype('string')\n",
        "ntsb_4['pilot_flying'] = ntsb_4['pilot_flying'].astype('string')\n",
        "ntsb_4['crew_inj_level'] = ntsb_4['crew_inj_level'].astype('string')"
      ],
      "metadata": {
        "id": "jj5s4JbgYdbM"
      },
      "id": "jj5s4JbgYdbM",
      "execution_count": null,
      "outputs": []
    },
    {
      "cell_type": "code",
      "source": [
        "# Drop unnecessary columns\n",
        "ntsb_4 = ntsb_4.drop('Cause_Factor', axis=1)"
      ],
      "metadata": {
        "id": "duUSAuGzYfBP"
      },
      "id": "duUSAuGzYfBP",
      "execution_count": null,
      "outputs": []
    },
    {
      "cell_type": "code",
      "source": [
        "ntsb_4.info()"
      ],
      "metadata": {
        "id": "aWEZafZ-YgTe",
        "outputId": "6265d1f0-7149-4a8f-b661-72ccd891abd4",
        "colab": {
          "base_uri": "https://localhost:8080/"
        }
      },
      "id": "aWEZafZ-YgTe",
      "execution_count": null,
      "outputs": [
        {
          "output_type": "stream",
          "name": "stdout",
          "text": [
            "<class 'pandas.core.frame.DataFrame'>\n",
            "Int64Index: 66861 entries, 0 to 112802\n",
            "Data columns (total 16 columns):\n",
            " #   Column             Non-Null Count  Dtype  \n",
            "---  ------             --------------  -----  \n",
            " 0   wind_vel_ind       66861 non-null  string \n",
            " 1   gust_ind           66837 non-null  string \n",
            " 2   gust_kts           58949 non-null  float64\n",
            " 3   altimeter          51941 non-null  float64\n",
            " 4   wx_dens_alt        18573 non-null  float64\n",
            " 5   wx_int_precip      66861 non-null  string \n",
            " 6   ev_highest_injury  66843 non-null  string \n",
            " 7   inj_tot_t          37593 non-null  float64\n",
            " 8   wx_cond_basic      66861 non-null  string \n",
            " 9   crew_no            11749 non-null  float64\n",
            " 10  crew_category      11664 non-null  string \n",
            " 11  crew_age           11323 non-null  float64\n",
            " 12  crew_sex           8733 non-null   string \n",
            " 13  med_certf          11271 non-null  string \n",
            " 14  pilot_flying       65504 non-null  string \n",
            " 15  crew_inj_level     11374 non-null  string \n",
            "dtypes: float64(6), string(10)\n",
            "memory usage: 8.7 MB\n"
          ]
        }
      ]
    },
    {
      "cell_type": "markdown",
      "source": [
        "## Save final copy of data set"
      ],
      "metadata": {
        "id": "2Fd2WmiMav8T"
      },
      "id": "2Fd2WmiMav8T"
    },
    {
      "cell_type": "code",
      "source": [
        "ntsb_4.to_csv('cleaned_ntsb.csv')"
      ],
      "metadata": {
        "id": "rucsJhMDayJa"
      },
      "id": "rucsJhMDayJa",
      "execution_count": null,
      "outputs": []
    }
  ],
  "metadata": {
    "kernelspec": {
      "display_name": "Python 3 (ipykernel)",
      "language": "python",
      "name": "python3"
    },
    "language_info": {
      "codemirror_mode": {
        "name": "ipython",
        "version": 3
      },
      "file_extension": ".py",
      "mimetype": "text/x-python",
      "name": "python",
      "nbconvert_exporter": "python",
      "pygments_lexer": "ipython3",
      "version": "3.8.8"
    },
    "colab": {
      "provenance": [],
      "include_colab_link": true
    }
  },
  "nbformat": 4,
  "nbformat_minor": 5
}