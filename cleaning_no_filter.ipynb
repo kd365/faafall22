{
  "cells": [
    {
      "cell_type": "markdown",
      "metadata": {
        "id": "view-in-github",
        "colab_type": "text"
      },
      "source": [
        "<a href=\"https://colab.research.google.com/github/kd365/faafall22/blob/main/cleaning_no_filter.ipynb\" target=\"_parent\"><img src=\"https://colab.research.google.com/assets/colab-badge.svg\" alt=\"Open In Colab\"/></a>"
      ]
    },
    {
      "cell_type": "markdown",
      "source": [
        "# NTSB Cleaning Notebook"
      ],
      "metadata": {
        "id": "uFmGuv_e813K"
      },
      "id": "uFmGuv_e813K"
    },
    {
      "cell_type": "markdown",
      "source": [
        "## Steps:\n",
        "1. Import libraries and raw data\n",
        "2. Initial column drops\n",
        "3. Cleaning steps that wil apply to entire dataframe\n",
        "4. Cleaning each column\n",
        "\n",
        "**Cleaning Plan:**\n",
        "\n",
        "Hunter:\n",
        "- cols 0-22\n",
        "Kathleen:\n",
        "- col 23-45\n",
        "Eric:\n",
        "- col 46-68\n",
        "Chi:\n",
        "- col 69-85\n"
      ],
      "metadata": {
        "id": "t83UG5G79C69"
      },
      "id": "t83UG5G79C69"
    },
    {
      "cell_type": "markdown",
      "source": [
        "### 1. Import libraries"
      ],
      "metadata": {
        "id": "G1TLyT5-8xS3"
      },
      "id": "G1TLyT5-8xS3"
    },
    {
      "cell_type": "code",
      "source": [
        "from google.colab import files\n",
        "import pandas as pd\n",
        "\n",
        "uploaded = files.upload()"
      ],
      "metadata": {
        "id": "w0dmdVmRXvEp",
        "outputId": "e4c0ba78-a005-4f3f-806e-3dd84dd033f2",
        "colab": {
          "base_uri": "https://localhost:8080/",
          "height": 73
        }
      },
      "id": "w0dmdVmRXvEp",
      "execution_count": 1,
      "outputs": [
        {
          "output_type": "display_data",
          "data": {
            "text/plain": [
              "<IPython.core.display.HTML object>"
            ],
            "text/html": [
              "\n",
              "     <input type=\"file\" id=\"files-84c3a240-3ee5-40e0-80c7-7449d51520e8\" name=\"files[]\" multiple disabled\n",
              "        style=\"border:none\" />\n",
              "     <output id=\"result-84c3a240-3ee5-40e0-80c7-7449d51520e8\">\n",
              "      Upload widget is only available when the cell has been executed in the\n",
              "      current browser session. Please rerun this cell to enable.\n",
              "      </output>\n",
              "      <script>// Copyright 2017 Google LLC\n",
              "//\n",
              "// Licensed under the Apache License, Version 2.0 (the \"License\");\n",
              "// you may not use this file except in compliance with the License.\n",
              "// You may obtain a copy of the License at\n",
              "//\n",
              "//      http://www.apache.org/licenses/LICENSE-2.0\n",
              "//\n",
              "// Unless required by applicable law or agreed to in writing, software\n",
              "// distributed under the License is distributed on an \"AS IS\" BASIS,\n",
              "// WITHOUT WARRANTIES OR CONDITIONS OF ANY KIND, either express or implied.\n",
              "// See the License for the specific language governing permissions and\n",
              "// limitations under the License.\n",
              "\n",
              "/**\n",
              " * @fileoverview Helpers for google.colab Python module.\n",
              " */\n",
              "(function(scope) {\n",
              "function span(text, styleAttributes = {}) {\n",
              "  const element = document.createElement('span');\n",
              "  element.textContent = text;\n",
              "  for (const key of Object.keys(styleAttributes)) {\n",
              "    element.style[key] = styleAttributes[key];\n",
              "  }\n",
              "  return element;\n",
              "}\n",
              "\n",
              "// Max number of bytes which will be uploaded at a time.\n",
              "const MAX_PAYLOAD_SIZE = 100 * 1024;\n",
              "\n",
              "function _uploadFiles(inputId, outputId) {\n",
              "  const steps = uploadFilesStep(inputId, outputId);\n",
              "  const outputElement = document.getElementById(outputId);\n",
              "  // Cache steps on the outputElement to make it available for the next call\n",
              "  // to uploadFilesContinue from Python.\n",
              "  outputElement.steps = steps;\n",
              "\n",
              "  return _uploadFilesContinue(outputId);\n",
              "}\n",
              "\n",
              "// This is roughly an async generator (not supported in the browser yet),\n",
              "// where there are multiple asynchronous steps and the Python side is going\n",
              "// to poll for completion of each step.\n",
              "// This uses a Promise to block the python side on completion of each step,\n",
              "// then passes the result of the previous step as the input to the next step.\n",
              "function _uploadFilesContinue(outputId) {\n",
              "  const outputElement = document.getElementById(outputId);\n",
              "  const steps = outputElement.steps;\n",
              "\n",
              "  const next = steps.next(outputElement.lastPromiseValue);\n",
              "  return Promise.resolve(next.value.promise).then((value) => {\n",
              "    // Cache the last promise value to make it available to the next\n",
              "    // step of the generator.\n",
              "    outputElement.lastPromiseValue = value;\n",
              "    return next.value.response;\n",
              "  });\n",
              "}\n",
              "\n",
              "/**\n",
              " * Generator function which is called between each async step of the upload\n",
              " * process.\n",
              " * @param {string} inputId Element ID of the input file picker element.\n",
              " * @param {string} outputId Element ID of the output display.\n",
              " * @return {!Iterable<!Object>} Iterable of next steps.\n",
              " */\n",
              "function* uploadFilesStep(inputId, outputId) {\n",
              "  const inputElement = document.getElementById(inputId);\n",
              "  inputElement.disabled = false;\n",
              "\n",
              "  const outputElement = document.getElementById(outputId);\n",
              "  outputElement.innerHTML = '';\n",
              "\n",
              "  const pickedPromise = new Promise((resolve) => {\n",
              "    inputElement.addEventListener('change', (e) => {\n",
              "      resolve(e.target.files);\n",
              "    });\n",
              "  });\n",
              "\n",
              "  const cancel = document.createElement('button');\n",
              "  inputElement.parentElement.appendChild(cancel);\n",
              "  cancel.textContent = 'Cancel upload';\n",
              "  const cancelPromise = new Promise((resolve) => {\n",
              "    cancel.onclick = () => {\n",
              "      resolve(null);\n",
              "    };\n",
              "  });\n",
              "\n",
              "  // Wait for the user to pick the files.\n",
              "  const files = yield {\n",
              "    promise: Promise.race([pickedPromise, cancelPromise]),\n",
              "    response: {\n",
              "      action: 'starting',\n",
              "    }\n",
              "  };\n",
              "\n",
              "  cancel.remove();\n",
              "\n",
              "  // Disable the input element since further picks are not allowed.\n",
              "  inputElement.disabled = true;\n",
              "\n",
              "  if (!files) {\n",
              "    return {\n",
              "      response: {\n",
              "        action: 'complete',\n",
              "      }\n",
              "    };\n",
              "  }\n",
              "\n",
              "  for (const file of files) {\n",
              "    const li = document.createElement('li');\n",
              "    li.append(span(file.name, {fontWeight: 'bold'}));\n",
              "    li.append(span(\n",
              "        `(${file.type || 'n/a'}) - ${file.size} bytes, ` +\n",
              "        `last modified: ${\n",
              "            file.lastModifiedDate ? file.lastModifiedDate.toLocaleDateString() :\n",
              "                                    'n/a'} - `));\n",
              "    const percent = span('0% done');\n",
              "    li.appendChild(percent);\n",
              "\n",
              "    outputElement.appendChild(li);\n",
              "\n",
              "    const fileDataPromise = new Promise((resolve) => {\n",
              "      const reader = new FileReader();\n",
              "      reader.onload = (e) => {\n",
              "        resolve(e.target.result);\n",
              "      };\n",
              "      reader.readAsArrayBuffer(file);\n",
              "    });\n",
              "    // Wait for the data to be ready.\n",
              "    let fileData = yield {\n",
              "      promise: fileDataPromise,\n",
              "      response: {\n",
              "        action: 'continue',\n",
              "      }\n",
              "    };\n",
              "\n",
              "    // Use a chunked sending to avoid message size limits. See b/62115660.\n",
              "    let position = 0;\n",
              "    do {\n",
              "      const length = Math.min(fileData.byteLength - position, MAX_PAYLOAD_SIZE);\n",
              "      const chunk = new Uint8Array(fileData, position, length);\n",
              "      position += length;\n",
              "\n",
              "      const base64 = btoa(String.fromCharCode.apply(null, chunk));\n",
              "      yield {\n",
              "        response: {\n",
              "          action: 'append',\n",
              "          file: file.name,\n",
              "          data: base64,\n",
              "        },\n",
              "      };\n",
              "\n",
              "      let percentDone = fileData.byteLength === 0 ?\n",
              "          100 :\n",
              "          Math.round((position / fileData.byteLength) * 100);\n",
              "      percent.textContent = `${percentDone}% done`;\n",
              "\n",
              "    } while (position < fileData.byteLength);\n",
              "  }\n",
              "\n",
              "  // All done.\n",
              "  yield {\n",
              "    response: {\n",
              "      action: 'complete',\n",
              "    }\n",
              "  };\n",
              "}\n",
              "\n",
              "scope.google = scope.google || {};\n",
              "scope.google.colab = scope.google.colab || {};\n",
              "scope.google.colab._files = {\n",
              "  _uploadFiles,\n",
              "  _uploadFilesContinue,\n",
              "};\n",
              "})(self);\n",
              "</script> "
            ]
          },
          "metadata": {}
        },
        {
          "output_type": "stream",
          "name": "stdout",
          "text": [
            "Saving NTSB_for_cleaning.csv to NTSB_for_cleaning.csv\n"
          ]
        }
      ]
    },
    {
      "cell_type": "code",
      "source": [
        "import re\n",
        "import numpy as np"
      ],
      "metadata": {
        "id": "hZefpoX7EXSf"
      },
      "id": "hZefpoX7EXSf",
      "execution_count": 2,
      "outputs": []
    },
    {
      "cell_type": "code",
      "execution_count": 3,
      "id": "998f647c",
      "metadata": {
        "id": "998f647c",
        "outputId": "743a268b-44fe-4a01-ffca-b8b767aad0b0",
        "colab": {
          "base_uri": "https://localhost:8080/"
        }
      },
      "outputs": [
        {
          "output_type": "stream",
          "name": "stdout",
          "text": [
            "<class 'pandas.core.frame.DataFrame'>\n",
            "RangeIndex: 104120 entries, 0 to 104119\n",
            "Data columns (total 86 columns):\n",
            " #   Column                 Non-Null Count   Dtype  \n",
            "---  ------                 --------------   -----  \n",
            " 0   aircraft_ev_id         104120 non-null  object \n",
            " 1   far_part               104120 non-null  object \n",
            " 2   flight_plan_activated  45517 non-null   object \n",
            " 3   damage                 103326 non-null  object \n",
            " 4   acft_make              104108 non-null  object \n",
            " 5   acft_model             104096 non-null  object \n",
            " 6   cert_max_gr_wt         93685 non-null   float64\n",
            " 7   num_eng                102746 non-null  float64\n",
            " 8   type_last_insp         99030 non-null   object \n",
            " 9   date_last_insp         83764 non-null   object \n",
            " 10  afm_hrs_last_insp      58888 non-null   float64\n",
            " 11  afm_hrs                84919 non-null   float64\n",
            " 12  type_fly               100532 non-null  object \n",
            " 13  dprt_apt_id            85958 non-null   object \n",
            " 14  dprt_city              88866 non-null   object \n",
            " 15  dprt_state             89162 non-null   object \n",
            " 16  dprt_time              94605 non-null   float64\n",
            " 17  dest_same_local        34112 non-null   object \n",
            " 18  dest_apt_id            71722 non-null   object \n",
            " 19  dest_city              74822 non-null   object \n",
            " 20  dest_state             75078 non-null   object \n",
            " 21  phase_flt_spec         51969 non-null   float64\n",
            " 22  afm_hrs_since          59743 non-null   object \n",
            " 23  rwy_num                77801 non-null   object \n",
            " 24  rwy_len                64245 non-null   float64\n",
            " 25  rwy_width              63263 non-null   float64\n",
            " 26  ifr_equipped_cert      104120 non-null  bool   \n",
            " 27  eng_no                 103670 non-null  float64\n",
            " 28  eng_type               103258 non-null  object \n",
            " 29  eng_mfgr               102470 non-null  object \n",
            " 30  hp_or_lbs              98580 non-null   object \n",
            " 31  carb_fuel_injection    86604 non-null   object \n",
            " 32  eng_time_total         51578 non-null   float64\n",
            " 33  eng_time_last_insp     51578 non-null   float64\n",
            " 34  ntsb_no                104120 non-null  object \n",
            " 35  ev_type                104120 non-null  object \n",
            " 36  ev_date                104120 non-null  object \n",
            " 37  ev_dow                 104120 non-null  object \n",
            " 38  ev_time                104035 non-null  float64\n",
            " 39  ev_city                104114 non-null  object \n",
            " 40  ev_state               103812 non-null  object \n",
            " 41  ev_year                104120 non-null  int64  \n",
            " 42  ev_month               104120 non-null  int64  \n",
            " 43  latitude               60230 non-null   object \n",
            " 44  longitude              60231 non-null   object \n",
            " 45  apt_name               72793 non-null   object \n",
            " 46  ev_nr_apt_id           69801 non-null   object \n",
            " 47  ev_nr_apt_loc          102547 non-null  object \n",
            " 48  apt_dist               87657 non-null   float64\n",
            " 49  apt_dir                46753 non-null   float64\n",
            " 50  apt_elev               74371 non-null   float64\n",
            " 51  wx_src_iic             102501 non-null  object \n",
            " 52  wx_obs_time            98591 non-null   float64\n",
            " 53  wx_obs_dir             101520 non-null  float64\n",
            " 54  wx_obs_fac_id          82383 non-null   object \n",
            " 55  wx_obs_elev            94869 non-null   float64\n",
            " 56  wx_obs_dist            101940 non-null  float64\n",
            " 57  light_cond             103997 non-null  object \n",
            " 58  sky_cond_nonceil       94823 non-null   object \n",
            " 59  sky_nonceil_ht         97868 non-null   float64\n",
            " 60  sky_ceil_ht            97549 non-null   float64\n",
            " 61  sky_cond_ceil          100149 non-null  object \n",
            " 62  vis_rvr                42792 non-null   float64\n",
            " 63  vis_sm                 102787 non-null  float64\n",
            " 64  wx_temp                100236 non-null  float64\n",
            " 65  wx_dew_pt              92593 non-null   float64\n",
            " 66  wind_dir_deg           102898 non-null  float64\n",
            " 67  wind_dir_ind           103617 non-null  object \n",
            " 68  wind_vel_kts           93150 non-null   float64\n",
            " 69  wind_vel_ind           104079 non-null  object \n",
            " 70  gust_ind               104100 non-null  object \n",
            " 71  gust_kts               96906 non-null   float64\n",
            " 72  altimeter              91137 non-null   float64\n",
            " 73  wx_dens_alt            19070 non-null   float64\n",
            " 74  wx_int_precip          42863 non-null   object \n",
            " 75  ev_highest_injury      104033 non-null  object \n",
            " 76  inj_tot_t              76097 non-null   float64\n",
            " 77  wx_cond_basic          104078 non-null  object \n",
            " 78  Cause_Factor           43521 non-null   object \n",
            " 79  crew_no                51448 non-null   float64\n",
            " 80  crew_category          50990 non-null   object \n",
            " 81  crew_age               49235 non-null   float64\n",
            " 82  crew_sex               37326 non-null   object \n",
            " 83  med_certf              48872 non-null   object \n",
            " 84  pilot_flying           103551 non-null  object \n",
            " 85  crew_inj_level         50327 non-null   object \n",
            "dtypes: bool(1), float64(33), int64(2), object(50)\n",
            "memory usage: 67.6+ MB\n"
          ]
        }
      ],
      "source": [
        "# setting pandas display options\n",
        "pd.set_option('display.max_rows', 150)\n",
        "\n",
        "# reading in NTSB csv file\n",
        "ntsb_raw = pd.read_csv(\"NTSB_for_cleaning.csv\", encoding='latin-1', low_memory=False)\n",
        "ntsb_raw = ntsb_raw.drop(['engines_ev_id', 'events_ev_id', 'Unnamed: 0'], axis=1)\n",
        "# view the dataframe info\n",
        "ntsb_raw.info()"
      ]
    },
    {
      "cell_type": "markdown",
      "source": [
        "### 2. Initial Drop"
      ],
      "metadata": {
        "id": "rTGB5OeKO5H7"
      },
      "id": "rTGB5OeKO5H7"
    },
    {
      "cell_type": "code",
      "source": [
        "# need to delete duplicate records\n",
        "ntsb_raw = ntsb_raw.drop_duplicates(subset='aircraft_ev_id', keep='last')\n",
        "ntsb_raw.shape"
      ],
      "metadata": {
        "id": "K7_euSXJ8h8R",
        "outputId": "e9cb763f-5e7b-49f4-e655-1e2348f35052",
        "colab": {
          "base_uri": "https://localhost:8080/"
        }
      },
      "id": "K7_euSXJ8h8R",
      "execution_count": 4,
      "outputs": [
        {
          "output_type": "execute_result",
          "data": {
            "text/plain": [
              "(61705, 86)"
            ]
          },
          "metadata": {},
          "execution_count": 4
        }
      ]
    },
    {
      "cell_type": "code",
      "source": [
        "# drop all records that do not have at least 70 columns worth of data in them\n",
        "#ntsb_raw = ntsb_raw.dropna(thresh=50)"
      ],
      "metadata": {
        "id": "nQJJY6lK6hTa"
      },
      "id": "nQJJY6lK6hTa",
      "execution_count": 5,
      "outputs": []
    },
    {
      "cell_type": "code",
      "source": [
        "# drop any columns that have more than 40% null values\n",
        "total_rows = ntsb_raw.shape[0]\n",
        "\n",
        "def drop_cols(df, df_size):\n",
        "    # create a list of columns to drop\n",
        "    drop = []\n",
        "    # iterate over each column\n",
        "    for x in df.columns:\n",
        "        #determine if the ratio of nulls is greater than 30%\n",
        "        ratio = (df[x].isna().sum()) / df_size\n",
        "        if ratio > 0.5:\n",
        "            drop.append(x)\n",
        "    # drop the columns in the drop list\n",
        "    df.drop(labels=drop, axis=1)\n",
        "    print('Cols dropped from df:', drop)\n",
        "    return df\n",
        "\n",
        "ntsb_dropped_cols = drop_cols(ntsb_raw, total_rows)      \n"
      ],
      "metadata": {
        "colab": {
          "base_uri": "https://localhost:8080/"
        },
        "id": "vdxZW7P5_5i6",
        "outputId": "7dc5e30f-a26e-4c40-cda6-121b84d055cb"
      },
      "id": "vdxZW7P5_5i6",
      "execution_count": 7,
      "outputs": [
        {
          "output_type": "stream",
          "name": "stdout",
          "text": [
            "Cols dropped from df: ['flight_plan_activated', 'afm_hrs_since', 'eng_time_total', 'eng_time_last_insp', 'latitude', 'longitude', 'wx_dens_alt', 'Cause_Factor', 'crew_no', 'crew_category', 'crew_age', 'crew_sex', 'med_certf', 'crew_inj_level']\n"
          ]
        }
      ]
    },
    {
      "cell_type": "code",
      "source": [
        "print(ntsb_dropped_cols.shape)"
      ],
      "metadata": {
        "colab": {
          "base_uri": "https://localhost:8080/"
        },
        "id": "n1YllzgSTVIS",
        "outputId": "490dbf6e-9001-4e9a-ae8d-5744f5b3e2cd"
      },
      "id": "n1YllzgSTVIS",
      "execution_count": 8,
      "outputs": [
        {
          "output_type": "stream",
          "name": "stdout",
          "text": [
            "(61705, 86)\n"
          ]
        }
      ]
    },
    {
      "cell_type": "markdown",
      "source": [
        "## 3. Cleaning that applies to entire data set"
      ],
      "metadata": {
        "id": "u2TOQKAg5sI9"
      },
      "id": "u2TOQKAg5sI9"
    },
    {
      "cell_type": "code",
      "source": [
        "# function to initially clean up all strings in df\n",
        "def df_string_transform(df):\n",
        "    ''' \n",
        "    force all text data to lowercase and strip left and right side of strings\n",
        "    in all string columns\n",
        "\n",
        "    args: dataframe\n",
        "\n",
        "    returns: dataframe\n",
        "    '''\n",
        "    df1 = df.applymap(lambda x: x.lower() if type(x) == str else x)\n",
        "    df1 = df1.applymap(lambda x: x.strip() if type(x) == str else x)\n",
        "    return df1"
      ],
      "metadata": {
        "id": "F4-A27i55qay"
      },
      "id": "F4-A27i55qay",
      "execution_count": 9,
      "outputs": []
    },
    {
      "cell_type": "code",
      "source": [
        "# applying the funcrition from above\n",
        "ntsb_1 = df_string_transform(ntsb_dropped_cols)"
      ],
      "metadata": {
        "id": "2o7ipQWb_xaZ"
      },
      "id": "2o7ipQWb_xaZ",
      "execution_count": 10,
      "outputs": []
    },
    {
      "cell_type": "code",
      "source": [
        "print(ntsb_1.shape)"
      ],
      "metadata": {
        "id": "0fotg4op9YoS",
        "outputId": "e81b356d-012d-4fa9-e61f-10275622965d",
        "colab": {
          "base_uri": "https://localhost:8080/"
        }
      },
      "id": "0fotg4op9YoS",
      "execution_count": 11,
      "outputs": [
        {
          "output_type": "stream",
          "name": "stdout",
          "text": [
            "(61705, 86)\n"
          ]
        }
      ]
    },
    {
      "cell_type": "markdown",
      "source": [
        "**NOTE**: for section 3 use the dataframe `ntsb_1` for cleaning"
      ],
      "metadata": {
        "id": "loxHcDDkAGmS"
      },
      "id": "loxHcDDkAGmS"
    },
    {
      "cell_type": "markdown",
      "source": [
        "### 3. Cleaning Each Column"
      ],
      "metadata": {
        "id": "r1Kb9XWSO9YW"
      },
      "id": "r1Kb9XWSO9YW"
    },
    {
      "cell_type": "code",
      "source": [
        "# function to show all the metrics you will want to see for each column\n",
        "def col_metrics(df, col='none'):\n",
        "  print('current df shape:', df.shape)\n",
        "  print('Unique data: ', df[col].unique())\n",
        "  print('Value counts: ', df[col].value_counts())\n",
        "  print('Total nulls: ', df[col].isna().sum())\n",
        "  print('Data type: ', df[col].dtypes)\n",
        "  try: \n",
        "      ntsb_1[col].plot.hist()\n",
        "  except:\n",
        "      pass"
      ],
      "metadata": {
        "id": "L5bOiUp6PSBx"
      },
      "id": "L5bOiUp6PSBx",
      "execution_count": 12,
      "outputs": []
    },
    {
      "cell_type": "markdown",
      "source": [
        "### HUNTER'S SECTION"
      ],
      "metadata": {
        "id": "OpIxqub26j2I"
      },
      "id": "OpIxqub26j2I"
    },
    {
      "cell_type": "code",
      "source": [
        "# column 1: far part\n",
        "col_metrics(ntsb_1, col='far_part')      \n",
        "\n",
        "# making a copy of the data set as ntsb_1\n",
        "ntsb_1 = pd.DataFrame.copy(ntsb_1)\n",
        "\n",
        "# remove the K and F from part 091\n",
        "ntsb_1['far_part'] = ntsb_1['far_part'].str.replace('k', '').str.replace('f', '').str.replace('arm', '091')\n",
        "print(ntsb_1['far_part'].unique())"
      ],
      "metadata": {
        "colab": {
          "base_uri": "https://localhost:8080/"
        },
        "id": "37MrEvJ2P688",
        "outputId": "bd736bef-cd28-4742-8cbc-1a7da5533409"
      },
      "id": "37MrEvJ2P688",
      "execution_count": 13,
      "outputs": [
        {
          "output_type": "stream",
          "name": "stdout",
          "text": [
            "current df shape: (61705, 86)\n",
            "Unique data:  ['135' '091' '137' '103' 'armf' '091f' '091k' '437']\n",
            "Value counts:  091     55123\n",
            "137      3410\n",
            "135      2984\n",
            "103       133\n",
            "091f       33\n",
            "091k       11\n",
            "armf       10\n",
            "437         1\n",
            "Name: far_part, dtype: int64\n",
            "Total nulls:  0\n",
            "Data type:  object\n",
            "['135' '091' '137' '103' '437']\n"
          ]
        }
      ]
    },
    {
      "cell_type": "code",
      "source": [
        "# column 3: 'damage'\n",
        "col_metrics(ntsb_1, 'damage')\n",
        "\n",
        "# change the unk to none\n",
        "ntsb_1['damage'] = ntsb_1['damage'].str.replace('unk', 'none')\n",
        "# drop the 491 rows that do not have a damage listing\n",
        "ntsb_1 = ntsb_1.dropna(subset='damage')\n",
        "print('final null count:', ntsb_1['damage'].isna().sum())"
      ],
      "metadata": {
        "colab": {
          "base_uri": "https://localhost:8080/"
        },
        "id": "6T_xO3v1W-aS",
        "outputId": "1e83a318-fc1b-4382-8f4e-f3a1ee523de3"
      },
      "id": "6T_xO3v1W-aS",
      "execution_count": 14,
      "outputs": [
        {
          "output_type": "stream",
          "name": "stdout",
          "text": [
            "current df shape: (61705, 86)\n",
            "Unique data:  ['subs' 'dest' 'none' 'minr' 'unk' nan]\n",
            "Value counts:  subs    46699\n",
            "dest    13592\n",
            "minr      973\n",
            "none      333\n",
            "unk         9\n",
            "Name: damage, dtype: int64\n",
            "Total nulls:  99\n",
            "Data type:  object\n",
            "final null count: 0\n"
          ]
        }
      ]
    },
    {
      "cell_type": "code",
      "source": [
        "# column 4: 'acft_make'\n",
        "col_metrics(ntsb_1, 'acft_make')\n",
        "\n",
        "# there are 6 rosw with nulls, will drop those\n",
        "ntsb_1 = ntsb_1.dropna(subset=['acft_make'])\n",
        "print(ntsb_1['acft_make'].isna().sum())"
      ],
      "metadata": {
        "colab": {
          "base_uri": "https://localhost:8080/"
        },
        "id": "AnYv7U0wXZK1",
        "outputId": "4c02f724-4b27-4a0c-837c-9c5b4b0cb56f"
      },
      "id": "AnYv7U0wXZK1",
      "execution_count": 15,
      "outputs": [
        {
          "output_type": "stream",
          "name": "stdout",
          "text": [
            "current df shape: (61606, 86)\n",
            "Unique data:  ['cessna' 'piper' 'beech' ... 'gerald nelson' 'gonzalez manuel a'\n",
            " 'harris-runyan']\n",
            "Value counts:  cessna                   21113\n",
            "piper                    11465\n",
            "beech                     4220\n",
            "bell                      1512\n",
            "mooney                    1080\n",
            "                         ...  \n",
            "robert thibodeau             1\n",
            "john h. mc clain, jr.        1\n",
            "larry schindler              1\n",
            "neyman-pietenpol             1\n",
            "harris-runyan                1\n",
            "Name: acft_make, Length: 5670, dtype: int64\n",
            "Total nulls:  10\n",
            "Data type:  object\n",
            "0\n"
          ]
        }
      ]
    },
    {
      "cell_type": "code",
      "source": [
        "# column 5: 'acft_model'\n",
        "col_metrics(ntsb_1, 'acft_model')\n",
        "\n",
        "# drop the 5 rows that have nulls\n",
        "ntsb_1 = ntsb_1.dropna(subset=['acft_model'])"
      ],
      "metadata": {
        "id": "AozNgVfCcgrX",
        "outputId": "8d77e989-c884-48af-d1af-79e2b47a4bb0",
        "colab": {
          "base_uri": "https://localhost:8080/"
        }
      },
      "id": "AozNgVfCcgrX",
      "execution_count": 16,
      "outputs": [
        {
          "output_type": "stream",
          "name": "stdout",
          "text": [
            "current df shape: (61596, 86)\n",
            "Unique data:  ['207' 'pa-22-160' '300' ... 'rv 7' 'f4u 5' 'skybolt 300']\n",
            "Value counts:  152               2022\n",
            "172               1087\n",
            "172n               965\n",
            "pa-28-140          813\n",
            "172m               671\n",
            "                  ... \n",
            "taterbug sb-1        1\n",
            "sport 1000           1\n",
            "chinook              1\n",
            "dragon fly 294       1\n",
            "skybolt 300          1\n",
            "Name: acft_model, Length: 8269, dtype: int64\n",
            "Total nulls:  21\n",
            "Data type:  object\n"
          ]
        }
      ]
    },
    {
      "cell_type": "code",
      "source": [
        "# column 5\n",
        "\n",
        "# remove the letters off the cessna model\n",
        "pattern = r'\\d\\d\\d\\w'\n",
        "ntsb_1['acft_model'] = ntsb_1['acft_model'].map(lambda x: re.sub(pattern, lambda match: match.group()[:-1], x))\n",
        "print(ntsb_1['acft_model'].value_counts())\n",
        "\n",
        "#if an aircraft make is not in the top 30, it will be categorized as other. \n",
        "model_top_30 = ntsb_1['acft_model'].value_counts()[0:30].index.tolist()\n",
        "\n",
        "# change the model names to 'other_model' if not in the top 30\n",
        "ntsb_1['acft_model'] = ntsb_1['acft_model'].map(lambda x: 'other_model' if x not in model_top_30 else x)"
      ],
      "metadata": {
        "id": "2mAwljGnBp79",
        "outputId": "e85027a8-5ba6-4525-d8bf-85a650053e4b",
        "colab": {
          "base_uri": "https://localhost:8080/"
        }
      },
      "id": "2mAwljGnBp79",
      "execution_count": 17,
      "outputs": [
        {
          "output_type": "stream",
          "name": "stdout",
          "text": [
            "172            4747\n",
            "150            2652\n",
            "152            2038\n",
            "182            1992\n",
            "pa-28-140       833\n",
            "               ... \n",
            "daphne/sdia       1\n",
            "r22-a             1\n",
            "sgs-1-26b         1\n",
            "206-l-3           1\n",
            "skybolt 300       1\n",
            "Name: acft_model, Length: 7657, dtype: int64\n"
          ]
        }
      ]
    },
    {
      "cell_type": "code",
      "source": [
        "# column 6: 'cert_max_gr_wt'\n",
        "col_metrics(ntsb_1, 'cert_max_gr_wt')\n",
        "print(ntsb_1['cert_max_gr_wt'].max(), ntsb_1['cert_max_gr_wt'].min())\n",
        "\n",
        "def weight_bins(df, col):\n",
        "    avg_wt = df[col].mean()    \n",
        "    wt_cat = []\n",
        "    for x in list(df[col]):\n",
        "        if x <= 12500:\n",
        "            x = 'small'\n",
        "            wt_cat.append(x)\n",
        "        elif x > 12500 and x < 41000:\n",
        "            x = 'medium'\n",
        "            wt_cat.append(x)\n",
        "        elif x == 'nan':\n",
        "            if avg_wt <=12500:\n",
        "                x = 'small'\n",
        "                wt_cat.append(x)\n",
        "            elif avg_wt > 12500 and x < 41000:\n",
        "                x = 'medium'\n",
        "                wt_cat.append(x)\n",
        "            else:\n",
        "                x = 'large commuter'\n",
        "                wt_cat.append(x)\n",
        "        else:\n",
        "            x = 'large commuter'\n",
        "            wt_cat.append(x)\n",
        "    df[col] = wt_cat\n",
        "    return df[col]"
      ],
      "metadata": {
        "id": "rnEhue0Ocw0W",
        "outputId": "e5abbea0-a736-457c-a618-39122599e7be",
        "colab": {
          "base_uri": "https://localhost:8080/",
          "height": 725
        }
      },
      "id": "rnEhue0Ocw0W",
      "execution_count": 18,
      "outputs": [
        {
          "output_type": "stream",
          "name": "stdout",
          "text": [
            "current df shape: (61575, 86)\n",
            "Unique data:  [ 3800.  1840. 14100. ... 21419.  2497.  2251.]\n",
            "Value counts:  1600.0     2759\n",
            "2300.0     2709\n",
            "1670.0     2314\n",
            "3600.0     1601\n",
            "2150.0     1595\n",
            "           ... \n",
            "2490.0        1\n",
            "1056.0        1\n",
            "615.0         1\n",
            "10294.0       1\n",
            "2251.0        1\n",
            "Name: cert_max_gr_wt, Length: 2244, dtype: int64\n",
            "Total nulls:  3418\n",
            "Data type:  float64\n",
            "882000.0 -3100.0\n"
          ]
        },
        {
          "output_type": "display_data",
          "data": {
            "text/plain": [
              "<Figure size 640x480 with 1 Axes>"
            ],
            "image/png": "[encoded data removed]"
          },
          "metadata": {}
        }
      ]
    },
    {
      "cell_type": "code",
      "source": [
        "# use the bin function to assign categories to weight classes\n",
        "ntsb_1['cert_max_gr_wt'] = weight_bins(ntsb_1, 'cert_max_gr_wt')"
      ],
      "metadata": {
        "id": "TgIjDAO1g4WQ"
      },
      "id": "TgIjDAO1g4WQ",
      "execution_count": 19,
      "outputs": []
    },
    {
      "cell_type": "code",
      "source": [
        "# column 7: 'num_eng'\n",
        "col_metrics(ntsb_1, 'num_eng')\n",
        "\n",
        "# convert the float to int and then impute the nulls with the median\n",
        "ntsb_1['num_eng'] = ntsb_1['num_eng']"
      ],
      "metadata": {
        "id": "DYFgOLsAIupJ",
        "outputId": "95bb39ee-2c61-43e6-ce83-29d2f402be0d",
        "colab": {
          "base_uri": "https://localhost:8080/",
          "height": 604
        }
      },
      "id": "DYFgOLsAIupJ",
      "execution_count": 20,
      "outputs": [
        {
          "output_type": "stream",
          "name": "stdout",
          "text": [
            "current df shape: (61575, 86)\n",
            "Unique data:  [ 1.  2. nan  3.  4.  0.]\n",
            "Value counts:  1.0    53204\n",
            "2.0     7035\n",
            "0.0      646\n",
            "4.0       56\n",
            "3.0       31\n",
            "Name: num_eng, dtype: int64\n",
            "Total nulls:  603\n",
            "Data type:  float64\n"
          ]
        },
        {
          "output_type": "display_data",
          "data": {
            "text/plain": [
              "<Figure size 640x480 with 1 Axes>"
            ],
            "image/png": "[encoded data removed]"
          },
          "metadata": {}
        }
      ]
    },
    {
      "cell_type": "code",
      "source": [
        "# change from float to int8\n",
        "# fill na with 1\n",
        "ntsb_1['num_eng'] = ntsb_1['num_eng'].fillna(1.0).astype('int8')\n"
      ],
      "metadata": {
        "id": "yBJh8lZz0qIE"
      },
      "id": "yBJh8lZz0qIE",
      "execution_count": 21,
      "outputs": []
    },
    {
      "cell_type": "code",
      "source": [
        "# column 8: 'type_last_insp'\n",
        "col_metrics(ntsb_1, 'type_last_insp')\n",
        "ntsb_1['type_last_insp'] = ntsb_1['type_last_insp'].fillna('unk')"
      ],
      "metadata": {
        "id": "FjJmxYhF2m2P",
        "outputId": "4a537e7b-fac0-4ef7-8cef-d3567884ecac",
        "colab": {
          "base_uri": "https://localhost:8080/"
        }
      },
      "id": "FjJmxYhF2m2P",
      "execution_count": 22,
      "outputs": [
        {
          "output_type": "stream",
          "name": "stdout",
          "text": [
            "current df shape: (61575, 86)\n",
            "Unique data:  ['100h' 'aaip' 'annl' 'unk' 'coaw' 'cond' nan]\n",
            "Value counts:  annl    35290\n",
            "unk     10134\n",
            "100h     9705\n",
            "cond     1786\n",
            "aaip     1706\n",
            "coaw     1572\n",
            "Name: type_last_insp, dtype: int64\n",
            "Total nulls:  1382\n",
            "Data type:  object\n"
          ]
        }
      ]
    },
    {
      "cell_type": "code",
      "source": [
        "# column 9: 'afm_hrs'\n",
        "col_metrics(ntsb_1, 'afm_hrs')"
      ],
      "metadata": {
        "id": "NBzHlrjz3dMn",
        "outputId": "1fe585c2-8508-4dab-d844-1bef0448463d",
        "colab": {
          "base_uri": "https://localhost:8080/",
          "height": 708
        }
      },
      "id": "NBzHlrjz3dMn",
      "execution_count": 23,
      "outputs": [
        {
          "output_type": "stream",
          "name": "stdout",
          "text": [
            "current df shape: (61575, 86)\n",
            "Unique data:  [10286.  14424.      nan ...  2341.8    53.2   967.5]\n",
            "Value counts:  1.0        138\n",
            "3000.0     112\n",
            "2500.0     102\n",
            "2000.0     100\n",
            "4000.0      91\n",
            "          ... \n",
            "12746.0      1\n",
            "12005.0      1\n",
            "6072.0       1\n",
            "4976.0       1\n",
            "967.5        1\n",
            "Name: afm_hrs, Length: 13518, dtype: int64\n",
            "Total nulls:  12000\n",
            "Data type:  float64\n"
          ]
        },
        {
          "output_type": "display_data",
          "data": {
            "text/plain": [
              "<Figure size 640x480 with 1 Axes>"
            ],
            "image/png": "[encoded data removed]"
          },
          "metadata": {}
        }
      ]
    },
    {
      "cell_type": "code",
      "source": [
        "ntsb_1['afm_hrs'].describe()"
      ],
      "metadata": {
        "id": "ozdPI2_V6ZBe",
        "outputId": "1bad9a97-f2e1-4962-ce0f-a7d644fffa75",
        "colab": {
          "base_uri": "https://localhost:8080/"
        }
      },
      "id": "ozdPI2_V6ZBe",
      "execution_count": 24,
      "outputs": [
        {
          "output_type": "execute_result",
          "data": {
            "text/plain": [
              "count     49575.000000\n",
              "mean       3644.943467\n",
              "std        4666.852403\n",
              "min           0.000000\n",
              "25%        1271.000000\n",
              "50%        2712.000000\n",
              "75%        4564.500000\n",
              "max      283334.000000\n",
              "Name: afm_hrs, dtype: float64"
            ]
          },
          "metadata": {},
          "execution_count": 24
        }
      ]
    },
    {
      "cell_type": "code",
      "source": [
        "# count how many values are outliers\n",
        "outlier = (1.5*(4752 - 1229)) + 4752\n",
        "outliers = [x for x in ntsb_1['afm_hrs'] if x > outlier]\n",
        "print(len(outliers))"
      ],
      "metadata": {
        "id": "eJiMUhi56vxf",
        "outputId": "8ca9b50b-bba5-4995-abaf-621cf965abee",
        "colab": {
          "base_uri": "https://localhost:8080/"
        }
      },
      "id": "eJiMUhi56vxf",
      "execution_count": 25,
      "outputs": [
        {
          "output_type": "stream",
          "name": "stdout",
          "text": [
            "2457\n"
          ]
        }
      ]
    },
    {
      "cell_type": "code",
      "source": [
        "# fill na with median\n",
        "#median = ntsb_1['afm_hrs'].median()\n",
        "#ntsb_1['afm_hrs'] = ntsb_1['afm_hrs'].fillna(median)\n",
        "# drop the outliers\n",
        "ntsb_1 = ntsb_1[ntsb_1['afm_hrs'] < outlier]\n"
      ],
      "metadata": {
        "id": "QBE4pFwo8xNQ"
      },
      "id": "QBE4pFwo8xNQ",
      "execution_count": 26,
      "outputs": []
    },
    {
      "cell_type": "code",
      "source": [
        "ntsb_1['afm_hrs'].plot.hist(bins=10)"
      ],
      "metadata": {
        "id": "Y9rIOYOD6GTv",
        "outputId": "4529b626-b888-4aec-ba21-ee2b361159fa",
        "colab": {
          "base_uri": "https://localhost:8080/",
          "height": 447
        }
      },
      "id": "Y9rIOYOD6GTv",
      "execution_count": 27,
      "outputs": [
        {
          "output_type": "execute_result",
          "data": {
            "text/plain": [
              "<Axes: ylabel='Frequency'>"
            ]
          },
          "metadata": {},
          "execution_count": 27
        },
        {
          "output_type": "display_data",
          "data": {
            "text/plain": [
              "<Figure size 640x480 with 1 Axes>"
            ],
            "image/png": "[encoded data removed]"
          },
          "metadata": {}
        }
      ]
    },
    {
      "cell_type": "code",
      "source": [
        "ntsb_1.shape"
      ],
      "metadata": {
        "id": "E7DpHSpH-cfA",
        "outputId": "f937aa70-3d22-45b1-cfe8-7ef277b3a3ed",
        "colab": {
          "base_uri": "https://localhost:8080/"
        }
      },
      "id": "E7DpHSpH-cfA",
      "execution_count": 28,
      "outputs": [
        {
          "output_type": "execute_result",
          "data": {
            "text/plain": [
              "(47118, 86)"
            ]
          },
          "metadata": {},
          "execution_count": 28
        }
      ]
    },
    {
      "cell_type": "code",
      "source": [
        "# round and change to int32\n",
        "ntsb_1['afm_hrs'] = ntsb_1['afm_hrs'].round().astype('int16')"
      ],
      "metadata": {
        "id": "FsErjoWX5FN6"
      },
      "id": "FsErjoWX5FN6",
      "execution_count": 29,
      "outputs": []
    },
    {
      "cell_type": "code",
      "source": [
        "# column 10: 'type_fly'\n",
        "col_metrics(ntsb_1, 'type_fly')"
      ],
      "metadata": {
        "id": "NaQb3t-YPNZ2",
        "outputId": "63b80629-23ac-4972-f700-ebcce38a72d1",
        "colab": {
          "base_uri": "https://localhost:8080/"
        }
      },
      "id": "NaQb3t-YPNZ2",
      "execution_count": 30,
      "outputs": [
        {
          "output_type": "stream",
          "name": "stdout",
          "text": [
            "current df shape: (47118, 86)\n",
            "Unique data:  ['exec' 'pers' 'bus' 'inst' 'unk' 'pubu' 'posi' 'fery' 'owrk' 'aapl'\n",
            " 'aobv' nan 'skyd' 'flts' 'asho' 'adrp' 'gldt' 'bant' 'pubf' 'publ' 'pubs'\n",
            " 'exld' 'firf']\n",
            "Value counts:  pers    29465\n",
            "inst     6320\n",
            "unk      2716\n",
            "bus      2524\n",
            "aapl     2487\n",
            "posi      848\n",
            "owrk      485\n",
            "fery      467\n",
            "exec      383\n",
            "aobv      347\n",
            "pubu      225\n",
            "flts      209\n",
            "skyd       74\n",
            "asho       72\n",
            "bant       48\n",
            "gldt       19\n",
            "pubs       12\n",
            "publ        8\n",
            "pubf        7\n",
            "adrp        5\n",
            "exld        5\n",
            "firf        1\n",
            "Name: type_fly, dtype: int64\n",
            "Total nulls:  391\n",
            "Data type:  object\n"
          ]
        }
      ]
    },
    {
      "cell_type": "code",
      "source": [
        "# change the null to unknown\n",
        "ntsb_1['type_fly'] = ntsb_1['type_fly'].fillna('unk')"
      ],
      "metadata": {
        "id": "v6LcOos7Yzlo"
      },
      "id": "v6LcOos7Yzlo",
      "execution_count": 31,
      "outputs": []
    },
    {
      "cell_type": "code",
      "source": [
        "# column 11: 'dprt_apt_id'\n",
        "col_metrics(ntsb_1, 'dprt_apt_id')\n",
        "\n",
        "# need to drop the 'k' from all 4 letter icao's\n",
        "ntsb_1['dprt_apt_id'] = ntsb_1['dprt_apt_id'].astype('str').apply(lambda x: x[1:] if len(x) == 4 and x[0] == 'k' else x)"
      ],
      "metadata": {
        "id": "Y4Pc7TepY-QP",
        "outputId": "4ef03755-8d12-46bc-97c6-b021f5626be9",
        "colab": {
          "base_uri": "https://localhost:8080/"
        }
      },
      "id": "Y4Pc7TepY-QP",
      "execution_count": 32,
      "outputs": [
        {
          "output_type": "stream",
          "name": "stdout",
          "text": [
            "current df shape: (47118, 86)\n",
            "Unique data:  ['gmu' 'ox8' nan ... 'skg' '62k' '38cl']\n",
            "Value counts:  none    920\n",
            "pvt     264\n",
            "mri     171\n",
            "c       168\n",
            "apa     137\n",
            "       ... \n",
            "02w       1\n",
            "62d       1\n",
            "eo2       1\n",
            "hm01      1\n",
            "38cl      1\n",
            "Name: dprt_apt_id, Length: 7832, dtype: int64\n",
            "Total nulls:  10842\n",
            "Data type:  object\n"
          ]
        }
      ]
    },
    {
      "cell_type": "code",
      "source": [
        "# column 12: 'dprt_city'\n",
        "col_metrics(ntsb_1, 'dprt_city')"
      ],
      "metadata": {
        "id": "f6qbeu_AuogH",
        "outputId": "80a72558-7e4f-4ace-de9e-e2b31f96b922",
        "colab": {
          "base_uri": "https://localhost:8080/"
        }
      },
      "id": "f6qbeu_AuogH",
      "execution_count": 33,
      "outputs": [
        {
          "output_type": "stream",
          "name": "stdout",
          "text": [
            "current df shape: (47118, 86)\n",
            "Unique data:  ['greeneville' nan 'detroit city' ... 'new philadelphia' 'kalaeloa'\n",
            " 'ishpeming']\n",
            "Value counts:  anchorage       356\n",
            "houston         153\n",
            "las vegas       150\n",
            "columbus        142\n",
            "fairbanks       136\n",
            "               ... \n",
            "kirkville         1\n",
            "cicero            1\n",
            "putman            1\n",
            "belmar-farm.      1\n",
            "ishpeming         1\n",
            "Name: dprt_city, Length: 6969, dtype: int64\n",
            "Total nulls:  10809\n",
            "Data type:  object\n"
          ]
        }
      ]
    },
    {
      "cell_type": "code",
      "source": [
        "# there are some city names that have commas and states after. remove those with commas\n",
        "ntsb_1['dprt_city'] = ntsb_1['dprt_city'].str.split(',').str[0]\n"
      ],
      "metadata": {
        "id": "qgthas85vPXI"
      },
      "id": "qgthas85vPXI",
      "execution_count": 34,
      "outputs": []
    },
    {
      "cell_type": "code",
      "source": [
        "# column 13: 'dprt_state'\n",
        "col_metrics(ntsb_1, 'dprt_state')"
      ],
      "metadata": {
        "id": "LPhO-X-Qxil5",
        "outputId": "9ad1b89f-6704-4620-b445-d06c078be1da",
        "colab": {
          "base_uri": "https://localhost:8080/"
        }
      },
      "id": "LPhO-X-Qxil5",
      "execution_count": 35,
      "outputs": [
        {
          "output_type": "stream",
          "name": "stdout",
          "text": [
            "current df shape: (47118, 86)\n",
            "Unique data:  ['sc' nan 'mi' 'mn' 'il' 'ks' 'mo' 'oh' 'ne' 'az' 'nm' 'tx' 'la' 'ok' 'in'\n",
            " 'ca' 'me' 'or' 'ak' 'ga' 'co' 'nh' 'nv' 'fl' 'ma' 'de' 'pa' 'ct' 'ms'\n",
            " 'al' 'nc' 'wy' 'tn' 'nj' 'hi' 'ky' 'vi' 'id' 'wa' 'ut' 'ar' 'va' 'pr'\n",
            " 'ny' 'wv' 'mt' 'sd' 'nd' 'po' 'vt' 'dc' 'ri' 'ia' 'cd' 'md' 'wi' 'of'\n",
            " 'gm' 'ah' 'cn' 'bc' 'mp' 'yt' 'mx' 'un' 'bh' 'ad' 'nb' 'pq' 'cb' 'gu'\n",
            " 'ha' 'io' 'kn' 'ja' 'bi' 'ao' 'dr']\n",
            "Value counts:  ca    4006\n",
            "fl    2643\n",
            "tx    2454\n",
            "ak    2098\n",
            "az    1298\n",
            "co    1179\n",
            "wa    1141\n",
            "ga     999\n",
            "mi     910\n",
            "ny     897\n",
            "oh     893\n",
            "il     892\n",
            "pa     873\n",
            "nc     786\n",
            "mo     728\n",
            "or     714\n",
            "wi     689\n",
            "mn     668\n",
            "va     629\n",
            "id     608\n",
            "in     589\n",
            "nv     582\n",
            "ar     575\n",
            "nj     575\n",
            "ut     574\n",
            "tn     571\n",
            "nm     571\n",
            "al     545\n",
            "ks     536\n",
            "ok     525\n",
            "sc     489\n",
            "la     473\n",
            "mt     429\n",
            "ma     414\n",
            "md     398\n",
            "ia     382\n",
            "ms     359\n",
            "ne     332\n",
            "ky     317\n",
            "wy     309\n",
            "me     266\n",
            "nd     247\n",
            "ct     241\n",
            "sd     233\n",
            "nh     190\n",
            "hi     188\n",
            "wv     187\n",
            "vt     115\n",
            "pr      92\n",
            "ri      67\n",
            "gm      57\n",
            "of      57\n",
            "de      52\n",
            "cd      33\n",
            "dc      31\n",
            "vi      19\n",
            "mx       9\n",
            "po       8\n",
            "bc       4\n",
            "un       4\n",
            "cb       3\n",
            "nb       2\n",
            "gu       2\n",
            "mp       2\n",
            "ao       2\n",
            "ja       1\n",
            "kn       1\n",
            "io       1\n",
            "ha       1\n",
            "bi       1\n",
            "cn       1\n",
            "pq       1\n",
            "ad       1\n",
            "bh       1\n",
            "yt       1\n",
            "ah       1\n",
            "dr       1\n",
            "Name: dprt_state, dtype: int64\n",
            "Total nulls:  10345\n",
            "Data type:  object\n"
          ]
        }
      ]
    },
    {
      "cell_type": "code",
      "source": [
        "# print out all the states that are incorrect\n",
        "state_abbr = [\n",
        "    \"AL\",  # Alabama\n",
        "    \"AK\",  # Alaska\n",
        "    \"AZ\",  # Arizona\n",
        "    \"AR\",  # Arkansas\n",
        "    \"CA\",  # California\n",
        "    \"CO\",  # Colorado\n",
        "    \"CT\",  # Connecticut\n",
        "    \"DE\",  # Delaware\n",
        "    \"FL\",  # Florida\n",
        "    \"GA\",  # Georgia\n",
        "    \"HI\",  # Hawaii\n",
        "    \"ID\",  # Idaho\n",
        "    \"IL\",  # Illinois\n",
        "    \"IN\",  # Indiana\n",
        "    \"IA\",  # Iowa\n",
        "    \"KS\",  # Kansas\n",
        "    \"KY\",  # Kentucky\n",
        "    \"LA\",  # Louisiana\n",
        "    \"ME\",  # Maine\n",
        "    \"MD\",  # Maryland\n",
        "    \"MA\",  # Massachusetts\n",
        "    \"MI\",  # Michigan\n",
        "    \"MN\",  # Minnesota\n",
        "    \"MS\",  # Mississippi\n",
        "    \"MO\",  # Missouri\n",
        "    \"MT\",  # Montana\n",
        "    \"NE\",  # Nebraska\n",
        "    \"NV\",  # Nevada\n",
        "    \"NH\",  # New Hampshire\n",
        "    \"NJ\",  # New Jersey\n",
        "    \"NM\",  # New Mexico\n",
        "    \"NY\",  # New York\n",
        "    \"NC\",  # North Carolina\n",
        "    \"ND\",  # North Dakota\n",
        "    \"OH\",  # Ohio\n",
        "    \"OK\",  # Oklahoma\n",
        "    \"OR\",  # Oregon\n",
        "    \"PA\",  # Pennsylvania\n",
        "    \"RI\",  # Rhode Island\n",
        "    \"SC\",  # South Carolina\n",
        "    \"SD\",  # South Dakota\n",
        "    \"TN\",  # Tennessee\n",
        "    \"TX\",  # Texas\n",
        "    \"UT\",  # Utah\n",
        "    \"VT\",  # Vermont\n",
        "    \"VA\",  # Virginia\n",
        "    \"WA\",  # Washington\n",
        "    \"WV\",  # West Virginia\n",
        "    \"WI\",  # Wisconsin\n",
        "    \"WY\",  # Wyoming\n",
        "    'gu', \n",
        "    'mp', \n",
        "    'pr',\n",
        "    'tt',\n",
        "    'vi'\n",
        "]\n",
        "print(len(state_abbr))\n",
        "state_abbr = list(map(str.lower, state_abbr))"
      ],
      "metadata": {
        "id": "UKuLw8ISzErJ",
        "outputId": "89ee6f8b-b064-4e7b-c023-8b7c72e4b812",
        "colab": {
          "base_uri": "https://localhost:8080/"
        }
      },
      "id": "UKuLw8ISzErJ",
      "execution_count": 36,
      "outputs": [
        {
          "output_type": "stream",
          "name": "stdout",
          "text": [
            "55\n"
          ]
        }
      ]
    },
    {
      "cell_type": "code",
      "source": [
        "# incorrect states\n",
        "wrong_states = set()\n",
        "state_sum = []\n",
        "for x in ntsb_1['dprt_state']:\n",
        "  if (x not in state_abbr) and (x is not np.nan):\n",
        "      wrong_states.add(x)\n",
        "      state_sum.append(x)\n",
        "print(len(state_sum))\n",
        "print(wrong_states)\n",
        "\n",
        "# drop the rows with incorrect state values\n",
        "ntsb_1 = ntsb_1[~ntsb_1['dprt_state'].isin(wrong_states)]"
      ],
      "metadata": {
        "id": "l0-Kaqz5zim1",
        "outputId": "d9d3a250-ef69-4c39-cd80-b0e4c5fec60e",
        "colab": {
          "base_uri": "https://localhost:8080/"
        }
      },
      "id": "l0-Kaqz5zim1",
      "execution_count": 37,
      "outputs": [
        {
          "output_type": "stream",
          "name": "stdout",
          "text": [
            "222\n",
            "{'gm', 'yt', 'nb', 'io', 'dr', 'ad', 'cd', 'mx', 'ah', 'cb', 'cn', 'dc', 'po', 'un', 'bh', 'kn', 'ao', 'ha', 'bi', 'pq', 'of', 'ja', 'bc'}\n"
          ]
        }
      ]
    },
    {
      "cell_type": "code",
      "source": [
        "ntsb_1.shape"
      ],
      "metadata": {
        "id": "Ouuw2NeN3Z2U",
        "outputId": "211583d7-e3b6-4029-b80d-5a46c1c0256a",
        "colab": {
          "base_uri": "https://localhost:8080/"
        }
      },
      "id": "Ouuw2NeN3Z2U",
      "execution_count": 38,
      "outputs": [
        {
          "output_type": "execute_result",
          "data": {
            "text/plain": [
              "(46896, 86)"
            ]
          },
          "metadata": {},
          "execution_count": 38
        }
      ]
    },
    {
      "cell_type": "code",
      "source": [
        "# column 14: 'dprt_time'\n",
        "col_metrics(ntsb_1, 'dprt_time')"
      ],
      "metadata": {
        "id": "5SwHqpw53fsB",
        "outputId": "fea14192-994f-4ba4-b8be-65cbd31c77f4",
        "colab": {
          "base_uri": "https://localhost:8080/",
          "height": 708
        }
      },
      "id": "5SwHqpw53fsB",
      "execution_count": 39,
      "outputs": [
        {
          "output_type": "stream",
          "name": "stdout",
          "text": [
            "current df shape: (46896, 86)\n",
            "Unique data:  [ 908. 1710. 1200. ...  156.   29.  322.]\n",
            "Value counts:  0.0       3934\n",
            "1400.0     914\n",
            "1500.0     862\n",
            "1600.0     774\n",
            "1300.0     744\n",
            "          ... \n",
            "749.0        1\n",
            "157.0        1\n",
            "80.0         1\n",
            "2346.0       1\n",
            "322.0        1\n",
            "Name: dprt_time, Length: 1359, dtype: int64\n",
            "Total nulls:  1615\n",
            "Data type:  float64\n"
          ]
        },
        {
          "output_type": "display_data",
          "data": {
            "text/plain": [
              "<Figure size 640x480 with 1 Axes>"
            ],
            "image/png": "[encoded data removed]"
          },
          "metadata": {}
        }
      ]
    },
    {
      "cell_type": "code",
      "source": [
        "# change to string\n",
        "ntsb_1['dprt_time'] = ntsb_1['dprt_time'].astype('str')\n",
        "\n",
        "# remove all .o\n",
        "ntsb_1['dprt_time'] = ntsb_1['dprt_time'].str.rstrip('.0')\n",
        "times = []\n",
        "for x in list(ntsb_1['dprt_time']):\n",
        "    if len(x) == 1:\n",
        "        x = '000' + x\n",
        "        times.append(x)\n",
        "    elif len(x) == 2:\n",
        "        x = '00' + x\n",
        "        times.append(x)\n",
        "    elif len(x) == 3:\n",
        "        x = '0' + x\n",
        "        times.append(x)\n",
        "    else:\n",
        "        times.append(x)\n",
        "ntsb_1['dprt_time'] = times\n",
        "ntsb_1['dprt_time'].unique()\n"
      ],
      "metadata": {
        "id": "MO09N4cm3xyP",
        "outputId": "84ca4d91-2e90-488e-943a-9073cd15d7a9",
        "colab": {
          "base_uri": "https://localhost:8080/"
        }
      },
      "id": "MO09N4cm3xyP",
      "execution_count": 40,
      "outputs": [
        {
          "output_type": "execute_result",
          "data": {
            "text/plain": [
              "array(['0908', '0171', '0012', ..., '0156', '0029', '0322'], dtype=object)"
            ]
          },
          "metadata": {},
          "execution_count": 40
        }
      ]
    },
    {
      "cell_type": "code",
      "source": [
        "import numpy as np\n",
        "# column 15: 'dest_same_local'\n",
        "col_metrics(ntsb_1, 'dest_same_local')\n",
        "\n",
        "# three different versions of yes so standatdizing it\n",
        "ntsb_1['dest_same_local'] = ntsb_1['dest_same_local'].str.replace('same', 'y').str.replace('locl', 'y').str.replace('spec', 'y')\n",
        "\n",
        "ntsb_1.loc[ntsb_1['dest_same_local'] == 'y', 'dest_apt_id'] = ntsb_1['dest_apt_id'].fillna(ntsb_1['dprt_apt_id'])  \n",
        " "
      ],
      "metadata": {
        "id": "R_jUw5oS-NjI",
        "outputId": "73cba7d1-771d-444f-82c6-9025b604b511",
        "colab": {
          "base_uri": "https://localhost:8080/"
        }
      },
      "id": "R_jUw5oS-NjI",
      "execution_count": 41,
      "outputs": [
        {
          "output_type": "stream",
          "name": "stdout",
          "text": [
            "current df shape: (46896, 86)\n",
            "Unique data:  ['same' 'locl' nan 'spec' 'y']\n",
            "Value counts:  locl    15244\n",
            "same     9750\n",
            "spec       19\n",
            "y           1\n",
            "Name: dest_same_local, dtype: int64\n",
            "Total nulls:  21882\n",
            "Data type:  object\n"
          ]
        }
      ]
    },
    {
      "cell_type": "code",
      "source": [
        "# column 16: 'dest_apt_id'\n",
        "col_metrics(ntsb_1, 'dest_apt_id')\n",
        "\n",
        "# need to drop the 'k' from all 4 letter icao's\n",
        "ntsb_1['dest_apt_id'] = ntsb_1['dest_apt_id'].astype('str').apply(lambda x: x[1:] if len(x) == 4 and x[0] == 'k' else x)\n",
        "ntsb_1.loc[ntsb_1['dest_apt_id'] == 'c', 'dest_apt_id'] = ntsb_1['dest_apt_id'].str.replace('c', 'pvt')"
      ],
      "metadata": {
        "id": "FilNLBc0-17N",
        "outputId": "ed485bf3-e531-4a8c-94fb-1c23152cab7c",
        "colab": {
          "base_uri": "https://localhost:8080/"
        }
      },
      "id": "FilNLBc0-17N",
      "execution_count": 42,
      "outputs": [
        {
          "output_type": "stream",
          "name": "stdout",
          "text": [
            "current df shape: (46896, 86)\n",
            "Unique data:  ['3a1' 'ox8' 'nan' ... 'vvs' '62k' '38cl']\n",
            "Value counts:  nan     6700\n",
            "none     953\n",
            "pvt      281\n",
            "c        206\n",
            "mri      178\n",
            "        ... \n",
            "wa39       1\n",
            "odk        1\n",
            "ibk        1\n",
            "1ha        1\n",
            "38cl       1\n",
            "Name: dest_apt_id, Length: 7859, dtype: int64\n",
            "Total nulls:  3049\n",
            "Data type:  object\n"
          ]
        }
      ]
    },
    {
      "cell_type": "code",
      "source": [
        "# col 17: 'dest_city'\n",
        "col_metrics(ntsb_1, 'dest_city')\n",
        "\n",
        "# there are some city names that have commas and states after. remove those with commas\n",
        "ntsb_1['dest_city'] = ntsb_1['dest_city'].str.split(',').str[0]"
      ],
      "metadata": {
        "id": "gpkRGgi6MSCL",
        "outputId": "8fefd723-c972-4fb9-a685-e146c6b04993",
        "colab": {
          "base_uri": "https://localhost:8080/"
        }
      },
      "id": "gpkRGgi6MSCL",
      "execution_count": 43,
      "outputs": [
        {
          "output_type": "stream",
          "name": "stdout",
          "text": [
            "current df shape: (46896, 86)\n",
            "Unique data:  [nan 'oklahoma city' 'mt. vernon' ... 'langley' 'hicks/fort wort'\n",
            " 'detroit/grosse ile']\n",
            "Value counts:  anchorage             203\n",
            "las vegas             122\n",
            "houston               110\n",
            "atlanta                99\n",
            "phoenix                97\n",
            "                     ... \n",
            "miamisburg              1\n",
            "la cholla (pvt)         1\n",
            "ranger creek            1\n",
            "jack edwards            1\n",
            "detroit/grosse ile      1\n",
            "Name: dest_city, Length: 5920, dtype: int64\n",
            "Total nulls:  20172\n",
            "Data type:  object\n"
          ]
        }
      ]
    },
    {
      "cell_type": "code",
      "source": [
        "# column 18: 'dest_state'\n",
        "col_metrics(ntsb_1, 'dest_state')\n",
        "\n",
        "# incorrect states\n",
        "wrong_states = set()\n",
        "state_sum = []\n",
        "for x in ntsb_1['dest_state']:\n",
        "  if (x not in state_abbr) and (x is not np.nan):\n",
        "      wrong_states.add(x)\n",
        "      state_sum.append(x)\n",
        "print(len(state_sum))\n",
        "print(wrong_states)\n",
        "\n",
        "# drop the rows with incorrect state values\n",
        "ntsb_1 = ntsb_1[~ntsb_1['dest_state'].isin(wrong_states)]"
      ],
      "metadata": {
        "colab": {
          "base_uri": "https://localhost:8080/"
        },
        "id": "uSBAXSK5QEL0",
        "outputId": "2ad00314-0fa3-4d06-8770-43a400af7b63"
      },
      "id": "uSBAXSK5QEL0",
      "execution_count": 44,
      "outputs": [
        {
          "output_type": "stream",
          "name": "stdout",
          "text": [
            "current df shape: (46896, 86)\n",
            "Unique data:  ['al' nan 'ok' 'il' 'ks' 'co' 'ar' 'ne' 'tx' 'ca' 'fl' 'pa' 'mi' 'az' 'nv'\n",
            " 'sc' 'ms' 'ct' 'ak' 'ia' 'ut' 'oh' 'tn' 'nc' 'mn' 'mo' 'nm' 'ga' 'or'\n",
            " 'of' 'la' 'nj' 'ky' 'pr' 'wa' 'wy' 'nh' 'va' 'me' 'ma' 'cg' 'p1' 'id'\n",
            " 'mt' 'in' 'wi' 'md' 'ny' 'wv' 'ck' 'hi' 'gm' '42' 'vt' 'de' 'nd' 'no'\n",
            " 'ap' 'mx' 'ri' 'bc' 'cd' 'bm' 'dc' 'fm' 'fi' 'bu' 'go' 'vn' 'fd' 'cn'\n",
            " 'ws' 'sd' 'vi' 'nb' 'un' 'dl' 'gc' '0' 'on' 'a' 'cb' '2' 'gu' 'it' 'd'\n",
            " '\\x11' 'ao']\n",
            "Value counts:  ca    2929\n",
            "fl    1958\n",
            "tx    1856\n",
            "ak    1568\n",
            "az     960\n",
            "co     884\n",
            "wa     855\n",
            "ga     739\n",
            "ny     664\n",
            "oh     633\n",
            "nc     629\n",
            "mi     621\n",
            "pa     620\n",
            "il     613\n",
            "or     563\n",
            "mo     529\n",
            "id     508\n",
            "wi     505\n",
            "mn     489\n",
            "tn     461\n",
            "va     456\n",
            "ut     449\n",
            "nv     444\n",
            "in     435\n",
            "nm     430\n",
            "al     422\n",
            "nj     405\n",
            "ok     404\n",
            "ar     384\n",
            "ks     384\n",
            "sc     377\n",
            "mt     343\n",
            "la     333\n",
            "ma     328\n",
            "ia     296\n",
            "md     270\n",
            "ky     242\n",
            "ne     238\n",
            "ms     237\n",
            "wy     233\n",
            "me     206\n",
            "ct     187\n",
            "nd     162\n",
            "sd     160\n",
            "wv     154\n",
            "hi     129\n",
            "nh     126\n",
            "vt      74\n",
            "pr      60\n",
            "ri      58\n",
            "of      40\n",
            "de      38\n",
            "gm      25\n",
            "cd      16\n",
            "dc      15\n",
            "mx      15\n",
            "vi      12\n",
            "un       3\n",
            "on       3\n",
            "cn       2\n",
            "a        2\n",
            "cb       2\n",
            "gu       2\n",
            "no       2\n",
            "2        1\n",
            "\u0011        1\n",
            "0        1\n",
            "gc       1\n",
            "dl       1\n",
            "it       1\n",
            "nb       1\n",
            "d        1\n",
            "ap       1\n",
            "ws       1\n",
            "fd       1\n",
            "vn       1\n",
            "go       1\n",
            "bu       1\n",
            "fi       1\n",
            "fm       1\n",
            "bm       1\n",
            "bc       1\n",
            "42       1\n",
            "ck       1\n",
            "p1       1\n",
            "cg       1\n",
            "ao       1\n",
            "Name: dest_state, dtype: int64\n",
            "Total nulls:  19686\n",
            "Data type:  object\n",
            "148\n",
            "{'a', 'fm', 'gm', 'nb', 'on', 'no', 'fi', 'cd', 'vn', 'mx', 'bu', 'fd', 'gc', 'cg', 'cb', 'cn', 'p1', 'dc', 'go', '\\x11', 'it', 'un', '2', 'ap', 'dl', 'bm', 'ws', '42', 'ao', '0', 'ck', 'of', 'bc', 'd'}\n"
          ]
        }
      ]
    },
    {
      "cell_type": "code",
      "source": [
        "# col 19: phase_flt_spec\n",
        "col_metrics(ntsb_1, 'phase_flt_spec')"
      ],
      "metadata": {
        "id": "f3L5wSOeQ7d8",
        "outputId": "e363bd65-c33a-4835-c4a9-95d2a016c691",
        "colab": {
          "base_uri": "https://localhost:8080/",
          "height": 1000
        }
      },
      "id": "f3L5wSOeQ7d8",
      "execution_count": 45,
      "outputs": [
        {
          "output_type": "stream",
          "name": "stdout",
          "text": [
            "current df shape: (46748, 86)\n",
            "Unique data:  [560. 520. 540. 570. 580. 530. 550. 510. 590. 553. 574. 569. 565. 522.\n",
            " 541. 551. 572. 564. 400. 568. 571.  nan 573. 531. 561. 581. 563. 582.\n",
            " 552. 512. 513. 583. 521. 567. 566. 523. 562. 575. 576. 591. 511. 592.\n",
            " 542. 514.]\n",
            "Value counts:  570.0    14302\n",
            "520.0     4904\n",
            "580.0     3343\n",
            "550.0     3322\n",
            "560.0     2764\n",
            "540.0     2684\n",
            "510.0      913\n",
            "572.0      805\n",
            "574.0      748\n",
            "522.0      652\n",
            "530.0      607\n",
            "571.0      552\n",
            "564.0      220\n",
            "590.0      209\n",
            "576.0      190\n",
            "521.0      175\n",
            "565.0      172\n",
            "553.0      152\n",
            "541.0      139\n",
            "581.0       93\n",
            "573.0       90\n",
            "523.0       81\n",
            "531.0       68\n",
            "513.0       60\n",
            "575.0       55\n",
            "561.0       50\n",
            "552.0       46\n",
            "567.0       45\n",
            "563.0       39\n",
            "551.0       39\n",
            "512.0       38\n",
            "569.0       32\n",
            "582.0       26\n",
            "583.0       22\n",
            "591.0       21\n",
            "562.0       19\n",
            "566.0       14\n",
            "568.0       12\n",
            "592.0       11\n",
            "514.0        4\n",
            "400.0        1\n",
            "511.0        1\n",
            "542.0        1\n",
            "Name: phase_flt_spec, dtype: int64\n",
            "Total nulls:  9027\n",
            "Data type:  float64\n"
          ]
        },
        {
          "output_type": "display_data",
          "data": {
            "text/plain": [
              "<Figure size 640x480 with 1 Axes>"
            ],
            "image/png": "[encoded data removed]"
          },
          "metadata": {}
        }
      ]
    },
    {
      "cell_type": "code",
      "source": [
        "# col 20: afm_hrs_since\n",
        "col_metrics(ntsb_1, 'afm_hrs_since')"
      ],
      "metadata": {
        "id": "U93JqZoVSZWC",
        "outputId": "7c74e532-2fba-4710-894f-13cff3b4c8d8",
        "colab": {
          "base_uri": "https://localhost:8080/"
        }
      },
      "id": "U93JqZoVSZWC",
      "execution_count": 46,
      "outputs": [
        {
          "output_type": "stream",
          "name": "stdout",
          "text": [
            "current df shape: (46748, 86)\n",
            "Unique data:  [nan 'insp' 'acci' 'n' 'y']\n",
            "Value counts:  n       4570\n",
            "y       4372\n",
            "acci    4336\n",
            "insp    2046\n",
            "Name: afm_hrs_since, dtype: int64\n",
            "Total nulls:  31424\n",
            "Data type:  object\n"
          ]
        }
      ]
    },
    {
      "cell_type": "code",
      "source": [
        "ntsb_1.columns"
      ],
      "metadata": {
        "id": "5f3VNCji2MYO",
        "outputId": "08856852-b82e-413e-a100-68fc8f9cf83f",
        "colab": {
          "base_uri": "https://localhost:8080/"
        }
      },
      "id": "5f3VNCji2MYO",
      "execution_count": 47,
      "outputs": [
        {
          "output_type": "execute_result",
          "data": {
            "text/plain": [
              "Index(['aircraft_ev_id', 'far_part', 'flight_plan_activated', 'damage',\n",
              "       'acft_make', 'acft_model', 'cert_max_gr_wt', 'num_eng',\n",
              "       'type_last_insp', 'date_last_insp', 'afm_hrs_last_insp', 'afm_hrs',\n",
              "       'type_fly', 'dprt_apt_id', 'dprt_city', 'dprt_state', 'dprt_time',\n",
              "       'dest_same_local', 'dest_apt_id', 'dest_city', 'dest_state',\n",
              "       'phase_flt_spec', 'afm_hrs_since', 'rwy_num', 'rwy_len', 'rwy_width',\n",
              "       'ifr_equipped_cert', 'eng_no', 'eng_type', 'eng_mfgr', 'hp_or_lbs',\n",
              "       'carb_fuel_injection', 'eng_time_total', 'eng_time_last_insp',\n",
              "       'ntsb_no', 'ev_type', 'ev_date', 'ev_dow', 'ev_time', 'ev_city',\n",
              "       'ev_state', 'ev_year', 'ev_month', 'latitude', 'longitude', 'apt_name',\n",
              "       'ev_nr_apt_id', 'ev_nr_apt_loc', 'apt_dist', 'apt_dir', 'apt_elev',\n",
              "       'wx_src_iic', 'wx_obs_time', 'wx_obs_dir', 'wx_obs_fac_id',\n",
              "       'wx_obs_elev', 'wx_obs_dist', 'light_cond', 'sky_cond_nonceil',\n",
              "       'sky_nonceil_ht', 'sky_ceil_ht', 'sky_cond_ceil', 'vis_rvr', 'vis_sm',\n",
              "       'wx_temp', 'wx_dew_pt', 'wind_dir_deg', 'wind_dir_ind', 'wind_vel_kts',\n",
              "       'wind_vel_ind', 'gust_ind', 'gust_kts', 'altimeter', 'wx_dens_alt',\n",
              "       'wx_int_precip', 'ev_highest_injury', 'inj_tot_t', 'wx_cond_basic',\n",
              "       'Cause_Factor', 'crew_no', 'crew_category', 'crew_age', 'crew_sex',\n",
              "       'med_certf', 'pilot_flying', 'crew_inj_level'],\n",
              "      dtype='object')"
            ]
          },
          "metadata": {},
          "execution_count": 47
        }
      ]
    },
    {
      "cell_type": "code",
      "source": [
        "ntsb_2 = ntsb_1"
      ],
      "metadata": {
        "id": "04ia-DZE2kue"
      },
      "id": "04ia-DZE2kue",
      "execution_count": 48,
      "outputs": []
    },
    {
      "cell_type": "markdown",
      "source": [
        "## Kathleen Section"
      ],
      "metadata": {
        "id": "wV5gBOAdk_Vc"
      },
      "id": "wV5gBOAdk_Vc"
    },
    {
      "cell_type": "code",
      "source": [
        "ntsb_2.columns"
      ],
      "metadata": {
        "id": "8kGrhc0GlJDj",
        "outputId": "d5b74280-031a-462e-d3fb-c35c5e73ce12",
        "colab": {
          "base_uri": "https://localhost:8080/"
        }
      },
      "id": "8kGrhc0GlJDj",
      "execution_count": 49,
      "outputs": [
        {
          "output_type": "execute_result",
          "data": {
            "text/plain": [
              "Index(['aircraft_ev_id', 'far_part', 'flight_plan_activated', 'damage',\n",
              "       'acft_make', 'acft_model', 'cert_max_gr_wt', 'num_eng',\n",
              "       'type_last_insp', 'date_last_insp', 'afm_hrs_last_insp', 'afm_hrs',\n",
              "       'type_fly', 'dprt_apt_id', 'dprt_city', 'dprt_state', 'dprt_time',\n",
              "       'dest_same_local', 'dest_apt_id', 'dest_city', 'dest_state',\n",
              "       'phase_flt_spec', 'afm_hrs_since', 'rwy_num', 'rwy_len', 'rwy_width',\n",
              "       'ifr_equipped_cert', 'eng_no', 'eng_type', 'eng_mfgr', 'hp_or_lbs',\n",
              "       'carb_fuel_injection', 'eng_time_total', 'eng_time_last_insp',\n",
              "       'ntsb_no', 'ev_type', 'ev_date', 'ev_dow', 'ev_time', 'ev_city',\n",
              "       'ev_state', 'ev_year', 'ev_month', 'latitude', 'longitude', 'apt_name',\n",
              "       'ev_nr_apt_id', 'ev_nr_apt_loc', 'apt_dist', 'apt_dir', 'apt_elev',\n",
              "       'wx_src_iic', 'wx_obs_time', 'wx_obs_dir', 'wx_obs_fac_id',\n",
              "       'wx_obs_elev', 'wx_obs_dist', 'light_cond', 'sky_cond_nonceil',\n",
              "       'sky_nonceil_ht', 'sky_ceil_ht', 'sky_cond_ceil', 'vis_rvr', 'vis_sm',\n",
              "       'wx_temp', 'wx_dew_pt', 'wind_dir_deg', 'wind_dir_ind', 'wind_vel_kts',\n",
              "       'wind_vel_ind', 'gust_ind', 'gust_kts', 'altimeter', 'wx_dens_alt',\n",
              "       'wx_int_precip', 'ev_highest_injury', 'inj_tot_t', 'wx_cond_basic',\n",
              "       'Cause_Factor', 'crew_no', 'crew_category', 'crew_age', 'crew_sex',\n",
              "       'med_certf', 'pilot_flying', 'crew_inj_level'],\n",
              "      dtype='object')"
            ]
          },
          "metadata": {},
          "execution_count": 49
        }
      ]
    },
    {
      "cell_type": "code",
      "source": [
        "#Walkthrough at https://inria.github.io/scikit-learn-mooc/python_scripts/03_categorical_pipeline_column_transformer.html\n",
        "#preprocessing different for categorical vs numerical columns\n",
        "\n",
        "from sklearn.compose import make_column_selector as selector\n",
        "\n",
        "numerical_columns_selector = selector(dtype_exclude=object)\n",
        "categorical_columns_selector = selector(dtype_include=object)\n",
        "\n",
        "numerical_columns = numerical_columns_selector(ntsb_raw)\n",
        "categorical_columns = categorical_columns_selector(ntsb_raw)"
      ],
      "metadata": {
        "id": "nqUMcQ0OlMEX"
      },
      "id": "nqUMcQ0OlMEX",
      "execution_count": 50,
      "outputs": []
    },
    {
      "cell_type": "code",
      "source": [
        "#print(df.columns[2])\n",
        "col_list = ntsb_2.columns[23:46]\n",
        "print(col_list)"
      ],
      "metadata": {
        "id": "J7YVS8wilP_q",
        "outputId": "20e3bef3-15e9-42e0-fdf8-b907d6f33fde",
        "colab": {
          "base_uri": "https://localhost:8080/"
        }
      },
      "id": "J7YVS8wilP_q",
      "execution_count": 51,
      "outputs": [
        {
          "output_type": "stream",
          "name": "stdout",
          "text": [
            "Index(['rwy_num', 'rwy_len', 'rwy_width', 'ifr_equipped_cert', 'eng_no',\n",
            "       'eng_type', 'eng_mfgr', 'hp_or_lbs', 'carb_fuel_injection',\n",
            "       'eng_time_total', 'eng_time_last_insp', 'ntsb_no', 'ev_type', 'ev_date',\n",
            "       'ev_dow', 'ev_time', 'ev_city', 'ev_state', 'ev_year', 'ev_month',\n",
            "       'latitude', 'longitude', 'apt_name'],\n",
            "      dtype='object')\n"
          ]
        }
      ]
    },
    {
      "cell_type": "code",
      "source": [
        "# Listing metrics for all assigned columns \n",
        "\n",
        "for col in col_list:\n",
        "  print(ntsb_2[col].name)\n",
        "  col_metrics(ntsb_2, col) "
      ],
      "metadata": {
        "id": "73ZbouT7lSFJ",
        "outputId": "6891e33e-6104-43c8-d516-6a4448a91ff9",
        "colab": {
          "base_uri": "https://localhost:8080/",
          "height": 1000
        }
      },
      "id": "73ZbouT7lSFJ",
      "execution_count": 52,
      "outputs": [
        {
          "output_type": "stream",
          "name": "stdout",
          "text": [
            "rwy_num\n",
            "current df shape: (46748, 86)\n",
            "Unique data:  ['20' '36' '18' '32' '27' '0' '35' '16' '26r' '28' '4r' '17' '34' '14'\n",
            " '22' '28l' '15l' '11r' '17l' '13' '24' '10l' '9' '30r' '15' '26' '21r'\n",
            " '3' '9r' '25' '1r' '5r' '7' '4' '12' '3r' '31' '5' '29' '29r' '19' '21'\n",
            " '8' '10' '23' '19l' '33' '30' '2' '28r' '1' '6' '26l' '14r' '17r' '19r'\n",
            " '25r' '11' '35r' '12r' '6l' '2l' '18r' '32r' '36l' '27r' '8r' '34r' '29l'\n",
            " '22l' '31r' '22g' '20r' '27l' '11l' '8l' '22r' '34l' '1l' '16l' '16r'\n",
            " '9l' '23r' '5l' '18l' '20l' '7r' '13l' '13r' '25l' '23l' '24l' '35l'\n",
            " '21l' '24r' '30l' '31l' '12l' '20c' '7l' '33l' '30c' '36c' '32l' '23c'\n",
            " '17c' '36r' '3l' nan '3c' '2r' '33r' '15r' '4l' '10r' '360' '14l' '190'\n",
            " '250' '01' '02' '067' '09' '05' '2c' '06' '6r' '0r' '00' '202' '61' '04'\n",
            " 'nw' '03' '315' '07' '08' 'unk' '090' 'h1' '210' '160' '7u' '080' '27u'\n",
            " '180' '09r' '040' '055' '350' '070' '030' '010' '01l' '050' '270' 's'\n",
            " '09l' '5r7' '135' '9c' 'afo' 'gif' 'emm' '280' '110' '290' '240' '320'\n",
            " '020' '04r' '260' '310' '04l' '120' '3 r' 'c' 'n' '40' 'vgt' 'n/s' '220'\n",
            " '130' '08l' '330' '230' '060' '035' '100' '150' 'non' '045' '01r' '80'\n",
            " '07l' '000' 'trm' '06r' '022' 'te9' '17w' 'h' '03l' '02l' '05r' '12g'\n",
            " '075' '8g' '09/2' '04/2' '05/2' '12/3' '14/3' '15/3' '11/2' '18/3' '18r/'\n",
            " '03/2' '02/2' '10/2' '18 /' '17/3' '16/3' '08r' '09c' '03r' '07r' '27c'\n",
            " '05l' '02r' 'h2' '06l' 'none' '02c' '99' '13w' 'e' 'w' '225' '9/27' 'se'\n",
            " '4w' '5/23' 'e/w' '16s' 'ne' '28c' 'sw' 'west' '1/19' '34s']\n",
            "Value counts:  0      14744\n",
            "18      1540\n",
            "27      1380\n",
            "36      1316\n",
            "17      1164\n",
            "       ...  \n",
            "100        1\n",
            "035        1\n",
            "330        1\n",
            "130        1\n",
            "34s        1\n",
            "Name: rwy_num, Length: 250, dtype: int64\n",
            "Total nulls:  6513\n",
            "Data type:  object\n",
            "rwy_len\n",
            "current df shape: (46748, 86)\n",
            "Unique data:  [5500. 3800. 1900. ... 3354. 2141. 4651.]\n",
            "Value counts:  0.0       5018\n",
            "5000.0    1072\n",
            "3000.0     961\n",
            "4000.0     822\n",
            "2500.0     523\n",
            "          ... \n",
            "6272.0       1\n",
            "4779.0       1\n",
            "3173.0       1\n",
            "2248.0       1\n",
            "4651.0       1\n",
            "Name: rwy_len, Length: 2971, dtype: int64\n",
            "Total nulls:  15937\n",
            "Data type:  float64\n",
            "rwy_width\n",
            "current df shape: (46748, 86)\n",
            "Unique data:  [1.000e+02 3.600e+01 7.500e+01 1.500e+02 1.200e+02       nan 5.000e+01\n",
            " 6.000e+01 3.000e+02 8.000e+01 4.000e+01 1.530e+02 7.200e+01 9.000e+01\n",
            " 3.000e+01 4.500e+01 3.500e+01 1.590e+02 7.000e+01 7.300e+01 4.400e+01\n",
            " 6.500e+01 4.700e+01 6.600e+01 2.000e+02 1.300e+02 2.500e+01 4.800e+01\n",
            " 2.600e+01 5.500e+01 6.800e+01 1.600e+02 3.900e+01 4.300e+01 3.200e+01\n",
            " 2.400e+01 1.700e+02 2.500e+02 2.200e+01 4.200e+01 1.250e+02 5.000e+02\n",
            " 2.000e+01 5.900e+01 7.700e+01 2.800e+01 1.800e+02 1.500e+01 2.090e+02\n",
            " 7.400e+01 3.800e+01 2.900e+02 1.150e+02 8.500e+01 3.700e+01 1.400e+02\n",
            " 1.100e+02 0.000e+00 1.900e+02 1.750e+02 3.400e+01 1.010e+02 7.800e+01\n",
            " 6.200e+01 3.100e+01 1.350e+02 6.100e+01 4.900e+01 1.880e+02 1.800e+01\n",
            " 1.000e+01 2.150e+02 1.450e+02 9.500e+01 1.140e+02 2.400e+02 4.600e+01\n",
            " 1.130e+02 1.200e+01 3.300e+01 1.480e+02 2.300e+02 4.000e+02 9.600e+01\n",
            " 2.800e+02 2.020e+02 8.400e+01 2.600e+02 2.700e+01 1.040e+02 1.050e+02\n",
            " 1.160e+02 9.400e+01 5.600e+01 2.900e+01 5.800e+01 3.700e+02 1.340e+02\n",
            " 1.650e+02 1.410e+02 1.580e+02 9.800e+01 4.100e+01 1.950e+02 1.100e+01\n",
            " 5.200e+01 2.750e+02 3.500e+02 7.600e+01 5.000e+00 1.080e+02 2.550e+02\n",
            " 6.700e+01 2.650e+02 1.470e+02 2.260e+02 1.090e+02 2.440e+02 9.700e+01\n",
            " 2.200e+02 6.000e+00 1.460e+02 8.000e+00 1.900e+01 2.000e+00 1.020e+02\n",
            " 5.400e+01 1.860e+02 8.300e+01 1.920e+02 2.250e+02 1.850e+02 6.400e+01\n",
            " 2.350e+02 1.330e+02 1.520e+02 6.606e+03 1.400e+01 1.760e+02 4.100e+03\n",
            " 4.250e+02 1.620e+02 5.700e+01 1.500e+03 4.500e+02 1.120e+02 1.260e+02\n",
            " 1.550e+02 1.320e+02 2.370e+02 1.570e+02 3.400e+02 1.585e+03 8.800e+01\n",
            " 7.201e+03 1.000e+03 1.524e+03 2.300e+01 9.750e+02 2.500e+03 1.367e+03\n",
            " 1.240e+02 2.982e+03 2.660e+03 2.120e+02 7.720e+02 1.600e+01 1.960e+02\n",
            " 1.288e+03 1.180e+02 2.100e+02 1.583e+03 7.100e+01 1.800e+03 8.700e+01\n",
            " 1.612e+03 1.647e+03 3.750e+02 6.000e+02 9.900e+01 2.040e+02 7.850e+02\n",
            " 1.490e+02 6.300e+01 9.140e+02 8.350e+02 7.900e+01 2.100e+01 2.940e+02\n",
            " 4.450e+02 1.990e+02 2.100e+03]\n",
            "Value counts:  150.0     5430\n",
            "0.0       5351\n",
            "100.0     5069\n",
            "75.0      4779\n",
            "50.0      2481\n",
            "          ... \n",
            "340.0        1\n",
            "1585.0       1\n",
            "88.0         1\n",
            "7201.0       1\n",
            "2100.0       1\n",
            "Name: rwy_width, Length: 191, dtype: int64\n",
            "Total nulls:  16666\n",
            "Data type:  float64\n",
            "ifr_equipped_cert\n",
            "current df shape: (46748, 86)\n",
            "Unique data:  [False  True]\n",
            "Value counts:  False    45891\n",
            "True       857\n",
            "Name: ifr_equipped_cert, dtype: int64\n",
            "Total nulls:  0\n",
            "Data type:  bool\n",
            "eng_no\n",
            "current df shape: (46748, 86)\n",
            "Unique data:  [ 1.  2. nan  3.  4.]\n",
            "Value counts:  1.0    45693\n",
            "2.0      697\n",
            "3.0        3\n",
            "4.0        2\n",
            "Name: eng_no, dtype: int64\n",
            "Total nulls:  353\n",
            "Data type:  float64\n",
            "eng_type\n",
            "current df shape: (46748, 86)\n",
            "Unique data:  ['tp' 'rec' 'tj' 'ts' 'unk' 'tf' nan 'elec' 'none' 'hr']\n",
            "Value counts:  rec     42391\n",
            "ts       1471\n",
            "tp       1383\n",
            "unk       556\n",
            "tf        298\n",
            "tj        178\n",
            "none        5\n",
            "elec        3\n",
            "hr          1\n",
            "Name: eng_type, dtype: int64\n",
            "Total nulls:  462\n",
            "Data type:  object\n",
            "eng_mfgr\n",
            "current df shape: (46748, 86)\n",
            "Unique data:  ['p&w' 'lycoming' 'continental' 'garrett' 'jacobs' 'allison' 'rotax'\n",
            " 'turbomeca' nan 'walter' 'franklin' 'pzl-kalisz' 'hirth' 'volkswagen'\n",
            " 'rotorway' 'subaru' 'unknown' 'revmaster' 'p&w canada' 'bombardier'\n",
            " 'gansheimer' 'ge' 'wright' 'grob' 'china' 'mazda' 'fairchild' 'kinner'\n",
            " 'curtis wright' 'great plains' 'hapi' 'cameron' 'rolls-royce' 'pezetel'\n",
            " 'onan' 'hirtmotoren' 'milwaukee prt' 'zenoah' 'jaguar' 'packard'\n",
            " 'vendeneyev' 'chevrolet' 'kawasaki' 'mcculloch' 'cuyuna' 'kfm'\n",
            " 'pzl mielec' 'warner' 'lambert' 'nsi' 'amw' 'voronezh' 'ford' 'jpx'\n",
            " 'bmw r-r' 'wsk' 'shvetsov' 'honda' 'allied signal' 'housia' 'microal'\n",
            " 'limbach' 'spencer' 'klimov' 'konig' 'mosler' 'orenda' 'emsa'\n",
            " 'detr. diesel' 'lom' 'bristol' 'airesearch' 'teledyne cont' 'jabiru'\n",
            " 'yamaha' 'thruct in' 'suzuki' 'falconer eng.' 'solo' 'volvo' 'velie'\n",
            " 'renault' 'gm' 'wsk pzl kalis' 'ranger' 'de havilland' 'iame' 'komet'\n",
            " 'monnett' 'menasco' 'pzl wsk' 'euzalde' 'electramotive' 'porsche'\n",
            " 'stark stamo' 'avco lycoming' 'france' 'greth' 'arrow' 'microturbo'\n",
            " 'polaris' 'velocity' 'ama/expr' 'solar' 'williams intl' 'honeywell'\n",
            " 'northrop corp' 'aerotechnik' 'pratt & whitney canada'\n",
            " 'teledyne continental' 'honeywell/lyc' 'allied/honeyw' 'ivchenko'\n",
            " 'pratt & whitney' 'textron lyc.' 'textron lycoming' 'general electric'\n",
            " 'none' 'buick' 'custom' 'pzl-okecie' 'astazou' 'argus' 'artouste'\n",
            " 'reliant' 'auto aviation' 'ital-american' 'johnson' 'packard r.r.'\n",
            " 'potez' 'weslake' 'enma' 'liberty' 'elizalde,s.a.' 'bristsidviper'\n",
            " 'ivchenco' 'gnome' 'omc' 'avco' 'ravenmaster' 'tgm' 'asz' 'chapallal'\n",
            " 'chotia' 'siemens halsk' 'lyco/wright' 'aeronca' 'robin'\n",
            " 'rolls-royce allison' 'pratt-whitney' 'aero engines' 'gypsy minor'\n",
            " 'garret/honeywell' 'rolls-royce(allison)' 'williams international'\n",
            " 'bmw rolls-royce' 'lycoming (curtis-wright)' 'rolls royce/allison'\n",
            " 'komatsu-zenagh' 'general motors' 'national flight service' 'ã\\x80/o'\n",
            " 'quantum' 'p & w' 'continenal' 'rolls royce' 'v.w.' 'volkswagon'\n",
            " 'volkswagan' 'gypsy moth' 'turbomecca' 'rectimo' 'contiental'\n",
            " 'teledyne/cont' 'evinrude' 'pratt&whitney' 'contnental' 'briggs' 'vw'\n",
            " 'henderson' 'contintental' 'harold guldi' 'outboard' 'gen.electric'\n",
            " 'turbo meca' 'lycom' 'pratt/whitney' 'pezatel' 'allison c' 'rw' 'o-470l'\n",
            " 'ama (vw)' 'rev.' 'o-360-a4k' 'dehavilland' 'frnklin' 'lycomimg'\n",
            " 'mccullock' 'mccullough' 'reumaster' 'merlin' 'continenatl' 'frankin'\n",
            " 'unk/nr' 'p &  w' 'moto guzzi' 'engineair power systems'\n",
            " 'garrett-airesearch' 'aero-vee' 'arriel' 'a' 'continental motor'\n",
            " 'compact radial engines' 'suziair' 'lycomming' 'walther' 'le rhone'\n",
            " 'stratus' 'aero engines (vw)' 't.e.c.' 'rolls-royce corporation'\n",
            " 'bombardier/rotax' 'mid-west engines' 'vedeheyev' 'lycon' 'alliedsignal'\n",
            " 'diemech (walter)' 'pzl-warszana' 'diemech turbines inc' 'eggenfellner'\n",
            " 'pzl' 'gipsy major' 'motori zanzoterra' 'sauer' 'ai' 'vedeneyez' 'apex'\n",
            " 'verner motor' 'ram racing engines ltd' 'hibbler' 'superior'\n",
            " 'aero motors' 'experimental' 'diamond aircraft' 'eci' 'aeromotors s.a.'\n",
            " '1/2 volkswagen' 'honeywell - garrett' \"america's aircraft engines\"\n",
            " 'povazske stroguarne' 'aero vee' 'allison/rolls-royce' 'paul lee'\n",
            " 'pratt and whitney' 'superflite' 'yakovlev' 'jpx-pul'\n",
            " 'rolls royce allison' 'agin' 'teledyne continental motors' 'teledyne'\n",
            " 'vedenyev' 'ultimate engines' 'eci titan' 'honeywell aerospace' 'huosai'\n",
            " 'cont motor' 'limbeck' 'thielert' 'mattituck' 'diamond'\n",
            " 'superior air parts' 'teledyne-continental' 'wsk-pzl-k' 'wsk pzl kalisz'\n",
            " 'gypsey  major' 'chevrolot' 'pratt and whitney of canada'\n",
            " 'allison engine' 'tcm' 'bombardier-rotax' 'aero sport' 'dusenberry, mark'\n",
            " 'contl' 'turbo mecca' 'continental motors'\n",
            " 'pratt & whitney aircraft of ca' 'williams' 'aero sport power ltd'\n",
            " 'xtreem 360' 'teledyne continental motor' 'experimental tcm'\n",
            " 'rolls-royce turbomeca' 'heath avn' 'hapi vw' 'mistral engines, sa'\n",
            " 'rolls-royc' 'contenental teledyne' 'swa' 'desert aircraft'\n",
            " 'pratt and whitney - canada' 'warner super scarab' 'diemech'\n",
            " 'walter engine incorporated' 'suburu' 'bombardier-rotax gmbh'\n",
            " 'lycoming engines' 'corvair' 'rotamex' 'avworks'\n",
            " 'pratt and whitney canada' 'chevy' 'dehav eng' 'vedeneyev'\n",
            " 'rotax gmbh & co.' 'honeywell garrett' 'rotex' 'hirthmotoren'\n",
            " 'lange flugzeugbau' 'franklyn' 'bombardier rotex'\n",
            " 'rotorway international' 'aero sport power ltd.' 'garrett airesearch'\n",
            " 'teledyne mattituck' 'hummel' 'geo/metro' 'teledyn continental motors'\n",
            " 'ul power' 'volkswagon/great plains' 'p & w canada' 'aerovee'\n",
            " 'bombardier rotax' 'exp' 'aero sport power' 'allison (r/r)' 'mattittuck'\n",
            " 'lycoming (modified)' 'pratt whitney canada' 'solair' 'aireasearch'\n",
            " 'rotec' 'allied' 'garret' 'nsi aero' 'volkswagoen' 'hks'\n",
            " 'teledyne-continental motors' 'teledye continental motors'\n",
            " 'aerosport power' 'national flight services inc' 'lerhone'\n",
            " 'curtiss wright' 'p. ponk' 'vedenev' 'u/a canada' 'turbomeca usa'\n",
            " 'cub crafters' 'jorritsma' 'penn-yan' 'midwest engines' 'curtiss'\n",
            " 'teledyne continental mortors' 'teledyn continental'\n",
            " 'continental motors inc.' 'rolls royce-allison' 'pratt&whitney-canada'\n",
            " 'globe' 'continential motors' 'garett' 'pwc' 'falconer'\n",
            " 'continental motors, inc.' \"continental motor's inc.\" 'cont. motor' 'tmx'\n",
            " 'great plains/volkswagen' 'compact ra' 'penn yan aero' 'vps'\n",
            " 'rolls-royce deutschland' 'p&wc' 'subaru - stratus built'\n",
            " 'chevrolet corvair' 'cubcrafters' 'continental (exp)'\n",
            " 'aero sport power (lycoming)' 'contenental' 'jabaru' 'fairchild ranger'\n",
            " 'cub crafter' 'allison / rolls royce' 'garret airesearch' 'morris motors'\n",
            " 'curtis - wright' 'pratt & whitney of canada' 'pratt &whitney canada'\n",
            " 'ge aviation czech' 'vendenyev' 'continental motors inc'\n",
            " 'superior vantage' 'garrett (honeywell)' 'sma' 'diemech turbine'\n",
            " 'shvetsoc' 'continental engines' 'hummel engine' 'zanzottera'\n",
            " 'penn yann aero' 'ram' 'lom praha' 'technoflug' 'timothy a shorey'\n",
            " 'wankel' 'rolls royce / allison' 'continental motors, inc' 'austro'\n",
            " 'motorlet' 'viking conversion of honda' 'club crafters inc.' 'adolphson'\n",
            " 'brn-powertrain' 'viking' 'russia' 'continental teledyne motors' 'cmi'\n",
            " 'housai' 'rolls royce (allison)' 'patt &whitney canada'\n",
            " 'ama/expr lycoming' 'allison 250-c20b' 'pratt& whitney'\n",
            " 'lycoming/honeywell' 'greatplains' 'compact radial engines inc.'\n",
            " 'teledyne matituck' 'yuneec' 'tomanski' 'lycoming-bmw'\n",
            " 'aerosport / lycoming' 'lycoming o-360-a1a' 'continental motors, inc.,'\n",
            " 'curtiss-wright' 'continantal' 'rotax gmbh' 'pw&c'\n",
            " 'engine components internationa' 'tyledyne continental motors'\n",
            " 'contental' 'great plans aircraft' 'kinner co' 'rotortway'\n",
            " 'pratt whitney' 'brp rotax gmbh7 co. kg' 'pkrd-roll' 'm&d flugzeugbau'\n",
            " 'cont motor p. ponk' 'cont motor/perf eng' 'inntec' 'contienental motors'\n",
            " 'wynn corvair' 'ryan falconer racing engines' 'scaled composites'\n",
            " 'pkrd-roll royce' 'titan' 'prat and whitney aircraft' 'ryan' 'tubomecca'\n",
            " 'gmc' 'motorstar' 'teledine continental motors' 'ramazani & assoc.'\n",
            " 'continental motorc inc.' 'turbine power technologies' 'aeromaxx'\n",
            " 'allison/rolls royce' 'aireaserch/garrett' 'pratt & whittney'\n",
            " 'conitnental' 'honeywell/garrett' 'cont-motor' 'continenetal motors'\n",
            " 'burner balloon works' 'continetnal' 'innovator technologies'\n",
            " 'pratt & whitney - canada' 'vw- hummel' 'continential' 'ly-con'\n",
            " 'continental  motors' 'barrett precision engines' 'lycomong'\n",
            " 'firewall forward' 'warner aircraft engines' 'larry woodrow' 'arrius'\n",
            " 'eci/titan' 'aerosport' 'safran helicopter engines' 'walter/ge'\n",
            " 'continental motor company' 'subaru/eggenfellner' 'mazda/atkins'\n",
            " 'dle 170' 'pbs' 'contenintal' 'conintental'\n",
            " 'williams internatinal company' 'burkes' 'joby motor'\n",
            " 'barrett performance engine']\n",
            "Value counts:  lycoming                      21427\n",
            "continental                   13218\n",
            "p&w                            1708\n",
            "cont motor                     1460\n",
            "rotax                          1276\n",
            "                              ...  \n",
            "aero motors                       1\n",
            "hibbler                           1\n",
            "ram racing engines ltd            1\n",
            "verner motor                      1\n",
            "barrett performance engine        1\n",
            "Name: eng_mfgr, Length: 510, dtype: int64\n",
            "Total nulls:  904\n",
            "Data type:  object\n",
            "hp_or_lbs\n",
            "current df shape: (46748, 86)\n",
            "Unique data:  ['hp' 'lbs' nan]\n",
            "Value counts:  hp     44304\n",
            "lbs      544\n",
            "Name: hp_or_lbs, dtype: int64\n",
            "Total nulls:  1900\n",
            "Data type:  object\n",
            "carb_fuel_injection\n",
            "current df shape: (46748, 86)\n",
            "Unique data:  [nan 'carb' 'finj']\n",
            "Value counts:  carb    28324\n",
            "finj    13499\n",
            "Name: carb_fuel_injection, dtype: int64\n",
            "Total nulls:  4925\n",
            "Data type:  object\n",
            "eng_time_total\n",
            "current df shape: (46748, 86)\n",
            "Unique data:  [  nan    0. 2830. ...  179.   68.  968.]\n",
            "Value counts:  0.0       6341\n",
            "25.0         9\n",
            "50.0         8\n",
            "10.0         6\n",
            "62.0         5\n",
            "          ... \n",
            "1674.0       1\n",
            "618.0        1\n",
            "2647.0       1\n",
            "111.0        1\n",
            "968.0        1\n",
            "Name: eng_time_total, Length: 1761, dtype: int64\n",
            "Total nulls:  38141\n",
            "Data type:  float64\n"
          ]
        },
        {
          "output_type": "stream",
          "name": "stderr",
          "text": [
            "<__array_function__ internals>:180: RuntimeWarning: Converting input from bool to <class 'numpy.uint8'> for compatibility.\n"
          ]
        },
        {
          "output_type": "stream",
          "name": "stdout",
          "text": [
            "eng_time_last_insp\n",
            "current df shape: (46748, 86)\n",
            "Unique data:  [      nan 0.000e+00 7.000e+00 3.000e+01 9.000e+01 4.000e+00 1.000e+00\n",
            " 6.000e+00 1.800e+01 8.000e+00 2.400e+01 1.100e+01 3.500e+01 1.790e+02\n",
            " 5.700e+01 4.200e+01 3.000e+00 9.000e+00 2.800e+01 8.400e+01 1.004e+03\n",
            " 7.500e+01 2.000e+01 2.000e+00 3.600e+01 5.800e+01 1.200e+01 7.100e+01\n",
            " 3.900e+01 1.360e+02 8.900e+01 3.400e+01 1.500e+01 6.100e+01 1.340e+02\n",
            " 1.000e+01 5.400e+01 1.840e+02 2.100e+01 6.815e+03 7.200e+01 2.010e+03\n",
            " 4.700e+01 7.300e+01 5.950e+02 1.410e+02 4.600e+01 9.700e+01 2.500e+01\n",
            " 1.600e+01 4.300e+01 6.800e+01 2.600e+01 5.600e+01 9.400e+01 5.000e+01\n",
            " 6.700e+01 5.000e+00 4.800e+01 1.700e+01 1.350e+02 3.300e+01 6.000e+01\n",
            " 6.600e+01 5.500e+01 1.400e+01 1.300e+01 2.000e+02 3.560e+02 1.000e+02\n",
            " 3.700e+01 3.800e+01 2.300e+01 6.300e+01 3.200e+01 3.100e+01 5.136e+03\n",
            " 3.540e+02 5.200e+01 6.200e+01 1.500e+02 4.900e+01 9.900e+01 8.200e+01\n",
            " 2.900e+01 8.800e+01 5.100e+01 2.790e+02 1.100e+02 4.100e+01 1.200e+02\n",
            " 5.590e+02 8.300e+01 2.290e+02 7.400e+01 4.400e+01 4.000e+01 2.500e+02\n",
            " 9.800e+01 4.290e+02 7.600e+01 1.060e+02 4.500e+01 7.680e+02 8.100e+01\n",
            " 9.600e+01 7.000e+01 2.100e+02 1.021e+03 8.600e+01 6.430e+02 2.490e+02\n",
            " 1.900e+01 3.180e+02 1.030e+02 8.500e+01 2.200e+01 1.920e+02 1.040e+02\n",
            " 2.700e+01 2.320e+02 1.580e+02 1.070e+02 3.410e+02 7.700e+01 3.160e+02\n",
            " 6.500e+01 2.610e+02 1.010e+03 8.000e+01 1.310e+02 6.400e+01 8.700e+01\n",
            " 1.140e+02 3.260e+02 1.870e+02 1.280e+02 1.150e+02 5.300e+01 9.100e+01\n",
            " 1.820e+02 6.900e+01 1.690e+02 1.160e+02 2.660e+02 9.300e+01 9.040e+02\n",
            " 6.750e+02 1.576e+03 1.480e+02 1.540e+02 1.770e+02 1.380e+02 2.640e+02\n",
            " 1.800e+02 8.560e+02 6.110e+02 5.900e+01 1.420e+02 1.512e+03 6.940e+02\n",
            " 2.360e+02 2.950e+02 3.730e+02 2.300e+02 2.240e+02 1.710e+02 8.110e+02\n",
            " 7.800e+01 3.910e+02 2.540e+02 1.180e+02 3.070e+02 2.700e+02 2.130e+02\n",
            " 1.300e+02 9.200e+01 2.190e+02 1.103e+03 1.080e+02 1.110e+02 1.251e+03\n",
            " 1.290e+03 2.899e+03 1.130e+02 3.350e+02 2.460e+03 6.930e+03 5.150e+02\n",
            " 3.950e+02 1.120e+02 9.330e+02 1.190e+02 9.500e+01 1.320e+02 4.602e+03\n",
            " 4.500e+02 2.040e+02 5.610e+02 3.010e+02 2.874e+03 1.220e+02 8.050e+02\n",
            " 8.760e+02 2.120e+02 1.673e+03 2.850e+03 5.140e+02 3.310e+02 1.670e+02\n",
            " 3.430e+02 1.680e+02 1.490e+02 1.730e+03 1.050e+02 1.149e+03 1.356e+03\n",
            " 1.615e+03 1.210e+02 6.600e+02 7.960e+02 6.050e+02 5.520e+02 3.762e+03\n",
            " 2.840e+02 5.960e+02 9.180e+02 1.994e+03 1.630e+02 6.410e+02 3.060e+02\n",
            " 2.480e+02 1.750e+02 4.450e+02 4.810e+03 1.010e+02 7.190e+02 5.980e+02\n",
            " 2.590e+02 1.640e+02 5.040e+02 7.900e+01 2.192e+03 1.320e+03 3.330e+02\n",
            " 1.230e+02 2.650e+02 3.357e+03 1.170e+02 2.245e+03 8.280e+02 4.750e+02]\n",
            "Value counts:  0.0       6757\n",
            "10.0        74\n",
            "2.0         64\n",
            "1.0         62\n",
            "5.0         54\n",
            "          ... \n",
            "177.0        1\n",
            "154.0        1\n",
            "148.0        1\n",
            "1576.0       1\n",
            "475.0        1\n",
            "Name: eng_time_last_insp, Length: 251, dtype: int64\n",
            "Total nulls:  38141\n",
            "Data type:  float64\n",
            "ntsb_no\n",
            "current df shape: (46748, 86)\n",
            "Unique data:  ['atl99fa044' 'atl99fa046' 'atl99la137' ... 'cen16ca277' 'cen16la281'\n",
            " 'wpr16fa148']\n",
            "Value counts:  atl99fa044    1\n",
            "chi82da270    1\n",
            "chi82da272    1\n",
            "chi82da274    1\n",
            "chi82da275    1\n",
            "             ..\n",
            "chi89la115    1\n",
            "chi89la116    1\n",
            "chi89la118    1\n",
            "chi89la120    1\n",
            "wpr16fa148    1\n",
            "Name: ntsb_no, Length: 46748, dtype: int64\n",
            "Total nulls:  0\n",
            "Data type:  object\n",
            "ev_type\n",
            "current df shape: (46748, 86)\n",
            "Unique data:  ['acc' 'inc']\n",
            "Value counts:  acc    46146\n",
            "inc      602\n",
            "Name: ev_type, dtype: int64\n",
            "Total nulls:  0\n",
            "Data type:  object\n",
            "ev_date\n",
            "current df shape: (46748, 86)\n",
            "Unique data:  ['1/14/1999' '1/30/1999' '1/21/1999' ... '04-aug-16' '22-jul-16'\n",
            " '23-jul-16']\n",
            "Value counts:  5/16/1982    24\n",
            "6/5/1983     21\n",
            "7/28/1983    20\n",
            "6/19/1982    20\n",
            "10/3/1982    20\n",
            "             ..\n",
            "07-dec-09     1\n",
            "1/11/1987     1\n",
            "1/6/1987      1\n",
            "10-dec-09     1\n",
            "23-jul-16     1\n",
            "Name: ev_date, Length: 11881, dtype: int64\n",
            "Total nulls:  0\n",
            "Data type:  object\n",
            "ev_dow\n",
            "current df shape: (46748, 86)\n",
            "Unique data:  ['th' 'sa' 'fr' 'su' 'tu' 'we' 'mo']\n",
            "Value counts:  sa    9162\n",
            "su    8401\n",
            "fr    6678\n",
            "th    5855\n",
            "we    5690\n",
            "mo    5580\n",
            "tu    5382\n",
            "Name: ev_dow, dtype: int64\n",
            "Total nulls:  0\n",
            "Data type:  object\n",
            "ev_time\n",
            "current df shape: (46748, 86)\n",
            "Unique data:  [ 918. 1740. 1200. ...  242.  358.  322.]\n",
            "Value counts:  1500.0    820\n",
            "1400.0    817\n",
            "1430.0    800\n",
            "1600.0    794\n",
            "1630.0    792\n",
            "         ... \n",
            "507.0       1\n",
            "741.0       1\n",
            "163.0       1\n",
            "453.0       1\n",
            "322.0       1\n",
            "Name: ev_time, Length: 1378, dtype: int64\n",
            "Total nulls:  17\n",
            "Data type:  float64\n",
            "ev_city\n",
            "current df shape: (46748, 86)\n",
            "Unique data:  ['cullman' 'belleview' 'pleasant view' ... 'ishpeming' 'westwood' 'zamora']\n",
            "Value counts:  anchorage       288\n",
            "houston         137\n",
            "albuquerque     135\n",
            "fairbanks       126\n",
            "jacksonville    117\n",
            "               ... \n",
            "torrey pines      1\n",
            "keaau             1\n",
            "haymarket         1\n",
            "galeville         1\n",
            "zamora            1\n",
            "Name: ev_city, Length: 9976, dtype: int64\n",
            "Total nulls:  1\n",
            "Data type:  object\n",
            "ev_state\n",
            "current df shape: (46748, 86)\n",
            "Unique data:  ['al' 'fl' 'tn' 'mi' 'in' 'mo' 'ks' 'il' 'wi' 'ne' 'nm' 'co' 'ok' 'tx'\n",
            " 'ar' 'oh' 'nj' 'ca' 'az' 'ga' 'ny' 'pa' 'or' 'wa' 'ak' 'mn' 'ut' 'me'\n",
            " 'nv' 'nc' 'ms' 'sc' 'ma' 'ky' 'ct' 'mt' 'ia' 'la' 'hi' 'vi' 'va' 'id'\n",
            " 'po' 'pr' 'wv' 'md' 'de' 'vt' 'nd' 'sd' 'gm' 'wy' 'nh' 'ri' 'gu' 'dc'\n",
            " 'ao' nan 'cb']\n",
            "Value counts:  ca    5011\n",
            "fl    3384\n",
            "tx    3072\n",
            "ak    2720\n",
            "co    1626\n",
            "az    1545\n",
            "wa    1357\n",
            "ga    1269\n",
            "mi    1199\n",
            "il    1170\n",
            "oh    1135\n",
            "pa    1103\n",
            "ny    1102\n",
            "nc    1030\n",
            "mo     957\n",
            "wi     920\n",
            "or     889\n",
            "ar     846\n",
            "mn     846\n",
            "in     812\n",
            "nm     773\n",
            "va     766\n",
            "al     761\n",
            "id     730\n",
            "ut     714\n",
            "ok     687\n",
            "ks     684\n",
            "nj     671\n",
            "tn     654\n",
            "sc     638\n",
            "nv     637\n",
            "la     615\n",
            "ma     579\n",
            "mt     559\n",
            "ms     528\n",
            "ia     510\n",
            "md     497\n",
            "wy     438\n",
            "ne     431\n",
            "ky     414\n",
            "nd     346\n",
            "me     318\n",
            "ct     303\n",
            "wv     264\n",
            "sd     259\n",
            "nh     241\n",
            "hi     222\n",
            "vt     139\n",
            "pr     118\n",
            "ri      89\n",
            "de      65\n",
            "gm      23\n",
            "vi      17\n",
            "ao      15\n",
            "po      11\n",
            "dc       6\n",
            "gu       3\n",
            "cb       1\n",
            "Name: ev_state, dtype: int64\n",
            "Total nulls:  29\n",
            "Data type:  object\n",
            "ev_year\n",
            "current df shape: (46748, 86)\n",
            "Unique data:  [1999 1994 1995 1996 1997 1998 1993 1992 1991 2000 1990 1988 1989 1987\n",
            " 1986 1985 1984 1983 1948 2001 2002 1982 2003 2004 2005 2006 1974 2007\n",
            " 2016 2018 2017 2019 2015 2021 2022 2020 2008 2011 2009 2010 2014 2012\n",
            " 2013]\n",
            "Value counts:  1982    2997\n",
            "1983    2651\n",
            "1984    2416\n",
            "1985    2250\n",
            "1986    2139\n",
            "1987    2066\n",
            "1988    1947\n",
            "1992    1536\n",
            "1993    1483\n",
            "1989    1479\n",
            "1995    1399\n",
            "1994    1390\n",
            "1997    1325\n",
            "1996    1203\n",
            "2002    1181\n",
            "2003    1138\n",
            "2009    1131\n",
            "2001    1127\n",
            "2012    1121\n",
            "2011    1108\n",
            "2010    1051\n",
            "1990    1029\n",
            "2008    1028\n",
            "1999     997\n",
            "2015     949\n",
            "2004     949\n",
            "1998     924\n",
            "2013     917\n",
            "2014     902\n",
            "2000     889\n",
            "1991     863\n",
            "2007     848\n",
            "2005     847\n",
            "2006     731\n",
            "2016     520\n",
            "2022     112\n",
            "2021      64\n",
            "2018      12\n",
            "2020      10\n",
            "2017       9\n",
            "2019       8\n",
            "1948       1\n",
            "1974       1\n",
            "Name: ev_year, dtype: int64\n",
            "Total nulls:  0\n",
            "Data type:  int64\n",
            "ev_month\n",
            "current df shape: (46748, 86)\n",
            "Unique data:  [ 1  2  3  4  5  6  7  8  9 10 11 12]\n",
            "Value counts:  7     5615\n",
            "8     5221\n",
            "6     5115\n",
            "5     4603\n",
            "9     4265\n",
            "4     4011\n",
            "10    3586\n",
            "3     3525\n",
            "11    2799\n",
            "2     2796\n",
            "1     2630\n",
            "12    2582\n",
            "Name: ev_month, dtype: int64\n",
            "Total nulls:  0\n",
            "Data type:  int64\n",
            "latitude\n",
            "current df shape: (46748, 86)\n",
            "Unique data:  [nan '385854n' '341740n' ... '039346n' '395226n' '384810n']\n",
            "Value counts:  334118n    14\n",
            "611249n    13\n",
            "335232n    13\n",
            "332739n    12\n",
            "405651n    12\n",
            "           ..\n",
            "300753n     1\n",
            "342950n     1\n",
            "362017n     1\n",
            "304510n     1\n",
            "384810n     1\n",
            "Name: latitude, Length: 11701, dtype: int64\n",
            "Total nulls:  31790\n",
            "Data type:  object\n",
            "longitude\n",
            "current df shape: (46748, 86)\n",
            "Unique data:  [nan '1194022w' '1192008w' ... '0095354w' '0834114w' '0121463w']\n",
            "Value counts:  1114342w    14\n",
            "1114840w    13\n",
            "1495040w    12\n",
            "0741852w    12\n",
            "0112457w    11\n",
            "            ..\n",
            "0834828w     1\n",
            "0815731w     1\n",
            "0842442w     1\n",
            "1211430w     1\n",
            "0121463w     1\n",
            "Name: longitude, Length: 12199, dtype: int64\n",
            "Total nulls:  31789\n",
            "Data type:  object\n",
            "apt_name\n",
            "current df shape: (46748, 86)\n",
            "Unique data:  ['folsom' 'jordan airport' 'blue bird field' ...\n",
            " 'joseph a hardy connellsville' 'munday muni' 'riego flight strip airport']\n",
            "Value counts:  private                       263\n",
            "private airstrip              158\n",
            "none                          127\n",
            "private strip                 111\n",
            "merrill field                  67\n",
            "                             ... \n",
            "george m bryan                  1\n",
            "hastings int'l                  1\n",
            "raiford state prison arsp       1\n",
            "destin ft. walton beach         1\n",
            "riego flight strip airport      1\n",
            "Name: apt_name, Length: 15054, dtype: int64\n",
            "Total nulls:  15888\n",
            "Data type:  object\n"
          ]
        },
        {
          "output_type": "display_data",
          "data": {
            "text/plain": [
              "<Figure size 640x480 with 1 Axes>"
            ],
            "image/png": "[encoded data removed]"
          },
          "metadata": {}
        }
      ]
    },
    {
      "cell_type": "code",
      "source": [
        "# Removing spaces in runway number column. Not sure what else to do with this column, some runways might be more risky for particular airports, so I think this is valuable to keep.\n",
        "ntsb_2['rwy_num'].mask(ntsb_2['rwy_num'] == '0', '36', inplace=True)\n",
        "ntsb_2['rwy_num'].mask(ntsb_2['rwy_num'] == '3 r', '3r', inplace=True)\n",
        "ntsb_2['rwy_num'].mask(ntsb_2['rwy_num'] == '10r/', '10r', inplace=True)\n",
        "ntsb_2['rwy_num'].mask(ntsb_2['rwy_num'] == '18r/', '18r', inplace=True)\n",
        "ntsb_2['rwy_num'].mask(ntsb_2['rwy_num'] == '18 /', '18', inplace=True)\n",
        "ntsb_2['rwy_num'].mask(ntsb_2['rwy_num'] == 'unk', np.nan, inplace=True)\n",
        "ntsb_2['rwy_num'].mask(ntsb_2['rwy_num'] == 'none', np.nan, inplace=True)\n",
        "ntsb_2['rwy_num'].mask(ntsb_2['rwy_num'] == '055', '55', inplace=True)\n",
        "ntsb_2['rwy_num'].mask(ntsb_2['rwy_num'] == '000', '36', inplace=True)\n",
        "ntsb_2['rwy_num'].mask(ntsb_2['rwy_num'] == '060' , '60', inplace=True)\n",
        "ntsb_2['rwy_num'].mask(ntsb_2['rwy_num'] == '035', '35', inplace=True)\n",
        "ntsb_2['rwy_num'].mask(ntsb_2['rwy_num'] == '07/2', '07', inplace=True)\n",
        "ntsb_2['rwy_num'].mask(ntsb_2['rwy_num'] == '03/2', '03', inplace=True)\n",
        "ntsb_2['rwy_num'].mask(ntsb_2['rwy_num'] == '08/2', '08', inplace=True)\n",
        "ntsb_2['rwy_num'].mask(ntsb_2['rwy_num'] == '022', '22', inplace=True)\n",
        "ntsb_2['rwy_num'].mask(ntsb_2['rwy_num'] == '9 r', '09r', inplace=True)\n",
        "ntsb_2['rwy_num'].mask(ntsb_2['rwy_num'] == '2/8', '02', inplace=True)\n",
        "ntsb_2['rwy_num'].mask(ntsb_2['rwy_num'] == '09/2', '09', inplace=True)\n",
        "ntsb_2['rwy_num'].mask(ntsb_2['rwy_num'] == '04/2', '04', inplace=True)\n",
        "ntsb_2['rwy_num'].mask(ntsb_2['rwy_num'] == '05/2', '05', inplace=True)\n",
        "ntsb_2['rwy_num'].mask(ntsb_2['rwy_num'] == '12/3', '12', inplace=True)\n",
        "ntsb_2['rwy_num'].mask(ntsb_2['rwy_num'] == '14/3', '14', inplace=True)\n",
        "ntsb_2['rwy_num'].mask(ntsb_2['rwy_num'] == '15/3', '15', inplace=True)\n",
        "ntsb_2['rwy_num'].mask(ntsb_2['rwy_num'] == '10/2', '10', inplace=True)\n",
        "ntsb_2['rwy_num'].mask(ntsb_2['rwy_num'] == '11/2', '11', inplace=True)\n",
        "ntsb_2['rwy_num'].mask(ntsb_2['rwy_num'] == '16/3', '16', inplace=True)\n",
        "ntsb_2['rwy_num'].mask(ntsb_2['rwy_num'] == '18/3', '18', inplace=True)\n",
        "ntsb_2['rwy_num'].mask(ntsb_2['rwy_num'] == '17/3', '17', inplace=True)\n",
        "ntsb_2['rwy_num'].mask(ntsb_2['rwy_num'] == '02/2', '02', inplace=True)\n",
        "ntsb_2['rwy_num'].mask(ntsb_2['rwy_num'] == '5/23', '05', inplace=True)\n",
        "ntsb_2['rwy_num'].mask(ntsb_2['rwy_num'] == '9/27', '09', inplace=True)\n",
        "ntsb_2['rwy_num'].mask(ntsb_2['rwy_num'] == '7/25', '07', inplace=True)\n",
        "ntsb_2['rwy_num'].mask(ntsb_2['rwy_num'] == '1/19', '01', inplace=True)\n",
        "ntsb_2['rwy_num'].mask(ntsb_2['rwy_num'] == 'n', '36', inplace=True)\n",
        "ntsb_2['rwy_num'].mask(ntsb_2['rwy_num'] == 's', '18', inplace=True)\n",
        "ntsb_2['rwy_num'].mask(ntsb_2['rwy_num'] == 'w', '27', inplace=True)\n",
        "ntsb_2['rwy_num'].mask(ntsb_2['rwy_num'] == 'e', '09', inplace=True)\n",
        "ntsb_2['rwy_num'].mask(ntsb_2['rwy_num'] == 'e/w', '27', inplace=True)\n",
        "ntsb_2['rwy_num'].mask(ntsb_2['rwy_num'] == 'n/s', '18', inplace=True)\n",
        "ntsb_2['rwy_num'].mask(ntsb_2['rwy_num'] == 'nw', '31', inplace=True)\n",
        "ntsb_2['rwy_num'].mask(ntsb_2['rwy_num'] == 'emm', np.nan, inplace=True)\n",
        "ntsb_2['rwy_num'].mask(ntsb_2['rwy_num'] == 'afo', np.nan, inplace=True)\n",
        "ntsb_2['rwy_num'].mask(ntsb_2['rwy_num'] == 'gif', np.nan, inplace=True)\n",
        "ntsb_2['rwy_num'].mask(ntsb_2['rwy_num'] == 'pvt', 'private', inplace=True)\n",
        "ntsb_2['rwy_num'].mask(ntsb_2['rwy_num'] == 'se', '13', inplace=True)\n",
        "ntsb_2['rwy_num'].mask(ntsb_2['rwy_num'] == 'vgt', np.nan, inplace=True)\n",
        "ntsb_2['rwy_num'].mask(ntsb_2['rwy_num'] == 'west', '27', inplace=True)\n",
        "ntsb_2['rwy_num'].mask(ntsb_2['rwy_num'] == 'ne', '04', inplace=True) \n",
        "ntsb_2['rwy_num'].mask(ntsb_2['rwy_num'] == 'vgt', np.nan, inplace=True)\n",
        "ntsb_2['rwy_num'].mask(ntsb_2['rwy_num'] == 'sw', '24', inplace=True)\n",
        "ntsb_2['rwy_num'].mask(ntsb_2['rwy_num'] == 'h2', np.nan, inplace=True)"
      ],
      "metadata": {
        "id": "1k7InBqKlT__"
      },
      "id": "1k7InBqKlT__",
      "execution_count": 53,
      "outputs": []
    },
    {
      "cell_type": "code",
      "source": [
        "## update runway numbers\n",
        "ntsb_2['rwy_num'].mask(ntsb_2['rwy_num'] == '', np.nan, inplace=True)\n",
        "ntsb_2['rwy_num'].unique()"
      ],
      "metadata": {
        "id": "s68MJPNaldtP",
        "outputId": "069f1c61-3a13-4ff4-96e8-2de6aebe3c6f",
        "colab": {
          "base_uri": "https://localhost:8080/"
        }
      },
      "id": "s68MJPNaldtP",
      "execution_count": 54,
      "outputs": [
        {
          "output_type": "execute_result",
          "data": {
            "text/plain": [
              "array(['20', '36', '18', '32', '27', '35', '16', '26r', '28', '4r', '17',\n",
              "       '34', '14', '22', '28l', '15l', '11r', '17l', '13', '24', '10l',\n",
              "       '9', '30r', '15', '26', '21r', '3', '9r', '25', '1r', '5r', '7',\n",
              "       '4', '12', '3r', '31', '5', '29', '29r', '19', '21', '8', '10',\n",
              "       '23', '19l', '33', '30', '2', '28r', '1', '6', '26l', '14r', '17r',\n",
              "       '19r', '25r', '11', '35r', '12r', '6l', '2l', '18r', '32r', '36l',\n",
              "       '27r', '8r', '34r', '29l', '22l', '31r', '22g', '20r', '27l',\n",
              "       '11l', '8l', '22r', '34l', '1l', '16l', '16r', '9l', '23r', '5l',\n",
              "       '18l', '20l', '7r', '13l', '13r', '25l', '23l', '24l', '35l',\n",
              "       '21l', '24r', '30l', '31l', '12l', '20c', '7l', '33l', '30c',\n",
              "       '36c', '32l', '23c', '17c', '36r', '3l', nan, '3c', '2r', '33r',\n",
              "       '15r', '4l', '10r', '360', '14l', '190', '250', '01', '02', '067',\n",
              "       '09', '05', '2c', '06', '6r', '0r', '00', '202', '61', '04', '03',\n",
              "       '315', '07', '08', '090', 'h1', '210', '160', '7u', '080', '27u',\n",
              "       '180', '09r', '040', '55', '350', '070', '030', '010', '01l',\n",
              "       '050', '270', '09l', '5r7', '135', '9c', '280', '110', '290',\n",
              "       '240', '320', '020', '04r', '260', '310', '04l', '120', 'c', '40',\n",
              "       '220', '130', '08l', '330', '230', '60', '100', '150', 'non',\n",
              "       '045', '01r', '80', '07l', 'trm', '06r', 'te9', '17w', 'h', '03l',\n",
              "       '02l', '05r', '12g', '075', '8g', '08r', '09c', '03r', '07r',\n",
              "       '27c', '05l', '02r', '06l', '02c', '99', '13w', '225', '4w', '16s',\n",
              "       '28c', '34s'], dtype=object)"
            ]
          },
          "metadata": {},
          "execution_count": 54
        }
      ]
    },
    {
      "cell_type": "code",
      "source": [
        "col_metrics(ntsb_2, col='rwy_len')"
      ],
      "metadata": {
        "id": "J-hh7IHflfj9",
        "outputId": "ca4d2e14-a2ac-4860-a76b-a6866d7e8522",
        "colab": {
          "base_uri": "https://localhost:8080/",
          "height": 708
        }
      },
      "id": "J-hh7IHflfj9",
      "execution_count": 55,
      "outputs": [
        {
          "output_type": "stream",
          "name": "stdout",
          "text": [
            "current df shape: (46748, 86)\n",
            "Unique data:  [5500. 3800. 1900. ... 3354. 2141. 4651.]\n",
            "Value counts:  0.0       5018\n",
            "5000.0    1072\n",
            "3000.0     961\n",
            "4000.0     822\n",
            "2500.0     523\n",
            "          ... \n",
            "6272.0       1\n",
            "4779.0       1\n",
            "3173.0       1\n",
            "2248.0       1\n",
            "4651.0       1\n",
            "Name: rwy_len, Length: 2971, dtype: int64\n",
            "Total nulls:  15937\n",
            "Data type:  float64\n"
          ]
        },
        {
          "output_type": "display_data",
          "data": {
            "text/plain": [
              "<Figure size 640x480 with 1 Axes>"
            ],
            "image/png": "[encoded data removed]"
          },
          "metadata": {}
        }
      ]
    },
    {
      "cell_type": "code",
      "source": [
        "ntsb_2['rwy_len'].plot(kind='kde')"
      ],
      "metadata": {
        "id": "xVVPbq8FlhR5",
        "outputId": "17f62aaa-1d8a-4029-83f4-1936dbb5929a",
        "colab": {
          "base_uri": "https://localhost:8080/",
          "height": 447
        }
      },
      "id": "xVVPbq8FlhR5",
      "execution_count": 56,
      "outputs": [
        {
          "output_type": "execute_result",
          "data": {
            "text/plain": [
              "<Axes: ylabel='Density'>"
            ]
          },
          "metadata": {},
          "execution_count": 56
        },
        {
          "output_type": "display_data",
          "data": {
            "text/plain": [
              "<Figure size 640x480 with 1 Axes>"
            ],
            "image/png": "[encoded data removed]"
          },
          "metadata": {}
        }
      ]
    },
    {
      "cell_type": "code",
      "source": [
        "# binning values in 'rwy_len' column\n",
        "\n",
        "bins = [0, 1000, 2000, 3000, 4000, 5000, 6000, 7000, 8000, 9000, 10000, 11000, 12000]\n",
        "labels =[1,2,3,4,5,6,7,8,9,10,11,12]\n",
        "ntsb_2['rwy_len'] = pd.cut(ntsb_2['rwy_len'], bins,labels=labels)\n",
        "col_metrics(ntsb_2, col='rwy_len')"
      ],
      "metadata": {
        "id": "6f9Mbtm2lmci",
        "outputId": "d5e91802-96dc-4e45-a7b6-d64fbcde92fd",
        "colab": {
          "base_uri": "https://localhost:8080/"
        }
      },
      "id": "6f9Mbtm2lmci",
      "execution_count": 57,
      "outputs": [
        {
          "output_type": "stream",
          "name": "stdout",
          "text": [
            "current df shape: (46748, 86)\n",
            "Unique data:  [6, 4, 2, 7, NaN, ..., 9, 8, 11, 12, 1]\n",
            "Length: 13\n",
            "Categories (12, int64): [1 < 2 < 3 < 4 ... 9 < 10 < 11 < 12]\n",
            "Value counts:  3     5762\n",
            "4     5509\n",
            "5     4212\n",
            "6     3160\n",
            "2     2034\n",
            "7     1835\n",
            "8     1222\n",
            "9      835\n",
            "10     441\n",
            "1      319\n",
            "11     257\n",
            "12     122\n",
            "Name: rwy_len, dtype: int64\n",
            "Total nulls:  21040\n",
            "Data type:  category\n"
          ]
        }
      ]
    },
    {
      "cell_type": "code",
      "source": [
        "# count how many values are outliers\n",
        "outlier = (1.5*(4752 - 1229)) + 4752\n",
        "outliers = [x for x in ntsb_2['afm_hrs'] if x > outlier]\n",
        "print(len(outliers))"
      ],
      "metadata": {
        "id": "fTBMIL8FX5eI",
        "outputId": "67f530d2-f214-4bf6-ab5f-78fcca5ef4ca",
        "colab": {
          "base_uri": "https://localhost:8080/"
        }
      },
      "id": "fTBMIL8FX5eI",
      "execution_count": 58,
      "outputs": [
        {
          "output_type": "stream",
          "name": "stdout",
          "text": [
            "0\n"
          ]
        }
      ]
    },
    {
      "cell_type": "code",
      "source": [
        "col_metrics(ntsb_2, col='rwy_width')"
      ],
      "metadata": {
        "id": "GynK7ENqlsuz",
        "outputId": "c54a86e7-4526-4d90-b4be-c38b8ff49f5b",
        "colab": {
          "base_uri": "https://localhost:8080/",
          "height": 1000
        }
      },
      "id": "GynK7ENqlsuz",
      "execution_count": 59,
      "outputs": [
        {
          "output_type": "stream",
          "name": "stdout",
          "text": [
            "current df shape: (46748, 86)\n",
            "Unique data:  [1.000e+02 3.600e+01 7.500e+01 1.500e+02 1.200e+02       nan 5.000e+01\n",
            " 6.000e+01 3.000e+02 8.000e+01 4.000e+01 1.530e+02 7.200e+01 9.000e+01\n",
            " 3.000e+01 4.500e+01 3.500e+01 1.590e+02 7.000e+01 7.300e+01 4.400e+01\n",
            " 6.500e+01 4.700e+01 6.600e+01 2.000e+02 1.300e+02 2.500e+01 4.800e+01\n",
            " 2.600e+01 5.500e+01 6.800e+01 1.600e+02 3.900e+01 4.300e+01 3.200e+01\n",
            " 2.400e+01 1.700e+02 2.500e+02 2.200e+01 4.200e+01 1.250e+02 5.000e+02\n",
            " 2.000e+01 5.900e+01 7.700e+01 2.800e+01 1.800e+02 1.500e+01 2.090e+02\n",
            " 7.400e+01 3.800e+01 2.900e+02 1.150e+02 8.500e+01 3.700e+01 1.400e+02\n",
            " 1.100e+02 0.000e+00 1.900e+02 1.750e+02 3.400e+01 1.010e+02 7.800e+01\n",
            " 6.200e+01 3.100e+01 1.350e+02 6.100e+01 4.900e+01 1.880e+02 1.800e+01\n",
            " 1.000e+01 2.150e+02 1.450e+02 9.500e+01 1.140e+02 2.400e+02 4.600e+01\n",
            " 1.130e+02 1.200e+01 3.300e+01 1.480e+02 2.300e+02 4.000e+02 9.600e+01\n",
            " 2.800e+02 2.020e+02 8.400e+01 2.600e+02 2.700e+01 1.040e+02 1.050e+02\n",
            " 1.160e+02 9.400e+01 5.600e+01 2.900e+01 5.800e+01 3.700e+02 1.340e+02\n",
            " 1.650e+02 1.410e+02 1.580e+02 9.800e+01 4.100e+01 1.950e+02 1.100e+01\n",
            " 5.200e+01 2.750e+02 3.500e+02 7.600e+01 5.000e+00 1.080e+02 2.550e+02\n",
            " 6.700e+01 2.650e+02 1.470e+02 2.260e+02 1.090e+02 2.440e+02 9.700e+01\n",
            " 2.200e+02 6.000e+00 1.460e+02 8.000e+00 1.900e+01 2.000e+00 1.020e+02\n",
            " 5.400e+01 1.860e+02 8.300e+01 1.920e+02 2.250e+02 1.850e+02 6.400e+01\n",
            " 2.350e+02 1.330e+02 1.520e+02 6.606e+03 1.400e+01 1.760e+02 4.100e+03\n",
            " 4.250e+02 1.620e+02 5.700e+01 1.500e+03 4.500e+02 1.120e+02 1.260e+02\n",
            " 1.550e+02 1.320e+02 2.370e+02 1.570e+02 3.400e+02 1.585e+03 8.800e+01\n",
            " 7.201e+03 1.000e+03 1.524e+03 2.300e+01 9.750e+02 2.500e+03 1.367e+03\n",
            " 1.240e+02 2.982e+03 2.660e+03 2.120e+02 7.720e+02 1.600e+01 1.960e+02\n",
            " 1.288e+03 1.180e+02 2.100e+02 1.583e+03 7.100e+01 1.800e+03 8.700e+01\n",
            " 1.612e+03 1.647e+03 3.750e+02 6.000e+02 9.900e+01 2.040e+02 7.850e+02\n",
            " 1.490e+02 6.300e+01 9.140e+02 8.350e+02 7.900e+01 2.100e+01 2.940e+02\n",
            " 4.450e+02 1.990e+02 2.100e+03]\n",
            "Value counts:  150.0     5430\n",
            "0.0       5351\n",
            "100.0     5069\n",
            "75.0      4779\n",
            "50.0      2481\n",
            "          ... \n",
            "340.0        1\n",
            "1585.0       1\n",
            "88.0         1\n",
            "7201.0       1\n",
            "2100.0       1\n",
            "Name: rwy_width, Length: 191, dtype: int64\n",
            "Total nulls:  16666\n",
            "Data type:  float64\n"
          ]
        },
        {
          "output_type": "display_data",
          "data": {
            "text/plain": [
              "<Figure size 640x480 with 1 Axes>"
            ],
            "image/png": "[encoded data removed]"
          },
          "metadata": {}
        }
      ]
    },
    {
      "cell_type": "code",
      "source": [
        "ntsb_2['rwy_width'].round(0)"
      ],
      "metadata": {
        "id": "E69I_SCIlv84",
        "outputId": "35444341-3e31-401e-8510-75308de783cd",
        "colab": {
          "base_uri": "https://localhost:8080/"
        }
      },
      "id": "E69I_SCIlv84",
      "execution_count": 60,
      "outputs": [
        {
          "output_type": "execute_result",
          "data": {
            "text/plain": [
              "3         100.0\n",
              "5          36.0\n",
              "6          75.0\n",
              "7         150.0\n",
              "8         120.0\n",
              "          ...  \n",
              "104049      NaN\n",
              "104061     50.0\n",
              "104078      NaN\n",
              "104092      NaN\n",
              "104119      NaN\n",
              "Name: rwy_width, Length: 46748, dtype: float64"
            ]
          },
          "metadata": {},
          "execution_count": 60
        }
      ]
    },
    {
      "cell_type": "code",
      "source": [
        "ntsb_2['rwy_width'].max()"
      ],
      "metadata": {
        "id": "bcLnax1rlxmi",
        "outputId": "3bd79580-ce78-4115-c124-718cb56c0514",
        "colab": {
          "base_uri": "https://localhost:8080/"
        }
      },
      "id": "bcLnax1rlxmi",
      "execution_count": 61,
      "outputs": [
        {
          "output_type": "execute_result",
          "data": {
            "text/plain": [
              "7201.0"
            ]
          },
          "metadata": {},
          "execution_count": 61
        }
      ]
    },
    {
      "cell_type": "code",
      "source": [
        "ntsb_2['rwy_width'].plot(kind='kde')"
      ],
      "metadata": {
        "id": "SeZ1uDGzly0W",
        "outputId": "4fba1818-3ebb-48b0-a7f7-e7a2ca227c31",
        "colab": {
          "base_uri": "https://localhost:8080/",
          "height": 447
        }
      },
      "id": "SeZ1uDGzly0W",
      "execution_count": 62,
      "outputs": [
        {
          "output_type": "execute_result",
          "data": {
            "text/plain": [
              "<Axes: ylabel='Density'>"
            ]
          },
          "metadata": {},
          "execution_count": 62
        },
        {
          "output_type": "display_data",
          "data": {
            "text/plain": [
              "<Figure size 640x480 with 1 Axes>"
            ],
            "image/png": "[encoded data removed]"
          },
          "metadata": {}
        }
      ]
    },
    {
      "cell_type": "code",
      "source": [
        "# binning values in 'rwy_width' column... same question as above\n",
        "\n",
        "bins2 = [0,10,20,30,40,50,60,70,80,90,100,200]\n",
        "labels2 = [1,2,3,4,5,6,7,8,9,10,11,]\n",
        "\n",
        "#bins2 = [0, 100, 200, 300, 400, 500, 1000, 1500, 2000, 2500, 3000, 3500, 4000, 4500, 5000, 5500, 6000, 6500, 7000, 7500, 8000]\n",
        "#labels2 =[1,2,3,4,5,6,7,8,9,10,11,12,13,14,15,16,17,18,19,20]\n",
        "ntsb_2['rwy_width'] = pd.cut(ntsb_2['rwy_width'], bins2, labels=labels2)\n",
        "col_metrics(ntsb_2, col='rwy_width')"
      ],
      "metadata": {
        "id": "iWxyIABHtF5C",
        "outputId": "3377a4e0-462b-4b2d-e71f-120c6b790aae",
        "colab": {
          "base_uri": "https://localhost:8080/"
        }
      },
      "id": "iWxyIABHtF5C",
      "execution_count": 63,
      "outputs": [
        {
          "output_type": "stream",
          "name": "stdout",
          "text": [
            "current df shape: (46748, 86)\n",
            "Unique data:  [10, 4, 8, 11, NaN, ..., 9, 3, 7, 2, 1]\n",
            "Length: 12\n",
            "Categories (11, int64): [1 < 2 < 3 < 4 ... 8 < 9 < 10 < 11]\n",
            "Value counts:  11    6577\n",
            "8     5271\n",
            "10    5107\n",
            "5     2837\n",
            "6     1975\n",
            "4     1051\n",
            "3      720\n",
            "7      511\n",
            "2      220\n",
            "9      149\n",
            "1       17\n",
            "Name: rwy_width, dtype: int64\n",
            "Total nulls:  22313\n",
            "Data type:  category\n"
          ]
        }
      ]
    },
    {
      "cell_type": "code",
      "source": [
        "col_metrics(ntsb_2, col='eng_type')"
      ],
      "metadata": {
        "id": "H3ZcYr3jtITn",
        "outputId": "9c250597-9cf5-47d4-b190-2658046bb1e7",
        "colab": {
          "base_uri": "https://localhost:8080/"
        }
      },
      "id": "H3ZcYr3jtITn",
      "execution_count": 64,
      "outputs": [
        {
          "output_type": "stream",
          "name": "stdout",
          "text": [
            "current df shape: (46748, 86)\n",
            "Unique data:  ['tp' 'rec' 'tj' 'ts' 'unk' 'tf' nan 'elec' 'none' 'hr']\n",
            "Value counts:  rec     42391\n",
            "ts       1471\n",
            "tp       1383\n",
            "unk       556\n",
            "tf        298\n",
            "tj        178\n",
            "none        5\n",
            "elec        3\n",
            "hr          1\n",
            "Name: eng_type, dtype: int64\n",
            "Total nulls:  462\n",
            "Data type:  object\n"
          ]
        }
      ]
    },
    {
      "cell_type": "code",
      "source": [
        "# Changing datatype for eng_type column to category\n",
        "ntsb_2['eng_type'].astype('category')"
      ],
      "metadata": {
        "id": "qoVqL1rotLdd",
        "outputId": "f5a858d3-440f-4708-ef9d-1800651d1e24",
        "colab": {
          "base_uri": "https://localhost:8080/"
        }
      },
      "id": "qoVqL1rotLdd",
      "execution_count": 65,
      "outputs": [
        {
          "output_type": "execute_result",
          "data": {
            "text/plain": [
              "3          tp\n",
              "5         rec\n",
              "6         rec\n",
              "7         rec\n",
              "8         rec\n",
              "         ... \n",
              "104049    rec\n",
              "104061    rec\n",
              "104078    rec\n",
              "104092    rec\n",
              "104119     tp\n",
              "Name: eng_type, Length: 46748, dtype: category\n",
              "Categories (9, object): ['elec', 'hr', 'none', 'rec', ..., 'tj', 'tp', 'ts', 'unk']"
            ]
          },
          "metadata": {},
          "execution_count": 65
        }
      ]
    },
    {
      "cell_type": "code",
      "source": [
        "#replacing none and unk values from eng_type with nan\n",
        "ntsb_2['eng_type'].mask(ntsb_2['eng_type'] == 'none', np.nan, inplace=True)\n",
        "ntsb_2['eng_type'].mask(ntsb_2['eng_type'] == 'unk', np.nan, inplace=True)"
      ],
      "metadata": {
        "id": "hhD8aX_BtMme"
      },
      "id": "hhD8aX_BtMme",
      "execution_count": 66,
      "outputs": []
    },
    {
      "cell_type": "code",
      "source": [
        "ntsb_2['eng_mfgr'].unique()"
      ],
      "metadata": {
        "id": "ecjM-EkatOX9",
        "outputId": "451e6dbb-d174-4627-8638-4d22d3052837",
        "colab": {
          "base_uri": "https://localhost:8080/"
        }
      },
      "id": "ecjM-EkatOX9",
      "execution_count": 67,
      "outputs": [
        {
          "output_type": "execute_result",
          "data": {
            "text/plain": [
              "array(['p&w', 'lycoming', 'continental', 'garrett', 'jacobs', 'allison',\n",
              "       'rotax', 'turbomeca', nan, 'walter', 'franklin', 'pzl-kalisz',\n",
              "       'hirth', 'volkswagen', 'rotorway', 'subaru', 'unknown',\n",
              "       'revmaster', 'p&w canada', 'bombardier', 'gansheimer', 'ge',\n",
              "       'wright', 'grob', 'china', 'mazda', 'fairchild', 'kinner',\n",
              "       'curtis wright', 'great plains', 'hapi', 'cameron', 'rolls-royce',\n",
              "       'pezetel', 'onan', 'hirtmotoren', 'milwaukee prt', 'zenoah',\n",
              "       'jaguar', 'packard', 'vendeneyev', 'chevrolet', 'kawasaki',\n",
              "       'mcculloch', 'cuyuna', 'kfm', 'pzl mielec', 'warner', 'lambert',\n",
              "       'nsi', 'amw', 'voronezh', 'ford', 'jpx', 'bmw r-r', 'wsk',\n",
              "       'shvetsov', 'honda', 'allied signal', 'housia', 'microal',\n",
              "       'limbach', 'spencer', 'klimov', 'konig', 'mosler', 'orenda',\n",
              "       'emsa', 'detr. diesel', 'lom', 'bristol', 'airesearch',\n",
              "       'teledyne cont', 'jabiru', 'yamaha', 'thruct in', 'suzuki',\n",
              "       'falconer eng.', 'solo', 'volvo', 'velie', 'renault', 'gm',\n",
              "       'wsk pzl kalis', 'ranger', 'de havilland', 'iame', 'komet',\n",
              "       'monnett', 'menasco', 'pzl wsk', 'euzalde', 'electramotive',\n",
              "       'porsche', 'stark stamo', 'avco lycoming', 'france', 'greth',\n",
              "       'arrow', 'microturbo', 'polaris', 'velocity', 'ama/expr', 'solar',\n",
              "       'williams intl', 'honeywell', 'northrop corp', 'aerotechnik',\n",
              "       'pratt & whitney canada', 'teledyne continental', 'honeywell/lyc',\n",
              "       'allied/honeyw', 'ivchenko', 'pratt & whitney', 'textron lyc.',\n",
              "       'textron lycoming', 'general electric', 'none', 'buick', 'custom',\n",
              "       'pzl-okecie', 'astazou', 'argus', 'artouste', 'reliant',\n",
              "       'auto aviation', 'ital-american', 'johnson', 'packard r.r.',\n",
              "       'potez', 'weslake', 'enma', 'liberty', 'elizalde,s.a.',\n",
              "       'bristsidviper', 'ivchenco', 'gnome', 'omc', 'avco', 'ravenmaster',\n",
              "       'tgm', 'asz', 'chapallal', 'chotia', 'siemens halsk',\n",
              "       'lyco/wright', 'aeronca', 'robin', 'rolls-royce allison',\n",
              "       'pratt-whitney', 'aero engines', 'gypsy minor', 'garret/honeywell',\n",
              "       'rolls-royce(allison)', 'williams international',\n",
              "       'bmw rolls-royce', 'lycoming (curtis-wright)',\n",
              "       'rolls royce/allison', 'komatsu-zenagh', 'general motors',\n",
              "       'national flight service', 'ã\\x80/o', 'quantum', 'p & w',\n",
              "       'continenal', 'rolls royce', 'v.w.', 'volkswagon', 'volkswagan',\n",
              "       'gypsy moth', 'turbomecca', 'rectimo', 'contiental',\n",
              "       'teledyne/cont', 'evinrude', 'pratt&whitney', 'contnental',\n",
              "       'briggs', 'vw', 'henderson', 'contintental', 'harold guldi',\n",
              "       'outboard', 'gen.electric', 'turbo meca', 'lycom', 'pratt/whitney',\n",
              "       'pezatel', 'allison c', 'rw', 'o-470l', 'ama (vw)', 'rev.',\n",
              "       'o-360-a4k', 'dehavilland', 'frnklin', 'lycomimg', 'mccullock',\n",
              "       'mccullough', 'reumaster', 'merlin', 'continenatl', 'frankin',\n",
              "       'unk/nr', 'p &  w', 'moto guzzi', 'engineair power systems',\n",
              "       'garrett-airesearch', 'aero-vee', 'arriel', 'a',\n",
              "       'continental motor', 'compact radial engines', 'suziair',\n",
              "       'lycomming', 'walther', 'le rhone', 'stratus', 'aero engines (vw)',\n",
              "       't.e.c.', 'rolls-royce corporation', 'bombardier/rotax',\n",
              "       'mid-west engines', 'vedeheyev', 'lycon', 'alliedsignal',\n",
              "       'diemech (walter)', 'pzl-warszana', 'diemech turbines inc',\n",
              "       'eggenfellner', 'pzl', 'gipsy major', 'motori zanzoterra', 'sauer',\n",
              "       'ai', 'vedeneyez', 'apex', 'verner motor',\n",
              "       'ram racing engines ltd', 'hibbler', 'superior', 'aero motors',\n",
              "       'experimental', 'diamond aircraft', 'eci', 'aeromotors s.a.',\n",
              "       '1/2 volkswagen', 'honeywell - garrett',\n",
              "       \"america's aircraft engines\", 'povazske stroguarne', 'aero vee',\n",
              "       'allison/rolls-royce', 'paul lee', 'pratt and whitney',\n",
              "       'superflite', 'yakovlev', 'jpx-pul', 'rolls royce allison', 'agin',\n",
              "       'teledyne continental motors', 'teledyne', 'vedenyev',\n",
              "       'ultimate engines', 'eci titan', 'honeywell aerospace', 'huosai',\n",
              "       'cont motor', 'limbeck', 'thielert', 'mattituck', 'diamond',\n",
              "       'superior air parts', 'teledyne-continental', 'wsk-pzl-k',\n",
              "       'wsk pzl kalisz', 'gypsey  major', 'chevrolot',\n",
              "       'pratt and whitney of canada', 'allison engine', 'tcm',\n",
              "       'bombardier-rotax', 'aero sport', 'dusenberry, mark', 'contl',\n",
              "       'turbo mecca', 'continental motors',\n",
              "       'pratt & whitney aircraft of ca', 'williams',\n",
              "       'aero sport power ltd', 'xtreem 360', 'teledyne continental motor',\n",
              "       'experimental tcm', 'rolls-royce turbomeca', 'heath avn',\n",
              "       'hapi vw', 'mistral engines, sa', 'rolls-royc',\n",
              "       'contenental teledyne', 'swa', 'desert aircraft',\n",
              "       'pratt and whitney - canada', 'warner super scarab', 'diemech',\n",
              "       'walter engine incorporated', 'suburu', 'bombardier-rotax gmbh',\n",
              "       'lycoming engines', 'corvair', 'rotamex', 'avworks',\n",
              "       'pratt and whitney canada', 'chevy', 'dehav eng', 'vedeneyev',\n",
              "       'rotax gmbh & co.', 'honeywell garrett', 'rotex', 'hirthmotoren',\n",
              "       'lange flugzeugbau', 'franklyn', 'bombardier rotex',\n",
              "       'rotorway international', 'aero sport power ltd.',\n",
              "       'garrett airesearch', 'teledyne mattituck', 'hummel', 'geo/metro',\n",
              "       'teledyn continental motors', 'ul power',\n",
              "       'volkswagon/great plains', 'p & w canada', 'aerovee',\n",
              "       'bombardier rotax', 'exp', 'aero sport power', 'allison (r/r)',\n",
              "       'mattittuck', 'lycoming (modified)', 'pratt whitney canada',\n",
              "       'solair', 'aireasearch', 'rotec', 'allied', 'garret', 'nsi aero',\n",
              "       'volkswagoen', 'hks', 'teledyne-continental motors',\n",
              "       'teledye continental motors', 'aerosport power',\n",
              "       'national flight services inc', 'lerhone', 'curtiss wright',\n",
              "       'p. ponk', 'vedenev', 'u/a canada', 'turbomeca usa',\n",
              "       'cub crafters', 'jorritsma', 'penn-yan', 'midwest engines',\n",
              "       'curtiss', 'teledyne continental mortors', 'teledyn continental',\n",
              "       'continental motors inc.', 'rolls royce-allison',\n",
              "       'pratt&whitney-canada', 'globe', 'continential motors', 'garett',\n",
              "       'pwc', 'falconer', 'continental motors, inc.',\n",
              "       \"continental motor's inc.\", 'cont. motor', 'tmx',\n",
              "       'great plains/volkswagen', 'compact ra', 'penn yan aero', 'vps',\n",
              "       'rolls-royce deutschland', 'p&wc', 'subaru - stratus built',\n",
              "       'chevrolet corvair', 'cubcrafters', 'continental (exp)',\n",
              "       'aero sport power (lycoming)', 'contenental', 'jabaru',\n",
              "       'fairchild ranger', 'cub crafter', 'allison / rolls royce',\n",
              "       'garret airesearch', 'morris motors', 'curtis - wright',\n",
              "       'pratt & whitney of canada', 'pratt &whitney canada',\n",
              "       'ge aviation czech', 'vendenyev', 'continental motors inc',\n",
              "       'superior vantage', 'garrett (honeywell)', 'sma',\n",
              "       'diemech turbine', 'shvetsoc', 'continental engines',\n",
              "       'hummel engine', 'zanzottera', 'penn yann aero', 'ram',\n",
              "       'lom praha', 'technoflug', 'timothy a shorey', 'wankel',\n",
              "       'rolls royce / allison', 'continental motors, inc', 'austro',\n",
              "       'motorlet', 'viking conversion of honda', 'club crafters inc.',\n",
              "       'adolphson', 'brn-powertrain', 'viking', 'russia',\n",
              "       'continental teledyne motors', 'cmi', 'housai',\n",
              "       'rolls royce (allison)', 'patt &whitney canada',\n",
              "       'ama/expr lycoming', 'allison 250-c20b', 'pratt& whitney',\n",
              "       'lycoming/honeywell', 'greatplains', 'compact radial engines inc.',\n",
              "       'teledyne matituck', 'yuneec', 'tomanski', 'lycoming-bmw',\n",
              "       'aerosport / lycoming', 'lycoming o-360-a1a',\n",
              "       'continental motors, inc.,', 'curtiss-wright', 'continantal',\n",
              "       'rotax gmbh', 'pw&c', 'engine components internationa',\n",
              "       'tyledyne continental motors', 'contental', 'great plans aircraft',\n",
              "       'kinner co', 'rotortway', 'pratt whitney',\n",
              "       'brp rotax gmbh7 co. kg', 'pkrd-roll', 'm&d flugzeugbau',\n",
              "       'cont motor p. ponk', 'cont motor/perf eng', 'inntec',\n",
              "       'contienental motors', 'wynn corvair',\n",
              "       'ryan falconer racing engines', 'scaled composites',\n",
              "       'pkrd-roll royce', 'titan', 'prat and whitney aircraft', 'ryan',\n",
              "       'tubomecca', 'gmc', 'motorstar', 'teledine continental motors',\n",
              "       'ramazani & assoc.', 'continental motorc inc.',\n",
              "       'turbine power technologies', 'aeromaxx', 'allison/rolls royce',\n",
              "       'aireaserch/garrett', 'pratt & whittney', 'conitnental',\n",
              "       'honeywell/garrett', 'cont-motor', 'continenetal motors',\n",
              "       'burner balloon works', 'continetnal', 'innovator technologies',\n",
              "       'pratt & whitney - canada', 'vw- hummel', 'continential', 'ly-con',\n",
              "       'continental  motors', 'barrett precision engines', 'lycomong',\n",
              "       'firewall forward', 'warner aircraft engines', 'larry woodrow',\n",
              "       'arrius', 'eci/titan', 'aerosport', 'safran helicopter engines',\n",
              "       'walter/ge', 'continental motor company', 'subaru/eggenfellner',\n",
              "       'mazda/atkins', 'dle 170', 'pbs', 'contenintal', 'conintental',\n",
              "       'williams internatinal company', 'burkes', 'joby motor',\n",
              "       'barrett performance engine'], dtype=object)"
            ]
          },
          "metadata": {},
          "execution_count": 67
        }
      ]
    },
    {
      "cell_type": "code",
      "source": [
        "ntsb_2.drop(columns=['hp_or_lbs', 'ntsb_no'])"
      ],
      "metadata": {
        "id": "yJfZUxKBtQvg",
        "outputId": "ccfb6ee6-f679-4d78-e808-e53307068d22",
        "colab": {
          "base_uri": "https://localhost:8080/",
          "height": 609
        }
      },
      "id": "yJfZUxKBtQvg",
      "execution_count": 68,
      "outputs": [
        {
          "output_type": "execute_result",
          "data": {
            "text/plain": [
              "        aircraft_ev_id far_part flight_plan_activated damage  \\\n",
              "3       20001204x00006      091                   NaN   dest   \n",
              "5       20001204x00008      091                   NaN   dest   \n",
              "6       20001204x00015      091                   NaN   subs   \n",
              "7       20001204x00016      091                   NaN   dest   \n",
              "8       20001204x00017      091                   NaN   dest   \n",
              "...                ...      ...                   ...    ...   \n",
              "104049  20160721x52728      091                     n   subs   \n",
              "104061  20160721x55442      091                     n   subs   \n",
              "104078  20160721x90029      137                     n   subs   \n",
              "104092  20160722x63338      091                     y   dest   \n",
              "104119  20160723x20253      137                     y   subs   \n",
              "\n",
              "                             acft_make   acft_model  cert_max_gr_wt  num_eng  \\\n",
              "3                                beech  other_model          medium        2   \n",
              "5                       aero commander  other_model           small        2   \n",
              "6                     gettis h. hudson  other_model           small        1   \n",
              "7                                beech  other_model           small        2   \n",
              "8                                beech  other_model           small        2   \n",
              "...                                ...          ...             ...      ...   \n",
              "104049                          boeing  other_model           small        1   \n",
              "104061          rockwell international  other_model           small        1   \n",
              "104078  grumman acft eng cor-schweizer  other_model           small        1   \n",
              "104092                            vans  other_model  large commuter        1   \n",
              "104119                 air tractor inc  other_model  large commuter        1   \n",
              "\n",
              "       type_last_insp date_last_insp  ...  inj_tot_t  wx_cond_basic  \\\n",
              "3                aaip      1/14/1999  ...        2.0            imc   \n",
              "5                annl      10/1/1998  ...        4.0            vmc   \n",
              "6                annl       8/1/1998  ...        NaN            vmc   \n",
              "7                annl      6/22/1998  ...        3.0            imc   \n",
              "8                annl      11/4/1998  ...        3.0            imc   \n",
              "...               ...            ...  ...        ...            ...   \n",
              "104049           annl      10-dec-15  ...        2.0            vmc   \n",
              "104061           annl      25-may-16  ...        3.0            vmc   \n",
              "104078           100h      23-jun-16  ...        1.0            vmc   \n",
              "104092           cond      16-jun-16  ...        2.0            vmc   \n",
              "104119           annl      01-may-16  ...        2.0            vmc   \n",
              "\n",
              "       Cause_Factor crew_no crew_category crew_age crew_sex med_certf  \\\n",
              "3               NaN     NaN           NaN      NaN      NaN       NaN   \n",
              "5               NaN     NaN           NaN      NaN      NaN       NaN   \n",
              "6               NaN     NaN           NaN      NaN      NaN       NaN   \n",
              "7               NaN     NaN           NaN      NaN      NaN       NaN   \n",
              "8               NaN     NaN           NaN      NaN      NaN       NaN   \n",
              "...             ...     ...           ...      ...      ...       ...   \n",
              "104049          NaN     2.0          pass      NaN        f       NaN   \n",
              "104061            c     3.0          pass      NaN        m       NaN   \n",
              "104078            c     1.0           plt     29.0        m       cl2   \n",
              "104092            c     2.0          pass     84.0        f       NaN   \n",
              "104119            c     1.0           plt     25.0        m       cl2   \n",
              "\n",
              "       pilot_flying crew_inj_level  \n",
              "3             False            NaN  \n",
              "5             False            NaN  \n",
              "6             False            NaN  \n",
              "7             False            NaN  \n",
              "8             False            NaN  \n",
              "...             ...            ...  \n",
              "104049         True           minr  \n",
              "104061         True           none  \n",
              "104078         True           none  \n",
              "104092         True           fatl  \n",
              "104119         True           fatl  \n",
              "\n",
              "[46748 rows x 84 columns]"
            ],
            "text/html": [
              "\n",
              "  <div id=\"df-7a71565c-3222-457b-95fb-cb06473cd948\">\n",
              "    <div class=\"colab-df-container\">\n",
              "      <div>\n",
              "<style scoped>\n",
              "    .dataframe tbody tr th:only-of-type {\n",
              "        vertical-align: middle;\n",
              "    }\n",
              "\n",
              "    .dataframe tbody tr th {\n",
              "        vertical-align: top;\n",
              "    }\n",
              "\n",
              "    .dataframe thead th {\n",
              "        text-align: right;\n",
              "    }\n",
              "</style>\n",
              "<table border=\"1\" class=\"dataframe\">\n",
              "  <thead>\n",
              "    <tr style=\"text-align: right;\">\n",
              "      <th></th>\n",
              "      <th>aircraft_ev_id</th>\n",
              "      <th>far_part</th>\n",
              "      <th>flight_plan_activated</th>\n",
              "      <th>damage</th>\n",
              "      <th>acft_make</th>\n",
              "      <th>acft_model</th>\n",
              "      <th>cert_max_gr_wt</th>\n",
              "      <th>num_eng</th>\n",
              "      <th>type_last_insp</th>\n",
              "      <th>date_last_insp</th>\n",
              "      <th>...</th>\n",
              "      <th>inj_tot_t</th>\n",
              "      <th>wx_cond_basic</th>\n",
              "      <th>Cause_Factor</th>\n",
              "      <th>crew_no</th>\n",
              "      <th>crew_category</th>\n",
              "      <th>crew_age</th>\n",
              "      <th>crew_sex</th>\n",
              "      <th>med_certf</th>\n",
              "      <th>pilot_flying</th>\n",
              "      <th>crew_inj_level</th>\n",
              "    </tr>\n",
              "  </thead>\n",
              "  <tbody>\n",
              "    <tr>\n",
              "      <th>3</th>\n",
              "      <td>20001204x00006</td>\n",
              "      <td>091</td>\n",
              "      <td>NaN</td>\n",
              "      <td>dest</td>\n",
              "      <td>beech</td>\n",
              "      <td>other_model</td>\n",
              "      <td>medium</td>\n",
              "      <td>2</td>\n",
              "      <td>aaip</td>\n",
              "      <td>1/14/1999</td>\n",
              "      <td>...</td>\n",
              "      <td>2.0</td>\n",
              "      <td>imc</td>\n",
              "      <td>NaN</td>\n",
              "      <td>NaN</td>\n",
              "      <td>NaN</td>\n",
              "      <td>NaN</td>\n",
              "      <td>NaN</td>\n",
              "      <td>NaN</td>\n",
              "      <td>False</td>\n",
              "      <td>NaN</td>\n",
              "    </tr>\n",
              "    <tr>\n",
              "      <th>5</th>\n",
              "      <td>20001204x00008</td>\n",
              "      <td>091</td>\n",
              "      <td>NaN</td>\n",
              "      <td>dest</td>\n",
              "      <td>aero commander</td>\n",
              "      <td>other_model</td>\n",
              "      <td>small</td>\n",
              "      <td>2</td>\n",
              "      <td>annl</td>\n",
              "      <td>10/1/1998</td>\n",
              "      <td>...</td>\n",
              "      <td>4.0</td>\n",
              "      <td>vmc</td>\n",
              "      <td>NaN</td>\n",
              "      <td>NaN</td>\n",
              "      <td>NaN</td>\n",
              "      <td>NaN</td>\n",
              "      <td>NaN</td>\n",
              "      <td>NaN</td>\n",
              "      <td>False</td>\n",
              "      <td>NaN</td>\n",
              "    </tr>\n",
              "    <tr>\n",
              "      <th>6</th>\n",
              "      <td>20001204x00015</td>\n",
              "      <td>091</td>\n",
              "      <td>NaN</td>\n",
              "      <td>subs</td>\n",
              "      <td>gettis h. hudson</td>\n",
              "      <td>other_model</td>\n",
              "      <td>small</td>\n",
              "      <td>1</td>\n",
              "      <td>annl</td>\n",
              "      <td>8/1/1998</td>\n",
              "      <td>...</td>\n",
              "      <td>NaN</td>\n",
              "      <td>vmc</td>\n",
              "      <td>NaN</td>\n",
              "      <td>NaN</td>\n",
              "      <td>NaN</td>\n",
              "      <td>NaN</td>\n",
              "      <td>NaN</td>\n",
              "      <td>NaN</td>\n",
              "      <td>False</td>\n",
              "      <td>NaN</td>\n",
              "    </tr>\n",
              "    <tr>\n",
              "      <th>7</th>\n",
              "      <td>20001204x00016</td>\n",
              "      <td>091</td>\n",
              "      <td>NaN</td>\n",
              "      <td>dest</td>\n",
              "      <td>beech</td>\n",
              "      <td>other_model</td>\n",
              "      <td>small</td>\n",
              "      <td>2</td>\n",
              "      <td>annl</td>\n",
              "      <td>6/22/1998</td>\n",
              "      <td>...</td>\n",
              "      <td>3.0</td>\n",
              "      <td>imc</td>\n",
              "      <td>NaN</td>\n",
              "      <td>NaN</td>\n",
              "      <td>NaN</td>\n",
              "      <td>NaN</td>\n",
              "      <td>NaN</td>\n",
              "      <td>NaN</td>\n",
              "      <td>False</td>\n",
              "      <td>NaN</td>\n",
              "    </tr>\n",
              "    <tr>\n",
              "      <th>8</th>\n",
              "      <td>20001204x00017</td>\n",
              "      <td>091</td>\n",
              "      <td>NaN</td>\n",
              "      <td>dest</td>\n",
              "      <td>beech</td>\n",
              "      <td>other_model</td>\n",
              "      <td>small</td>\n",
              "      <td>2</td>\n",
              "      <td>annl</td>\n",
              "      <td>11/4/1998</td>\n",
              "      <td>...</td>\n",
              "      <td>3.0</td>\n",
              "      <td>imc</td>\n",
              "      <td>NaN</td>\n",
              "      <td>NaN</td>\n",
              "      <td>NaN</td>\n",
              "      <td>NaN</td>\n",
              "      <td>NaN</td>\n",
              "      <td>NaN</td>\n",
              "      <td>False</td>\n",
              "      <td>NaN</td>\n",
              "    </tr>\n",
              "    <tr>\n",
              "      <th>...</th>\n",
              "      <td>...</td>\n",
              "      <td>...</td>\n",
              "      <td>...</td>\n",
              "      <td>...</td>\n",
              "      <td>...</td>\n",
              "      <td>...</td>\n",
              "      <td>...</td>\n",
              "      <td>...</td>\n",
              "      <td>...</td>\n",
              "      <td>...</td>\n",
              "      <td>...</td>\n",
              "      <td>...</td>\n",
              "      <td>...</td>\n",
              "      <td>...</td>\n",
              "      <td>...</td>\n",
              "      <td>...</td>\n",
              "      <td>...</td>\n",
              "      <td>...</td>\n",
              "      <td>...</td>\n",
              "      <td>...</td>\n",
              "      <td>...</td>\n",
              "    </tr>\n",
              "    <tr>\n",
              "      <th>104049</th>\n",
              "      <td>20160721x52728</td>\n",
              "      <td>091</td>\n",
              "      <td>n</td>\n",
              "      <td>subs</td>\n",
              "      <td>boeing</td>\n",
              "      <td>other_model</td>\n",
              "      <td>small</td>\n",
              "      <td>1</td>\n",
              "      <td>annl</td>\n",
              "      <td>10-dec-15</td>\n",
              "      <td>...</td>\n",
              "      <td>2.0</td>\n",
              "      <td>vmc</td>\n",
              "      <td>NaN</td>\n",
              "      <td>2.0</td>\n",
              "      <td>pass</td>\n",
              "      <td>NaN</td>\n",
              "      <td>f</td>\n",
              "      <td>NaN</td>\n",
              "      <td>True</td>\n",
              "      <td>minr</td>\n",
              "    </tr>\n",
              "    <tr>\n",
              "      <th>104061</th>\n",
              "      <td>20160721x55442</td>\n",
              "      <td>091</td>\n",
              "      <td>n</td>\n",
              "      <td>subs</td>\n",
              "      <td>rockwell international</td>\n",
              "      <td>other_model</td>\n",
              "      <td>small</td>\n",
              "      <td>1</td>\n",
              "      <td>annl</td>\n",
              "      <td>25-may-16</td>\n",
              "      <td>...</td>\n",
              "      <td>3.0</td>\n",
              "      <td>vmc</td>\n",
              "      <td>c</td>\n",
              "      <td>3.0</td>\n",
              "      <td>pass</td>\n",
              "      <td>NaN</td>\n",
              "      <td>m</td>\n",
              "      <td>NaN</td>\n",
              "      <td>True</td>\n",
              "      <td>none</td>\n",
              "    </tr>\n",
              "    <tr>\n",
              "      <th>104078</th>\n",
              "      <td>20160721x90029</td>\n",
              "      <td>137</td>\n",
              "      <td>n</td>\n",
              "      <td>subs</td>\n",
              "      <td>grumman acft eng cor-schweizer</td>\n",
              "      <td>other_model</td>\n",
              "      <td>small</td>\n",
              "      <td>1</td>\n",
              "      <td>100h</td>\n",
              "      <td>23-jun-16</td>\n",
              "      <td>...</td>\n",
              "      <td>1.0</td>\n",
              "      <td>vmc</td>\n",
              "      <td>c</td>\n",
              "      <td>1.0</td>\n",
              "      <td>plt</td>\n",
              "      <td>29.0</td>\n",
              "      <td>m</td>\n",
              "      <td>cl2</td>\n",
              "      <td>True</td>\n",
              "      <td>none</td>\n",
              "    </tr>\n",
              "    <tr>\n",
              "      <th>104092</th>\n",
              "      <td>20160722x63338</td>\n",
              "      <td>091</td>\n",
              "      <td>y</td>\n",
              "      <td>dest</td>\n",
              "      <td>vans</td>\n",
              "      <td>other_model</td>\n",
              "      <td>large commuter</td>\n",
              "      <td>1</td>\n",
              "      <td>cond</td>\n",
              "      <td>16-jun-16</td>\n",
              "      <td>...</td>\n",
              "      <td>2.0</td>\n",
              "      <td>vmc</td>\n",
              "      <td>c</td>\n",
              "      <td>2.0</td>\n",
              "      <td>pass</td>\n",
              "      <td>84.0</td>\n",
              "      <td>f</td>\n",
              "      <td>NaN</td>\n",
              "      <td>True</td>\n",
              "      <td>fatl</td>\n",
              "    </tr>\n",
              "    <tr>\n",
              "      <th>104119</th>\n",
              "      <td>20160723x20253</td>\n",
              "      <td>137</td>\n",
              "      <td>y</td>\n",
              "      <td>subs</td>\n",
              "      <td>air tractor inc</td>\n",
              "      <td>other_model</td>\n",
              "      <td>large commuter</td>\n",
              "      <td>1</td>\n",
              "      <td>annl</td>\n",
              "      <td>01-may-16</td>\n",
              "      <td>...</td>\n",
              "      <td>2.0</td>\n",
              "      <td>vmc</td>\n",
              "      <td>c</td>\n",
              "      <td>1.0</td>\n",
              "      <td>plt</td>\n",
              "      <td>25.0</td>\n",
              "      <td>m</td>\n",
              "      <td>cl2</td>\n",
              "      <td>True</td>\n",
              "      <td>fatl</td>\n",
              "    </tr>\n",
              "  </tbody>\n",
              "</table>\n",
              "<p>46748 rows × 84 columns</p>\n",
              "</div>\n",
              "      <button class=\"colab-df-convert\" onclick=\"convertToInteractive('df-7a71565c-3222-457b-95fb-cb06473cd948')\"\n",
              "              title=\"Convert this dataframe to an interactive table.\"\n",
              "              style=\"display:none;\">\n",
              "        \n",
              "  <svg xmlns=\"http://www.w3.org/2000/svg\" height=\"24px\"viewBox=\"0 0 24 24\"\n",
              "       width=\"24px\">\n",
              "    <path d=\"M0 0h24v24H0V0z\" fill=\"none\"/>\n",
              "    <path d=\"M18.56 5.44l.94 2.06.94-2.06 2.06-.94-2.06-.94-.94-2.06-.94 2.06-2.06.94zm-11 1L8.5 8.5l.94-2.06 2.06-.94-2.06-.94L8.5 2.5l-.94 2.06-2.06.94zm10 10l.94 2.06.94-2.06 2.06-.94-2.06-.94-.94-2.06-.94 2.06-2.06.94z\"/><path d=\"M17.41 7.96l-1.37-1.37c-.4-.4-.92-.59-1.43-.59-.52 0-1.04.2-1.43.59L10.3 9.45l-7.72 7.72c-.78.78-.78 2.05 0 2.83L4 21.41c.39.39.9.59 1.41.59.51 0 1.02-.2 1.41-.59l7.78-7.78 2.81-2.81c.8-.78.8-2.07 0-2.86zM5.41 20L4 18.59l7.72-7.72 1.47 1.35L5.41 20z\"/>\n",
              "  </svg>\n",
              "      </button>\n",
              "      \n",
              "  <style>\n",
              "    .colab-df-container {\n",
              "      display:flex;\n",
              "      flex-wrap:wrap;\n",
              "      gap: 12px;\n",
              "    }\n",
              "\n",
              "    .colab-df-convert {\n",
              "      background-color: #E8F0FE;\n",
              "      border: none;\n",
              "      border-radius: 50%;\n",
              "      cursor: pointer;\n",
              "      display: none;\n",
              "      fill: #1967D2;\n",
              "      height: 32px;\n",
              "      padding: 0 0 0 0;\n",
              "      width: 32px;\n",
              "    }\n",
              "\n",
              "    .colab-df-convert:hover {\n",
              "      background-color: #E2EBFA;\n",
              "      box-shadow: 0px 1px 2px rgba(60, 64, 67, 0.3), 0px 1px 3px 1px rgba(60, 64, 67, 0.15);\n",
              "      fill: #174EA6;\n",
              "    }\n",
              "\n",
              "    [theme=dark] .colab-df-convert {\n",
              "      background-color: #3B4455;\n",
              "      fill: #D2E3FC;\n",
              "    }\n",
              "\n",
              "    [theme=dark] .colab-df-convert:hover {\n",
              "      background-color: #434B5C;\n",
              "      box-shadow: 0px 1px 3px 1px rgba(0, 0, 0, 0.15);\n",
              "      filter: drop-shadow(0px 1px 2px rgba(0, 0, 0, 0.3));\n",
              "      fill: #FFFFFF;\n",
              "    }\n",
              "  </style>\n",
              "\n",
              "      <script>\n",
              "        const buttonEl =\n",
              "          document.querySelector('#df-7a71565c-3222-457b-95fb-cb06473cd948 button.colab-df-convert');\n",
              "        buttonEl.style.display =\n",
              "          google.colab.kernel.accessAllowed ? 'block' : 'none';\n",
              "\n",
              "        async function convertToInteractive(key) {\n",
              "          const element = document.querySelector('#df-7a71565c-3222-457b-95fb-cb06473cd948');\n",
              "          const dataTable =\n",
              "            await google.colab.kernel.invokeFunction('convertToInteractive',\n",
              "                                                     [key], {});\n",
              "          if (!dataTable) return;\n",
              "\n",
              "          const docLinkHtml = 'Like what you see? Visit the ' +\n",
              "            '<a target=\"_blank\" href=https://colab.research.google.com/notebooks/data_table.ipynb>data table notebook</a>'\n",
              "            + ' to learn more about interactive tables.';\n",
              "          element.innerHTML = '';\n",
              "          dataTable['output_type'] = 'display_data';\n",
              "          await google.colab.output.renderOutput(dataTable, element);\n",
              "          const docLink = document.createElement('div');\n",
              "          docLink.innerHTML = docLinkHtml;\n",
              "          element.appendChild(docLink);\n",
              "        }\n",
              "      </script>\n",
              "    </div>\n",
              "  </div>\n",
              "  "
            ]
          },
          "metadata": {},
          "execution_count": 68
        }
      ]
    },
    {
      "cell_type": "code",
      "source": [
        "#Cleaning names of engine manufacturers.\n",
        "\n",
        "ntsb_2['eng_mfgr'].mask(ntsb_2['eng_mfgr'] == '1/2 volkswagen', 'volkswagen', inplace=True)\n",
        "ntsb_2['secondary_eng_mfgr'] = np.where(ntsb_2['eng_mfgr'] == 'aero engines (vw)', 'volkswagen', '')\n",
        "ntsb_2['eng_mfgr'].mask(ntsb_2['eng_mfgr'] == '4 burner type engines', '', inplace=True)\n",
        "ntsb_2['eng_mfgr'].mask(ntsb_2['eng_mfgr'] == 'ã\\x80/o', '', inplace=True)\n",
        "ntsb_2['eng_mfgr'].mask(ntsb_2['eng_mfgr'] == 'â\\x82¬', '', inplace=True)\n",
        "ntsb_2['eng_mfgr'].mask(ntsb_2['eng_mfgr'] == 'aero engines (vw)', 'aero engines', inplace=True)\n",
        "ntsb_2['eng_mfgr'].mask(ntsb_2['eng_mfgr'] == 'aero sport', 'aero sport power', inplace=True)\n",
        "ntsb_2['secondary_eng_mfgr'] = np.where(ntsb_2['eng_mfgr'] == 'aero sport power (lycoming)', 'lycoming', '')\n",
        "ntsb_2['eng_mfgr'].mask(ntsb_2['eng_mfgr'] == 'aero sport power (lycoming)', 'aero sport power', inplace=True)\n",
        "ntsb_2['eng_mfgr'].mask(ntsb_2['eng_mfgr'] == 'aero sport power ltd', 'aero sport power', inplace=True)\n",
        "ntsb_2['eng_mfgr'].mask(ntsb_2['eng_mfgr'] == 'aero sport power ltd.', 'aero sport power', inplace=True)\n",
        "ntsb_2['eng_mfgr'].mask(ntsb_2['eng_mfgr'] == 'aero-vee', 'aero vee', inplace=True)\n",
        "ntsb_2['eng_mfgr'].mask(ntsb_2['eng_mfgr'] == 'aeromotors s.a.', 'aero motors', inplace=True)\n",
        "ntsb_2['eng_mfgr'].mask(ntsb_2['eng_mfgr'] == 'aerosport', 'aero sport power', inplace=True)\n",
        "ntsb_2['secondary_eng_mfgr'] = np.where(ntsb_2['eng_mfgr'] == 'aerosport / lycoming', 'lycoming', '')\n",
        "ntsb_2['eng_mfgr'].mask(ntsb_2['eng_mfgr'] == 'aerosport / lycoming', 'aero sport power', inplace=True)\n",
        "ntsb_2['eng_mfgr'].mask(ntsb_2['eng_mfgr'] == 'aerosport power', 'aero sport power', inplace=True)\n",
        "ntsb_2['eng_mfgr'].mask(ntsb_2['eng_mfgr'] == 'aerovee', 'aero vee', inplace=True)\n",
        "ntsb_2['eng_mfgr'].mask(ntsb_2['eng_mfgr'] == 'ai', 'airesearch', inplace=True)\n",
        "ntsb_2['eng_mfgr'].mask(ntsb_2['eng_mfgr'] == 'aireasearch', 'airesearch', inplace=True)\n",
        "ntsb_2['secondary_eng_mfgr'] = np.where(ntsb_2['eng_mfgr'] == 'aireaserch/garrett', 'garrett', '')\n",
        "ntsb_2['eng_mfgr'].mask(ntsb_2['eng_mfgr'] == 'aireaserch/garrett', 'airesearch', inplace=True)\n",
        "ntsb_2['eng_mfgr'].mask(ntsb_2['eng_mfgr'] == 'airresearch', 'airesearch', inplace=True)\n",
        "ntsb_2['secondary_eng_mfgr'] = np.where(ntsb_2['eng_mfgr'] == 'airresearch/honeywell', 'honeywell aerospace', '')\n",
        "ntsb_2['eng_mfgr'].mask(ntsb_2['eng_mfgr'] == 'airresearch/honeywell', 'airesearch', inplace=True)\n",
        "ntsb_2['eng_mfgr'].mask(ntsb_2['eng_mfgr'] == 'allied', 'allied signal', inplace=True)\n",
        "ntsb_2['secondary_eng_mfgr'] = np.where(ntsb_2['eng_mfgr'] == 'allied/honeyw', 'honeywell aerospace', '')\n",
        "ntsb_2['eng_mfgr'].mask(ntsb_2['eng_mfgr'] == 'allied/honeyw', 'allied signal', inplace=True)\n",
        "ntsb_2['eng_mfgr'].mask(ntsb_2['eng_mfgr'] == 'alliedsignal', 'allied signal', inplace=True)\n",
        "ntsb_2['secondary_eng_mfgr'] = np.where(ntsb_2['eng_mfgr'] == 'allison (r/r)', 'rolls-royce', '')\n",
        "ntsb_2['eng_mfgr'].mask(ntsb_2['eng_mfgr'] == 'allison (r/r)', 'allison', inplace=True)\n",
        "ntsb_2['secondary_eng_mfgr'] = np.where(ntsb_2['eng_mfgr'] == 'allison / rolls royce', 'rolls-royce', '')\n",
        "ntsb_2['eng_mfgr'].mask(ntsb_2['eng_mfgr'] == 'allison / rolls royce', 'allison', inplace=True)\n",
        "ntsb_2['eng_mfgr'].mask(ntsb_2['eng_mfgr'] == 'allison 250-c20b', 'allison', inplace=True)\n",
        "ntsb_2['eng_mfgr'].mask(ntsb_2['eng_mfgr'] == 'allison c', 'allison', inplace=True)\n",
        "ntsb_2['eng_mfgr'].mask(ntsb_2['eng_mfgr'] == 'allison engine', 'allison', inplace=True)\n",
        "ntsb_2['secondary_eng_mfgr'] = np.where(ntsb_2['eng_mfgr'] == 'allison rolls royce', 'rolls-royce', '')\n",
        "ntsb_2['eng_mfgr'].mask(ntsb_2['eng_mfgr'] == 'allison rolls royce', 'allison', inplace=True)\n",
        "ntsb_2['secondary_eng_mfgr'] = np.where(ntsb_2['eng_mfgr'] == 'allison/rolls royce', 'rolls-royce', '')\n",
        "ntsb_2['eng_mfgr'].mask(ntsb_2['eng_mfgr'] == 'allison/rolls royce', 'allison', inplace=True)\n",
        "ntsb_2['secondary_eng_mfgr'] = np.where(ntsb_2['eng_mfgr'] == 'allison/rolls-royce', 'rolls-royce', '')\n",
        "ntsb_2['eng_mfgr'].mask(ntsb_2['eng_mfgr'] == 'allison/rolls-royce', 'allison', inplace=True)\n",
        "ntsb_2['secondary_eng_mfgr'] = np.where(ntsb_2['eng_mfgr'] == 'allison/rr', 'rolls-royce', '')\n",
        "ntsb_2['eng_mfgr'].mask(ntsb_2['eng_mfgr'] == 'allison/rr', 'allison', inplace=True)\n",
        "ntsb_2['eng_mfgr'].mask(ntsb_2['eng_mfgr'] == 'alllison', 'allison', inplace=True)\n",
        "ntsb_2['secondary_eng_mfgr'] = np.where(ntsb_2['eng_mfgr'] == 'ama (vw)', 'volkswagen', '')\n",
        "ntsb_2['eng_mfgr'].mask(ntsb_2['eng_mfgr'] == 'ama/expr', 'ama', inplace=True)\n",
        "ntsb_2['secondary_eng_mfgr'] = np.where(ntsb_2['eng_mfgr'] == 'ama/expr lycoming)', 'lycoming', '')\n",
        "ntsb_2['eng_mfgr'].mask(ntsb_2['eng_mfgr'] == 'ama/expr lycoming', 'ama', inplace=True)\n",
        "ntsb_2['eng_mfgr'].mask(ntsb_2['eng_mfgr'] == 'arriel', 'safran helicopter engines', inplace=True)\n",
        "ntsb_2['eng_mfgr'].mask(ntsb_2['eng_mfgr'] == 'ariel', 'safran helicopter engines', inplace=True)\n",
        "ntsb_2['eng_mfgr'].mask(ntsb_2['eng_mfgr'] == 'avco', 'lycoming', inplace=True)\n",
        "ntsb_2['eng_mfgr'].mask(ntsb_2['eng_mfgr'] == 'avco lycoming', 'lycoming', inplace=True)\n",
        "ntsb_2['eng_mfgr'].mask(ntsb_2['eng_mfgr'] == 'barrett precision engines', 'barret precision engines', inplace=True)\n",
        "ntsb_2['eng_mfgr'].mask(ntsb_2['eng_mfgr'] == 'barrett performance engine', 'barret precision engines', inplace=True)\n",
        "ntsb_2['secondary_eng_mfgr'] = np.where(ntsb_2['eng_mfgr'] == 'bmw r-r', 'rolls-royce', '')\n",
        "ntsb_2['eng_mfgr'].mask(ntsb_2['eng_mfgr'] == 'bmw r-r', 'bmw', inplace=True)\n",
        "ntsb_2['secondary_eng_mfgr'] = np.where(ntsb_2['eng_mfgr'] == 'bmw rolls-royce', 'rolls-royce', '')\n",
        "ntsb_2['eng_mfgr'].mask(ntsb_2['eng_mfgr'] == 'bmw rolls-royce', 'bmw', inplace=True)\n",
        "ntsb_2['eng_mfgr'].mask(ntsb_2['eng_mfgr'] == 'bombardier', 'brp-rotax', inplace=True)\n",
        "ntsb_2['eng_mfgr'].mask(ntsb_2['eng_mfgr'] == 'bombardier rotax', 'brp-rotax', inplace=True)\n",
        "ntsb_2['eng_mfgr'].mask(ntsb_2['eng_mfgr'] == 'bombardier rotex', 'brp-rotax', inplace=True)\n",
        "ntsb_2['eng_mfgr'].mask(ntsb_2['eng_mfgr'] == 'bombardier-rotax', 'brp-rotax', inplace=True)\n",
        "ntsb_2['eng_mfgr'].mask(ntsb_2['eng_mfgr'] == 'bombardier', 'brp-rotax', inplace=True)\n",
        "ntsb_2['eng_mfgr'].mask(ntsb_2['eng_mfgr'] == 'bombardier/rotax', 'brp-rotax', inplace=True)\n",
        "ntsb_2['eng_mfgr'].mask(ntsb_2['eng_mfgr'] == 'bristsidviper', 'Armstrong Siddeley', inplace=True)\n",
        "ntsb_2['eng_mfgr'].mask(ntsb_2['eng_mfgr'] == 'brp rotax gmbh7 co. kg', 'brp-rotax', inplace=True)\n",
        "ntsb_2['eng_mfgr'].mask(ntsb_2['eng_mfgr'] == 'cfm', 'cfm international', inplace=True)\n",
        "ntsb_2['eng_mfgr'].mask(ntsb_2['eng_mfgr'] == 'cfm intl', 'cfm international', inplace=True)\n",
        "ntsb_2['eng_mfgr'].mask(ntsb_2['eng_mfgr'] == 'cfm intl.', 'cfm international', inplace=True)\n",
        "ntsb_2['eng_mfgr'].mask(ntsb_2['eng_mfgr'] == 'chapallal', 'elroy air chaparral', inplace=True)\n",
        "ntsb_2['eng_mfgr'].mask(ntsb_2['eng_mfgr'] == 'chevrolet corvair', 'chevrolet', inplace=True)\n",
        "ntsb_2['eng_mfgr'].mask(ntsb_2['eng_mfgr'] == 'chevrolot', 'chevrolet', inplace=True)\n",
        "ntsb_2['eng_mfgr'].mask(ntsb_2['eng_mfgr'] == 'chevy', 'chevrolet', inplace=True)\n",
        "ntsb_2['eng_mfgr'].mask(ntsb_2['eng_mfgr'] == 'chevy geo metro', 'chevrolet', inplace=True)\n",
        "ntsb_2['eng_mfgr'].mask(ntsb_2['eng_mfgr'] == 'club crafters inc.', 'club crafters, inc.', inplace=True)\n",
        "ntsb_2['eng_mfgr'].mask(ntsb_2['eng_mfgr'] == 'compact ra', 'compact radial engines, inc.', inplace=True)\n",
        "ntsb_2['eng_mfgr'].mask(ntsb_2['eng_mfgr'] == 'compact radial engines', 'compact radial engines, inc.', inplace=True)\n",
        "ntsb_2['eng_mfgr'].mask(ntsb_2['eng_mfgr'] == 'compact radial engines inc.', 'compact radial engines, inc.', inplace=True)\n",
        "ntsb_2['eng_mfgr'].mask(ntsb_2['eng_mfgr'] == 'continental motor\\'s inc', 'continental motors, inc.', inplace=True)\n",
        "ntsb_2['eng_mfgr'].mask(ntsb_2['eng_mfgr'] == 'conintental', 'continental motors, inc.', inplace=True)\n",
        "ntsb_2['eng_mfgr'].mask(ntsb_2['eng_mfgr'] == 'conitnental', 'continental motors, inc.', inplace=True)\n",
        "ntsb_2['eng_mfgr'].mask(ntsb_2['eng_mfgr'] == 'cont motor', 'continental motors, inc.', inplace=True)\n",
        "ntsb_2['secondary_eng_mfgr'] = np.where(ntsb_2['eng_mfgr'] == 'cont motor p. ponk', 'p.ponk', '')\n",
        "ntsb_2['eng_mfgr'].mask(ntsb_2['eng_mfgr'] == 'cont motor p. ponk', 'continental motors, inc.', inplace=True)\n",
        "ntsb_2['eng_mfgr'].mask(ntsb_2['eng_mfgr'] == 'cont motor/perf eng', 'continental motors, inc.', inplace=True)\n",
        "ntsb_2['eng_mfgr'].mask(ntsb_2['eng_mfgr'] == 'cont-motor', 'continental motors, inc.', inplace=True)\n",
        "ntsb_2['eng_mfgr'].mask(ntsb_2['eng_mfgr'] == 'cont. motor', 'continental motors, inc.', inplace=True)\n",
        "ntsb_2['eng_mfgr'].mask(ntsb_2['eng_mfgr'] == 'contenental', 'continental motors, inc.', inplace=True)\n",
        "ntsb_2['secondary_eng_mfgr'] = np.where(ntsb_2['eng_mfgr'] == 'contenental teledyne', 'teledyne turbine engines', '')\n",
        "ntsb_2['eng_mfgr'].mask(ntsb_2['eng_mfgr'] == 'contenental teledyne', 'continental motors, inc.', inplace=True)\n",
        "ntsb_2['eng_mfgr'].mask(ntsb_2['eng_mfgr'] == 'contenintal', 'continental motors, inc.', inplace=True)\n",
        "ntsb_2['eng_mfgr'].mask(ntsb_2['eng_mfgr'] == 'contental', 'continental motors, inc.', inplace=True)\n",
        "ntsb_2['eng_mfgr'].mask(ntsb_2['eng_mfgr'] == 'contenental', 'continental motors, inc.', inplace=True)\n",
        "ntsb_2['eng_mfgr'].mask(ntsb_2['eng_mfgr'] == 'contenental', 'continental motors, inc.', inplace=True)\n",
        "ntsb_2['eng_mfgr'].mask(ntsb_2['eng_mfgr'] == 'contenental', 'continental motors, inc.', inplace=True)\n",
        "ntsb_2['eng_mfgr'].mask(ntsb_2['eng_mfgr'] == 'contenental', 'continental motors, inc.', inplace=True)\n",
        "ntsb_2['eng_mfgr'].mask(ntsb_2['eng_mfgr'] == 'contenental', 'continental motors, inc.', inplace=True)\n",
        "ntsb_2['eng_mfgr'].mask(ntsb_2['eng_mfgr'] == 'contenental', 'continental motors, inc.', inplace=True)\n",
        "ntsb_2['eng_mfgr'].mask(ntsb_2['eng_mfgr'] == 'contenental', 'continental motors, inc.', inplace=True)\n",
        "ntsb_2['eng_mfgr'].mask(ntsb_2['eng_mfgr'] == 'contenental', 'continental motors, inc.', inplace=True)\n",
        "ntsb_2['eng_mfgr'].mask(ntsb_2['eng_mfgr'] == 'contenental', 'continental motors, inc.', inplace=True)\n",
        "ntsb_2['eng_mfgr'].mask(ntsb_2['eng_mfgr'] == 'contenental', 'continental motors, inc.', inplace=True)\n",
        "ntsb_2['eng_mfgr'].mask(ntsb_2['eng_mfgr'] == 'contenental', 'continental motors, inc.', inplace=True)\n",
        "ntsb_2['eng_mfgr'].mask(ntsb_2['eng_mfgr'] == 'contenental', 'continental motors, inc.', inplace=True)\n",
        "ntsb_2['eng_mfgr'].mask(ntsb_2['eng_mfgr'] == 'contenental', 'continental motors, inc.', inplace=True)\n",
        "ntsb_2['eng_mfgr'].mask(ntsb_2['eng_mfgr'] == 'contenental', 'continental motors, inc.', inplace=True)\n",
        "ntsb_2['eng_mfgr'].mask(ntsb_2['eng_mfgr'] == 'contenental', 'continental motors, inc.', inplace=True)\n",
        "ntsb_2['eng_mfgr'].mask(ntsb_2['eng_mfgr'] == 'contenental', 'continental motors, inc.', inplace=True)\n",
        "ntsb_2['eng_mfgr'].mask(ntsb_2['eng_mfgr'] == 'contenental', 'continental motors, inc.', inplace=True)\n",
        "ntsb_2['eng_mfgr'].mask(ntsb_2['eng_mfgr'] == 'contenental', 'continental motors, inc.', inplace=True)\n",
        "ntsb_2['eng_mfgr'].mask(ntsb_2['eng_mfgr'] == 'contenental', 'continental motors, inc.', inplace=True)\n",
        "ntsb_2['secondary_eng_mfgr'] = np.where(ntsb_2['eng_mfgr'] == 'continental teledyne motors', 'teledyne turbine engines', '')\n",
        "ntsb_2['eng_mfgr'].mask(ntsb_2['eng_mfgr'] == 'continental teledyne motors', 'continental motors, inc.', inplace=True)\n",
        "ntsb_2['secondary_eng_mfgr'] = np.where(ntsb_2['eng_mfgr'] == 'continental/p. ponk', 'p.ponk', '')\n",
        "ntsb_2['eng_mfgr'].mask(ntsb_2['eng_mfgr'] == 'continental/p. ponk', 'continental motors, inc.', inplace=True)\n",
        "ntsb_2['eng_mfgr'].mask(ntsb_2['eng_mfgr'] == 'continential', 'continental motors, inc.', inplace=True)\n",
        "ntsb_2['eng_mfgr'].mask(ntsb_2['eng_mfgr'] == 'continential motors', 'continental motors, inc.', inplace=True)\n",
        "ntsb_2['eng_mfgr'].mask(ntsb_2['eng_mfgr'] == 'continetal motors', 'continental motors, inc.', inplace=True)\n",
        "ntsb_2['eng_mfgr'].mask(ntsb_2['eng_mfgr'] == 'continetnal', 'continental motors, inc.', inplace=True)\n",
        "ntsb_2['eng_mfgr'].mask(ntsb_2['eng_mfgr'] == 'contintental', 'continental motors, inc.', inplace=True)\n",
        "ntsb_2['eng_mfgr'].mask(ntsb_2['eng_mfgr'] == 'contl', 'continental motors, inc.', inplace=True)\n",
        "ntsb_2['eng_mfgr'].mask(ntsb_2['eng_mfgr'] == 'contnental', 'continental motors, inc.', inplace=True)\n",
        "ntsb_2['eng_mfgr'].mask(ntsb_2['eng_mfgr'] == 'corvair', 'chevrolet', inplace=True)\n",
        "ntsb_2['eng_mfgr'].mask(ntsb_2['eng_mfgr'] == 'covington', 'covington aircraft engines', inplace=True)\n",
        "ntsb_2['eng_mfgr'].mask(ntsb_2['eng_mfgr'] == 'cub crafter', 'club crafters, inc.', inplace=True)\n",
        "ntsb_2['eng_mfgr'].mask(ntsb_2['eng_mfgr'] == 'cub crafters', 'club crafters, inc.', inplace=True)\n",
        "ntsb_2['eng_mfgr'].mask(ntsb_2['eng_mfgr'] == 'cubcrafters', 'club crafters, inc.', inplace=True)\n",
        "ntsb_2['eng_mfgr'].mask(ntsb_2['eng_mfgr'] == 'curtis - wright', 'curtiss-wright', inplace=True)\n",
        "ntsb_2['eng_mfgr'].mask(ntsb_2['eng_mfgr'] == 'curtis wright', 'curtiss-wright', inplace=True)\n",
        "ntsb_2['eng_mfgr'].mask(ntsb_2['eng_mfgr'] == 'curtis-wright', 'curtiss-wright', inplace=True)\n",
        "ntsb_2['eng_mfgr'].mask(ntsb_2['eng_mfgr'] == 'curtiss', 'curtiss-wright', inplace=True)\n",
        "ntsb_2['eng_mfgr'].mask(ntsb_2['eng_mfgr'] == 'curtiss wright', 'curtiss-wright', inplace=True)\n",
        "ntsb_2['eng_mfgr'].mask(ntsb_2['eng_mfgr'] == 'curtiswright', 'curtiss-wright', inplace=True)\n",
        "ntsb_2['eng_mfgr'].mask(ntsb_2['eng_mfgr'] == 'custom', np.nan, inplace=True)\n",
        "ntsb_2['eng_mfgr'].mask(ntsb_2['eng_mfgr'] == 'cuyana', 'cuyuna', inplace=True)\n",
        "ntsb_2['eng_mfgr'].mask(ntsb_2['eng_mfgr'] == 'dehav eng', 'de havilland', inplace=True)\n",
        "ntsb_2['eng_mfgr'].mask(ntsb_2['eng_mfgr'] == 'dehavilland', 'de havilland', inplace=True)\n",
        "ntsb_2['eng_mfgr'].mask(ntsb_2['eng_mfgr'] == 'detr. diesel', 'detroit diesel', inplace=True)\n",
        "ntsb_2['eng_mfgr'].mask(ntsb_2['eng_mfgr'] == 'diamond', 'diamond aircraft', inplace=True)\n",
        "ntsb_2['eng_mfgr'].mask(ntsb_2['eng_mfgr'] == 'diemech', 'diemech turbines', inplace=True)\n",
        "ntsb_2['secondary_eng_mfgr'] = np.where(ntsb_2['eng_mfgr'] == 'diemech (walter)', 'walter aircraft engines', '')\n",
        "ntsb_2['eng_mfgr'].mask(ntsb_2['eng_mfgr'] == 'diemech (walter)', 'diemech turbines', inplace=True)\n",
        "ntsb_2['eng_mfgr'].mask(ntsb_2['eng_mfgr'] == 'diemech turbine', 'diemech turbines', inplace=True)\n",
        "ntsb_2['eng_mfgr'].mask(ntsb_2['eng_mfgr'] == 'diemech turbines inc', 'diemech turbines', inplace=True)\n",
        "ntsb_2['eng_mfgr'].mask(ntsb_2['eng_mfgr'] == 'eci', 'engine components, inc.', inplace=True)\n",
        "ntsb_2['eng_mfgr'].mask(ntsb_2['eng_mfgr'] == 'eci titan', 'engine components, inc.', inplace=True)\n",
        "ntsb_2['eng_mfgr'].mask(ntsb_2['eng_mfgr'] == 'eci/titan', 'engine components, inc.', inplace=True)\n",
        "ntsb_2['eng_mfgr'].mask(ntsb_2['eng_mfgr'] == 'eggenfellner', 'eggenfellner aircraft, inc.', inplace=True)\n",
        "ntsb_2['secondary_eng_mfgr'] = np.where(ntsb_2['eng_mfgr'] == 'eggenfellner subaru', 'subaru', '')\n",
        "ntsb_2['eng_mfgr'].mask(ntsb_2['eng_mfgr'] == 'eggenfellner subaru', 'eggenfellner aircraft, inc.', inplace=True)\n",
        "ntsb_2['eng_mfgr'].mask(ntsb_2['eng_mfgr'] == 'elizalde, s.a.', 'elizalde', inplace=True)\n",
        "ntsb_2['eng_mfgr'].mask(ntsb_2['eng_mfgr'] == 'engine components internationa', 'engine components international', inplace=True)\n",
        "ntsb_2['eng_mfgr'].mask(ntsb_2['eng_mfgr'] == 'engineair', 'engineair power systems', inplace=True)\n",
        "ntsb_2['eng_mfgr'].mask(ntsb_2['eng_mfgr'] == 'exp', 'experimental', inplace=True)\n",
        "ntsb_2['eng_mfgr'].mask(ntsb_2['eng_mfgr'] == 'experimental tcm', 'experimental', inplace=True)\n",
        "ntsb_2['eng_mfgr'].mask(ntsb_2['eng_mfgr'] == 'falconer', 'ryan falconer racing engines', inplace=True)\n",
        "ntsb_2['eng_mfgr'].mask(ntsb_2['eng_mfgr'] == 'falconer eng.', 'ryan falconer racing engines', inplace=True)\n",
        "ntsb_2['eng_mfgr'].mask(ntsb_2['eng_mfgr'] == 'frankin', 'franklin aircraft engines', inplace=True)\n",
        "ntsb_2['eng_mfgr'].mask(ntsb_2['eng_mfgr'] == 'franklin', 'franklin aircraft engines', inplace=True)\n",
        "ntsb_2['eng_mfgr'].mask(ntsb_2['eng_mfgr'] == 'franklyn', 'franklin aircraft engines', inplace=True)\n",
        "ntsb_2['eng_mfgr'].mask(ntsb_2['eng_mfgr'] == 'frnklin', 'franklin aircraft engines', inplace=True)\n",
        "ntsb_2['eng_mfgr'].mask(ntsb_2['eng_mfgr'] == 'g e', 'general electric', inplace=True)\n",
        "ntsb_2['eng_mfgr'].mask(ntsb_2['eng_mfgr'] == 'garett', 'garret', inplace=True)\n",
        "ntsb_2['secondary_eng_mfgr'] = np.where(ntsb_2['eng_mfgr'] == 'garret airesearch', 'airesearch', '')\n",
        "ntsb_2['eng_mfgr'].mask(ntsb_2['eng_mfgr'] == 'garret airesearch', 'garret', inplace=True)\n",
        "ntsb_2['secondary_eng_mfgr'] = np.where(ntsb_2['eng_mfgr'] == 'garret/honeywell', 'honeywell aerospace', '')\n",
        "ntsb_2['eng_mfgr'].mask(ntsb_2['eng_mfgr'] == 'garret/honeywell', 'garret', inplace=True)\n",
        "ntsb_2['eng_mfgr'].mask(ntsb_2['eng_mfgr'] == 'garrett', 'garret', inplace=True)\n",
        "ntsb_2['secondary_eng_mfgr'] = np.where(ntsb_2['eng_mfgr'] == 'garrett airesearch', 'airesearch', '')\n",
        "ntsb_2['eng_mfgr'].mask(ntsb_2['eng_mfgr'] == 'garrett airesearch', 'garret', inplace=True)\n",
        "ntsb_2['secondary_eng_mfgr'] = np.where(ntsb_2['eng_mfgr'] == 'garrett research', 'airesearch', '')\n",
        "ntsb_2['eng_mfgr'].mask(ntsb_2['eng_mfgr'] == 'garrett research', 'garret', inplace=True)\n",
        "ntsb_2['secondary_eng_mfgr'] = np.where(ntsb_2['eng_mfgr'] == 'garrett-airesearch', 'airesearch', '')\n",
        "ntsb_2['eng_mfgr'].mask(ntsb_2['eng_mfgr'] == 'garrett-airesearch', 'garret', inplace=True)\n",
        "ntsb_2['secondary_eng_mfgr'] = np.where(ntsb_2['eng_mfgr'] == 'garrett/airesearch', 'airesearch', '')\n",
        "ntsb_2['eng_mfgr'].mask(ntsb_2['eng_mfgr'] == 'garrett/airesearch', 'garret', inplace=True)\n",
        "ntsb_2['secondary_eng_mfgr'] = np.where(ntsb_2['eng_mfgr'] == 'garrett/honeywell', 'honeywell aerospace', '')\n",
        "ntsb_2['eng_mfgr'].mask(ntsb_2['eng_mfgr'] == 'garrett/honeywell', 'garret', inplace=True)\n",
        "ntsb_2['eng_mfgr'].mask(ntsb_2['eng_mfgr'] == 'ge', 'general electric', inplace=True)\n",
        "ntsb_2['eng_mfgr'].mask(ntsb_2['eng_mfgr'] == 'ge aviation czech', 'general electric', inplace=True)\n",
        "ntsb_2['eng_mfgr'].mask(ntsb_2['eng_mfgr'] == 'gen.electric', 'general electric', inplace=True)\n",
        "ntsb_2['eng_mfgr'].mask(ntsb_2['eng_mfgr'] == 'general elect', 'general electric', inplace=True)\n",
        "ntsb_2['eng_mfgr'].mask(ntsb_2['eng_mfgr'] == 'general electrics', 'general electric', inplace=True)\n",
        "ntsb_2['eng_mfgr'].mask(ntsb_2['eng_mfgr'] == 'geo/metro', 'geo metro', inplace=True)\n",
        "ntsb_2['eng_mfgr'].mask(ntsb_2['eng_mfgr'] == 'gipsy major', 'de havilland', inplace=True)\n",
        "ntsb_2['eng_mfgr'].mask(ntsb_2['eng_mfgr'] == 'gm', 'general motors', inplace=True)\n",
        "ntsb_2['eng_mfgr'].mask(ntsb_2['eng_mfgr'] == 'gm corvair', 'general motors', inplace=True)\n",
        "ntsb_2['eng_mfgr'].mask(ntsb_2['eng_mfgr'] == 'great plains', 'great plains aircraft supply company', inplace=True)\n",
        "ntsb_2['secondary_eng_mfgr'] = np.where(ntsb_2['eng_mfgr'] == 'great plains/volkswagen', 'volkswagen', '')\n",
        "ntsb_2['eng_mfgr'].mask(ntsb_2['eng_mfgr'] == 'great plains/volkswagen', 'great plains aircraft supply company', inplace=True)\n",
        "ntsb_2['eng_mfgr'].mask(ntsb_2['eng_mfgr'] == 'great plans aircraft', 'great plains aircraft supply company', inplace=True)\n",
        "ntsb_2['eng_mfgr'].mask(ntsb_2['eng_mfgr'] == 'greatplains', 'great plains aircraft supply company', inplace=True)\n",
        "ntsb_2['eng_mfgr'].mask(ntsb_2['eng_mfgr'] == 'grob', 'grob aircraft', inplace=True)\n",
        "ntsb_2['eng_mfgr'].mask(ntsb_2['eng_mfgr'] == 'gypsey major', 'de havilland', inplace=True)\n",
        "ntsb_2['eng_mfgr'].mask(ntsb_2['eng_mfgr'] == 'gypsy major', 'de havilland', inplace=True)\n",
        "ntsb_2['eng_mfgr'].mask(ntsb_2['eng_mfgr'] == 'gipsy major', 'de havilland', inplace=True)\n",
        "ntsb_2['eng_mfgr'].mask(ntsb_2['eng_mfgr'] == 'gypsy minor', 'de havilland', inplace=True)\n",
        "ntsb_2['eng_mfgr'].mask(ntsb_2['eng_mfgr'] == 'gypsy moth', 'de havilland', inplace=True)\n",
        "ntsb_2['eng_mfgr'].mask(ntsb_2['eng_mfgr'] == 'hacker a200', 'hacker', inplace=True)\n",
        "ntsb_2['secondary_eng_mfgr'] = np.where(ntsb_2['eng_mfgr'] == 'hapi vw', 'volkswagen', '')\n",
        "ntsb_2['eng_mfgr'].mask(ntsb_2['eng_mfgr'] == 'hapi vw', 'hapi', inplace=True)\n",
        "ntsb_2['eng_mfgr'].mask(ntsb_2['eng_mfgr'] == 'heath avn', 'heath airplane company', inplace=True)\n",
        "ntsb_2['eng_mfgr'].mask(ntsb_2['eng_mfgr'] == 'hirsh', 'hirth engines', inplace=True)\n",
        "ntsb_2['eng_mfgr'].mask(ntsb_2['eng_mfgr'] == 'hirth', 'hirth engines', inplace=True)\n",
        "ntsb_2['eng_mfgr'].mask(ntsb_2['eng_mfgr'] == 'hirthmotoren', 'hirth engines', inplace=True)\n",
        "ntsb_2['eng_mfgr'].mask(ntsb_2['eng_mfgr'] == 'hirtmotoren', 'hirth engines', inplace=True)\n",
        "ntsb_2['eng_mfgr'].mask(ntsb_2['eng_mfgr'] == 'hks', 'hks aviation engines', inplace=True)\n",
        "ntsb_2['eng_mfgr'].mask(ntsb_2['eng_mfgr'] == 'hks aviation', 'hks aviation engines', inplace=True)\n",
        "ntsb_2['eng_mfgr'].mask(ntsb_2['eng_mfgr'] == 'honeywell', 'honeywell aerospace', inplace=True)\n",
        "ntsb_2['secondary_eng_mfgr'] = np.where(ntsb_2['eng_mfgr'] == 'honeywell - garrett', 'garret', '')\n",
        "ntsb_2['eng_mfgr'].mask(ntsb_2['eng_mfgr'] == 'honeywell - garrett', 'honeywell aerospace', inplace=True)\n",
        "ntsb_2['secondary_eng_mfgr'] = np.where(ntsb_2['eng_mfgr'] == 'honeywell / airesearch', 'airesearch', '')\n",
        "ntsb_2['eng_mfgr'].mask(ntsb_2['eng_mfgr'] == 'honeywell / airesearch', 'honeywell aerospace', inplace=True)\n",
        "ntsb_2['secondary_eng_mfgr'] = np.where(ntsb_2['eng_mfgr'] == 'honeywell garrett', 'garret', '')\n",
        "ntsb_2['eng_mfgr'].mask(ntsb_2['eng_mfgr'] == 'honeywell garrett', 'honeywell aerospace', inplace=True)\n",
        "ntsb_2['secondary_eng_mfgr'] = np.where(ntsb_2['eng_mfgr'] == 'honeywell/garrett', 'garret', '')\n",
        "ntsb_2['eng_mfgr'].mask(ntsb_2['eng_mfgr'] == 'honeywell/garrett', 'honeywell aerospace', inplace=True)\n",
        "ntsb_2['secondary_eng_mfgr'] = np.where(ntsb_2['eng_mfgr'] == 'honeywell/lyc', 'lycoming', '')\n",
        "ntsb_2['eng_mfgr'].mask(ntsb_2['eng_mfgr'] == 'honeywell/lyc', 'honeywell aerospace', inplace=True)\n",
        "ntsb_2['eng_mfgr'].mask(ntsb_2['eng_mfgr'] == 'housia', 'housai', inplace=True)\n",
        "ntsb_2['eng_mfgr'].mask(ntsb_2['eng_mfgr'] == 'hummel', 'hummel engines', inplace=True)\n",
        "ntsb_2['eng_mfgr'].mask(ntsb_2['eng_mfgr'] == 'huosai', 'housai', inplace=True)\n",
        "ntsb_2['eng_mfgr'].mask(ntsb_2['eng_mfgr'] == 'inntec', 'innovator technologies', inplace=True)\n",
        "ntsb_2['eng_mfgr'].mask(ntsb_2['eng_mfgr'] == 'int harvester', 'solar aircraft', inplace=True)\n",
        "ntsb_2['eng_mfgr'].mask(ntsb_2['eng_mfgr'] == 'ivchenco', 'ivchenko okb', inplace=True)\n",
        "ntsb_2['eng_mfgr'].mask(ntsb_2['eng_mfgr'] == 'ivchenko', 'ivchenko okb', inplace=True)\n",
        "ntsb_2['eng_mfgr'].mask(ntsb_2['eng_mfgr'] == 'jabaru', 'jabiru aircraft', inplace=True)\n",
        "ntsb_2['eng_mfgr'].mask(ntsb_2['eng_mfgr'] == 'jabiru', 'jabiru aircraft', inplace=True)\n",
        "ntsb_2['eng_mfgr'].mask(ntsb_2['eng_mfgr'] == 'jpx', 'jpx aircraft engines', inplace=True)\n",
        "ntsb_2['eng_mfgr'].mask(ntsb_2['eng_mfgr'] == 'jpx aircraft engines', 'jpx aircraft engines', inplace=True)\n",
        "ntsb_2['eng_mfgr'].mask(ntsb_2['eng_mfgr'] == 'jpx-pul', 'jpx aircraft engines', inplace=True)\n",
        "ntsb_2['eng_mfgr'].mask(ntsb_2['eng_mfgr'] == 'kfm', 'italian american motor engineering', inplace=True)\n",
        "ntsb_2['eng_mfgr'].mask(ntsb_2['eng_mfgr'] == 'kinner', 'kinner airplane & motor corporation', inplace=True)\n",
        "ntsb_2['eng_mfgr'].mask(ntsb_2['eng_mfgr'] == 'kinner co', 'kinner airplane & motor corporation', inplace=True)\n",
        "ntsb_2['eng_mfgr'].mask(ntsb_2['eng_mfgr'] == 'le rhone', 'société des moteurs le rhôn', inplace=True)\n",
        "ntsb_2['eng_mfgr'].mask(ntsb_2['eng_mfgr'] == 'lerhone', 'société des moteurs le rhôn', inplace=True)\n",
        "ntsb_2['eng_mfgr'].mask(ntsb_2['eng_mfgr'] == 'limbach', 'limbach', inplace=True)\n",
        "ntsb_2['eng_mfgr'].mask(ntsb_2['eng_mfgr'] == 'limbeck', 'limbach', inplace=True)\n",
        "ntsb_2['eng_mfgr'].mask(ntsb_2['eng_mfgr'] == 'lom', 'lom praha', inplace=True)\n",
        "ntsb_2['eng_mfgr'].mask(ntsb_2['eng_mfgr'] == 'ly-con', 'lycoming', inplace=True)\n",
        "ntsb_2['eng_mfgr'].mask(ntsb_2['eng_mfgr'] == 'lyc', 'lycoming', inplace=True)\n",
        "ntsb_2['secondary_eng_mfgr'] = np.where(ntsb_2['eng_mfgr'] == 'lyco/wright', 'curtiss-wright', '')\n",
        "ntsb_2['eng_mfgr'].mask(ntsb_2['eng_mfgr'] == 'lyco/wright', 'lycoming', inplace=True)\n",
        "ntsb_2['eng_mfgr'].mask(ntsb_2['eng_mfgr'] == 'lycoiming', 'lycoming', inplace=True)\n",
        "ntsb_2['eng_mfgr'].mask(ntsb_2['eng_mfgr'] == 'lycom', 'lycoming', inplace=True)\n",
        "ntsb_2['eng_mfgr'].mask(ntsb_2['eng_mfgr'] == 'lycomimg', 'lycoming', inplace=True)\n",
        "ntsb_2['eng_mfgr'].mask(ntsb_2['eng_mfgr'] == 'lycomin', 'lycoming', inplace=True)\n",
        "ntsb_2['secondary_eng_mfgr'] = np.where(ntsb_2['eng_mfgr'] == 'lycoming (curtis-wright)', 'curtiss-wright', '')\n",
        "ntsb_2['eng_mfgr'].mask(ntsb_2['eng_mfgr'] == 'lycoming (curtis-wright)', 'lycoming', inplace=True)\n",
        "ntsb_2['eng_mfgr'].mask(ntsb_2['eng_mfgr'] == 'lycoming (modified)', 'lycoming', inplace=True)\n",
        "ntsb_2['eng_mfgr'].mask(ntsb_2['eng_mfgr'] == 'lycoming engines', 'lycoming', inplace=True)\n",
        "ntsb_2['eng_mfgr'].mask(ntsb_2['eng_mfgr'] == 'lycoming o-360-a1a', 'lycoming', inplace=True)\n",
        "ntsb_2['secondary_eng_mfgr'] = np.where(ntsb_2['eng_mfgr'] == 'lycoming-bmw', 'bmw', '')\n",
        "ntsb_2['eng_mfgr'].mask(ntsb_2['eng_mfgr'] == 'lycoming-bmw', 'lycoming', inplace=True)\n",
        "ntsb_2['secondary_eng_mfgr'] = np.where(ntsb_2['eng_mfgr'] == 'lycoming/honeywell', 'honeywell aerospace', '')\n",
        "ntsb_2['eng_mfgr'].mask(ntsb_2['eng_mfgr'] == 'lycoming/honeywell', 'lycoming', inplace=True)\n",
        "ntsb_2['eng_mfgr'].mask(ntsb_2['eng_mfgr'] == 'lycomming', 'lycoming', inplace=True)\n",
        "ntsb_2['eng_mfgr'].mask(ntsb_2['eng_mfgr'] == 'lycomong', 'lycoming', inplace=True)\n",
        "ntsb_2['eng_mfgr'].mask(ntsb_2['eng_mfgr'] == 'lycon', 'lycoming', inplace=True)\n",
        "ntsb_2['eng_mfgr'].mask(ntsb_2['eng_mfgr'] == 'mattittuck', 'teledyne turbine engines', inplace=True)\n",
        "ntsb_2['eng_mfgr'].mask(ntsb_2['eng_mfgr'] == 'mattituck', 'teledyne turbine engines', inplace=True)\n",
        "ntsb_2['secondary_eng_mfgr'] = np.where(ntsb_2['eng_mfgr'] == 'mazda/atkins', 'atkins', '')\n",
        "ntsb_2['eng_mfgr'].mask(ntsb_2['eng_mfgr'] == 'mazda/atkins', 'mazda', inplace=True)\n",
        "ntsb_2['eng_mfgr'].mask(ntsb_2['eng_mfgr'] == 'mcculloch', 'mcculloch aircraft corporation', inplace=True)\n",
        "ntsb_2['eng_mfgr'].mask(ntsb_2['eng_mfgr'] == 'mccullock', 'mcculloch aircraft corporation', inplace=True)\n",
        "ntsb_2['eng_mfgr'].mask(ntsb_2['eng_mfgr'] == 'mccullough', 'mcculloch aircraft corporation', inplace=True)\n",
        "ntsb_2['eng_mfgr'].mask(ntsb_2['eng_mfgr'] == 'mid-west', 'jet midwest, inc.', inplace=True)\n",
        "ntsb_2['eng_mfgr'].mask(ntsb_2['eng_mfgr'] == 'mid-west engines', 'jet midwest, inc.', inplace=True)\n",
        "ntsb_2['eng_mfgr'].mask(ntsb_2['eng_mfgr'] == 'morris motors', 'morris engines limited', inplace=True)\n",
        "ntsb_2['eng_mfgr'].mask(ntsb_2['eng_mfgr'] == 'motori zanzoterra', 'zanzottera technologies', inplace=True)\n",
        "ntsb_2['eng_mfgr'].mask(ntsb_2['eng_mfgr'] == 'mz', 'zanzottera technologies', inplace=True)\n",
        "ntsb_2['eng_mfgr'].mask(ntsb_2['eng_mfgr'] == 'national flight service', 'national flight services, inc.', inplace=True)\n",
        "ntsb_2['eng_mfgr'].mask(ntsb_2['eng_mfgr'] == 'national flight service', 'national flight services, inc.', inplace=True)\n",
        "ntsb_2['eng_mfgr'].mask(ntsb_2['eng_mfgr'] == 'national flight services inc', 'national flight services, inc.', inplace=True)\n",
        "ntsb_2['eng_mfgr'].mask(ntsb_2['eng_mfgr'] == 'none', np.nan, inplace=True)\n",
        "ntsb_2['eng_mfgr'].mask(ntsb_2['eng_mfgr'] == 'northrop corp', 'northrop corporation ', inplace=True)\n",
        "ntsb_2['eng_mfgr'].mask(ntsb_2['eng_mfgr'] == 'nsi', 'nsi propulsion systems, inc.', inplace=True)\n",
        "ntsb_2['eng_mfgr'].mask(ntsb_2['eng_mfgr'] == 'nsi aero', 'nsi propulsion systems, inc.', inplace=True)\n",
        "ntsb_2['eng_mfgr'].mask(ntsb_2['eng_mfgr'] == 'o-360-a4k', 'lycoming', inplace=True)\n",
        "ntsb_2['eng_mfgr'].mask(ntsb_2['eng_mfgr'] == 'o-470l', 'teledyne continental motors', inplace=True)\n",
        "ntsb_2['eng_mfgr'].mask(ntsb_2['eng_mfgr'] == 'p & w', 'pratt & whitney', inplace=True)\n",
        "ntsb_2['eng_mfgr'].mask(ntsb_2['eng_mfgr'] == 'p & w', 'pratt & whitney', inplace=True)\n",
        "ntsb_2['eng_mfgr'].mask(ntsb_2['eng_mfgr'] == 'p & w canada', 'pratt & whitney canada', inplace=True)\n",
        "ntsb_2['eng_mfgr'].mask(ntsb_2['eng_mfgr'] == 'p. ponk', 'p.ponk', inplace=True)\n",
        "ntsb_2['eng_mfgr'].mask(ntsb_2['eng_mfgr'] == 'p/w canada', 'pratt & whitney canada', inplace=True)\n",
        "ntsb_2['eng_mfgr'].mask(ntsb_2['eng_mfgr'] == 'p&w', 'pratt & whitney', inplace=True)\n",
        "ntsb_2['eng_mfgr'].mask(ntsb_2['eng_mfgr'] == 'p&w canada', 'pratt & whitney canada', inplace=True)\n",
        "ntsb_2['eng_mfgr'].mask(ntsb_2['eng_mfgr'] == 'p&wc', 'pratt & whitney canada', inplace=True)\n",
        "ntsb_2['eng_mfgr'].mask(ntsb_2['eng_mfgr'] == 'packard', 'packard motors', inplace=True)\n",
        "ntsb_2['secondary_eng_mfgr'] = np.where(ntsb_2['eng_mfgr'] == 'packard r.r.', 'rolls-royce', '')\n",
        "ntsb_2['eng_mfgr'].mask(ntsb_2['eng_mfgr'] == 'packard r.r.', 'packard motors', inplace=True)\n",
        "ntsb_2['secondary_eng_mfgr'] = np.where(ntsb_2['eng_mfgr'] == 'packard rolls royce', 'rolls-royce', '')\n",
        "ntsb_2['eng_mfgr'].mask(ntsb_2['eng_mfgr'] == 'packard rolls royce', 'packard motors', inplace=True)\n",
        "ntsb_2['eng_mfgr'].mask(ntsb_2['eng_mfgr'] == 'patt &whitney canada', 'pratt & whitney canada', inplace=True)\n",
        "ntsb_2['eng_mfgr'].mask(ntsb_2['eng_mfgr'] == 'pbs', 'pbs aerospace', inplace=True)\n",
        "ntsb_2['eng_mfgr'].mask(ntsb_2['eng_mfgr'] == 'penn yann aero', 'penn yan aero', inplace=True)\n",
        "ntsb_2['eng_mfgr'].mask(ntsb_2['eng_mfgr'] == 'penn-yan', 'penn yan aero', inplace=True)\n",
        "ntsb_2['eng_mfgr'].mask(ntsb_2['eng_mfgr'] == 'pezatel', 'pezetel', inplace=True)\n",
        "ntsb_2['secondary_eng_mfgr'] = np.where(ntsb_2['eng_mfgr'] == 'pkrd-roll', 'rolls-royce', '')\n",
        "ntsb_2['eng_mfgr'].mask(ntsb_2['eng_mfgr'] == 'pkrd-roll', 'packard motors', inplace=True)\n",
        "ntsb_2['secondary_eng_mfgr'] = np.where(ntsb_2['eng_mfgr'] == 'pkrd-roll royce', 'rolls-royce', '')\n",
        "ntsb_2['eng_mfgr'].mask(ntsb_2['eng_mfgr'] == 'pkrd-roll royce', 'pkrd-roll royce', inplace=True)\n",
        "ntsb_2['eng_mfgr'].mask(ntsb_2['eng_mfgr'] == 'polaris', 'walter aircraft engines', inplace=True)\n",
        "ntsb_2['eng_mfgr'].mask(ntsb_2['eng_mfgr'] == 'prat and whitney aircraft', 'pratt & whitney', inplace=True)\n",
        "ntsb_2['eng_mfgr'].mask(ntsb_2['eng_mfgr'] == 'pratt & whitney - canada', 'pratt & whitney canada', inplace=True)\n",
        "ntsb_2['eng_mfgr'].mask(ntsb_2['eng_mfgr'] == 'pratt & whitney aircraft of ca', 'pratt & whitney canada', inplace=True)\n",
        "ntsb_2['eng_mfgr'].mask(ntsb_2['eng_mfgr'] == 'pratt & whitney of canada', 'pratt & whitney canada', inplace=True)\n",
        "ntsb_2['eng_mfgr'].mask(ntsb_2['eng_mfgr'] == 'pratt & whitney-canada', 'pratt & whitney canada', inplace=True)\n",
        "ntsb_2['eng_mfgr'].mask(ntsb_2['eng_mfgr'] == 'prat and whitney aircraft', 'pratt & whitney', inplace=True)\n",
        "ntsb_2['eng_mfgr'].mask(ntsb_2['eng_mfgr'] == 'pratt & witney', 'pratt & whitney', inplace=True)\n",
        "ntsb_2['eng_mfgr'].mask(ntsb_2['eng_mfgr'] == 'pratt &whitney canada', 'pratt & whitney canada', inplace=True)\n",
        "ntsb_2['eng_mfgr'].mask(ntsb_2['eng_mfgr'] == 'pratt and whitnety canada', 'pratt & whitney canada', inplace=True)\n",
        "ntsb_2['eng_mfgr'].mask(ntsb_2['eng_mfgr'] == 'pratt and whitney', 'pratt & whitney', inplace=True)\n",
        "ntsb_2['eng_mfgr'].mask(ntsb_2['eng_mfgr'] == 'pratt and whitney - canada', 'pratt & whitney canada', inplace=True)\n",
        "ntsb_2['eng_mfgr'].mask(ntsb_2['eng_mfgr'] == 'pratt and whitney canada', 'pratt & whitney canada', inplace=True)\n",
        "ntsb_2['eng_mfgr'].mask(ntsb_2['eng_mfgr'] == 'pratt and whitney of canada', 'pratt & whitney canada', inplace=True)\n",
        "ntsb_2['eng_mfgr'].mask(ntsb_2['eng_mfgr'] == 'pratt whitney', 'pratt & whitney', inplace=True)\n",
        "ntsb_2['eng_mfgr'].mask(ntsb_2['eng_mfgr'] == 'pratt whitney canada', 'pratt & whitney canada', inplace=True)\n",
        "ntsb_2['eng_mfgr'].mask(ntsb_2['eng_mfgr'] == 'pratt-whitney', 'pratt & whitney', inplace=True)\n",
        "ntsb_2['eng_mfgr'].mask(ntsb_2['eng_mfgr'] == 'pratt/whitney', 'pratt & whitney', inplace=True)\n",
        "ntsb_2['eng_mfgr'].mask(ntsb_2['eng_mfgr'] == 'pratt& whitney', 'pratt & whitney', inplace=True)\n",
        "ntsb_2['eng_mfgr'].mask(ntsb_2['eng_mfgr'] == 'pratt&whitney', 'pratt & whitney', inplace=True)\n",
        "ntsb_2['eng_mfgr'].mask(ntsb_2['eng_mfgr'] == 'pratt&whitney-canada', 'pratt & whitney canada', inplace=True)\n",
        "ntsb_2['eng_mfgr'].mask(ntsb_2['eng_mfgr'] == 'pw&c', 'pratt & whitney canada', inplace=True)\n",
        "ntsb_2['eng_mfgr'].mask(ntsb_2['eng_mfgr'] == 'pwc', 'pratt & whitney canada', inplace=True)\n",
        "ntsb_2['eng_mfgr'].mask(ntsb_2['eng_mfgr'] == 'pzl mielec', 'pzl', inplace=True)\n",
        "ntsb_2['eng_mfgr'].mask(ntsb_2['eng_mfgr'] == 'pzl wsk', 'pzl', inplace=True)\n",
        "ntsb_2['eng_mfgr'].mask(ntsb_2['eng_mfgr'] == 'pzl-kalisz', 'pzl', inplace=True)\n",
        "ntsb_2['eng_mfgr'].mask(ntsb_2['eng_mfgr'] == 'pzl-okecie', 'pzl', inplace=True)\n",
        "ntsb_2['eng_mfgr'].mask(ntsb_2['eng_mfgr'] == 'pzl-rzeszow', 'pzl', inplace=True)\n",
        "ntsb_2['eng_mfgr'].mask(ntsb_2['eng_mfgr'] == 'pzl-warszana', 'pzl', inplace=True)\n",
        "ntsb_2['eng_mfgr'].mask(ntsb_2['eng_mfgr'] == 'ram', 'ram racing engines, ltd.', inplace=True)\n",
        "ntsb_2['eng_mfgr'].mask(ntsb_2['eng_mfgr'] == 'ram racing engines ltd', 'ram racing engines, ltd.', inplace=True)\n",
        "ntsb_2['eng_mfgr'].mask(ntsb_2['eng_mfgr'] == 'rev.', 'revmaster aviation', inplace=True)\n",
        "ntsb_2['eng_mfgr'].mask(ntsb_2['eng_mfgr'] == 'revmaster', 'revmaster aviation', inplace=True)\n",
        "ntsb_2['secondary_eng_mfgr'] = np.where(ntsb_2['eng_mfgr'] == 'rogers-lycoming', 'lycoming', '')\n",
        "ntsb_2['eng_mfgr'].mask(ntsb_2['eng_mfgr'] == 'rogers-lycoming', 'rogers', inplace=True)\n",
        "ntsb_2['eng_mfgr'].mask(ntsb_2['eng_mfgr'] == 'rolls royce', 'rolls-royce', inplace=True)\n",
        "ntsb_2['secondary_eng_mfgr'] = np.where(ntsb_2['eng_mfgr'] == 'rolls royce (allison)', 'allison', '')\n",
        "ntsb_2['eng_mfgr'].mask(ntsb_2['eng_mfgr'] == 'rolls royce (allison)', 'rolls-royce', inplace=True)\n",
        "ntsb_2['secondary_eng_mfgr'] = np.where(ntsb_2['eng_mfgr'] == 'rolls royce / allison', 'allison', '')\n",
        "ntsb_2['eng_mfgr'].mask(ntsb_2['eng_mfgr'] == 'rolls royce / allison', 'rolls-royce', inplace=True)\n",
        "ntsb_2['secondary_eng_mfgr'] = np.where(ntsb_2['eng_mfgr'] == 'rolls royce allison', 'allison', '')\n",
        "ntsb_2['eng_mfgr'].mask(ntsb_2['eng_mfgr'] == 'rolls royce allison', 'rolls-royce', inplace=True)\n",
        "ntsb_2['secondary_eng_mfgr'] = np.where(ntsb_2['eng_mfgr'] == 'rolls royce-allison', 'allison', '')\n",
        "ntsb_2['eng_mfgr'].mask(ntsb_2['eng_mfgr'] == 'rolls royce-allison', 'rolls-royce', inplace=True)\n",
        "ntsb_2['secondary_eng_mfgr'] = np.where(ntsb_2['eng_mfgr'] == 'rolls royce/ allison', 'allison', '')\n",
        "ntsb_2['eng_mfgr'].mask(ntsb_2['eng_mfgr'] == 'rolls royce/ allison', 'rolls-royce', inplace=True)\n",
        "ntsb_2['secondary_eng_mfgr'] = np.where(ntsb_2['eng_mfgr'] == 'rolls royce/allison', 'allison', '')\n",
        "ntsb_2['eng_mfgr'].mask(ntsb_2['eng_mfgr'] == 'rolls royce/allison', 'rolls-royce', inplace=True)\n",
        "ntsb_2['eng_mfgr'].mask(ntsb_2['eng_mfgr'] == 'rolls-royc', 'rolls-royce', inplace=True)\n",
        "ntsb_2['secondary_eng_mfgr'] = np.where(ntsb_2['eng_mfgr'] == 'rolls-royce allison', 'allison', '')\n",
        "ntsb_2['eng_mfgr'].mask(ntsb_2['eng_mfgr'] == 'rolls-royce allison', 'rolls-royce', inplace=True)\n",
        "ntsb_2['eng_mfgr'].mask(ntsb_2['eng_mfgr'] == 'rolls-royce corporation', 'rolls-royce', inplace=True)\n",
        "ntsb_2['eng_mfgr'].mask(ntsb_2['eng_mfgr'] == 'rolls-royce deutschland', 'rolls-royce', inplace=True)\n",
        "ntsb_2['secondary_eng_mfgr'] = np.where(ntsb_2['eng_mfgr'] == 'rolls-royce turbomeca', 'safran helicopter engines', '')\n",
        "ntsb_2['eng_mfgr'].mask(ntsb_2['eng_mfgr'] == 'rolls-royce turbomeca', 'rolls-royce', inplace=True)\n",
        "ntsb_2['secondary_eng_mfgr'] = np.where(ntsb_2['eng_mfgr'] == 'rolls-royce(allison)', 'allison', '')\n",
        "ntsb_2['eng_mfgr'].mask(ntsb_2['eng_mfgr'] == 'rolls-royce(allison)', 'rolls-royce', inplace=True)\n",
        "ntsb_2['eng_mfgr'].mask(ntsb_2['eng_mfgr'] == 'rotax', 'brp-rotax', inplace=True)\n",
        "ntsb_2['eng_mfgr'].mask(ntsb_2['eng_mfgr'] == 'rotax gmbh', 'brp-rotax', inplace=True)\n",
        "ntsb_2['eng_mfgr'].mask(ntsb_2['eng_mfgr'] == 'rotax gmbh & co.', 'brp-rotax', inplace=True)\n",
        "ntsb_2['eng_mfgr'].mask(ntsb_2['eng_mfgr'] == 'rotec', 'brp-rotax', inplace=True)\n",
        "ntsb_2['eng_mfgr'].mask(ntsb_2['eng_mfgr'] == 'rotex', 'brp-rotax', inplace=True)\n",
        "ntsb_2['eng_mfgr'].mask(ntsb_2['eng_mfgr'] == 'rotortway', 'rotorway international, inc.', inplace=True)\n",
        "ntsb_2['eng_mfgr'].mask(ntsb_2['eng_mfgr'] == 'rotorway', 'rotorway international, inc.', inplace=True)\n",
        "ntsb_2['eng_mfgr'].mask(ntsb_2['eng_mfgr'] == 'rotorway international', 'rotorway international, inc.', inplace=True)\n",
        "ntsb_2['eng_mfgr'].mask(ntsb_2['eng_mfgr'] == 'rw', 'rotorway international, inc.', inplace=True)\n",
        "ntsb_2['eng_mfgr'].mask(ntsb_2['eng_mfgr'] == 'ryan', 'ryan falconer racing engines', inplace=True)\n",
        "ntsb_2['eng_mfgr'].mask(ntsb_2['eng_mfgr'] == 'safran (formerly turbomeca)', 'safran helicopter engines', inplace=True)\n",
        "ntsb_2['eng_mfgr'].mask(ntsb_2['eng_mfgr'] == 'shvetsoc', 'shvetsov', inplace=True)\n",
        "ntsb_2['eng_mfgr'].mask(ntsb_2['eng_mfgr'] == 'solair', 'solair group, llc', inplace=True)\n",
        "ntsb_2['secondary_eng_mfgr'] = np.where(ntsb_2['eng_mfgr'] == 'subaru - stratus built', 'stratus 2000, inc.', '')\n",
        "ntsb_2['eng_mfgr'].mask(ntsb_2['eng_mfgr'] == 'subaru - stratus built', 'subaru', inplace=True)\n",
        "ntsb_2['secondary_eng_mfgr'] = np.where(ntsb_2['eng_mfgr'] == 'subaru/eggenfellner', 'eggenfellner aircraft, llc', '')\n",
        "ntsb_2['eng_mfgr'].mask(ntsb_2['eng_mfgr'] == 'subaru/eggenfellner', 'subaru', inplace=True)\n",
        "ntsb_2['eng_mfgr'].mask(ntsb_2['eng_mfgr'] == 'subuaru', 'subaru', inplace=True)\n",
        "ntsb_2['eng_mfgr'].mask(ntsb_2['eng_mfgr'] == 'suburu', 'subaru', inplace=True)\n",
        "ntsb_2['eng_mfgr'].mask(ntsb_2['eng_mfgr'] == 'superior', 'superior air parts, inc.', inplace=True)\n",
        "ntsb_2['eng_mfgr'].mask(ntsb_2['eng_mfgr'] == 'superior air parts', 'superior air parts, inc.', inplace=True)\n",
        "ntsb_2['eng_mfgr'].mask(ntsb_2['eng_mfgr'] == 'teledine continental motors', 'teledyne turbine engines', inplace=True)\n",
        "ntsb_2['eng_mfgr'].mask(ntsb_2['eng_mfgr'] == 'teledye continental motors', 'teledyne turbine engines', inplace=True)\n",
        "ntsb_2['eng_mfgr'].mask(ntsb_2['eng_mfgr'] == 'teledyn continental', 'teledyne turbine engines', inplace=True)\n",
        "ntsb_2['eng_mfgr'].mask(ntsb_2['eng_mfgr'] == 'teledyn continental motors', 'teledyne turbine engines', inplace=True)\n",
        "ntsb_2['eng_mfgr'].mask(ntsb_2['eng_mfgr'] == 'teledyne', 'teledyne turbine engines', inplace=True)\n",
        "ntsb_2['eng_mfgr'].mask(ntsb_2['eng_mfgr'] == 'teledyne cont', 'teledyne turbine engines', inplace=True)\n",
        "ntsb_2['eng_mfgr'].mask(ntsb_2['eng_mfgr'] == 'teledyne continental', 'teledyne turbine engines', inplace=True)\n",
        "ntsb_2['eng_mfgr'].mask(ntsb_2['eng_mfgr'] == 'teledyne continental mortors', 'teledyne turbine engines', inplace=True)\n",
        "ntsb_2['eng_mfgr'].mask(ntsb_2['eng_mfgr'] == 'teledyne continental motor', 'teledyne turbine engines', inplace=True)\n",
        "ntsb_2['eng_mfgr'].mask(ntsb_2['eng_mfgr'] == 'teledyne continental motors', 'teledyne turbine engines', inplace=True)\n",
        "ntsb_2['eng_mfgr'].mask(ntsb_2['eng_mfgr'] == 'teledyne matituck', 'teledyne turbine engines', inplace=True)\n",
        "ntsb_2['eng_mfgr'].mask(ntsb_2['eng_mfgr'] == 'teledyne mattituck', 'teledyne turbine engines', inplace=True)\n",
        "ntsb_2['eng_mfgr'].mask(ntsb_2['eng_mfgr'] == 'teledyne-continental', 'teledyne turbine engines', inplace=True)\n",
        "ntsb_2['eng_mfgr'].mask(ntsb_2['eng_mfgr'] == 'teledyne-continental motors', 'teledyne turbine engines', inplace=True)\n",
        "ntsb_2['eng_mfgr'].mask(ntsb_2['eng_mfgr'] == 'teledyne/cont', 'teledyne turbine engines', inplace=True)\n",
        "ntsb_2['secondary_eng_mfgr'] = np.where(ntsb_2['eng_mfgr'] == 'textron lyc.', 'lycoming', '')\n",
        "ntsb_2['eng_mfgr'].mask(ntsb_2['eng_mfgr'] == 'textron lyc.', 'textron aviation', inplace=True)\n",
        "ntsb_2['secondary_eng_mfgr'] = np.where(ntsb_2['eng_mfgr'] == 'textron lycoming', 'lycoming', '')\n",
        "ntsb_2['eng_mfgr'].mask(ntsb_2['eng_mfgr'] == 'textron lycoming', 'lycoming', inplace=True)\n",
        "ntsb_2['eng_mfgr'].mask(ntsb_2['eng_mfgr'] == 'titan', 'continental aerospace technologies', inplace=True)\n",
        "ntsb_2['eng_mfgr'].mask(ntsb_2['eng_mfgr'] == 'tmx', 'teledyne turbine engines', inplace=True)\n",
        "ntsb_2['eng_mfgr'].mask(ntsb_2['eng_mfgr'] == 'tomanski', 'tumanski', inplace=True)\n",
        "ntsb_2['eng_mfgr'].mask(ntsb_2['eng_mfgr'] == 'toyota/auto', 'toyota', inplace=True)\n",
        "ntsb_2['eng_mfgr'].mask(ntsb_2['eng_mfgr'] == 'tubomecca', 'safran helicopter engines', inplace=True)\n",
        "ntsb_2['eng_mfgr'].mask(ntsb_2['eng_mfgr'] == 'turbo meca', 'safran helicopter engines', inplace=True)\n",
        "ntsb_2['eng_mfgr'].mask(ntsb_2['eng_mfgr'] == 'tubomecca', 'safran helicopter engines', inplace=True)\n",
        "ntsb_2['eng_mfgr'].mask(ntsb_2['eng_mfgr'] == 'turbomeca', 'safran helicopter engines', inplace=True)\n",
        "ntsb_2['eng_mfgr'].mask(ntsb_2['eng_mfgr'] == 'turbomeca usa', 'safran helicopter engines', inplace=True)\n",
        "ntsb_2['eng_mfgr'].mask(ntsb_2['eng_mfgr'] == 'turbomecca', 'safran helicopter engines', inplace=True)\n",
        "ntsb_2['eng_mfgr'].mask(ntsb_2['eng_mfgr'] == 'two stroke international', '2si', inplace=True)\n",
        "ntsb_2['eng_mfgr'].mask(ntsb_2['eng_mfgr'] == 'tyledyne continental motors', 'teledyne turbine engines', inplace=True)\n",
        "ntsb_2['eng_mfgr'].mask(ntsb_2['eng_mfgr'] == 'u/a of canada', 'u/a canada', inplace=True)\n",
        "ntsb_2['eng_mfgr'].mask(ntsb_2['eng_mfgr'] == 'ul', 'ulpower aero engines', inplace=True)\n",
        "ntsb_2['eng_mfgr'].mask(ntsb_2['eng_mfgr'] == 'ul power', 'ulpower aero engines', inplace=True)\n",
        "ntsb_2['eng_mfgr'].mask(ntsb_2['eng_mfgr'] == 'unk', np.nan, inplace=True)\n",
        "ntsb_2['eng_mfgr'].mask(ntsb_2['eng_mfgr'] == 'unk/nr', np.nan, inplace=True)\n",
        "ntsb_2['eng_mfgr'].mask(ntsb_2['eng_mfgr'] == 'unkn', np.nan, inplace=True)\n",
        "ntsb_2['eng_mfgr'].mask(ntsb_2['eng_mfgr'] == 'unknown', np.nan, inplace=True)\n",
        "ntsb_2['eng_mfgr'].mask(ntsb_2['eng_mfgr'] == 'v.w.', 'volkswagen', inplace=True)\n",
        "ntsb_2['eng_mfgr'].mask(ntsb_2['eng_mfgr'] == 'vedeheyev', 'vedeneyev', inplace=True)\n",
        "ntsb_2['eng_mfgr'].mask(ntsb_2['eng_mfgr'] == 'vedeneev', 'vedeneyev', inplace=True)\n",
        "ntsb_2['eng_mfgr'].mask(ntsb_2['eng_mfgr'] == 'vedenev', 'vedeneyev', inplace=True)\n",
        "ntsb_2['eng_mfgr'].mask(ntsb_2['eng_mfgr'] == 'vedeneyev', 'vedeneyev', inplace=True)\n",
        "ntsb_2['eng_mfgr'].mask(ntsb_2['eng_mfgr'] == 'vedeneyez', 'vedeneyev', inplace=True)\n",
        "ntsb_2['eng_mfgr'].mask(ntsb_2['eng_mfgr'] == 'vedenyev', 'vedeneyev', inplace=True)\n",
        "ntsb_2['eng_mfgr'].mask(ntsb_2['eng_mfgr'] == 'vellie', 'velie', inplace=True)\n",
        "ntsb_2['eng_mfgr'].mask(ntsb_2['eng_mfgr'] == 'vendeneyev', 'vedeneyev', inplace=True)\n",
        "ntsb_2['eng_mfgr'].mask(ntsb_2['eng_mfgr'] == 'vendenyev', 'vedeneyev', inplace=True)\n",
        "ntsb_2['eng_mfgr'].mask(ntsb_2['eng_mfgr'] == 'viking', 'viking aircraft engines', inplace=True)\n",
        "ntsb_2['eng_mfgr'].mask(ntsb_2['eng_mfgr'] == 'viking aircraft engines', 'viking aircraft engines', inplace=True)\n",
        "ntsb_2['secondary_eng_mfgr'] = np.where(ntsb_2['eng_mfgr'] == 'viking conversion of honda', 'honda', '')\n",
        "ntsb_2['eng_mfgr'].mask(ntsb_2['eng_mfgr'] == 'viking conversion of honda', 'viking aircraft engines', inplace=True)\n",
        "ntsb_2['eng_mfgr'].mask(ntsb_2['eng_mfgr'] == 'volkswagan', 'volkswagen', inplace=True)\n",
        "ntsb_2['eng_mfgr'].mask(ntsb_2['eng_mfgr'] == 'volkswagoen', 'volkswagen', inplace=True)\n",
        "ntsb_2['eng_mfgr'].mask(ntsb_2['eng_mfgr'] == 'volkswagon', 'volkswagen', inplace=True)\n",
        "ntsb_2['secondary_eng_mfgr'] = np.where(ntsb_2['eng_mfgr'] == 'volkswagon/great plains', 'great plains aircraft supply company', '')\n",
        "ntsb_2['eng_mfgr'].mask(ntsb_2['eng_mfgr'] == 'volkswagon/great plains', 'volkswagen', inplace=True)\n",
        "ntsb_2['eng_mfgr'].mask(ntsb_2['eng_mfgr'] == 'vw', 'volkswagen', inplace=True)\n",
        "ntsb_2['secondary_eng_mfgr'] = np.where(ntsb_2['eng_mfgr'] == 'vw- hummel', 'hummel', '')\n",
        "ntsb_2['eng_mfgr'].mask(ntsb_2['eng_mfgr'] == 'vw- hummel', 'volkswagen', inplace=True)\n",
        "ntsb_2['eng_mfgr'].mask(ntsb_2['eng_mfgr'] == 'walter', 'walter aircraft engines', inplace=True)\n",
        "ntsb_2['eng_mfgr'].mask(ntsb_2['eng_mfgr'] == 'walter engine incorporated', 'walter aircraft engines', inplace=True)\n",
        "ntsb_2['secondary_eng_mfgr'] = np.where(ntsb_2['eng_mfgr'] == 'walter/ge', 'general electric', '')\n",
        "ntsb_2['eng_mfgr'].mask(ntsb_2['eng_mfgr'] == 'walter/ge', 'walter aircraft engines', inplace=True)\n",
        "ntsb_2['eng_mfgr'].mask(ntsb_2['eng_mfgr'] == 'walther', 'walter aircraft engines', inplace=True)\n",
        "ntsb_2['eng_mfgr'].mask(ntsb_2['eng_mfgr'] == 'warner', 'warner aircraft corporation', inplace=True)\n",
        "ntsb_2['eng_mfgr'].mask(ntsb_2['eng_mfgr'] == 'warner aircraft engines', 'warner aircraft corporation', inplace=True)\n",
        "ntsb_2['eng_mfgr'].mask(ntsb_2['eng_mfgr'] == 'warner super scarab', 'warner aircraft corporation', inplace=True)\n",
        "ntsb_2['secondary_eng_mfgr'] = np.where(ntsb_2['eng_mfgr'] == 'watson \"vw\"', 'volkswagen', '')\n",
        "ntsb_2['eng_mfgr'].mask(ntsb_2['eng_mfgr'] == 'watson \"vw\"', 'watson', inplace=True)\n",
        "ntsb_2['eng_mfgr'].mask(ntsb_2['eng_mfgr'] == 'williams', 'williams international', inplace=True)\n",
        "ntsb_2['eng_mfgr'].mask(ntsb_2['eng_mfgr'] == 'williams', 'williams international company', inplace=True)\n",
        "ntsb_2['eng_mfgr'].mask(ntsb_2['eng_mfgr'] == 'williams', 'williams intl', inplace=True)\n",
        "ntsb_2['eng_mfgr'].mask(ntsb_2['eng_mfgr'] == 'wright', 'curtiss-wright', inplace=True)\n",
        "ntsb_2['eng_mfgr'].mask(ntsb_2['eng_mfgr'] == 'wright cyclone', 'curtiss-wright', inplace=True)\n",
        "ntsb_2['eng_mfgr'].mask(ntsb_2['eng_mfgr'] == 'wsk', 'pzl wsk-kalisz', inplace=True)\n",
        "ntsb_2['eng_mfgr'].mask(ntsb_2['eng_mfgr'] == 'wsk pzl kalis', 'pzl wsk-kalisz', inplace=True)\n",
        "ntsb_2['eng_mfgr'].mask(ntsb_2['eng_mfgr'] == 'wsk pzl kalisz', 'pzl wsk-kalisz', inplace=True)\n",
        "ntsb_2['eng_mfgr'].mask(ntsb_2['eng_mfgr'] == 'wsk-pzl', 'pzl wsk-kalisz', inplace=True)\n",
        "ntsb_2['eng_mfgr'].mask(ntsb_2['eng_mfgr'] == 'wsk-pzl-k', 'pzl wsk-kalisz', inplace=True)\n",
        "ntsb_2['eng_mfgr'].mask(ntsb_2['eng_mfgr'] == 'wynn corvair', 'wynn', inplace=True)\n",
        "ntsb_2['eng_mfgr'].mask(ntsb_2['eng_mfgr'] == 'xtreem 360', 'xtremeair gmbh', inplace=True)\n",
        "ntsb_2['eng_mfgr'].mask(ntsb_2['eng_mfgr'] == 'zanzarterra', 'zanzottera technologies', inplace=True)\n",
        "ntsb_2['eng_mfgr'].mask(ntsb_2['eng_mfgr'] == 'zanzottera', 'zanzottera technologies', inplace=True)\n",
        "ntsb_2['eng_mfgr'].mask(ntsb_2['eng_mfgr'] == 'zeonoa', 'zenoah', inplace=True)"
      ],
      "metadata": {
        "id": "yojwOisGtTOG"
      },
      "id": "yojwOisGtTOG",
      "execution_count": 69,
      "outputs": []
    },
    {
      "cell_type": "code",
      "source": [
        "ntsb_2['carb_fuel_injection'].astype('category')"
      ],
      "metadata": {
        "id": "h1u15bWmwHxA",
        "outputId": "4bd558ef-31c3-4447-818c-2b1c0869048f",
        "colab": {
          "base_uri": "https://localhost:8080/"
        }
      },
      "id": "h1u15bWmwHxA",
      "execution_count": 70,
      "outputs": [
        {
          "output_type": "execute_result",
          "data": {
            "text/plain": [
              "3          NaN\n",
              "5         carb\n",
              "6         carb\n",
              "7         finj\n",
              "8         finj\n",
              "          ... \n",
              "104049    carb\n",
              "104061    finj\n",
              "104078    carb\n",
              "104092    finj\n",
              "104119     NaN\n",
              "Name: carb_fuel_injection, Length: 46748, dtype: category\n",
              "Categories (2, object): ['carb', 'finj']"
            ]
          },
          "metadata": {},
          "execution_count": 70
        }
      ]
    },
    {
      "cell_type": "code",
      "source": [
        "ntsb_2['carb_fuel_injection'].astype('category')"
      ],
      "metadata": {
        "id": "W8UyUjGrwKiZ",
        "outputId": "30509de9-88f6-4e68-a7ab-e24c83108b37",
        "colab": {
          "base_uri": "https://localhost:8080/"
        }
      },
      "id": "W8UyUjGrwKiZ",
      "execution_count": 71,
      "outputs": [
        {
          "output_type": "execute_result",
          "data": {
            "text/plain": [
              "3          NaN\n",
              "5         carb\n",
              "6         carb\n",
              "7         finj\n",
              "8         finj\n",
              "          ... \n",
              "104049    carb\n",
              "104061    finj\n",
              "104078    carb\n",
              "104092    finj\n",
              "104119     NaN\n",
              "Name: carb_fuel_injection, Length: 46748, dtype: category\n",
              "Categories (2, object): ['carb', 'finj']"
            ]
          },
          "metadata": {},
          "execution_count": 71
        }
      ]
    },
    {
      "cell_type": "code",
      "source": [
        "ntsb_2['ev_type'].astype('category')"
      ],
      "metadata": {
        "id": "hXehUdujwMus",
        "outputId": "39bd7053-fe08-4707-9fae-cd5aac176b1e",
        "colab": {
          "base_uri": "https://localhost:8080/"
        }
      },
      "id": "hXehUdujwMus",
      "execution_count": 72,
      "outputs": [
        {
          "output_type": "execute_result",
          "data": {
            "text/plain": [
              "3         acc\n",
              "5         acc\n",
              "6         acc\n",
              "7         acc\n",
              "8         acc\n",
              "         ... \n",
              "104049    acc\n",
              "104061    acc\n",
              "104078    acc\n",
              "104092    acc\n",
              "104119    acc\n",
              "Name: ev_type, Length: 46748, dtype: category\n",
              "Categories (2, object): ['acc', 'inc']"
            ]
          },
          "metadata": {},
          "execution_count": 72
        }
      ]
    },
    {
      "cell_type": "code",
      "source": [
        "ntsb_2['ev_city'].astype('string')"
      ],
      "metadata": {
        "id": "u-dYe-7nwO8P",
        "outputId": "69d597b6-24b1-40a9-cbc5-1b3572ac4f17",
        "colab": {
          "base_uri": "https://localhost:8080/"
        }
      },
      "id": "u-dYe-7nwO8P",
      "execution_count": 73,
      "outputs": [
        {
          "output_type": "execute_result",
          "data": {
            "text/plain": [
              "3               cullman\n",
              "5             belleview\n",
              "6         pleasant view\n",
              "7              pellston\n",
              "8               elkhart\n",
              "              ...      \n",
              "104049        st. james\n",
              "104061           munday\n",
              "104078           topeka\n",
              "104092      springfield\n",
              "104119           zamora\n",
              "Name: ev_city, Length: 46748, dtype: string"
            ]
          },
          "metadata": {},
          "execution_count": 73
        }
      ]
    },
    {
      "cell_type": "code",
      "source": [
        "ntsb_2['ev_state'].astype('string')"
      ],
      "metadata": {
        "id": "v2FtB8KdwQxk",
        "outputId": "029bf6d6-4900-4972-f2ec-030a18556792",
        "colab": {
          "base_uri": "https://localhost:8080/"
        }
      },
      "id": "v2FtB8KdwQxk",
      "execution_count": 74,
      "outputs": [
        {
          "output_type": "execute_result",
          "data": {
            "text/plain": [
              "3         al\n",
              "5         fl\n",
              "6         tn\n",
              "7         mi\n",
              "8         in\n",
              "          ..\n",
              "104049    mo\n",
              "104061    tx\n",
              "104078    ks\n",
              "104092    oh\n",
              "104119    ca\n",
              "Name: ev_state, Length: 46748, dtype: string"
            ]
          },
          "metadata": {},
          "execution_count": 74
        }
      ]
    },
    {
      "cell_type": "code",
      "source": [
        "ntsb_2['eng_time_total'].unique()"
      ],
      "metadata": {
        "id": "aKLlThxZwSv-",
        "outputId": "aac8edcf-ed27-4a68-9d3c-faca30a00b69",
        "colab": {
          "base_uri": "https://localhost:8080/"
        }
      },
      "id": "aKLlThxZwSv-",
      "execution_count": 75,
      "outputs": [
        {
          "output_type": "execute_result",
          "data": {
            "text/plain": [
              "array([  nan,    0., 2830., ...,  179.,   68.,  968.])"
            ]
          },
          "metadata": {},
          "execution_count": 75
        }
      ]
    },
    {
      "cell_type": "code",
      "source": [
        "ntsb_2['eng_time_total'].unique()\n",
        "ntsb_2['eng_time_total'].max()\n",
        "\n",
        "bins3 = [0,5000,10000,15000,20000,25000,30000,35000,40000,45000,50000]\n",
        "labels3 = [1,2,3,4,5,6,7,8,9,10]\n",
        "\n",
        "ntsb_2['eng_time_total'] = pd.cut(ntsb_2['eng_time_total'], bins3, labels=labels3)\n",
        "col_metrics(ntsb_2, col='eng_time_total')"
      ],
      "metadata": {
        "id": "6u0-cgqUwUlo",
        "outputId": "04e6e81b-2917-4251-da9e-b821812b77ab",
        "colab": {
          "base_uri": "https://localhost:8080/"
        }
      },
      "id": "6u0-cgqUwUlo",
      "execution_count": 76,
      "outputs": [
        {
          "output_type": "stream",
          "name": "stdout",
          "text": [
            "current df shape: (46748, 87)\n",
            "Unique data:  [NaN, 1, 2, 3, 4]\n",
            "Categories (10, int64): [1 < 2 < 3 < 4 ... 7 < 8 < 9 < 10]\n",
            "Value counts:  1     1990\n",
            "2      242\n",
            "3       31\n",
            "4        3\n",
            "5        0\n",
            "6        0\n",
            "7        0\n",
            "8        0\n",
            "9        0\n",
            "10       0\n",
            "Name: eng_time_total, dtype: int64\n",
            "Total nulls:  44482\n",
            "Data type:  category\n"
          ]
        }
      ]
    },
    {
      "cell_type": "code",
      "source": [
        "ntsb_2['eng_time_last_insp'].round()\n",
        "ntsb_2['eng_time_last_insp'].max()\n",
        "bins4 = [0,1000,2000,3000,4000,5000,6000,7000,8000,9000,10000, 11000, 12000, 13000]\n",
        "labels4 = [1,2,3,4,5,6,7,8,9,10,11,12,13]\n",
        "\n",
        "ntsb_2['eng_time_last_insp'] = pd.cut(ntsb_2['eng_time_last_insp'], bins4, labels=labels4)\n",
        "col_metrics(ntsb_2, col='eng_time_last_insp')"
      ],
      "metadata": {
        "id": "jpQLgwI2wWF_",
        "outputId": "7d140dda-44aa-4adb-c3a8-1cc030309738",
        "colab": {
          "base_uri": "https://localhost:8080/"
        }
      },
      "id": "jpQLgwI2wWF_",
      "execution_count": 77,
      "outputs": [
        {
          "output_type": "stream",
          "name": "stdout",
          "text": [
            "current df shape: (46748, 87)\n",
            "Unique data:  [NaN, 1, 2, 7, 3, 6, 5, 4]\n",
            "Categories (13, int64): [1 < 2 < 3 < 4 ... 10 < 11 < 12 < 13]\n",
            "Value counts:  1     1820\n",
            "2       16\n",
            "3        7\n",
            "4        2\n",
            "5        2\n",
            "7        2\n",
            "6        1\n",
            "8        0\n",
            "9        0\n",
            "10       0\n",
            "11       0\n",
            "12       0\n",
            "13       0\n",
            "Name: eng_time_last_insp, dtype: int64\n",
            "Total nulls:  44898\n",
            "Data type:  category\n"
          ]
        }
      ]
    },
    {
      "cell_type": "code",
      "source": [
        "# Pending Cleaning\n",
        "\n",
        "# 'eng_no': Remove 448 nulls?\n",
        "# 'ev_time': format time dtype, take a look at bucketizing by hour\n",
        "# 'ev_year': Remove? Unless an airport is more risky during different time periods which might be possible\n",
        "# 'latitude': convert dtype to VARCHAR or DOUBLE. also maybe.... \"You can use clustering algorithm like k-Nearest Neighbor algorithm to group your geo-location data (using a small number of potential clusters) and assign each cluster or a group a unique id. These unique id can then replace your latitude and longitude column.\"\n",
        "# 'longitude': see lat\n",
        "# 'apt_name': compare against airport list, consolidate private and private airstrip, and private strip"
      ],
      "metadata": {
        "id": "74bNDWVVwYCc"
      },
      "id": "74bNDWVVwYCc",
      "execution_count": 78,
      "outputs": []
    },
    {
      "cell_type": "code",
      "source": [
        "ntsb_2['ev_dow'].astype('category')"
      ],
      "metadata": {
        "id": "GK2py5xuwbPG",
        "outputId": "fe6c4253-afb8-4473-e805-38bad72e6e78",
        "colab": {
          "base_uri": "https://localhost:8080/"
        }
      },
      "id": "GK2py5xuwbPG",
      "execution_count": 79,
      "outputs": [
        {
          "output_type": "execute_result",
          "data": {
            "text/plain": [
              "3         th\n",
              "5         sa\n",
              "6         sa\n",
              "7         th\n",
              "8         fr\n",
              "          ..\n",
              "104049    su\n",
              "104061    mo\n",
              "104078    th\n",
              "104092    fr\n",
              "104119    sa\n",
              "Name: ev_dow, Length: 46748, dtype: category\n",
              "Categories (7, object): ['fr', 'mo', 'sa', 'su', 'th', 'tu', 'we']"
            ]
          },
          "metadata": {},
          "execution_count": 79
        }
      ]
    },
    {
      "cell_type": "code",
      "source": [
        "ntsb_2['ev_month'].astype('category')"
      ],
      "metadata": {
        "id": "0N5V6PHFwcJl",
        "outputId": "e26af109-3526-42b9-b489-4a568e179175",
        "colab": {
          "base_uri": "https://localhost:8080/"
        }
      },
      "id": "0N5V6PHFwcJl",
      "execution_count": 80,
      "outputs": [
        {
          "output_type": "execute_result",
          "data": {
            "text/plain": [
              "3         1\n",
              "5         1\n",
              "6         1\n",
              "7         1\n",
              "8         1\n",
              "         ..\n",
              "104049    7\n",
              "104061    6\n",
              "104078    7\n",
              "104092    7\n",
              "104119    7\n",
              "Name: ev_month, Length: 46748, dtype: category\n",
              "Categories (12, int64): [1, 2, 3, 4, ..., 9, 10, 11, 12]"
            ]
          },
          "metadata": {},
          "execution_count": 80
        }
      ]
    },
    {
      "cell_type": "code",
      "source": [
        "ntsb_3 = ntsb_2.copy()"
      ],
      "metadata": {
        "id": "d4TvNftRZuAY"
      },
      "id": "d4TvNftRZuAY",
      "execution_count": 81,
      "outputs": []
    },
    {
      "cell_type": "markdown",
      "source": [
        "### Ericks Section"
      ],
      "metadata": {
        "id": "bJlVyasmkSx7"
      },
      "id": "bJlVyasmkSx7"
    },
    {
      "cell_type": "code",
      "source": [
        "#checking data types in column\n",
        "ntsb_3.info()"
      ],
      "metadata": {
        "id": "DQJPwfqFkWgq",
        "outputId": "26f70bf8-a616-4f81-c7f0-fa2adfd0b2f2",
        "colab": {
          "base_uri": "https://localhost:8080/"
        }
      },
      "id": "DQJPwfqFkWgq",
      "execution_count": 82,
      "outputs": [
        {
          "output_type": "stream",
          "name": "stdout",
          "text": [
            "<class 'pandas.core.frame.DataFrame'>\n",
            "Int64Index: 46748 entries, 3 to 104119\n",
            "Data columns (total 87 columns):\n",
            " #   Column                 Non-Null Count  Dtype   \n",
            "---  ------                 --------------  -----   \n",
            " 0   aircraft_ev_id         46748 non-null  object  \n",
            " 1   far_part               46748 non-null  object  \n",
            " 2   flight_plan_activated  12394 non-null  object  \n",
            " 3   damage                 46748 non-null  object  \n",
            " 4   acft_make              46748 non-null  object  \n",
            " 5   acft_model             46748 non-null  object  \n",
            " 6   cert_max_gr_wt         46748 non-null  object  \n",
            " 7   num_eng                46748 non-null  int8    \n",
            " 8   type_last_insp         46748 non-null  object  \n",
            " 9   date_last_insp         41194 non-null  object  \n",
            " 10  afm_hrs_last_insp      35964 non-null  float64 \n",
            " 11  afm_hrs                46748 non-null  int16   \n",
            " 12  type_fly               46748 non-null  object  \n",
            " 13  dprt_apt_id            46748 non-null  object  \n",
            " 14  dprt_city              35989 non-null  object  \n",
            " 15  dprt_state             36447 non-null  object  \n",
            " 16  dprt_time              46748 non-null  object  \n",
            " 17  dest_same_local        24989 non-null  object  \n",
            " 18  dest_apt_id            46748 non-null  object  \n",
            " 19  dest_city              26592 non-null  object  \n",
            " 20  dest_state             27062 non-null  object  \n",
            " 21  phase_flt_spec         37721 non-null  float64 \n",
            " 22  afm_hrs_since          15324 non-null  object  \n",
            " 23  rwy_num                40219 non-null  object  \n",
            " 24  rwy_len                25708 non-null  category\n",
            " 25  rwy_width              24435 non-null  category\n",
            " 26  ifr_equipped_cert      46748 non-null  bool    \n",
            " 27  eng_no                 46395 non-null  float64 \n",
            " 28  eng_type               45725 non-null  object  \n",
            " 29  eng_mfgr               45705 non-null  object  \n",
            " 30  hp_or_lbs              44848 non-null  object  \n",
            " 31  carb_fuel_injection    41823 non-null  object  \n",
            " 32  eng_time_total         2266 non-null   category\n",
            " 33  eng_time_last_insp     1850 non-null   category\n",
            " 34  ntsb_no                46748 non-null  object  \n",
            " 35  ev_type                46748 non-null  object  \n",
            " 36  ev_date                46748 non-null  object  \n",
            " 37  ev_dow                 46748 non-null  object  \n",
            " 38  ev_time                46731 non-null  float64 \n",
            " 39  ev_city                46747 non-null  object  \n",
            " 40  ev_state               46719 non-null  object  \n",
            " 41  ev_year                46748 non-null  int64   \n",
            " 42  ev_month               46748 non-null  int64   \n",
            " 43  latitude               14958 non-null  object  \n",
            " 44  longitude              14959 non-null  object  \n",
            " 45  apt_name               30860 non-null  object  \n",
            " 46  ev_nr_apt_id           28934 non-null  object  \n",
            " 47  ev_nr_apt_loc          46444 non-null  object  \n",
            " 48  apt_dist               34408 non-null  float64 \n",
            " 49  apt_dir                25985 non-null  float64 \n",
            " 50  apt_elev               33850 non-null  float64 \n",
            " 51  wx_src_iic             46556 non-null  object  \n",
            " 52  wx_obs_time            45567 non-null  float64 \n",
            " 53  wx_obs_dir             44879 non-null  float64 \n",
            " 54  wx_obs_fac_id          33400 non-null  object  \n",
            " 55  wx_obs_elev            44642 non-null  float64 \n",
            " 56  wx_obs_dist            45177 non-null  float64 \n",
            " 57  light_cond             46691 non-null  object  \n",
            " 58  sky_cond_nonceil       44732 non-null  object  \n",
            " 59  sky_nonceil_ht         42157 non-null  float64 \n",
            " 60  sky_ceil_ht            41848 non-null  float64 \n",
            " 61  sky_cond_ceil          46069 non-null  object  \n",
            " 62  vis_rvr                30928 non-null  float64 \n",
            " 63  vis_sm                 46540 non-null  float64 \n",
            " 64  wx_temp                43967 non-null  float64 \n",
            " 65  wx_dew_pt              38026 non-null  float64 \n",
            " 66  wind_dir_deg           45803 non-null  float64 \n",
            " 67  wind_dir_ind           46353 non-null  object  \n",
            " 68  wind_vel_kts           44368 non-null  float64 \n",
            " 69  wind_vel_ind           46712 non-null  object  \n",
            " 70  gust_ind               46738 non-null  object  \n",
            " 71  gust_kts               41485 non-null  float64 \n",
            " 72  altimeter              38066 non-null  float64 \n",
            " 73  wx_dens_alt            13365 non-null  float64 \n",
            " 74  wx_int_precip          31054 non-null  object  \n",
            " 75  ev_highest_injury      46746 non-null  object  \n",
            " 76  inj_tot_t              26088 non-null  float64 \n",
            " 77  wx_cond_basic          46732 non-null  object  \n",
            " 78  Cause_Factor           6994 non-null   object  \n",
            " 79  crew_no                8605 non-null   float64 \n",
            " 80  crew_category          8542 non-null   object  \n",
            " 81  crew_age               8300 non-null   float64 \n",
            " 82  crew_sex               6415 non-null   object  \n",
            " 83  med_certf              8255 non-null   object  \n",
            " 84  pilot_flying           46410 non-null  object  \n",
            " 85  crew_inj_level         8508 non-null   object  \n",
            " 86  secondary_eng_mfgr     46748 non-null  object  \n",
            "dtypes: bool(1), category(4), float64(25), int16(1), int64(2), int8(1), object(53)\n",
            "memory usage: 29.2+ MB\n"
          ]
        }
      ]
    },
    {
      "cell_type": "code",
      "source": [
        "#convert datatype to string for easier data handling\n",
        "ntsb_3['ev_nr_apt_id'] = ntsb_3['ev_nr_apt_id'].astype('string')\n",
        "ntsb_3['ev_nr_apt_loc'] = ntsb_3['ev_nr_apt_loc'].astype('string')\n",
        "ntsb_3['wx_src_iic'] = ntsb_3['wx_src_iic'].astype('string')\n",
        "ntsb_3['wx_obs_fac_id'] = ntsb_3['wx_obs_fac_id'].astype('string')\n",
        "ntsb_3['light_cond'] = ntsb_3['light_cond'].astype('string')\n",
        "ntsb_3['sky_cond_nonceil'] = ntsb_3['sky_cond_nonceil'].astype('string')\n",
        "ntsb_3['sky_cond_ceil'] = ntsb_3['sky_cond_ceil'].astype('string')\n",
        "\n",
        "#convert datatype to numeric for easier data handling\n",
        "ntsb_3['apt_dist'] = ntsb_3['apt_dist'].astype('float')\n",
        "ntsb_3['apt_dir'] = ntsb_3['apt_dir'].astype('float').astype('Int64')\n",
        "\n",
        "ntsb_3['apt_elev'] = pd.to_numeric(ntsb_3['apt_elev'])\n",
        "ntsb_3['apt_elev'] = ntsb_3['apt_elev'].astype('Int64')\n",
        "\n",
        "ntsb_3['wx_obs_time'] = ntsb_3['wx_obs_time'].astype('Int64')\n",
        "\n",
        "\n",
        "ntsb_3['wx_obs_dir'] = pd.to_numeric(ntsb_3['wx_obs_dir'])\n",
        "ntsb_3['wx_obs_dir'] = ntsb_3['wx_obs_dir'].astype('float').astype('Int64')\n",
        "\n",
        "ntsb_3['wx_obs_elev'] = pd.to_numeric(ntsb_3['wx_obs_elev'])\n",
        "ntsb_3['wx_obs_elev'] = ntsb_3['wx_obs_elev'].astype('float').astype('Int64')\n",
        "\n",
        "ntsb_3['wx_obs_dir'] = pd.to_numeric(ntsb_3['wx_obs_dir'])\n",
        "ntsb_3['wx_obs_dir'] = ntsb_3['wx_obs_dir'].astype('float')\n",
        "\n",
        "ntsb_3['sky_nonceil_ht'] = pd.to_numeric(ntsb_3['sky_nonceil_ht'])\n",
        "ntsb_3['sky_nonceil_ht'] = ntsb_3['sky_nonceil_ht'].astype('float').astype('Int64')\n",
        "\n",
        "ntsb_3['sky_ceil_ht'] = pd.to_numeric(ntsb_3['sky_ceil_ht'])\n",
        "ntsb_3['sky_ceil_ht'] = ntsb_3['sky_ceil_ht'].astype('float').astype('Int64')\n",
        "\n",
        "ntsb_3['vis_rvr'] = pd.to_numeric(ntsb_3['vis_rvr'])\n",
        "ntsb_3['vis_rvr'] = ntsb_3['vis_rvr'].astype('float').astype('Int64')\n",
        "\n",
        "ntsb_3['vis_sm'] = pd.to_numeric(ntsb_3['vis_sm'])\n",
        "ntsb_3['vis_sm'] = ntsb_3['vis_sm'].astype('float')\n",
        "\n",
        "\n",
        "ntsb_3['wx_temp'] = pd.to_numeric(ntsb_3['wx_temp'])\n",
        "ntsb_3['wx_temp'] = ntsb_3['wx_temp'].astype('float').astype('Int64')\n",
        "\n",
        "ntsb_3['wx_dew_pt'] = pd.to_numeric(ntsb_3['wx_dew_pt'])\n",
        "ntsb_3['wx_dew_pt'] = ntsb_3['wx_dew_pt'].astype('float').astype('Int64')\n",
        "\n",
        "ntsb_3.info()"
      ],
      "metadata": {
        "id": "IFD1BGP_kaEt",
        "outputId": "070058e3-9fa9-49fe-9387-b9438aa99c7a",
        "colab": {
          "base_uri": "https://localhost:8080/"
        }
      },
      "id": "IFD1BGP_kaEt",
      "execution_count": 83,
      "outputs": [
        {
          "output_type": "stream",
          "name": "stdout",
          "text": [
            "<class 'pandas.core.frame.DataFrame'>\n",
            "Int64Index: 46748 entries, 3 to 104119\n",
            "Data columns (total 87 columns):\n",
            " #   Column                 Non-Null Count  Dtype   \n",
            "---  ------                 --------------  -----   \n",
            " 0   aircraft_ev_id         46748 non-null  object  \n",
            " 1   far_part               46748 non-null  object  \n",
            " 2   flight_plan_activated  12394 non-null  object  \n",
            " 3   damage                 46748 non-null  object  \n",
            " 4   acft_make              46748 non-null  object  \n",
            " 5   acft_model             46748 non-null  object  \n",
            " 6   cert_max_gr_wt         46748 non-null  object  \n",
            " 7   num_eng                46748 non-null  int8    \n",
            " 8   type_last_insp         46748 non-null  object  \n",
            " 9   date_last_insp         41194 non-null  object  \n",
            " 10  afm_hrs_last_insp      35964 non-null  float64 \n",
            " 11  afm_hrs                46748 non-null  int16   \n",
            " 12  type_fly               46748 non-null  object  \n",
            " 13  dprt_apt_id            46748 non-null  object  \n",
            " 14  dprt_city              35989 non-null  object  \n",
            " 15  dprt_state             36447 non-null  object  \n",
            " 16  dprt_time              46748 non-null  object  \n",
            " 17  dest_same_local        24989 non-null  object  \n",
            " 18  dest_apt_id            46748 non-null  object  \n",
            " 19  dest_city              26592 non-null  object  \n",
            " 20  dest_state             27062 non-null  object  \n",
            " 21  phase_flt_spec         37721 non-null  float64 \n",
            " 22  afm_hrs_since          15324 non-null  object  \n",
            " 23  rwy_num                40219 non-null  object  \n",
            " 24  rwy_len                25708 non-null  category\n",
            " 25  rwy_width              24435 non-null  category\n",
            " 26  ifr_equipped_cert      46748 non-null  bool    \n",
            " 27  eng_no                 46395 non-null  float64 \n",
            " 28  eng_type               45725 non-null  object  \n",
            " 29  eng_mfgr               45705 non-null  object  \n",
            " 30  hp_or_lbs              44848 non-null  object  \n",
            " 31  carb_fuel_injection    41823 non-null  object  \n",
            " 32  eng_time_total         2266 non-null   category\n",
            " 33  eng_time_last_insp     1850 non-null   category\n",
            " 34  ntsb_no                46748 non-null  object  \n",
            " 35  ev_type                46748 non-null  object  \n",
            " 36  ev_date                46748 non-null  object  \n",
            " 37  ev_dow                 46748 non-null  object  \n",
            " 38  ev_time                46731 non-null  float64 \n",
            " 39  ev_city                46747 non-null  object  \n",
            " 40  ev_state               46719 non-null  object  \n",
            " 41  ev_year                46748 non-null  int64   \n",
            " 42  ev_month               46748 non-null  int64   \n",
            " 43  latitude               14958 non-null  object  \n",
            " 44  longitude              14959 non-null  object  \n",
            " 45  apt_name               30860 non-null  object  \n",
            " 46  ev_nr_apt_id           28934 non-null  string  \n",
            " 47  ev_nr_apt_loc          46444 non-null  string  \n",
            " 48  apt_dist               34408 non-null  float64 \n",
            " 49  apt_dir                25985 non-null  Int64   \n",
            " 50  apt_elev               33850 non-null  Int64   \n",
            " 51  wx_src_iic             46556 non-null  string  \n",
            " 52  wx_obs_time            45567 non-null  Int64   \n",
            " 53  wx_obs_dir             44879 non-null  float64 \n",
            " 54  wx_obs_fac_id          33400 non-null  string  \n",
            " 55  wx_obs_elev            44642 non-null  Int64   \n",
            " 56  wx_obs_dist            45177 non-null  float64 \n",
            " 57  light_cond             46691 non-null  string  \n",
            " 58  sky_cond_nonceil       44732 non-null  string  \n",
            " 59  sky_nonceil_ht         42157 non-null  Int64   \n",
            " 60  sky_ceil_ht            41848 non-null  Int64   \n",
            " 61  sky_cond_ceil          46069 non-null  string  \n",
            " 62  vis_rvr                30928 non-null  Int64   \n",
            " 63  vis_sm                 46540 non-null  float64 \n",
            " 64  wx_temp                43967 non-null  Int64   \n",
            " 65  wx_dew_pt              38026 non-null  Int64   \n",
            " 66  wind_dir_deg           45803 non-null  float64 \n",
            " 67  wind_dir_ind           46353 non-null  object  \n",
            " 68  wind_vel_kts           44368 non-null  float64 \n",
            " 69  wind_vel_ind           46712 non-null  object  \n",
            " 70  gust_ind               46738 non-null  object  \n",
            " 71  gust_kts               41485 non-null  float64 \n",
            " 72  altimeter              38066 non-null  float64 \n",
            " 73  wx_dens_alt            13365 non-null  float64 \n",
            " 74  wx_int_precip          31054 non-null  object  \n",
            " 75  ev_highest_injury      46746 non-null  object  \n",
            " 76  inj_tot_t              26088 non-null  float64 \n",
            " 77  wx_cond_basic          46732 non-null  object  \n",
            " 78  Cause_Factor           6994 non-null   object  \n",
            " 79  crew_no                8605 non-null   float64 \n",
            " 80  crew_category          8542 non-null   object  \n",
            " 81  crew_age               8300 non-null   float64 \n",
            " 82  crew_sex               6415 non-null   object  \n",
            " 83  med_certf              8255 non-null   object  \n",
            " 84  pilot_flying           46410 non-null  object  \n",
            " 85  crew_inj_level         8508 non-null   object  \n",
            " 86  secondary_eng_mfgr     46748 non-null  object  \n",
            "dtypes: Int64(9), bool(1), category(4), float64(16), int16(1), int64(2), int8(1), object(46), string(7)\n",
            "memory usage: 29.6+ MB\n"
          ]
        }
      ]
    },
    {
      "cell_type": "code",
      "source": [
        "#remove unneccesary columns\n",
        "ntsb_3.drop('ev_nr_apt_loc', axis = 1, inplace = True)\n",
        "ntsb_3.drop('ev_nr_apt_id', axis = 1, inplace = True)\n",
        "#check for succesfull removal of columns\n",
        "ntsb_3.info()"
      ],
      "metadata": {
        "id": "zzuyCN46kf16",
        "outputId": "fb1d2c95-c120-4119-b745-3ff8fb9aa8ab",
        "colab": {
          "base_uri": "https://localhost:8080/"
        }
      },
      "id": "zzuyCN46kf16",
      "execution_count": 84,
      "outputs": [
        {
          "output_type": "stream",
          "name": "stdout",
          "text": [
            "<class 'pandas.core.frame.DataFrame'>\n",
            "Int64Index: 46748 entries, 3 to 104119\n",
            "Data columns (total 85 columns):\n",
            " #   Column                 Non-Null Count  Dtype   \n",
            "---  ------                 --------------  -----   \n",
            " 0   aircraft_ev_id         46748 non-null  object  \n",
            " 1   far_part               46748 non-null  object  \n",
            " 2   flight_plan_activated  12394 non-null  object  \n",
            " 3   damage                 46748 non-null  object  \n",
            " 4   acft_make              46748 non-null  object  \n",
            " 5   acft_model             46748 non-null  object  \n",
            " 6   cert_max_gr_wt         46748 non-null  object  \n",
            " 7   num_eng                46748 non-null  int8    \n",
            " 8   type_last_insp         46748 non-null  object  \n",
            " 9   date_last_insp         41194 non-null  object  \n",
            " 10  afm_hrs_last_insp      35964 non-null  float64 \n",
            " 11  afm_hrs                46748 non-null  int16   \n",
            " 12  type_fly               46748 non-null  object  \n",
            " 13  dprt_apt_id            46748 non-null  object  \n",
            " 14  dprt_city              35989 non-null  object  \n",
            " 15  dprt_state             36447 non-null  object  \n",
            " 16  dprt_time              46748 non-null  object  \n",
            " 17  dest_same_local        24989 non-null  object  \n",
            " 18  dest_apt_id            46748 non-null  object  \n",
            " 19  dest_city              26592 non-null  object  \n",
            " 20  dest_state             27062 non-null  object  \n",
            " 21  phase_flt_spec         37721 non-null  float64 \n",
            " 22  afm_hrs_since          15324 non-null  object  \n",
            " 23  rwy_num                40219 non-null  object  \n",
            " 24  rwy_len                25708 non-null  category\n",
            " 25  rwy_width              24435 non-null  category\n",
            " 26  ifr_equipped_cert      46748 non-null  bool    \n",
            " 27  eng_no                 46395 non-null  float64 \n",
            " 28  eng_type               45725 non-null  object  \n",
            " 29  eng_mfgr               45705 non-null  object  \n",
            " 30  hp_or_lbs              44848 non-null  object  \n",
            " 31  carb_fuel_injection    41823 non-null  object  \n",
            " 32  eng_time_total         2266 non-null   category\n",
            " 33  eng_time_last_insp     1850 non-null   category\n",
            " 34  ntsb_no                46748 non-null  object  \n",
            " 35  ev_type                46748 non-null  object  \n",
            " 36  ev_date                46748 non-null  object  \n",
            " 37  ev_dow                 46748 non-null  object  \n",
            " 38  ev_time                46731 non-null  float64 \n",
            " 39  ev_city                46747 non-null  object  \n",
            " 40  ev_state               46719 non-null  object  \n",
            " 41  ev_year                46748 non-null  int64   \n",
            " 42  ev_month               46748 non-null  int64   \n",
            " 43  latitude               14958 non-null  object  \n",
            " 44  longitude              14959 non-null  object  \n",
            " 45  apt_name               30860 non-null  object  \n",
            " 46  apt_dist               34408 non-null  float64 \n",
            " 47  apt_dir                25985 non-null  Int64   \n",
            " 48  apt_elev               33850 non-null  Int64   \n",
            " 49  wx_src_iic             46556 non-null  string  \n",
            " 50  wx_obs_time            45567 non-null  Int64   \n",
            " 51  wx_obs_dir             44879 non-null  float64 \n",
            " 52  wx_obs_fac_id          33400 non-null  string  \n",
            " 53  wx_obs_elev            44642 non-null  Int64   \n",
            " 54  wx_obs_dist            45177 non-null  float64 \n",
            " 55  light_cond             46691 non-null  string  \n",
            " 56  sky_cond_nonceil       44732 non-null  string  \n",
            " 57  sky_nonceil_ht         42157 non-null  Int64   \n",
            " 58  sky_ceil_ht            41848 non-null  Int64   \n",
            " 59  sky_cond_ceil          46069 non-null  string  \n",
            " 60  vis_rvr                30928 non-null  Int64   \n",
            " 61  vis_sm                 46540 non-null  float64 \n",
            " 62  wx_temp                43967 non-null  Int64   \n",
            " 63  wx_dew_pt              38026 non-null  Int64   \n",
            " 64  wind_dir_deg           45803 non-null  float64 \n",
            " 65  wind_dir_ind           46353 non-null  object  \n",
            " 66  wind_vel_kts           44368 non-null  float64 \n",
            " 67  wind_vel_ind           46712 non-null  object  \n",
            " 68  gust_ind               46738 non-null  object  \n",
            " 69  gust_kts               41485 non-null  float64 \n",
            " 70  altimeter              38066 non-null  float64 \n",
            " 71  wx_dens_alt            13365 non-null  float64 \n",
            " 72  wx_int_precip          31054 non-null  object  \n",
            " 73  ev_highest_injury      46746 non-null  object  \n",
            " 74  inj_tot_t              26088 non-null  float64 \n",
            " 75  wx_cond_basic          46732 non-null  object  \n",
            " 76  Cause_Factor           6994 non-null   object  \n",
            " 77  crew_no                8605 non-null   float64 \n",
            " 78  crew_category          8542 non-null   object  \n",
            " 79  crew_age               8300 non-null   float64 \n",
            " 80  crew_sex               6415 non-null   object  \n",
            " 81  med_certf              8255 non-null   object  \n",
            " 82  pilot_flying           46410 non-null  object  \n",
            " 83  crew_inj_level         8508 non-null   object  \n",
            " 84  secondary_eng_mfgr     46748 non-null  object  \n",
            "dtypes: Int64(9), bool(1), category(4), float64(16), int16(1), int64(2), int8(1), object(46), string(5)\n",
            "memory usage: 28.9+ MB\n"
          ]
        }
      ]
    },
    {
      "cell_type": "code",
      "source": [
        "ntsb_4 = ntsb_3.copy()"
      ],
      "metadata": {
        "id": "gBkg0weEaZV4"
      },
      "id": "gBkg0weEaZV4",
      "execution_count": 85,
      "outputs": []
    },
    {
      "cell_type": "markdown",
      "source": [
        "##Chi's Section"
      ],
      "metadata": {
        "id": "H_fxE95BkkCf"
      },
      "id": "H_fxE95BkkCf"
    },
    {
      "cell_type": "code",
      "source": [
        "# cleaning columns 69 - 85\n",
        "ntsb_4 = ntsb_dropped_cols.iloc[:,69:]"
      ],
      "metadata": {
        "id": "BueecNeMkmKj"
      },
      "id": "BueecNeMkmKj",
      "execution_count": 86,
      "outputs": []
    },
    {
      "cell_type": "code",
      "source": [
        "# check unique values for column\n",
        "\n",
        "ntsb_4['Cause_Factor'].unique()"
      ],
      "metadata": {
        "id": "DBdZEhIXYOxL",
        "outputId": "6e1b6281-705e-49b5-d4a3-ad5854218080",
        "colab": {
          "base_uri": "https://localhost:8080/"
        }
      },
      "id": "DBdZEhIXYOxL",
      "execution_count": 87,
      "outputs": [
        {
          "output_type": "execute_result",
          "data": {
            "text/plain": [
              "array([nan, 'C', 'F'], dtype=object)"
            ]
          },
          "metadata": {},
          "execution_count": 87
        }
      ]
    },
    {
      "cell_type": "code",
      "source": [
        "col_metrics(ntsb_4, 'inj_tot_t') "
      ],
      "metadata": {
        "id": "6fMM5IToYRdf",
        "outputId": "54b6b4d9-3643-46fa-cf24-f688816fe1e1",
        "colab": {
          "base_uri": "https://localhost:8080/",
          "height": 1000
        }
      },
      "id": "6fMM5IToYRdf",
      "execution_count": 88,
      "outputs": [
        {
          "output_type": "stream",
          "name": "stdout",
          "text": [
            "current df shape: (61705, 17)\n",
            "Unique data:  [  1.  nan   2.   4.   3.   7.   5.   8.   6.  10.   9.  11.  20.  29.\n",
            "  12.  14.  13.  18.  22.  16.  23.  15.  21.  25.  90.  17.  86.  19.\n",
            "   0.  50.  63. 163. 124. 140. 145.  55.  77.  85. 270. 179.]\n",
            "Value counts:  1.0      17488\n",
            "2.0      11509\n",
            "3.0       2854\n",
            "4.0       1942\n",
            "5.0        532\n",
            "6.0        277\n",
            "7.0        128\n",
            "8.0         64\n",
            "9.0         44\n",
            "10.0        35\n",
            "12.0        13\n",
            "13.0        12\n",
            "11.0        10\n",
            "14.0         8\n",
            "15.0         8\n",
            "18.0         7\n",
            "16.0         6\n",
            "20.0         4\n",
            "0.0          4\n",
            "29.0         2\n",
            "17.0         2\n",
            "21.0         2\n",
            "22.0         2\n",
            "270.0        1\n",
            "85.0         1\n",
            "77.0         1\n",
            "55.0         1\n",
            "124.0        1\n",
            "145.0        1\n",
            "140.0        1\n",
            "23.0         1\n",
            "163.0        1\n",
            "63.0         1\n",
            "50.0         1\n",
            "19.0         1\n",
            "86.0         1\n",
            "90.0         1\n",
            "25.0         1\n",
            "179.0        1\n",
            "Name: inj_tot_t, dtype: int64\n",
            "Total nulls:  26736\n",
            "Data type:  float64\n"
          ]
        },
        {
          "output_type": "display_data",
          "data": {
            "text/plain": [
              "<Figure size 640x480 with 1 Axes>"
            ],
            "image/png": "[encoded data removed]"
          },
          "metadata": {}
        }
      ]
    },
    {
      "cell_type": "code",
      "source": [
        "# Column 69: Wind_vel_ind\n",
        "\n",
        "# Drop the two rows that have nulls for column 69 - wind_vel_ind\n",
        "ntsb_4 = ntsb_4.dropna(subset=['wind_vel_ind'])\n",
        "\n",
        "#Change data type to string\n",
        "ntsb_4['wind_vel_ind'] = ntsb_4['wind_vel_ind'].astype('string')"
      ],
      "metadata": {
        "id": "kjSPkDLqYWzG",
        "outputId": "fd49345f-3fa3-4dd3-db81-24b351848d1c",
        "colab": {
          "base_uri": "https://localhost:8080/"
        }
      },
      "id": "kjSPkDLqYWzG",
      "execution_count": 89,
      "outputs": [
        {
          "output_type": "stream",
          "name": "stderr",
          "text": [
            "<ipython-input-89-ed95feb0f7e9>:7: SettingWithCopyWarning: \n",
            "A value is trying to be set on a copy of a slice from a DataFrame.\n",
            "Try using .loc[row_indexer,col_indexer] = value instead\n",
            "\n",
            "See the caveats in the documentation: https://pandas.pydata.org/pandas-docs/stable/user_guide/indexing.html#returning-a-view-versus-a-copy\n",
            "  ntsb_4['wind_vel_ind'] = ntsb_4['wind_vel_ind'].astype('string')\n"
          ]
        }
      ]
    },
    {
      "cell_type": "code",
      "source": [
        "# column 71: gust_kts   \n",
        "\n",
        "print(ntsb_4.sort_values('gust_kts'))"
      ],
      "metadata": {
        "id": "Di_1masSYXmb",
        "outputId": "dc64f06f-841a-4ca4-8897-3079f08bdbc8",
        "colab": {
          "base_uri": "https://localhost:8080/"
        }
      },
      "id": "Di_1masSYXmb",
      "execution_count": 90,
      "outputs": [
        {
          "output_type": "stream",
          "name": "stdout",
          "text": [
            "      wind_vel_ind gust_ind  gust_kts  altimeter  wx_dens_alt wx_int_precip  \\\n",
            "0              UNK        U       0.0        NaN          NaN           UNK   \n",
            "36386          UNK        N       0.0        NaN          NaN           UNK   \n",
            "36387         CALM        N       0.0        NaN          NaN           UNK   \n",
            "36388          UNK        N       0.0  29.000000          NaN           UNK   \n",
            "36390          UNK        N       0.0  30.000000          NaN           LGT   \n",
            "...            ...      ...       ...        ...          ...           ...   \n",
            "52098         SPEC        N       NaN  30.200001          NaN           NaN   \n",
            "52099         SPEC        N       NaN  30.290001          NaN           NaN   \n",
            "52100         SPEC        N       NaN  30.219999          NaN           NaN   \n",
            "52101         SPEC        N       NaN  30.290001          NaN           NaN   \n",
            "52110         SPEC        N       NaN  29.870001          NaN           NaN   \n",
            "\n",
            "      ev_highest_injury  inj_tot_t wx_cond_basic Cause_Factor  crew_no  \\\n",
            "0                  MINR        1.0           VMC          NaN      NaN   \n",
            "36386              NONE        NaN           VMC          NaN      NaN   \n",
            "36387              SERS        2.0           VMC          NaN      NaN   \n",
            "36388              NONE        NaN           VMC          NaN      NaN   \n",
            "36390              NONE        NaN           VMC          NaN      NaN   \n",
            "...                 ...        ...           ...          ...      ...   \n",
            "52098              NONE        NaN           VMC          NaN      NaN   \n",
            "52099              NONE        NaN           VMC          NaN      NaN   \n",
            "52100              NONE        NaN           VMC          NaN      NaN   \n",
            "52101              NONE        NaN           VMC          NaN      NaN   \n",
            "52110              FATL        2.0           VMC            C      2.0   \n",
            "\n",
            "      crew_category  crew_age crew_sex med_certf pilot_flying crew_inj_level  \n",
            "0               NaN       NaN      NaN       NaN        False            NaN  \n",
            "36386           NaN       NaN      NaN       NaN        False            NaN  \n",
            "36387           NaN       NaN      NaN       NaN        False            NaN  \n",
            "36388           NaN       NaN      NaN       NaN        False            NaN  \n",
            "36390           NaN       NaN      NaN       NaN        False            NaN  \n",
            "...             ...       ...      ...       ...          ...            ...  \n",
            "52098           NaN       NaN      NaN       NaN        False            NaN  \n",
            "52099           NaN       NaN      NaN       NaN        False            NaN  \n",
            "52100           NaN       NaN      NaN       NaN        False            NaN  \n",
            "52101           NaN       NaN      NaN       NaN        False            NaN  \n",
            "52110          PRPS      27.0        M       NaN        False           FATL  \n",
            "\n",
            "[61665 rows x 17 columns]\n"
          ]
        }
      ]
    },
    {
      "cell_type": "code",
      "source": [
        "# column 74: wx_int_precip     \n",
        "\n",
        "# May have to drop this column since only about 18% of values or 101004 out of 104... are not null or unknown\n",
        "ntsb_4['wx_int_precip'] = ntsb_4['wx_int_precip'].fillna(\"UNK\")\n",
        "print(ntsb_4['wx_int_precip'].isna().sum())\n",
        "\n",
        "print('updated null count:', ntsb_4['wx_int_precip'].isna().sum())"
      ],
      "metadata": {
        "id": "UQzbEj2gYZd8",
        "outputId": "d2e67f85-d7d9-4e5b-d94d-33493a098926",
        "colab": {
          "base_uri": "https://localhost:8080/"
        }
      },
      "id": "UQzbEj2gYZd8",
      "execution_count": 91,
      "outputs": [
        {
          "output_type": "stream",
          "name": "stdout",
          "text": [
            "0\n",
            "updated null count: 0\n"
          ]
        }
      ]
    },
    {
      "cell_type": "code",
      "source": [
        "# column 77: wx_cond_basic\n",
        "\n",
        "# Replace 'Unk' with 'UNK' to match the values in wx_cond_basic columns   \n",
        "ntsb_4['wx_cond_basic'] = ntsb_4['wx_cond_basic'].str.replace('Unk', 'UNK')\n",
        "# Drop the remaining nulls\n",
        "ntsb_4 = ntsb_4.dropna(subset=['wx_cond_basic'])"
      ],
      "metadata": {
        "id": "bxnLnLfTYb55"
      },
      "id": "bxnLnLfTYb55",
      "execution_count": 92,
      "outputs": []
    },
    {
      "cell_type": "code",
      "source": [
        "# convert data types to string\n",
        "ntsb_4['gust_ind'] = ntsb_4['gust_ind'].astype('string')\n",
        "ntsb_4['wx_int_precip'] = ntsb_4['wx_int_precip'].astype('string')\n",
        "ntsb_4['ev_highest_injury'] = ntsb_4['ev_highest_injury'].astype('string')\n",
        "ntsb_4['wx_cond_basic'] = ntsb_4['wx_cond_basic'].astype('string')\n",
        "ntsb_4['Cause_Factor'] = ntsb_4['Cause_Factor'].astype('string')\n",
        "ntsb_4['crew_category'] = ntsb_4['crew_category'].astype('string')\n",
        "ntsb_4['crew_sex'] = ntsb_4['crew_sex'].astype('string')\n",
        "ntsb_4['med_certf'] = ntsb_4['med_certf'].astype('string')\n",
        "ntsb_4['pilot_flying'] = ntsb_4['pilot_flying'].astype('string')\n",
        "ntsb_4['crew_inj_level'] = ntsb_4['crew_inj_level'].astype('string')"
      ],
      "metadata": {
        "id": "jj5s4JbgYdbM",
        "colab": {
          "base_uri": "https://localhost:8080/"
        },
        "outputId": "009d1901-bfa8-4f63-c470-4ebe6e1d7676"
      },
      "id": "jj5s4JbgYdbM",
      "execution_count": 93,
      "outputs": [
        {
          "output_type": "stream",
          "name": "stderr",
          "text": [
            "<ipython-input-93-ce0e6179a39e>:2: SettingWithCopyWarning: \n",
            "A value is trying to be set on a copy of a slice from a DataFrame.\n",
            "Try using .loc[row_indexer,col_indexer] = value instead\n",
            "\n",
            "See the caveats in the documentation: https://pandas.pydata.org/pandas-docs/stable/user_guide/indexing.html#returning-a-view-versus-a-copy\n",
            "  ntsb_4['gust_ind'] = ntsb_4['gust_ind'].astype('string')\n",
            "<ipython-input-93-ce0e6179a39e>:3: SettingWithCopyWarning: \n",
            "A value is trying to be set on a copy of a slice from a DataFrame.\n",
            "Try using .loc[row_indexer,col_indexer] = value instead\n",
            "\n",
            "See the caveats in the documentation: https://pandas.pydata.org/pandas-docs/stable/user_guide/indexing.html#returning-a-view-versus-a-copy\n",
            "  ntsb_4['wx_int_precip'] = ntsb_4['wx_int_precip'].astype('string')\n",
            "<ipython-input-93-ce0e6179a39e>:4: SettingWithCopyWarning: \n",
            "A value is trying to be set on a copy of a slice from a DataFrame.\n",
            "Try using .loc[row_indexer,col_indexer] = value instead\n",
            "\n",
            "See the caveats in the documentation: https://pandas.pydata.org/pandas-docs/stable/user_guide/indexing.html#returning-a-view-versus-a-copy\n",
            "  ntsb_4['ev_highest_injury'] = ntsb_4['ev_highest_injury'].astype('string')\n",
            "<ipython-input-93-ce0e6179a39e>:5: SettingWithCopyWarning: \n",
            "A value is trying to be set on a copy of a slice from a DataFrame.\n",
            "Try using .loc[row_indexer,col_indexer] = value instead\n",
            "\n",
            "See the caveats in the documentation: https://pandas.pydata.org/pandas-docs/stable/user_guide/indexing.html#returning-a-view-versus-a-copy\n",
            "  ntsb_4['wx_cond_basic'] = ntsb_4['wx_cond_basic'].astype('string')\n",
            "<ipython-input-93-ce0e6179a39e>:6: SettingWithCopyWarning: \n",
            "A value is trying to be set on a copy of a slice from a DataFrame.\n",
            "Try using .loc[row_indexer,col_indexer] = value instead\n",
            "\n",
            "See the caveats in the documentation: https://pandas.pydata.org/pandas-docs/stable/user_guide/indexing.html#returning-a-view-versus-a-copy\n",
            "  ntsb_4['Cause_Factor'] = ntsb_4['Cause_Factor'].astype('string')\n",
            "<ipython-input-93-ce0e6179a39e>:7: SettingWithCopyWarning: \n",
            "A value is trying to be set on a copy of a slice from a DataFrame.\n",
            "Try using .loc[row_indexer,col_indexer] = value instead\n",
            "\n",
            "See the caveats in the documentation: https://pandas.pydata.org/pandas-docs/stable/user_guide/indexing.html#returning-a-view-versus-a-copy\n",
            "  ntsb_4['crew_category'] = ntsb_4['crew_category'].astype('string')\n",
            "<ipython-input-93-ce0e6179a39e>:8: SettingWithCopyWarning: \n",
            "A value is trying to be set on a copy of a slice from a DataFrame.\n",
            "Try using .loc[row_indexer,col_indexer] = value instead\n",
            "\n",
            "See the caveats in the documentation: https://pandas.pydata.org/pandas-docs/stable/user_guide/indexing.html#returning-a-view-versus-a-copy\n",
            "  ntsb_4['crew_sex'] = ntsb_4['crew_sex'].astype('string')\n",
            "<ipython-input-93-ce0e6179a39e>:9: SettingWithCopyWarning: \n",
            "A value is trying to be set on a copy of a slice from a DataFrame.\n",
            "Try using .loc[row_indexer,col_indexer] = value instead\n",
            "\n",
            "See the caveats in the documentation: https://pandas.pydata.org/pandas-docs/stable/user_guide/indexing.html#returning-a-view-versus-a-copy\n",
            "  ntsb_4['med_certf'] = ntsb_4['med_certf'].astype('string')\n"
          ]
        }
      ]
    },
    {
      "cell_type": "code",
      "source": [
        "# Drop unnecessary columns\n",
        "ntsb_4 = ntsb_4.drop('Cause_Factor', axis=1)"
      ],
      "metadata": {
        "id": "duUSAuGzYfBP"
      },
      "id": "duUSAuGzYfBP",
      "execution_count": 94,
      "outputs": []
    },
    {
      "cell_type": "code",
      "source": [
        "ntsb_4.info()"
      ],
      "metadata": {
        "id": "aWEZafZ-YgTe",
        "outputId": "e1eda44c-eda4-4f98-ad78-8800185d8e48",
        "colab": {
          "base_uri": "https://localhost:8080/"
        }
      },
      "id": "aWEZafZ-YgTe",
      "execution_count": 95,
      "outputs": [
        {
          "output_type": "stream",
          "name": "stdout",
          "text": [
            "<class 'pandas.core.frame.DataFrame'>\n",
            "Int64Index: 61645 entries, 0 to 104119\n",
            "Data columns (total 16 columns):\n",
            " #   Column             Non-Null Count  Dtype  \n",
            "---  ------             --------------  -----  \n",
            " 0   wind_vel_ind       61645 non-null  string \n",
            " 1   gust_ind           61630 non-null  string \n",
            " 2   gust_kts           55215 non-null  float64\n",
            " 3   altimeter          49066 non-null  float64\n",
            " 4   wx_dens_alt        18262 non-null  float64\n",
            " 5   wx_int_precip      61645 non-null  string \n",
            " 6   ev_highest_injury  61633 non-null  string \n",
            " 7   inj_tot_t          34934 non-null  float64\n",
            " 8   wx_cond_basic      61645 non-null  string \n",
            " 9   crew_no            11667 non-null  float64\n",
            " 10  crew_category      11584 non-null  string \n",
            " 11  crew_age           11248 non-null  float64\n",
            " 12  crew_sex           8665 non-null   string \n",
            " 13  med_certf          11193 non-null  string \n",
            " 14  pilot_flying       61188 non-null  string \n",
            " 15  crew_inj_level     11347 non-null  string \n",
            "dtypes: float64(6), string(10)\n",
            "memory usage: 8.0 MB\n"
          ]
        }
      ]
    },
    {
      "cell_type": "markdown",
      "source": [
        "## Save final copy of data set"
      ],
      "metadata": {
        "id": "2Fd2WmiMav8T"
      },
      "id": "2Fd2WmiMav8T"
    },
    {
      "cell_type": "code",
      "source": [
        "ntsb_4.to_csv('cleaned_ntsb.csv')"
      ],
      "metadata": {
        "id": "rucsJhMDayJa"
      },
      "id": "rucsJhMDayJa",
      "execution_count": 96,
      "outputs": []
    }
  ],
  "metadata": {
    "kernelspec": {
      "display_name": "Python 3 (ipykernel)",
      "language": "python",
      "name": "python3"
    },
    "language_info": {
      "codemirror_mode": {
        "name": "ipython",
        "version": 3
      },
      "file_extension": ".py",
      "mimetype": "text/x-python",
      "name": "python",
      "nbconvert_exporter": "python",
      "pygments_lexer": "ipython3",
      "version": "3.8.8"
    },
    "colab": {
      "provenance": [],
      "include_colab_link": true
    }
  },
  "nbformat": 4,
  "nbformat_minor": 5
}