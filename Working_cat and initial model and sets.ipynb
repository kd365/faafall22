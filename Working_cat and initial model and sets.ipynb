{
 "cells": [
  {
   "cell_type": "code",
   "execution_count": 142,
   "id": "6e958145",
   "metadata": {},
   "outputs": [],
   "source": [
    "# If you do not already have pytorch installed, first run:\n",
    "# !pip install torch\n",
    "import torch\n"
   ]
  },
  {
   "cell_type": "code",
   "execution_count": 143,
   "id": "d11fa492",
   "metadata": {},
   "outputs": [],
   "source": [
    "from torch.utils.data import Dataset, DataLoader\n",
    "\n",
    "\n",
    "class TabularDataset(Dataset):\n",
    "  def __init__(self, data, cat_cols=None, output_col=None):\n",
    "    \"\"\"\n",
    "    Characterizes a Dataset for PyTorch\n",
    "\n",
    "    Parameters\n",
    "    ----------\n",
    "\n",
    "    data: pandas data frame\n",
    "      The data frame object for the input data. It must\n",
    "      contain all the continuous, categorical and the\n",
    "      output columns to be used.\n",
    "\n",
    "    cat_cols: List of strings\n",
    "      The names of the categorical columns in the data.\n",
    "      These columns will be passed through the embedding\n",
    "      layers in the model. These columns must be\n",
    "      label encoded beforehand. \n",
    "\n",
    "    output_col: string\n",
    "      The name of the output variable column in the data\n",
    "      provided.\n",
    "    \"\"\"\n",
    "\n",
    "    self.n = data.shape[0]\n",
    "\n",
    "    if output_col:\n",
    "      self.y = data[output_col].astype(np.float32).values.reshape(-1, 1)\n",
    "    else:\n",
    "      self.y =  np.zeros((self.n, 1))\n",
    "\n",
    "    self.cat_cols = cat_cols if cat_cols else []\n",
    "    self.cont_cols = [col for col in data.columns\n",
    "                      if col not in self.cat_cols + [output_col]]\n",
    "\n",
    "    if self.cont_cols:\n",
    "      self.cont_X = data[self.cont_cols].astype(np.float32).values\n",
    "    else:\n",
    "      self.cont_X = np.zeros((self.n, 1))\n",
    "\n",
    "    if self.cat_cols:\n",
    "      self.cat_X = data[cat_cols].astype(np.int64).values\n",
    "    else:\n",
    "      self.cat_X =  np.zeros((self.n, 1))\n",
    "\n",
    "  def __len__(self):\n",
    "    \"\"\"\n",
    "    Denotes the total number of samples.\n",
    "    \"\"\"\n",
    "    return self.n\n",
    "\n",
    "  def __getitem__(self, idx):\n",
    "    \"\"\"\n",
    "    Generates one sample of data.\n",
    "    \"\"\"\n",
    "    return [self.y[idx], self.cont_X[idx], self.cat_X[idx]]"
   ]
  },
  {
   "cell_type": "code",
   "execution_count": 144,
   "id": "63262f8c",
   "metadata": {},
   "outputs": [],
   "source": [
    "import torch\n",
    "import torch.nn as nn\n",
    "import torch.nn.functional as F\n",
    "\n",
    "\n",
    "class FeedForwardNN(nn.Module):\n",
    "\n",
    "  def __init__(self, emb_dims, no_of_cont, lin_layer_sizes,\n",
    "               output_size, emb_dropout, lin_layer_dropouts):\n",
    "\n",
    "    \"\"\"\n",
    "    Parameters\n",
    "    ----------\n",
    "\n",
    "    emb_dims: List of two element tuples\n",
    "      This list will contain a two element tuple for each\n",
    "      categorical feature. The first element of a tuple will\n",
    "      denote the number of unique values of the categorical\n",
    "      feature. The second element will denote the embedding\n",
    "      dimension to be used for that feature.\n",
    "\n",
    "    no_of_cont: Integer\n",
    "      The number of continuous features in the data.\n",
    "\n",
    "    lin_layer_sizes: List of integers.\n",
    "      The size of each linear layer. The length will be equal\n",
    "      to the total number\n",
    "      of linear layers in the network.\n",
    "\n",
    "    output_size: Integer\n",
    "      The size of the final output.\n",
    "\n",
    "    emb_dropout: Float\n",
    "      The dropout to be used after the embedding layers.\n",
    "\n",
    "    lin_layer_dropouts: List of floats\n",
    "      The dropouts to be used after each linear layer.\n",
    "    \"\"\"\n",
    "\n",
    "    super().__init__()\n",
    "\n",
    "    # Embedding layers\n",
    "    self.emb_layers = nn.ModuleList([nn.Embedding(x, y)\n",
    "                                     for x, y in emb_dims])\n",
    "\n",
    "    no_of_embs = sum([y for x, y in emb_dims])\n",
    "    self.no_of_embs = no_of_embs\n",
    "    self.no_of_cont = no_of_cont\n",
    "\n",
    "    # Linear Layers\n",
    "    first_lin_layer = nn.Linear(self.no_of_embs + self.no_of_cont,\n",
    "                                lin_layer_sizes[0])\n",
    "\n",
    "    self.lin_layers =\\\n",
    "     nn.ModuleList([first_lin_layer] +\\\n",
    "          [nn.Linear(lin_layer_sizes[i], lin_layer_sizes[i + 1])\n",
    "           for i in range(len(lin_layer_sizes) - 1)])\n",
    "    \n",
    "    for lin_layer in self.lin_layers:\n",
    "      nn.init.kaiming_normal_(lin_layer.weight.data)\n",
    "\n",
    "    # Output Layer\n",
    "    self.output_layer = nn.Linear(lin_layer_sizes[-1],\n",
    "                                  output_size)\n",
    "    nn.init.kaiming_normal_(self.output_layer.weight.data)\n",
    "\n",
    "    # Batch Norm Layers\n",
    "    self.first_bn_layer = nn.BatchNorm1d(self.no_of_cont)\n",
    "    self.bn_layers = nn.ModuleList([nn.BatchNorm1d(size)\n",
    "                                    for size in lin_layer_sizes])\n",
    "\n",
    "    # Dropout Layers\n",
    "    self.emb_dropout_layer = nn.Dropout(emb_dropout)\n",
    "    self.droput_layers = nn.ModuleList([nn.Dropout(size)\n",
    "                                  for size in lin_layer_dropouts])\n",
    "\n",
    "  def forward(self, cont_data, cat_data):\n",
    "\n",
    "    if self.no_of_embs != 0:\n",
    "      x = [emb_layer(cat_data[:, i])\n",
    "           for i,emb_layer in enumerate(self.emb_layers)]\n",
    "      x = torch.cat(x, 1)\n",
    "      x = self.emb_dropout_layer(x)\n",
    "\n",
    "    if self.no_of_cont != 0:\n",
    "      normalized_cont_data = self.first_bn_layer(cont_data)\n",
    "\n",
    "      if self.no_of_embs != 0:\n",
    "        x = torch.cat([x, normalized_cont_data], 1) \n",
    "      else:\n",
    "        x = normalized_cont_data\n",
    "\n",
    "    for lin_layer, dropout_layer, bn_layer in\\\n",
    "        zip(self.lin_layers, self.droput_layers, self.bn_layers):\n",
    "      \n",
    "      x = F.relu(lin_layer(x))\n",
    "      x = bn_layer(x)\n",
    "      x = dropout_layer(x)\n",
    "\n",
    "    x = self.output_layer(x)\n",
    "\n",
    "    return x"
   ]
  },
  {
   "cell_type": "code",
   "execution_count": 146,
   "id": "d57366c9",
   "metadata": {},
   "outputs": [],
   "source": [
    "\n",
    "import pandas as pd\n",
    "import numpy as np\n"
   ]
  },
  {
   "cell_type": "code",
   "execution_count": 145,
   "id": "d5b82bc8",
   "metadata": {},
   "outputs": [
    {
     "name": "stdout",
     "output_type": "stream",
     "text": [
      "(39286, 85)\n",
      "(39286,)\n",
      "(4910, 85)\n",
      "(4910,)\n",
      "(4912, 85)\n",
      "(4912,)\n"
     ]
    },
    {
     "data": {
      "text/plain": [
       "(None, None)"
      ]
     },
     "execution_count": 145,
     "metadata": {},
     "output_type": "execute_result"
    }
   ],
   "source": []
  },
  {
   "cell_type": "code",
   "execution_count": 84,
   "id": "4513a721",
   "metadata": {},
   "outputs": [
    {
     "name": "stdout",
     "output_type": "stream",
     "text": [
      "Requirement already satisfied: fast_ml in /Users/kathleenhill/opt/anaconda3/lib/python3.8/site-packages (3.68)\n",
      "Note: you may need to restart the kernel to use updated packages.\n"
     ]
    }
   ],
   "source": [
    "#pip install fast_ml"
   ]
  },
  {
   "cell_type": "code",
   "execution_count": 85,
   "id": "98838804",
   "metadata": {},
   "outputs": [
    {
     "name": "stdout",
     "output_type": "stream",
     "text": [
      "(39286, 85)\n",
      "(39286,)\n",
      "(4910, 85)\n",
      "(4910,)\n",
      "(4912, 85)\n",
      "(4912,)\n"
     ]
    },
    {
     "data": {
      "text/plain": [
       "(None, None)"
      ]
     },
     "execution_count": 85,
     "metadata": {},
     "output_type": "execute_result"
    }
   ],
   "source": [
    "#Splitting the dataset randomly\n",
    "#from fast_ml.model_development import train_valid_test_split\n",
    "\n",
    "#X_train2, y_train2, X_valid2, y_valid2, X_test2, y_test2 = train_valid_test_split(df, target = 'target', \n",
    "#                                                                            method='sorted', sort_by_col='ev_date',\n",
    "#                                                                            train_size=0.8, valid_size=0.1, test_size=0.1)\n",
    "\n",
    "#print(X_train2.shape), print(y_train2.shape)\n",
    "#print(X_valid2.shape), print(y_valid2.shape)\n",
    "#print(X_test2.shape), print(y_test2.shape)"
   ]
  },
  {
   "cell_type": "code",
   "execution_count": 123,
   "id": "78ec4f14",
   "metadata": {},
   "outputs": [
    {
     "data": {
      "text/plain": [
       "Index(['Unnamed: 0', 'aircraft_ev_id', 'far_part', 'flight_plan_activated',\n",
       "       'damage', 'acft_make', 'acft_model', 'cert_max_gr_wt', 'num_eng',\n",
       "       'type_last_insp', 'date_last_insp', 'afm_hrs_last_insp', 'afm_hrs',\n",
       "       'type_fly', 'dprt_apt_id', 'dprt_city', 'dprt_state', 'dprt_time',\n",
       "       'dest_same_local', 'dest_apt_id', 'dest_city', 'dest_state',\n",
       "       'phase_flt_spec', 'afm_hrs_since', 'rwy_num', 'rwy_len', 'rwy_width',\n",
       "       'ifr_equipped_cert', 'eng_no', 'eng_type', 'eng_mfgr', 'hp_or_lbs',\n",
       "       'carb_fuel_injection', 'eng_time_total', 'eng_time_last_insp',\n",
       "       'ntsb_no', 'ev_type', 'ev_date', 'ev_dow', 'ev_time', 'ev_city',\n",
       "       'ev_state', 'ev_year', 'ev_month', 'latitude', 'longitude', 'apt_name',\n",
       "       'apt_dist', 'apt_dir', 'apt_elev', 'wx_src_iic', 'wx_obs_time',\n",
       "       'wx_obs_dir', 'wx_obs_fac_id', 'wx_obs_elev', 'wx_obs_dist',\n",
       "       'light_cond', 'sky_cond_nonceil', 'sky_nonceil_ht', 'sky_ceil_ht',\n",
       "       'sky_cond_ceil', 'vis_rvr', 'vis_sm', 'wx_temp', 'wx_dew_pt',\n",
       "       'wind_dir_deg', 'wind_dir_ind', 'wind_vel_kts', 'wind_vel_ind',\n",
       "       'gust_ind', 'gust_kts', 'altimeter', 'wx_dens_alt', 'wx_int_precip',\n",
       "       'ev_highest_injury', 'inj_tot_t', 'wx_cond_basic', 'crew_no',\n",
       "       'crew_category', 'crew_age', 'crew_sex', 'med_certf', 'pilot_flying',\n",
       "       'crew_inj_level', 'secondary_eng_mfgr', 'target'],\n",
       "      dtype='object')"
      ]
     },
     "execution_count": 123,
     "metadata": {},
     "output_type": "execute_result"
    }
   ],
   "source": [
    "df.columns"
   ]
  },
  {
   "cell_type": "code",
   "execution_count": 87,
   "id": "00c7eb3b",
   "metadata": {},
   "outputs": [],
   "source": [
    "categorical_columns = ['flight_plan_activated', 'damage', 'acft_make', 'acft_model', 'cert_max_gr_wt', 'type_last_insp', 'type_fly', 'dprt_apt_id', 'dprt_city', 'dprt_state', \n",
    "                       'phase_flt_spec', 'afm_hrs_since', 'rwy_num', 'ifr_equipped_cert', 'eng_type', 'eng_mfgr', 'hp_or_lbs','carb_fuel_injection', 'ev_dow','ev_time','rwy_len', 'rwy_width', 'ev_state', 'ev_year', 'ev_month', 'latitude', \n",
    "                       'longitude', 'apt_name','wx_src_iic','wx_obs_fac_id','light_cond', 'sky_cond_nonceil','sky_cond_ceil','wind_dir_ind','wind_vel_ind',\n",
    "                       'gust_ind', 'wx_int_precip','wx_cond_basic','pilot_flying']\n",
    "                       \n",
    "                       "
   ]
  },
  {
   "cell_type": "code",
   "execution_count": 147,
   "id": "aa2d6c02",
   "metadata": {},
   "outputs": [
    {
     "data": {
      "text/plain": [
       "Unnamed: 0                        int64\n",
       "aircraft_ev_id                   object\n",
       "far_part                          int64\n",
       "flight_plan_activated            object\n",
       "damage                           object\n",
       "acft_make                        object\n",
       "acft_model                       object\n",
       "cert_max_gr_wt                   object\n",
       "num_eng                           int64\n",
       "type_last_insp                   object\n",
       "date_last_insp                   object\n",
       "afm_hrs_last_insp               float64\n",
       "afm_hrs                           int64\n",
       "type_fly                         object\n",
       "dprt_apt_id                      object\n",
       "dprt_city                        object\n",
       "dprt_state                       object\n",
       "dprt_time                        object\n",
       "dest_same_local                  object\n",
       "dest_apt_id                      object\n",
       "dest_city                        object\n",
       "dest_state                       object\n",
       "phase_flt_spec                  float64\n",
       "afm_hrs_since                    object\n",
       "rwy_num                          object\n",
       "rwy_len                         float64\n",
       "rwy_width                       float64\n",
       "ifr_equipped_cert                  bool\n",
       "eng_no                          float64\n",
       "eng_type                         object\n",
       "eng_mfgr                         object\n",
       "hp_or_lbs                        object\n",
       "carb_fuel_injection              object\n",
       "eng_time_total                  float64\n",
       "eng_time_last_insp              float64\n",
       "ntsb_no                          object\n",
       "ev_type                          object\n",
       "ev_date                  datetime64[ns]\n",
       "ev_dow                           object\n",
       "ev_time                         float64\n",
       "ev_city                          object\n",
       "ev_state                         object\n",
       "ev_year                           int64\n",
       "ev_month                          int64\n",
       "latitude                         object\n",
       "longitude                        object\n",
       "apt_name                         object\n",
       "apt_dist                        float64\n",
       "apt_dir                         float64\n",
       "apt_elev                        float64\n",
       "wx_src_iic                       object\n",
       "wx_obs_time                     float64\n",
       "wx_obs_dir                      float64\n",
       "wx_obs_fac_id                    object\n",
       "wx_obs_elev                     float64\n",
       "wx_obs_dist                     float64\n",
       "light_cond                       object\n",
       "sky_cond_nonceil                 object\n",
       "sky_nonceil_ht                  float64\n",
       "sky_ceil_ht                     float64\n",
       "sky_cond_ceil                    object\n",
       "vis_rvr                         float64\n",
       "vis_sm                          float64\n",
       "wx_temp                         float64\n",
       "wx_dew_pt                       float64\n",
       "wind_dir_deg                    float64\n",
       "wind_dir_ind                     object\n",
       "wind_vel_kts                    float64\n",
       "wind_vel_ind                     object\n",
       "gust_ind                         object\n",
       "gust_kts                        float64\n",
       "altimeter                       float64\n",
       "wx_dens_alt                     float64\n",
       "wx_int_precip                    object\n",
       "ev_highest_injury                object\n",
       "inj_tot_t                       float64\n",
       "wx_cond_basic                    object\n",
       "crew_no                         float64\n",
       "crew_category                    object\n",
       "crew_age                        float64\n",
       "crew_sex                         object\n",
       "med_certf                        object\n",
       "pilot_flying                     object\n",
       "crew_inj_level                   object\n",
       "secondary_eng_mfgr              float64\n",
       "target                            int64\n",
       "dtype: object"
      ]
     },
     "execution_count": 147,
     "metadata": {},
     "output_type": "execute_result"
    }
   ],
   "source": [
    "pd.set_option('display.max_rows', 100)\n",
    "df.dtypes"
   ]
  },
  {
   "cell_type": "code",
   "execution_count": 88,
   "id": "d86ea9af",
   "metadata": {},
   "outputs": [],
   "source": [
    "numerical_columns = ['afm_hrs_last_insp', 'afm_hrs', 'eng_no', 'eng_time_total', 'eng_time_last_insp', 'apt_dist', 'apt_dir', \n",
    "                     'wx_obs_time', 'wx_obs_dir', 'wx_obs_elev', 'wx_obs_dist', 'sky_nonceil_ht', 'sky_ceil_ht', 'vis_rvr', 'vis_sm', 'wx_temp', 'wx_dew_pt',\n",
    "                   'wind_dir_deg','wind_vel_kts','gust_kts', 'altimeter', 'wx_dens_alt']\n",
    "                     "
   ]
  },
  {
   "cell_type": "code",
   "execution_count": 89,
   "id": "99415ad7",
   "metadata": {},
   "outputs": [],
   "source": [
    "outputs = ['target']"
   ]
  },
  {
   "cell_type": "code",
   "execution_count": 139,
   "id": "bb555460",
   "metadata": {},
   "outputs": [
    {
     "data": {
      "text/plain": [
       "Unnamed: 0                        int64\n",
       "aircraft_ev_id                   object\n",
       "far_part                          int64\n",
       "flight_plan_activated            object\n",
       "damage                           object\n",
       "acft_make                        object\n",
       "acft_model                       object\n",
       "cert_max_gr_wt                   object\n",
       "num_eng                           int64\n",
       "type_last_insp                   object\n",
       "date_last_insp                   object\n",
       "afm_hrs_last_insp               float64\n",
       "afm_hrs                           int64\n",
       "type_fly                         object\n",
       "dprt_apt_id                      object\n",
       "dprt_city                        object\n",
       "dprt_state                       object\n",
       "dprt_time                        object\n",
       "dest_same_local                  object\n",
       "dest_apt_id                      object\n",
       "dest_city                        object\n",
       "dest_state                       object\n",
       "phase_flt_spec                  float64\n",
       "afm_hrs_since                    object\n",
       "rwy_num                          object\n",
       "rwy_len                         float64\n",
       "rwy_width                       float64\n",
       "ifr_equipped_cert                  bool\n",
       "eng_no                          float64\n",
       "eng_type                         object\n",
       "eng_mfgr                         object\n",
       "hp_or_lbs                        object\n",
       "carb_fuel_injection              object\n",
       "eng_time_total                  float64\n",
       "eng_time_last_insp              float64\n",
       "ntsb_no                          object\n",
       "ev_type                          object\n",
       "ev_date                  datetime64[ns]\n",
       "ev_dow                           object\n",
       "ev_time                         float64\n",
       "ev_city                          object\n",
       "ev_state                         object\n",
       "ev_year                           int64\n",
       "ev_month                          int64\n",
       "latitude                         object\n",
       "longitude                        object\n",
       "apt_name                         object\n",
       "apt_dist                        float64\n",
       "apt_dir                         float64\n",
       "apt_elev                        float64\n",
       "wx_src_iic                       object\n",
       "wx_obs_time                     float64\n",
       "wx_obs_dir                      float64\n",
       "wx_obs_fac_id                    object\n",
       "wx_obs_elev                     float64\n",
       "wx_obs_dist                     float64\n",
       "light_cond                       object\n",
       "sky_cond_nonceil                 object\n",
       "sky_nonceil_ht                  float64\n",
       "sky_ceil_ht                     float64\n",
       "sky_cond_ceil                    object\n",
       "vis_rvr                         float64\n",
       "vis_sm                          float64\n",
       "wx_temp                         float64\n",
       "wx_dew_pt                       float64\n",
       "wind_dir_deg                    float64\n",
       "wind_dir_ind                     object\n",
       "wind_vel_kts                    float64\n",
       "wind_vel_ind                     object\n",
       "gust_ind                         object\n",
       "gust_kts                        float64\n",
       "altimeter                       float64\n",
       "wx_dens_alt                     float64\n",
       "wx_int_precip                    object\n",
       "ev_highest_injury                object\n",
       "inj_tot_t                       float64\n",
       "wx_cond_basic                    object\n",
       "crew_no                         float64\n",
       "crew_category                    object\n",
       "crew_age                        float64\n",
       "crew_sex                         object\n",
       "med_certf                        object\n",
       "pilot_flying                     object\n",
       "crew_inj_level                   object\n",
       "secondary_eng_mfgr              float64\n",
       "target                            int64\n",
       "dtype: object"
      ]
     },
     "execution_count": 139,
     "metadata": {},
     "output_type": "execute_result"
    }
   ],
   "source": [
    "df = pd.read_csv('labeled_clean_ntsb.csv', parse_dates=['ev_date'], low_memory=False)\n",
    "pd.set_option('display.max_rows', 100)\n",
    "df.dtypes"
   ]
  },
  {
   "cell_type": "code",
   "execution_count": 157,
   "id": "a7ff06e0",
   "metadata": {},
   "outputs": [],
   "source": [
    "#Dropping columns. wx_obs_fac_id used for joining with weather data, needed for analysis? last two for class, not needed for model?\n",
    "df = df.drop(['far_part', 'date_last_insp', 'dest_same_local', 'dest_apt_id', 'dest_city',  'dest_state',  \n",
    "              'phase_flt_spec',  'eng_time_last_insp', 'ev_time',  'apt_dist',  'apt_dir',  'apt_name', \n",
    "              'wx_obs_dir', 'wx_obs_fac_id', 'wx_obs_elev','wx_obs_dist', 'ev_highest_injury', 'inj_tot_t', \n",
    "              'crew_inj_level','flight_plan_activated'], axis=1)"
   ]
  },
  {
   "cell_type": "code",
   "execution_count": 158,
   "id": "c77ced69",
   "metadata": {},
   "outputs": [
    {
     "data": {
      "text/plain": [
       "Unnamed: 0                      int64\n",
       "aircraft_ev_id                 object\n",
       "damage                         object\n",
       "acft_make                      object\n",
       "acft_model                     object\n",
       "cert_max_gr_wt                 object\n",
       "num_eng                         int64\n",
       "type_last_insp                 object\n",
       "afm_hrs_last_insp             float64\n",
       "afm_hrs                         int64\n",
       "type_fly                       object\n",
       "dprt_apt_id                    object\n",
       "dprt_city                      object\n",
       "dprt_state                     object\n",
       "dprt_time                      object\n",
       "afm_hrs_since                  object\n",
       "rwy_num                        object\n",
       "rwy_len                       float64\n",
       "rwy_width                     float64\n",
       "ifr_equipped_cert                bool\n",
       "eng_no                        float64\n",
       "eng_type                       object\n",
       "eng_mfgr                       object\n",
       "hp_or_lbs                      object\n",
       "carb_fuel_injection            object\n",
       "eng_time_total                float64\n",
       "ntsb_no                        object\n",
       "ev_type                        object\n",
       "ev_date                datetime64[ns]\n",
       "ev_dow                         object\n",
       "ev_city                        object\n",
       "ev_state                       object\n",
       "ev_year                         int64\n",
       "ev_month                        int64\n",
       "latitude                       object\n",
       "longitude                      object\n",
       "apt_elev                      float64\n",
       "wx_src_iic                     object\n",
       "wx_obs_time                   float64\n",
       "light_cond                     object\n",
       "sky_cond_nonceil               object\n",
       "sky_nonceil_ht                float64\n",
       "sky_ceil_ht                   float64\n",
       "sky_cond_ceil                  object\n",
       "vis_rvr                       float64\n",
       "vis_sm                        float64\n",
       "wx_temp                       float64\n",
       "wx_dew_pt                     float64\n",
       "wind_dir_deg                  float64\n",
       "wind_dir_ind                   object\n",
       "wind_vel_kts                  float64\n",
       "wind_vel_ind                   object\n",
       "gust_ind                       object\n",
       "gust_kts                      float64\n",
       "altimeter                     float64\n",
       "wx_dens_alt                   float64\n",
       "wx_int_precip                  object\n",
       "wx_cond_basic                  object\n",
       "crew_no                       float64\n",
       "crew_category                  object\n",
       "crew_age                      float64\n",
       "crew_sex                       object\n",
       "med_certf                      object\n",
       "pilot_flying                   object\n",
       "secondary_eng_mfgr            float64\n",
       "target                          int64\n",
       "dtype: object"
      ]
     },
     "execution_count": 158,
     "metadata": {},
     "output_type": "execute_result"
    }
   ],
   "source": [
    "df.dtypes"
   ]
  },
  {
   "cell_type": "code",
   "execution_count": 163,
   "id": "e764841f",
   "metadata": {},
   "outputs": [
    {
     "ename": "KeyError",
     "evalue": "\"Only a column name can be used for the key in a dtype mappings argument. 'phase_flt_spec' not found in columns.\"",
     "output_type": "error",
     "traceback": [
      "\u001b[0;31m---------------------------------------------------------------------------\u001b[0m",
      "\u001b[0;31mKeyError\u001b[0m                                  Traceback (most recent call last)",
      "Cell \u001b[0;32mIn[163], line 2\u001b[0m\n\u001b[1;32m      1\u001b[0m \u001b[38;5;66;03m# Correcting floats to integer data types, and dropping any rows with NA in these colums\u001b[39;00m\n\u001b[0;32m----> 2\u001b[0m df2_formatted \u001b[38;5;241m=\u001b[39m \u001b[43mdf\u001b[49m\u001b[38;5;241;43m.\u001b[39;49m\u001b[43mastype\u001b[49m\u001b[43m(\u001b[49m\u001b[43m{\u001b[49m\u001b[38;5;124;43m\"\u001b[39;49m\u001b[38;5;124;43mafm_hrs_last_insp\u001b[39;49m\u001b[38;5;124;43m\"\u001b[39;49m\u001b[43m:\u001b[49m\u001b[38;5;124;43m'\u001b[39;49m\u001b[38;5;124;43mint64\u001b[39;49m\u001b[38;5;124;43m'\u001b[39;49m\u001b[43m,\u001b[49m\u001b[43m \u001b[49m\n\u001b[1;32m      3\u001b[0m \u001b[43m                \u001b[49m\u001b[38;5;124;43m\"\u001b[39;49m\u001b[38;5;124;43mphase_flt_spec\u001b[39;49m\u001b[38;5;124;43m\"\u001b[39;49m\u001b[43m:\u001b[49m\u001b[38;5;124;43m'\u001b[39;49m\u001b[38;5;124;43mint64\u001b[39;49m\u001b[38;5;124;43m'\u001b[39;49m\u001b[43m,\u001b[49m\u001b[43m \u001b[49m\u001b[38;5;124;43m\"\u001b[39;49m\u001b[38;5;124;43mrwy_len\u001b[39;49m\u001b[38;5;124;43m\"\u001b[39;49m\u001b[43m:\u001b[49m\u001b[38;5;124;43m'\u001b[39;49m\u001b[38;5;124;43mcategory\u001b[39;49m\u001b[38;5;124;43m'\u001b[39;49m\u001b[43m,\u001b[49m\u001b[43m \u001b[49m\n\u001b[1;32m      4\u001b[0m \u001b[43m                \u001b[49m\u001b[38;5;124;43m\"\u001b[39;49m\u001b[38;5;124;43mrwy_width\u001b[39;49m\u001b[38;5;124;43m\"\u001b[39;49m\u001b[43m:\u001b[49m\u001b[38;5;124;43m'\u001b[39;49m\u001b[38;5;124;43mcategory\u001b[39;49m\u001b[38;5;124;43m'\u001b[39;49m\u001b[43m,\u001b[49m\u001b[43m \u001b[49m\u001b[38;5;124;43m\"\u001b[39;49m\u001b[38;5;124;43meng_no\u001b[39;49m\u001b[38;5;124;43m\"\u001b[39;49m\u001b[43m:\u001b[49m\u001b[38;5;124;43m'\u001b[39;49m\u001b[38;5;124;43mint64\u001b[39;49m\u001b[38;5;124;43m'\u001b[39;49m\u001b[43m,\u001b[49m\u001b[43m \u001b[49m\u001b[38;5;124;43m\"\u001b[39;49m\u001b[38;5;124;43meng_time_total\u001b[39;49m\u001b[38;5;124;43m\"\u001b[39;49m\u001b[43m:\u001b[49m\u001b[38;5;124;43m'\u001b[39;49m\u001b[38;5;124;43mint64\u001b[39;49m\u001b[38;5;124;43m'\u001b[39;49m\u001b[43m,\u001b[49m\u001b[43m \u001b[49m\n\u001b[1;32m      5\u001b[0m \u001b[43m                \u001b[49m\u001b[38;5;124;43m\"\u001b[39;49m\u001b[38;5;124;43meng_time_last_insp\u001b[39;49m\u001b[38;5;124;43m\"\u001b[39;49m\u001b[43m:\u001b[49m\u001b[38;5;124;43m'\u001b[39;49m\u001b[38;5;124;43mint64\u001b[39;49m\u001b[38;5;124;43m'\u001b[39;49m\u001b[43m,\u001b[49m\u001b[43m \u001b[49m\u001b[38;5;124;43m\"\u001b[39;49m\u001b[38;5;124;43mev_time\u001b[39;49m\u001b[38;5;124;43m\"\u001b[39;49m\u001b[43m:\u001b[49m\u001b[38;5;124;43m'\u001b[39;49m\u001b[38;5;124;43mint64\u001b[39;49m\u001b[38;5;124;43m'\u001b[39;49m\u001b[43m,\u001b[49m\u001b[43m \u001b[49m\u001b[38;5;124;43m\"\u001b[39;49m\u001b[38;5;124;43mapt_dist\u001b[39;49m\u001b[38;5;124;43m\"\u001b[39;49m\u001b[43m:\u001b[49m\u001b[38;5;124;43m'\u001b[39;49m\u001b[38;5;124;43mint64\u001b[39;49m\u001b[38;5;124;43m'\u001b[39;49m\u001b[43m,\u001b[49m\u001b[43m \u001b[49m\n\u001b[1;32m      6\u001b[0m \u001b[43m                \u001b[49m\u001b[38;5;124;43m\"\u001b[39;49m\u001b[38;5;124;43mapt_dir\u001b[39;49m\u001b[38;5;124;43m\"\u001b[39;49m\u001b[43m:\u001b[49m\u001b[38;5;124;43m'\u001b[39;49m\u001b[38;5;124;43mint64\u001b[39;49m\u001b[38;5;124;43m'\u001b[39;49m\u001b[43m,\u001b[49m\u001b[43m \u001b[49m\u001b[38;5;124;43m\"\u001b[39;49m\u001b[38;5;124;43mapt_elev\u001b[39;49m\u001b[38;5;124;43m\"\u001b[39;49m\u001b[43m:\u001b[49m\u001b[38;5;124;43m'\u001b[39;49m\u001b[38;5;124;43mint64\u001b[39;49m\u001b[38;5;124;43m'\u001b[39;49m\u001b[43m,\u001b[49m\u001b[43m  \u001b[49m\u001b[38;5;124;43m\"\u001b[39;49m\u001b[38;5;124;43mwx_obs_time\u001b[39;49m\u001b[38;5;124;43m\"\u001b[39;49m\u001b[43m:\u001b[49m\u001b[38;5;124;43m'\u001b[39;49m\u001b[38;5;124;43mint64\u001b[39;49m\u001b[38;5;124;43m'\u001b[39;49m\u001b[43m,\u001b[49m\u001b[43m \u001b[49m\n\u001b[1;32m      7\u001b[0m \u001b[43m                \u001b[49m\u001b[38;5;124;43m\"\u001b[39;49m\u001b[38;5;124;43mwx_obs_dir\u001b[39;49m\u001b[38;5;124;43m\"\u001b[39;49m\u001b[43m:\u001b[49m\u001b[38;5;124;43m'\u001b[39;49m\u001b[38;5;124;43mint64\u001b[39;49m\u001b[38;5;124;43m'\u001b[39;49m\u001b[43m,\u001b[49m\u001b[43m \u001b[49m\u001b[38;5;124;43m\"\u001b[39;49m\u001b[38;5;124;43mwx_obs_elev\u001b[39;49m\u001b[38;5;124;43m\"\u001b[39;49m\u001b[43m:\u001b[49m\u001b[38;5;124;43m'\u001b[39;49m\u001b[38;5;124;43mint64\u001b[39;49m\u001b[38;5;124;43m'\u001b[39;49m\u001b[43m,\u001b[49m\u001b[43m \u001b[49m\u001b[38;5;124;43m\"\u001b[39;49m\u001b[38;5;124;43mwx_obs_dist\u001b[39;49m\u001b[38;5;124;43m\"\u001b[39;49m\u001b[43m:\u001b[49m\u001b[38;5;124;43m'\u001b[39;49m\u001b[38;5;124;43mint64\u001b[39;49m\u001b[38;5;124;43m'\u001b[39;49m\u001b[43m,\u001b[49m\u001b[43m \u001b[49m\n\u001b[1;32m      8\u001b[0m \u001b[43m                \u001b[49m\u001b[38;5;124;43m\"\u001b[39;49m\u001b[38;5;124;43msky_nonceil_ht\u001b[39;49m\u001b[38;5;124;43m\"\u001b[39;49m\u001b[43m:\u001b[49m\u001b[38;5;124;43m'\u001b[39;49m\u001b[38;5;124;43mint64\u001b[39;49m\u001b[38;5;124;43m'\u001b[39;49m\u001b[43m,\u001b[49m\u001b[43m \u001b[49m\u001b[38;5;124;43m\"\u001b[39;49m\u001b[38;5;124;43msky_ceil_ht\u001b[39;49m\u001b[38;5;124;43m\"\u001b[39;49m\u001b[43m:\u001b[49m\u001b[38;5;124;43m'\u001b[39;49m\u001b[38;5;124;43mint64\u001b[39;49m\u001b[38;5;124;43m'\u001b[39;49m\u001b[43m,\u001b[49m\u001b[43m \u001b[49m\u001b[38;5;124;43m\"\u001b[39;49m\u001b[38;5;124;43mvis_rvr\u001b[39;49m\u001b[38;5;124;43m\"\u001b[39;49m\u001b[43m:\u001b[49m\u001b[38;5;124;43m'\u001b[39;49m\u001b[38;5;124;43mint64\u001b[39;49m\u001b[38;5;124;43m'\u001b[39;49m\u001b[43m,\u001b[49m\u001b[43m \u001b[49m\n\u001b[1;32m      9\u001b[0m \u001b[43m                \u001b[49m\u001b[38;5;124;43m\"\u001b[39;49m\u001b[38;5;124;43mvis_sm\u001b[39;49m\u001b[38;5;124;43m\"\u001b[39;49m\u001b[43m:\u001b[49m\u001b[38;5;124;43m'\u001b[39;49m\u001b[38;5;124;43mint64\u001b[39;49m\u001b[38;5;124;43m'\u001b[39;49m\u001b[43m,\u001b[49m\u001b[43m \u001b[49m\u001b[38;5;124;43m\"\u001b[39;49m\u001b[38;5;124;43mwx_temp\u001b[39;49m\u001b[38;5;124;43m\"\u001b[39;49m\u001b[43m:\u001b[49m\u001b[38;5;124;43m'\u001b[39;49m\u001b[38;5;124;43mint64\u001b[39;49m\u001b[38;5;124;43m'\u001b[39;49m\u001b[43m,\u001b[49m\u001b[43m \u001b[49m\u001b[38;5;124;43m\"\u001b[39;49m\u001b[38;5;124;43mwx_dew_pt\u001b[39;49m\u001b[38;5;124;43m\"\u001b[39;49m\u001b[43m:\u001b[49m\u001b[38;5;124;43m'\u001b[39;49m\u001b[38;5;124;43mint64\u001b[39;49m\u001b[38;5;124;43m'\u001b[39;49m\u001b[43m,\u001b[49m\u001b[43m \u001b[49m\u001b[38;5;124;43m\"\u001b[39;49m\u001b[38;5;124;43mwind_dir_deg\u001b[39;49m\u001b[38;5;124;43m\"\u001b[39;49m\u001b[43m:\u001b[49m\u001b[38;5;124;43m'\u001b[39;49m\u001b[38;5;124;43mint64\u001b[39;49m\u001b[38;5;124;43m'\u001b[39;49m\u001b[43m,\u001b[49m\u001b[43m \u001b[49m\n\u001b[1;32m     10\u001b[0m \u001b[43m                \u001b[49m\u001b[38;5;124;43m\"\u001b[39;49m\u001b[38;5;124;43mwind_vel_kts\u001b[39;49m\u001b[38;5;124;43m\"\u001b[39;49m\u001b[43m:\u001b[49m\u001b[38;5;124;43m'\u001b[39;49m\u001b[38;5;124;43mint64\u001b[39;49m\u001b[38;5;124;43m'\u001b[39;49m\u001b[43m,\u001b[49m\u001b[43m \u001b[49m\u001b[38;5;124;43m\"\u001b[39;49m\u001b[38;5;124;43mgust_kts\u001b[39;49m\u001b[38;5;124;43m\"\u001b[39;49m\u001b[43m:\u001b[49m\u001b[38;5;124;43m'\u001b[39;49m\u001b[38;5;124;43mint64\u001b[39;49m\u001b[38;5;124;43m'\u001b[39;49m\u001b[43m,\u001b[49m\u001b[43m \u001b[49m\u001b[38;5;124;43m\"\u001b[39;49m\u001b[38;5;124;43maltimeter\u001b[39;49m\u001b[38;5;124;43m\"\u001b[39;49m\u001b[43m:\u001b[49m\u001b[38;5;124;43m'\u001b[39;49m\u001b[38;5;124;43mint64\u001b[39;49m\u001b[38;5;124;43m'\u001b[39;49m\u001b[43m,\u001b[49m\u001b[43m \u001b[49m\u001b[38;5;124;43m\"\u001b[39;49m\u001b[38;5;124;43mwx_dens_alt\u001b[39;49m\u001b[38;5;124;43m\"\u001b[39;49m\u001b[43m:\u001b[49m\u001b[38;5;124;43m'\u001b[39;49m\u001b[38;5;124;43mint64\u001b[39;49m\u001b[38;5;124;43m'\u001b[39;49m\u001b[43m,\u001b[49m\u001b[43m \u001b[49m\n\u001b[1;32m     11\u001b[0m \u001b[43m                \u001b[49m\u001b[38;5;124;43m\"\u001b[39;49m\u001b[38;5;124;43minj_tot_t\u001b[39;49m\u001b[38;5;124;43m\"\u001b[39;49m\u001b[43m:\u001b[49m\u001b[38;5;124;43m'\u001b[39;49m\u001b[38;5;124;43mint64\u001b[39;49m\u001b[38;5;124;43m'\u001b[39;49m\u001b[43m,\u001b[49m\u001b[43m \u001b[49m\u001b[38;5;124;43m\"\u001b[39;49m\u001b[38;5;124;43mcrew_no\u001b[39;49m\u001b[38;5;124;43m\"\u001b[39;49m\u001b[43m:\u001b[49m\u001b[38;5;124;43m'\u001b[39;49m\u001b[38;5;124;43mint64\u001b[39;49m\u001b[38;5;124;43m'\u001b[39;49m\u001b[43m,\u001b[49m\u001b[43m \u001b[49m\u001b[38;5;124;43m\"\u001b[39;49m\u001b[38;5;124;43mcrew_age\u001b[39;49m\u001b[38;5;124;43m\"\u001b[39;49m\u001b[43m:\u001b[49m\u001b[38;5;124;43m'\u001b[39;49m\u001b[38;5;124;43mint64\u001b[39;49m\u001b[38;5;124;43m'\u001b[39;49m\u001b[43m,\u001b[49m\u001b[43m \u001b[49m\u001b[38;5;124;43m\"\u001b[39;49m\u001b[38;5;124;43msecondary_eng_mfgr\u001b[39;49m\u001b[38;5;124;43m\"\u001b[39;49m\u001b[43m:\u001b[49m\u001b[38;5;124;43m'\u001b[39;49m\u001b[38;5;124;43mcategory\u001b[39;49m\u001b[38;5;124;43m'\u001b[39;49m\u001b[43m}\u001b[49m\u001b[43m)\u001b[49m\n",
      "File \u001b[0;32m~/opt/anaconda3/lib/python3.8/site-packages/pandas/core/generic.py:6212\u001b[0m, in \u001b[0;36mNDFrame.astype\u001b[0;34m(self, dtype, copy, errors)\u001b[0m\n\u001b[1;32m   6210\u001b[0m \u001b[38;5;28;01mfor\u001b[39;00m col_name \u001b[38;5;129;01min\u001b[39;00m dtype_ser\u001b[38;5;241m.\u001b[39mindex:\n\u001b[1;32m   6211\u001b[0m     \u001b[38;5;28;01mif\u001b[39;00m col_name \u001b[38;5;129;01mnot\u001b[39;00m \u001b[38;5;129;01min\u001b[39;00m \u001b[38;5;28mself\u001b[39m:\n\u001b[0;32m-> 6212\u001b[0m         \u001b[38;5;28;01mraise\u001b[39;00m \u001b[38;5;167;01mKeyError\u001b[39;00m(\n\u001b[1;32m   6213\u001b[0m             \u001b[38;5;124m\"\u001b[39m\u001b[38;5;124mOnly a column name can be used for the \u001b[39m\u001b[38;5;124m\"\u001b[39m\n\u001b[1;32m   6214\u001b[0m             \u001b[38;5;124m\"\u001b[39m\u001b[38;5;124mkey in a dtype mappings argument. \u001b[39m\u001b[38;5;124m\"\u001b[39m\n\u001b[1;32m   6215\u001b[0m             \u001b[38;5;124mf\u001b[39m\u001b[38;5;124m\"\u001b[39m\u001b[38;5;124m'\u001b[39m\u001b[38;5;132;01m{\u001b[39;00mcol_name\u001b[38;5;132;01m}\u001b[39;00m\u001b[38;5;124m'\u001b[39m\u001b[38;5;124m not found in columns.\u001b[39m\u001b[38;5;124m\"\u001b[39m\n\u001b[1;32m   6216\u001b[0m         )\n\u001b[1;32m   6218\u001b[0m dtype_ser \u001b[38;5;241m=\u001b[39m dtype_ser\u001b[38;5;241m.\u001b[39mreindex(\u001b[38;5;28mself\u001b[39m\u001b[38;5;241m.\u001b[39mcolumns, fill_value\u001b[38;5;241m=\u001b[39m\u001b[38;5;28;01mNone\u001b[39;00m, copy\u001b[38;5;241m=\u001b[39m\u001b[38;5;28;01mFalse\u001b[39;00m)\n\u001b[1;32m   6220\u001b[0m results \u001b[38;5;241m=\u001b[39m []\n",
      "\u001b[0;31mKeyError\u001b[0m: \"Only a column name can be used for the key in a dtype mappings argument. 'phase_flt_spec' not found in columns.\""
     ]
    }
   ],
   "source": [
    "# Correcting floats to integer data types, and dropping any rows with NA in these colums\n",
    "df2_formatted = df.astype({\"afm_hrs_last_insp\":'int64', \n",
    "                \"phase_flt_spec\":'int64', \"rwy_len\":'category', \n",
    "                \"rwy_width\":'category', \"eng_no\":'int64', \"eng_time_total\":'int64', \n",
    "                \"eng_time_last_insp\":'int64', \"ev_time\":'int64', \"apt_dist\":'int64', \n",
    "                \"apt_dir\":'int64', \"apt_elev\":'int64',  \"wx_obs_time\":'int64', \n",
    "                \"wx_obs_dir\":'int64', \"wx_obs_elev\":'int64', \"wx_obs_dist\":'int64', \n",
    "                \"sky_nonceil_ht\":'int64', \"sky_ceil_ht\":'int64', \"vis_rvr\":'int64', \n",
    "                \"vis_sm\":'int64', \"wx_temp\":'int64', \"wx_dew_pt\":'int64', \"wind_dir_deg\":'int64', \n",
    "                \"wind_vel_kts\":'int64', \"gust_kts\":'int64', \"altimeter\":'int64', \"wx_dens_alt\":'int64', \n",
    "                \"inj_tot_t\":'int64', \"crew_no\":'int64', \"crew_age\":'int64', \"secondary_eng_mfgr\":'category'})\n"
   ]
  },
  {
   "cell_type": "code",
   "execution_count": 159,
   "id": "3f014040",
   "metadata": {},
   "outputs": [
    {
     "data": {
      "text/plain": [
       "Unnamed: 0                 0\n",
       "aircraft_ev_id             0\n",
       "damage                     0\n",
       "acft_make                  0\n",
       "acft_model                 0\n",
       "cert_max_gr_wt             0\n",
       "num_eng                    0\n",
       "type_last_insp             0\n",
       "afm_hrs_last_insp      11578\n",
       "afm_hrs                    0\n",
       "type_fly                   0\n",
       "dprt_apt_id            11991\n",
       "dprt_city              11809\n",
       "dprt_state             11254\n",
       "dprt_time               4135\n",
       "afm_hrs_since          32668\n",
       "rwy_num                 7580\n",
       "rwy_len                23148\n",
       "rwy_width              24450\n",
       "ifr_equipped_cert          0\n",
       "eng_no                   706\n",
       "eng_type                1726\n",
       "eng_mfgr                1747\n",
       "hp_or_lbs               2702\n",
       "carb_fuel_injection     5987\n",
       "eng_time_total         46841\n",
       "ntsb_no                    0\n",
       "ev_type                    0\n",
       "ev_date                    0\n",
       "ev_dow                     0\n",
       "ev_city                    2\n",
       "ev_state                  32\n",
       "ev_year                    0\n",
       "ev_month                   0\n",
       "latitude               33088\n",
       "longitude              33086\n",
       "apt_elev               14891\n",
       "wx_src_iic               227\n",
       "wx_obs_time             1728\n",
       "light_cond                77\n",
       "sky_cond_nonceil        2182\n",
       "sky_nonceil_ht          5353\n",
       "sky_ceil_ht             5656\n",
       "sky_cond_ceil            810\n",
       "vis_rvr                17064\n",
       "vis_sm                   252\n",
       "wx_temp                 3099\n",
       "wx_dew_pt              10121\n",
       "wind_dir_deg            1268\n",
       "wind_dir_ind             613\n",
       "wind_vel_kts            2703\n",
       "wind_vel_ind               0\n",
       "gust_ind                  18\n",
       "gust_kts                6002\n",
       "altimeter               9962\n",
       "wx_dens_alt            35640\n",
       "wx_int_precip              0\n",
       "wx_cond_basic              0\n",
       "crew_no                40511\n",
       "crew_category          40573\n",
       "crew_age               40815\n",
       "crew_sex               42700\n",
       "med_certf              40860\n",
       "pilot_flying             670\n",
       "secondary_eng_mfgr     49108\n",
       "target                     0\n",
       "dtype: int64"
      ]
     },
     "execution_count": 159,
     "metadata": {},
     "output_type": "execute_result"
    }
   ],
   "source": [
    "df.isna().sum()                      "
   ]
  },
  {
   "cell_type": "code",
   "execution_count": 148,
   "id": "928c68f8",
   "metadata": {},
   "outputs": [],
   "source": [
    "import pandas as pd\n",
    "import numpy as np\n",
    "import matplotlib.pyplot as plt\n",
    "from sklearn.cluster import KMeans\n",
    "import seaborn as sns; sns.set()\n"
   ]
  },
  {
   "cell_type": "code",
   "execution_count": 77,
   "id": "9657bcd2",
   "metadata": {},
   "outputs": [],
   "source": []
  },
  {
   "cell_type": "code",
   "execution_count": 98,
   "id": "926d76c9",
   "metadata": {},
   "outputs": [
    {
     "data": {
      "text/html": [
       "<div>\n",
       "<style scoped>\n",
       "    .dataframe tbody tr th:only-of-type {\n",
       "        vertical-align: middle;\n",
       "    }\n",
       "\n",
       "    .dataframe tbody tr th {\n",
       "        vertical-align: top;\n",
       "    }\n",
       "\n",
       "    .dataframe thead th {\n",
       "        text-align: right;\n",
       "    }\n",
       "</style>\n",
       "<table border=\"1\" class=\"dataframe\">\n",
       "  <thead>\n",
       "    <tr style=\"text-align: right;\">\n",
       "      <th></th>\n",
       "      <th>aircraft_ev_id</th>\n",
       "      <th>latitude</th>\n",
       "      <th>longitude</th>\n",
       "    </tr>\n",
       "  </thead>\n",
       "  <tbody>\n",
       "  </tbody>\n",
       "</table>\n",
       "</div>"
      ],
      "text/plain": [
       "Empty DataFrame\n",
       "Columns: [aircraft_ev_id, latitude, longitude]\n",
       "Index: []"
      ]
     },
     "execution_count": 98,
     "metadata": {},
     "output_type": "execute_result"
    }
   ],
   "source": []
  },
  {
   "cell_type": "code",
   "execution_count": null,
   "id": "b6097009",
   "metadata": {},
   "outputs": [],
   "source": []
  },
  {
   "cell_type": "code",
   "execution_count": null,
   "id": "ff573533",
   "metadata": {},
   "outputs": [],
   "source": []
  },
  {
   "cell_type": "code",
   "execution_count": 162,
   "id": "e296145a",
   "metadata": {},
   "outputs": [
    {
     "ename": "KeyError",
     "evalue": "\"Only a column name can be used for the key in a dtype mappings argument. 'eng_time_last_insp' not found in columns.\"",
     "output_type": "error",
     "traceback": [
      "\u001b[0;31m---------------------------------------------------------------------------\u001b[0m",
      "\u001b[0;31mKeyError\u001b[0m                                  Traceback (most recent call last)",
      "Cell \u001b[0;32mIn[162], line 1\u001b[0m\n\u001b[0;32m----> 1\u001b[0m df2_formatted \u001b[38;5;241m=\u001b[39m \u001b[43mdf\u001b[49m\u001b[38;5;241;43m.\u001b[39;49m\u001b[43mastype\u001b[49m\u001b[43m(\u001b[49m\u001b[43m{\u001b[49m\u001b[38;5;124;43m\"\u001b[39;49m\u001b[38;5;124;43mdamage\u001b[39;49m\u001b[38;5;124;43m\"\u001b[39;49m\u001b[43m:\u001b[49m\u001b[38;5;124;43m'\u001b[39;49m\u001b[38;5;124;43mcategory\u001b[39;49m\u001b[38;5;124;43m'\u001b[39;49m\u001b[43m,\u001b[49m\u001b[43m \u001b[49m\u001b[38;5;124;43m\"\u001b[39;49m\u001b[38;5;124;43macft_make\u001b[39;49m\u001b[38;5;124;43m\"\u001b[39;49m\u001b[43m:\u001b[49m\u001b[38;5;124;43m'\u001b[39;49m\u001b[38;5;124;43mcategory\u001b[39;49m\u001b[38;5;124;43m'\u001b[39;49m\u001b[43m,\u001b[49m\n\u001b[1;32m      2\u001b[0m \u001b[43m                                      \u001b[49m\u001b[38;5;124;43m\"\u001b[39;49m\u001b[38;5;124;43macft_model\u001b[39;49m\u001b[38;5;124;43m\"\u001b[39;49m\u001b[43m:\u001b[49m\u001b[38;5;124;43m'\u001b[39;49m\u001b[38;5;124;43mcategory\u001b[39;49m\u001b[38;5;124;43m'\u001b[39;49m\u001b[43m,\u001b[49m\u001b[43m \u001b[49m\u001b[38;5;124;43m\"\u001b[39;49m\u001b[38;5;124;43mcert_max_gr_wt\u001b[39;49m\u001b[38;5;124;43m\"\u001b[39;49m\u001b[43m:\u001b[49m\u001b[38;5;124;43m'\u001b[39;49m\u001b[38;5;124;43mcategory\u001b[39;49m\u001b[38;5;124;43m'\u001b[39;49m\u001b[43m,\u001b[49m\u001b[43m  \u001b[49m\u001b[38;5;124;43m\"\u001b[39;49m\u001b[38;5;124;43mtype_last_insp\u001b[39;49m\u001b[38;5;124;43m\"\u001b[39;49m\u001b[43m:\u001b[49m\u001b[38;5;124;43m'\u001b[39;49m\u001b[38;5;124;43mcategory\u001b[39;49m\u001b[38;5;124;43m'\u001b[39;49m\u001b[43m,\u001b[49m\u001b[43m  \u001b[49m\n\u001b[1;32m      3\u001b[0m \u001b[43m                                      \u001b[49m\u001b[38;5;124;43m\"\u001b[39;49m\u001b[38;5;124;43mtype_fly\u001b[39;49m\u001b[38;5;124;43m\"\u001b[39;49m\u001b[43m:\u001b[49m\u001b[38;5;124;43m'\u001b[39;49m\u001b[38;5;124;43mcategory\u001b[39;49m\u001b[38;5;124;43m'\u001b[39;49m\u001b[43m,\u001b[49m\u001b[43m \u001b[49m\u001b[38;5;124;43m\"\u001b[39;49m\u001b[38;5;124;43mdprt_apt_id\u001b[39;49m\u001b[38;5;124;43m\"\u001b[39;49m\u001b[43m:\u001b[49m\u001b[38;5;124;43m'\u001b[39;49m\u001b[38;5;124;43mcategory\u001b[39;49m\u001b[38;5;124;43m'\u001b[39;49m\u001b[43m,\u001b[49m\u001b[43m  \u001b[49m\u001b[38;5;124;43m\"\u001b[39;49m\u001b[38;5;124;43mdprt_city\u001b[39;49m\u001b[38;5;124;43m\"\u001b[39;49m\u001b[43m:\u001b[49m\u001b[38;5;124;43m'\u001b[39;49m\u001b[38;5;124;43mcategory\u001b[39;49m\u001b[38;5;124;43m'\u001b[39;49m\u001b[43m,\u001b[49m\u001b[43m  \u001b[49m\n\u001b[1;32m      4\u001b[0m \u001b[43m                                      \u001b[49m\u001b[38;5;124;43m\"\u001b[39;49m\u001b[38;5;124;43mdprt_state\u001b[39;49m\u001b[38;5;124;43m\"\u001b[39;49m\u001b[43m:\u001b[49m\u001b[38;5;124;43m'\u001b[39;49m\u001b[38;5;124;43mcategory\u001b[39;49m\u001b[38;5;124;43m'\u001b[39;49m\u001b[43m,\u001b[49m\u001b[43m  \u001b[49m\u001b[38;5;124;43m\"\u001b[39;49m\u001b[38;5;124;43mdprt_time\u001b[39;49m\u001b[38;5;124;43m\"\u001b[39;49m\u001b[43m:\u001b[49m\u001b[38;5;124;43m'\u001b[39;49m\u001b[38;5;124;43mcategory\u001b[39;49m\u001b[38;5;124;43m'\u001b[39;49m\u001b[43m,\u001b[49m\u001b[43m  \u001b[49m\u001b[38;5;124;43m\"\u001b[39;49m\u001b[38;5;124;43mafm_hrs_since\u001b[39;49m\u001b[38;5;124;43m\"\u001b[39;49m\u001b[43m:\u001b[49m\u001b[38;5;124;43m'\u001b[39;49m\u001b[38;5;124;43mcategory\u001b[39;49m\u001b[38;5;124;43m'\u001b[39;49m\u001b[43m,\u001b[49m\u001b[43m  \u001b[49m\n\u001b[1;32m      5\u001b[0m \u001b[43m                                      \u001b[49m\u001b[38;5;124;43m\"\u001b[39;49m\u001b[38;5;124;43mrwy_num\u001b[39;49m\u001b[38;5;124;43m\"\u001b[39;49m\u001b[43m:\u001b[49m\u001b[38;5;124;43m'\u001b[39;49m\u001b[38;5;124;43mcategory\u001b[39;49m\u001b[38;5;124;43m'\u001b[39;49m\u001b[43m,\u001b[49m\u001b[43m  \u001b[49m\u001b[38;5;124;43m\"\u001b[39;49m\u001b[38;5;124;43mifr_equipped_cert\u001b[39;49m\u001b[38;5;124;43m\"\u001b[39;49m\u001b[43m:\u001b[49m\u001b[38;5;124;43m'\u001b[39;49m\u001b[38;5;124;43mcategory\u001b[39;49m\u001b[38;5;124;43m'\u001b[39;49m\u001b[43m,\u001b[49m\u001b[43m  \u001b[49m\u001b[38;5;124;43m\"\u001b[39;49m\u001b[38;5;124;43meng_type\u001b[39;49m\u001b[38;5;124;43m\"\u001b[39;49m\u001b[43m:\u001b[49m\u001b[38;5;124;43m'\u001b[39;49m\u001b[38;5;124;43mcategory\u001b[39;49m\u001b[38;5;124;43m'\u001b[39;49m\u001b[43m,\u001b[49m\u001b[43m \u001b[49m\n\u001b[1;32m      6\u001b[0m \u001b[43m                                      \u001b[49m\u001b[38;5;124;43m\"\u001b[39;49m\u001b[38;5;124;43mafm_hrs\u001b[39;49m\u001b[38;5;124;43m\"\u001b[39;49m\u001b[43m:\u001b[49m\u001b[38;5;124;43m'\u001b[39;49m\u001b[38;5;124;43mcategory\u001b[39;49m\u001b[38;5;124;43m'\u001b[39;49m\u001b[43m,\u001b[49m\u001b[43m  \u001b[49m\u001b[38;5;124;43m\"\u001b[39;49m\u001b[38;5;124;43mdprt_time\u001b[39;49m\u001b[38;5;124;43m\"\u001b[39;49m\u001b[43m:\u001b[49m\u001b[38;5;124;43m'\u001b[39;49m\u001b[38;5;124;43mcategory\u001b[39;49m\u001b[38;5;124;43m'\u001b[39;49m\u001b[43m,\u001b[49m\u001b[43m  \u001b[49m\u001b[38;5;124;43m\"\u001b[39;49m\u001b[38;5;124;43meng_mfgr\u001b[39;49m\u001b[38;5;124;43m\"\u001b[39;49m\u001b[43m:\u001b[49m\u001b[38;5;124;43m'\u001b[39;49m\u001b[38;5;124;43mcategory\u001b[39;49m\u001b[38;5;124;43m'\u001b[39;49m\u001b[43m,\u001b[49m\n\u001b[1;32m      7\u001b[0m \u001b[43m                                      \u001b[49m\u001b[38;5;124;43m\"\u001b[39;49m\u001b[38;5;124;43mhp_or_lbs\u001b[39;49m\u001b[38;5;124;43m\"\u001b[39;49m\u001b[43m:\u001b[49m\u001b[38;5;124;43m'\u001b[39;49m\u001b[38;5;124;43mcategory\u001b[39;49m\u001b[38;5;124;43m'\u001b[39;49m\u001b[43m,\u001b[49m\u001b[43m  \u001b[49m\u001b[38;5;124;43m\"\u001b[39;49m\u001b[38;5;124;43mcarb_fuel_injection\u001b[39;49m\u001b[38;5;124;43m\"\u001b[39;49m\u001b[43m:\u001b[49m\u001b[38;5;124;43m'\u001b[39;49m\u001b[38;5;124;43mcategory\u001b[39;49m\u001b[38;5;124;43m'\u001b[39;49m\u001b[43m,\u001b[49m\u001b[43m  \u001b[49m\u001b[38;5;124;43m\"\u001b[39;49m\u001b[38;5;124;43meng_time_last_insp\u001b[39;49m\u001b[38;5;124;43m\"\u001b[39;49m\u001b[43m:\u001b[49m\u001b[38;5;124;43m'\u001b[39;49m\u001b[38;5;124;43mcategory\u001b[39;49m\u001b[38;5;124;43m'\u001b[39;49m\u001b[43m,\u001b[49m\u001b[43m  \u001b[49m\n\u001b[1;32m      8\u001b[0m \u001b[43m                                      \u001b[49m\u001b[38;5;124;43m\"\u001b[39;49m\u001b[38;5;124;43meng_time_total\u001b[39;49m\u001b[38;5;124;43m\"\u001b[39;49m\u001b[43m:\u001b[49m\u001b[38;5;124;43m'\u001b[39;49m\u001b[38;5;124;43mcategory\u001b[39;49m\u001b[38;5;124;43m'\u001b[39;49m\u001b[43m,\u001b[49m\u001b[43m \u001b[49m\u001b[38;5;124;43m\"\u001b[39;49m\u001b[38;5;124;43mev_type\u001b[39;49m\u001b[38;5;124;43m\"\u001b[39;49m\u001b[43m:\u001b[49m\u001b[38;5;124;43m'\u001b[39;49m\u001b[38;5;124;43mcategory\u001b[39;49m\u001b[38;5;124;43m'\u001b[39;49m\u001b[43m,\u001b[49m\u001b[43m \u001b[49m\u001b[38;5;124;43m\"\u001b[39;49m\u001b[38;5;124;43mev_dow\u001b[39;49m\u001b[38;5;124;43m\"\u001b[39;49m\u001b[43m:\u001b[49m\u001b[38;5;124;43m'\u001b[39;49m\u001b[38;5;124;43mcategory\u001b[39;49m\u001b[38;5;124;43m'\u001b[39;49m\u001b[43m,\u001b[49m\n\u001b[1;32m      9\u001b[0m \u001b[43m                                      \u001b[49m\u001b[38;5;124;43m\"\u001b[39;49m\u001b[38;5;124;43mev_city\u001b[39;49m\u001b[38;5;124;43m\"\u001b[39;49m\u001b[43m:\u001b[49m\u001b[38;5;124;43m'\u001b[39;49m\u001b[38;5;124;43mcategory\u001b[39;49m\u001b[38;5;124;43m'\u001b[39;49m\u001b[43m,\u001b[49m\u001b[43m \u001b[49m\u001b[38;5;124;43m\"\u001b[39;49m\u001b[38;5;124;43mev_state\u001b[39;49m\u001b[38;5;124;43m\"\u001b[39;49m\u001b[43m:\u001b[49m\u001b[38;5;124;43m'\u001b[39;49m\u001b[38;5;124;43mcategory\u001b[39;49m\u001b[38;5;124;43m'\u001b[39;49m\u001b[43m,\u001b[49m\u001b[43m \u001b[49m\u001b[38;5;124;43m\"\u001b[39;49m\u001b[38;5;124;43mev_month\u001b[39;49m\u001b[38;5;124;43m\"\u001b[39;49m\u001b[43m:\u001b[49m\u001b[38;5;124;43m'\u001b[39;49m\u001b[38;5;124;43mcategory\u001b[39;49m\u001b[38;5;124;43m'\u001b[39;49m\u001b[43m,\u001b[49m\u001b[43m \u001b[49m\u001b[38;5;124;43m\"\u001b[39;49m\u001b[38;5;124;43mrwy_len\u001b[39;49m\u001b[38;5;124;43m\"\u001b[39;49m\u001b[43m:\u001b[49m\u001b[38;5;124;43m'\u001b[39;49m\u001b[38;5;124;43mcategory\u001b[39;49m\u001b[38;5;124;43m'\u001b[39;49m\u001b[43m,\u001b[49m\u001b[43m \u001b[49m\n\u001b[1;32m     10\u001b[0m \u001b[43m                                      \u001b[49m\u001b[38;5;124;43m\"\u001b[39;49m\u001b[38;5;124;43mrwy_width\u001b[39;49m\u001b[38;5;124;43m\"\u001b[39;49m\u001b[43m:\u001b[49m\u001b[38;5;124;43m'\u001b[39;49m\u001b[38;5;124;43mcategory\u001b[39;49m\u001b[38;5;124;43m'\u001b[39;49m\u001b[43m,\u001b[49m\u001b[43m \u001b[49m\u001b[38;5;124;43m\"\u001b[39;49m\u001b[38;5;124;43msecondary_eng_mfgr\u001b[39;49m\u001b[38;5;124;43m\"\u001b[39;49m\u001b[43m:\u001b[49m\u001b[38;5;124;43m'\u001b[39;49m\u001b[38;5;124;43mcategory\u001b[39;49m\u001b[38;5;124;43m'\u001b[39;49m\u001b[43m,\u001b[49m\u001b[38;5;124;43m\"\u001b[39;49m\u001b[38;5;124;43mwx_src_iic\u001b[39;49m\u001b[38;5;124;43m\"\u001b[39;49m\u001b[43m:\u001b[49m\u001b[38;5;124;43m'\u001b[39;49m\u001b[38;5;124;43mcategory\u001b[39;49m\u001b[38;5;124;43m'\u001b[39;49m\u001b[43m,\u001b[49m\u001b[43m \u001b[49m\u001b[38;5;124;43m\"\u001b[39;49m\u001b[38;5;124;43mlight_cond\u001b[39;49m\u001b[38;5;124;43m\"\u001b[39;49m\u001b[43m:\u001b[49m\u001b[38;5;124;43m'\u001b[39;49m\u001b[38;5;124;43mcategory\u001b[39;49m\u001b[38;5;124;43m'\u001b[39;49m\u001b[43m,\u001b[49m\n\u001b[1;32m     11\u001b[0m \u001b[43m                                      \u001b[49m\u001b[38;5;124;43m\"\u001b[39;49m\u001b[38;5;124;43msky_cond_nonceil\u001b[39;49m\u001b[38;5;124;43m\"\u001b[39;49m\u001b[43m:\u001b[49m\u001b[38;5;124;43m'\u001b[39;49m\u001b[38;5;124;43mcategory\u001b[39;49m\u001b[38;5;124;43m'\u001b[39;49m\u001b[43m,\u001b[49m\u001b[43m \u001b[49m\u001b[38;5;124;43m\"\u001b[39;49m\u001b[38;5;124;43msky_cond_ceil\u001b[39;49m\u001b[38;5;124;43m\"\u001b[39;49m\u001b[43m:\u001b[49m\u001b[38;5;124;43m'\u001b[39;49m\u001b[38;5;124;43mcategory\u001b[39;49m\u001b[38;5;124;43m'\u001b[39;49m\u001b[43m,\u001b[49m\u001b[43m \u001b[49m\u001b[38;5;124;43m\"\u001b[39;49m\u001b[38;5;124;43mwind_dir_ind\u001b[39;49m\u001b[38;5;124;43m\"\u001b[39;49m\u001b[43m:\u001b[49m\u001b[38;5;124;43m'\u001b[39;49m\u001b[38;5;124;43mcategory\u001b[39;49m\u001b[38;5;124;43m'\u001b[39;49m\u001b[43m,\u001b[49m\u001b[43m \u001b[49m\u001b[38;5;124;43m\"\u001b[39;49m\u001b[38;5;124;43mwind_vel_ind\u001b[39;49m\u001b[38;5;124;43m\"\u001b[39;49m\u001b[43m:\u001b[49m\u001b[43m \u001b[49m\u001b[38;5;124;43m'\u001b[39;49m\u001b[38;5;124;43mcategory\u001b[39;49m\u001b[38;5;124;43m'\u001b[39;49m\u001b[43m,\u001b[49m\u001b[43m \u001b[49m\n\u001b[1;32m     12\u001b[0m \u001b[43m                                      \u001b[49m\u001b[38;5;124;43m\"\u001b[39;49m\u001b[38;5;124;43mgust_ind\u001b[39;49m\u001b[38;5;124;43m\"\u001b[39;49m\u001b[43m:\u001b[49m\u001b[38;5;124;43m'\u001b[39;49m\u001b[38;5;124;43mcategory\u001b[39;49m\u001b[38;5;124;43m'\u001b[39;49m\u001b[43m,\u001b[49m\u001b[43m \u001b[49m\u001b[38;5;124;43m\"\u001b[39;49m\u001b[38;5;124;43mwx_int_precip\u001b[39;49m\u001b[38;5;124;43m\"\u001b[39;49m\u001b[43m:\u001b[49m\u001b[38;5;124;43m'\u001b[39;49m\u001b[38;5;124;43mcategory\u001b[39;49m\u001b[38;5;124;43m'\u001b[39;49m\u001b[43m,\u001b[49m\u001b[43m \u001b[49m\u001b[38;5;124;43m\"\u001b[39;49m\u001b[38;5;124;43mwx_cond_basic\u001b[39;49m\u001b[38;5;124;43m\"\u001b[39;49m\u001b[43m:\u001b[49m\u001b[38;5;124;43m'\u001b[39;49m\u001b[38;5;124;43mcategory\u001b[39;49m\u001b[38;5;124;43m'\u001b[39;49m\u001b[43m,\u001b[49m\u001b[43m \u001b[49m\u001b[38;5;124;43m\"\u001b[39;49m\u001b[38;5;124;43mcrew_category\u001b[39;49m\u001b[38;5;124;43m\"\u001b[39;49m\u001b[43m:\u001b[49m\u001b[38;5;124;43m'\u001b[39;49m\u001b[38;5;124;43mcategory\u001b[39;49m\u001b[38;5;124;43m'\u001b[39;49m\u001b[43m,\u001b[49m\u001b[43m \u001b[49m\u001b[38;5;124;43m\"\u001b[39;49m\u001b[38;5;124;43mcrew_sex\u001b[39;49m\u001b[38;5;124;43m\"\u001b[39;49m\u001b[43m:\u001b[49m\u001b[38;5;124;43m'\u001b[39;49m\u001b[38;5;124;43mcategory\u001b[39;49m\u001b[38;5;124;43m'\u001b[39;49m\u001b[43m,\u001b[49m\n\u001b[1;32m     13\u001b[0m \u001b[43m                                       \u001b[49m\u001b[38;5;124;43m\"\u001b[39;49m\u001b[38;5;124;43mmed_certf\u001b[39;49m\u001b[38;5;124;43m\"\u001b[39;49m\u001b[43m:\u001b[49m\u001b[38;5;124;43m'\u001b[39;49m\u001b[38;5;124;43mcategory\u001b[39;49m\u001b[38;5;124;43m'\u001b[39;49m\u001b[43m,\u001b[49m\u001b[43m \u001b[49m\u001b[38;5;124;43m\"\u001b[39;49m\u001b[38;5;124;43mpilot_flying\u001b[39;49m\u001b[38;5;124;43m\"\u001b[39;49m\u001b[43m:\u001b[49m\u001b[38;5;124;43m'\u001b[39;49m\u001b[38;5;124;43mcategory\u001b[39;49m\u001b[38;5;124;43m'\u001b[39;49m\u001b[43m,\u001b[49m\u001b[43m \u001b[49m\u001b[38;5;124;43m\"\u001b[39;49m\u001b[38;5;124;43msecondary_eng_mfgr\u001b[39;49m\u001b[38;5;124;43m\"\u001b[39;49m\u001b[43m:\u001b[49m\u001b[38;5;124;43m'\u001b[39;49m\u001b[38;5;124;43mcategory\u001b[39;49m\u001b[38;5;124;43m'\u001b[39;49m\u001b[43m}\u001b[49m\u001b[43m)\u001b[49m\n",
      "File \u001b[0;32m~/opt/anaconda3/lib/python3.8/site-packages/pandas/core/generic.py:6212\u001b[0m, in \u001b[0;36mNDFrame.astype\u001b[0;34m(self, dtype, copy, errors)\u001b[0m\n\u001b[1;32m   6210\u001b[0m \u001b[38;5;28;01mfor\u001b[39;00m col_name \u001b[38;5;129;01min\u001b[39;00m dtype_ser\u001b[38;5;241m.\u001b[39mindex:\n\u001b[1;32m   6211\u001b[0m     \u001b[38;5;28;01mif\u001b[39;00m col_name \u001b[38;5;129;01mnot\u001b[39;00m \u001b[38;5;129;01min\u001b[39;00m \u001b[38;5;28mself\u001b[39m:\n\u001b[0;32m-> 6212\u001b[0m         \u001b[38;5;28;01mraise\u001b[39;00m \u001b[38;5;167;01mKeyError\u001b[39;00m(\n\u001b[1;32m   6213\u001b[0m             \u001b[38;5;124m\"\u001b[39m\u001b[38;5;124mOnly a column name can be used for the \u001b[39m\u001b[38;5;124m\"\u001b[39m\n\u001b[1;32m   6214\u001b[0m             \u001b[38;5;124m\"\u001b[39m\u001b[38;5;124mkey in a dtype mappings argument. \u001b[39m\u001b[38;5;124m\"\u001b[39m\n\u001b[1;32m   6215\u001b[0m             \u001b[38;5;124mf\u001b[39m\u001b[38;5;124m\"\u001b[39m\u001b[38;5;124m'\u001b[39m\u001b[38;5;132;01m{\u001b[39;00mcol_name\u001b[38;5;132;01m}\u001b[39;00m\u001b[38;5;124m'\u001b[39m\u001b[38;5;124m not found in columns.\u001b[39m\u001b[38;5;124m\"\u001b[39m\n\u001b[1;32m   6216\u001b[0m         )\n\u001b[1;32m   6218\u001b[0m dtype_ser \u001b[38;5;241m=\u001b[39m dtype_ser\u001b[38;5;241m.\u001b[39mreindex(\u001b[38;5;28mself\u001b[39m\u001b[38;5;241m.\u001b[39mcolumns, fill_value\u001b[38;5;241m=\u001b[39m\u001b[38;5;28;01mNone\u001b[39;00m, copy\u001b[38;5;241m=\u001b[39m\u001b[38;5;28;01mFalse\u001b[39;00m)\n\u001b[1;32m   6220\u001b[0m results \u001b[38;5;241m=\u001b[39m []\n",
      "\u001b[0;31mKeyError\u001b[0m: \"Only a column name can be used for the key in a dtype mappings argument. 'eng_time_last_insp' not found in columns.\""
     ]
    }
   ],
   "source": [
    "df2_formatted = df.astype({\"damage\":'category', \"acft_make\":'category',\n",
    "                                      \"acft_model\":'category', \"cert_max_gr_wt\":'category',  \"type_last_insp\":'category',  \n",
    "                                      \"type_fly\":'category', \"dprt_apt_id\":'category',  \"dprt_city\":'category',  \n",
    "                                      \"dprt_state\":'category',  \"dprt_time\":'category',  \"afm_hrs_since\":'category',  \n",
    "                                      \"rwy_num\":'category',  \"ifr_equipped_cert\":'category',  \"eng_type\":'category', \n",
    "                                      \"afm_hrs\":'category',  \"dprt_time\":'category',  \"eng_mfgr\":'category',\n",
    "                                      \"hp_or_lbs\":'category',  \"carb_fuel_injection\":'category',  \"eng_time_last_insp\":'category',  \n",
    "                                      \"eng_time_total\":'category', \"ev_type\":'category', \"ev_dow\":'category',\n",
    "                                      \"ev_city\":'category', \"ev_state\":'category', \"ev_month\":'category', \"rwy_len\":'category', \n",
    "                                      \"rwy_width\":'category', \"secondary_eng_mfgr\":'category',\"wx_src_iic\":'category', \"light_cond\":'category',\n",
    "                                      \"sky_cond_nonceil\":'category', \"sky_cond_ceil\":'category', \"wind_dir_ind\":'category', \"wind_vel_ind\": 'category', \n",
    "                                      \"gust_ind\":'category', \"wx_int_precip\":'category', \"wx_cond_basic\":'category', \"crew_category\":'category', \"crew_sex\":'category',\n",
    "                                       \"med_certf\":'category', \"pilot_flying\":'category', \"secondary_eng_mfgr\":'category'})\n",
    "                                 "
   ]
  },
  {
   "cell_type": "code",
   "execution_count": 121,
   "id": "57b3b1f8",
   "metadata": {},
   "outputs": [
    {
     "data": {
      "text/html": [
       "<div>\n",
       "<style scoped>\n",
       "    .dataframe tbody tr th:only-of-type {\n",
       "        vertical-align: middle;\n",
       "    }\n",
       "\n",
       "    .dataframe tbody tr th {\n",
       "        vertical-align: top;\n",
       "    }\n",
       "\n",
       "    .dataframe thead th {\n",
       "        text-align: right;\n",
       "    }\n",
       "</style>\n",
       "<table border=\"1\" class=\"dataframe\">\n",
       "  <thead>\n",
       "    <tr style=\"text-align: right;\">\n",
       "      <th></th>\n",
       "      <th>Unnamed: 0</th>\n",
       "      <th>aircraft_ev_id</th>\n",
       "      <th>far_part</th>\n",
       "      <th>flight_plan_activated</th>\n",
       "      <th>damage</th>\n",
       "      <th>acft_make</th>\n",
       "      <th>acft_model</th>\n",
       "      <th>cert_max_gr_wt</th>\n",
       "      <th>num_eng</th>\n",
       "      <th>type_last_insp</th>\n",
       "      <th>...</th>\n",
       "      <th>wx_cond_basic</th>\n",
       "      <th>crew_no</th>\n",
       "      <th>crew_category</th>\n",
       "      <th>crew_age</th>\n",
       "      <th>crew_sex</th>\n",
       "      <th>med_certf</th>\n",
       "      <th>pilot_flying</th>\n",
       "      <th>crew_inj_level</th>\n",
       "      <th>secondary_eng_mfgr</th>\n",
       "      <th>target</th>\n",
       "    </tr>\n",
       "  </thead>\n",
       "  <tbody>\n",
       "  </tbody>\n",
       "</table>\n",
       "<p>0 rows × 86 columns</p>\n",
       "</div>"
      ],
      "text/plain": [
       "Empty DataFrame\n",
       "Columns: [Unnamed: 0, aircraft_ev_id, far_part, flight_plan_activated, damage, acft_make, acft_model, cert_max_gr_wt, num_eng, type_last_insp, date_last_insp, afm_hrs_last_insp, afm_hrs, type_fly, dprt_apt_id, dprt_city, dprt_state, dprt_time, dest_same_local, dest_apt_id, dest_city, dest_state, phase_flt_spec, afm_hrs_since, rwy_num, rwy_len, rwy_width, ifr_equipped_cert, eng_no, eng_type, eng_mfgr, hp_or_lbs, carb_fuel_injection, eng_time_total, eng_time_last_insp, ntsb_no, ev_type, ev_date, ev_dow, ev_time, ev_city, ev_state, ev_year, ev_month, latitude, longitude, apt_name, apt_dist, apt_dir, apt_elev, wx_src_iic, wx_obs_time, wx_obs_dir, wx_obs_fac_id, wx_obs_elev, wx_obs_dist, light_cond, sky_cond_nonceil, sky_nonceil_ht, sky_ceil_ht, sky_cond_ceil, vis_rvr, vis_sm, wx_temp, wx_dew_pt, wind_dir_deg, wind_dir_ind, wind_vel_kts, wind_vel_ind, gust_ind, gust_kts, altimeter, wx_dens_alt, wx_int_precip, ev_highest_injury, inj_tot_t, wx_cond_basic, crew_no, crew_category, crew_age, crew_sex, med_certf, pilot_flying, crew_inj_level, secondary_eng_mfgr, target]\n",
       "Index: []\n",
       "\n",
       "[0 rows x 86 columns]"
      ]
     },
     "execution_count": 121,
     "metadata": {},
     "output_type": "execute_result"
    }
   ],
   "source": [
    "df2_formatted"
   ]
  },
  {
   "cell_type": "code",
   "execution_count": null,
   "id": "95b08cb3",
   "metadata": {},
   "outputs": [],
   "source": []
  },
  {
   "cell_type": "code",
   "execution_count": null,
   "id": "a01ac2f5",
   "metadata": {},
   "outputs": [],
   "source": []
  },
  {
   "cell_type": "code",
   "execution_count": null,
   "id": "30804bf0",
   "metadata": {},
   "outputs": [],
   "source": [
    "    \n",
    "                                      \n",
    "                                      \n",
    "\n",
    "                                \n",
    "df2_formatted['flight_plan_activated'].fillna('Unknown', inplace=True)\n",
    "df2_formatted['afm_hrs_since'].fillna('Unknown', inplace=True)                                   \n",
    "df2_formatted['hp_or_lbs'].fillna('Unknown', inplace=True)\n",
    "df2_formatted['carb_fuel_injection'].fillna('Unknown', inplace=True)\n",
    "df2_formatted['damage'].fillna('Unknown', inplace=True)\n",
    "df2_formatted['acft_make'].fillna('Unknown', inplace=True)\n",
    "df2_formatted['acft_model'].fillna('Unknown', inplace=True)                                      \n",
    "df2_formatted['cert_max_gr_wt'].fillna('Unknown', inplace=True)\n",
    "df2_formatted['type_last_insp'].fillna('Unknown', inplace=True)                                      \n",
    "df2_formatted['type_fly'].fillna('Unknown', inplace=True)                                      \n",
    "df2_formatted['dprt_apt_id'].fillna('Unknown', inplace=True)                                      \n",
    "df2_formatted['dprt_city'].fillna('Unknown', inplace=True)                                      \n",
    "df2_formatted['dprt_state'].fillna('Unknown', inplace=True)                                      \n",
    "df2_formatted['dprt_time'].fillna('Unknown', inplace=True)                                      \n",
    "df2_formatted['rwy_num'].fillna('Unknown', inplace=True)                                      \n",
    "df2_formatted['ifr_equipped_cert'].fillna('Unknown', inplace=True)                                      \n",
    "df2_formatted['eng_type'].fillna('Unknown', inplace=True)\n",
    "df2_formatted['afm_hrs'].fillna('Unknown', inplace=True)                                      \n",
    "df2_formatted['eng_mfgr'].fillna('Unknown', inplace=True) \n",
    "df2_formatted['eng_time_last_insp'].fillna('Unknown', inplace=True)                                       \n",
    "df2_formatted['eng_time_total'].fillna('Unknown', inplace=True)                                       \n",
    "df2_formatted['ev_type'].fillna('Unknown', inplace=True)                                       \n",
    "df2_formatted['ev_dow'].fillna('Unknown', inplace=True)                                       \n",
    "df2_formatted['ev_city'].fillna('Unknown', inplace=True)                                           \n",
    "df2_formatted['ev_state'].fillna('Unknown', inplace=True)      \n",
    "df2_formatted['ev_month'].fillna('Unknown', inplace=True)\n",
    "df2_formatted['rwy_len'].fillna('Unknown', inplace=True)\n",
    "df2_formatted['rwy_width'].fillna('Unknown', inplace=True)\n",
    "df2_formatted['secondary_eng_mfgr'].fillna('Unknown', inplace=True)\n",
    "df2_formatted['crew_no'].fillna('Unknown', inplace=True)                                    \n",
    "                                                                           \n",
    "\n",
    "# Clustering Lat/Long per https://levelup.gitconnected.com/clustering-gps-co-ordinates-forming-regions-4f50caa7e4a1\n",
    "\n",
    "df2_formatted = df2_formatted.dropna(axis=0,how='any',subset=['latitude','longitude'],inplace=True)\n",
    "# Variable with the Longitude and Latitude\n",
    "X=df2_formatted.loc[:,['aircraft_ev_id','latitude','longitude']]\n",
    "X.head(10)    \n",
    "\n",
    "                                      \n",
    "df2_formatted['date_last_insp'] = df2_formatted['date_last_insp'].to_datetime()                                     \n",
    "#Bin: afm_hrs, afm_hrs_last_insp, dprt_time ['1201-1800', '1801-2400', '0001-0600', '0601-1200', nan],  \"rwy_len\":'category'\n",
    "#wx_obs_time, sky_nonceil_ht, sky_ceil_ht, vis_rvr, vis_sm, wx_temp, wx_dew_pt, wind_dir_deg  \n",
    "#gust_kts, altimeter, wx_dens_alt, crew_age                                    \n",
    "                                      \n",
    "\n",
    "df2_formatted = df2_formatted.astype({\"afm_hrs_last_insp\":'int64', \"phase_flt_spec\":'int64', \"eng_no\":'int64', \"eng_time_total\":'int64', \"eng_time_last_insp\":'int64', \"apt_elev\":'int64', \"wx_obs_time\":'int64', \"wx_obs_dir\":'int64', \"wx_obs_elev\":'int64', \"wx_obs_dist\":'int64', \"sky_nonceil_ht\":'int64', \"sky_ceil_ht\":'int64', \"vis_rvr\":'int64', \"vis_sm\":'int64', \"wx_temp\":'int64', \"wx_dew_pt\":'int64', \"wind_dir_deg\":'int64', \"wind_vel_kts\":'int64', \"gust_kts\":'int64', \"altimeter\":'int64', \"wx_dens_alt\":'int64', \"inj_tot_t\":'int64', \"crew_no\":'int64', \"crew_age\":'int64'})\n",
    "df2_formatted=df.dropna(subset=['afm_hrs_last_insp','phase_flt_spec', 'eng_no', 'eng_time_total', 'eng_time_last_insp', 'apt_elev', 'wx_obs_time', 'wx_obs_dir', 'wx_obs_elev', 'wx_obs_dist', 'sky_nonceil_ht', 'sky_ceil_ht', 'vis_rvr', 'vis_sm', 'wx_temp', 'wx_dew_pt', 'wind_dir_deg', 'wind_vel_kts', 'gust_kts', 'altimeter', 'wx_dens_alt', 'inj_tot_t', 'crew_no', 'crew_age'])\n",
    "                                        \n",
    "                                      \n",
    "                            "
   ]
  },
  {
   "cell_type": "code",
   "execution_count": 101,
   "id": "40d81409",
   "metadata": {},
   "outputs": [
    {
     "name": "stdout",
     "output_type": "stream",
     "text": [
      "28888        NaN\n",
      "38654    365520n\n",
      "31333        NaN\n",
      "31334        NaN\n",
      "31335        NaN\n",
      "          ...   \n",
      "40212    321926n\n",
      "40207    384327n\n",
      "40211    405957n\n",
      "40205    332754n\n",
      "40208    282825n\n",
      "Name: latitude, Length: 49108, dtype: object\n"
     ]
    }
   ],
   "source": [
    "print(df.latitude)"
   ]
  },
  {
   "cell_type": "code",
   "execution_count": 165,
   "id": "4209e71d",
   "metadata": {},
   "outputs": [
    {
     "name": "stdout",
     "output_type": "stream",
     "text": [
      "33088\n"
     ]
    },
    {
     "ename": "KeyError",
     "evalue": "'phase_flt_spec'",
     "output_type": "error",
     "traceback": [
      "\u001b[0;31m---------------------------------------------------------------------------\u001b[0m",
      "\u001b[0;31mKeyError\u001b[0m                                  Traceback (most recent call last)",
      "File \u001b[0;32m~/opt/anaconda3/lib/python3.8/site-packages/pandas/core/indexes/base.py:3803\u001b[0m, in \u001b[0;36mIndex.get_loc\u001b[0;34m(self, key, method, tolerance)\u001b[0m\n\u001b[1;32m   3802\u001b[0m \u001b[38;5;28;01mtry\u001b[39;00m:\n\u001b[0;32m-> 3803\u001b[0m     \u001b[38;5;28;01mreturn\u001b[39;00m \u001b[38;5;28;43mself\u001b[39;49m\u001b[38;5;241;43m.\u001b[39;49m\u001b[43m_engine\u001b[49m\u001b[38;5;241;43m.\u001b[39;49m\u001b[43mget_loc\u001b[49m\u001b[43m(\u001b[49m\u001b[43mcasted_key\u001b[49m\u001b[43m)\u001b[49m\n\u001b[1;32m   3804\u001b[0m \u001b[38;5;28;01mexcept\u001b[39;00m \u001b[38;5;167;01mKeyError\u001b[39;00m \u001b[38;5;28;01mas\u001b[39;00m err:\n",
      "File \u001b[0;32m~/opt/anaconda3/lib/python3.8/site-packages/pandas/_libs/index.pyx:138\u001b[0m, in \u001b[0;36mpandas._libs.index.IndexEngine.get_loc\u001b[0;34m()\u001b[0m\n",
      "File \u001b[0;32m~/opt/anaconda3/lib/python3.8/site-packages/pandas/_libs/index.pyx:165\u001b[0m, in \u001b[0;36mpandas._libs.index.IndexEngine.get_loc\u001b[0;34m()\u001b[0m\n",
      "File \u001b[0;32mpandas/_libs/hashtable_class_helper.pxi:5745\u001b[0m, in \u001b[0;36mpandas._libs.hashtable.PyObjectHashTable.get_item\u001b[0;34m()\u001b[0m\n",
      "File \u001b[0;32mpandas/_libs/hashtable_class_helper.pxi:5753\u001b[0m, in \u001b[0;36mpandas._libs.hashtable.PyObjectHashTable.get_item\u001b[0;34m()\u001b[0m\n",
      "\u001b[0;31mKeyError\u001b[0m: 'phase_flt_spec'",
      "\nThe above exception was the direct cause of the following exception:\n",
      "\u001b[0;31mKeyError\u001b[0m                                  Traceback (most recent call last)",
      "Cell \u001b[0;32mIn[165], line 4\u001b[0m\n\u001b[1;32m      1\u001b[0m nan_count \u001b[38;5;241m=\u001b[39m df[\u001b[38;5;124m'\u001b[39m\u001b[38;5;124mlatitude\u001b[39m\u001b[38;5;124m'\u001b[39m]\u001b[38;5;241m.\u001b[39misna()\u001b[38;5;241m.\u001b[39msum()\n\u001b[1;32m      2\u001b[0m \u001b[38;5;28mprint\u001b[39m(nan_count)\n\u001b[0;32m----> 4\u001b[0m \u001b[43mdf\u001b[49m\u001b[43m[\u001b[49m\u001b[38;5;124;43m'\u001b[39;49m\u001b[38;5;124;43mphase_flt_spec\u001b[39;49m\u001b[38;5;124;43m'\u001b[39;49m\u001b[43m]\u001b[49m\u001b[38;5;241m.\u001b[39mdescribe(include\u001b[38;5;241m=\u001b[39m\u001b[38;5;124m'\u001b[39m\u001b[38;5;124mall\u001b[39m\u001b[38;5;124m'\u001b[39m) \n",
      "File \u001b[0;32m~/opt/anaconda3/lib/python3.8/site-packages/pandas/core/frame.py:3805\u001b[0m, in \u001b[0;36mDataFrame.__getitem__\u001b[0;34m(self, key)\u001b[0m\n\u001b[1;32m   3803\u001b[0m \u001b[38;5;28;01mif\u001b[39;00m \u001b[38;5;28mself\u001b[39m\u001b[38;5;241m.\u001b[39mcolumns\u001b[38;5;241m.\u001b[39mnlevels \u001b[38;5;241m>\u001b[39m \u001b[38;5;241m1\u001b[39m:\n\u001b[1;32m   3804\u001b[0m     \u001b[38;5;28;01mreturn\u001b[39;00m \u001b[38;5;28mself\u001b[39m\u001b[38;5;241m.\u001b[39m_getitem_multilevel(key)\n\u001b[0;32m-> 3805\u001b[0m indexer \u001b[38;5;241m=\u001b[39m \u001b[38;5;28;43mself\u001b[39;49m\u001b[38;5;241;43m.\u001b[39;49m\u001b[43mcolumns\u001b[49m\u001b[38;5;241;43m.\u001b[39;49m\u001b[43mget_loc\u001b[49m\u001b[43m(\u001b[49m\u001b[43mkey\u001b[49m\u001b[43m)\u001b[49m\n\u001b[1;32m   3806\u001b[0m \u001b[38;5;28;01mif\u001b[39;00m is_integer(indexer):\n\u001b[1;32m   3807\u001b[0m     indexer \u001b[38;5;241m=\u001b[39m [indexer]\n",
      "File \u001b[0;32m~/opt/anaconda3/lib/python3.8/site-packages/pandas/core/indexes/base.py:3805\u001b[0m, in \u001b[0;36mIndex.get_loc\u001b[0;34m(self, key, method, tolerance)\u001b[0m\n\u001b[1;32m   3803\u001b[0m     \u001b[38;5;28;01mreturn\u001b[39;00m \u001b[38;5;28mself\u001b[39m\u001b[38;5;241m.\u001b[39m_engine\u001b[38;5;241m.\u001b[39mget_loc(casted_key)\n\u001b[1;32m   3804\u001b[0m \u001b[38;5;28;01mexcept\u001b[39;00m \u001b[38;5;167;01mKeyError\u001b[39;00m \u001b[38;5;28;01mas\u001b[39;00m err:\n\u001b[0;32m-> 3805\u001b[0m     \u001b[38;5;28;01mraise\u001b[39;00m \u001b[38;5;167;01mKeyError\u001b[39;00m(key) \u001b[38;5;28;01mfrom\u001b[39;00m \u001b[38;5;21;01merr\u001b[39;00m\n\u001b[1;32m   3806\u001b[0m \u001b[38;5;28;01mexcept\u001b[39;00m \u001b[38;5;167;01mTypeError\u001b[39;00m:\n\u001b[1;32m   3807\u001b[0m     \u001b[38;5;66;03m# If we have a listlike key, _check_indexing_error will raise\u001b[39;00m\n\u001b[1;32m   3808\u001b[0m     \u001b[38;5;66;03m#  InvalidIndexError. Otherwise we fall through and re-raise\u001b[39;00m\n\u001b[1;32m   3809\u001b[0m     \u001b[38;5;66;03m#  the TypeError.\u001b[39;00m\n\u001b[1;32m   3810\u001b[0m     \u001b[38;5;28mself\u001b[39m\u001b[38;5;241m.\u001b[39m_check_indexing_error(key)\n",
      "\u001b[0;31mKeyError\u001b[0m: 'phase_flt_spec'"
     ]
    }
   ],
   "source": [
    "nan_count = df['latitude'].isna().sum()\n",
    "print(nan_count)\n",
    "\n",
    "df['phase_flt_spec'].describe(include='all') "
   ]
  },
  {
   "cell_type": "code",
   "execution_count": 164,
   "id": "77283808",
   "metadata": {},
   "outputs": [
    {
     "ename": "KeyError",
     "evalue": "'phase_flt_spec'",
     "output_type": "error",
     "traceback": [
      "\u001b[0;31m---------------------------------------------------------------------------\u001b[0m",
      "\u001b[0;31mKeyError\u001b[0m                                  Traceback (most recent call last)",
      "File \u001b[0;32m~/opt/anaconda3/lib/python3.8/site-packages/pandas/core/indexes/base.py:3803\u001b[0m, in \u001b[0;36mIndex.get_loc\u001b[0;34m(self, key, method, tolerance)\u001b[0m\n\u001b[1;32m   3802\u001b[0m \u001b[38;5;28;01mtry\u001b[39;00m:\n\u001b[0;32m-> 3803\u001b[0m     \u001b[38;5;28;01mreturn\u001b[39;00m \u001b[38;5;28;43mself\u001b[39;49m\u001b[38;5;241;43m.\u001b[39;49m\u001b[43m_engine\u001b[49m\u001b[38;5;241;43m.\u001b[39;49m\u001b[43mget_loc\u001b[49m\u001b[43m(\u001b[49m\u001b[43mcasted_key\u001b[49m\u001b[43m)\u001b[49m\n\u001b[1;32m   3804\u001b[0m \u001b[38;5;28;01mexcept\u001b[39;00m \u001b[38;5;167;01mKeyError\u001b[39;00m \u001b[38;5;28;01mas\u001b[39;00m err:\n",
      "File \u001b[0;32m~/opt/anaconda3/lib/python3.8/site-packages/pandas/_libs/index.pyx:138\u001b[0m, in \u001b[0;36mpandas._libs.index.IndexEngine.get_loc\u001b[0;34m()\u001b[0m\n",
      "File \u001b[0;32m~/opt/anaconda3/lib/python3.8/site-packages/pandas/_libs/index.pyx:165\u001b[0m, in \u001b[0;36mpandas._libs.index.IndexEngine.get_loc\u001b[0;34m()\u001b[0m\n",
      "File \u001b[0;32mpandas/_libs/hashtable_class_helper.pxi:5745\u001b[0m, in \u001b[0;36mpandas._libs.hashtable.PyObjectHashTable.get_item\u001b[0;34m()\u001b[0m\n",
      "File \u001b[0;32mpandas/_libs/hashtable_class_helper.pxi:5753\u001b[0m, in \u001b[0;36mpandas._libs.hashtable.PyObjectHashTable.get_item\u001b[0;34m()\u001b[0m\n",
      "\u001b[0;31mKeyError\u001b[0m: 'phase_flt_spec'",
      "\nThe above exception was the direct cause of the following exception:\n",
      "\u001b[0;31mKeyError\u001b[0m                                  Traceback (most recent call last)",
      "Cell \u001b[0;32mIn[164], line 1\u001b[0m\n\u001b[0;32m----> 1\u001b[0m \u001b[43mdf\u001b[49m\u001b[43m[\u001b[49m\u001b[38;5;124;43m'\u001b[39;49m\u001b[38;5;124;43mphase_flt_spec\u001b[39;49m\u001b[38;5;124;43m'\u001b[39;49m\u001b[43m]\u001b[49m\u001b[38;5;241m.\u001b[39munique()\n",
      "File \u001b[0;32m~/opt/anaconda3/lib/python3.8/site-packages/pandas/core/frame.py:3805\u001b[0m, in \u001b[0;36mDataFrame.__getitem__\u001b[0;34m(self, key)\u001b[0m\n\u001b[1;32m   3803\u001b[0m \u001b[38;5;28;01mif\u001b[39;00m \u001b[38;5;28mself\u001b[39m\u001b[38;5;241m.\u001b[39mcolumns\u001b[38;5;241m.\u001b[39mnlevels \u001b[38;5;241m>\u001b[39m \u001b[38;5;241m1\u001b[39m:\n\u001b[1;32m   3804\u001b[0m     \u001b[38;5;28;01mreturn\u001b[39;00m \u001b[38;5;28mself\u001b[39m\u001b[38;5;241m.\u001b[39m_getitem_multilevel(key)\n\u001b[0;32m-> 3805\u001b[0m indexer \u001b[38;5;241m=\u001b[39m \u001b[38;5;28;43mself\u001b[39;49m\u001b[38;5;241;43m.\u001b[39;49m\u001b[43mcolumns\u001b[49m\u001b[38;5;241;43m.\u001b[39;49m\u001b[43mget_loc\u001b[49m\u001b[43m(\u001b[49m\u001b[43mkey\u001b[49m\u001b[43m)\u001b[49m\n\u001b[1;32m   3806\u001b[0m \u001b[38;5;28;01mif\u001b[39;00m is_integer(indexer):\n\u001b[1;32m   3807\u001b[0m     indexer \u001b[38;5;241m=\u001b[39m [indexer]\n",
      "File \u001b[0;32m~/opt/anaconda3/lib/python3.8/site-packages/pandas/core/indexes/base.py:3805\u001b[0m, in \u001b[0;36mIndex.get_loc\u001b[0;34m(self, key, method, tolerance)\u001b[0m\n\u001b[1;32m   3803\u001b[0m     \u001b[38;5;28;01mreturn\u001b[39;00m \u001b[38;5;28mself\u001b[39m\u001b[38;5;241m.\u001b[39m_engine\u001b[38;5;241m.\u001b[39mget_loc(casted_key)\n\u001b[1;32m   3804\u001b[0m \u001b[38;5;28;01mexcept\u001b[39;00m \u001b[38;5;167;01mKeyError\u001b[39;00m \u001b[38;5;28;01mas\u001b[39;00m err:\n\u001b[0;32m-> 3805\u001b[0m     \u001b[38;5;28;01mraise\u001b[39;00m \u001b[38;5;167;01mKeyError\u001b[39;00m(key) \u001b[38;5;28;01mfrom\u001b[39;00m \u001b[38;5;21;01merr\u001b[39;00m\n\u001b[1;32m   3806\u001b[0m \u001b[38;5;28;01mexcept\u001b[39;00m \u001b[38;5;167;01mTypeError\u001b[39;00m:\n\u001b[1;32m   3807\u001b[0m     \u001b[38;5;66;03m# If we have a listlike key, _check_indexing_error will raise\u001b[39;00m\n\u001b[1;32m   3808\u001b[0m     \u001b[38;5;66;03m#  InvalidIndexError. Otherwise we fall through and re-raise\u001b[39;00m\n\u001b[1;32m   3809\u001b[0m     \u001b[38;5;66;03m#  the TypeError.\u001b[39;00m\n\u001b[1;32m   3810\u001b[0m     \u001b[38;5;28mself\u001b[39m\u001b[38;5;241m.\u001b[39m_check_indexing_error(key)\n",
      "\u001b[0;31mKeyError\u001b[0m: 'phase_flt_spec'"
     ]
    }
   ],
   "source": [
    "df['phase_flt_spec'].unique()"
   ]
  },
  {
   "cell_type": "code",
   "execution_count": 109,
   "id": "b2bb87cb",
   "metadata": {},
   "outputs": [
    {
     "name": "stdout",
     "output_type": "stream",
     "text": [
      "Result:\n",
      "        Unnamed: 0  aircraft_ev_id  far_part flight_plan_activated damage  \\\n",
      "26265       26265  20001214x42125       135                     n   subs   \n",
      "36022       36022  20040218x00198        91                     n   subs   \n",
      "35431       35431  20030721x01158        91                     n   dest   \n",
      "12200       12200  20001212x21263        91                     n   subs   \n",
      "12560       12560  20001212x22111        91                     n   dest   \n",
      "...           ...             ...       ...                   ...    ...   \n",
      "40209       40209  20221128106368        91                   NaN   subs   \n",
      "40214       40214  20221128106373        91                     n   subs   \n",
      "40206       40206  20221206106424        91                     n   subs   \n",
      "40212       40212  20221205106408        91                     y   dest   \n",
      "40207       40207  20221206106422        91                   NaN   subs   \n",
      "\n",
      "               acft_make   acft_model  cert_max_gr_wt  num_eng type_last_insp  \\\n",
      "26265              beech  other_model           small        2           aaip   \n",
      "36022             hughes  other_model           small        1           aaip   \n",
      "35431            unknown  other_model  large commuter        1            unk   \n",
      "12200             mooney  other_model           small        1           annl   \n",
      "12560              piper  other_model           small        2           aaip   \n",
      "...                  ...          ...             ...      ...            ...   \n",
      "40209             mooney  other_model  large commuter        1           100h   \n",
      "40214  childs michael  a  other_model           small        1           cond   \n",
      "40206             cessna         a185           small        1           100h   \n",
      "40212             cessna  other_model  large commuter        1           annl   \n",
      "40207      orlican s r o  other_model  large commuter        1           annl   \n",
      "\n",
      "       ... wx_cond_basic  crew_no  crew_category crew_age crew_sex med_certf  \\\n",
      "26265  ...           vmc      NaN            NaN      NaN      NaN       NaN   \n",
      "36022  ...           vmc      NaN            NaN      NaN      NaN       NaN   \n",
      "35431  ...           vmc      NaN            NaN      NaN      NaN       NaN   \n",
      "12200  ...           vmc      NaN            NaN      NaN      NaN       NaN   \n",
      "12560  ...           vmc      NaN            NaN      NaN      NaN       NaN   \n",
      "...    ...           ...      ...            ...      ...      ...       ...   \n",
      "40209  ...           imc      NaN            NaN      NaN      NaN       NaN   \n",
      "40214  ...           vmc      NaN            NaN      NaN      NaN       NaN   \n",
      "40206  ...           vmc      NaN            NaN      NaN      NaN       NaN   \n",
      "40212  ...           imc      NaN            NaN      NaN      NaN       NaN   \n",
      "40207  ...           vmc      NaN            NaN      NaN      NaN       NaN   \n",
      "\n",
      "      pilot_flying crew_inj_level secondary_eng_mfgr target  \n",
      "26265        False            NaN                NaN      3  \n",
      "36022        False            NaN                NaN      3  \n",
      "35431        False            NaN                NaN      4  \n",
      "12200        False            NaN                NaN      3  \n",
      "12560        False            NaN                NaN      4  \n",
      "...            ...            ...                ...    ...  \n",
      "40209          NaN            NaN                NaN      3  \n",
      "40214          NaN            NaN                NaN      3  \n",
      "40206          NaN            NaN                NaN      3  \n",
      "40212          NaN            NaN                NaN      4  \n",
      "40207          NaN            NaN                NaN      2  \n",
      "\n",
      "[1908 rows x 86 columns]\n"
     ]
    }
   ],
   "source": [
    "# Declaring a value that we need to find\n",
    "val = '0nan'\n",
    "\n",
    "# Finding our value in dataframe\n",
    "res = df[df.eq(val).any(1)]\n",
    "\n",
    "# Display result\n",
    "print(\"Result:\\n\",res)"
   ]
  },
  {
   "cell_type": "code",
   "execution_count": 170,
   "id": "609a85ff",
   "metadata": {},
   "outputs": [
    {
     "name": "stdout",
     "output_type": "stream",
     "text": [
      "Requirement already satisfied: keras in /Users/kathleenhill/opt/anaconda3/lib/python3.8/site-packages (2.11.0)\n",
      "Note: you may need to restart the kernel to use updated packages.\n"
     ]
    }
   ],
   "source": [
    "pip install keras"
   ]
  },
  {
   "cell_type": "code",
   "execution_count": 171,
   "id": "2688979c",
   "metadata": {},
   "outputs": [
    {
     "name": "stdout",
     "output_type": "stream",
     "text": [
      "Requirement already satisfied: sklearn in /Users/kathleenhill/opt/anaconda3/lib/python3.8/site-packages (0.0)\n",
      "Requirement already satisfied: scikit-learn in /Users/kathleenhill/opt/anaconda3/lib/python3.8/site-packages (from sklearn) (1.2.1)\n",
      "Requirement already satisfied: joblib>=1.1.1 in /Users/kathleenhill/opt/anaconda3/lib/python3.8/site-packages (from scikit-learn->sklearn) (1.2.0)\n",
      "Requirement already satisfied: numpy>=1.17.3 in /Users/kathleenhill/opt/anaconda3/lib/python3.8/site-packages (from scikit-learn->sklearn) (1.22.4)\n",
      "Requirement already satisfied: threadpoolctl>=2.0.0 in /Users/kathleenhill/opt/anaconda3/lib/python3.8/site-packages (from scikit-learn->sklearn) (2.1.0)\n",
      "Requirement already satisfied: scipy>=1.3.2 in /Users/kathleenhill/opt/anaconda3/lib/python3.8/site-packages (from scikit-learn->sklearn) (1.6.2)\n",
      "Note: you may need to restart the kernel to use updated packages.\n"
     ]
    }
   ],
   "source": [
    "pip install sklearn"
   ]
  },
  {
   "cell_type": "code",
   "execution_count": 173,
   "id": "d03e1cb2",
   "metadata": {},
   "outputs": [
    {
     "name": "stdout",
     "output_type": "stream",
     "text": [
      "You must install pydot (`pip install pydot`) and install graphviz (see instructions at https://graphviz.gitlab.io/download/) for plot_model to work.\n"
     ]
    },
    {
     "name": "stderr",
     "output_type": "stream",
     "text": [
      "2023-04-24 01:36:48.657859: I tensorflow/core/platform/cpu_feature_guard.cc:193] This TensorFlow binary is optimized with oneAPI Deep Neural Network Library (oneDNN) to use the following CPU instructions in performance-critical operations:  AVX2 AVX512F AVX512_VNNI FMA\n",
      "To enable them in other operations, rebuild TensorFlow with the appropriate compiler flags.\n"
     ]
    },
    {
     "name": "stdout",
     "output_type": "stream",
     "text": [
      "Epoch 1/20\n",
      "2057/2057 - 2s - loss: -5.8413e+02 - accuracy: 0.1697 - 2s/epoch - 1ms/step\n",
      "Epoch 2/20\n",
      "2057/2057 - 2s - loss: -6.4713e+03 - accuracy: 0.1703 - 2s/epoch - 816us/step\n",
      "Epoch 3/20\n",
      "2057/2057 - 2s - loss: -2.2003e+04 - accuracy: 0.1703 - 2s/epoch - 847us/step\n",
      "Epoch 4/20\n",
      "2057/2057 - 2s - loss: -4.9395e+04 - accuracy: 0.1703 - 2s/epoch - 784us/step\n",
      "Epoch 5/20\n",
      "2057/2057 - 2s - loss: -9.0746e+04 - accuracy: 0.1703 - 2s/epoch - 829us/step\n",
      "Epoch 6/20\n",
      "2057/2057 - 2s - loss: -1.4841e+05 - accuracy: 0.1703 - 2s/epoch - 851us/step\n",
      "Epoch 7/20\n",
      "2057/2057 - 2s - loss: -2.2460e+05 - accuracy: 0.1703 - 2s/epoch - 796us/step\n",
      "Epoch 8/20\n",
      "2057/2057 - 2s - loss: -3.2135e+05 - accuracy: 0.1703 - 2s/epoch - 880us/step\n",
      "Epoch 9/20\n",
      "2057/2057 - 2s - loss: -4.4092e+05 - accuracy: 0.1703 - 2s/epoch - 781us/step\n",
      "Epoch 10/20\n",
      "2057/2057 - 2s - loss: -5.8574e+05 - accuracy: 0.1703 - 2s/epoch - 820us/step\n",
      "Epoch 11/20\n",
      "2057/2057 - 2s - loss: -7.5751e+05 - accuracy: 0.1703 - 2s/epoch - 1ms/step\n",
      "Epoch 12/20\n",
      "2057/2057 - 2s - loss: -9.5854e+05 - accuracy: 0.1703 - 2s/epoch - 822us/step\n",
      "Epoch 13/20\n",
      "2057/2057 - 2s - loss: -1.1908e+06 - accuracy: 0.1703 - 2s/epoch - 806us/step\n",
      "Epoch 14/20\n",
      "2057/2057 - 2s - loss: -1.4567e+06 - accuracy: 0.1703 - 2s/epoch - 836us/step\n",
      "Epoch 15/20\n",
      "2057/2057 - 2s - loss: -1.7580e+06 - accuracy: 0.1703 - 2s/epoch - 778us/step\n",
      "Epoch 16/20\n",
      "2057/2057 - 2s - loss: -2.0971e+06 - accuracy: 0.1703 - 2s/epoch - 812us/step\n",
      "Epoch 17/20\n",
      "2057/2057 - 2s - loss: -2.4762e+06 - accuracy: 0.1703 - 2s/epoch - 1ms/step\n",
      "Epoch 18/20\n",
      "2057/2057 - 2s - loss: -2.8975e+06 - accuracy: 0.1703 - 2s/epoch - 859us/step\n",
      "Epoch 19/20\n",
      "2057/2057 - 2s - loss: -3.3628e+06 - accuracy: 0.1703 - 2s/epoch - 959us/step\n",
      "Epoch 20/20\n",
      "2057/2057 - 2s - loss: -3.8740e+06 - accuracy: 0.1703 - 2s/epoch - 875us/step\n",
      "Accuracy: 17.32\n"
     ]
    }
   ],
   "source": [
    "# example of learned embedding encoding for a neural network\n",
    "from numpy import unique\n",
    "from pandas import read_csv\n",
    "from sklearn.model_selection import train_test_split\n",
    "from sklearn.preprocessing import LabelEncoder\n",
    "from keras.models import Model\n",
    "from keras.layers import Input\n",
    "from keras.layers import Dense\n",
    "from keras.layers import Embedding\n",
    "from keras.layers import concatenate\n",
    "from keras.utils import plot_model\n",
    " \n",
    "# load the dataset\n",
    "def load_dataset(filename):\n",
    " # load the dataset as a pandas DataFrame\n",
    " data = df\n",
    " # retrieve numpy array\n",
    " dataset = data.values\n",
    " # split into input (X) and output (y) variables\n",
    " X = dataset[:, :-1]\n",
    " y = dataset[:,-1]\n",
    " # format all fields as string\n",
    " X = X.astype(str)\n",
    " # reshape target to be a 2d array\n",
    " y = y.reshape((len(y), 1))\n",
    " return X, y\n",
    " \n",
    "# prepare input data\n",
    "def prepare_inputs(X_train, X_test):\n",
    " X_train_enc, X_test_enc = list(), list()\n",
    " # label encode each column\n",
    " for i in range(X_train.shape[1]):\n",
    "     le = LabelEncoder()\n",
    " le.fit(X_train[:, i])\n",
    " # encode\n",
    " train_enc = le.transform(X_train[:, i])\n",
    " test_enc = le.transform(X_test[:, i])\n",
    " # store\n",
    " X_train_enc.append(train_enc)\n",
    " X_test_enc.append(test_enc)\n",
    " return X_train_enc, X_test_enc\n",
    " \n",
    "# prepare target\n",
    "def prepare_targets(y_train, y_test):\n",
    " le = LabelEncoder()\n",
    " le.fit(y_train)\n",
    " y_train_enc = le.transform(y_train)\n",
    " y_test_enc = le.transform(y_test)\n",
    " return y_train_enc, y_test_enc\n",
    " \n",
    "# load the dataset\n",
    "X, y = load_dataset('breast-cancer.csv')\n",
    "# split into train and test sets\n",
    "X_train, X_test, y_train, y_test = train_test_split(X, y, test_size=0.33, random_state=1)\n",
    "# prepare input data\n",
    "X_train_enc, X_test_enc = prepare_inputs(X_train, X_test)\n",
    "# prepare output data\n",
    "y_train_enc, y_test_enc = prepare_targets(y_train, y_test)\n",
    "# make output 3d\n",
    "y_train_enc = y_train_enc.reshape((len(y_train_enc), 1, 1))\n",
    "y_test_enc = y_test_enc.reshape((len(y_test_enc), 1, 1))\n",
    "# prepare each input head\n",
    "in_layers = list()\n",
    "em_layers = list()\n",
    "for i in range(len(X_train_enc)):\n",
    " # calculate the number of unique inputs\n",
    " n_labels = len(unique(X_train_enc[i]))\n",
    " # define input layer\n",
    " in_layer = Input(shape=(1,))\n",
    " # define embedding layer\n",
    " em_layer = Embedding(n_labels, 10)(in_layer)\n",
    " # store layers\n",
    " in_layers.append(in_layer)\n",
    " em_layers.append(em_layer)\n",
    "# concat all embeddings\n",
    "merge = concatenate(em_layers)\n",
    "dense = Dense(10, activation='relu', kernel_initializer='he_normal')(merge)\n",
    "output = Dense(1, activation='sigmoid')(dense)\n",
    "model = Model(inputs=in_layers, outputs=output)\n",
    "# compile the keras model\n",
    "model.compile(loss='binary_crossentropy', optimizer='adam', metrics=['accuracy'])\n",
    "# plot graph\n",
    "plot_model(model, show_shapes=True, to_file='embeddings.png')\n",
    "# fit the keras model on the dataset\n",
    "model.fit(X_train_enc, y_train_enc, epochs=20, batch_size=16, verbose=2)\n",
    "# evaluate the keras model\n",
    "_, accuracy = model.evaluate(X_test_enc, y_test_enc, verbose=0)\n",
    "print('Accuracy: %.2f' % (accuracy*100))"
   ]
  },
  {
   "cell_type": "code",
   "execution_count": null,
   "id": "057dc769",
   "metadata": {},
   "outputs": [],
   "source": []
  },
  {
   "cell_type": "code",
   "execution_count": null,
   "id": "c6c66ec8",
   "metadata": {},
   "outputs": [],
   "source": []
  },
  {
   "cell_type": "code",
   "execution_count": 174,
   "id": "b0016049",
   "metadata": {},
   "outputs": [],
   "source": [
    "import tensorflow as tf\n",
    "import pandas as pd\n",
    "import numpy as np\n",
    "import random\n",
    "from sklearn.model_selection import train_test_split"
   ]
  },
  {
   "cell_type": "code",
   "execution_count": 175,
   "id": "129d9e44",
   "metadata": {},
   "outputs": [
    {
     "name": "stdout",
     "output_type": "stream",
     "text": [
      "(39286, 85)\n",
      "(39286,)\n",
      "(4910, 85)\n",
      "(4910,)\n",
      "(4912, 85)\n",
      "(4912,)\n"
     ]
    },
    {
     "data": {
      "text/plain": [
       "(None, None)"
      ]
     },
     "execution_count": 175,
     "metadata": {},
     "output_type": "execute_result"
    }
   ],
   "source": [
    "#Splitting the dataset into Test/Train/Validate based on time \n",
    "\n",
    "df = pd.read_csv('labeled_clean_ntsb.csv', parse_dates=['ev_date'], low_memory=False)\n",
    "\n",
    "# Let's say we want to split the data in 80:10:10 for train:valid:test dataset\n",
    "train_size = 0.8\n",
    "valid_size=0.1\n",
    "\n",
    "train_index = int(len(df)*train_size)\n",
    "\n",
    "# First we need to sort the dataset by the desired column \n",
    "df.sort_values(by = 'ev_date', ascending=True, inplace=True)\n",
    "\n",
    "df_train = df[0:train_index]\n",
    "df_rem = df[train_index:]\n",
    "\n",
    "valid_index = int(len(df)*valid_size)\n",
    "\n",
    "df_valid = df[train_index:train_index+valid_index]\n",
    "df_test = df[train_index+valid_index:]\n",
    "\n",
    "X_train, y_train = df_train.drop(columns='target').copy(), df_train['target'].copy()\n",
    "X_valid, y_valid = df_valid.drop(columns='target').copy(), df_valid['target'].copy()\n",
    "X_test, y_test = df_test.drop(columns='target').copy(), df_test['target'].copy()\n",
    "        \n",
    "print(X_train.shape), print(y_train.shape)\n",
    "print(X_valid.shape), print(y_valid.shape)\n",
    "print(X_test.shape), print(y_test.shape)"
   ]
  },
  {
   "cell_type": "code",
   "execution_count": 176,
   "id": "ca6e6347",
   "metadata": {},
   "outputs": [],
   "source": [
    "#https://www.tensorflow.org/tutorials/structured_data/feature_columns\n",
    "\n",
    "# In the original dataset \"4\" indicates the pet was not adopted.\n",
    "df['target'] = np.where(dataframe['AdoptionSpeed']==4, 0, 1)\n",
    "\n",
    "# Drop un-used columns.\n",
    "dataframe = dataframe.drop(columns=['AdoptionSpeed', 'Description'])"
   ]
  },
  {
   "cell_type": "code",
   "execution_count": null,
   "id": "225538de",
   "metadata": {},
   "outputs": [],
   "source": []
  },
  {
   "cell_type": "code",
   "execution_count": null,
   "id": "abe7a418",
   "metadata": {},
   "outputs": [],
   "source": []
  },
  {
   "cell_type": "code",
   "execution_count": null,
   "id": "f05842aa",
   "metadata": {},
   "outputs": [],
   "source": []
  },
  {
   "cell_type": "code",
   "execution_count": null,
   "id": "182fec30",
   "metadata": {},
   "outputs": [],
   "source": []
  }
 ],
 "metadata": {
  "kernelspec": {
   "display_name": "Python 3 (ipykernel)",
   "language": "python",
   "name": "python3"
  },
  "language_info": {
   "codemirror_mode": {
    "name": "ipython",
    "version": 3
   },
   "file_extension": ".py",
   "mimetype": "text/x-python",
   "name": "python",
   "nbconvert_exporter": "python",
   "pygments_lexer": "ipython3",
   "version": "3.8.8"
  }
 },
 "nbformat": 4,
 "nbformat_minor": 5
}
