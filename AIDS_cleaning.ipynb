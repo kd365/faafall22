{
 "cells": [
  {
   "cell_type": "markdown",
   "id": "f578c2ac-fb7f-4289-b2bf-cb4496bac85c",
   "metadata": {},
   "source": [
    "# AIDS data "
   ]
  },
  {
   "cell_type": "markdown",
   "id": "b27ee6ab-37ed-4ca1-bb65-41e3a4bdd910",
   "metadata": {},
   "source": [
    "### Cleaning Process:\n",
    "1. Import data\n",
    "2. Initial column drop, sort and rename\n",
    "3. Filter records for accidents caused by weather, airport, environment, etc. \n",
    "    - 3A. filter to exclude Part 121, 125, 129 records (excluding air transport carriers)\n",
    "    - 3B. filter records based on cause (i.e. primary cause, secondary cause, contributing cause...)\n",
    "4. Rename columns with text labels\n",
    "5. Continue dropping irrelevant columns\n",
    "    - Goal here is to keep columns that are relevant to one of the following:\n",
    "        - Information provided through a FRAT process\n",
    "        - Columns that can provide informatino to derive a severity rating\n",
    "        - Information about the data (meta data) like, date, time, location, record number etc. \n",
    "6. Replace all white space entries with np.nan. \n",
    "    - There are many entries in the data set that are empty strings: '       ' and pandas does not register them as NaN resulting in the column looking like it does not have null values\n",
    "7. Drop cols, impute and clean data:\n",
    "    - drop columns where there is too much missing data that can not be imputed or missing records removed. \n",
    "    - impute missing data\n",
    "    - clean up text and other things in each column\n",
    "8. Match airport names between AIDS and Airports datasets\n",
    "    - The AIDS data set has abbreviations and truncations that prevent a 1:1 match, using fuzzy matching to get best match for name in Airport dataset"
   ]
  },
  {
   "cell_type": "markdown",
   "id": "27d0b30e-d1d1-411e-b1dd-5b2851d508ce",
   "metadata": {},
   "source": [
    "## 1: import data"
   ]
  },
  {
   "cell_type": "code",
   "execution_count": 1,
   "id": "cab7db2b-b8e1-4961-bd86-ff42f1eb8409",
   "metadata": {},
   "outputs": [],
   "source": [
    "import pandas as pd\n",
    "import re\n",
    "from scipy import stats\n",
    "import matplotlib.pyplot as plt\n",
    "import numpy as np\n",
    "from datetime import datetime\n",
    "from sklearn.feature_extraction.text import TfidfVectorizer\n",
    "from scipy.sparse import csr_matrix\n",
    "from sklearn.metrics.pairwise import cosine_similarity\n",
    "import sparse_dot_topn.sparse_dot_topn as ct\n",
    "from polyfuzz.models import TFIDF\n",
    "from polyfuzz import PolyFuzz\n",
    "\n",
    "pd.set_option(\"display.max_columns\", 200)\n",
    "pd.set_option(\"display.max_rows\", 200)\n",
    "pd.set_option(\"display.max_info_columns\", 200)"
   ]
  },
  {
   "cell_type": "code",
   "execution_count": 2,
   "id": "d743521c-f9df-47ab-81dc-d7ddcd3577a5",
   "metadata": {},
   "outputs": [
    {
     "name": "stderr",
     "output_type": "stream",
     "text": [
      "C:\\Users\\htwal\\AppData\\Local\\Temp\\ipykernel_20668\\3186813002.py:1: DtypeWarning: Columns (2,3,58,74,77,80) have mixed types. Specify dtype option on import or set low_memory=False.\n",
      "  aids_80_84 = pd.read_csv(r\"C:\\Users\\htwal\\OneDrive\\Documents\\FAA Data Challenge\\data\\AIDS data\\a1980_84.txt\", sep='\\t', lineterminator='\\n', on_bad_lines=\"skip\")\n",
      "C:\\Users\\htwal\\AppData\\Local\\Temp\\ipykernel_20668\\3186813002.py:2: DtypeWarning: Columns (2,3,74,75,80,81) have mixed types. Specify dtype option on import or set low_memory=False.\n",
      "  aids_85_89 = pd.read_csv(r\"C:\\Users\\htwal\\OneDrive\\Documents\\FAA Data Challenge\\data\\AIDS data\\a1985_89.txt\", sep='\\t', lineterminator='\\n', on_bad_lines=\"skip\")\n",
      "C:\\Users\\htwal\\AppData\\Local\\Temp\\ipykernel_20668\\3186813002.py:3: DtypeWarning: Columns (80,81) have mixed types. Specify dtype option on import or set low_memory=False.\n",
      "  aids_90_94 = pd.read_csv(r\"C:\\Users\\htwal\\OneDrive\\Documents\\FAA Data Challenge\\data\\AIDS data\\a1990_94.txt\", sep='\\t', lineterminator='\\n', on_bad_lines=\"skip\")\n",
      "C:\\Users\\htwal\\AppData\\Local\\Temp\\ipykernel_20668\\3186813002.py:4: DtypeWarning: Columns (74,80,81) have mixed types. Specify dtype option on import or set low_memory=False.\n",
      "  aids_95_99 = pd.read_csv(r\"C:\\Users\\htwal\\OneDrive\\Documents\\FAA Data Challenge\\data\\AIDS data\\a1995_99.txt\", sep='\\t', lineterminator='\\n', on_bad_lines=\"skip\")\n",
      "C:\\Users\\htwal\\AppData\\Local\\Temp\\ipykernel_20668\\3186813002.py:5: DtypeWarning: Columns (2,3,68,74,80) have mixed types. Specify dtype option on import or set low_memory=False.\n",
      "  aids_00_04 = pd.read_csv(r\"C:\\Users\\htwal\\OneDrive\\Documents\\FAA Data Challenge\\data\\AIDS data\\1. aids_2000_04.txt\", sep='\\t', lineterminator='\\n')\n",
      "C:\\Users\\htwal\\AppData\\Local\\Temp\\ipykernel_20668\\3186813002.py:6: DtypeWarning: Columns (2,3,10,43,59,67,69,70,72,76,111) have mixed types. Specify dtype option on import or set low_memory=False.\n",
      "  aids_05_09 = pd.read_csv(r\"C:\\Users\\htwal\\OneDrive\\Documents\\FAA Data Challenge\\data\\AIDS data\\2. aids_2005_09.txt\", sep='\\t', lineterminator='\\n')\n",
      "C:\\Users\\htwal\\AppData\\Local\\Temp\\ipykernel_20668\\3186813002.py:7: DtypeWarning: Columns (76,81) have mixed types. Specify dtype option on import or set low_memory=False.\n",
      "  aids_10_14 = pd.read_csv(r\"C:\\Users\\htwal\\OneDrive\\Documents\\FAA Data Challenge\\data\\AIDS data\\3. aids_2010_14.txt\", sep='\\t', lineterminator='\\n', on_bad_lines=\"skip\")\n"
     ]
    }
   ],
   "source": [
    "aids_80_84 = pd.read_csv(r\"C:\\Users\\htwal\\OneDrive\\Documents\\FAA Data Challenge\\data\\AIDS data\\a1980_84.txt\", sep='\\t', lineterminator='\\n', on_bad_lines=\"skip\")\n",
    "aids_85_89 = pd.read_csv(r\"C:\\Users\\htwal\\OneDrive\\Documents\\FAA Data Challenge\\data\\AIDS data\\a1985_89.txt\", sep='\\t', lineterminator='\\n', on_bad_lines=\"skip\")\n",
    "aids_90_94 = pd.read_csv(r\"C:\\Users\\htwal\\OneDrive\\Documents\\FAA Data Challenge\\data\\AIDS data\\a1990_94.txt\", sep='\\t', lineterminator='\\n', on_bad_lines=\"skip\")\n",
    "aids_95_99 = pd.read_csv(r\"C:\\Users\\htwal\\OneDrive\\Documents\\FAA Data Challenge\\data\\AIDS data\\a1995_99.txt\", sep='\\t', lineterminator='\\n', on_bad_lines=\"skip\")\n",
    "aids_00_04 = pd.read_csv(r\"C:\\Users\\htwal\\OneDrive\\Documents\\FAA Data Challenge\\data\\AIDS data\\1. aids_2000_04.txt\", sep='\\t', lineterminator='\\n')\n",
    "aids_05_09 = pd.read_csv(r\"C:\\Users\\htwal\\OneDrive\\Documents\\FAA Data Challenge\\data\\AIDS data\\2. aids_2005_09.txt\", sep='\\t', lineterminator='\\n')\n",
    "aids_10_14 = pd.read_csv(r\"C:\\Users\\htwal\\OneDrive\\Documents\\FAA Data Challenge\\data\\AIDS data\\3. aids_2010_14.txt\", sep='\\t', lineterminator='\\n', on_bad_lines=\"skip\")\n",
    "aids_15_19 = pd.read_csv(r\"C:\\Users\\htwal\\OneDrive\\Documents\\FAA Data Challenge\\data\\AIDS data\\4. aids_2015_19.txt\", sep='\\t', lineterminator='\\n', on_bad_lines=\"skip\")\n",
    "aids_20_22 = pd.read_csv(r\"C:\\Users\\htwal\\OneDrive\\Documents\\FAA Data Challenge\\data\\AIDS data\\5. aids_2020_25.txt\", sep='\\t', lineterminator='\\n', on_bad_lines=\"skip\")"
   ]
  },
  {
   "cell_type": "markdown",
   "id": "01cc8779-b730-444c-ac5d-28b9197b707d",
   "metadata": {},
   "source": [
    "## 2: rename, sort and initial irrelevant column removal"
   ]
  },
  {
   "cell_type": "code",
   "execution_count": 3,
   "id": "9fedcf36-2828-480e-b110-b5b302e561f5",
   "metadata": {},
   "outputs": [],
   "source": [
    "# create function to rename columns as their number. \n",
    "# will rename cols later\n",
    "def rename_cols(df):\n",
    "    ''' Standardizes column names to make them sortable.\n",
    "    \n",
    "    Return: dataframe with columns sorted by name in ascending \n",
    "    order ''' \n",
    "    # get list of columns\n",
    "    col_names = list(df.columns)[:-1]\n",
    "    # loop to remove c\n",
    "    new_col_names = []\n",
    "    for name in col_names:\n",
    "        new_name = re.sub('[c]', '', name)\n",
    "        new_col_names.append(int(new_name))\n",
    "    name_dict = dict(zip(col_names, new_col_names))\n",
    "    # rename cols in df\n",
    "    df = df.rename(columns=name_dict)\n",
    "    # return df\n",
    "    return df\n",
    "\n",
    "# create a function to sort columns in ascending order drop listed cols\n",
    "def sort_and_drop_cols(df, list_to_drop):\n",
    "    ''' Sorts and drops colums from the dataframe.\n",
    "    \n",
    "    Return: dataframe with columns sorted\n",
    "    '''\n",
    "    df = df.drop(columns=['end_of_record\\r'])\n",
    "    df = df.sort_index(axis=1)\n",
    "    df = df.drop(columns=list_to_drop)\n",
    "    return df"
   ]
  },
  {
   "cell_type": "code",
   "execution_count": 4,
   "id": "c3819f06-c805-4e53-b1ff-457c5ccd6bdd",
   "metadata": {},
   "outputs": [],
   "source": [
    "# concatenate all dataframes\n",
    "dfs = [aids_80_84, aids_85_89, aids_90_94, aids_95_99, aids_00_04, aids_05_09, aids_10_14, aids_15_19, aids_20_22]\n",
    "aids = pd.concat(dfs)\n",
    "\n",
    "# clean up dataframe with functions above\n",
    "aids = aids.drop(columns=['end_of_record\\r'])\n",
    "aids = rename_cols(aids)"
   ]
  },
  {
   "cell_type": "code",
   "execution_count": 5,
   "id": "cc4de12e-5306-4b16-b565-d741d725161f",
   "metadata": {},
   "outputs": [
    {
     "data": {
      "text/plain": [
       "(182912, 180)"
      ]
     },
     "execution_count": 5,
     "metadata": {},
     "output_type": "execute_result"
    }
   ],
   "source": [
    "aids.shape"
   ]
  },
  {
   "cell_type": "markdown",
   "id": "97c1eb41-93e9-46fa-8dd2-64715549598a",
   "metadata": {},
   "source": [
    "#### NOTE:\n",
    "- Initial dataframe consists of records from 1980-2022, 42 years of accident data. \n",
    "- Overall there are 182912 records and over 180 attributes. "
   ]
  },
  {
   "cell_type": "code",
   "execution_count": 6,
   "id": "0399a2c7-6e29-499d-ab7b-c7db802d04b0",
   "metadata": {},
   "outputs": [],
   "source": [
    "# initial dropping of columns, columns to keep \n",
    "keep = [5, 1, 2, 9, 10, 144, 145, 147, 151, 153, 157, 160, 162, 233, 234, 23, 24, 25,\n",
    "        30, 31, 33, 34, 39, 11, 13, 14, 15, 16, 20, 21, 102, 106, 110, 112, 113, 114, 115, \n",
    "        117, 118, 143, 240, 241, 242, 243, 76, 250, 53, 54, 55, 56, 129, 98, 40, 44, 48, 77,  \n",
    "        79, 83, 85, 87, 91, 93, 95, 97, 99, 101, 103, 105, 107, 109, 148, 156, 158, 161, 163, \n",
    "        183, 191]\n",
    "\n",
    "# filter cols:\n",
    "aids = aids[keep]"
   ]
  },
  {
   "cell_type": "code",
   "execution_count": 7,
   "id": "c56c26ed-1ed5-4e06-86e6-2c242a79347d",
   "metadata": {},
   "outputs": [
    {
     "data": {
      "text/plain": [
       "(182912, 77)"
      ]
     },
     "execution_count": 7,
     "metadata": {},
     "output_type": "execute_result"
    }
   ],
   "source": [
    "aids.shape"
   ]
  },
  {
   "cell_type": "code",
   "execution_count": 8,
   "id": "9a67fc53-fa9b-44b5-83be-2e33536028ec",
   "metadata": {
    "tags": []
   },
   "outputs": [
    {
     "data": {
      "text/html": [
       "<div>\n",
       "<style scoped>\n",
       "    .dataframe tbody tr th:only-of-type {\n",
       "        vertical-align: middle;\n",
       "    }\n",
       "\n",
       "    .dataframe tbody tr th {\n",
       "        vertical-align: top;\n",
       "    }\n",
       "\n",
       "    .dataframe thead th {\n",
       "        text-align: right;\n",
       "    }\n",
       "</style>\n",
       "<table border=\"1\" class=\"dataframe\">\n",
       "  <thead>\n",
       "    <tr style=\"text-align: right;\">\n",
       "      <th></th>\n",
       "      <th>9</th>\n",
       "      <th>77</th>\n",
       "    </tr>\n",
       "  </thead>\n",
       "  <tbody>\n",
       "    <tr>\n",
       "      <th>4491</th>\n",
       "      <td>20211104</td>\n",
       "      <td></td>\n",
       "    </tr>\n",
       "    <tr>\n",
       "      <th>4492</th>\n",
       "      <td>20211109</td>\n",
       "      <td></td>\n",
       "    </tr>\n",
       "    <tr>\n",
       "      <th>4493</th>\n",
       "      <td>20211027</td>\n",
       "      <td></td>\n",
       "    </tr>\n",
       "    <tr>\n",
       "      <th>4494</th>\n",
       "      <td>20211027</td>\n",
       "      <td></td>\n",
       "    </tr>\n",
       "    <tr>\n",
       "      <th>4495</th>\n",
       "      <td>20211028</td>\n",
       "      <td></td>\n",
       "    </tr>\n",
       "    <tr>\n",
       "      <th>4496</th>\n",
       "      <td>20211028</td>\n",
       "      <td></td>\n",
       "    </tr>\n",
       "    <tr>\n",
       "      <th>4497</th>\n",
       "      <td>20211104</td>\n",
       "      <td></td>\n",
       "    </tr>\n",
       "    <tr>\n",
       "      <th>4498</th>\n",
       "      <td>20211104</td>\n",
       "      <td></td>\n",
       "    </tr>\n",
       "    <tr>\n",
       "      <th>4499</th>\n",
       "      <td>20211104</td>\n",
       "      <td></td>\n",
       "    </tr>\n",
       "    <tr>\n",
       "      <th>4500</th>\n",
       "      <td>20211031</td>\n",
       "      <td></td>\n",
       "    </tr>\n",
       "    <tr>\n",
       "      <th>4501</th>\n",
       "      <td>20211031</td>\n",
       "      <td></td>\n",
       "    </tr>\n",
       "    <tr>\n",
       "      <th>4502</th>\n",
       "      <td>20211029</td>\n",
       "      <td></td>\n",
       "    </tr>\n",
       "    <tr>\n",
       "      <th>4503</th>\n",
       "      <td>20211122</td>\n",
       "      <td></td>\n",
       "    </tr>\n",
       "    <tr>\n",
       "      <th>4504</th>\n",
       "      <td>20211201</td>\n",
       "      <td></td>\n",
       "    </tr>\n",
       "    <tr>\n",
       "      <th>4505</th>\n",
       "      <td>20211025</td>\n",
       "      <td></td>\n",
       "    </tr>\n",
       "    <tr>\n",
       "      <th>4506</th>\n",
       "      <td>20211024</td>\n",
       "      <td></td>\n",
       "    </tr>\n",
       "    <tr>\n",
       "      <th>4507</th>\n",
       "      <td>20211015</td>\n",
       "      <td></td>\n",
       "    </tr>\n",
       "    <tr>\n",
       "      <th>4508</th>\n",
       "      <td>20211016</td>\n",
       "      <td></td>\n",
       "    </tr>\n",
       "    <tr>\n",
       "      <th>4509</th>\n",
       "      <td>20211225</td>\n",
       "      <td></td>\n",
       "    </tr>\n",
       "    <tr>\n",
       "      <th>4510</th>\n",
       "      <td>20211226</td>\n",
       "      <td></td>\n",
       "    </tr>\n",
       "    <tr>\n",
       "      <th>4511</th>\n",
       "      <td>20211226</td>\n",
       "      <td></td>\n",
       "    </tr>\n",
       "    <tr>\n",
       "      <th>4512</th>\n",
       "      <td>20211227</td>\n",
       "      <td></td>\n",
       "    </tr>\n",
       "    <tr>\n",
       "      <th>4513</th>\n",
       "      <td>20211228</td>\n",
       "      <td></td>\n",
       "    </tr>\n",
       "    <tr>\n",
       "      <th>4514</th>\n",
       "      <td>20211230</td>\n",
       "      <td></td>\n",
       "    </tr>\n",
       "    <tr>\n",
       "      <th>4515</th>\n",
       "      <td>20220101</td>\n",
       "      <td></td>\n",
       "    </tr>\n",
       "    <tr>\n",
       "      <th>4516</th>\n",
       "      <td>20211225</td>\n",
       "      <td></td>\n",
       "    </tr>\n",
       "    <tr>\n",
       "      <th>4517</th>\n",
       "      <td>20211203</td>\n",
       "      <td></td>\n",
       "    </tr>\n",
       "    <tr>\n",
       "      <th>4518</th>\n",
       "      <td>20211126</td>\n",
       "      <td></td>\n",
       "    </tr>\n",
       "    <tr>\n",
       "      <th>4519</th>\n",
       "      <td>20211113</td>\n",
       "      <td>5720</td>\n",
       "    </tr>\n",
       "    <tr>\n",
       "      <th>4520</th>\n",
       "      <td>20220101</td>\n",
       "      <td></td>\n",
       "    </tr>\n",
       "    <tr>\n",
       "      <th>4521</th>\n",
       "      <td>20220104</td>\n",
       "      <td></td>\n",
       "    </tr>\n",
       "    <tr>\n",
       "      <th>4522</th>\n",
       "      <td>20220104</td>\n",
       "      <td></td>\n",
       "    </tr>\n",
       "    <tr>\n",
       "      <th>4523</th>\n",
       "      <td>20220104</td>\n",
       "      <td></td>\n",
       "    </tr>\n",
       "    <tr>\n",
       "      <th>4524</th>\n",
       "      <td>20220105</td>\n",
       "      <td></td>\n",
       "    </tr>\n",
       "    <tr>\n",
       "      <th>4525</th>\n",
       "      <td>20220106</td>\n",
       "      <td>2421</td>\n",
       "    </tr>\n",
       "    <tr>\n",
       "      <th>4526</th>\n",
       "      <td>20211230</td>\n",
       "      <td></td>\n",
       "    </tr>\n",
       "    <tr>\n",
       "      <th>4527</th>\n",
       "      <td>20220121</td>\n",
       "      <td></td>\n",
       "    </tr>\n",
       "    <tr>\n",
       "      <th>4528</th>\n",
       "      <td>20220122</td>\n",
       "      <td></td>\n",
       "    </tr>\n",
       "    <tr>\n",
       "      <th>4529</th>\n",
       "      <td>20220204</td>\n",
       "      <td>3200</td>\n",
       "    </tr>\n",
       "    <tr>\n",
       "      <th>4530</th>\n",
       "      <td>20220215</td>\n",
       "      <td></td>\n",
       "    </tr>\n",
       "    <tr>\n",
       "      <th>4531</th>\n",
       "      <td>20220215</td>\n",
       "      <td></td>\n",
       "    </tr>\n",
       "    <tr>\n",
       "      <th>4532</th>\n",
       "      <td>20220211</td>\n",
       "      <td></td>\n",
       "    </tr>\n",
       "    <tr>\n",
       "      <th>4533</th>\n",
       "      <td>20211230</td>\n",
       "      <td></td>\n",
       "    </tr>\n",
       "    <tr>\n",
       "      <th>4534</th>\n",
       "      <td>20220101</td>\n",
       "      <td></td>\n",
       "    </tr>\n",
       "    <tr>\n",
       "      <th>4535</th>\n",
       "      <td>20220101</td>\n",
       "      <td></td>\n",
       "    </tr>\n",
       "    <tr>\n",
       "      <th>4536</th>\n",
       "      <td>20220101</td>\n",
       "      <td></td>\n",
       "    </tr>\n",
       "    <tr>\n",
       "      <th>4537</th>\n",
       "      <td>20220102</td>\n",
       "      <td></td>\n",
       "    </tr>\n",
       "    <tr>\n",
       "      <th>4538</th>\n",
       "      <td>20220102</td>\n",
       "      <td></td>\n",
       "    </tr>\n",
       "    <tr>\n",
       "      <th>4539</th>\n",
       "      <td>20211018</td>\n",
       "      <td></td>\n",
       "    </tr>\n",
       "    <tr>\n",
       "      <th>4540</th>\n",
       "      <td>20211208</td>\n",
       "      <td></td>\n",
       "    </tr>\n",
       "    <tr>\n",
       "      <th>4541</th>\n",
       "      <td>20220102</td>\n",
       "      <td></td>\n",
       "    </tr>\n",
       "    <tr>\n",
       "      <th>4542</th>\n",
       "      <td>20220106</td>\n",
       "      <td></td>\n",
       "    </tr>\n",
       "    <tr>\n",
       "      <th>4543</th>\n",
       "      <td>20220107</td>\n",
       "      <td>3200</td>\n",
       "    </tr>\n",
       "    <tr>\n",
       "      <th>4544</th>\n",
       "      <td>20211230</td>\n",
       "      <td></td>\n",
       "    </tr>\n",
       "    <tr>\n",
       "      <th>4545</th>\n",
       "      <td>20220108</td>\n",
       "      <td></td>\n",
       "    </tr>\n",
       "    <tr>\n",
       "      <th>4546</th>\n",
       "      <td>20220108</td>\n",
       "      <td></td>\n",
       "    </tr>\n",
       "    <tr>\n",
       "      <th>4547</th>\n",
       "      <td>20220108</td>\n",
       "      <td></td>\n",
       "    </tr>\n",
       "    <tr>\n",
       "      <th>4548</th>\n",
       "      <td>20220108</td>\n",
       "      <td></td>\n",
       "    </tr>\n",
       "    <tr>\n",
       "      <th>4549</th>\n",
       "      <td>20220303</td>\n",
       "      <td></td>\n",
       "    </tr>\n",
       "    <tr>\n",
       "      <th>4550</th>\n",
       "      <td>20220109</td>\n",
       "      <td></td>\n",
       "    </tr>\n",
       "    <tr>\n",
       "      <th>4551</th>\n",
       "      <td>20211230</td>\n",
       "      <td></td>\n",
       "    </tr>\n",
       "    <tr>\n",
       "      <th>4552</th>\n",
       "      <td>20211231</td>\n",
       "      <td></td>\n",
       "    </tr>\n",
       "    <tr>\n",
       "      <th>4553</th>\n",
       "      <td>20211231</td>\n",
       "      <td></td>\n",
       "    </tr>\n",
       "    <tr>\n",
       "      <th>4554</th>\n",
       "      <td>20211216</td>\n",
       "      <td></td>\n",
       "    </tr>\n",
       "    <tr>\n",
       "      <th>4555</th>\n",
       "      <td>20211024</td>\n",
       "      <td></td>\n",
       "    </tr>\n",
       "    <tr>\n",
       "      <th>4556</th>\n",
       "      <td>20211128</td>\n",
       "      <td></td>\n",
       "    </tr>\n",
       "    <tr>\n",
       "      <th>4557</th>\n",
       "      <td>20220105</td>\n",
       "      <td></td>\n",
       "    </tr>\n",
       "    <tr>\n",
       "      <th>4558</th>\n",
       "      <td>20220102</td>\n",
       "      <td></td>\n",
       "    </tr>\n",
       "    <tr>\n",
       "      <th>4559</th>\n",
       "      <td>20220109</td>\n",
       "      <td></td>\n",
       "    </tr>\n",
       "    <tr>\n",
       "      <th>4560</th>\n",
       "      <td>20220110</td>\n",
       "      <td></td>\n",
       "    </tr>\n",
       "    <tr>\n",
       "      <th>4561</th>\n",
       "      <td>20220112</td>\n",
       "      <td></td>\n",
       "    </tr>\n",
       "    <tr>\n",
       "      <th>4562</th>\n",
       "      <td>20220112</td>\n",
       "      <td></td>\n",
       "    </tr>\n",
       "    <tr>\n",
       "      <th>4563</th>\n",
       "      <td>20220116</td>\n",
       "      <td></td>\n",
       "    </tr>\n",
       "    <tr>\n",
       "      <th>4564</th>\n",
       "      <td>20220116</td>\n",
       "      <td></td>\n",
       "    </tr>\n",
       "    <tr>\n",
       "      <th>4565</th>\n",
       "      <td>20220116</td>\n",
       "      <td></td>\n",
       "    </tr>\n",
       "    <tr>\n",
       "      <th>4566</th>\n",
       "      <td>20220116</td>\n",
       "      <td></td>\n",
       "    </tr>\n",
       "    <tr>\n",
       "      <th>4567</th>\n",
       "      <td>20220117</td>\n",
       "      <td></td>\n",
       "    </tr>\n",
       "    <tr>\n",
       "      <th>4568</th>\n",
       "      <td>20220115</td>\n",
       "      <td></td>\n",
       "    </tr>\n",
       "    <tr>\n",
       "      <th>4569</th>\n",
       "      <td>20220119</td>\n",
       "      <td></td>\n",
       "    </tr>\n",
       "    <tr>\n",
       "      <th>4570</th>\n",
       "      <td>20220120</td>\n",
       "      <td></td>\n",
       "    </tr>\n",
       "    <tr>\n",
       "      <th>4571</th>\n",
       "      <td>20220118</td>\n",
       "      <td></td>\n",
       "    </tr>\n",
       "    <tr>\n",
       "      <th>4572</th>\n",
       "      <td>20220118</td>\n",
       "      <td></td>\n",
       "    </tr>\n",
       "    <tr>\n",
       "      <th>4573</th>\n",
       "      <td>20220111</td>\n",
       "      <td></td>\n",
       "    </tr>\n",
       "    <tr>\n",
       "      <th>4574</th>\n",
       "      <td>20220110</td>\n",
       "      <td></td>\n",
       "    </tr>\n",
       "    <tr>\n",
       "      <th>4575</th>\n",
       "      <td>20220112</td>\n",
       "      <td></td>\n",
       "    </tr>\n",
       "    <tr>\n",
       "      <th>4576</th>\n",
       "      <td>20220112</td>\n",
       "      <td></td>\n",
       "    </tr>\n",
       "    <tr>\n",
       "      <th>4577</th>\n",
       "      <td>20220107</td>\n",
       "      <td></td>\n",
       "    </tr>\n",
       "    <tr>\n",
       "      <th>4578</th>\n",
       "      <td>20211221</td>\n",
       "      <td></td>\n",
       "    </tr>\n",
       "    <tr>\n",
       "      <th>4579</th>\n",
       "      <td>20211129</td>\n",
       "      <td></td>\n",
       "    </tr>\n",
       "    <tr>\n",
       "      <th>4580</th>\n",
       "      <td>20211201</td>\n",
       "      <td></td>\n",
       "    </tr>\n",
       "    <tr>\n",
       "      <th>4581</th>\n",
       "      <td>20211201</td>\n",
       "      <td></td>\n",
       "    </tr>\n",
       "    <tr>\n",
       "      <th>4582</th>\n",
       "      <td>20211201</td>\n",
       "      <td></td>\n",
       "    </tr>\n",
       "    <tr>\n",
       "      <th>4583</th>\n",
       "      <td>20211201</td>\n",
       "      <td></td>\n",
       "    </tr>\n",
       "    <tr>\n",
       "      <th>4584</th>\n",
       "      <td>20211130</td>\n",
       "      <td>7320</td>\n",
       "    </tr>\n",
       "    <tr>\n",
       "      <th>4585</th>\n",
       "      <td>20211205</td>\n",
       "      <td></td>\n",
       "    </tr>\n",
       "    <tr>\n",
       "      <th>4586</th>\n",
       "      <td>20211205</td>\n",
       "      <td></td>\n",
       "    </tr>\n",
       "    <tr>\n",
       "      <th>4587</th>\n",
       "      <td>20211201</td>\n",
       "      <td></td>\n",
       "    </tr>\n",
       "    <tr>\n",
       "      <th>4588</th>\n",
       "      <td>20211201</td>\n",
       "      <td></td>\n",
       "    </tr>\n",
       "    <tr>\n",
       "      <th>4589</th>\n",
       "      <td>20211203</td>\n",
       "      <td></td>\n",
       "    </tr>\n",
       "    <tr>\n",
       "      <th>4590</th>\n",
       "      <td>20211203</td>\n",
       "      <td></td>\n",
       "    </tr>\n",
       "    <tr>\n",
       "      <th>4591</th>\n",
       "      <td>20211204</td>\n",
       "      <td></td>\n",
       "    </tr>\n",
       "    <tr>\n",
       "      <th>4592</th>\n",
       "      <td>20211204</td>\n",
       "      <td></td>\n",
       "    </tr>\n",
       "    <tr>\n",
       "      <th>4593</th>\n",
       "      <td>20211108</td>\n",
       "      <td></td>\n",
       "    </tr>\n",
       "    <tr>\n",
       "      <th>4594</th>\n",
       "      <td>20211030</td>\n",
       "      <td></td>\n",
       "    </tr>\n",
       "    <tr>\n",
       "      <th>4595</th>\n",
       "      <td>20211024</td>\n",
       "      <td></td>\n",
       "    </tr>\n",
       "    <tr>\n",
       "      <th>4596</th>\n",
       "      <td>20211204</td>\n",
       "      <td></td>\n",
       "    </tr>\n",
       "    <tr>\n",
       "      <th>4597</th>\n",
       "      <td>20211204</td>\n",
       "      <td></td>\n",
       "    </tr>\n",
       "    <tr>\n",
       "      <th>4598</th>\n",
       "      <td>20211204</td>\n",
       "      <td></td>\n",
       "    </tr>\n",
       "    <tr>\n",
       "      <th>4599</th>\n",
       "      <td>20211203</td>\n",
       "      <td></td>\n",
       "    </tr>\n",
       "    <tr>\n",
       "      <th>4600</th>\n",
       "      <td>20211202</td>\n",
       "      <td></td>\n",
       "    </tr>\n",
       "    <tr>\n",
       "      <th>4601</th>\n",
       "      <td>20211202</td>\n",
       "      <td></td>\n",
       "    </tr>\n",
       "    <tr>\n",
       "      <th>4602</th>\n",
       "      <td>20211202</td>\n",
       "      <td></td>\n",
       "    </tr>\n",
       "    <tr>\n",
       "      <th>4603</th>\n",
       "      <td>20211204</td>\n",
       "      <td></td>\n",
       "    </tr>\n",
       "    <tr>\n",
       "      <th>4604</th>\n",
       "      <td>20211204</td>\n",
       "      <td></td>\n",
       "    </tr>\n",
       "    <tr>\n",
       "      <th>4605</th>\n",
       "      <td>20211204</td>\n",
       "      <td></td>\n",
       "    </tr>\n",
       "    <tr>\n",
       "      <th>4606</th>\n",
       "      <td>20211029</td>\n",
       "      <td></td>\n",
       "    </tr>\n",
       "    <tr>\n",
       "      <th>4607</th>\n",
       "      <td>20211105</td>\n",
       "      <td></td>\n",
       "    </tr>\n",
       "    <tr>\n",
       "      <th>4608</th>\n",
       "      <td>20211110</td>\n",
       "      <td></td>\n",
       "    </tr>\n",
       "    <tr>\n",
       "      <th>4609</th>\n",
       "      <td>20211112</td>\n",
       "      <td></td>\n",
       "    </tr>\n",
       "    <tr>\n",
       "      <th>4610</th>\n",
       "      <td>20211115</td>\n",
       "      <td></td>\n",
       "    </tr>\n",
       "    <tr>\n",
       "      <th>4611</th>\n",
       "      <td>20211113</td>\n",
       "      <td></td>\n",
       "    </tr>\n",
       "    <tr>\n",
       "      <th>4612</th>\n",
       "      <td>20211114</td>\n",
       "      <td></td>\n",
       "    </tr>\n",
       "    <tr>\n",
       "      <th>4613</th>\n",
       "      <td>20211123</td>\n",
       "      <td></td>\n",
       "    </tr>\n",
       "    <tr>\n",
       "      <th>4614</th>\n",
       "      <td>20211121</td>\n",
       "      <td></td>\n",
       "    </tr>\n",
       "    <tr>\n",
       "      <th>4615</th>\n",
       "      <td>20220110</td>\n",
       "      <td>3233</td>\n",
       "    </tr>\n",
       "    <tr>\n",
       "      <th>4616</th>\n",
       "      <td>20220109</td>\n",
       "      <td></td>\n",
       "    </tr>\n",
       "    <tr>\n",
       "      <th>4617</th>\n",
       "      <td>20220111</td>\n",
       "      <td></td>\n",
       "    </tr>\n",
       "    <tr>\n",
       "      <th>4618</th>\n",
       "      <td>20220113</td>\n",
       "      <td>8530</td>\n",
       "    </tr>\n",
       "    <tr>\n",
       "      <th>4619</th>\n",
       "      <td>20211225</td>\n",
       "      <td></td>\n",
       "    </tr>\n",
       "    <tr>\n",
       "      <th>4620</th>\n",
       "      <td>20220216</td>\n",
       "      <td></td>\n",
       "    </tr>\n",
       "    <tr>\n",
       "      <th>4621</th>\n",
       "      <td>20211123</td>\n",
       "      <td></td>\n",
       "    </tr>\n",
       "    <tr>\n",
       "      <th>4622</th>\n",
       "      <td>20211123</td>\n",
       "      <td></td>\n",
       "    </tr>\n",
       "    <tr>\n",
       "      <th>4623</th>\n",
       "      <td>20211204</td>\n",
       "      <td></td>\n",
       "    </tr>\n",
       "    <tr>\n",
       "      <th>4624</th>\n",
       "      <td>20211201</td>\n",
       "      <td></td>\n",
       "    </tr>\n",
       "    <tr>\n",
       "      <th>4625</th>\n",
       "      <td>20211205</td>\n",
       "      <td></td>\n",
       "    </tr>\n",
       "    <tr>\n",
       "      <th>4626</th>\n",
       "      <td>20220104</td>\n",
       "      <td>3200</td>\n",
       "    </tr>\n",
       "    <tr>\n",
       "      <th>4627</th>\n",
       "      <td>20211229</td>\n",
       "      <td></td>\n",
       "    </tr>\n",
       "    <tr>\n",
       "      <th>4628</th>\n",
       "      <td>20220113</td>\n",
       "      <td>3242</td>\n",
       "    </tr>\n",
       "    <tr>\n",
       "      <th>4629</th>\n",
       "      <td>20220114</td>\n",
       "      <td></td>\n",
       "    </tr>\n",
       "    <tr>\n",
       "      <th>4630</th>\n",
       "      <td>20220115</td>\n",
       "      <td></td>\n",
       "    </tr>\n",
       "    <tr>\n",
       "      <th>4631</th>\n",
       "      <td>20220115</td>\n",
       "      <td></td>\n",
       "    </tr>\n",
       "    <tr>\n",
       "      <th>4632</th>\n",
       "      <td>20220115</td>\n",
       "      <td></td>\n",
       "    </tr>\n",
       "    <tr>\n",
       "      <th>4633</th>\n",
       "      <td>20220112</td>\n",
       "      <td></td>\n",
       "    </tr>\n",
       "    <tr>\n",
       "      <th>4634</th>\n",
       "      <td>20220112</td>\n",
       "      <td></td>\n",
       "    </tr>\n",
       "    <tr>\n",
       "      <th>4635</th>\n",
       "      <td>20220116</td>\n",
       "      <td></td>\n",
       "    </tr>\n",
       "    <tr>\n",
       "      <th>4636</th>\n",
       "      <td>20220114</td>\n",
       "      <td></td>\n",
       "    </tr>\n",
       "    <tr>\n",
       "      <th>4637</th>\n",
       "      <td>20220114</td>\n",
       "      <td></td>\n",
       "    </tr>\n",
       "    <tr>\n",
       "      <th>4638</th>\n",
       "      <td>20220114</td>\n",
       "      <td></td>\n",
       "    </tr>\n",
       "    <tr>\n",
       "      <th>4639</th>\n",
       "      <td>20220114</td>\n",
       "      <td></td>\n",
       "    </tr>\n",
       "    <tr>\n",
       "      <th>4640</th>\n",
       "      <td>20211212</td>\n",
       "      <td></td>\n",
       "    </tr>\n",
       "    <tr>\n",
       "      <th>4641</th>\n",
       "      <td>20211208</td>\n",
       "      <td></td>\n",
       "    </tr>\n",
       "    <tr>\n",
       "      <th>4642</th>\n",
       "      <td>20211208</td>\n",
       "      <td></td>\n",
       "    </tr>\n",
       "    <tr>\n",
       "      <th>4643</th>\n",
       "      <td>20211208</td>\n",
       "      <td></td>\n",
       "    </tr>\n",
       "    <tr>\n",
       "      <th>4644</th>\n",
       "      <td>20211207</td>\n",
       "      <td></td>\n",
       "    </tr>\n",
       "    <tr>\n",
       "      <th>4645</th>\n",
       "      <td>20211207</td>\n",
       "      <td></td>\n",
       "    </tr>\n",
       "    <tr>\n",
       "      <th>4646</th>\n",
       "      <td>20211205</td>\n",
       "      <td></td>\n",
       "    </tr>\n",
       "    <tr>\n",
       "      <th>4647</th>\n",
       "      <td>20211202</td>\n",
       "      <td></td>\n",
       "    </tr>\n",
       "    <tr>\n",
       "      <th>4648</th>\n",
       "      <td>20211219</td>\n",
       "      <td></td>\n",
       "    </tr>\n",
       "    <tr>\n",
       "      <th>4649</th>\n",
       "      <td>20211225</td>\n",
       "      <td></td>\n",
       "    </tr>\n",
       "    <tr>\n",
       "      <th>4650</th>\n",
       "      <td>20220111</td>\n",
       "      <td></td>\n",
       "    </tr>\n",
       "    <tr>\n",
       "      <th>4651</th>\n",
       "      <td>20220108</td>\n",
       "      <td></td>\n",
       "    </tr>\n",
       "    <tr>\n",
       "      <th>4652</th>\n",
       "      <td>20220108</td>\n",
       "      <td></td>\n",
       "    </tr>\n",
       "    <tr>\n",
       "      <th>4653</th>\n",
       "      <td>20211225</td>\n",
       "      <td></td>\n",
       "    </tr>\n",
       "    <tr>\n",
       "      <th>4654</th>\n",
       "      <td>20211224</td>\n",
       "      <td>3200</td>\n",
       "    </tr>\n",
       "    <tr>\n",
       "      <th>4655</th>\n",
       "      <td>20211229</td>\n",
       "      <td></td>\n",
       "    </tr>\n",
       "    <tr>\n",
       "      <th>4656</th>\n",
       "      <td>20211206</td>\n",
       "      <td></td>\n",
       "    </tr>\n",
       "    <tr>\n",
       "      <th>4657</th>\n",
       "      <td>20211205</td>\n",
       "      <td></td>\n",
       "    </tr>\n",
       "    <tr>\n",
       "      <th>4658</th>\n",
       "      <td>20211205</td>\n",
       "      <td></td>\n",
       "    </tr>\n",
       "    <tr>\n",
       "      <th>4659</th>\n",
       "      <td>20211127</td>\n",
       "      <td></td>\n",
       "    </tr>\n",
       "    <tr>\n",
       "      <th>4660</th>\n",
       "      <td>20211110</td>\n",
       "      <td></td>\n",
       "    </tr>\n",
       "    <tr>\n",
       "      <th>4661</th>\n",
       "      <td>20211229</td>\n",
       "      <td></td>\n",
       "    </tr>\n",
       "    <tr>\n",
       "      <th>4662</th>\n",
       "      <td>20220123</td>\n",
       "      <td></td>\n",
       "    </tr>\n",
       "    <tr>\n",
       "      <th>4663</th>\n",
       "      <td>20220129</td>\n",
       "      <td></td>\n",
       "    </tr>\n",
       "    <tr>\n",
       "      <th>4664</th>\n",
       "      <td>20220216</td>\n",
       "      <td></td>\n",
       "    </tr>\n",
       "    <tr>\n",
       "      <th>4665</th>\n",
       "      <td>20220306</td>\n",
       "      <td></td>\n",
       "    </tr>\n",
       "    <tr>\n",
       "      <th>4666</th>\n",
       "      <td>20220227</td>\n",
       "      <td>1430</td>\n",
       "    </tr>\n",
       "    <tr>\n",
       "      <th>4667</th>\n",
       "      <td>20220221</td>\n",
       "      <td></td>\n",
       "    </tr>\n",
       "    <tr>\n",
       "      <th>4668</th>\n",
       "      <td>20220317</td>\n",
       "      <td></td>\n",
       "    </tr>\n",
       "    <tr>\n",
       "      <th>4669</th>\n",
       "      <td>20220328</td>\n",
       "      <td></td>\n",
       "    </tr>\n",
       "    <tr>\n",
       "      <th>4670</th>\n",
       "      <td>20220201</td>\n",
       "      <td></td>\n",
       "    </tr>\n",
       "    <tr>\n",
       "      <th>4671</th>\n",
       "      <td>20220130</td>\n",
       "      <td></td>\n",
       "    </tr>\n",
       "    <tr>\n",
       "      <th>4672</th>\n",
       "      <td>20220130</td>\n",
       "      <td></td>\n",
       "    </tr>\n",
       "    <tr>\n",
       "      <th>4673</th>\n",
       "      <td>20220130</td>\n",
       "      <td></td>\n",
       "    </tr>\n",
       "    <tr>\n",
       "      <th>4674</th>\n",
       "      <td>20220131</td>\n",
       "      <td></td>\n",
       "    </tr>\n",
       "    <tr>\n",
       "      <th>4675</th>\n",
       "      <td>20220131</td>\n",
       "      <td></td>\n",
       "    </tr>\n",
       "    <tr>\n",
       "      <th>4676</th>\n",
       "      <td>20220131</td>\n",
       "      <td></td>\n",
       "    </tr>\n",
       "    <tr>\n",
       "      <th>4677</th>\n",
       "      <td>20220201</td>\n",
       "      <td>3246</td>\n",
       "    </tr>\n",
       "    <tr>\n",
       "      <th>4678</th>\n",
       "      <td>20220204</td>\n",
       "      <td></td>\n",
       "    </tr>\n",
       "    <tr>\n",
       "      <th>4679</th>\n",
       "      <td>20220204</td>\n",
       "      <td></td>\n",
       "    </tr>\n",
       "    <tr>\n",
       "      <th>4680</th>\n",
       "      <td>20220205</td>\n",
       "      <td></td>\n",
       "    </tr>\n",
       "    <tr>\n",
       "      <th>4681</th>\n",
       "      <td>20220210</td>\n",
       "      <td></td>\n",
       "    </tr>\n",
       "    <tr>\n",
       "      <th>4682</th>\n",
       "      <td>20220214</td>\n",
       "      <td></td>\n",
       "    </tr>\n",
       "    <tr>\n",
       "      <th>4683</th>\n",
       "      <td>20220323</td>\n",
       "      <td></td>\n",
       "    </tr>\n",
       "    <tr>\n",
       "      <th>4684</th>\n",
       "      <td>20220115</td>\n",
       "      <td></td>\n",
       "    </tr>\n",
       "    <tr>\n",
       "      <th>4685</th>\n",
       "      <td>20220107</td>\n",
       "      <td></td>\n",
       "    </tr>\n",
       "    <tr>\n",
       "      <th>4686</th>\n",
       "      <td>20220207</td>\n",
       "      <td></td>\n",
       "    </tr>\n",
       "    <tr>\n",
       "      <th>4687</th>\n",
       "      <td>20220206</td>\n",
       "      <td></td>\n",
       "    </tr>\n",
       "    <tr>\n",
       "      <th>4688</th>\n",
       "      <td>20220206</td>\n",
       "      <td></td>\n",
       "    </tr>\n",
       "    <tr>\n",
       "      <th>4689</th>\n",
       "      <td>20220131</td>\n",
       "      <td></td>\n",
       "    </tr>\n",
       "    <tr>\n",
       "      <th>4690</th>\n",
       "      <td>20211118</td>\n",
       "      <td></td>\n",
       "    </tr>\n",
       "  </tbody>\n",
       "</table>\n",
       "</div>"
      ],
      "text/plain": [
       "             9                    77\n",
       "4491  20211104                      \n",
       "4492  20211109                      \n",
       "4493  20211027                      \n",
       "4494  20211027                      \n",
       "4495  20211028                      \n",
       "4496  20211028                      \n",
       "4497  20211104                      \n",
       "4498  20211104                      \n",
       "4499  20211104                      \n",
       "4500  20211031                      \n",
       "4501  20211031                      \n",
       "4502  20211029                      \n",
       "4503  20211122                      \n",
       "4504  20211201                      \n",
       "4505  20211025                      \n",
       "4506  20211024                      \n",
       "4507  20211015                      \n",
       "4508  20211016                      \n",
       "4509  20211225                      \n",
       "4510  20211226                      \n",
       "4511  20211226                      \n",
       "4512  20211227                      \n",
       "4513  20211228                      \n",
       "4514  20211230                      \n",
       "4515  20220101                      \n",
       "4516  20211225                      \n",
       "4517  20211203                      \n",
       "4518  20211126                      \n",
       "4519  20211113  5720                \n",
       "4520  20220101                      \n",
       "4521  20220104                      \n",
       "4522  20220104                      \n",
       "4523  20220104                      \n",
       "4524  20220105                      \n",
       "4525  20220106  2421                \n",
       "4526  20211230                      \n",
       "4527  20220121                      \n",
       "4528  20220122                      \n",
       "4529  20220204  3200                \n",
       "4530  20220215                      \n",
       "4531  20220215                      \n",
       "4532  20220211                      \n",
       "4533  20211230                      \n",
       "4534  20220101                      \n",
       "4535  20220101                      \n",
       "4536  20220101                      \n",
       "4537  20220102                      \n",
       "4538  20220102                      \n",
       "4539  20211018                      \n",
       "4540  20211208                      \n",
       "4541  20220102                      \n",
       "4542  20220106                      \n",
       "4543  20220107  3200                \n",
       "4544  20211230                      \n",
       "4545  20220108                      \n",
       "4546  20220108                      \n",
       "4547  20220108                      \n",
       "4548  20220108                      \n",
       "4549  20220303                      \n",
       "4550  20220109                      \n",
       "4551  20211230                      \n",
       "4552  20211231                      \n",
       "4553  20211231                      \n",
       "4554  20211216                      \n",
       "4555  20211024                      \n",
       "4556  20211128                      \n",
       "4557  20220105                      \n",
       "4558  20220102                      \n",
       "4559  20220109                      \n",
       "4560  20220110                      \n",
       "4561  20220112                      \n",
       "4562  20220112                      \n",
       "4563  20220116                      \n",
       "4564  20220116                      \n",
       "4565  20220116                      \n",
       "4566  20220116                      \n",
       "4567  20220117                      \n",
       "4568  20220115                      \n",
       "4569  20220119                      \n",
       "4570  20220120                      \n",
       "4571  20220118                      \n",
       "4572  20220118                      \n",
       "4573  20220111                      \n",
       "4574  20220110                      \n",
       "4575  20220112                      \n",
       "4576  20220112                      \n",
       "4577  20220107                      \n",
       "4578  20211221                      \n",
       "4579  20211129                      \n",
       "4580  20211201                      \n",
       "4581  20211201                      \n",
       "4582  20211201                      \n",
       "4583  20211201                      \n",
       "4584  20211130  7320                \n",
       "4585  20211205                      \n",
       "4586  20211205                      \n",
       "4587  20211201                      \n",
       "4588  20211201                      \n",
       "4589  20211203                      \n",
       "4590  20211203                      \n",
       "4591  20211204                      \n",
       "4592  20211204                      \n",
       "4593  20211108                      \n",
       "4594  20211030                      \n",
       "4595  20211024                      \n",
       "4596  20211204                      \n",
       "4597  20211204                      \n",
       "4598  20211204                      \n",
       "4599  20211203                      \n",
       "4600  20211202                      \n",
       "4601  20211202                      \n",
       "4602  20211202                      \n",
       "4603  20211204                      \n",
       "4604  20211204                      \n",
       "4605  20211204                      \n",
       "4606  20211029                      \n",
       "4607  20211105                      \n",
       "4608  20211110                      \n",
       "4609  20211112                      \n",
       "4610  20211115                      \n",
       "4611  20211113                      \n",
       "4612  20211114                      \n",
       "4613  20211123                      \n",
       "4614  20211121                      \n",
       "4615  20220110  3233                \n",
       "4616  20220109                      \n",
       "4617  20220111                      \n",
       "4618  20220113  8530                \n",
       "4619  20211225                      \n",
       "4620  20220216                      \n",
       "4621  20211123                      \n",
       "4622  20211123                      \n",
       "4623  20211204                      \n",
       "4624  20211201                      \n",
       "4625  20211205                      \n",
       "4626  20220104  3200                \n",
       "4627  20211229                      \n",
       "4628  20220113  3242                \n",
       "4629  20220114                      \n",
       "4630  20220115                      \n",
       "4631  20220115                      \n",
       "4632  20220115                      \n",
       "4633  20220112                      \n",
       "4634  20220112                      \n",
       "4635  20220116                      \n",
       "4636  20220114                      \n",
       "4637  20220114                      \n",
       "4638  20220114                      \n",
       "4639  20220114                      \n",
       "4640  20211212                      \n",
       "4641  20211208                      \n",
       "4642  20211208                      \n",
       "4643  20211208                      \n",
       "4644  20211207                      \n",
       "4645  20211207                      \n",
       "4646  20211205                      \n",
       "4647  20211202                      \n",
       "4648  20211219                      \n",
       "4649  20211225                      \n",
       "4650  20220111                      \n",
       "4651  20220108                      \n",
       "4652  20220108                      \n",
       "4653  20211225                      \n",
       "4654  20211224  3200                \n",
       "4655  20211229                      \n",
       "4656  20211206                      \n",
       "4657  20211205                      \n",
       "4658  20211205                      \n",
       "4659  20211127                      \n",
       "4660  20211110                      \n",
       "4661  20211229                      \n",
       "4662  20220123                      \n",
       "4663  20220129                      \n",
       "4664  20220216                      \n",
       "4665  20220306                      \n",
       "4666  20220227  1430                \n",
       "4667  20220221                      \n",
       "4668  20220317                      \n",
       "4669  20220328                      \n",
       "4670  20220201                      \n",
       "4671  20220130                      \n",
       "4672  20220130                      \n",
       "4673  20220130                      \n",
       "4674  20220131                      \n",
       "4675  20220131                      \n",
       "4676  20220131                      \n",
       "4677  20220201  3246                \n",
       "4678  20220204                      \n",
       "4679  20220204                      \n",
       "4680  20220205                      \n",
       "4681  20220210                      \n",
       "4682  20220214                      \n",
       "4683  20220323                      \n",
       "4684  20220115                      \n",
       "4685  20220107                      \n",
       "4686  20220207                      \n",
       "4687  20220206                      \n",
       "4688  20220206                      \n",
       "4689  20220131                      \n",
       "4690  20211118                      "
      ]
     },
     "execution_count": 8,
     "metadata": {},
     "output_type": "execute_result"
    }
   ],
   "source": [
    "aids[[9, 77]].tail(200)"
   ]
  },
  {
   "cell_type": "markdown",
   "id": "be992eff-33bf-4030-bf8e-9f75c607df07",
   "metadata": {},
   "source": [
    "#### NOTE: \n",
    "- after filtering the original 180 columns 77 remain\n",
    "- initial column filtering was based on looking at column definitions and determining relevance to project"
   ]
  },
  {
   "cell_type": "markdown",
   "id": "63583a29-9c15-4b96-8e17-eaa16d8d6a90",
   "metadata": {},
   "source": [
    "## 3: Filter data"
   ]
  },
  {
   "cell_type": "markdown",
   "id": "190f7013-6eb7-473a-9cf1-215567f77544",
   "metadata": {},
   "source": [
    "#### 3A. Filter to exclude Part 121, 129, 125"
   ]
  },
  {
   "cell_type": "markdown",
   "id": "50bf2fc4-1c01-4cb7-99d6-e9fc3a12a488",
   "metadata": {},
   "source": [
    "- Part 91: general aviation\n",
    "- Part 135: commercial aviation\n",
    "- Part 141: flight schools\n",
    "- Part 121: scheduled air carriers\n",
    "- Part 105: parachute operations\n",
    "- Part 137: agricultural spraying\n",
    "- Part 133: helo external loads\n",
    "- Part 103: ultralight\n",
    "- Part 125: aircraft that can carry 20 or more pax\n",
    "- Part 129: foreign air carriers"
   ]
  },
  {
   "cell_type": "code",
   "execution_count": 9,
   "id": "7264c97b-5ac4-4118-bc5c-1c77a871be90",
   "metadata": {},
   "outputs": [
    {
     "data": {
      "text/plain": [
       "array(['091', '135', '121', '129', '   ', '141', '137', '133', '105',\n",
       "       '125', '127', '103', 91, 135, 121, 137, 133, 141, 105, 103, 129,\n",
       "       125, 123, '49 ', 'O  ', '91-'], dtype=object)"
      ]
     },
     "execution_count": 9,
     "metadata": {},
     "output_type": "execute_result"
    }
   ],
   "source": [
    "# check the Part col (2) to look for anomolies\n",
    "aids[2].unique()"
   ]
  },
  {
   "cell_type": "code",
   "execution_count": 10,
   "id": "ee8ced90-4347-43b8-9e9e-045783287de8",
   "metadata": {},
   "outputs": [
    {
     "name": "stdout",
     "output_type": "stream",
     "text": [
      "['91' '135' '121' '129' '141' '137' '133' '105' '125' '127' '103' '123'\n",
      " '49 ']\n",
      "Pre-filter:  (182912, 77)\n",
      "Post-filter:  (166989, 77)\n"
     ]
    }
   ],
   "source": [
    "# filter to exclude 121, 125, 129 records\n",
    "# Change 91- to 091, 91, '   ' to 091 and O to part 91\n",
    "aids[2] = aids[2].replace(['91-', '091', 'O  ', '   ', 91], '91')\n",
    "aids[2] = aids[2].apply(lambda x: str(x))\n",
    "print(aids[2].unique())\n",
    "print('Pre-filter: ', aids.shape)\n",
    "# drop records of part 121 and 129\n",
    "aids = aids[(aids[2] != '121') &\n",
    "            (aids[2] != '129')]\n",
    "\n",
    "print('Post-filter: ', aids.shape)"
   ]
  },
  {
   "cell_type": "markdown",
   "id": "55c46596-eb52-4026-a4f1-7fa470c96442",
   "metadata": {},
   "source": [
    "#### NOTE: \n",
    "- Filtering out part 121, 125, and 129 records resulted in dropping approximately 16,000 records from the data set"
   ]
  },
  {
   "cell_type": "markdown",
   "id": "b97066cd-9cf8-4873-8c27-c20a1d60ba8b",
   "metadata": {},
   "source": [
    "### 3B. Filter to keep records where causal factor was related to a hazard that could have been avoided during preflight planning"
   ]
  },
  {
   "cell_type": "markdown",
   "id": "fa0a7a75-8572-455f-b7f5-2de37bea8507",
   "metadata": {},
   "source": [
    "- Filter to keep records where causal factor was related to a hazard that could have been avoided during preflight planning\n",
    "- These hazards would include the following:\n",
    "    - weather related, IIMC, icing, turbulence etc\n",
    "    - airport related, i.e. wet runway, narrow taxiway\n",
    "    - environmental related, i.e. flight into terrain, towards hazards, powerlines, bird strike\n",
    "- Causal factor columns = 77, 79, 87, 91, 161, 163, 183, 191, \n",
    "- Need to look at each column to determine criteria"
   ]
  },
  {
   "cell_type": "code",
   "execution_count": 11,
   "id": "45b1282a-5951-4941-a767-a99133ff2341",
   "metadata": {},
   "outputs": [],
   "source": [
    "def factor_text(col):\n",
    "    ''' Function to filter text in column\n",
    "    \n",
    "    Filters text by removing all numeric inputs\n",
    "    and adds text to a printable list\n",
    "    Return: list of text\n",
    "    '''\n",
    "    factors = []\n",
    "    for x in list(aids[col]):\n",
    "        if re.match('\\D', x):\n",
    "            if x not in factors: \n",
    "                factors.append(x)\n",
    "            else:\n",
    "                pass\n",
    "    for x in factors: \n",
    "        print(x)"
   ]
  },
  {
   "cell_type": "code",
   "execution_count": 12,
   "id": "20876d48-2ea9-49d9-8fa7-2c146b7162af",
   "metadata": {},
   "outputs": [],
   "source": [
    "# strip all whitespace\n",
    "for col in aids.columns:\n",
    "    if aids[col].dtypes == 'object':\n",
    "        aids[col] = aids[col].str.strip()"
   ]
  },
  {
   "cell_type": "markdown",
   "id": "e195225e-37c1-4c93-8082-aec3fb72ee44",
   "metadata": {},
   "source": [
    "**Col 77: primary causal factor**"
   ]
  },
  {
   "cell_type": "code",
   "execution_count": 13,
   "id": "55adf8c4-6cb6-450a-9253-f581b8d24eca",
   "metadata": {
    "tags": []
   },
   "outputs": [
    {
     "name": "stdout",
     "output_type": "stream",
     "text": [
      "Walk Into Propeller\n",
      "Didn't Clear Engine\n",
      "Improper Oper Brake/\n",
      "Fail Avd Objs Or Obs\n",
      "Ac Improperly Align\n",
      "Other, Miscellaneous\n",
      "Started Eng W/Out As\n",
      "Selected Unsuitable\n",
      "Cntd Flt To Fuel Low\n",
      "Improper Oper Flt Cn\n",
      "Collided With Obj On\n",
      "Retract Gear Early O\n",
      "Fail Avoid Ac/Both A\n",
      "Fail Avd Collision G\n",
      "Inadeq Flt/Grd Train\n",
      "Undetermined\n",
      "Forgot To Extend Lan\n",
      "Failed To Correct Fo\n",
      "Improper Proc In Tfc\n",
      "Unsafe/Cond & Fail T\n",
      "Improper Level Off\n",
      "Land Far Down Land A\n",
      "Op Gear Control, Fai\n",
      "Misuse Carbht/Deic P\n",
      "Miscellaneous Misuse\n",
      "Attempt Operation Wi\n",
      "Issued Impr Conflict\n",
      "Extended Gear Too La\n",
      "Misc Unsafe Acts Sta\n",
      "Poor Preflight Plan\n",
      "Taxi/Park Without Pr\n",
      "Unsuitable Terrain S\n",
      "Downwind Takeoff Or\n",
      "Fail To Maintain Ade\n",
      "Inadequate Insp Of A\n",
      "Improper Maintenance\n",
      "Cont Vfr Flight Into\n",
      "Improper Inst Proc T\n",
      "Fail To Use/Misuse E\n",
      "Blown Over By Strong\n",
      "Advanced Throt Rapid\n",
      "Lost Ground Ref At N\n",
      "Inadvertant Retr Lan\n",
      "Fail Advise Unsafe A\n",
      "Fail/Incorrect Use M\n",
      "Lost Control In Adve\n",
      "Misc/Pilot Unsafe Ac\n",
      "Inadequate Flt/Super\n",
      "Fail Follow Approved\n",
      "Insufficient Terrain\n",
      "Poor Preflight Plann\n",
      "Poor Preflight Plan/\n",
      "Tkof Advrse Wx Crash\n",
      "Attempted Ops Beyond\n",
      "Defic, Co Maintain E\n",
      "Improper Mgt/Fuel Ta\n",
      "Delay Action In Abor\n",
      "Fail Avoid Ac None A\n",
      "Pilot/Crew Mismanage\n",
      "Unsafe Acts By Third\n",
      "Fail Maintain Adeq R\n",
      "Early Liftoff/Int/Te\n",
      "Aerobatics Below Saf\n",
      "Lost On/Off Course V\n",
      "Improperly Serviced\n",
      "Struck Birds In Flig\n",
      "Misunderstand Ord,In\n",
      "Cont Flt Area Severe\n",
      "Whiteout Conditions\n",
      "Landed Short\n",
      "Exceed Load Dsgn Ac\n",
      "Delayed In Init/Goar\n",
      "Operation Below Vmc\n",
      "Inadeq/Imp Pf Prep/P\n",
      "Ac Improperly Equip\n",
      "Unauthorized Action\n",
      "Imp/Inadeq Snice/Rem\n",
      "Stud Pilot Carried P\n",
      "Pilot Incap Excludes\n",
      "Improper Operation E\n",
      "Inadeq Space Ac/Wke\n",
      "Cntl Intfr By Passen\n",
      "Unable Util Navig Fa\n",
      "Incomplete Weather R\n",
      "Drank Alcoholic Beve\n",
      "Failed To Relinquish\n",
      "Parachute Incident\n",
      "Misused Mixture Cont\n",
      "Fail To Avd Tv Or Ra\n",
      "Clear Ac Wrwy For Co\n",
      "Inadeq Sup-Vision Tr\n",
      "Hazd/Mater On Board\n",
      "Improper Use Of Igni\n",
      "Improper Operation O\n",
      "Failed To Adv Of Oth\n",
      "Incorrect Weather Fo\n",
      "Unscheduled Landing\n",
      "Fail To Adv Of Unsaf\n",
      "Rejected Takeoff\n",
      "Collision Avoidance\n",
      "Abandoned Aircraft\n",
      "Near Midair\n",
      "Landed On Wrong Airp\n",
      "Op Gave Incorrect In\n",
      "Fail To Attain Prope\n",
      "Failed To Issue Nota\n",
      "Inadequately Maintai\n",
      "Fail Comply Dispatch\n",
      "Windshear\n",
      "Improper Insp Of Fac\n",
      "Misuse Of Trim\n",
      "Struck Animal\n",
      "Fuel Unport,Fuel Not\n",
      "Didn't Fly Asg Alt I\n",
      "Improp Oper Cool Sys\n",
      "Fail Prov Adeq Dir,M\n",
      "Cleared Flight Inade\n",
      "Gear Collaspe\n",
      "Collided With Ground\n"
     ]
    }
   ],
   "source": [
    "factor_text(77)"
   ]
  },
  {
   "cell_type": "markdown",
   "id": "e2d8d84e-4f90-4821-a866-fa26b2cc1f38",
   "metadata": {},
   "source": [
    "**Column 79: contributing factor text**"
   ]
  },
  {
   "cell_type": "code",
   "execution_count": 14,
   "id": "d2693e1b-aa92-4a3e-a6d4-80852ce37bb6",
   "metadata": {
    "tags": []
   },
   "outputs": [
    {
     "name": "stdout",
     "output_type": "stream",
     "text": [
      "Other/Miscellaneous\n",
      "Hidden Hazardous Obj\n",
      "Windshield-Oil,Fog,I\n",
      "Downdraft\n",
      "Undetermined\n",
      "Fire After Crash\n",
      "Ditching\n",
      "Snow Bank\n",
      "Icing On Aircraft\n",
      "Emergency Landing\n",
      "Ice/Slush Runway\n",
      "Inadequate Rwy, Taxi\n",
      "Precautionary Landin\n",
      "Wet Runway\n",
      "Weather\n",
      "Rough Water\n",
      "Glassy Water\n",
      "Density Altitude\n",
      "Stolen Aircraft\n",
      "Soft Shoulders\n",
      "High Vegetation\n",
      "Shifting Fuel Cargo\n",
      "Bird Strike\n",
      "Pilot Fatigue Or Lac\n",
      "Gusty Winds\n",
      "Vision Obscured By S\n",
      "Blade Stall\n",
      "Sabotage\n",
      "Decompression, Hypox\n",
      "Pax Disturbance\n",
      "Rough Or Rutted Sod\n",
      "Struck Animal\n",
      "Loss Of Tail Rotor E\n",
      "Settling W/Power\n"
     ]
    }
   ],
   "source": [
    "# Column 79: contributing factor text\n",
    "aids[79] = aids[79].str.strip()\n",
    "\n",
    "factor_text(79)"
   ]
  },
  {
   "cell_type": "markdown",
   "id": "98282d72-d091-47d3-9af3-b7ea0abce921",
   "metadata": {},
   "source": [
    "**Column 87: second contributing factor text**"
   ]
  },
  {
   "cell_type": "code",
   "execution_count": 15,
   "id": "8c2da487-fddf-4bba-8bc2-f066a78c82e7",
   "metadata": {
    "tags": []
   },
   "outputs": [
    {
     "name": "stdout",
     "output_type": "stream",
     "text": [
      "Other/Miscellaneous\n",
      "Hidden Hazardous Obj\n",
      "Windshield-Oil,Fog,I\n",
      "Emergency Landing\n",
      "Density Altitude\n",
      "Icing On Aircraft\n",
      "Precautionary Landin\n",
      "Downdraft\n",
      "Snow Bank\n",
      "Weather\n",
      "Undetermined\n",
      "Ice/Slush Runway\n",
      "Wet Runway\n",
      "Glassy Water\n",
      "Stolen Aircraft\n",
      "Fire After Crash\n",
      "Inadequate Rwy, Taxi\n",
      "High Vegetation\n",
      "Ditching\n",
      "Soft Shoulders\n",
      "Decompression, Hypox\n",
      "Bird Strike\n",
      "Gusty Winds\n",
      "Pax Disturbance\n",
      "Pilot Fatigue Or Lac\n",
      "Vision Obscured By S\n",
      "Rough Water\n",
      "Blade Stall\n",
      "Shifting Fuel Cargo\n",
      "Rough Or Rutted Sod\n",
      "Sabotage\n",
      "Struck Animal\n",
      "Settling W/Power\n",
      "Loss Of Tail Rotor E\n"
     ]
    }
   ],
   "source": [
    "# Column 87: second contributing factor text\n",
    "aids[87] = aids[87].str.strip()\n",
    "\n",
    "factor_text(87)"
   ]
  },
  {
   "cell_type": "markdown",
   "id": "a11afa4c-bbde-42dd-97d5-6a68670da4f7",
   "metadata": {},
   "source": [
    "**Column 91: second supporting factor text**"
   ]
  },
  {
   "cell_type": "code",
   "execution_count": 16,
   "id": "a044ec09-b68d-4920-8f61-cb9b17b4e192",
   "metadata": {
    "tags": []
   },
   "outputs": [
    {
     "name": "stdout",
     "output_type": "stream",
     "text": [
      "Overstressed\n",
      "Undetermined\n",
      "Fuel Contamination\n",
      "Improper Instal - No\n",
      "Other\n",
      "Jammed Or Malfunctio\n",
      "Worn Out-Exceeded Ti\n",
      "Fouled\n",
      "Leaking\n",
      "Foreign Object Damag\n",
      "Cracked, Split, Or B\n",
      "Accumulated Mositure\n",
      "Corrosion\n",
      "Improperly Secured\n",
      "Lack Of Lubrication\n",
      "Faulty Design\n",
      "Supplemental Rpt For\n",
      "Ruptured Or Burst\n",
      "Carburetor Icing\n",
      "Improper Grade Of Fu\n",
      "Plt Induced Failure/\n",
      "Surface Stress (Runw\n",
      "Metal Fatigue\n",
      "Faulty Part (Manufac\n",
      "Oil Contamination\n",
      "Bogus\n"
     ]
    }
   ],
   "source": [
    "# Column 91: second supporting factor text\n",
    "aids[91] = aids[91].str.strip()\n",
    "\n",
    "factor_text(91)"
   ]
  },
  {
   "cell_type": "markdown",
   "id": "1ca9162c-bb19-420d-a55f-93bb998224ce",
   "metadata": {},
   "source": [
    "#### NOTE: \n",
    "- Not going to use this column for filtering purposes because criteria does not apply"
   ]
  },
  {
   "cell_type": "markdown",
   "id": "c820404e-a345-4a06-9e22-0fe9ecf56814",
   "metadata": {},
   "source": [
    "**Column 161: Additional Cause Factor text**"
   ]
  },
  {
   "cell_type": "code",
   "execution_count": 17,
   "id": "3579ec1e-30d3-4d15-880b-004ed5ea8a34",
   "metadata": {
    "tags": []
   },
   "outputs": [
    {
     "name": "stdout",
     "output_type": "stream",
     "text": [
      "Off Side Of Runway\n",
      "Rejected Takeoff\n",
      "Declared Emergency\n",
      "Parachute Incident\n",
      "Unscheduled Landing\n",
      "Fire And Rescue - Al\n",
      "Unable/Unsafe To Tax\n",
      "Runway Blocked\n",
      "Inflight/Ground Fire\n",
      "Public Complaint\n",
      "Public Protection\n",
      "Landed On Wrong Airp\n",
      "Near Midair\n",
      "Abandoned Aircraft\n",
      "Descent Emergency\n",
      "Fire And Rescue - Ac\n",
      "Landed On Wrong Runw\n",
      "Collision Avoidance\n",
      "Mercy Landing\n",
      "Non-Routine Pax Off-\n",
      "Over Water/Into Wate\n",
      "Smoke/Fumes In Cockp\n",
      "Evacuation\n",
      "Narcotics Involvemen\n",
      "Automotive Fuel\n",
      "Pax Ox Masks Extende\n",
      "Hijack\n",
      "Drugs, Test Or Autop\n",
      "Preexisting Disease\n",
      "Decompression\n",
      "Fuel Dump\n",
      "Ballistic Parachute\n",
      "Bomb Threat\n"
     ]
    }
   ],
   "source": [
    "aids[161] = aids[161].str.strip()\n",
    "\n",
    "factor_text(161)"
   ]
  },
  {
   "cell_type": "markdown",
   "id": "70f1b734-c567-439e-a485-de28586a05b1",
   "metadata": {},
   "source": [
    "#### NOTE: \n",
    "- Not using this column for filtering because criteria does not apply"
   ]
  },
  {
   "cell_type": "markdown",
   "id": "b4061ba4-96f9-4225-96a1-44bc9514137f",
   "metadata": {},
   "source": [
    "**Col 163: 2nd Additional Factor**"
   ]
  },
  {
   "cell_type": "code",
   "execution_count": 18,
   "id": "63b92fef-3f79-4f7f-b8e2-c1674da31dd9",
   "metadata": {
    "tags": []
   },
   "outputs": [
    {
     "name": "stdout",
     "output_type": "stream",
     "text": [
      "Unscheduled Landing\n",
      "Over Water/Into Wate\n",
      "Fire And Rescue - Al\n",
      "Smoke/Fumes In Cockp\n",
      "Inflight/Ground Fire\n",
      "Non-Routine Pax Off-\n",
      "Runway Blocked\n",
      "Descent Emergency\n",
      "Declared Emergency\n",
      "Landed On Wrong Airp\n",
      "Unable/Unsafe To Tax\n",
      "Rejected Takeoff\n",
      "Public Complaint\n",
      "Mercy Landing\n",
      "Evacuation\n",
      "Collision Avoidance\n",
      "Off Side Of Runway\n",
      "Abandoned Aircraft\n",
      "Fire And Rescue - Ac\n",
      "Narcotics Involvemen\n",
      "Pax Ox Masks Extende\n",
      "Hijack\n",
      "Landed On Wrong Runw\n",
      "Parachute Incident\n",
      "Public Protection\n",
      "Automotive Fuel\n",
      "Drugs, Test Or Autop\n",
      "Decompression\n",
      "Fuel Dump\n",
      "Preexisting Disease\n",
      "Ballistic Parachute\n"
     ]
    }
   ],
   "source": [
    "aids[163] = aids[163].str.strip()\n",
    "\n",
    "factor_text(163)"
   ]
  },
  {
   "cell_type": "markdown",
   "id": "526a9ba8-db7f-4ab2-b64c-e5e19f09d959",
   "metadata": {},
   "source": [
    "#### NOTE: \n",
    "- Not using col 163 for filtering, criteria does not apply"
   ]
  },
  {
   "cell_type": "markdown",
   "id": "3477e80e-13e9-463a-a0da-3f690e763224",
   "metadata": {
    "tags": []
   },
   "source": [
    "**Col 183: Supporting Factor Text**"
   ]
  },
  {
   "cell_type": "code",
   "execution_count": 19,
   "id": "5cec653f-e7de-46ee-b011-0ceacdaea681",
   "metadata": {},
   "outputs": [
    {
     "name": "stdout",
     "output_type": "stream",
     "text": [
      "Pilot and Ground Cre\n"
     ]
    }
   ],
   "source": [
    "aids[183] = aids[183].str.strip()\n",
    "\n",
    "factor_text(183)"
   ]
  },
  {
   "cell_type": "markdown",
   "id": "c3338e1a-c572-4d81-9b55-53aaf657e22b",
   "metadata": {},
   "source": [
    "#### NOTE: \n",
    "- Not using col 183 for filtering, criteria does not apply"
   ]
  },
  {
   "cell_type": "markdown",
   "id": "04d77675-ddaa-46d2-a444-aaba5503dfad",
   "metadata": {},
   "source": [
    "**Col 191: Supporting cause factor B text**"
   ]
  },
  {
   "cell_type": "code",
   "execution_count": 20,
   "id": "d640a9a5-658e-4d28-a1cc-c5a14eae932d",
   "metadata": {},
   "outputs": [
    {
     "name": "stdout",
     "output_type": "stream",
     "text": [
      "Pilot and Ground Cre\n"
     ]
    }
   ],
   "source": [
    "aids[191] = aids[191].str.strip()\n",
    "\n",
    "factor_text(191)"
   ]
  },
  {
   "cell_type": "markdown",
   "id": "b3d3ab60-3737-4cc1-a85f-7831b87dc6c0",
   "metadata": {
    "tags": []
   },
   "source": [
    "#### NOTE: \n",
    "- Not using col 191 for filtering, criteria does not apply"
   ]
  },
  {
   "cell_type": "code",
   "execution_count": 21,
   "id": "17088d8d-1f7e-43cc-a282-8176800bb5d7",
   "metadata": {},
   "outputs": [
    {
     "name": "stdout",
     "output_type": "stream",
     "text": [
      "Pre-filter:  (166989, 77)\n",
      "Post-filter:  (38277, 77)\n"
     ]
    }
   ],
   "source": [
    "# filter to keep the following from COL 77:\n",
    "# gusty winds, weather, inadequate rwy, density altitude, snow bank, ice/slush runway, icing, downdraft, hidden hazardous obj, wet runway, \n",
    "# settling with power, high vegetation, glassy water, rough water, \n",
    "\n",
    "# filter to keep the follwing from COL 79:\n",
    "# Cont Vfr Flight Into, Fail Avd Objs Or Obs, Blown Over By Strong, Insufficient Terrain, Poor Preflight Plan, Lost Ground Ref At N,\n",
    "# Unsuitable Terrain S, Improper Maintenance, Tkof Advrse Wx Crash, Windshear, Poor Preflight Plann, Collided With Obj On, \n",
    "# Fail Avd Collision G, Poor Preflight Plan/, Inadeq Flt/Grd Train, Whiteout Conditions, Incorrect Weather Fo, Collided With Ground\n",
    "\n",
    "# filter to keep the follwing from COL 87:\n",
    "# Icing On Aircraft, Weather, Snow Bank, Ice/Slush Runway, Ice/Slush Runway, Gusty Winds, Density Altitude, Wet Runway, Downdraft, High Vegetation\n",
    "# Rough Or Rutted Sod, Hidden Hazardous Obj, Inadequate Rwy, Taxi, Rough Water\n",
    "\n",
    "print('Pre-filter: ', aids.shape)\n",
    "\n",
    "aids = aids[(aids[77] == 'Struck Birds In Flig') |\n",
    "            (aids[77] == 'Cont Vfr Flight Into') |\n",
    "            (aids[77] == 'Fail Avd Objs Or Obs') |\n",
    "            (aids[77] == 'Blown Over By Strong') |\n",
    "            (aids[77] == 'Insufficient Terrain') |\n",
    "            (aids[77] == 'Poor Preflight Plan') |\n",
    "            (aids[77] == 'Lost Ground Ref At N') |\n",
    "            (aids[77] == 'Unsuitable Terrain S') |\n",
    "            (aids[77] == 'Tkof Advrse Wx Crash') |\n",
    "            (aids[77] == 'Windshear') |\n",
    "            (aids[77] == 'Poor Preflight Plann') |\n",
    "            (aids[77] == 'Collided With Obj On') |\n",
    "            (aids[77] == 'Fail Avd Collision G') |\n",
    "            (aids[77] == 'Poor Preflight Plan/') |\n",
    "            (aids[77] == 'Inadeq Flt/Grd Train') |\n",
    "            (aids[77] == 'Whiteout Conditions') |\n",
    "            (aids[77] == 'Incorrect Weather Fo') |\n",
    "            (aids[77] == 'Collided With Ground') |\n",
    "            (aids[77] == 'Struck Animal') |\n",
    "            (aids[77] == 'Lost Control In Adve') |\n",
    "            (aids[77] == 'Downwind Takeoff Or') |\n",
    "            (aids[77] == 'Lost On/Off Course V') |\n",
    "            (aids[77] == 'Landed Short') |\n",
    "            (aids[77] == 'Operation Below Vmc') |\n",
    "            (aids[77] == 'Inadeq/Imp Pf Prep/P') |\n",
    "            (aids[77] == 'Incomplete Weather R') |\n",
    "            (aids[77] == 'Fail To Avd Tv Or Ra') |\n",
    "            (aids[77] == 'Landed On Wrong Airp') |\n",
    "            (aids[79] == 'Gusty Winds') |\n",
    "            (aids[79] == 'Weather') |\n",
    "            (aids[79] == 'Inadequate Rwy, Taxi') |\n",
    "            (aids[79] == 'Density Altitude') |\n",
    "            (aids[79] == 'Snow Bank') |\n",
    "            (aids[79] == 'Ice/Slush Runway') |\n",
    "            (aids[79] == 'Icing On Aircraft') |\n",
    "            (aids[79] == 'Downdraft') |\n",
    "            (aids[79] == 'Wet Runway') |\n",
    "            (aids[79] == 'Hidden Hazardous Obj') |\n",
    "            (aids[79] == 'Rough Or Rutted Sod') |\n",
    "            (aids[79] == 'High Vegetation') |\n",
    "            (aids[79] == 'Struck Animal') |\n",
    "            (aids[79] == 'Ditching') |\n",
    "            (aids[79] == 'Bird Strike') |\n",
    "            (aids[87] == 'Gusty Winds') |\n",
    "            (aids[87] == 'Weather') |\n",
    "            (aids[87] == 'Inadequate Rwy, Taxi') |\n",
    "            (aids[87] == 'Density Altitude') |\n",
    "            (aids[87] == 'Snow Bank') |\n",
    "            (aids[87] == 'Ice/Slush Runway') |\n",
    "            (aids[87] == 'Icing On Aircraft') |\n",
    "            (aids[87] == 'Downdraft') |\n",
    "            (aids[87] == 'Wet Runway') |\n",
    "            (aids[87] == 'Rough Or Rutted Sod') |\n",
    "            (aids[87] == 'Settling W/Power') |\n",
    "            (aids[87] == 'High Vegetation') |\n",
    "            (aids[87] == 'Glassy Water') |\n",
    "            (aids[87] == 'Icing On Aircraft') |\n",
    "            (aids[87] == 'Weather') |\n",
    "            (aids[87] == 'Snow Bank') |\n",
    "            (aids[87] == 'Ice/Slush Runway') |\n",
    "            (aids[87] == 'Gusty Winds') |\n",
    "            (aids[87] == 'Density Altitude') |\n",
    "            (aids[87] == 'Wet Runway') |\n",
    "            (aids[87] == 'Downdraft') |\n",
    "            (aids[87] == 'High Vegetation') |\n",
    "            (aids[87] == 'Rough Or Rutted Sod') |\n",
    "            (aids[87] == 'Hidden Hazardous Obj') |\n",
    "            (aids[87] == 'Inadequate Rwy, Taxi') |\n",
    "            (aids[79] == 'Bird Strike') |\n",
    "            (aids[79] == 'Struck Animal')]\n",
    "\n",
    "print('Post-filter: ', aids.shape)"
   ]
  },
  {
   "cell_type": "markdown",
   "id": "40b2da74-0430-484d-aa00-a847578fc86c",
   "metadata": {
    "tags": []
   },
   "source": [
    "#### NOTE: \n",
    "- Filtering the data frame for causal factors related to hazards or events that could have been avoided during preflight planning resulted in the following:\n",
    "    - Original record count: 166989\n",
    "    - Post-filter record count: 38277\n",
    "    - Delta: 127,277\n",
    "- This is a big delta but it makes sense because weather and environmental related accidents are a small fraction of overall accidents"
   ]
  },
  {
   "cell_type": "markdown",
   "id": "522e48be-12e6-43ac-b30f-31e21ea99ece",
   "metadata": {},
   "source": [
    "#### 4. Rename columns with text labels"
   ]
  },
  {
   "cell_type": "code",
   "execution_count": 22,
   "id": "9a85eaa3-9a21-420a-ae8d-ef8ce3bdbdcc",
   "metadata": {},
   "outputs": [],
   "source": [
    "# names are derived from the 'AIDS report_col_names.txt' file\n",
    "names = {5: 'control_number', 1: 'event_type', 2: 'far_part_num', 9: 'accident_date', 10: 'accident_time', 144: 'aircraft_design_code', \n",
    "         145: 'weight_class_code', 147: 'wing_info', 151: 'num_engines', 153: 'horsepower_750', 157: 'ldg_gear', 160: 'additional_cause_factor', \n",
    "         162: 'sec_add_cause_factor', 233: 'fatal_pilot', 234: 'fatal_second_pilot', 23: 'aircraft_make', 24: 'aircraft_model', \n",
    "         25: 'aircraft_group', 30: 'airworthiness_class', 31: 'airframe_hrs', 33: 'wing_lo_hi', 34: 'engine_make', 39: 'engine_type', \n",
    "         11: 'accident_region', 13: 'accident_state', 14: 'accident_city', 15: 'airport_name', 16: 'runway_number', 20: 'latitude', 21: 'longitude',\n",
    "         102: 'primary_flight_type_code', 106: 'primary_flight_condition', 110: 'light_condition', 112: 'sky_condition', 113: 'cloud_ceiling', \n",
    "         114: 'visibility', 115: 'visibility_restriction', 117: 'runway_condition', 118: 'braking_condition', 143: 'airport_id', \n",
    "         240: 'wind_direction', 241: 'wind_speed_mph', 242: 'gust_indicator_flag', 243: 'gust_speed_mph', 76: 'total_fatalities', \n",
    "         250: 'injuries', 53: 'flt_hrs_in_model', 54: '90_day_hrs_model', 55: '90_day_hrs', 56: 'total_pilot_hrs', 129: 'ntsb_file_num', \n",
    "         98: 'damage_code', 40: 'pilot_certificate', 44: 'pilot_rating', 48: 'pilot_qual', 77: 'primary_cause', 79: 'contributing_factor', \n",
    "         83: 'supporting_factor', 85: 'second_cause_factor', 87: 'second_contributing_factor', 91: 'second_supporting_factor', 93: 'accident_type',\n",
    "         95: 'flight_phase', 97: 'damage', 99: 'general_cause', 101: 'primary_flight_type_txt', 103: 'second_flight_type', 105: 'primary_flight_condition_txt',\n",
    "         107: 'secondary_flying_condition_txt', 109: 'light_condition_text', 148: 'wing_info_txt', 156: 'type_of_engine', 158: 'ldg_gear_type', \n",
    "         161: 'additional_causal_factor', 163: '2nd_additional_causal_factor', 183: 'supporting_factor_txt', 191: 'supporting_cause_factor_B_txt'}"
   ]
  },
  {
   "cell_type": "code",
   "execution_count": 23,
   "id": "bb1c7e7b-4e54-4124-a924-435bb5b1a092",
   "metadata": {},
   "outputs": [],
   "source": [
    "aids = aids.rename(columns=names)"
   ]
  },
  {
   "cell_type": "code",
   "execution_count": 24,
   "id": "5a31406d-6314-41e4-8796-b34dd24a5d84",
   "metadata": {},
   "outputs": [
    {
     "name": "stdout",
     "output_type": "stream",
     "text": [
      "<class 'pandas.core.frame.DataFrame'>\n",
      "Int64Index: 38277 entries, 4 to 13716\n",
      "Data columns (total 77 columns):\n",
      " #   Column                          Non-Null Count  Dtype  \n",
      "---  ------                          --------------  -----  \n",
      " 0   control_number                  38277 non-null  object \n",
      " 1   event_type                      38277 non-null  object \n",
      " 2   far_part_num                    38277 non-null  object \n",
      " 3   accident_date                   38277 non-null  int64  \n",
      " 4   accident_time                   38277 non-null  object \n",
      " 5   aircraft_design_code            38277 non-null  object \n",
      " 6   weight_class_code               38277 non-null  object \n",
      " 7   wing_info                       38277 non-null  object \n",
      " 8   num_engines                     37844 non-null  float64\n",
      " 9   horsepower_750                  38277 non-null  object \n",
      " 10  ldg_gear                        38277 non-null  object \n",
      " 11  additional_cause_factor         38277 non-null  object \n",
      " 12  sec_add_cause_factor            38277 non-null  object \n",
      " 13  fatal_pilot                     38277 non-null  object \n",
      " 14  fatal_second_pilot              38277 non-null  object \n",
      " 15  aircraft_make                   38277 non-null  object \n",
      " 16  aircraft_model                  38277 non-null  object \n",
      " 17  aircraft_group                  38277 non-null  object \n",
      " 18  airworthiness_class             38277 non-null  object \n",
      " 19  airframe_hrs                    26733 non-null  float64\n",
      " 20  wing_lo_hi                      38277 non-null  object \n",
      " 21  engine_make                     38277 non-null  object \n",
      " 22  engine_type                     38277 non-null  object \n",
      " 23  accident_region                 38249 non-null  object \n",
      " 24  accident_state                  38224 non-null  object \n",
      " 25  accident_city                   38199 non-null  object \n",
      " 26  airport_name                    25495 non-null  object \n",
      " 27  runway_number                   18104 non-null  object \n",
      " 28  latitude                        10425 non-null  object \n",
      " 29  longitude                       10417 non-null  object \n",
      " 30  primary_flight_type_code        38267 non-null  object \n",
      " 31  primary_flight_condition        38237 non-null  object \n",
      " 32  light_condition                 37402 non-null  float64\n",
      " 33  sky_condition                   27575 non-null  object \n",
      " 34  cloud_ceiling                   9784 non-null   object \n",
      " 35  visibility                      26918 non-null  object \n",
      " 36  visibility_restriction          7839 non-null   object \n",
      " 37  runway_condition                18479 non-null  object \n",
      " 38  braking_condition               3626 non-null   object \n",
      " 39  airport_id                      16323 non-null  object \n",
      " 40  wind_direction                  10798 non-null  object \n",
      " 41  wind_speed_mph                  9859 non-null   object \n",
      " 42  gust_indicator_flag             5883 non-null   object \n",
      " 43  gust_speed_mph                  177 non-null    object \n",
      " 44  total_fatalities                38277 non-null  int64  \n",
      " 45  injuries                        38277 non-null  int64  \n",
      " 46  flt_hrs_in_model                34195 non-null  float64\n",
      " 47  90_day_hrs_model                26644 non-null  float64\n",
      " 48  90_day_hrs                      33011 non-null  float64\n",
      " 49  total_pilot_hrs                 35331 non-null  float64\n",
      " 50  ntsb_file_num                   38277 non-null  object \n",
      " 51  damage_code                     38277 non-null  object \n",
      " 52  pilot_certificate               38277 non-null  object \n",
      " 53  pilot_rating                    38277 non-null  object \n",
      " 54  pilot_qual                      38277 non-null  object \n",
      " 55  primary_cause                   38277 non-null  object \n",
      " 56  contributing_factor             38277 non-null  object \n",
      " 57  supporting_factor               38277 non-null  object \n",
      " 58  second_cause_factor             38277 non-null  object \n",
      " 59  second_contributing_factor      38277 non-null  object \n",
      " 60  second_supporting_factor        38277 non-null  object \n",
      " 61  accident_type                   38277 non-null  object \n",
      " 62  flight_phase                    38277 non-null  object \n",
      " 63  damage                          38277 non-null  object \n",
      " 64  general_cause                   38277 non-null  object \n",
      " 65  primary_flight_type_txt         38277 non-null  object \n",
      " 66  second_flight_type              38277 non-null  object \n",
      " 67  primary_flight_condition_txt    38277 non-null  object \n",
      " 68  secondary_flying_condition_txt  38277 non-null  object \n",
      " 69  light_condition_text            38277 non-null  object \n",
      " 70  wing_info_txt                   38277 non-null  object \n",
      " 71  type_of_engine                  38277 non-null  object \n",
      " 72  ldg_gear_type                   38277 non-null  object \n",
      " 73  additional_causal_factor        38277 non-null  object \n",
      " 74  2nd_additional_causal_factor    38277 non-null  object \n",
      " 75  supporting_factor_txt           38277 non-null  object \n",
      " 76  supporting_cause_factor_B_txt   38277 non-null  object \n",
      "dtypes: float64(7), int64(3), object(67)\n",
      "memory usage: 22.8+ MB\n"
     ]
    }
   ],
   "source": [
    "aids.info()"
   ]
  },
  {
   "cell_type": "markdown",
   "id": "4d22797f-5a24-44f3-9912-1681b17daf5d",
   "metadata": {},
   "source": [
    "### 5. Continue dropping irrelevant columns based on FRAT tool"
   ]
  },
  {
   "cell_type": "markdown",
   "id": "98b65363-741b-4a39-ade7-7363984a44ea",
   "metadata": {},
   "source": [
    "#### NOTE: \n",
    "- There are many columns in the set that are duplicates: \n",
    "    - for example, there will be one textual column, then a sister column where all the values are encoded with a letter\n",
    "    - need to drop all the encoded columns because there is no formal key for the encoding\n",
    "    - the following code blocks explore all these columns and annotate which columns to drop in a comment at the end.  "
   ]
  },
  {
   "cell_type": "code",
   "execution_count": 25,
   "id": "de757f24-7436-4472-9d61-4f8932d5aced",
   "metadata": {},
   "outputs": [
    {
     "name": "stdout",
     "output_type": "stream",
     "text": [
      "['L' 'H' 'M' '' 'G' 'K' 'Q' 'B' 'D' 'X' 'W' 'S' 'P' 'F']\n",
      "['L' 'H' 'M' '' 'G' 'K' 'Q' 'B' 'D' 'O' 'J' '1']\n",
      "['MONOPLANE-LOW WING' 'MONOPLANE-HIGH WING/PARA WING' 'MONOPLANE-MID WING'\n",
      " '' 'ROTARY WING-HELI/GYROCOPTER' 'KITE/SAILWING'\n",
      " 'MULTI WING-BI/TRIPLANE,ETC' 'LIGHTR THAN AIR/BAL/BLP/DIR'\n",
      " 'DELTA WING/SWING WING' 'OTHER' 'WEIGHT SHIFT CONTROL'\n",
      " 'STOL/VTOL/TILT/WING' 'PARACHUTE-LOW PERFORMANCE' 'FLEXIBLE OR SEMIRIGID']\n"
     ]
    }
   ],
   "source": [
    "# there are three columns related to wing information\n",
    "print(aids['wing_info'].unique())\n",
    "print(aids['wing_lo_hi'].unique())\n",
    "print(aids['wing_info_txt'].unique())\n",
    "\n",
    "# drop 'wing_info' and 'wing_lo_hi'"
   ]
  },
  {
   "cell_type": "code",
   "execution_count": 26,
   "id": "ee9c5d48-2bd8-41c7-bb53-9859cb4c3ad6",
   "metadata": {},
   "outputs": [
    {
     "name": "stdout",
     "output_type": "stream",
     "text": [
      "['' 'O' 'R' 'T' 'U' 'F' 'J' 'I' 'V' 'X' '150L']\n",
      "['' 'RECIPROCATING-OPPOSED' 'RECIPROCATING-RADIAL' 'TURBOPROP'\n",
      " 'TURBOSHAFT' 'TURBOFAN/TURBOJET BYPASS' 'TURBOJET' 'RECIPROCATING-INLINE'\n",
      " 'RECIPROCATING-VEE' 'OTHER']\n"
     ]
    }
   ],
   "source": [
    "print(aids['engine_type'].unique())\n",
    "print(aids['type_of_engine'].unique())\n",
    "\n",
    "# drop 'engine_type'"
   ]
  },
  {
   "cell_type": "code",
   "execution_count": 27,
   "id": "d42607ca-fd5c-417e-aeac-afbc8a6a1deb",
   "metadata": {},
   "outputs": [
    {
     "name": "stdout",
     "output_type": "stream",
     "text": [
      "['1' '2' '5' '4' '8' '3' 'B' 'A' 'J' '6' '7' 'H' 'C' '9' 'G' 'D' 'F' 'E'\n",
      " nan]\n",
      "['Personal' 'Business' 'Air Taxi (Non-Schedu' 'Instruction' 'Other'\n",
      " 'Executive' 'A/T Com (Sched 5/Mor' 'Air Taxi (Sched-Not'\n",
      " 'Illegal Drug, Stolen' 'Aerial Applicator' 'Industrial/Special'\n",
      " 'All Cargo Carriers' 'Scheduled Air Carrie' 'For Hire'\n",
      " 'Supplemental Or Comm' 'Air Taxi Oper-Large' 'Travel Clubs' '']\n"
     ]
    }
   ],
   "source": [
    "print(aids['primary_flight_type_code'].unique())\n",
    "print(aids['primary_flight_type_txt'].unique())\n",
    "\n",
    "# drop 'primary_flight_type_code'"
   ]
  },
  {
   "cell_type": "code",
   "execution_count": 28,
   "id": "24e39b6a-5206-4040-b331-2757fbd90ce3",
   "metadata": {},
   "outputs": [
    {
     "name": "stdout",
     "output_type": "stream",
     "text": [
      "['B' 'A' 'C' nan]\n",
      "['VFR' 'IFR' 'Unknown' '']\n"
     ]
    }
   ],
   "source": [
    "print(aids['primary_flight_condition'].unique())\n",
    "print(aids['primary_flight_condition_txt'].unique())\n",
    "\n",
    "# drop 'primary_flight_condition'"
   ]
  },
  {
   "cell_type": "code",
   "execution_count": 29,
   "id": "6143f5de-fab4-4ccd-a05a-4fa98e8e67f8",
   "metadata": {},
   "outputs": [
    {
     "name": "stdout",
     "output_type": "stream",
     "text": [
      "[ 1.  2. nan  3.  4.  5.]\n",
      "['Day' 'Night' '' 'Dawn' 'Dusk' 'Unknown']\n"
     ]
    }
   ],
   "source": [
    "print(aids['light_condition'].unique())\n",
    "print(aids['light_condition_text'].unique())\n",
    "\n",
    "# drop 'light_condition'"
   ]
  },
  {
   "cell_type": "code",
   "execution_count": 30,
   "id": "3c737058-4d91-4f35-89d6-81ba48dd7bb1",
   "metadata": {},
   "outputs": [
    {
     "name": "stdout",
     "output_type": "stream",
     "text": [
      "['' 'Unknown']\n",
      "['M' 'S' 'D' '' 'U' 'N']\n"
     ]
    }
   ],
   "source": [
    "print(aids['damage'].unique())\n",
    "print(aids['damage_code'].unique())\n",
    "\n",
    "# drop 'damage'"
   ]
  },
  {
   "cell_type": "code",
   "execution_count": 31,
   "id": "bb365f8b-7b09-448f-8208-02767ba41da1",
   "metadata": {},
   "outputs": [
    {
     "name": "stdout",
     "output_type": "stream",
     "text": [
      "['' 'TR' 'CV' 'T' 'J' 'O' '0' 'R']\n",
      "['' 'Wheeled-Tricycle' 'Wheeled-Conventional' 'Historical Small Aircraft'\n",
      " 'Historical Large Aircraft' 'Historical Rotocraft' 'Historical Unknown'\n",
      " 'Historical Amateur Built']\n"
     ]
    }
   ],
   "source": [
    "print(aids['ldg_gear'].unique())\n",
    "print(aids['ldg_gear_type'].unique())\n",
    "\n",
    "# drop 'ldg_gear'"
   ]
  },
  {
   "cell_type": "code",
   "execution_count": 32,
   "id": "cdbd4c81-099a-45c0-ac33-6b6dd21933d8",
   "metadata": {},
   "outputs": [],
   "source": [
    "aids = aids.drop(['wing_info', 'wing_lo_hi', 'engine_type', 'primary_flight_type_code', 'primary_flight_condition',\n",
    "                  'light_condition', 'damage', 'ldg_gear'], axis=1)"
   ]
  },
  {
   "cell_type": "code",
   "execution_count": 33,
   "id": "b13cad9e-3dbc-4dba-9842-3d57c77798eb",
   "metadata": {},
   "outputs": [
    {
     "name": "stdout",
     "output_type": "stream",
     "text": [
      "<class 'pandas.core.frame.DataFrame'>\n",
      "Int64Index: 38277 entries, 4 to 13716\n",
      "Data columns (total 69 columns):\n",
      " #   Column                          Non-Null Count  Dtype  \n",
      "---  ------                          --------------  -----  \n",
      " 0   control_number                  38277 non-null  object \n",
      " 1   event_type                      38277 non-null  object \n",
      " 2   far_part_num                    38277 non-null  object \n",
      " 3   accident_date                   38277 non-null  int64  \n",
      " 4   accident_time                   38277 non-null  object \n",
      " 5   aircraft_design_code            38277 non-null  object \n",
      " 6   weight_class_code               38277 non-null  object \n",
      " 7   num_engines                     37844 non-null  float64\n",
      " 8   horsepower_750                  38277 non-null  object \n",
      " 9   additional_cause_factor         38277 non-null  object \n",
      " 10  sec_add_cause_factor            38277 non-null  object \n",
      " 11  fatal_pilot                     38277 non-null  object \n",
      " 12  fatal_second_pilot              38277 non-null  object \n",
      " 13  aircraft_make                   38277 non-null  object \n",
      " 14  aircraft_model                  38277 non-null  object \n",
      " 15  aircraft_group                  38277 non-null  object \n",
      " 16  airworthiness_class             38277 non-null  object \n",
      " 17  airframe_hrs                    26733 non-null  float64\n",
      " 18  engine_make                     38277 non-null  object \n",
      " 19  accident_region                 38249 non-null  object \n",
      " 20  accident_state                  38224 non-null  object \n",
      " 21  accident_city                   38199 non-null  object \n",
      " 22  airport_name                    25495 non-null  object \n",
      " 23  runway_number                   18104 non-null  object \n",
      " 24  latitude                        10425 non-null  object \n",
      " 25  longitude                       10417 non-null  object \n",
      " 26  sky_condition                   27575 non-null  object \n",
      " 27  cloud_ceiling                   9784 non-null   object \n",
      " 28  visibility                      26918 non-null  object \n",
      " 29  visibility_restriction          7839 non-null   object \n",
      " 30  runway_condition                18479 non-null  object \n",
      " 31  braking_condition               3626 non-null   object \n",
      " 32  airport_id                      16323 non-null  object \n",
      " 33  wind_direction                  10798 non-null  object \n",
      " 34  wind_speed_mph                  9859 non-null   object \n",
      " 35  gust_indicator_flag             5883 non-null   object \n",
      " 36  gust_speed_mph                  177 non-null    object \n",
      " 37  total_fatalities                38277 non-null  int64  \n",
      " 38  injuries                        38277 non-null  int64  \n",
      " 39  flt_hrs_in_model                34195 non-null  float64\n",
      " 40  90_day_hrs_model                26644 non-null  float64\n",
      " 41  90_day_hrs                      33011 non-null  float64\n",
      " 42  total_pilot_hrs                 35331 non-null  float64\n",
      " 43  ntsb_file_num                   38277 non-null  object \n",
      " 44  damage_code                     38277 non-null  object \n",
      " 45  pilot_certificate               38277 non-null  object \n",
      " 46  pilot_rating                    38277 non-null  object \n",
      " 47  pilot_qual                      38277 non-null  object \n",
      " 48  primary_cause                   38277 non-null  object \n",
      " 49  contributing_factor             38277 non-null  object \n",
      " 50  supporting_factor               38277 non-null  object \n",
      " 51  second_cause_factor             38277 non-null  object \n",
      " 52  second_contributing_factor      38277 non-null  object \n",
      " 53  second_supporting_factor        38277 non-null  object \n",
      " 54  accident_type                   38277 non-null  object \n",
      " 55  flight_phase                    38277 non-null  object \n",
      " 56  general_cause                   38277 non-null  object \n",
      " 57  primary_flight_type_txt         38277 non-null  object \n",
      " 58  second_flight_type              38277 non-null  object \n",
      " 59  primary_flight_condition_txt    38277 non-null  object \n",
      " 60  secondary_flying_condition_txt  38277 non-null  object \n",
      " 61  light_condition_text            38277 non-null  object \n",
      " 62  wing_info_txt                   38277 non-null  object \n",
      " 63  type_of_engine                  38277 non-null  object \n",
      " 64  ldg_gear_type                   38277 non-null  object \n",
      " 65  additional_causal_factor        38277 non-null  object \n",
      " 66  2nd_additional_causal_factor    38277 non-null  object \n",
      " 67  supporting_factor_txt           38277 non-null  object \n",
      " 68  supporting_cause_factor_B_txt   38277 non-null  object \n",
      "dtypes: float64(6), int64(3), object(60)\n",
      "memory usage: 20.4+ MB\n"
     ]
    }
   ],
   "source": [
    "aids.info()"
   ]
  },
  {
   "cell_type": "markdown",
   "id": "da6f545a-0228-4a61-b590-04e6f9c89312",
   "metadata": {},
   "source": [
    "#### NOTE: \n",
    "- Dropped 8 columns, went from 77 columns to 69 columns"
   ]
  },
  {
   "cell_type": "markdown",
   "id": "ebd8c74d-061f-44c0-9463-d8bd3f1d475d",
   "metadata": {
    "tags": []
   },
   "source": [
    "### 6: Replace white space in all columns with NaN"
   ]
  },
  {
   "cell_type": "code",
   "execution_count": 34,
   "id": "61a7156e-f7ae-44cd-803d-2d981be8779d",
   "metadata": {},
   "outputs": [],
   "source": [
    "# use regex for whitespace to fill with np.nan\n",
    "aids = aids.replace(r'^\\s*$', np.nan, regex=True)"
   ]
  },
  {
   "cell_type": "markdown",
   "id": "caabffa1-9092-49ea-bd8c-1e4b30171000",
   "metadata": {},
   "source": [
    "### 7. Drop columns that have over 30% NaN values or can not impute, clean each column"
   ]
  },
  {
   "cell_type": "code",
   "execution_count": 35,
   "id": "e3c350b2-a206-48bf-befb-4e4b91c631a0",
   "metadata": {},
   "outputs": [],
   "source": [
    "# these columns are dropped because there is far too much missing data\n",
    "drop_nan_col = ['aircraft_design_code', 'additional_cause_factor', 'sec_add_cause_factor', 'fatal_second_pilot', 'airworthiness_class',\n",
    "                'braking_condition', '90_day_hrs_model', 'ntsb_file_num', 'pilot_qual', 'supporting_factor', \n",
    "                'second_cause_factor', 'second_contributing_factor', 'second_supporting_factor', 'additional_causal_factor',\n",
    "                '2nd_additional_causal_factor', 'supporting_factor_txt', 'supporting_cause_factor_B_txt']\n",
    "\n",
    "\n",
    "aids = aids.drop(drop_nan_col, axis=1)"
   ]
  },
  {
   "cell_type": "code",
   "execution_count": 36,
   "id": "9c4a6dfc-af42-4a92-b75e-c72e3727ef42",
   "metadata": {},
   "outputs": [
    {
     "data": {
      "text/plain": [
       "(37885, 52)"
      ]
     },
     "execution_count": 36,
     "metadata": {},
     "output_type": "execute_result"
    }
   ],
   "source": [
    "# drop records that have nan time\n",
    "aids = aids.dropna(subset=['accident_time'])\n",
    "aids.shape"
   ]
  },
  {
   "cell_type": "code",
   "execution_count": 37,
   "id": "4c600475-5aab-43ac-a678-c81cb35423f0",
   "metadata": {},
   "outputs": [
    {
     "name": "stdout",
     "output_type": "stream",
     "text": [
      "['1' '2' nan]\n",
      "0    1\n",
      "Name: weight_class_code, dtype: object\n"
     ]
    }
   ],
   "source": [
    "# check to see if weight class code is usable information\n",
    "print(aids['weight_class_code'].unique())\n",
    "\n",
    "# fill nan in weight class code with the mode\n",
    "print(aids['weight_class_code'].mode())\n",
    "\n",
    "# fill with 1\n",
    "aids['weight_class_code'] = aids['weight_class_code'].fillna(1)"
   ]
  },
  {
   "cell_type": "markdown",
   "id": "d5ffdd91-6b61-4234-9d99-5f4e25822be3",
   "metadata": {},
   "source": [
    "- **Weight class** seems to be a binary input where the weight is above or below a certain value but not certain what the value is"
   ]
  },
  {
   "cell_type": "code",
   "execution_count": 38,
   "id": "4599bd7d-66f7-42a4-a5eb-a53b811e1e43",
   "metadata": {},
   "outputs": [
    {
     "name": "stdout",
     "output_type": "stream",
     "text": [
      "0    1.0\n",
      "Name: num_engines, dtype: float64\n"
     ]
    }
   ],
   "source": [
    "# check num engines column\n",
    "aids['num_engines'].unique()\n",
    "print(aids['num_engines'].mode())\n",
    "# fill with mode\n",
    "aids['num_engines'] = aids['num_engines'].fillna(1.0)"
   ]
  },
  {
   "cell_type": "code",
   "execution_count": 39,
   "id": "9d9feccb-2011-4eb9-aa45-5f9ba49db3b8",
   "metadata": {},
   "outputs": [
    {
     "name": "stdout",
     "output_type": "stream",
     "text": [
      "3    21142\n",
      "4      919\n",
      "Name: horsepower_750, dtype: int64\n"
     ]
    }
   ],
   "source": [
    "# explore the horsepower_750 col\n",
    "aids['horsepower_750'].unique()\n",
    "print(aids['horsepower_750'].value_counts())\n",
    "# col uses 3 for True and 4 for False\n",
    "# replace 3 for 1 and 4 for 2. then replace nan with mode\n",
    "# dropping horsepower because there is too many missing values\n",
    "aids = aids.drop('horsepower_750', axis=1)"
   ]
  },
  {
   "cell_type": "code",
   "execution_count": 40,
   "id": "3169d576-ffce-4922-aae9-a648506dc466",
   "metadata": {},
   "outputs": [],
   "source": [
    "# only need the total fatalities column\n",
    "aids = aids.drop(['fatal_pilot'], axis=1)"
   ]
  },
  {
   "cell_type": "code",
   "execution_count": 41,
   "id": "cbbedcb5-ba26-48d3-94f2-58494b816cf5",
   "metadata": {},
   "outputs": [],
   "source": [
    "# remove nan records from the following columns:\n",
    "aids = aids.dropna(subset=['aircraft_make', 'aircraft_model', 'aircraft_group'])"
   ]
  },
  {
   "cell_type": "code",
   "execution_count": 42,
   "id": "aac19c36-b15f-4c4f-b92d-74822ccd1246",
   "metadata": {},
   "outputs": [
    {
     "data": {
      "text/plain": [
       "array([[<AxesSubplot:title={'center':'airframe_hrs'}>]], dtype=object)"
      ]
     },
     "execution_count": 42,
     "metadata": {},
     "output_type": "execute_result"
    },
    {
     "data": {
      "image/png": "[encoded data removed]",
      "text/plain": [
       "<Figure size 432x288 with 1 Axes>"
      ]
     },
     "metadata": {
      "needs_background": "light"
     },
     "output_type": "display_data"
    }
   ],
   "source": [
    "# will impute airframe hours, check distribution:\n",
    "aids.hist('airframe_hrs', bins=100)"
   ]
  },
  {
   "cell_type": "code",
   "execution_count": 43,
   "id": "e16695d9-0cde-4926-b30e-e7e474c58cca",
   "metadata": {},
   "outputs": [],
   "source": [
    "# impute airframe hours with median\n",
    "airframe_median = aids['airframe_hrs'].median()\n",
    "aids.loc[:, 'airframe_hrs'] = aids.loc[:, 'airframe_hrs'].fillna(airframe_median)"
   ]
  },
  {
   "cell_type": "code",
   "execution_count": 44,
   "id": "1b5fc40c-d744-45fb-b675-6be8c758b384",
   "metadata": {},
   "outputs": [
    {
     "data": {
      "text/plain": [
       "array([nan, 'LYC', 'PWA', 'CONT', 'ARSRCH', 'GLADEN', 'TMECA', 'GE',\n",
       "       'ALLSN', 'WRIGHT', 'AMTRVW', 'ONAN', 'JACOBS', 'FRNKLN', 'FCD',\n",
       "       'AMTRLC', 'JACOBP', 'RROYCE', 'AMTRMC', 'AMTRRW', 'AMTR', 'WARNER',\n",
       "       'ROTAX', 'DHAVXX', 'IAME', 'LIMBAH', 'MNASCO', 'WSK', 'PCKARD',\n",
       "       'GARRTT', 'ENMA', 'WALTER', 'ALIDSG', 'WILINT', 'FORD', 'VEDENY',\n",
       "       'AMTRRM', 'AMES', 'ZMDB', 'PWC', 'HNYWL'], dtype=object)"
      ]
     },
     "execution_count": 44,
     "metadata": {},
     "output_type": "execute_result"
    }
   ],
   "source": [
    "aids['engine_make'].unique()"
   ]
  },
  {
   "cell_type": "code",
   "execution_count": 45,
   "id": "f691e437-135f-4681-981d-9a732ac139a1",
   "metadata": {},
   "outputs": [],
   "source": [
    "# replace engine make NaN with Unknown\n",
    "aids['engine_make'] = aids['engine_make'].replace(np.nan, 'Unknown')"
   ]
  },
  {
   "cell_type": "code",
   "execution_count": 46,
   "id": "f1875fed-d5c0-428c-ad08-650c93cf5519",
   "metadata": {},
   "outputs": [],
   "source": [
    "# replace nan in city and state with unknown\n",
    "aids[['accident_state', 'accident_city']] = aids[['accident_state', 'accident_city']].replace(np.nan, 'Unknown')"
   ]
  },
  {
   "cell_type": "code",
   "execution_count": 47,
   "id": "8c9240e3-26a3-4694-ba4f-f066eeec5e59",
   "metadata": {},
   "outputs": [
    {
     "data": {
      "text/plain": [
       "array(['ANDRAU', 'MUNI', 'PRIVATE', ..., 'CENTRAL NEBRASKA RGNL',\n",
       "       'JASPER COUNTY-BELL FIELD', 'HAZELTON MUNI'], dtype=object)"
      ]
     },
     "execution_count": 47,
     "metadata": {},
     "output_type": "execute_result"
    }
   ],
   "source": [
    "# replace nan in airport name with \"none\"\n",
    "aids['airport_name'] = aids['airport_name'].replace(np.nan, 'none')\n",
    "aids['airport_name'].unique()"
   ]
  },
  {
   "cell_type": "code",
   "execution_count": 48,
   "id": "2b965e5c-ba8b-417b-8c17-816e61077bfd",
   "metadata": {},
   "outputs": [],
   "source": [
    "# runway number is specific to accidents that occur on a runway. \n",
    "# if nan that means accident was not associated with runway so change to 0\n",
    "def replace_rwy(num):\n",
    "    if num > 36:\n",
    "        num = 0\n",
    "    elif num == np.nan:\n",
    "        num = 0\n",
    "    return num\n",
    "\n",
    "# remove the R/L designator, change any \n",
    "aids['runway_number'] = aids['runway_number'].replace(r'[\\D]', '', regex=True).replace('', np.nan).fillna(0).astype('int').apply(replace_rwy)"
   ]
  },
  {
   "cell_type": "code",
   "execution_count": 49,
   "id": "5041db21-f4b4-4353-809c-64e1b1b16700",
   "metadata": {},
   "outputs": [
    {
     "data": {
      "text/plain": [
       "array(['SCAT', 'CLER', 'OCST', nan, 'BRKN', 'OBSC'], dtype=object)"
      ]
     },
     "execution_count": 49,
     "metadata": {},
     "output_type": "execute_result"
    }
   ],
   "source": [
    "aids['sky_condition'].unique()"
   ]
  },
  {
   "cell_type": "code",
   "execution_count": 50,
   "id": "c9721f8d-0292-442f-bef5-5863a016cf1a",
   "metadata": {},
   "outputs": [],
   "source": [
    "# impute flight hours in model with the median\n",
    "flt_hr_model = aids['flt_hrs_in_model'].median()\n",
    "aids['flt_hrs_in_model'] = aids['flt_hrs_in_model'].fillna(flt_hr_model)"
   ]
  },
  {
   "cell_type": "code",
   "execution_count": 51,
   "id": "d6a3e0cf-943d-4135-98a4-2bcaf53f1e29",
   "metadata": {},
   "outputs": [],
   "source": [
    "# impute 90 day hours with medial also\n",
    "ninety_day_hrs_median = aids['90_day_hrs'].median()\n",
    "aids['90_day_hrs'] = aids['90_day_hrs'].fillna(ninety_day_hrs_median)"
   ]
  },
  {
   "cell_type": "code",
   "execution_count": 52,
   "id": "3bdd86d2-05b8-4d9a-a647-763ce7c0db12",
   "metadata": {},
   "outputs": [],
   "source": [
    "# impute total hours with medial also\n",
    "tot_hrs_median = aids['total_pilot_hrs'].median()\n",
    "aids['total_pilot_hrs'] = aids['total_pilot_hrs'].fillna(tot_hrs_median)"
   ]
  },
  {
   "cell_type": "code",
   "execution_count": 53,
   "id": "e176d939-e926-46a3-a856-66b356603677",
   "metadata": {},
   "outputs": [],
   "source": [
    "# damage code\n",
    "aids['damage_code'].value_counts()\n",
    "aids['damage_code'] = aids['damage_code'].fillna('S')"
   ]
  },
  {
   "cell_type": "code",
   "execution_count": 54,
   "id": "40376008-3529-413b-83d5-3810a1fcc5d2",
   "metadata": {},
   "outputs": [],
   "source": [
    "# check pilot certificate\n",
    "aids['pilot_certificate'].value_counts()\n",
    "# impute nan with most common category\n",
    "aids['pilot_certificate'] = aids['pilot_certificate'].fillna('PRIVATE PILOT')"
   ]
  },
  {
   "cell_type": "code",
   "execution_count": 55,
   "id": "199f60fe-04aa-4ecf-b36d-989814457634",
   "metadata": {},
   "outputs": [],
   "source": [
    "# check pilot rating also\n",
    "aids['pilot_rating'].value_counts()\n",
    "aids['pilot_rating'] = aids['pilot_rating'].replace('NO RATING (OR STUDEN', 'NO RATING').fillna('NO RATING')"
   ]
  },
  {
   "cell_type": "code",
   "execution_count": 56,
   "id": "0339d2d6-3360-4d06-aabd-ff4866b84714",
   "metadata": {},
   "outputs": [],
   "source": [
    "# drop the nan row in the following cols:\n",
    "aids = aids.dropna(subset=['primary_cause', 'flight_phase', 'general_cause', 'primary_flight_type_txt', \n",
    "                           'second_flight_type', 'primary_flight_condition_txt', 'secondary_flying_condition_txt',\n",
    "                           'wing_info_txt',])\n",
    "  "
   ]
  },
  {
   "cell_type": "code",
   "execution_count": 57,
   "id": "854255ce-5349-4d3f-8533-5531f0796bc5",
   "metadata": {},
   "outputs": [],
   "source": [
    "# fill nan in contributing factor col\n",
    "aids['contributing_factor'].value_counts()\n",
    "# impute with 'other'\n",
    "aids['contributing_factor'] = aids['contributing_factor'].fillna('Other/Miscellaneous')"
   ]
  },
  {
   "cell_type": "code",
   "execution_count": 58,
   "id": "5d5e41c5-b0e5-4fb6-8c89-fad20e7b39e8",
   "metadata": {},
   "outputs": [],
   "source": [
    "aids['light_condition_text'].value_counts()\n",
    "aids['accident_time'] = aids['accident_time'].replace(['!$))', '!!)&'], '1200').astype(int)\n",
    "\n",
    "# use this to fill nan vals in the lighting condition col\n",
    "def impute_light(time):\n",
    "    if (time >= 500) & (time <= 700):\n",
    "        text = 'Dawn'\n",
    "    elif (time >= 632) & (time <= 1700):\n",
    "        text = 'Day'\n",
    "    elif (time >= 1701) & (time <= 1900):\n",
    "        text = 'Dusk'\n",
    "    elif (time >= 1901) | (time <= 459):\n",
    "        text = 'Night'\n",
    "    return text"
   ]
  },
  {
   "cell_type": "code",
   "execution_count": 59,
   "id": "89a07112-daba-49f1-a272-ae6f3362328e",
   "metadata": {},
   "outputs": [],
   "source": [
    "# creat a list of times and lighting conditions\n",
    "time_light = list(zip(aids['accident_time'], aids['light_condition_text']))\n",
    "\n",
    "# run the function to impute lighting condition as a new list\n",
    "new_light = []\n",
    "for x, y in time_light:\n",
    "    if (y == np.nan) or (y == 'Unknown'):\n",
    "        lights = impute_light(x)\n",
    "        y = lights\n",
    "        new_light.append(y)\n",
    "    else: \n",
    "        new_light.append(y)"
   ]
  },
  {
   "cell_type": "code",
   "execution_count": 60,
   "id": "2b3f7cdc-195e-4e48-b6de-8b1eb4202f95",
   "metadata": {},
   "outputs": [],
   "source": [
    "# add imputed lighting conditions to the column in the data frame\n",
    "aids['light_condition_text'] = new_light"
   ]
  },
  {
   "cell_type": "code",
   "execution_count": 61,
   "id": "b5987564-ada0-472c-a0b6-34b20fe18348",
   "metadata": {},
   "outputs": [
    {
     "data": {
      "text/plain": [
       "Day      29363\n",
       "Night     5653\n",
       "Dusk      1169\n",
       "Dawn       306\n",
       "Name: light_condition_text, dtype: int64"
      ]
     },
     "execution_count": 61,
     "metadata": {},
     "output_type": "execute_result"
    }
   ],
   "source": [
    "aids['light_condition_text'].value_counts()"
   ]
  },
  {
   "cell_type": "code",
   "execution_count": 62,
   "id": "47a4772a-f0b5-4997-97ec-e103d4f76e49",
   "metadata": {},
   "outputs": [],
   "source": [
    "# drop engine type and landing gear type because there are too many to impute\n",
    "aids = aids.drop(['type_of_engine', 'ldg_gear_type'], axis=1)"
   ]
  },
  {
   "cell_type": "code",
   "execution_count": 63,
   "id": "a0cbbbf2-a21b-42fc-a2c2-29c0b8179e94",
   "metadata": {
    "tags": []
   },
   "outputs": [
    {
     "name": "stdout",
     "output_type": "stream",
     "text": [
      "<class 'pandas.core.frame.DataFrame'>\n",
      "Int64Index: 37074 entries, 4 to 13497\n",
      "Data columns (total 48 columns):\n",
      " #   Column                          Non-Null Count  Dtype  \n",
      "---  ------                          --------------  -----  \n",
      " 0   control_number                  37074 non-null  object \n",
      " 1   event_type                      37074 non-null  object \n",
      " 2   far_part_num                    37074 non-null  object \n",
      " 3   accident_date                   37074 non-null  int64  \n",
      " 4   accident_time                   37074 non-null  int32  \n",
      " 5   weight_class_code               37074 non-null  object \n",
      " 6   num_engines                     37074 non-null  float64\n",
      " 7   aircraft_make                   37074 non-null  object \n",
      " 8   aircraft_model                  37074 non-null  object \n",
      " 9   aircraft_group                  37074 non-null  object \n",
      " 10  airframe_hrs                    37074 non-null  float64\n",
      " 11  engine_make                     37074 non-null  object \n",
      " 12  accident_region                 37047 non-null  object \n",
      " 13  accident_state                  37074 non-null  object \n",
      " 14  accident_city                   37074 non-null  object \n",
      " 15  airport_name                    37074 non-null  object \n",
      " 16  runway_number                   37074 non-null  int64  \n",
      " 17  latitude                        10115 non-null  object \n",
      " 18  longitude                       10108 non-null  object \n",
      " 19  sky_condition                   26916 non-null  object \n",
      " 20  cloud_ceiling                   9527 non-null   object \n",
      " 21  visibility                      26282 non-null  object \n",
      " 22  visibility_restriction          7607 non-null   object \n",
      " 23  runway_condition                17991 non-null  object \n",
      " 24  airport_id                      15857 non-null  object \n",
      " 25  wind_direction                  10454 non-null  object \n",
      " 26  wind_speed_mph                  9544 non-null   object \n",
      " 27  gust_indicator_flag             5750 non-null   object \n",
      " 28  gust_speed_mph                  169 non-null    object \n",
      " 29  total_fatalities                37074 non-null  int64  \n",
      " 30  injuries                        37074 non-null  int64  \n",
      " 31  flt_hrs_in_model                37074 non-null  float64\n",
      " 32  90_day_hrs                      37074 non-null  float64\n",
      " 33  total_pilot_hrs                 37074 non-null  float64\n",
      " 34  damage_code                     37074 non-null  object \n",
      " 35  pilot_certificate               37074 non-null  object \n",
      " 36  pilot_rating                    37074 non-null  object \n",
      " 37  primary_cause                   37074 non-null  object \n",
      " 38  contributing_factor             37074 non-null  object \n",
      " 39  accident_type                   37039 non-null  object \n",
      " 40  flight_phase                    37074 non-null  object \n",
      " 41  general_cause                   37074 non-null  object \n",
      " 42  primary_flight_type_txt         37074 non-null  object \n",
      " 43  second_flight_type              37074 non-null  object \n",
      " 44  primary_flight_condition_txt    37074 non-null  object \n",
      " 45  secondary_flying_condition_txt  37074 non-null  object \n",
      " 46  light_condition_text            36491 non-null  object \n",
      " 47  wing_info_txt                   37074 non-null  object \n",
      "dtypes: float64(5), int32(1), int64(4), object(38)\n",
      "memory usage: 13.7+ MB\n"
     ]
    }
   ],
   "source": [
    "aids.info()"
   ]
  },
  {
   "cell_type": "markdown",
   "id": "3f4eb40d-8350-4d8e-bc22-bbc4a17206e5",
   "metadata": {},
   "source": [
    "## 8. match airport names between AIDS and Airports data sets\n",
    "- necessary to derive additional information as well as weather\n"
   ]
  },
  {
   "cell_type": "markdown",
   "id": "f4cc54ff-b705-4a63-90de-edee78045e24",
   "metadata": {},
   "source": [
    "### 8A. Read in Airport data"
   ]
  },
  {
   "cell_type": "code",
   "execution_count": 64,
   "id": "199162c7-9b42-4519-ad5d-ea5b67daf0f9",
   "metadata": {},
   "outputs": [],
   "source": [
    "airports = pd.read_csv('us-airports.csv')"
   ]
  },
  {
   "cell_type": "code",
   "execution_count": 65,
   "id": "e8c7afe2-5900-4ed7-976f-6e9eb0e7cd7c",
   "metadata": {},
   "outputs": [
    {
     "name": "stdout",
     "output_type": "stream",
     "text": [
      "<class 'pandas.core.frame.DataFrame'>\n",
      "RangeIndex: 20347 entries, 0 to 20346\n",
      "Data columns (total 49 columns):\n",
      " #   Column      Non-Null Count  Dtype  \n",
      "---  ------      --------------  -----  \n",
      " 0   WKT         20347 non-null  object \n",
      " 1   LOCID       20347 non-null  object \n",
      " 2   SITE_NO     20347 non-null  object \n",
      " 3   FULLNAME    20347 non-null  object \n",
      " 4   FAA_ST      20326 non-null  object \n",
      " 5   LAN_FA_TY   20347 non-null  object \n",
      " 6   EFF_DATE    20347 non-null  object \n",
      " 7   FAA_REGION  20326 non-null  object \n",
      " 8   FAA_DISTRI  20347 non-null  object \n",
      " 9   STATE_NAME  20347 non-null  object \n",
      " 10  ST_POSTAL   20347 non-null  object \n",
      " 11  STFIPS      20347 non-null  int64  \n",
      " 12  COUNTY_NAM  20347 non-null  object \n",
      " 13  COUNTY_ST   20347 non-null  object \n",
      " 14  CITY_NAME   20347 non-null  object \n",
      " 15  OWNER_TYPE  20347 non-null  object \n",
      " 16  FAC_USE     20347 non-null  object \n",
      " 17  FAC_CYSTZP  20014 non-null  object \n",
      " 18  ELEV        20347 non-null  int64  \n",
      " 19  AERO_CHART  20220 non-null  object \n",
      " 20  CBD_DIST    20247 non-null  float64\n",
      " 21  CBD_DIR     20233 non-null  object \n",
      " 22  ACT_DATE    19204 non-null  object \n",
      " 23  CERT_TYPE   593 non-null    object \n",
      " 24  FED_AGREE   3573 non-null   object \n",
      " 25  INTERNATIO  4486 non-null   object \n",
      " 26  CUST_LNDG   4487 non-null   object \n",
      " 27  JOINT_USE   4789 non-null   object \n",
      " 28  MIL_LNDG_R  4869 non-null   object \n",
      " 29  MIL_INT     183 non-null    object \n",
      " 30  CNTL_TWR    20347 non-null  object \n",
      " 31  S_ENG_GA    11397 non-null  float64\n",
      " 32  M_ENG_GA    3598 non-null   float64\n",
      " 33  JET_EN_GA   1187 non-null   float64\n",
      " 34  HELICOPTER  3188 non-null   float64\n",
      " 35  OPER_GLIDE  601 non-null    float64\n",
      " 36  OPER_MIL    271 non-null    float64\n",
      " 37  ULTRALIGHT  2124 non-null   float64\n",
      " 38  COMM_SERV   564 non-null    float64\n",
      " 39  AIR_TAXI    2504 non-null   float64\n",
      " 40  LOCAL_OPS   5132 non-null   float64\n",
      " 41  ITIN_OPS    5606 non-null   float64\n",
      " 42  MIL_OPS     2451 non-null   float64\n",
      " 43  LATITUDE    20347 non-null  float64\n",
      " 44  LONGITUDE   20347 non-null  float64\n",
      " 45  VERSION     20347 non-null  int64  \n",
      " 46  CY_06_ENP   20347 non-null  int64  \n",
      " 47  GEOMETRY_X  20347 non-null  float64\n",
      " 48  GEOMETRY_Y  20347 non-null  float64\n",
      "dtypes: float64(17), int64(4), object(28)\n",
      "memory usage: 7.6+ MB\n"
     ]
    }
   ],
   "source": [
    "airports.info()"
   ]
  },
  {
   "cell_type": "code",
   "execution_count": 66,
   "id": "dbb2ee83-c003-4a71-b16e-4024071a1549",
   "metadata": {},
   "outputs": [
    {
     "data": {
      "text/html": [
       "<div>\n",
       "<style scoped>\n",
       "    .dataframe tbody tr th:only-of-type {\n",
       "        vertical-align: middle;\n",
       "    }\n",
       "\n",
       "    .dataframe tbody tr th {\n",
       "        vertical-align: top;\n",
       "    }\n",
       "\n",
       "    .dataframe thead th {\n",
       "        text-align: right;\n",
       "    }\n",
       "</style>\n",
       "<table border=\"1\" class=\"dataframe\">\n",
       "  <thead>\n",
       "    <tr style=\"text-align: right;\">\n",
       "      <th></th>\n",
       "      <th>index</th>\n",
       "      <th>FULLNAME</th>\n",
       "    </tr>\n",
       "  </thead>\n",
       "  <tbody>\n",
       "    <tr>\n",
       "      <th>0</th>\n",
       "      <td>MEMORIAL HOSPITAL</td>\n",
       "      <td>20</td>\n",
       "    </tr>\n",
       "    <tr>\n",
       "      <th>1</th>\n",
       "      <td>SMITH</td>\n",
       "      <td>14</td>\n",
       "    </tr>\n",
       "    <tr>\n",
       "      <th>2</th>\n",
       "      <td>JOHNSON</td>\n",
       "      <td>14</td>\n",
       "    </tr>\n",
       "    <tr>\n",
       "      <th>3</th>\n",
       "      <td>HILLTOP</td>\n",
       "      <td>12</td>\n",
       "    </tr>\n",
       "    <tr>\n",
       "      <th>4</th>\n",
       "      <td>SMITH FIELD</td>\n",
       "      <td>11</td>\n",
       "    </tr>\n",
       "    <tr>\n",
       "      <th>...</th>\n",
       "      <td>...</td>\n",
       "      <td>...</td>\n",
       "    </tr>\n",
       "    <tr>\n",
       "      <th>998</th>\n",
       "      <td>KRAMER</td>\n",
       "      <td>2</td>\n",
       "    </tr>\n",
       "    <tr>\n",
       "      <th>999</th>\n",
       "      <td>KELLER</td>\n",
       "      <td>2</td>\n",
       "    </tr>\n",
       "    <tr>\n",
       "      <th>1000</th>\n",
       "      <td>CASTLE</td>\n",
       "      <td>2</td>\n",
       "    </tr>\n",
       "    <tr>\n",
       "      <th>1001</th>\n",
       "      <td>LINCOLN MUNI</td>\n",
       "      <td>2</td>\n",
       "    </tr>\n",
       "    <tr>\n",
       "      <th>1002</th>\n",
       "      <td>TAYLOR COUNTY</td>\n",
       "      <td>2</td>\n",
       "    </tr>\n",
       "  </tbody>\n",
       "</table>\n",
       "<p>1003 rows × 2 columns</p>\n",
       "</div>"
      ],
      "text/plain": [
       "                  index  FULLNAME\n",
       "0     MEMORIAL HOSPITAL        20\n",
       "1                 SMITH        14\n",
       "2               JOHNSON        14\n",
       "3               HILLTOP        12\n",
       "4           SMITH FIELD        11\n",
       "...                 ...       ...\n",
       "998              KRAMER         2\n",
       "999              KELLER         2\n",
       "1000             CASTLE         2\n",
       "1001       LINCOLN MUNI         2\n",
       "1002      TAYLOR COUNTY         2\n",
       "\n",
       "[1003 rows x 2 columns]"
      ]
     },
     "execution_count": 66,
     "metadata": {},
     "output_type": "execute_result"
    }
   ],
   "source": [
    "# check to see if the airport names are unique\n",
    "names = airports['FULLNAME'].value_counts()\n",
    "names = names.reset_index()\n",
    "names[names['FULLNAME'] > 1]\n",
    "# names are not unique so will have to take some steps to make them as unique as possible"
   ]
  },
  {
   "cell_type": "code",
   "execution_count": 67,
   "id": "56c7823e-6391-4fb6-a653-722c66d6633d",
   "metadata": {},
   "outputs": [],
   "source": [
    "# have to change the abbreviated state id in the aids df to full name\n",
    "us_state_to_abbrev = {\n",
    "    \"Alabama\": \"AL\",\n",
    "    \"Alaska\": \"AK\",\n",
    "    \"Arizona\": \"AZ\",\n",
    "    \"Arkansas\": \"AR\",\n",
    "    \"California\": \"CA\",\n",
    "    \"Colorado\": \"CO\",\n",
    "    \"Connecticut\": \"CT\",\n",
    "    \"Delaware\": \"DE\",\n",
    "    \"Florida\": \"FL\",\n",
    "    \"Georgia\": \"GA\",\n",
    "    \"Hawaii\": \"HI\",\n",
    "    \"Idaho\": \"ID\",\n",
    "    \"Illinois\": \"IL\",\n",
    "    \"Indiana\": \"IN\",\n",
    "    \"Iowa\": \"IA\",\n",
    "    \"Kansas\": \"KS\",\n",
    "    \"Kentucky\": \"KY\",\n",
    "    \"Louisiana\": \"LA\",\n",
    "    \"Maine\": \"ME\",\n",
    "    \"Maryland\": \"MD\",\n",
    "    \"Massachusetts\": \"MA\",\n",
    "    \"Michigan\": \"MI\",\n",
    "    \"Minnesota\": \"MN\",\n",
    "    \"Mississippi\": \"MS\",\n",
    "    \"Missouri\": \"MO\",\n",
    "    \"Montana\": \"MT\",\n",
    "    \"Nebraska\": \"NE\",\n",
    "    \"Nevada\": \"NV\",\n",
    "    \"New Hampshire\": \"NH\",\n",
    "    \"New Jersey\": \"NJ\",\n",
    "    \"New Mexico\": \"NM\",\n",
    "    \"New York\": \"NY\",\n",
    "    \"North Carolina\": \"NC\",\n",
    "    \"North Dakota\": \"ND\",\n",
    "    \"Ohio\": \"OH\",\n",
    "    \"Oklahoma\": \"OK\",\n",
    "    \"Oregon\": \"OR\",\n",
    "    \"Pennsylvania\": \"PA\",\n",
    "    \"Rhode Island\": \"RI\",\n",
    "    \"South Carolina\": \"SC\",\n",
    "    \"South Dakota\": \"SD\",\n",
    "    \"Tennessee\": \"TN\",\n",
    "    \"Texas\": \"TX\",\n",
    "    \"Utah\": \"UT\",\n",
    "    \"Vermont\": \"VT\",\n",
    "    \"Virginia\": \"VA\",\n",
    "    \"Washington\": \"WA\",\n",
    "    \"West Virginia\": \"WV\",\n",
    "    \"Wisconsin\": \"WI\",\n",
    "    \"Wyoming\": \"WY\",\n",
    "    \"District of Columbia\": \"DC\",\n",
    "    \"American Samoa\": \"AS\",\n",
    "    \"Guam\": \"GU\",\n",
    "    \"Northern Mariana Islands\": \"MP\",\n",
    "    \"Puerto Rico\": \"PR\",\n",
    "    \"United States Minor Outlying Islands\": \"UM\",\n",
    "    \"U.S. Virgin Islands\": \"VI\",\n",
    "}\n",
    "abbrev_to_us_state = dict(map(reversed, us_state_to_abbrev.items()))"
   ]
  },
  {
   "cell_type": "code",
   "execution_count": 68,
   "id": "77ae2f74-e10d-402c-8951-1f6a002e6136",
   "metadata": {},
   "outputs": [
    {
     "name": "stdout",
     "output_type": "stream",
     "text": [
      "37074\n"
     ]
    }
   ],
   "source": [
    "# imputing the full name into the aids df for states\n",
    "states = []\n",
    "for x in aids['accident_state']:\n",
    "    if x in abbrev_to_us_state:\n",
    "        states.append(abbrev_to_us_state[x])\n",
    "    else:\n",
    "        states.append('none')\n",
    "print(len(states))\n",
    "aids['accident_state'] = states"
   ]
  },
  {
   "cell_type": "code",
   "execution_count": 69,
   "id": "69b25595-d426-4c54-9c6e-9180a6150d30",
   "metadata": {},
   "outputs": [],
   "source": [
    "# trying to create unique \n",
    "aids['apt_mash'] = aids['airport_name'] + ' ' + aids['accident_state'] + ' ' + aids['accident_city']\n",
    "airports['apt_mash'] = airports['FULLNAME'] + ' ' + airports['STATE_NAME'] + ' ' + airports['CITY_NAME']"
   ]
  },
  {
   "cell_type": "code",
   "execution_count": 70,
   "id": "dc4f9396-4a6f-4f3e-a8ac-dc3b83a8f5a9",
   "metadata": {
    "tags": []
   },
   "outputs": [],
   "source": [
    "# text cleaning for the fuzzy matching. \n",
    "airports['apt_mash'] = airports['apt_mash'].str.lower()\n",
    "\n",
    "# aids data needs many abbreviations removed to make them as close as possible to airports df\n",
    "aids['apt_mash'] = aids['apt_mash'].str.replace(\n",
    "    r'(\\sARPK)$', '', regex=True, case=False).str.replace(\n",
    "    r'(\\sARPT)$', '', regex=True, case=False).str.replace(\n",
    "    r'(\\sMUNI)$', '', regex=True, case=False).str.replace(\n",
    "    r'(\\sINTL)', '', regex=True, case=False).str.replace(\n",
    "    r'(\\sRGNL)', '', regex=True, case=False).str.replace(\n",
    "    r'(\\sAIRPARK)', '', regex=True, case=False).str.replace(\n",
    "    r'(\\sREGIONAL)', '', regex=True, case=False).str.replace(\n",
    "    r'(\\sAIRPORT)', '', regex=True, case=False).str.replace(\n",
    "    r'(\\sCOUNTY)', '', regex=True, case=False).str.replace(\n",
    "    r'(\\sINTERNATIONAL)', '', regex=True, case=False).str.lower()"
   ]
  },
  {
   "cell_type": "code",
   "execution_count": 71,
   "id": "513ed4d4-6c4a-4e4f-bc07-b94e873d2fd2",
   "metadata": {},
   "outputs": [],
   "source": [
    "# setting up the fuzzy matching model, only keep 90% matchs\n",
    "tfidf = TFIDF(n_gram_range=(3, 3), min_similarity=0.8,model_id=\"TF-IDF\")\n",
    "model = PolyFuzz(tfidf).match(list(aids['apt_mash']), list(airports['apt_mash']))"
   ]
  },
  {
   "cell_type": "code",
   "execution_count": 72,
   "id": "d6b62cb5-25da-4648-901b-8c569768dc76",
   "metadata": {},
   "outputs": [],
   "source": [
    "# creating the table of results\n",
    "matches = model.get_matches()\n",
    "matches = matches[['From', 'To']]"
   ]
  },
  {
   "cell_type": "code",
   "execution_count": 73,
   "id": "1631d2de-29c2-4b38-8292-ede14484b79e",
   "metadata": {},
   "outputs": [
    {
     "name": "stdout",
     "output_type": "stream",
     "text": [
      "<class 'pandas.core.frame.DataFrame'>\n",
      "RangeIndex: 37074 entries, 0 to 37073\n",
      "Data columns (total 2 columns):\n",
      " #   Column  Non-Null Count  Dtype \n",
      "---  ------  --------------  ----- \n",
      " 0   From    37074 non-null  object\n",
      " 1   To      24546 non-null  object\n",
      "dtypes: object(2)\n",
      "memory usage: 579.4+ KB\n"
     ]
    }
   ],
   "source": [
    "matches.info()"
   ]
  },
  {
   "cell_type": "code",
   "execution_count": 74,
   "id": "0b386736-4912-4c76-a202-39ac1c80cf0f",
   "metadata": {},
   "outputs": [],
   "source": [
    "# need to put matches in a dictionary and one for one impute the matches into the aids dataframe\n",
    "match_dict = dict(zip(matches['From'], matches['To']))"
   ]
  },
  {
   "cell_type": "code",
   "execution_count": 75,
   "id": "0c18fb01-fe5c-4897-90b3-8d50df82dbb1",
   "metadata": {},
   "outputs": [],
   "source": [
    "def match_col(x):\n",
    "    match_column = []\n",
    "    if x in match_dict:\n",
    "        match_column.append(str(match_dict[x]))\n",
    "    return match_column"
   ]
  },
  {
   "cell_type": "code",
   "execution_count": 76,
   "id": "712b1a11-7b7e-47ef-9471-6e1222ede283",
   "metadata": {},
   "outputs": [],
   "source": [
    "aids['matches'] = aids['apt_mash'].apply(match_col)"
   ]
  },
  {
   "cell_type": "code",
   "execution_count": 77,
   "id": "9d74a0f1-3730-41c6-9d61-dc2bb99e7f7d",
   "metadata": {},
   "outputs": [
    {
     "data": {
      "text/plain": [
       "37074"
      ]
     },
     "execution_count": 77,
     "metadata": {},
     "output_type": "execute_result"
    }
   ],
   "source": [
    "# check the results\n",
    "len(aids['matches'])"
   ]
  },
  {
   "cell_type": "code",
   "execution_count": 78,
   "id": "54608447-e2a4-4721-9640-b6e0d9533636",
   "metadata": {},
   "outputs": [
    {
     "data": {
      "text/html": [
       "<div>\n",
       "<style scoped>\n",
       "    .dataframe tbody tr th:only-of-type {\n",
       "        vertical-align: middle;\n",
       "    }\n",
       "\n",
       "    .dataframe tbody tr th {\n",
       "        vertical-align: top;\n",
       "    }\n",
       "\n",
       "    .dataframe thead th {\n",
       "        text-align: right;\n",
       "    }\n",
       "</style>\n",
       "<table border=\"1\" class=\"dataframe\">\n",
       "  <thead>\n",
       "    <tr style=\"text-align: right;\">\n",
       "      <th></th>\n",
       "      <th>airport_name</th>\n",
       "      <th>apt_mash</th>\n",
       "      <th>matches</th>\n",
       "    </tr>\n",
       "  </thead>\n",
       "  <tbody>\n",
       "    <tr>\n",
       "      <th>2465</th>\n",
       "      <td>PRIVATE</td>\n",
       "      <td>private texas luling</td>\n",
       "      <td>[None]</td>\n",
       "    </tr>\n",
       "    <tr>\n",
       "      <th>25302</th>\n",
       "      <td>DUTCHES CO</td>\n",
       "      <td>dutches co new york lagrange</td>\n",
       "      <td>[None]</td>\n",
       "    </tr>\n",
       "    <tr>\n",
       "      <th>7212</th>\n",
       "      <td>SANTA BARBARA MUNI</td>\n",
       "      <td>santa barbara muni california santa barbara</td>\n",
       "      <td>[santa barbara muni california santa barbara]</td>\n",
       "    </tr>\n",
       "    <tr>\n",
       "      <th>27789</th>\n",
       "      <td>MUNI</td>\n",
       "      <td>muni arkansas ft smith</td>\n",
       "      <td>[fort smith rgnl arkansas fort smith]</td>\n",
       "    </tr>\n",
       "    <tr>\n",
       "      <th>12534</th>\n",
       "      <td>DECATUR</td>\n",
       "      <td>decatur illinois decatur</td>\n",
       "      <td>[decatur illinois decatur]</td>\n",
       "    </tr>\n",
       "    <tr>\n",
       "      <th>13106</th>\n",
       "      <td>DANBURY MUNI</td>\n",
       "      <td>danbury muni connecticut danbury</td>\n",
       "      <td>[danbury muni connecticut danbury]</td>\n",
       "    </tr>\n",
       "    <tr>\n",
       "      <th>18720</th>\n",
       "      <td>SUSANVILLE MUNI ARPT</td>\n",
       "      <td>susanville muni arpt california susanville</td>\n",
       "      <td>[susanville muni california susanville]</td>\n",
       "    </tr>\n",
       "    <tr>\n",
       "      <th>21391</th>\n",
       "      <td>PRIVATE</td>\n",
       "      <td>private georgia oakpark</td>\n",
       "      <td>[None]</td>\n",
       "    </tr>\n",
       "    <tr>\n",
       "      <th>21269</th>\n",
       "      <td>CLOVER</td>\n",
       "      <td>clover texas friendswood</td>\n",
       "      <td>[None]</td>\n",
       "    </tr>\n",
       "    <tr>\n",
       "      <th>1788</th>\n",
       "      <td>PASO ROBLES MUNI</td>\n",
       "      <td>paso robles muni california paso robles</td>\n",
       "      <td>[paso robles muni california paso robles]</td>\n",
       "    </tr>\n",
       "    <tr>\n",
       "      <th>4741</th>\n",
       "      <td>none</td>\n",
       "      <td>none florida ft lauderdale</td>\n",
       "      <td>[city of fort lauderdale florida fort lauderdale]</td>\n",
       "    </tr>\n",
       "    <tr>\n",
       "      <th>4352</th>\n",
       "      <td>none</td>\n",
       "      <td>none california elk grove</td>\n",
       "      <td>[elk grove california elk grove]</td>\n",
       "    </tr>\n",
       "    <tr>\n",
       "      <th>4524</th>\n",
       "      <td>CAPITOL ARPT</td>\n",
       "      <td>capitol arpt wisconsin brookfield</td>\n",
       "      <td>[capitol wisconsin brookfield]</td>\n",
       "    </tr>\n",
       "    <tr>\n",
       "      <th>7198</th>\n",
       "      <td>W K KELLOGG</td>\n",
       "      <td>w k kellogg michigan battle creek</td>\n",
       "      <td>[w k kellogg michigan battle creek]</td>\n",
       "    </tr>\n",
       "    <tr>\n",
       "      <th>2670</th>\n",
       "      <td>MID AMERICAN INDUSTRIAL ARPT</td>\n",
       "      <td>mid american industrial arpt oklahoma pryor</td>\n",
       "      <td>[mid-america industrial oklahoma pryor]</td>\n",
       "    </tr>\n",
       "  </tbody>\n",
       "</table>\n",
       "</div>"
      ],
      "text/plain": [
       "                       airport_name  \\\n",
       "2465                        PRIVATE   \n",
       "25302                    DUTCHES CO   \n",
       "7212             SANTA BARBARA MUNI   \n",
       "27789                          MUNI   \n",
       "12534                       DECATUR   \n",
       "13106                  DANBURY MUNI   \n",
       "18720          SUSANVILLE MUNI ARPT   \n",
       "21391                       PRIVATE   \n",
       "21269                        CLOVER   \n",
       "1788               PASO ROBLES MUNI   \n",
       "4741                           none   \n",
       "4352                           none   \n",
       "4524                   CAPITOL ARPT   \n",
       "7198                    W K KELLOGG   \n",
       "2670   MID AMERICAN INDUSTRIAL ARPT   \n",
       "\n",
       "                                          apt_mash  \\\n",
       "2465                          private texas luling   \n",
       "25302                 dutches co new york lagrange   \n",
       "7212   santa barbara muni california santa barbara   \n",
       "27789                       muni arkansas ft smith   \n",
       "12534                     decatur illinois decatur   \n",
       "13106             danbury muni connecticut danbury   \n",
       "18720   susanville muni arpt california susanville   \n",
       "21391                      private georgia oakpark   \n",
       "21269                     clover texas friendswood   \n",
       "1788       paso robles muni california paso robles   \n",
       "4741                    none florida ft lauderdale   \n",
       "4352                     none california elk grove   \n",
       "4524             capitol arpt wisconsin brookfield   \n",
       "7198             w k kellogg michigan battle creek   \n",
       "2670   mid american industrial arpt oklahoma pryor   \n",
       "\n",
       "                                                 matches  \n",
       "2465                                              [None]  \n",
       "25302                                             [None]  \n",
       "7212       [santa barbara muni california santa barbara]  \n",
       "27789              [fort smith rgnl arkansas fort smith]  \n",
       "12534                         [decatur illinois decatur]  \n",
       "13106                 [danbury muni connecticut danbury]  \n",
       "18720            [susanville muni california susanville]  \n",
       "21391                                             [None]  \n",
       "21269                                             [None]  \n",
       "1788           [paso robles muni california paso robles]  \n",
       "4741   [city of fort lauderdale florida fort lauderdale]  \n",
       "4352                    [elk grove california elk grove]  \n",
       "4524                      [capitol wisconsin brookfield]  \n",
       "7198                 [w k kellogg michigan battle creek]  \n",
       "2670             [mid-america industrial oklahoma pryor]  "
      ]
     },
     "execution_count": 78,
     "metadata": {},
     "output_type": "execute_result"
    }
   ],
   "source": [
    "aids[['airport_name', 'apt_mash', 'matches']].sample(15)"
   ]
  },
  {
   "cell_type": "code",
   "execution_count": 79,
   "id": "6e22ec19-2893-49c9-9ba3-2aafaf79679a",
   "metadata": {},
   "outputs": [
    {
     "data": {
      "text/plain": [
       "array(['None', 'st joseph hospital - elgin illinois elgin',\n",
       "       'beatty nevada beatty', ...,\n",
       "       'frazier lake airpark california hollister',\n",
       "       'inshallah intl oregon seneca',\n",
       "       'northwest alabama rgnl alabama muscle shoals'], dtype=object)"
      ]
     },
     "execution_count": 79,
     "metadata": {},
     "output_type": "execute_result"
    }
   ],
   "source": [
    "# clean up the strings in this col\n",
    "aids['matches'] = aids['matches'].astype(str).str.replace(r'[\\[\\]\\']', '', regex=True)\n",
    "aids['matches'].unique()"
   ]
  },
  {
   "cell_type": "code",
   "execution_count": 80,
   "id": "e30da243-772d-400b-9738-e1ef94dbb4bd",
   "metadata": {
    "tags": []
   },
   "outputs": [
    {
     "name": "stdout",
     "output_type": "stream",
     "text": [
      "AIDS data record count: 37074\n",
      "Total records where accident associated with airport: 24756\n",
      "Total positive matches: 24546\n",
      "Delta: airports that did not get matched  210\n"
     ]
    }
   ],
   "source": [
    "# check to see how many matches there are compared to the original data frame\n",
    "print('AIDS data record count:', len(aids))\n",
    "count1 = 0 \n",
    "for x in aids['airport_name']:\n",
    "    if x != 'none':\n",
    "        count1 += 1\n",
    "print('Total records where accident associated with airport:', count1)\n",
    "count3 = 0\n",
    "for x in aids['matches']:\n",
    "    if x != 'None':\n",
    "        count3 += 1\n",
    "print(f'Total positive matches: {count3}')\n",
    "print('Delta: airports that did not get matched ', (count1 - count3))"
   ]
  },
  {
   "cell_type": "code",
   "execution_count": 81,
   "id": "7130efe9-2d55-4526-8af2-9f1ec5a65a5b",
   "metadata": {},
   "outputs": [],
   "source": [
    "# create a column 'accident_at_apt' where we flag if accident occured at airport or not\n",
    "apt_accident = []\n",
    "for x in aids['airport_name']:\n",
    "    if x != 'none':\n",
    "        apt_accident.append(1)\n",
    "    else: \n",
    "        apt_accident.append(0)\n",
    "aids['accident_at_apt'] = apt_accident"
   ]
  },
  {
   "cell_type": "markdown",
   "id": "ce96a5ee-b741-4367-bcf2-6cbb0d0d585d",
   "metadata": {
    "tags": []
   },
   "source": [
    "### goal is to conduct a join airports data to aids data on ICAO\n",
    "1. Prep aids:\n",
    "    - dataframe where all icao is null\n",
    "    - filter for airport name is true\n",
    "2. create a dictionary with airports data\n",
    "    - key in dict will be icao\n",
    "    - values will be fuzzy match airport name, city\n",
    "3. fill the null icao in aids \n",
    "    - create function to fill icao if the airport name is in the dict"
   ]
  },
  {
   "cell_type": "code",
   "execution_count": 82,
   "id": "d1638d56-016d-4e36-8b35-99c2fa6eba86",
   "metadata": {},
   "outputs": [
    {
     "data": {
      "text/plain": [
       "(21217, 51)"
      ]
     },
     "execution_count": 82,
     "metadata": {},
     "output_type": "execute_result"
    }
   ],
   "source": [
    "# 1. prep a data frame with airport_names but missing ICAO codes\n",
    "aids_null_icao = aids[aids['airport_id'].isna()]\n",
    "aids_null_icao.shape"
   ]
  },
  {
   "cell_type": "code",
   "execution_count": 83,
   "id": "5268048b-5a15-4348-86f0-945be760b841",
   "metadata": {
    "tags": []
   },
   "outputs": [],
   "source": [
    "# 2. create dictionary with airports data\n",
    "# key: icao\n",
    "# values: airport name/city i.e. 'apt_mash'\n",
    "vals = dict(zip(airports['apt_mash'], airports['LOCID']))"
   ]
  },
  {
   "cell_type": "code",
   "execution_count": 84,
   "id": "140a3ec5-c7a2-48ce-8b7b-d090e8c46c5b",
   "metadata": {},
   "outputs": [],
   "source": [
    "# 3. create list of ICAOs to backfill the aids data\n",
    "icao_fills = []\n",
    "for x in aids_null_icao['matches']:\n",
    "    if x in vals:\n",
    "        icao_fills.append(vals[x])\n",
    "    else:\n",
    "        icao_fills.append(np.nan)"
   ]
  },
  {
   "cell_type": "code",
   "execution_count": 85,
   "id": "3fa9cece-09ee-42d0-95fc-12424b2ccaa1",
   "metadata": {},
   "outputs": [
    {
     "name": "stderr",
     "output_type": "stream",
     "text": [
      "C:\\Users\\htwal\\AppData\\Local\\Temp\\ipykernel_20668\\3520718752.py:1: SettingWithCopyWarning: \n",
      "A value is trying to be set on a copy of a slice from a DataFrame.\n",
      "Try using .loc[row_indexer,col_indexer] = value instead\n",
      "\n",
      "See the caveats in the documentation: https://pandas.pydata.org/pandas-docs/stable/user_guide/indexing.html#returning-a-view-versus-a-copy\n",
      "  aids_null_icao.loc[:, 'airport_id'] = icao_fills\n"
     ]
    }
   ],
   "source": [
    "aids_null_icao.loc[:, 'airport_id'] = icao_fills"
   ]
  },
  {
   "cell_type": "code",
   "execution_count": 86,
   "id": "9fbd319e-46d0-4418-9d50-14ef5d91551e",
   "metadata": {},
   "outputs": [],
   "source": [
    "# drop the na records from aids where airport id is null \n",
    "aids = aids.dropna(subset='airport_id')\n",
    "\n",
    "# concat the two data frames\n",
    "aids = pd.concat([aids, aids_null_icao])"
   ]
  },
  {
   "cell_type": "code",
   "execution_count": 87,
   "id": "fdc6a513-6da4-4ba8-9895-bfc8d1110e57",
   "metadata": {},
   "outputs": [
    {
     "data": {
      "text/plain": [
       "(37074, 51)"
      ]
     },
     "execution_count": 87,
     "metadata": {},
     "output_type": "execute_result"
    }
   ],
   "source": [
    "aids.shape"
   ]
  },
  {
   "cell_type": "code",
   "execution_count": 88,
   "id": "4027418a-3627-46c9-86c5-313649ca4311",
   "metadata": {},
   "outputs": [
    {
     "name": "stdout",
     "output_type": "stream",
     "text": [
      "<class 'pandas.core.frame.DataFrame'>\n",
      "Int64Index: 37074 entries, 2109 to 13315\n",
      "Data columns (total 51 columns):\n",
      " #   Column                          Non-Null Count  Dtype  \n",
      "---  ------                          --------------  -----  \n",
      " 0   control_number                  37074 non-null  object \n",
      " 1   event_type                      37074 non-null  object \n",
      " 2   far_part_num                    37074 non-null  object \n",
      " 3   accident_date                   37074 non-null  int64  \n",
      " 4   accident_time                   37074 non-null  int32  \n",
      " 5   weight_class_code               37074 non-null  object \n",
      " 6   num_engines                     37074 non-null  float64\n",
      " 7   aircraft_make                   37074 non-null  object \n",
      " 8   aircraft_model                  37074 non-null  object \n",
      " 9   aircraft_group                  37074 non-null  object \n",
      " 10  airframe_hrs                    37074 non-null  float64\n",
      " 11  engine_make                     37074 non-null  object \n",
      " 12  accident_region                 37047 non-null  object \n",
      " 13  accident_state                  37074 non-null  object \n",
      " 14  accident_city                   37074 non-null  object \n",
      " 15  airport_name                    37074 non-null  object \n",
      " 16  runway_number                   37074 non-null  int64  \n",
      " 17  latitude                        10115 non-null  object \n",
      " 18  longitude                       10108 non-null  object \n",
      " 19  sky_condition                   26916 non-null  object \n",
      " 20  cloud_ceiling                   9527 non-null   object \n",
      " 21  visibility                      26282 non-null  object \n",
      " 22  visibility_restriction          7607 non-null   object \n",
      " 23  runway_condition                17991 non-null  object \n",
      " 24  airport_id                      26895 non-null  object \n",
      " 25  wind_direction                  10454 non-null  object \n",
      " 26  wind_speed_mph                  9544 non-null   object \n",
      " 27  gust_indicator_flag             5750 non-null   object \n",
      " 28  gust_speed_mph                  169 non-null    object \n",
      " 29  total_fatalities                37074 non-null  int64  \n",
      " 30  injuries                        37074 non-null  int64  \n",
      " 31  flt_hrs_in_model                37074 non-null  float64\n",
      " 32  90_day_hrs                      37074 non-null  float64\n",
      " 33  total_pilot_hrs                 37074 non-null  float64\n",
      " 34  damage_code                     37074 non-null  object \n",
      " 35  pilot_certificate               37074 non-null  object \n",
      " 36  pilot_rating                    37074 non-null  object \n",
      " 37  primary_cause                   37074 non-null  object \n",
      " 38  contributing_factor             37074 non-null  object \n",
      " 39  accident_type                   37039 non-null  object \n",
      " 40  flight_phase                    37074 non-null  object \n",
      " 41  general_cause                   37074 non-null  object \n",
      " 42  primary_flight_type_txt         37074 non-null  object \n",
      " 43  second_flight_type              37074 non-null  object \n",
      " 44  primary_flight_condition_txt    37074 non-null  object \n",
      " 45  secondary_flying_condition_txt  37074 non-null  object \n",
      " 46  light_condition_text            36491 non-null  object \n",
      " 47  wing_info_txt                   37074 non-null  object \n",
      " 48  apt_mash                        37074 non-null  object \n",
      " 49  matches                         37074 non-null  object \n",
      " 50  accident_at_apt                 37074 non-null  int64  \n",
      "dtypes: float64(5), int32(1), int64(5), object(40)\n",
      "memory usage: 14.6+ MB\n"
     ]
    }
   ],
   "source": [
    "aids.info()"
   ]
  },
  {
   "cell_type": "markdown",
   "id": "07e91dfa-f748-4101-9bdf-08989f7873d0",
   "metadata": {},
   "source": [
    "**Note:**\n",
    "- The model does a good job of matching airport names\n",
    "- next, add the 'TO' column to the aids dataframe then do a inner join with airports ON the TO col"
   ]
  },
  {
   "cell_type": "code",
   "execution_count": 89,
   "id": "41fdb79f-c1e5-4410-b55d-ca010a43b7a4",
   "metadata": {
    "tags": []
   },
   "outputs": [],
   "source": [
    "# choose columns to join from airports data set\n",
    "apts_join = airports[['LOCID', 'FULLNAME', 'COUNTY_NAM', 'OWNER_TYPE', 'ELEV', 'CNTL_TWR', 'LATITUDE', 'LONGITUDE']]\n",
    "\n",
    "# rename some cols to differ from AIDS cols\n",
    "apts_join = apts_join.rename(columns={'LATITUDE':'LATITUDE_APT', 'LONGITUDE':'LONGITUDE_APT', 'OWNER_TYPE':'APT_OWNER_TYPE',\n",
    "                                      'FULLNAME':'matches', 'LOCID':'ICAO', 'COUNTY_NAM':'COUNTY_NAME_APT'})"
   ]
  },
  {
   "cell_type": "code",
   "execution_count": 90,
   "id": "a406fb3a-9197-4bd3-a96c-dc3903a89061",
   "metadata": {},
   "outputs": [],
   "source": [
    "# now we can join the airports dataset on the aids data set using the 'matches' column as the key\n",
    "\n",
    "aids_apt = pd.merge(aids, apts_join, left_on='airport_id', right_on='ICAO', how='left')"
   ]
  },
  {
   "cell_type": "code",
   "execution_count": 91,
   "id": "d932deae-4f7b-45fd-889f-58c0fa243d58",
   "metadata": {},
   "outputs": [
    {
     "name": "stdout",
     "output_type": "stream",
     "text": [
      "<class 'pandas.core.frame.DataFrame'>\n",
      "Int64Index: 37074 entries, 0 to 37073\n",
      "Data columns (total 59 columns):\n",
      " #   Column                          Non-Null Count  Dtype  \n",
      "---  ------                          --------------  -----  \n",
      " 0   control_number                  37074 non-null  object \n",
      " 1   event_type                      37074 non-null  object \n",
      " 2   far_part_num                    37074 non-null  object \n",
      " 3   accident_date                   37074 non-null  int64  \n",
      " 4   accident_time                   37074 non-null  int32  \n",
      " 5   weight_class_code               37074 non-null  object \n",
      " 6   num_engines                     37074 non-null  float64\n",
      " 7   aircraft_make                   37074 non-null  object \n",
      " 8   aircraft_model                  37074 non-null  object \n",
      " 9   aircraft_group                  37074 non-null  object \n",
      " 10  airframe_hrs                    37074 non-null  float64\n",
      " 11  engine_make                     37074 non-null  object \n",
      " 12  accident_region                 37047 non-null  object \n",
      " 13  accident_state                  37074 non-null  object \n",
      " 14  accident_city                   37074 non-null  object \n",
      " 15  airport_name                    37074 non-null  object \n",
      " 16  runway_number                   37074 non-null  int64  \n",
      " 17  latitude                        10115 non-null  object \n",
      " 18  longitude                       10108 non-null  object \n",
      " 19  sky_condition                   26916 non-null  object \n",
      " 20  cloud_ceiling                   9527 non-null   object \n",
      " 21  visibility                      26282 non-null  object \n",
      " 22  visibility_restriction          7607 non-null   object \n",
      " 23  runway_condition                17991 non-null  object \n",
      " 24  airport_id                      26895 non-null  object \n",
      " 25  wind_direction                  10454 non-null  object \n",
      " 26  wind_speed_mph                  9544 non-null   object \n",
      " 27  gust_indicator_flag             5750 non-null   object \n",
      " 28  gust_speed_mph                  169 non-null    object \n",
      " 29  total_fatalities                37074 non-null  int64  \n",
      " 30  injuries                        37074 non-null  int64  \n",
      " 31  flt_hrs_in_model                37074 non-null  float64\n",
      " 32  90_day_hrs                      37074 non-null  float64\n",
      " 33  total_pilot_hrs                 37074 non-null  float64\n",
      " 34  damage_code                     37074 non-null  object \n",
      " 35  pilot_certificate               37074 non-null  object \n",
      " 36  pilot_rating                    37074 non-null  object \n",
      " 37  primary_cause                   37074 non-null  object \n",
      " 38  contributing_factor             37074 non-null  object \n",
      " 39  accident_type                   37039 non-null  object \n",
      " 40  flight_phase                    37074 non-null  object \n",
      " 41  general_cause                   37074 non-null  object \n",
      " 42  primary_flight_type_txt         37074 non-null  object \n",
      " 43  second_flight_type              37074 non-null  object \n",
      " 44  primary_flight_condition_txt    37074 non-null  object \n",
      " 45  secondary_flying_condition_txt  37074 non-null  object \n",
      " 46  light_condition_text            36491 non-null  object \n",
      " 47  wing_info_txt                   37074 non-null  object \n",
      " 48  apt_mash                        37074 non-null  object \n",
      " 49  matches_x                       37074 non-null  object \n",
      " 50  accident_at_apt                 37074 non-null  int64  \n",
      " 51  ICAO                            25096 non-null  object \n",
      " 52  matches_y                       25096 non-null  object \n",
      " 53  COUNTY_NAME_APT                 25096 non-null  object \n",
      " 54  APT_OWNER_TYPE                  25096 non-null  object \n",
      " 55  ELEV                            25096 non-null  float64\n",
      " 56  CNTL_TWR                        25096 non-null  object \n",
      " 57  LATITUDE_APT                    25096 non-null  float64\n",
      " 58  LONGITUDE_APT                   25096 non-null  float64\n",
      "dtypes: float64(8), int32(1), int64(5), object(45)\n",
      "memory usage: 16.8+ MB\n"
     ]
    }
   ],
   "source": [
    "aids_apt.info()"
   ]
  },
  {
   "cell_type": "code",
   "execution_count": 92,
   "id": "72af0303-9b8b-43a6-abb2-96f0bdda36a8",
   "metadata": {},
   "outputs": [],
   "source": [
    "stations = aids_apt['airport_id'].tolist()\n",
    "date_apt = aids_apt['accident_date'].to_list()\n",
    "time_apt = aids_apt['accident_time'].to_list()"
   ]
  },
  {
   "cell_type": "code",
   "execution_count": 93,
   "id": "ac63934f-1abb-46c7-b907-1678ab075016",
   "metadata": {},
   "outputs": [],
   "source": [
    "# create a list and write to txt file to use for scraping weather data\n",
    "stations2 = []\n",
    "for station in stations:\n",
    "    if station is not np.nan:\n",
    "        stations2.append(station)\n",
    "\n",
    "fix_time = []\n",
    "for x in time_apt:\n",
    "    x = str(x)\n",
    "    if len(x) == 4:\n",
    "        fix_time.append(x[0:2])\n",
    "    else:\n",
    "        x = '0' + x[0]\n",
    "        fix_time.append(x)\n",
    "        \n",
    "dt_accident = list(zip(date_apt, fix_time))\n",
    "date_time_accident = []\n",
    "for x in dt_accident:\n",
    "    date_time_accident.append(str(x[0]) + str(x[1]))\n",
    "    \n",
    "station_datetime = list(zip(stations2, date_time_accident))"
   ]
  },
  {
   "cell_type": "code",
   "execution_count": 94,
   "id": "b7e6da1c-ed44-495e-b6a1-3530c3ef09f2",
   "metadata": {},
   "outputs": [],
   "source": [
    "with open(r'stations', 'w') as fp:\n",
    "    for x in station_datetime:\n",
    "        fp.write(f\"{x}\\n\")"
   ]
  },
  {
   "cell_type": "markdown",
   "id": "c2c64a4f-ebb9-4d20-9bbe-56b1decd8acf",
   "metadata": {},
   "source": [
    "## 9. Join weather data to AIDS data"
   ]
  },
  {
   "cell_type": "code",
   "execution_count": 95,
   "id": "a6e60938-362c-4e6a-bfdb-b30a83bcff68",
   "metadata": {},
   "outputs": [],
   "source": [
    "# read in weather text file\n",
    "with open(r'C:\\Users\\htwal\\PycharmProjects\\FAA_DC\\wx_file.txt', 'r') as f:\n",
    "    wx_list = []\n",
    "    for row in f:\n",
    "        wx_list.append(row)"
   ]
  },
  {
   "cell_type": "code",
   "execution_count": 96,
   "id": "ce43c19b-6b4b-4a27-947e-04b2dc5b0ea2",
   "metadata": {},
   "outputs": [],
   "source": [
    "# drop out all lines to only keep weather lines\n",
    "clean_wx = []\n",
    "for line in wx_list:\n",
    "    match1 = re.match('#DEBUG', line)\n",
    "    match2 = re.match('station', line)\n",
    "    if not match1 and not match2:\n",
    "        clean_wx.append([line])\n",
    "    "
   ]
  },
  {
   "cell_type": "code",
   "execution_count": 97,
   "id": "4072bda0-fbb5-4e23-9bd2-a744c115a1d4",
   "metadata": {},
   "outputs": [],
   "source": [
    "# all lines are read in as solid string, need to split them up\n",
    "clean_wx_2 = []\n",
    "for line in clean_wx:\n",
    "    broken_string = line[0].split(',')\n",
    "    clean_wx_2.append(broken_string)\n"
   ]
  },
  {
   "cell_type": "code",
   "execution_count": 98,
   "id": "4b605f28-2f7c-4ea0-8301-b8fae22ec0cf",
   "metadata": {},
   "outputs": [],
   "source": [
    "# need to fix the date time column\n",
    "for x in clean_wx_2:\n",
    "    date = datetime.strptime(x[1], '%Y-%m-%d %H:%M')\n",
    "    x[1] = date.strftime('%Y%m%d%H')\n"
   ]
  },
  {
   "cell_type": "code",
   "execution_count": 99,
   "id": "b3a325fe-6a3e-4a16-a716-1d5336e78e13",
   "metadata": {},
   "outputs": [],
   "source": [
    "# now adjust the date time in dataframe to match format of list\n",
    "def fix_time(x):\n",
    "    x = str(x)\n",
    "    if len(x) < 4:\n",
    "        x = '0' + x\n",
    "    return x\n",
    "\n",
    "aids_apt['accident_time'] = aids_apt['accident_time'].apply(fix_time) \n",
    "aids_apt['accident_date_time'] = aids_apt['accident_date'].astype(str) + aids_apt['accident_time'].astype(str)\n",
    "    "
   ]
  },
  {
   "cell_type": "code",
   "execution_count": 100,
   "id": "9e17e1e0-929f-444b-b26d-6ec2feeeba9e",
   "metadata": {},
   "outputs": [],
   "source": [
    "aids_apt['accident_date_time'] = aids_apt['accident_date_time'].str.replace(r'(?<=\\d{10})\\d{2}', '')"
   ]
  },
  {
   "cell_type": "code",
   "execution_count": 101,
   "id": "44a70ef3-73fc-4755-8a1b-31defa7cb4ba",
   "metadata": {},
   "outputs": [],
   "source": [
    "# create the key in aids_apt\n",
    "aids_apt['key'] = aids_apt['ICAO'] + aids_apt['accident_date_time']"
   ]
  },
  {
   "cell_type": "code",
   "execution_count": 102,
   "id": "7d1dc37f-04dc-47ad-a573-5c83fbbe2479",
   "metadata": {},
   "outputs": [],
   "source": [
    "# create a join key bu combining airport id to date time\n",
    "for x in clean_wx_2:\n",
    "    key = x[0] + x[1]\n",
    "    x.append(key)"
   ]
  },
  {
   "cell_type": "code",
   "execution_count": 103,
   "id": "a44e4110-fe21-4f91-86d1-bd09b825eeb8",
   "metadata": {},
   "outputs": [],
   "source": [
    "# put the clean_wx_2 into data frame:\n",
    "wx = pd.DataFrame(clean_wx_2, columns=['station','valid','lon','lat','tmpf','dwpf','relh','drct','sknt',\n",
    "                                       'p01i','alti','mslp','vsby','gust','skyc1','skyc2','skyc3','skyc4',\n",
    "                                       'skyl1','skyl2','skyl3','skyl4','wxcodes','ice_accretion_1hr',\n",
    "                                       'ice_accretion_3hr','ice_accretion_6hr','peak_wind_gust',\n",
    "                                       'peak_wind_drct','peak_wind_time','feel','metar','snowdepth', 'key'])"
   ]
  },
  {
   "cell_type": "code",
   "execution_count": 104,
   "id": "a4e8976f-49f5-49a8-9a80-4c48f58fc179",
   "metadata": {},
   "outputs": [
    {
     "data": {
      "text/plain": [
       "(257839, 33)"
      ]
     },
     "execution_count": 104,
     "metadata": {},
     "output_type": "execute_result"
    }
   ],
   "source": [
    "wx.shape"
   ]
  },
  {
   "cell_type": "code",
   "execution_count": 105,
   "id": "c06312c2-a60f-4b32-8f86-f36b8364139a",
   "metadata": {},
   "outputs": [
    {
     "data": {
      "text/plain": [
       "(210392, 33)"
      ]
     },
     "execution_count": 105,
     "metadata": {},
     "output_type": "execute_result"
    }
   ],
   "source": [
    "wx = wx.drop_duplicates()\n",
    "wx = wx.drop_duplicates(subset='key')\n",
    "wx.shape"
   ]
  },
  {
   "cell_type": "code",
   "execution_count": 106,
   "id": "ffd2be81-4877-4a5f-8011-590cc1e61913",
   "metadata": {},
   "outputs": [],
   "source": [
    "wx = wx.replace('M', np.nan).replace('   ', np.nan)"
   ]
  },
  {
   "cell_type": "code",
   "execution_count": 107,
   "id": "8a82b79e-f71f-4014-b431-b8a8b8cefe3c",
   "metadata": {},
   "outputs": [],
   "source": [
    "wx_col = list(wx.columns)\n",
    "wx_names = ['wx_' + x for x in wx_col if x != 'key']\n",
    "wx_rename = dict(zip(wx_col, wx_names))\n",
    "wx = wx.rename(wx_rename, axis=1)"
   ]
  },
  {
   "cell_type": "code",
   "execution_count": 108,
   "id": "aa0e2d5c-c613-4c9d-8461-440938b7d237",
   "metadata": {},
   "outputs": [
    {
     "data": {
      "text/plain": [
       "0                  NaN\n",
       "1        PIE1980051912\n",
       "2        RDU1981022217\n",
       "3                  NaN\n",
       "4        MKK1981012809\n",
       "             ...      \n",
       "37069    SOW2008053011\n",
       "37070    DUT2008040916\n",
       "37071    30M2008081317\n",
       "37072    87I2008082215\n",
       "37073              NaN\n",
       "Name: key, Length: 37074, dtype: object"
      ]
     },
     "execution_count": 108,
     "metadata": {},
     "output_type": "execute_result"
    }
   ],
   "source": [
    "aids_apt['key']"
   ]
  },
  {
   "cell_type": "code",
   "execution_count": 109,
   "id": "bc34a118-eb5a-476f-8c60-e0ff0b8e29bd",
   "metadata": {},
   "outputs": [],
   "source": [
    "# join data_wx\n",
    "aids_apt_wx = aids_apt.merge(wx, on='key', how='left')"
   ]
  },
  {
   "cell_type": "code",
   "execution_count": 111,
   "id": "bc7f6a09-1880-4518-8698-4b403aa82482",
   "metadata": {},
   "outputs": [],
   "source": [
    "# final column drop\n",
    "aids_apt_wx = aids_apt_wx.drop(['matches_x', 'matches_y', 'apt_mash', 'airport_id', 'key', 'wx_p01i', 'wx_mslp', 'wx_gust', 'wx_skyc2',\n",
    "                                 'wx_skyc3', 'wx_skyc4', 'wx_wxcodes', 'wx_skyl1', 'wx_skyl2', 'wx_skyl3', 'wx_skyl4', 'wx_ice_accretion_1hr', 'wx_ice_accretion_3hr',\n",
    "                                 'wx_ice_accretion_6hr', 'wx_peak_wind_gust', 'wx_peak_wind_drct', 'wx_peak_wind_time'], axis=1)"
   ]
  },
  {
   "cell_type": "code",
   "execution_count": 113,
   "id": "f20838a1-f234-4774-8f5d-1581b35f46db",
   "metadata": {},
   "outputs": [],
   "source": [
    "# final column rename\n",
    "aids_apt_wx = aids_apt_wx.rename(str.lower, axis=1)"
   ]
  },
  {
   "cell_type": "code",
   "execution_count": 114,
   "id": "55bcbd7e-8779-4923-b3ff-0b737a5c1976",
   "metadata": {},
   "outputs": [
    {
     "name": "stdout",
     "output_type": "stream",
     "text": [
      "<class 'pandas.core.frame.DataFrame'>\n",
      "Int64Index: 37074 entries, 0 to 37073\n",
      "Data columns (total 71 columns):\n",
      " #   Column                          Non-Null Count  Dtype  \n",
      "---  ------                          --------------  -----  \n",
      " 0   control_number                  37074 non-null  object \n",
      " 1   event_type                      37074 non-null  object \n",
      " 2   far_part_num                    37074 non-null  object \n",
      " 3   accident_date                   37074 non-null  int64  \n",
      " 4   accident_time                   37074 non-null  object \n",
      " 5   weight_class_code               37074 non-null  object \n",
      " 6   num_engines                     37074 non-null  float64\n",
      " 7   aircraft_make                   37074 non-null  object \n",
      " 8   aircraft_model                  37074 non-null  object \n",
      " 9   aircraft_group                  37074 non-null  object \n",
      " 10  airframe_hrs                    37074 non-null  float64\n",
      " 11  engine_make                     37074 non-null  object \n",
      " 12  accident_region                 37047 non-null  object \n",
      " 13  accident_state                  37074 non-null  object \n",
      " 14  accident_city                   37074 non-null  object \n",
      " 15  airport_name                    37074 non-null  object \n",
      " 16  runway_number                   37074 non-null  int64  \n",
      " 17  latitude                        10115 non-null  object \n",
      " 18  longitude                       10108 non-null  object \n",
      " 19  sky_condition                   26916 non-null  object \n",
      " 20  cloud_ceiling                   9527 non-null   object \n",
      " 21  visibility                      26282 non-null  object \n",
      " 22  visibility_restriction          7607 non-null   object \n",
      " 23  runway_condition                17991 non-null  object \n",
      " 24  wind_direction                  10454 non-null  object \n",
      " 25  wind_speed_mph                  9544 non-null   object \n",
      " 26  gust_indicator_flag             5750 non-null   object \n",
      " 27  gust_speed_mph                  169 non-null    object \n",
      " 28  total_fatalities                37074 non-null  int64  \n",
      " 29  injuries                        37074 non-null  int64  \n",
      " 30  flt_hrs_in_model                37074 non-null  float64\n",
      " 31  90_day_hrs                      37074 non-null  float64\n",
      " 32  total_pilot_hrs                 37074 non-null  float64\n",
      " 33  damage_code                     37074 non-null  object \n",
      " 34  pilot_certificate               37074 non-null  object \n",
      " 35  pilot_rating                    37074 non-null  object \n",
      " 36  primary_cause                   37074 non-null  object \n",
      " 37  contributing_factor             37074 non-null  object \n",
      " 38  accident_type                   37039 non-null  object \n",
      " 39  flight_phase                    37074 non-null  object \n",
      " 40  general_cause                   37074 non-null  object \n",
      " 41  primary_flight_type_txt         37074 non-null  object \n",
      " 42  second_flight_type              37074 non-null  object \n",
      " 43  primary_flight_condition_txt    37074 non-null  object \n",
      " 44  secondary_flying_condition_txt  37074 non-null  object \n",
      " 45  light_condition_text            36491 non-null  object \n",
      " 46  wing_info_txt                   37074 non-null  object \n",
      " 47  accident_at_apt                 37074 non-null  int64  \n",
      " 48  icao                            25096 non-null  object \n",
      " 49  county_name_apt                 25096 non-null  object \n",
      " 50  apt_owner_type                  25096 non-null  object \n",
      " 51  elev                            25096 non-null  float64\n",
      " 52  cntl_twr                        25096 non-null  object \n",
      " 53  latitude_apt                    25096 non-null  float64\n",
      " 54  longitude_apt                   25096 non-null  float64\n",
      " 55  accident_date_time              37074 non-null  object \n",
      " 56  wx_station                      6993 non-null   object \n",
      " 57  wx_valid                        6993 non-null   object \n",
      " 58  wx_lon                          6993 non-null   object \n",
      " 59  wx_lat                          6993 non-null   object \n",
      " 60  wx_tmpf                         6531 non-null   object \n",
      " 61  wx_dwpf                         6498 non-null   object \n",
      " 62  wx_relh                         6499 non-null   object \n",
      " 63  wx_drct                         6586 non-null   object \n",
      " 64  wx_sknt                         6749 non-null   object \n",
      " 65  wx_alti                         6718 non-null   object \n",
      " 66  wx_vsby                         6725 non-null   object \n",
      " 67  wx_skyc1                        6315 non-null   object \n",
      " 68  wx_feel                         6492 non-null   object \n",
      " 69  wx_metar                        6963 non-null   object \n",
      " 70  wx_snowdepth                    6993 non-null   object \n",
      "dtypes: float64(8), int64(5), object(58)\n",
      "memory usage: 20.4+ MB\n"
     ]
    }
   ],
   "source": [
    "aids_apt_wx.info()"
   ]
  },
  {
   "cell_type": "code",
   "execution_count": 116,
   "id": "45570ef9-d460-49d5-b684-3410f4fc48bb",
   "metadata": {},
   "outputs": [],
   "source": [
    "aids_apt_wx.to_csv('AIDS_clean.csv')"
   ]
  }
 ],
 "metadata": {
  "kernelspec": {
   "display_name": "Python 3 (ipykernel)",
   "language": "python",
   "name": "python3"
  },
  "language_info": {
   "codemirror_mode": {
    "name": "ipython",
    "version": 3
   },
   "file_extension": ".py",
   "mimetype": "text/x-python",
   "name": "python",
   "nbconvert_exporter": "python",
   "pygments_lexer": "ipython3",
   "version": "3.9.12"
  }
 },
 "nbformat": 4,
 "nbformat_minor": 5
}
